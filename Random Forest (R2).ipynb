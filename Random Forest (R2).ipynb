{
 "cells": [
  {
   "cell_type": "markdown",
   "metadata": {},
   "source": [
    "### Import Libraries"
   ]
  },
  {
   "cell_type": "code",
   "execution_count": 3,
   "metadata": {},
   "outputs": [],
   "source": [
    "import matplotlib.pyplot as plt\n",
    "import numpy as np\n",
    "import pandas as pd\n",
    "import seaborn as sns\n",
    "from sklearn import tree, ensemble, model_selection, metrics\n",
    "from sklearn.ensemble import RandomForestRegressor\n",
    "from sklearn.metrics import mean_squared_error, mean_absolute_error, r2_score\n",
    "from sklearn.model_selection import GridSearchCV\n",
    "from sklearn.preprocessing import LabelEncoder"
   ]
  },
  {
   "cell_type": "markdown",
   "metadata": {},
   "source": [
    "### Import Datasets"
   ]
  },
  {
   "cell_type": "code",
   "execution_count": 4,
   "metadata": {},
   "outputs": [
    {
     "name": "stdout",
     "output_type": "stream",
     "text": [
      "Index(['district', 'street', 'propertyType', 'remaining_lease', 'school',\n",
      "       'hawkercentre', 'supermarkets', 'Bus Stops Nearby', 'crime_number',\n",
      "       'latitude', 'longitude', 'floor_area_sqm', 'floor_range', 'sentiment'],\n",
      "      dtype='object')\n",
      "Index(['district', 'street', 'propertyType', 'remaining_lease', 'school',\n",
      "       'hawkercentre', 'supermarkets', 'Bus Stops Nearby', 'crime_number',\n",
      "       'latitude', 'longitude', 'floor_area_sqm', 'floor_range', 'sentiment'],\n",
      "      dtype='object')\n",
      "Index(['price'], dtype='object')\n",
      "Index(['price'], dtype='object')\n"
     ]
    }
   ],
   "source": [
    "# features\n",
    "x_train = pd.read_csv('training_set.csv')\n",
    "x_test = pd.read_csv('testing_set.csv')\n",
    "\n",
    "# labels\n",
    "y_train = pd.read_csv('training_labels.csv')\n",
    "y_test = pd.read_csv('testing_labels.csv')\n",
    "\n",
    "print(x_train.columns)\n",
    "print(x_test.columns)\n",
    "print(y_train.columns)\n",
    "print(y_test.columns)"
   ]
  },
  {
   "cell_type": "code",
   "execution_count": 5,
   "metadata": {},
   "outputs": [
    {
     "data": {
      "text/html": [
       "<div>\n",
       "<style scoped>\n",
       "    .dataframe tbody tr th:only-of-type {\n",
       "        vertical-align: middle;\n",
       "    }\n",
       "\n",
       "    .dataframe tbody tr th {\n",
       "        vertical-align: top;\n",
       "    }\n",
       "\n",
       "    .dataframe thead th {\n",
       "        text-align: right;\n",
       "    }\n",
       "</style>\n",
       "<table border=\"1\" class=\"dataframe\">\n",
       "  <thead>\n",
       "    <tr style=\"text-align: right;\">\n",
       "      <th></th>\n",
       "      <th>district</th>\n",
       "      <th>street</th>\n",
       "      <th>propertyType</th>\n",
       "      <th>remaining_lease</th>\n",
       "      <th>school</th>\n",
       "      <th>hawkercentre</th>\n",
       "      <th>supermarkets</th>\n",
       "      <th>Bus Stops Nearby</th>\n",
       "      <th>crime_number</th>\n",
       "      <th>latitude</th>\n",
       "      <th>longitude</th>\n",
       "      <th>floor_area_sqm</th>\n",
       "      <th>floor_range</th>\n",
       "      <th>sentiment</th>\n",
       "    </tr>\n",
       "  </thead>\n",
       "  <tbody>\n",
       "    <tr>\n",
       "      <td>0</td>\n",
       "      <td>3</td>\n",
       "      <td>1664</td>\n",
       "      <td>6</td>\n",
       "      <td>78.75</td>\n",
       "      <td>24</td>\n",
       "      <td>16</td>\n",
       "      <td>7</td>\n",
       "      <td>0</td>\n",
       "      <td>193.285714</td>\n",
       "      <td>1.295995</td>\n",
       "      <td>103.803682</td>\n",
       "      <td>110.0</td>\n",
       "      <td>5</td>\n",
       "      <td>0.123678</td>\n",
       "    </tr>\n",
       "    <tr>\n",
       "      <td>1</td>\n",
       "      <td>18</td>\n",
       "      <td>1374</td>\n",
       "      <td>4</td>\n",
       "      <td>71.92</td>\n",
       "      <td>26</td>\n",
       "      <td>4</td>\n",
       "      <td>14</td>\n",
       "      <td>0</td>\n",
       "      <td>163.857143</td>\n",
       "      <td>1.373332</td>\n",
       "      <td>103.956317</td>\n",
       "      <td>122.0</td>\n",
       "      <td>1</td>\n",
       "      <td>0.077219</td>\n",
       "    </tr>\n",
       "  </tbody>\n",
       "</table>\n",
       "</div>"
      ],
      "text/plain": [
       "   district  street  propertyType  remaining_lease  school  hawkercentre  \\\n",
       "0         3    1664             6            78.75      24            16   \n",
       "1        18    1374             4            71.92      26             4   \n",
       "\n",
       "   supermarkets  Bus Stops Nearby  crime_number  latitude   longitude  \\\n",
       "0             7                 0    193.285714  1.295995  103.803682   \n",
       "1            14                 0    163.857143  1.373332  103.956317   \n",
       "\n",
       "   floor_area_sqm  floor_range  sentiment  \n",
       "0           110.0            5   0.123678  \n",
       "1           122.0            1   0.077219  "
      ]
     },
     "execution_count": 5,
     "metadata": {},
     "output_type": "execute_result"
    }
   ],
   "source": [
    "x_train.head(2)"
   ]
  },
  {
   "cell_type": "markdown",
   "metadata": {},
   "source": [
    "### Summary of Results\n",
    "*Goal: Low RMSE, Low MAE, R2 close to 1, High Adjusted R2*, Low MAPE, Low SMAPE\n",
    "    \n",
    "Conclusions:\n",
    "1. Random Forest better performance\n",
    "2. For random forest, using Grid Search helped us in finding better estimators to improve the model slightly\n",
    "3. For decision tree, using Grid Search did not help us to find better estimators (dk why? and the adjusted r2 for the model w grid search is negaative? huh? confused)"
   ]
  },
  {
   "cell_type": "markdown",
   "metadata": {},
   "source": [
    "### Define function for MAPE and sMAPE"
   ]
  },
  {
   "cell_type": "code",
   "execution_count": 6,
   "metadata": {},
   "outputs": [],
   "source": [
    "def percentage_error(actual, predicted):\n",
    "    res = np.empty(actual.shape)\n",
    "    for j in range(actual.shape[0]):\n",
    "        if actual[j] != 0:\n",
    "            res[j] = (actual[j] - predicted[j]) / actual[j]\n",
    "        else:\n",
    "            res[j] = predicted[j] / np.mean(actual)\n",
    "    return res\n",
    "\n",
    "def adjusted_r2(r2, n, p):\n",
    "    result = 1-((1-r2)*((n-1)/(n-p-1)))\n",
    "    return result\n",
    "\n",
    "def mean_absolute_percentage_error(y_true, y_pred): \n",
    "    return np.mean(np.abs(percentage_error(np.asarray(y_true), np.asarray(y_pred)))) * 100\n",
    "\n",
    "def smape(y_true, y_pred):\n",
    "    return 1/len(y_true) * np.sum(2 * np.abs(y_pred.squeeze()-y_true.squeeze()) / (np.abs(y_true.squeeze()) + np.abs(y_pred.squeeze()))*100)"
   ]
  },
  {
   "cell_type": "markdown",
   "metadata": {},
   "source": [
    "### Decision Tree"
   ]
  },
  {
   "cell_type": "markdown",
   "metadata": {},
   "source": [
    "#### (a) Basic Decision Tree with Default Parameters"
   ]
  },
  {
   "cell_type": "code",
   "execution_count": 11,
   "metadata": {},
   "outputs": [
    {
     "name": "stdout",
     "output_type": "stream",
     "text": [
      "[525800. 717200. 400000. ... 285000. 250000. 415000.]\n",
      "training mse: 576926634.9985657, testing mse: 147097340252.58655\n",
      "training rmse: 24019.297137896556, testing rmse: 383532.71079868346\n",
      "training mae: 3730.394368578732, testing mae: 76545.03377033497\n",
      "training R2: 0.999787644783206, testing R2: 0.9315697086310817\n",
      "training adjusted R2: 0.999787643018271, testing adjusted R2: 0.9315645892855764\n",
      "training mape: 0.4807289647660674, testing mape: 6.374305047160059\n",
      "training smape: 0.4787405746558657, testing smape: 6.269135922750572\n"
     ]
    },
    {
     "data": {
      "text/plain": [
       "<matplotlib.collections.PathCollection at 0x11eb1ff90>"
      ]
     },
     "execution_count": 11,
     "metadata": {},
     "output_type": "execute_result"
    },
    {
     "data": {
      "image/png": "[encoded data removed]",
      "text/plain": [
       "<Figure size 432x288 with 1 Axes>"
      ]
     },
     "metadata": {
      "needs_background": "light"
     },
     "output_type": "display_data"
    }
   ],
   "source": [
    "# train model\n",
    "dt = tree.DecisionTreeRegressor()\n",
    "dt.fit(x_train,y_train)\n",
    "\n",
    "# make predictions on test set\n",
    "y_pred_train = dt.predict(x_train)\n",
    "y_pred = dt.predict(x_test)\n",
    "print(y_pred)\n",
    "\n",
    "# compute metrics \n",
    "train_mse = mean_squared_error(y_train,y_pred_train)\n",
    "test_mse = mean_squared_error(y_test,y_pred)\n",
    "\n",
    "train_mae = mean_absolute_error(y_train,y_pred_train)\n",
    "test_mae = mean_absolute_error(y_test,y_pred)\n",
    "\n",
    "train_r_squared = r2_score(y_train,y_pred_train)\n",
    "test_r_squared = r2_score(y_test,y_pred)\n",
    "\n",
    "# original_train_adj_r_squared = 1 - (1-r2_score(y_train,y_pred_train))*(len(y_pred_train)-1)/(len(y_pred_train)-y_train.shape[1]-1)\n",
    "# original_test_adj_r_squared = 1 - (1-r2_score(y_test,y_pred))*(len(y_pred)-1)/(len(y_pred)-y_test.shape[1]-1)\n",
    "n1 = len(y_pred_train)\n",
    "p1 = y_train.shape[1]\n",
    "train_adj_r_squared = adjusted_r2(train_r_squared, n1, p1)\n",
    "n2 = len(y_pred)\n",
    "p2 = y_test.shape[1]\n",
    "test_adj_r_squared = adjusted_r2(test_r_squared, n2, p2)\n",
    "# X=training label\n",
    "# y=predicted i.e. y_pred_train\n",
    "# 1 - (1-model.score(X, y))*(len(y)-1)/(len(y)-X.shape[1]-1)\n",
    "\n",
    "train_mape = mean_absolute_percentage_error(y_train,y_pred_train)\n",
    "test_mape = mean_absolute_percentage_error(y_test,y_pred)\n",
    "\n",
    "train_smape = smape(y_train,y_pred_train)\n",
    "test_smape = smape(y_test,y_pred)\n",
    "\n",
    "print(\"training mse: {}, testing mse: {}\".format(train_mse, test_mse))\n",
    "print(\"training rmse: {}, testing rmse: {}\".format(np.sqrt(train_mse), np.sqrt(test_mse)))\n",
    "print(\"training mae: {}, testing mae: {}\".format(train_mae, test_mae))\n",
    "print(\"training R2: {}, testing R2: {}\".format(train_r_squared, test_r_squared))\n",
    "print(\"training adjusted R2: {}, testing adjusted R2: {}\".format(train_adj_r_squared, test_adj_r_squared))\n",
    "print(\"training mape: {}, testing mape: {}\".format(train_mape, test_mape))\n",
    "print(\"training smape: {}, testing smape: {}\".format(train_smape, test_smape))\n",
    "\n",
    "# residual plot\n",
    "x_axis = y_pred_train.squeeze() # fitted value\n",
    "y_axis = y_pred_train.squeeze()- y_train.squeeze() # residual\n",
    "plt.scatter(x_axis,y_axis) "
   ]
  },
  {
   "cell_type": "code",
   "execution_count": 13,
   "metadata": {},
   "outputs": [
    {
     "data": {
      "text/plain": [
       "<matplotlib.axes._subplots.AxesSubplot at 0x11e7b8fd0>"
      ]
     },
     "execution_count": 13,
     "metadata": {},
     "output_type": "execute_result"
    },
    {
     "data": {
      "image/png": "[encoded data removed]",
      "text/plain": [
       "<Figure size 432x288 with 1 Axes>"
      ]
     },
     "metadata": {
      "needs_background": "light"
     },
     "output_type": "display_data"
    }
   ],
   "source": [
    "# vicki's residual plot: sns.residplot(y_pred_train.reshape(-1), y_train, lowess= True, color=\"g\")\n",
    "sns.residplot(x_axis, y_axis, lowess=True, color=\"g\")"
   ]
  },
  {
   "cell_type": "code",
   "execution_count": null,
   "metadata": {},
   "outputs": [],
   "source": [
    "dt.get_params(deep=True)"
   ]
  },
  {
   "cell_type": "markdown",
   "metadata": {},
   "source": [
    "#### (b) Decision Tree using Best Estimators from Grid Search\n",
    "- did 2 tests to kinda see which one better"
   ]
  },
  {
   "cell_type": "code",
   "execution_count": null,
   "metadata": {},
   "outputs": [],
   "source": [
    "# test 1: best parameter is 'max_leaf_nodes': [200,400,600,800], 'min_samples_split': [7,12,15,20]"
   ]
  },
  {
   "cell_type": "code",
   "execution_count": null,
   "metadata": {},
   "outputs": [],
   "source": [
    "params = {'max_features': [1,2,3,4,5], 'min_samples_split': [7,12,15,20,25]}\n",
    "gsearch_dt = GridSearchCV(tree.DecisionTreeRegressor(random_state=42), \n",
    "                          params, \n",
    "                          scoring = 'r2',\n",
    "                          verbose=1, \n",
    "                          cv=3, \n",
    "                          n_jobs=-1)\n",
    "gsearch_dt.fit(x_train, y_train)\n",
    "print('best score:', gsearch_dt.best_score_)\n",
    "print('best parameters: ', gsearch_dt.best_params_)\n",
    "print('best estimators: ', gsearch_dt.best_estimator_)"
   ]
  },
  {
   "cell_type": "code",
   "execution_count": null,
   "metadata": {},
   "outputs": [],
   "source": [
    "# make predictions on test set\n",
    "y_pred_train = gsearch_dt.predict(x_train)\n",
    "y_pred = gsearch_dt.predict(x_test)\n",
    "print(y_pred)\n",
    "\n",
    "# compute metrics \n",
    "train_mse = mean_squared_error(y_train,y_pred_train)\n",
    "test_mse = mean_squared_error(y_test,y_pred)\n",
    "\n",
    "train_mae = mean_absolute_error(y_train,y_pred_train)\n",
    "test_mae = mean_absolute_error(y_test,y_pred)\n",
    "\n",
    "train_r_squared = r2_score(y_train,y_pred_train)\n",
    "test_r_squared = r2_score(y_test,y_pred)\n",
    "\n",
    "train_adj_r_squared = 1 - (1-gsearch_dt.score(x_train, y_train))*(len(y_train)-1)/(len(y_train)-x_train.shape[1]-1)\n",
    "test_adj_r_squared = 1 - (1-gsearch_dt.score(x_test, y_test))*(len(y_test)-1)/(len(y_test)-x_test.shape[1]-1)\n",
    "\n",
    "train_mape = mean_absolute_percentage_error(y_train,y_pred_train)\n",
    "test_mape = mean_absolute_percentage_error(y_test,y_pred)\n",
    "\n",
    "train_smape = smape(y_train,y_pred_train)\n",
    "test_smape = smape(y_test,y_pred)\n",
    "\n",
    "print(\"training mse: {}, testing mse: {}\".format(train_mse, test_mse))\n",
    "print(\"training rmse: {}, testing rmse: {}\".format(np.sqrt(train_mse), np.sqrt(test_mse)))\n",
    "print(\"training mae: {}, testing mae: {}\".format(train_mae, test_mae))\n",
    "print(\"training R2: {}, testing R2: {}\".format(train_r_squared, test_r_squared))\n",
    "# print(\"training R2: {}, testing R2: {}\".format(dt.score(x_train, y_train), dt.score(x_test, y_test)))\n",
    "print(\"training adjusted R2: {}, testing adjusted R2: {}\".format(train_adj_r_squared, test_adj_r_squared))\n",
    "print(\"training mape: {}, testing mape: {}\".format(train_mape, test_mape))\n",
    "print(\"training smape: {}, testing smape: {}\".format(train_smape, test_smape))\n",
    "\n",
    "# residual plot\n",
    "x_axis = y_test.squeeze() # fitted value\n",
    "y_axis = y_test.squeeze()- y_pred.squeeze() # residual\n",
    "plt.scatter(x_axis,y_axis) \n",
    "\n",
    "# [350000. 368000. 370000. ... 443000. 700000. 330000.]\n",
    "# training mse: 6.082366888803413e-24, testing mse: 157758759744.53165\n",
    "# training rmse: 2.466245504568313e-12, testing rmse: 397188.5695038714\n",
    "# training mae: 1.3061783434841964e-14, testing mae: 78282.53707872861\n",
    "# training R2: 1.0, testing R2: 0.936556848348264\n",
    "# training adjusted R2: 1.0, testing adjusted R2: 0.9312662771703689\n",
    "# training mape: 4.610041212297163e-19, testing mape: 6.390628811775515\n",
    "# training smape: 4.610041212297164e-19, testing smape: 6.320467211747645"
   ]
  },
  {
   "cell_type": "code",
   "execution_count": null,
   "metadata": {},
   "outputs": [],
   "source": [
    "# test 2: best parameter is 'min_samples_split': [7,12,15,20,25]"
   ]
  },
  {
   "cell_type": "code",
   "execution_count": null,
   "metadata": {},
   "outputs": [],
   "source": [
    "params = {'min_samples_split': [7,12,15,20,25]}\n",
    "gsearch_dt = GridSearchCV(tree.DecisionTreeRegressor(random_state=42), \n",
    "                          params, \n",
    "                          scoring = 'r2',\n",
    "                          verbose=1, \n",
    "                          cv=3, \n",
    "                          n_jobs=-1)\n",
    "gsearch_dt.fit(x_train, y_train)\n",
    "print('best score:', gsearch_dt.best_score_)\n",
    "print('best parameters: ', gsearch_dt.best_params_)\n",
    "print('best estimators: ', gsearch_dt.best_estimator_)"
   ]
  },
  {
   "cell_type": "code",
   "execution_count": null,
   "metadata": {},
   "outputs": [],
   "source": [
    "# make predictions on test set\n",
    "y_pred_train = gsearch_dt.predict(x_train)\n",
    "y_pred = gsearch_dt.predict(x_test)\n",
    "print(y_pred)\n",
    "\n",
    "# compute metrics \n",
    "train_mse = mean_squared_error(y_train,y_pred_train)\n",
    "test_mse = mean_squared_error(y_test,y_pred)\n",
    "\n",
    "train_mae = mean_absolute_error(y_train,y_pred_train)\n",
    "test_mae = mean_absolute_error(y_test,y_pred)\n",
    "\n",
    "train_r_squared = r2_score(y_train,y_pred_train)\n",
    "test_r_squared = r2_score(y_test,y_pred)\n",
    "\n",
    "train_adj_r_squared = 1 - (1-gsearch_dt.score(x_train, y_train))*(len(y_train)-1)/(len(y_train)-x_train.shape[1]-1)\n",
    "test_adj_r_squared = 1 - (1-gsearch_dt.score(x_test, y_test))*(len(y_test)-1)/(len(y_test)-x_test.shape[1]-1)\n",
    "\n",
    "train_mape = mean_absolute_percentage_error(y_train,y_pred_train)\n",
    "test_mape = mean_absolute_percentage_error(y_test,y_pred)\n",
    "\n",
    "train_smape = smape(y_train,y_pred_train)\n",
    "test_smape = smape(y_test,y_pred)\n",
    "\n",
    "print(\"training mse: {}, testing mse: {}\".format(train_mse, test_mse))\n",
    "print(\"training rmse: {}, testing rmse: {}\".format(np.sqrt(train_mse), np.sqrt(test_mse)))\n",
    "print(\"training mae: {}, testing mae: {}\".format(train_mae, test_mae))\n",
    "print(\"training R2: {}, testing R2: {}\".format(train_r_squared, test_r_squared))\n",
    "# print(\"training R2: {}, testing R2: {}\".format(dt.score(x_train, y_train), dt.score(x_test, y_test)))\n",
    "print(\"training adjusted R2: {}, testing adjusted R2: {}\".format(train_adj_r_squared, test_adj_r_squared))\n",
    "print(\"training mape: {}, testing mape: {}\".format(train_mape, test_mape))\n",
    "print(\"training smape: {}, testing smape: {}\".format(train_smape, test_smape))\n",
    "\n",
    "# residual plot\n",
    "x_axis = y_test.squeeze() # fitted value\n",
    "y_axis = y_test.squeeze()- y_pred.squeeze() # residual\n",
    "plt.scatter(x_axis,y_axis) "
   ]
  },
  {
   "cell_type": "markdown",
   "metadata": {},
   "source": [
    "### Random Forest"
   ]
  },
  {
   "cell_type": "markdown",
   "metadata": {},
   "source": [
    "#### (a) Basic Random Forest with Default Parameters"
   ]
  },
  {
   "cell_type": "code",
   "execution_count": null,
   "metadata": {},
   "outputs": [],
   "source": [
    "# train model\n",
    "rforest = ensemble.RandomForestRegressor()\n",
    "rforest.fit(x_train,y_train)\n",
    "\n",
    "# make predictions on test set\n",
    "y_pred_train = rforest.predict(x_train)\n",
    "y_pred = rforest.predict(x_test)\n",
    "print(y_pred)\n",
    "\n",
    "# compute metrics \n",
    "train_mse = mean_squared_error(y_train,y_pred_train)\n",
    "test_mse = mean_squared_error(y_test,y_pred)\n",
    "\n",
    "train_mae = mean_absolute_error(y_train,y_pred_train)\n",
    "test_mae = mean_absolute_error(y_test,y_pred)\n",
    "\n",
    "train_r_squared = r2_score(y_train,y_pred_train)\n",
    "test_r_squared = r2_score(y_test,y_pred)\n",
    "\n",
    "train_adj_r_squared = 1 - (1-rforest.score(x_train, y_train))*(len(y_train)-1)/(len(y_train)-x_train.shape[1]-1)\n",
    "test_adj_r_squared = 1 - (1-rforest.score(x_test, y_test))*(len(y_test)-1)/(len(y_test)-x_test.shape[1]-1)\n",
    "\n",
    "train_mape = mean_absolute_percentage_error(y_train,y_pred_train)\n",
    "test_mape = mean_absolute_percentage_error(y_test,y_pred)\n",
    "\n",
    "train_smape = smape(y_train,y_pred_train)\n",
    "test_smape = smape(y_test,y_pred)\n",
    "\n",
    "print(\"training mse: {}, testing mse: {}\".format(train_mse, test_mse))\n",
    "print(\"training rmse: {}, testing rmse: {}\".format(np.sqrt(train_mse), np.sqrt(test_mse)))\n",
    "print(\"training mae: {}, testing mae: {}\".format(train_mae, test_mae))\n",
    "print(\"training R2: {}, testing R2: {}\".format(train_r_squared, test_r_squared))\n",
    "# print(\"training R2: {}, testing R2: {}\".format(dt.score(x_train, y_train), dt.score(x_test, y_test)))\n",
    "print(\"training adjusted R2: {}, testing adjusted R2: {}\".format(train_adj_r_squared, test_adj_r_squared))\n",
    "print(\"training mape: {}, testing mape: {}\".format(train_mape, test_mape))\n",
    "print(\"training smape: {}, testing smape: {}\".format(train_smape, test_smape))\n",
    "\n",
    "# residual plot\n",
    "x_axis = y_test.squeeze() # fitted value\n",
    "y_axis = y_test.squeeze()- y_pred.squeeze() # residual\n",
    "plt.scatter(x_axis,y_axis) "
   ]
  },
  {
   "cell_type": "code",
   "execution_count": null,
   "metadata": {},
   "outputs": [],
   "source": [
    "rforest.get_params(deep=True)"
   ]
  },
  {
   "cell_type": "markdown",
   "metadata": {},
   "source": [
    "#### (b) Random Forest using Best Estimators from Grid Search\n",
    "- did 2 tests to kinda see which one better"
   ]
  },
  {
   "cell_type": "code",
   "execution_count": null,
   "metadata": {},
   "outputs": [],
   "source": [
    "# test 1: best parameter is 150"
   ]
  },
  {
   "cell_type": "code",
   "execution_count": null,
   "metadata": {},
   "outputs": [],
   "source": [
    "params = {'n_estimators': [10,50,100,150]}\n",
    "grid_search_cv = GridSearchCV(ensemble.RandomForestRegressor(random_state=42), \n",
    "                              params, \n",
    "                              scoring = 'r2', \n",
    "                              verbose=1, \n",
    "                              cv=3,\n",
    "                              n_jobs = -1)\n",
    "grid_search_cv.fit(x_train, y_train)\n",
    "print('best score:', grid_search_cv.best_score_)\n",
    "print('best parameters: ', grid_search_cv.best_params_)\n",
    "print('best estimators: ', grid_search_cv.best_estimator_)"
   ]
  },
  {
   "cell_type": "code",
   "execution_count": null,
   "metadata": {},
   "outputs": [],
   "source": [
    "# make predictions on test set\n",
    "y_pred_train = grid_search_cv.predict(x_train)\n",
    "y_pred = grid_search_cv.predict(x_test)\n",
    "print(y_pred)\n",
    "\n",
    "# compute metrics \n",
    "train_mse = mean_squared_error(y_train,y_pred_train)\n",
    "test_mse = mean_squared_error(y_test,y_pred)\n",
    "\n",
    "train_mae = mean_absolute_error(y_train,y_pred_train)\n",
    "test_mae = mean_absolute_error(y_test,y_pred)\n",
    "\n",
    "train_r_squared = r2_score(y_train,y_pred_train)\n",
    "test_r_squared = r2_score(y_test,y_pred)\n",
    "\n",
    "train_adj_r_squared = 1 - (1-grid_search_cv.score(x_train, y_train))*(len(y_train)-1)/(len(y_train)-x_train.shape[1]-1)\n",
    "test_adj_r_squared = 1 - (1-grid_search_cv.score(x_test, y_test))*(len(y_test)-1)/(len(y_test)-x_test.shape[1]-1)\n",
    "\n",
    "train_mape = mean_absolute_percentage_error(y_train,y_pred_train)\n",
    "test_mape = mean_absolute_percentage_error(y_test,y_pred)\n",
    "\n",
    "train_smape = smape(y_train,y_pred_train)\n",
    "test_smape = smape(y_test,y_pred)\n",
    "\n",
    "print(\"training mse: {}, testing mse: {}\".format(train_mse, test_mse))\n",
    "print(\"training rmse: {}, testing rmse: {}\".format(np.sqrt(train_mse), np.sqrt(test_mse)))\n",
    "print(\"training mae: {}, testing mae: {}\".format(train_mae, test_mae))\n",
    "print(\"training R2: {}, testing R2: {}\".format(train_r_squared, test_r_squared))\n",
    "# print(\"training R2: {}, testing R2: {}\".format(dt.score(x_train, y_train), dt.score(x_test, y_test)))\n",
    "print(\"training adjusted R2: {}, testing adjusted R2: {}\".format(train_adj_r_squared, test_adj_r_squared))\n",
    "print(\"training mape: {}, testing mape: {}\".format(train_mape, test_mape))\n",
    "print(\"training smape: {}, testing smape: {}\".format(train_smape, test_smape))\n",
    "\n",
    "# residual plot\n",
    "x_axis = y_test.squeeze() # fitted value\n",
    "y_axis = y_test.squeeze()- y_pred.squeeze() # residual\n",
    "plt.scatter(x_axis,y_axis) "
   ]
  },
  {
   "cell_type": "code",
   "execution_count": null,
   "metadata": {},
   "outputs": [],
   "source": [
    "# test 2: best parameter is 150"
   ]
  },
  {
   "cell_type": "code",
   "execution_count": null,
   "metadata": {},
   "outputs": [],
   "source": [
    "params = {'n_estimators': [100,150,200,250]}\n",
    "grid_search_cv = GridSearchCV(ensemble.RandomForestRegressor(random_state=42), \n",
    "                              params, \n",
    "                              scoring = 'r2', \n",
    "                              verbose=1, \n",
    "                              cv=3,\n",
    "                              n_jobs = -1)\n",
    "grid_search_cv.fit(x_train, y_train)\n",
    "print('best score:', grid_search_cv.best_score_)\n",
    "print('best parameters: ', grid_search_cv.best_params_)\n",
    "print('best estimators: ', grid_search_cv.best_estimator_)"
   ]
  },
  {
   "cell_type": "code",
   "execution_count": null,
   "metadata": {},
   "outputs": [],
   "source": [
    "# make predictions on test set\n",
    "y_pred_train = grid_search_cv.predict(x_train)\n",
    "y_pred = grid_search_cv.predict(x_test)\n",
    "print(y_pred)\n",
    "\n",
    "# compute metrics \n",
    "train_mse = mean_squared_error(y_train,y_pred_train)\n",
    "test_mse = mean_squared_error(y_test,y_pred)\n",
    "\n",
    "train_mae = mean_absolute_error(y_train,y_pred_train)\n",
    "test_mae = mean_absolute_error(y_test,y_pred)\n",
    "\n",
    "train_r_squared = r2_score(y_train,y_pred_train)\n",
    "test_r_squared = r2_score(y_test,y_pred)\n",
    "\n",
    "train_adj_r_squared = 1 - (1-grid_search_cv.score(x_train, y_train))*(len(y_train)-1)/(len(y_train)-x_train.shape[1]-1)\n",
    "test_adj_r_squared = 1 - (1-grid_search_cv.score(x_test, y_test))*(len(y_test)-1)/(len(y_test)-x_test.shape[1]-1)\n",
    "\n",
    "train_mape = mean_absolute_percentage_error(y_train,y_pred_train)\n",
    "test_mape = mean_absolute_percentage_error(y_test,y_pred)\n",
    "\n",
    "train_smape = smape(y_train,y_pred_train)\n",
    "test_smape = smape(y_test,y_pred)\n",
    "\n",
    "print(\"training mse: {}, testing mse: {}\".format(train_mse, test_mse))\n",
    "print(\"training rmse: {}, testing rmse: {}\".format(np.sqrt(train_mse), np.sqrt(test_mse)))\n",
    "print(\"training mae: {}, testing mae: {}\".format(train_mae, test_mae))\n",
    "print(\"training R2: {}, testing R2: {}\".format(train_r_squared, test_r_squared))\n",
    "# print(\"training R2: {}, testing R2: {}\".format(dt.score(x_train, y_train), dt.score(x_test, y_test)))\n",
    "print(\"training adjusted R2: {}, testing adjusted R2: {}\".format(train_adj_r_squared, test_adj_r_squared))\n",
    "print(\"training smape: {}, testing smape: {}\".format(train_smape, test_smape))\n",
    "\n",
    "# residual plot\n",
    "x_axis = y_test.squeeze() # fitted value\n",
    "y_axis = y_test.squeeze()- y_pred.squeeze() # residual\n",
    "plt.scatter(x_axis,y_axis) "
   ]
  },
  {
   "cell_type": "code",
   "execution_count": null,
   "metadata": {},
   "outputs": [],
   "source": [
    "params = {'n_estimators': [10]}\n",
    "grid_search_cv = GridSearchCV(ensemble.RandomForestRegressor(random_state=42), \n",
    "                              params, \n",
    "                              scoring = 'r2', \n",
    "                              verbose=1, \n",
    "                              cv=3,\n",
    "                              n_jobs = -1)\n",
    "grid_search_cv.fit(x_train, y_train)\n",
    "print('best score:', grid_search_cv.best_score_)\n",
    "print('best parameters: ', grid_search_cv.best_params_)\n",
    "print('best estimators: ', grid_search_cv.best_estimator_)"
   ]
  },
  {
   "cell_type": "code",
   "execution_count": null,
   "metadata": {},
   "outputs": [],
   "source": [
    "# make predictions on test set\n",
    "y_pred_train = grid_search_cv.predict(x_train)\n",
    "y_pred = grid_search_cv.predict(x_test)\n",
    "print(y_pred)\n",
    "\n",
    "# compute metrics \n",
    "train_mse = mean_squared_error(y_train,y_pred_train)\n",
    "test_mse = mean_squared_error(y_test,y_pred)\n",
    "\n",
    "train_mae = mean_absolute_error(y_train,y_pred_train)\n",
    "test_mae = mean_absolute_error(y_test,y_pred)\n",
    "\n",
    "train_r_squared = r2_score(y_train,y_pred_train)\n",
    "test_r_squared = r2_score(y_test,y_pred)\n",
    "\n",
    "train_adj_r_squared = 1 - (1-grid_search_cv.score(x_train, y_train))*(len(y_train)-1)/(len(y_train)-x_train.shape[1]-1)\n",
    "test_adj_r_squared = 1 - (1-grid_search_cv.score(x_test, y_test))*(len(y_test)-1)/(len(y_test)-x_test.shape[1]-1)\n",
    "\n",
    "train_mape = mean_absolute_percentage_error(y_train,y_pred_train)\n",
    "test_mape = mean_absolute_percentage_error(y_test,y_pred)\n",
    "\n",
    "train_smape = smape(y_train,y_pred_train)\n",
    "test_smape = smape(y_test,y_pred)\n",
    "\n",
    "print(\"training mse: {}, testing mse: {}\".format(train_mse, test_mse))\n",
    "print(\"training rmse: {}, testing rmse: {}\".format(np.sqrt(train_mse), np.sqrt(test_mse)))\n",
    "print(\"training mae: {}, testing mae: {}\".format(train_mae, test_mae))\n",
    "print(\"training R2: {}, testing R2: {}\".format(train_r_squared, test_r_squared))\n",
    "# print(\"training R2: {}, testing R2: {}\".format(dt.score(x_train, y_train), dt.score(x_test, y_test)))\n",
    "print(\"training adjusted R2: {}, testing adjusted R2: {}\".format(train_adj_r_squared, test_adj_r_squared))\n",
    "print(\"training smape: {}, testing smape: {}\".format(train_smape, test_smape))\n",
    "\n",
    "# residual plot\n",
    "x_axis = y_test.squeeze() # fitted value\n",
    "y_axis = y_test.squeeze()- y_pred.squeeze() # residual\n",
    "plt.scatter(x_axis,y_axis) "
   ]
  },
  {
   "cell_type": "code",
   "execution_count": null,
   "metadata": {},
   "outputs": [],
   "source": [
    "rforest.get_params(deep=True)"
   ]
  }
 ],
 "metadata": {
  "kernelspec": {
   "display_name": "Python 3",
   "language": "python",
   "name": "python3"
  },
  "language_info": {
   "codemirror_mode": {
    "name": "ipython",
    "version": 3
   },
   "file_extension": ".py",
   "mimetype": "text/x-python",
   "name": "python",
   "nbconvert_exporter": "python",
   "pygments_lexer": "ipython3",
   "version": "3.7.4"
  }
 },
 "nbformat": 4,
 "nbformat_minor": 2
}
