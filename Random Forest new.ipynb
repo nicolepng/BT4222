{
 "cells": [
  {
   "cell_type": "markdown",
   "metadata": {},
   "source": [
    "### Import Libraries"
   ]
  },
  {
   "cell_type": "code",
   "execution_count": 1,
   "metadata": {},
   "outputs": [],
   "source": [
    "import matplotlib.pyplot as plt\n",
    "import numpy as np\n",
    "import pandas as pd\n",
    "import seaborn as sns\n",
    "from sklearn import tree, ensemble, model_selection, metrics\n",
    "from sklearn.ensemble import RandomForestRegressor\n",
    "from sklearn.metrics import mean_squared_error, mean_absolute_error, r2_score\n",
    "from sklearn.model_selection import GridSearchCV\n",
    "from sklearn.preprocessing import LabelEncoder"
   ]
  },
  {
   "cell_type": "markdown",
   "metadata": {},
   "source": [
    "### Import Datasets"
   ]
  },
  {
   "cell_type": "code",
   "execution_count": 2,
   "metadata": {},
   "outputs": [
    {
     "name": "stdout",
     "output_type": "stream",
     "text": [
      "Index(['district', 'street', 'propertyType', 'remaining_lease', 'school',\n",
      "       'hawkercentre', 'supermarkets', 'Bus Stops Nearby', 'crime_number',\n",
      "       'latitude', 'longitude', 'floor_area_sqm', 'floor_range', 'sentiment'],\n",
      "      dtype='object')\n",
      "Index(['district', 'street', 'propertyType', 'remaining_lease', 'school',\n",
      "       'hawkercentre', 'supermarkets', 'Bus Stops Nearby', 'crime_number',\n",
      "       'latitude', 'longitude', 'floor_area_sqm', 'floor_range', 'sentiment'],\n",
      "      dtype='object')\n",
      "Index(['price'], dtype='object')\n",
      "Index(['price'], dtype='object')\n"
     ]
    }
   ],
   "source": [
    "# features\n",
    "x_train = pd.read_csv('training_set.csv')\n",
    "x_test = pd.read_csv('testing_set.csv')\n",
    "\n",
    "# labels\n",
    "y_train = pd.read_csv('training_labels.csv')\n",
    "y_test = pd.read_csv('testing_labels.csv')\n",
    "\n",
    "print(x_train.columns)\n",
    "print(x_test.columns)\n",
    "print(y_train.columns)\n",
    "print(y_test.columns)"
   ]
  },
  {
   "cell_type": "code",
   "execution_count": 3,
   "metadata": {},
   "outputs": [
    {
     "data": {
      "text/html": [
       "<div>\n",
       "<style scoped>\n",
       "    .dataframe tbody tr th:only-of-type {\n",
       "        vertical-align: middle;\n",
       "    }\n",
       "\n",
       "    .dataframe tbody tr th {\n",
       "        vertical-align: top;\n",
       "    }\n",
       "\n",
       "    .dataframe thead th {\n",
       "        text-align: right;\n",
       "    }\n",
       "</style>\n",
       "<table border=\"1\" class=\"dataframe\">\n",
       "  <thead>\n",
       "    <tr style=\"text-align: right;\">\n",
       "      <th></th>\n",
       "      <th>district</th>\n",
       "      <th>street</th>\n",
       "      <th>propertyType</th>\n",
       "      <th>remaining_lease</th>\n",
       "      <th>school</th>\n",
       "      <th>hawkercentre</th>\n",
       "      <th>supermarkets</th>\n",
       "      <th>Bus Stops Nearby</th>\n",
       "      <th>crime_number</th>\n",
       "      <th>latitude</th>\n",
       "      <th>longitude</th>\n",
       "      <th>floor_area_sqm</th>\n",
       "      <th>floor_range</th>\n",
       "      <th>sentiment</th>\n",
       "    </tr>\n",
       "  </thead>\n",
       "  <tbody>\n",
       "    <tr>\n",
       "      <td>0</td>\n",
       "      <td>3</td>\n",
       "      <td>1664</td>\n",
       "      <td>6</td>\n",
       "      <td>78.75</td>\n",
       "      <td>24</td>\n",
       "      <td>16</td>\n",
       "      <td>7</td>\n",
       "      <td>0</td>\n",
       "      <td>193.285714</td>\n",
       "      <td>1.295995</td>\n",
       "      <td>103.803682</td>\n",
       "      <td>110.0</td>\n",
       "      <td>5</td>\n",
       "      <td>0.123678</td>\n",
       "    </tr>\n",
       "    <tr>\n",
       "      <td>1</td>\n",
       "      <td>18</td>\n",
       "      <td>1374</td>\n",
       "      <td>4</td>\n",
       "      <td>71.92</td>\n",
       "      <td>26</td>\n",
       "      <td>4</td>\n",
       "      <td>14</td>\n",
       "      <td>0</td>\n",
       "      <td>163.857143</td>\n",
       "      <td>1.373332</td>\n",
       "      <td>103.956317</td>\n",
       "      <td>122.0</td>\n",
       "      <td>1</td>\n",
       "      <td>0.077219</td>\n",
       "    </tr>\n",
       "  </tbody>\n",
       "</table>\n",
       "</div>"
      ],
      "text/plain": [
       "   district  street  propertyType  remaining_lease  school  hawkercentre  \\\n",
       "0         3    1664             6            78.75      24            16   \n",
       "1        18    1374             4            71.92      26             4   \n",
       "\n",
       "   supermarkets  Bus Stops Nearby  crime_number  latitude   longitude  \\\n",
       "0             7                 0    193.285714  1.295995  103.803682   \n",
       "1            14                 0    163.857143  1.373332  103.956317   \n",
       "\n",
       "   floor_area_sqm  floor_range  sentiment  \n",
       "0           110.0            5   0.123678  \n",
       "1           122.0            1   0.077219  "
      ]
     },
     "execution_count": 3,
     "metadata": {},
     "output_type": "execute_result"
    }
   ],
   "source": [
    "x_train.head(2)"
   ]
  },
  {
   "cell_type": "markdown",
   "metadata": {},
   "source": [
    "### Summary of Results\n",
    "*Goal: Low RMSE, Low MAE, R2 close to 1, High Adjusted R2*, Low MAPE, Low SMAPE\n",
    "    \n",
    "Conclusions:\n",
    "1. Random Forest better performance\n",
    "2. For random forest, using Grid Search helped us in finding better estimators to improve the model slightly\n",
    "3. For decision tree, using Grid Search did not help us to find better estimators (dk why? and the adjusted r2 for the model w grid search is negaative? huh? confused)"
   ]
  },
  {
   "cell_type": "markdown",
   "metadata": {},
   "source": [
    "### Define function for MAPE and sMAPE"
   ]
  },
  {
   "cell_type": "code",
   "execution_count": 4,
   "metadata": {},
   "outputs": [],
   "source": [
    "def percentage_error(actual, predicted):\n",
    "    res = np.empty(actual.shape)\n",
    "    for j in range(actual.shape[0]):\n",
    "        if actual[j] != 0:\n",
    "            res[j] = (actual[j] - predicted[j]) / actual[j]\n",
    "        else:\n",
    "            res[j] = predicted[j] / np.mean(actual)\n",
    "    return res\n",
    "\n",
    "def adjusted_r2(r2, n, p):\n",
    "    result = 1-((1-r2)*((n-1)/(n-p-1)))\n",
    "    return result\n",
    "\n",
    "def mean_absolute_percentage_error(y_true, y_pred): \n",
    "    return np.mean(np.abs(percentage_error(np.asarray(y_true), np.asarray(y_pred)))) * 100\n",
    "\n",
    "def smape(y_true, y_pred):\n",
    "    return 1/len(y_true) * np.sum(2 * np.abs(y_pred.squeeze()-y_true.squeeze()) / (np.abs(y_true.squeeze()) + np.abs(y_pred.squeeze()))*100)"
   ]
  },
  {
   "cell_type": "markdown",
   "metadata": {},
   "source": [
    "### Decision Tree"
   ]
  },
  {
   "cell_type": "markdown",
   "metadata": {},
   "source": [
    "#### (a) Basic Decision Tree with Default Parameters"
   ]
  },
  {
   "cell_type": "code",
   "execution_count": 5,
   "metadata": {},
   "outputs": [
    {
     "name": "stdout",
     "output_type": "stream",
     "text": [
      "[525800. 717200. 400000. ... 285000. 237000. 415000.]\n",
      "training mse: 576926634.9985657, testing mse: 182289559347.27423\n",
      "training rmse: 24019.297137896556, testing rmse: 426953.81406807253\n",
      "training mae: 3730.394368578732, testing mae: 77941.05185641066\n",
      "training R2: 0.999787644783206, testing R2: 0.9151981426841171\n",
      "training adjusted R2: 0.999787643018271, testing adjusted R2: 0.9151917985637225\n",
      "training mape: 0.4807289647660674, testing mape: 6.364360910778973\n",
      "training smape: 0.4787405746558657, testing smape: 6.253174881579065\n"
     ]
    },
    {
     "data": {
      "text/plain": [
       "<matplotlib.collections.PathCollection at 0x1134e35d0>"
      ]
     },
     "execution_count": 5,
     "metadata": {},
     "output_type": "execute_result"
    },
    {
     "data": {
      "image/png": "[encoded data removed]",
      "text/plain": [
       "<Figure size 432x288 with 1 Axes>"
      ]
     },
     "metadata": {
      "needs_background": "light"
     },
     "output_type": "display_data"
    }
   ],
   "source": [
    "# train model\n",
    "dt = tree.DecisionTreeRegressor()\n",
    "dt.fit(x_train,y_train)\n",
    "\n",
    "# make predictions on test set\n",
    "y_pred_train = dt.predict(x_train)\n",
    "y_pred = dt.predict(x_test)\n",
    "print(y_pred)\n",
    "\n",
    "# compute metrics \n",
    "train_mse = mean_squared_error(y_train,y_pred_train)\n",
    "test_mse = mean_squared_error(y_test,y_pred)\n",
    "\n",
    "train_mae = mean_absolute_error(y_train,y_pred_train)\n",
    "test_mae = mean_absolute_error(y_test,y_pred)\n",
    "\n",
    "train_r_squared = r2_score(y_train,y_pred_train)\n",
    "test_r_squared = r2_score(y_test,y_pred)\n",
    "\n",
    "# original_train_adj_r_squared = 1 - (1-r2_score(y_train,y_pred_train))*(len(y_pred_train)-1)/(len(y_pred_train)-y_train.shape[1]-1)\n",
    "# original_test_adj_r_squared = 1 - (1-r2_score(y_test,y_pred))*(len(y_pred)-1)/(len(y_pred)-y_test.shape[1]-1)\n",
    "n1 = len(y_pred_train)\n",
    "p1 = y_train.shape[1]\n",
    "train_adj_r_squared = adjusted_r2(train_r_squared, n1, p1)\n",
    "n2 = len(y_pred)\n",
    "p2 = y_test.shape[1]\n",
    "test_adj_r_squared = adjusted_r2(test_r_squared, n2, p2)\n",
    "# X=training label\n",
    "# y=predicted i.e. y_pred_train\n",
    "# 1 - (1-model.score(X, y))*(len(y)-1)/(len(y)-X.shape[1]-1)\n",
    "\n",
    "train_mape = mean_absolute_percentage_error(y_train,y_pred_train)\n",
    "test_mape = mean_absolute_percentage_error(y_test,y_pred)\n",
    "\n",
    "train_smape = smape(y_train,y_pred_train)\n",
    "test_smape = smape(y_test,y_pred)\n",
    "\n",
    "print(\"training mse: {}, testing mse: {}\".format(train_mse, test_mse))\n",
    "print(\"training rmse: {}, testing rmse: {}\".format(np.sqrt(train_mse), np.sqrt(test_mse)))\n",
    "print(\"training mae: {}, testing mae: {}\".format(train_mae, test_mae))\n",
    "print(\"training R2: {}, testing R2: {}\".format(train_r_squared, test_r_squared))\n",
    "print(\"training adjusted R2: {}, testing adjusted R2: {}\".format(train_adj_r_squared, test_adj_r_squared))\n",
    "print(\"training mape: {}, testing mape: {}\".format(train_mape, test_mape))\n",
    "print(\"training smape: {}, testing smape: {}\".format(train_smape, test_smape))\n",
    "\n",
    "# residual plot\n",
    "x_axis = y_pred_train.squeeze() # fitted value\n",
    "y_axis = y_pred_train.squeeze()- y_train.squeeze() # residual\n",
    "plt.scatter(x_axis,y_axis) "
   ]
  },
  {
   "cell_type": "code",
   "execution_count": 6,
   "metadata": {},
   "outputs": [
    {
     "data": {
      "text/plain": [
       "<matplotlib.axes._subplots.AxesSubplot at 0x11f442bd0>"
      ]
     },
     "execution_count": 6,
     "metadata": {},
     "output_type": "execute_result"
    },
    {
     "data": {
      "image/png": "[encoded data removed]",
      "text/plain": [
       "<Figure size 432x288 with 1 Axes>"
      ]
     },
     "metadata": {
      "needs_background": "light"
     },
     "output_type": "display_data"
    }
   ],
   "source": [
    "# vicki's residual plot: sns.residplot(y_pred_train.reshape(-1), y_train, lowess= True, color=\"g\")\n",
    "sns.residplot(x_axis, y_axis, lowess=True, color=\"g\")"
   ]
  },
  {
   "cell_type": "code",
   "execution_count": 7,
   "metadata": {},
   "outputs": [
    {
     "data": {
      "text/plain": [
       "{'criterion': 'mse',\n",
       " 'max_depth': None,\n",
       " 'max_features': None,\n",
       " 'max_leaf_nodes': None,\n",
       " 'min_impurity_decrease': 0.0,\n",
       " 'min_impurity_split': None,\n",
       " 'min_samples_leaf': 1,\n",
       " 'min_samples_split': 2,\n",
       " 'min_weight_fraction_leaf': 0.0,\n",
       " 'presort': False,\n",
       " 'random_state': None,\n",
       " 'splitter': 'best'}"
      ]
     },
     "execution_count": 7,
     "metadata": {},
     "output_type": "execute_result"
    }
   ],
   "source": [
    "dt.get_params(deep=True)"
   ]
  },
  {
   "cell_type": "markdown",
   "metadata": {},
   "source": [
    "#### (b) Decision Tree using Best Estimators from Grid Search\n",
    "- did 2 tests to kinda see which one better"
   ]
  },
  {
   "cell_type": "code",
   "execution_count": 8,
   "metadata": {},
   "outputs": [],
   "source": [
    "# test 1: best parameter is 'max_leaf_nodes': [200,400,600,800], 'min_samples_split': [7,12,15,20]"
   ]
  },
  {
   "cell_type": "code",
   "execution_count": 9,
   "metadata": {},
   "outputs": [
    {
     "name": "stdout",
     "output_type": "stream",
     "text": [
      "Fitting 3 folds for each of 25 candidates, totalling 75 fits\n"
     ]
    },
    {
     "name": "stderr",
     "output_type": "stream",
     "text": [
      "[Parallel(n_jobs=-1)]: Using backend LokyBackend with 4 concurrent workers.\n",
      "[Parallel(n_jobs=-1)]: Done  42 tasks      | elapsed:    6.0s\n",
      "[Parallel(n_jobs=-1)]: Done  75 out of  75 | elapsed:    8.9s finished\n"
     ]
    },
    {
     "name": "stdout",
     "output_type": "stream",
     "text": [
      "best score: 0.8848076321043811\n",
      "best parameters:  {'max_features': 5, 'min_samples_split': 15}\n",
      "best estimators:  DecisionTreeRegressor(criterion='mse', max_depth=None, max_features=5,\n",
      "                      max_leaf_nodes=None, min_impurity_decrease=0.0,\n",
      "                      min_impurity_split=None, min_samples_leaf=1,\n",
      "                      min_samples_split=15, min_weight_fraction_leaf=0.0,\n",
      "                      presort=False, random_state=42, splitter='best')\n"
     ]
    }
   ],
   "source": [
    "params = {'max_features': [1,2,3,4,5], 'min_samples_split': [7,12,15,20,25]}\n",
    "gsearch_dt = GridSearchCV(tree.DecisionTreeRegressor(random_state=42), \n",
    "                          params, \n",
    "                          scoring = 'r2',\n",
    "                          verbose=1, \n",
    "                          cv=3, \n",
    "                          n_jobs=-1)\n",
    "gsearch_dt.fit(x_train, y_train)\n",
    "print('best score:', gsearch_dt.best_score_)\n",
    "print('best parameters: ', gsearch_dt.best_params_)\n",
    "print('best estimators: ', gsearch_dt.best_estimator_)"
   ]
  },
  {
   "cell_type": "code",
   "execution_count": 10,
   "metadata": {},
   "outputs": [
    {
     "name": "stdout",
     "output_type": "stream",
     "text": [
      "[580000.         669740.66666667 394285.71428571 ... 275636.36363636\n",
      " 245000.         369683.69230769]\n",
      "training mse: 111459740548.75154, testing mse: 150395190674.12054\n",
      "training rmse: 333855.8679261929, testing rmse: 387808.1879926216\n",
      "training mae: 64336.10415905163, testing mae: 90505.83470321858\n",
      "training R2: 0.9589738869170285, testing R2: 0.9300355349685996\n",
      "training adjusted R2: 0.9589735459391855, testing adjusted R2: 0.930030300849872\n",
      "training mape: 4.621055130865226, testing mape: 6.384209075510773\n",
      "training smape: 4.552921991034974, testing smape: 6.2550513574962245\n"
     ]
    },
    {
     "data": {
      "text/plain": [
       "<matplotlib.collections.PathCollection at 0x1221709d0>"
      ]
     },
     "execution_count": 10,
     "metadata": {},
     "output_type": "execute_result"
    },
    {
     "data": {
      "image/png": "[encoded data removed]",
      "text/plain": [
       "<Figure size 432x288 with 1 Axes>"
      ]
     },
     "metadata": {
      "needs_background": "light"
     },
     "output_type": "display_data"
    }
   ],
   "source": [
    "# make predictions on test set\n",
    "y_pred_train = gsearch_dt.predict(x_train)\n",
    "y_pred = gsearch_dt.predict(x_test)\n",
    "print(y_pred)\n",
    "\n",
    "# compute metrics \n",
    "train_mse = mean_squared_error(y_train,y_pred_train)\n",
    "test_mse = mean_squared_error(y_test,y_pred)\n",
    "\n",
    "train_mae = mean_absolute_error(y_train,y_pred_train)\n",
    "test_mae = mean_absolute_error(y_test,y_pred)\n",
    "\n",
    "train_r_squared = r2_score(y_train,y_pred_train)\n",
    "test_r_squared = r2_score(y_test,y_pred)\n",
    "\n",
    "# train_adj_r_squared = 1 - (1-gsearch_dt.score(x_train, y_train))*(len(y_train)-1)/(len(y_train)-x_train.shape[1]-1)\n",
    "# test_adj_r_squared = 1 - (1-gsearch_dt.score(x_test, y_test))*(len(y_test)-1)/(len(y_test)-x_test.shape[1]-1)\n",
    "n1 = len(y_pred_train)\n",
    "p1 = y_train.shape[1]\n",
    "train_adj_r_squared = adjusted_r2(train_r_squared, n1, p1)\n",
    "n2 = len(y_pred)\n",
    "p2 = y_test.shape[1]\n",
    "test_adj_r_squared = adjusted_r2(test_r_squared, n2, p2)\n",
    "\n",
    "train_mape = mean_absolute_percentage_error(y_train,y_pred_train)\n",
    "test_mape = mean_absolute_percentage_error(y_test,y_pred)\n",
    "\n",
    "train_smape = smape(y_train,y_pred_train)\n",
    "test_smape = smape(y_test,y_pred)\n",
    "\n",
    "print(\"training mse: {}, testing mse: {}\".format(train_mse, test_mse))\n",
    "print(\"training rmse: {}, testing rmse: {}\".format(np.sqrt(train_mse), np.sqrt(test_mse)))\n",
    "print(\"training mae: {}, testing mae: {}\".format(train_mae, test_mae))\n",
    "print(\"training R2: {}, testing R2: {}\".format(train_r_squared, test_r_squared))\n",
    "# print(\"training R2: {}, testing R2: {}\".format(dt.score(x_train, y_train), dt.score(x_test, y_test)))\n",
    "print(\"training adjusted R2: {}, testing adjusted R2: {}\".format(train_adj_r_squared, test_adj_r_squared))\n",
    "print(\"training mape: {}, testing mape: {}\".format(train_mape, test_mape))\n",
    "print(\"training smape: {}, testing smape: {}\".format(train_smape, test_smape))\n",
    "\n",
    "# residual plot\n",
    "x_axis = y_pred_train.squeeze() # fitted value\n",
    "y_axis = y_pred_train.squeeze()- y_train.squeeze() # residual\n",
    "plt.scatter(x_axis,y_axis) "
   ]
  },
  {
   "cell_type": "code",
   "execution_count": 11,
   "metadata": {},
   "outputs": [],
   "source": [
    "# test 2: best parameter is 'min_samples_split': [7,12,15,20,25]"
   ]
  },
  {
   "cell_type": "code",
   "execution_count": 12,
   "metadata": {},
   "outputs": [
    {
     "name": "stdout",
     "output_type": "stream",
     "text": [
      "Fitting 3 folds for each of 5 candidates, totalling 15 fits\n"
     ]
    },
    {
     "name": "stderr",
     "output_type": "stream",
     "text": [
      "[Parallel(n_jobs=-1)]: Using backend LokyBackend with 4 concurrent workers.\n",
      "[Parallel(n_jobs=-1)]: Done  15 out of  15 | elapsed:    3.5s finished\n"
     ]
    },
    {
     "name": "stdout",
     "output_type": "stream",
     "text": [
      "best score: 0.8843238543949316\n",
      "best parameters:  {'min_samples_split': 25}\n",
      "best estimators:  DecisionTreeRegressor(criterion='mse', max_depth=None, max_features=None,\n",
      "                      max_leaf_nodes=None, min_impurity_decrease=0.0,\n",
      "                      min_impurity_split=None, min_samples_leaf=1,\n",
      "                      min_samples_split=25, min_weight_fraction_leaf=0.0,\n",
      "                      presort=False, random_state=42, splitter='best')\n"
     ]
    }
   ],
   "source": [
    "params = {'min_samples_split': [7,12,15,20,25]}\n",
    "gsearch_dt = GridSearchCV(tree.DecisionTreeRegressor(random_state=42), \n",
    "                          params, \n",
    "                          scoring = 'r2',\n",
    "                          verbose=1, \n",
    "                          cv=3, \n",
    "                          n_jobs=-1)\n",
    "gsearch_dt.fit(x_train, y_train)\n",
    "print('best score:', gsearch_dt.best_score_)\n",
    "print('best parameters: ', gsearch_dt.best_params_)\n",
    "print('best estimators: ', gsearch_dt.best_estimator_)"
   ]
  },
  {
   "cell_type": "code",
   "execution_count": 13,
   "metadata": {},
   "outputs": [
    {
     "name": "stdout",
     "output_type": "stream",
     "text": [
      "[522440.         707111.11111111 386250.         ... 278863.63636364\n",
      " 261309.89473684 388111.        ]\n",
      "training mse: 103237466407.11078, testing mse: 155023130145.71698\n",
      "training rmse: 321305.8767080222, testing rmse: 393729.7679192126\n",
      "training mae: 63510.774434985295, testing mae: 88434.93175152308\n",
      "training R2: 0.9620003424522143, testing R2: 0.9278825983761686\n",
      "training adjusted R2: 0.9620000266279676, testing adjusted R2: 0.9278772031938821\n",
      "training mape: 4.64983042955152, testing mape: 6.2053590719897445\n",
      "training smape: 4.592870813856349, testing smape: 6.080733301088615\n"
     ]
    },
    {
     "data": {
      "text/plain": [
       "<matplotlib.collections.PathCollection at 0x122362990>"
      ]
     },
     "execution_count": 13,
     "metadata": {},
     "output_type": "execute_result"
    },
    {
     "data": {
      "image/png": "[encoded data removed]",
      "text/plain": [
       "<Figure size 432x288 with 1 Axes>"
      ]
     },
     "metadata": {
      "needs_background": "light"
     },
     "output_type": "display_data"
    }
   ],
   "source": [
    "# make predictions on test set\n",
    "y_pred_train = gsearch_dt.predict(x_train)\n",
    "y_pred = gsearch_dt.predict(x_test)\n",
    "print(y_pred)\n",
    "\n",
    "# compute metrics \n",
    "train_mse = mean_squared_error(y_train,y_pred_train)\n",
    "test_mse = mean_squared_error(y_test,y_pred)\n",
    "\n",
    "train_mae = mean_absolute_error(y_train,y_pred_train)\n",
    "test_mae = mean_absolute_error(y_test,y_pred)\n",
    "\n",
    "train_r_squared = r2_score(y_train,y_pred_train)\n",
    "test_r_squared = r2_score(y_test,y_pred)\n",
    "\n",
    "# train_adj_r_squared = 1 - (1-gsearch_dt.score(x_train, y_train))*(len(y_train)-1)/(len(y_train)-x_train.shape[1]-1)\n",
    "# test_adj_r_squared = 1 - (1-gsearch_dt.score(x_test, y_test))*(len(y_test)-1)/(len(y_test)-x_test.shape[1]-1)\n",
    "n1 = len(y_pred_train)\n",
    "p1 = y_train.shape[1]\n",
    "train_adj_r_squared = adjusted_r2(train_r_squared, n1, p1)\n",
    "n2 = len(y_pred)\n",
    "p2 = y_test.shape[1]\n",
    "test_adj_r_squared = adjusted_r2(test_r_squared, n2, p2)\n",
    "\n",
    "train_mape = mean_absolute_percentage_error(y_train,y_pred_train)\n",
    "test_mape = mean_absolute_percentage_error(y_test,y_pred)\n",
    "\n",
    "train_smape = smape(y_train,y_pred_train)\n",
    "test_smape = smape(y_test,y_pred)\n",
    "\n",
    "print(\"training mse: {}, testing mse: {}\".format(train_mse, test_mse))\n",
    "print(\"training rmse: {}, testing rmse: {}\".format(np.sqrt(train_mse), np.sqrt(test_mse)))\n",
    "print(\"training mae: {}, testing mae: {}\".format(train_mae, test_mae))\n",
    "print(\"training R2: {}, testing R2: {}\".format(train_r_squared, test_r_squared))\n",
    "# print(\"training R2: {}, testing R2: {}\".format(dt.score(x_train, y_train), dt.score(x_test, y_test)))\n",
    "print(\"training adjusted R2: {}, testing adjusted R2: {}\".format(train_adj_r_squared, test_adj_r_squared))\n",
    "print(\"training mape: {}, testing mape: {}\".format(train_mape, test_mape))\n",
    "print(\"training smape: {}, testing smape: {}\".format(train_smape, test_smape))\n",
    "\n",
    "# residual plot\n",
    "x_axis = y_pred_train.squeeze() # fitted value\n",
    "y_axis = y_pred_train.squeeze()- y_train.squeeze() # residual\n",
    "plt.scatter(x_axis,y_axis) "
   ]
  },
  {
   "cell_type": "markdown",
   "metadata": {},
   "source": [
    "### Random Forest"
   ]
  },
  {
   "cell_type": "markdown",
   "metadata": {},
   "source": [
    "#### (a) Basic Random Forest with Default Parameters"
   ]
  },
  {
   "cell_type": "code",
   "execution_count": 14,
   "metadata": {},
   "outputs": [
    {
     "name": "stderr",
     "output_type": "stream",
     "text": [
      "/Users/tohjiaxuan/opt/anaconda3/lib/python3.7/site-packages/sklearn/ensemble/forest.py:245: FutureWarning: The default value of n_estimators will change from 10 in version 0.20 to 100 in 0.22.\n",
      "  \"10 in version 0.20 to 100 in 0.22.\", FutureWarning)\n",
      "/Users/tohjiaxuan/opt/anaconda3/lib/python3.7/site-packages/ipykernel_launcher.py:3: DataConversionWarning: A column-vector y was passed when a 1d array was expected. Please change the shape of y to (n_samples,), for example using ravel().\n",
      "  This is separate from the ipykernel package so we can avoid doing imports until\n"
     ]
    },
    {
     "name": "stdout",
     "output_type": "stream",
     "text": [
      "[541500.  725488.8 395200.  ... 282000.  255800.  416500. ]\n",
      "training mse: 29961751986.119373, testing mse: 86766785365.89618\n",
      "training rmse: 173094.63303672755, testing rmse: 294562.0229525459\n",
      "training mae: 29799.325329231066, testing mae: 69866.83242496033\n",
      "training R2: 0.9889716751618596, testing R2: 0.95963573241\n",
      "training adjusted R2: 0.9889715835028129, testing adjusted R2: 0.9596327127146614\n",
      "training mape: 2.333325331147571, testing mape: 5.496226355953414\n",
      "training smape: 2.3013791657528193, testing smape: 5.353428214813264\n"
     ]
    },
    {
     "data": {
      "text/plain": [
       "<matplotlib.collections.PathCollection at 0x1227cd6d0>"
      ]
     },
     "execution_count": 14,
     "metadata": {},
     "output_type": "execute_result"
    },
    {
     "data": {
      "image/png": "[encoded data removed]",
      "text/plain": [
       "<Figure size 432x288 with 1 Axes>"
      ]
     },
     "metadata": {
      "needs_background": "light"
     },
     "output_type": "display_data"
    }
   ],
   "source": [
    "# train model\n",
    "rforest = ensemble.RandomForestRegressor()\n",
    "rforest.fit(x_train,y_train)\n",
    "\n",
    "# make predictions on test set\n",
    "y_pred_train = rforest.predict(x_train)\n",
    "y_pred = rforest.predict(x_test)\n",
    "print(y_pred)\n",
    "\n",
    "# compute metrics \n",
    "train_mse = mean_squared_error(y_train,y_pred_train)\n",
    "test_mse = mean_squared_error(y_test,y_pred)\n",
    "\n",
    "train_mae = mean_absolute_error(y_train,y_pred_train)\n",
    "test_mae = mean_absolute_error(y_test,y_pred)\n",
    "\n",
    "train_r_squared = r2_score(y_train,y_pred_train)\n",
    "test_r_squared = r2_score(y_test,y_pred)\n",
    "\n",
    "# train_adj_r_squared = 1 - (1-rforest.score(x_train, y_train))*(len(y_train)-1)/(len(y_train)-x_train.shape[1]-1)\n",
    "# test_adj_r_squared = 1 - (1-rforest.score(x_test, y_test))*(len(y_test)-1)/(len(y_test)-x_test.shape[1]-1)\n",
    "n1 = len(y_pred_train)\n",
    "p1 = y_train.shape[1]\n",
    "train_adj_r_squared = adjusted_r2(train_r_squared, n1, p1)\n",
    "n2 = len(y_pred)\n",
    "p2 = y_test.shape[1]\n",
    "test_adj_r_squared = adjusted_r2(test_r_squared, n2, p2)\n",
    "\n",
    "train_mape = mean_absolute_percentage_error(y_train,y_pred_train)\n",
    "test_mape = mean_absolute_percentage_error(y_test,y_pred)\n",
    "\n",
    "train_smape = smape(y_train,y_pred_train)\n",
    "test_smape = smape(y_test,y_pred)\n",
    "\n",
    "print(\"training mse: {}, testing mse: {}\".format(train_mse, test_mse))\n",
    "print(\"training rmse: {}, testing rmse: {}\".format(np.sqrt(train_mse), np.sqrt(test_mse)))\n",
    "print(\"training mae: {}, testing mae: {}\".format(train_mae, test_mae))\n",
    "print(\"training R2: {}, testing R2: {}\".format(train_r_squared, test_r_squared))\n",
    "# print(\"training R2: {}, testing R2: {}\".format(dt.score(x_train, y_train), dt.score(x_test, y_test)))\n",
    "print(\"training adjusted R2: {}, testing adjusted R2: {}\".format(train_adj_r_squared, test_adj_r_squared))\n",
    "print(\"training mape: {}, testing mape: {}\".format(train_mape, test_mape))\n",
    "print(\"training smape: {}, testing smape: {}\".format(train_smape, test_smape))\n",
    "\n",
    "# residual plot\n",
    "x_axis = y_pred_train.squeeze() # fitted value\n",
    "y_axis = y_pred_train.squeeze()- y_train.squeeze() # residual\n",
    "plt.scatter(x_axis,y_axis)  "
   ]
  },
  {
   "cell_type": "code",
   "execution_count": 15,
   "metadata": {},
   "outputs": [
    {
     "data": {
      "text/plain": [
       "{'bootstrap': True,\n",
       " 'criterion': 'mse',\n",
       " 'max_depth': None,\n",
       " 'max_features': 'auto',\n",
       " 'max_leaf_nodes': None,\n",
       " 'min_impurity_decrease': 0.0,\n",
       " 'min_impurity_split': None,\n",
       " 'min_samples_leaf': 1,\n",
       " 'min_samples_split': 2,\n",
       " 'min_weight_fraction_leaf': 0.0,\n",
       " 'n_estimators': 10,\n",
       " 'n_jobs': None,\n",
       " 'oob_score': False,\n",
       " 'random_state': None,\n",
       " 'verbose': 0,\n",
       " 'warm_start': False}"
      ]
     },
     "execution_count": 15,
     "metadata": {},
     "output_type": "execute_result"
    }
   ],
   "source": [
    "rforest.get_params(deep=True)"
   ]
  },
  {
   "cell_type": "markdown",
   "metadata": {},
   "source": [
    "#### (b) Random Forest using Best Estimators from Grid Search\n",
    "- did 2 tests to kinda see which one better"
   ]
  },
  {
   "cell_type": "code",
   "execution_count": 16,
   "metadata": {},
   "outputs": [],
   "source": [
    "# test 1: best parameter is 150"
   ]
  },
  {
   "cell_type": "code",
   "execution_count": 17,
   "metadata": {},
   "outputs": [
    {
     "name": "stdout",
     "output_type": "stream",
     "text": [
      "Fitting 3 folds for each of 4 candidates, totalling 12 fits\n"
     ]
    },
    {
     "name": "stderr",
     "output_type": "stream",
     "text": [
      "[Parallel(n_jobs=-1)]: Using backend LokyBackend with 4 concurrent workers.\n",
      "[Parallel(n_jobs=-1)]: Done  12 out of  12 | elapsed:  2.9min finished\n",
      "/Users/tohjiaxuan/opt/anaconda3/lib/python3.7/site-packages/sklearn/model_selection/_search.py:715: DataConversionWarning: A column-vector y was passed when a 1d array was expected. Please change the shape of y to (n_samples,), for example using ravel().\n",
      "  self.best_estimator_.fit(X, y, **fit_params)\n"
     ]
    },
    {
     "name": "stdout",
     "output_type": "stream",
     "text": [
      "best score: 0.9233411859502815\n",
      "best parameters:  {'n_estimators': 100}\n",
      "best estimators:  RandomForestRegressor(bootstrap=True, criterion='mse', max_depth=None,\n",
      "                      max_features='auto', max_leaf_nodes=None,\n",
      "                      min_impurity_decrease=0.0, min_impurity_split=None,\n",
      "                      min_samples_leaf=1, min_samples_split=2,\n",
      "                      min_weight_fraction_leaf=0.0, n_estimators=100,\n",
      "                      n_jobs=None, oob_score=False, random_state=42, verbose=0,\n",
      "                      warm_start=False)\n"
     ]
    }
   ],
   "source": [
    "params = {'n_estimators': [10,50,100,150]}\n",
    "grid_search_cv = GridSearchCV(ensemble.RandomForestRegressor(random_state=42), \n",
    "                              params, \n",
    "                              scoring = 'r2', \n",
    "                              verbose=1, \n",
    "                              cv=3,\n",
    "                              n_jobs = -1)\n",
    "grid_search_cv.fit(x_train, y_train)\n",
    "print('best score:', grid_search_cv.best_score_)\n",
    "print('best parameters: ', grid_search_cv.best_params_)\n",
    "print('best estimators: ', grid_search_cv.best_estimator_)"
   ]
  },
  {
   "cell_type": "code",
   "execution_count": 18,
   "metadata": {},
   "outputs": [
    {
     "name": "stdout",
     "output_type": "stream",
     "text": [
      "[537946.76       722812.32       393763.33333333 ... 283030.\n",
      " 251254.83333333 410475.        ]\n",
      "training mse: 25082927165.464275, testing mse: 77256677391.8895\n",
      "training rmse: 158375.90462398084, testing rmse: 277950.85427443736\n",
      "training mae: 27007.811368283885, testing mae: 65915.7266485403\n",
      "training R2: 0.9907674735175597, testing R2: 0.964059873991987\n",
      "training adjusted R2: 0.9907673967838229, testing adjusted R2: 0.9640571852715555\n",
      "training mape: 2.1596243092589127, testing mape: 5.271408744684814\n",
      "training smape: 2.1306012908875682, testing smape: 5.138643336486796\n"
     ]
    },
    {
     "data": {
      "text/plain": [
       "<matplotlib.collections.PathCollection at 0x122f474d0>"
      ]
     },
     "execution_count": 18,
     "metadata": {},
     "output_type": "execute_result"
    },
    {
     "data": {
      "image/png": "[encoded data removed]",
      "text/plain": [
       "<Figure size 432x288 with 1 Axes>"
      ]
     },
     "metadata": {
      "needs_background": "light"
     },
     "output_type": "display_data"
    }
   ],
   "source": [
    "# make predictions on test set\n",
    "y_pred_train = grid_search_cv.predict(x_train)\n",
    "y_pred = grid_search_cv.predict(x_test)\n",
    "print(y_pred)\n",
    "\n",
    "# compute metrics \n",
    "train_mse = mean_squared_error(y_train,y_pred_train)\n",
    "test_mse = mean_squared_error(y_test,y_pred)\n",
    "\n",
    "train_mae = mean_absolute_error(y_train,y_pred_train)\n",
    "test_mae = mean_absolute_error(y_test,y_pred)\n",
    "\n",
    "train_r_squared = r2_score(y_train,y_pred_train)\n",
    "test_r_squared = r2_score(y_test,y_pred)\n",
    "\n",
    "# train_adj_r_squared = 1 - (1-grid_search_cv.score(x_train, y_train))*(len(y_train)-1)/(len(y_train)-x_train.shape[1]-1)\n",
    "# test_adj_r_squared = 1 - (1-grid_search_cv.score(x_test, y_test))*(len(y_test)-1)/(len(y_test)-x_test.shape[1]-1)\n",
    "n1 = len(y_pred_train)\n",
    "p1 = y_train.shape[1]\n",
    "train_adj_r_squared = adjusted_r2(train_r_squared, n1, p1)\n",
    "n2 = len(y_pred)\n",
    "p2 = y_test.shape[1]\n",
    "test_adj_r_squared = adjusted_r2(test_r_squared, n2, p2)\n",
    "\n",
    "train_mape = mean_absolute_percentage_error(y_train,y_pred_train)\n",
    "test_mape = mean_absolute_percentage_error(y_test,y_pred)\n",
    "\n",
    "train_smape = smape(y_train,y_pred_train)\n",
    "test_smape = smape(y_test,y_pred)\n",
    "\n",
    "print(\"training mse: {}, testing mse: {}\".format(train_mse, test_mse))\n",
    "print(\"training rmse: {}, testing rmse: {}\".format(np.sqrt(train_mse), np.sqrt(test_mse)))\n",
    "print(\"training mae: {}, testing mae: {}\".format(train_mae, test_mae))\n",
    "print(\"training R2: {}, testing R2: {}\".format(train_r_squared, test_r_squared))\n",
    "# print(\"training R2: {}, testing R2: {}\".format(dt.score(x_train, y_train), dt.score(x_test, y_test)))\n",
    "print(\"training adjusted R2: {}, testing adjusted R2: {}\".format(train_adj_r_squared, test_adj_r_squared))\n",
    "print(\"training mape: {}, testing mape: {}\".format(train_mape, test_mape))\n",
    "print(\"training smape: {}, testing smape: {}\".format(train_smape, test_smape))\n",
    "\n",
    "# residual plot\n",
    "x_axis = y_pred_train.squeeze() # fitted value\n",
    "y_axis = y_pred_train.squeeze()- y_train.squeeze() # residual\n",
    "plt.scatter(x_axis,y_axis) "
   ]
  },
  {
   "cell_type": "code",
   "execution_count": 19,
   "metadata": {},
   "outputs": [],
   "source": [
    "# test 2: best parameter is 150"
   ]
  },
  {
   "cell_type": "code",
   "execution_count": 20,
   "metadata": {},
   "outputs": [
    {
     "name": "stdout",
     "output_type": "stream",
     "text": [
      "Fitting 3 folds for each of 4 candidates, totalling 12 fits\n"
     ]
    },
    {
     "name": "stderr",
     "output_type": "stream",
     "text": [
      "[Parallel(n_jobs=-1)]: Using backend LokyBackend with 4 concurrent workers.\n",
      "[Parallel(n_jobs=-1)]: Done  12 out of  12 | elapsed:  6.6min finished\n",
      "/Users/tohjiaxuan/opt/anaconda3/lib/python3.7/site-packages/sklearn/model_selection/_search.py:715: DataConversionWarning: A column-vector y was passed when a 1d array was expected. Please change the shape of y to (n_samples,), for example using ravel().\n",
      "  self.best_estimator_.fit(X, y, **fit_params)\n"
     ]
    },
    {
     "name": "stdout",
     "output_type": "stream",
     "text": [
      "best score: 0.9233411859502815\n",
      "best parameters:  {'n_estimators': 100}\n",
      "best estimators:  RandomForestRegressor(bootstrap=True, criterion='mse', max_depth=None,\n",
      "                      max_features='auto', max_leaf_nodes=None,\n",
      "                      min_impurity_decrease=0.0, min_impurity_split=None,\n",
      "                      min_samples_leaf=1, min_samples_split=2,\n",
      "                      min_weight_fraction_leaf=0.0, n_estimators=100,\n",
      "                      n_jobs=None, oob_score=False, random_state=42, verbose=0,\n",
      "                      warm_start=False)\n"
     ]
    }
   ],
   "source": [
    "params = {'n_estimators': [100,150,200,250]}\n",
    "grid_search_cv = GridSearchCV(ensemble.RandomForestRegressor(random_state=42), \n",
    "                              params, \n",
    "                              scoring = 'r2', \n",
    "                              verbose=1, \n",
    "                              cv=3,\n",
    "                              n_jobs = -1)\n",
    "grid_search_cv.fit(x_train, y_train)\n",
    "print('best score:', grid_search_cv.best_score_)\n",
    "print('best parameters: ', grid_search_cv.best_params_)\n",
    "print('best estimators: ', grid_search_cv.best_estimator_)"
   ]
  },
  {
   "cell_type": "code",
   "execution_count": 21,
   "metadata": {},
   "outputs": [
    {
     "name": "stdout",
     "output_type": "stream",
     "text": [
      "[537946.76       722812.32       393763.33333333 ... 283030.\n",
      " 251254.83333333 410475.        ]\n",
      "training mse: 25082927165.464275, testing mse: 77256677391.8895\n",
      "training rmse: 158375.90462398084, testing rmse: 277950.85427443736\n",
      "training mae: 27007.811368283885, testing mae: 65915.7266485403\n",
      "training R2: 0.9907674735175597, testing R2: 0.964059873991987\n",
      "training adjusted R2: 0.9907673967838229, testing adjusted R2: 0.9640571852715555\n",
      "training smape: 2.1306012908875682, testing smape: 5.138643336486796\n"
     ]
    },
    {
     "data": {
      "text/plain": [
       "<matplotlib.collections.PathCollection at 0x12129ab50>"
      ]
     },
     "execution_count": 21,
     "metadata": {},
     "output_type": "execute_result"
    },
    {
     "data": {
      "image/png": "[encoded data removed]",
      "text/plain": [
       "<Figure size 432x288 with 1 Axes>"
      ]
     },
     "metadata": {
      "needs_background": "light"
     },
     "output_type": "display_data"
    }
   ],
   "source": [
    "# make predictions on test set\n",
    "y_pred_train = grid_search_cv.predict(x_train)\n",
    "y_pred = grid_search_cv.predict(x_test)\n",
    "print(y_pred)\n",
    "\n",
    "# compute metrics \n",
    "train_mse = mean_squared_error(y_train,y_pred_train)\n",
    "test_mse = mean_squared_error(y_test,y_pred)\n",
    "\n",
    "train_mae = mean_absolute_error(y_train,y_pred_train)\n",
    "test_mae = mean_absolute_error(y_test,y_pred)\n",
    "\n",
    "train_r_squared = r2_score(y_train,y_pred_train)\n",
    "test_r_squared = r2_score(y_test,y_pred)\n",
    "\n",
    "# train_adj_r_squared = 1 - (1-grid_search_cv.score(x_train, y_train))*(len(y_train)-1)/(len(y_train)-x_train.shape[1]-1)\n",
    "# test_adj_r_squared = 1 - (1-grid_search_cv.score(x_test, y_test))*(len(y_test)-1)/(len(y_test)-x_test.shape[1]-1)\n",
    "n1 = len(y_pred_train)\n",
    "p1 = y_train.shape[1]\n",
    "train_adj_r_squared = adjusted_r2(train_r_squared, n1, p1)\n",
    "n2 = len(y_pred)\n",
    "p2 = y_test.shape[1]\n",
    "test_adj_r_squared = adjusted_r2(test_r_squared, n2, p2)\n",
    "\n",
    "train_mape = mean_absolute_percentage_error(y_train,y_pred_train)\n",
    "test_mape = mean_absolute_percentage_error(y_test,y_pred)\n",
    "\n",
    "train_smape = smape(y_train,y_pred_train)\n",
    "test_smape = smape(y_test,y_pred)\n",
    "\n",
    "print(\"training mse: {}, testing mse: {}\".format(train_mse, test_mse))\n",
    "print(\"training rmse: {}, testing rmse: {}\".format(np.sqrt(train_mse), np.sqrt(test_mse)))\n",
    "print(\"training mae: {}, testing mae: {}\".format(train_mae, test_mae))\n",
    "print(\"training R2: {}, testing R2: {}\".format(train_r_squared, test_r_squared))\n",
    "# print(\"training R2: {}, testing R2: {}\".format(dt.score(x_train, y_train), dt.score(x_test, y_test)))\n",
    "print(\"training adjusted R2: {}, testing adjusted R2: {}\".format(train_adj_r_squared, test_adj_r_squared))\n",
    "print(\"training smape: {}, testing smape: {}\".format(train_smape, test_smape))\n",
    "\n",
    "# residual plot\n",
    "x_axis = y_pred_train.squeeze() # fitted value\n",
    "y_axis = y_pred_train.squeeze()- y_train.squeeze() # residual\n",
    "plt.scatter(x_axis,y_axis) "
   ]
  },
  {
   "cell_type": "code",
   "execution_count": 22,
   "metadata": {},
   "outputs": [
    {
     "name": "stdout",
     "output_type": "stream",
     "text": [
      "Fitting 3 folds for each of 1 candidates, totalling 3 fits\n"
     ]
    },
    {
     "name": "stderr",
     "output_type": "stream",
     "text": [
      "[Parallel(n_jobs=-1)]: Using backend LokyBackend with 4 concurrent workers.\n",
      "[Parallel(n_jobs=-1)]: Done   3 out of   3 | elapsed:    5.2s finished\n",
      "/Users/tohjiaxuan/opt/anaconda3/lib/python3.7/site-packages/sklearn/model_selection/_search.py:715: DataConversionWarning: A column-vector y was passed when a 1d array was expected. Please change the shape of y to (n_samples,), for example using ravel().\n",
      "  self.best_estimator_.fit(X, y, **fit_params)\n"
     ]
    },
    {
     "name": "stdout",
     "output_type": "stream",
     "text": [
      "best score: 0.9182204952068366\n",
      "best parameters:  {'n_estimators': 10}\n",
      "best estimators:  RandomForestRegressor(bootstrap=True, criterion='mse', max_depth=None,\n",
      "                      max_features='auto', max_leaf_nodes=None,\n",
      "                      min_impurity_decrease=0.0, min_impurity_split=None,\n",
      "                      min_samples_leaf=1, min_samples_split=2,\n",
      "                      min_weight_fraction_leaf=0.0, n_estimators=10,\n",
      "                      n_jobs=None, oob_score=False, random_state=42, verbose=0,\n",
      "                      warm_start=False)\n"
     ]
    }
   ],
   "source": [
    "params = {'n_estimators': [10]}\n",
    "grid_search_cv = GridSearchCV(ensemble.RandomForestRegressor(random_state=42), \n",
    "                              params, \n",
    "                              scoring = 'r2', \n",
    "                              verbose=1, \n",
    "                              cv=3,\n",
    "                              n_jobs = -1)\n",
    "grid_search_cv.fit(x_train, y_train)\n",
    "print('best score:', grid_search_cv.best_score_)\n",
    "print('best parameters: ', grid_search_cv.best_params_)\n",
    "print('best estimators: ', grid_search_cv.best_estimator_)"
   ]
  },
  {
   "cell_type": "code",
   "execution_count": 23,
   "metadata": {},
   "outputs": [
    {
     "name": "stdout",
     "output_type": "stream",
     "text": [
      "[552000.  725177.6 395450.  ... 283500.  254800.  409000. ]\n",
      "training mse: 41259516393.954895, testing mse: 80926631711.95708\n",
      "training rmse: 203124.38650727022, testing rmse: 284476.0652708011\n",
      "training mae: 30095.87021744233, testing mae: 68749.48269844061\n",
      "training R2: 0.9848131928443999, testing R2: 0.9623525960561548\n",
      "training adjusted R2: 0.9848130666232117, testing adjusted R2: 0.9623497796123794\n",
      "training smape: 2.310368088585477, testing smape: 5.3482007620886725\n"
     ]
    },
    {
     "data": {
      "text/plain": [
       "<matplotlib.collections.PathCollection at 0x1243c0150>"
      ]
     },
     "execution_count": 23,
     "metadata": {},
     "output_type": "execute_result"
    },
    {
     "data": {
      "image/png": "[encoded data removed]",
      "text/plain": [
       "<Figure size 432x288 with 1 Axes>"
      ]
     },
     "metadata": {
      "needs_background": "light"
     },
     "output_type": "display_data"
    }
   ],
   "source": [
    "# make predictions on test set\n",
    "y_pred_train = grid_search_cv.predict(x_train)\n",
    "y_pred = grid_search_cv.predict(x_test)\n",
    "print(y_pred)\n",
    "\n",
    "# compute metrics \n",
    "train_mse = mean_squared_error(y_train,y_pred_train)\n",
    "test_mse = mean_squared_error(y_test,y_pred)\n",
    "\n",
    "train_mae = mean_absolute_error(y_train,y_pred_train)\n",
    "test_mae = mean_absolute_error(y_test,y_pred)\n",
    "\n",
    "train_r_squared = r2_score(y_train,y_pred_train)\n",
    "test_r_squared = r2_score(y_test,y_pred)\n",
    "\n",
    "# train_adj_r_squared = 1 - (1-grid_search_cv.score(x_train, y_train))*(len(y_train)-1)/(len(y_train)-x_train.shape[1]-1)\n",
    "# test_adj_r_squared = 1 - (1-grid_search_cv.score(x_test, y_test))*(len(y_test)-1)/(len(y_test)-x_test.shape[1]-1)\n",
    "n1 = len(y_pred_train)\n",
    "p1 = y_train.shape[1]\n",
    "train_adj_r_squared = adjusted_r2(train_r_squared, n1, p1)\n",
    "n2 = len(y_pred)\n",
    "p2 = y_test.shape[1]\n",
    "test_adj_r_squared = adjusted_r2(test_r_squared, n2, p2)\n",
    "\n",
    "train_mape = mean_absolute_percentage_error(y_train,y_pred_train)\n",
    "test_mape = mean_absolute_percentage_error(y_test,y_pred)\n",
    "\n",
    "train_smape = smape(y_train,y_pred_train)\n",
    "test_smape = smape(y_test,y_pred)\n",
    "\n",
    "print(\"training mse: {}, testing mse: {}\".format(train_mse, test_mse))\n",
    "print(\"training rmse: {}, testing rmse: {}\".format(np.sqrt(train_mse), np.sqrt(test_mse)))\n",
    "print(\"training mae: {}, testing mae: {}\".format(train_mae, test_mae))\n",
    "print(\"training R2: {}, testing R2: {}\".format(train_r_squared, test_r_squared))\n",
    "# print(\"training R2: {}, testing R2: {}\".format(dt.score(x_train, y_train), dt.score(x_test, y_test)))\n",
    "print(\"training adjusted R2: {}, testing adjusted R2: {}\".format(train_adj_r_squared, test_adj_r_squared))\n",
    "print(\"training smape: {}, testing smape: {}\".format(train_smape, test_smape))\n",
    "\n",
    "# residual plot\n",
    "x_axis = y_pred_train.squeeze() # fitted value\n",
    "y_axis = y_pred_train.squeeze()- y_train.squeeze() # residual\n",
    "plt.scatter(x_axis,y_axis) "
   ]
  },
  {
   "cell_type": "code",
   "execution_count": 24,
   "metadata": {},
   "outputs": [
    {
     "data": {
      "text/plain": [
       "{'bootstrap': True,\n",
       " 'criterion': 'mse',\n",
       " 'max_depth': None,\n",
       " 'max_features': 'auto',\n",
       " 'max_leaf_nodes': None,\n",
       " 'min_impurity_decrease': 0.0,\n",
       " 'min_impurity_split': None,\n",
       " 'min_samples_leaf': 1,\n",
       " 'min_samples_split': 2,\n",
       " 'min_weight_fraction_leaf': 0.0,\n",
       " 'n_estimators': 10,\n",
       " 'n_jobs': None,\n",
       " 'oob_score': False,\n",
       " 'random_state': None,\n",
       " 'verbose': 0,\n",
       " 'warm_start': False}"
      ]
     },
     "execution_count": 24,
     "metadata": {},
     "output_type": "execute_result"
    }
   ],
   "source": [
    "rforest.get_params(deep=True)"
   ]
  }
 ],
 "metadata": {
  "kernelspec": {
   "display_name": "Python 3",
   "language": "python",
   "name": "python3"
  },
  "language_info": {
   "codemirror_mode": {
    "name": "ipython",
    "version": 3
   },
   "file_extension": ".py",
   "mimetype": "text/x-python",
   "name": "python",
   "nbconvert_exporter": "python",
   "pygments_lexer": "ipython3",
   "version": "3.7.4"
  }
 },
 "nbformat": 4,
 "nbformat_minor": 2
}
