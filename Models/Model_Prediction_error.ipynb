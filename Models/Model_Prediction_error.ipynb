{
 "cells": [
  {
   "cell_type": "code",
   "execution_count": 178,
   "metadata": {
    "id": "j2gJ3BfntnpK"
   },
   "outputs": [],
   "source": [
    "\n",
    "import datetime\n",
    "import math\n",
    "import matplotlib.pyplot as plt \n",
    "import numpy as np\n",
    "import pandas as pd\n",
    "import json\n",
    "from bs4 import BeautifulSoup\n",
    "import time\n",
    "import zipfile\n",
    "import requests\n",
    "#import gdown\n",
    "import pickle\n",
    "import io\n",
    "from datetime import date\n",
    "from requests import Session\n",
    "from geopy.geocoders import Nominatim"
   ]
  },
  {
   "cell_type": "code",
   "execution_count": 179,
   "metadata": {
    "id": "XU82eIbMt_yW"
   },
   "outputs": [],
   "source": [
    "# path = '/content/drive/My Drive/BT4222 Data'"
   ]
  },
  {
   "cell_type": "markdown",
   "metadata": {
    "id": "IKHE5TkRtnpN"
   },
   "source": [
    "## Pre-set Variables"
   ]
  },
  {
   "cell_type": "code",
   "execution_count": 180,
   "metadata": {
    "id": "H1SYVJj_tnpQ"
   },
   "outputs": [],
   "source": [
    "district_postal = {\n",
    "    \"1\" : [\"01\", \"02\", \"03\", \"04\", \"05\", \"06\"],\n",
    "    \"2\" : [\"07\", \"08\"],\n",
    "    \"3\" : [\"14\", \"15\", \"16\"],\n",
    "    \"4\" : [\"09\", \"10\"],\n",
    "    \"5\" : [\"11\", \"12\", '13'],\n",
    "    \"6\" : [\"17\"],\n",
    "    \"7\" : [\"18\", \"19\"],\n",
    "    \"8\" : [\"20\", \"21\"],\n",
    "    \"9\" : [\"22\", \"23\"],\n",
    "    \"10\" : [\"24\", \"25\", \"26\", \"27\"],\n",
    "    \"11\" : [\"28\", \"29\", \"30\"],\n",
    "    \"12\" : [\"31\", \"32\", \"33\"],\n",
    "    \"13\" : [\"34\", \"35\", \"36\", \"37\"],\n",
    "    \"14\" : [\"38\", \"39\", \"40\", \"41\"],\n",
    "    \"15\" : [\"42\", \"43\", \"44\", \"45\"],\n",
    "    \"16\" : [\"46\", \"47\", \"48\"],\n",
    "    \"17\" : [\"49\", \"50\", \"81\"],\n",
    "    \"18\" : [\"51\", \"52\"],\n",
    "    \"19\" : [\"53\", \"54\", \"55\", \"82\"],\n",
    "    \"20\" : [\"56\", \"57\"],\n",
    "    \"21\" : [\"58\", \"59\"],\n",
    "    \"22\" : [\"60\", \"61\", \"62\", \"63\", \"64\"],\n",
    "    \"23\" : [\"65\", \"66\", \"67\", \"68\"],\n",
    "    \"24\" : [\"69\", \"70\", \"71\"],\n",
    "    \"25\" : [\"72\", \"73\"],\n",
    "    \"26\" : [\"77\", \"78\"],\n",
    "    \"27\" : [\"75\", \"76\"],\n",
    "    \"28\" : [\"79\", \"80\"]\n",
    "}"
   ]
  },
  {
   "cell_type": "code",
   "execution_count": 181,
   "metadata": {
    "id": "jXE1lSSZtnpS"
   },
   "outputs": [],
   "source": [
    "replace_floors = {\n",
    "    '01 TO 03' : '01-05',\n",
    "    '04 TO 06' : '01-05',\n",
    "    '07 TO 09' : '06-10',\n",
    "    '10 TO 12' : '11-15',\n",
    "    '13 TO 15' : '11-15',\n",
    "    '16 TO 18' : '16-20',\n",
    "    '19 TO 21' : '16-20',\n",
    "    '22 TO 24' : '21-25',\n",
    "    '25 TO 27' : '26-30',\n",
    "    '28 TO 30' : '26-30',\n",
    "    '31 TO 33' : '31-35',\n",
    "    '34 TO 36' : '31-35',\n",
    "    '37 TO 39' : '36-40',\n",
    "    '40 TO 42' : '41-45',\n",
    "    '43 TO 45' : '41-45',\n",
    "    '46 TO 48' : '46-50',\n",
    "    '-' : '-'\n",
    "}"
   ]
  },
  {
   "cell_type": "markdown",
   "metadata": {
    "id": "1YIwSsGLtnpT"
   },
   "source": [
    "## Import CSVs needed"
   ]
  },
  {
   "cell_type": "code",
   "execution_count": 182,
   "metadata": {
    "id": "lt74tl-4tnpT"
   },
   "outputs": [],
   "source": [
    "bus_stops_url = 'https://raw.githubusercontent.com/nicolepng/BT4222/main/Data/bus_stops.csv' \n",
    "bus_stops = pd.read_csv(bus_stops_url)\n",
    "bus_stops.drop(bus_stops.columns[0], axis=1, inplace=True)"
   ]
  },
  {
   "cell_type": "code",
   "execution_count": 183,
   "metadata": {
    "id": "TtAqQT_AtnpU"
   },
   "outputs": [],
   "source": [
    "amenities_url = 'https://raw.githubusercontent.com/nicolepng/BT4222/main/Data/ameneties_per_district.csv' \n",
    "ameneties_per_district = pd.read_csv(amenities_url)\n",
    "ameneties_per_district.drop(ameneties_per_district.columns[0], axis=1, inplace=True)"
   ]
  },
  {
   "cell_type": "code",
   "execution_count": 184,
   "metadata": {
    "id": "k2fPnVyXtnpV"
   },
   "outputs": [],
   "source": [
    "avg_crime_locations_url = 'https://raw.githubusercontent.com/nicolepng/BT4222/main/Data/average_crimes_by_location_v3.csv' \n",
    "average_crimes_by_location_v3 = pd.read_csv(avg_crime_locations_url)"
   ]
  },
  {
   "cell_type": "code",
   "execution_count": 185,
   "metadata": {
    "id": "P_LDBvbdtnpV"
   },
   "outputs": [],
   "source": [
    "# swap dictionary mapping direction\n",
    "postal_district = {k: oldk for oldk, oldv in district_postal.items() for k in oldv}\n",
    "\n",
    "# create new column to obtain the 1st 2 characters of [Postal]\n",
    "average_crimes_by_location_v3['postal prefix'] = average_crimes_by_location_v3['Postal'].astype(str).str[0:2]\n",
    "\n",
    "# map postal to district code\n",
    "average_crimes_by_location_v3['district']= average_crimes_by_location_v3['postal prefix'].map(postal_district) \n",
    "\n",
    "# get overall crime rate in each district\n",
    "average_crimes_by_location_v3 = average_crimes_by_location_v3.groupby(['district']).agg({'Number':'sum'}).reset_index()\n",
    "\n",
    "district_int = average_crimes_by_location_v3.district.astype(int)\n",
    "district_int = pd.DataFrame(district_int)\n",
    "average_crimes_by_location_v3['district'] = district_int"
   ]
  },
  {
   "cell_type": "code",
   "execution_count": 186,
   "metadata": {
    "colab": {
     "base_uri": "https://localhost:8080/",
     "height": 419
    },
    "id": "UQBICODwtnpW",
    "outputId": "5bd1ffb3-cc15-4c5d-fca6-a6ed0cc50f29"
   },
   "outputs": [
    {
     "data": {
      "text/html": [
       "<div>\n",
       "<style scoped>\n",
       "    .dataframe tbody tr th:only-of-type {\n",
       "        vertical-align: middle;\n",
       "    }\n",
       "\n",
       "    .dataframe tbody tr th {\n",
       "        vertical-align: top;\n",
       "    }\n",
       "\n",
       "    .dataframe thead th {\n",
       "        text-align: right;\n",
       "    }\n",
       "</style>\n",
       "<table border=\"1\" class=\"dataframe\">\n",
       "  <thead>\n",
       "    <tr style=\"text-align: right;\">\n",
       "      <th></th>\n",
       "      <th>district_num</th>\n",
       "      <th>weighted_sentiment</th>\n",
       "      <th>year</th>\n",
       "    </tr>\n",
       "  </thead>\n",
       "  <tbody>\n",
       "    <tr>\n",
       "      <th>0</th>\n",
       "      <td>21</td>\n",
       "      <td>0.181969</td>\n",
       "      <td>2018</td>\n",
       "    </tr>\n",
       "    <tr>\n",
       "      <th>1</th>\n",
       "      <td>1</td>\n",
       "      <td>0.133391</td>\n",
       "      <td>2018</td>\n",
       "    </tr>\n",
       "    <tr>\n",
       "      <th>2</th>\n",
       "      <td>2</td>\n",
       "      <td>0.165917</td>\n",
       "      <td>2018</td>\n",
       "    </tr>\n",
       "    <tr>\n",
       "      <th>3</th>\n",
       "      <td>3</td>\n",
       "      <td>0.061551</td>\n",
       "      <td>2018</td>\n",
       "    </tr>\n",
       "    <tr>\n",
       "      <th>4</th>\n",
       "      <td>4</td>\n",
       "      <td>0.059997</td>\n",
       "      <td>2018</td>\n",
       "    </tr>\n",
       "    <tr>\n",
       "      <th>...</th>\n",
       "      <td>...</td>\n",
       "      <td>...</td>\n",
       "      <td>...</td>\n",
       "    </tr>\n",
       "    <tr>\n",
       "      <th>107</th>\n",
       "      <td>24</td>\n",
       "      <td>0.051782</td>\n",
       "      <td>2021</td>\n",
       "    </tr>\n",
       "    <tr>\n",
       "      <th>108</th>\n",
       "      <td>25</td>\n",
       "      <td>0.078996</td>\n",
       "      <td>2021</td>\n",
       "    </tr>\n",
       "    <tr>\n",
       "      <th>109</th>\n",
       "      <td>26</td>\n",
       "      <td>0.822100</td>\n",
       "      <td>2021</td>\n",
       "    </tr>\n",
       "    <tr>\n",
       "      <th>110</th>\n",
       "      <td>27</td>\n",
       "      <td>0.102094</td>\n",
       "      <td>2021</td>\n",
       "    </tr>\n",
       "    <tr>\n",
       "      <th>111</th>\n",
       "      <td>28</td>\n",
       "      <td>0.143035</td>\n",
       "      <td>2021</td>\n",
       "    </tr>\n",
       "  </tbody>\n",
       "</table>\n",
       "<p>112 rows × 3 columns</p>\n",
       "</div>"
      ],
      "text/plain": [
       "     district_num  weighted_sentiment  year\n",
       "0              21            0.181969  2018\n",
       "1               1            0.133391  2018\n",
       "2               2            0.165917  2018\n",
       "3               3            0.061551  2018\n",
       "4               4            0.059997  2018\n",
       "..            ...                 ...   ...\n",
       "107            24            0.051782  2021\n",
       "108            25            0.078996  2021\n",
       "109            26            0.822100  2021\n",
       "110            27            0.102094  2021\n",
       "111            28            0.143035  2021\n",
       "\n",
       "[112 rows x 3 columns]"
      ]
     },
     "execution_count": 186,
     "metadata": {},
     "output_type": "execute_result"
    }
   ],
   "source": [
    "sentiment_url = 'https://raw.githubusercontent.com/nicolepng/BT4222/main/Data/combined_vader_sentiment.csv' \n",
    "sentiment = pd.read_csv(sentiment_url)\n",
    "sentiment = sentiment[['district_num','weighted_sentiment','year']]\n",
    "#sentiment.columns = ['district_num', 'weighted_sentiment', 'year']\n",
    "sentiment"
   ]
  },
  {
   "cell_type": "code",
   "execution_count": 187,
   "metadata": {
    "colab": {
     "base_uri": "https://localhost:8080/"
    },
    "id": "Mk-9d32tx6I6",
    "outputId": "a02dffd9-bed4-481a-d549-0542f44ff5a2"
   },
   "outputs": [],
   "source": [
    "# ! gdown --id 1EHquP_sYLLYOmi7oGam_tEyd1pWXWMT2"
   ]
  },
  {
   "cell_type": "markdown",
   "metadata": {},
   "source": [
    "## note: model will be imported from local "
   ]
  },
  {
   "cell_type": "code",
   "execution_count": 188,
   "metadata": {
    "id": "jFEa9w-ptnpY"
   },
   "outputs": [],
   "source": [
    "# import model\n",
    "# https://drive.google.com/u/1/uc?id=1xrcwXEFJkEZYoYinpEXK54RAaMTHe7J-&export=download\n",
    "# url = 'https://drive.google.com/u/1/uc?id=1xrcwXEFJkEZYoYinpEXK54RAaMTHe7J-'\n",
    "# output = 'finalized_model_new.sav'\n",
    "# gdown.download(url, output, quiet=False)"
   ]
  },
  {
   "cell_type": "markdown",
   "metadata": {
    "id": "YzPAxVq-tnpa"
   },
   "source": [
    "## Functions needed to get input"
   ]
  },
  {
   "cell_type": "code",
   "execution_count": 189,
   "metadata": {
    "id": "4b9I2ud7tnpa"
   },
   "outputs": [],
   "source": [
    "# Get district number\n",
    "def get_postal_onemap(place, district_postal):\n",
    "    start_code= \"https://developers.onemap.sg/commonapi/search?returnGeom=Y&getAddrDetails=Y&pageNum=1&searchVal=\"+ place\n",
    "    s_response = requests.get(start_code)\n",
    "    s_data = json.loads(s_response.text)\n",
    "    postal = None\n",
    "    count = 0\n",
    "    while postal is None:\n",
    "        count += 1\n",
    "        if count == 10:\n",
    "            postal = None\n",
    "            break\n",
    "        for i in range(len(s_data['results'])):\n",
    "            postal = s_data['results'][i]['POSTAL']\n",
    "            try:\n",
    "                postal = int(postal)\n",
    "            except:\n",
    "                continue\n",
    "    for district, sub_dist in district_postal.items():\n",
    "        if str(postal)[:2] in sub_dist:\n",
    "            dist = district\n",
    "    try:\n",
    "        return dist\n",
    "    except:\n",
    "        return -1"
   ]
  },
  {
   "cell_type": "code",
   "execution_count": 190,
   "metadata": {
    "id": "1ThWwbbatnpb"
   },
   "outputs": [],
   "source": [
    "# get latitude and longitude\n",
    "def get_lat_long(street):\n",
    "    geolocator = Nominatim(user_agent=\"newtestuserbtproj\")\n",
    "    location = geolocator.geocode({\"street\": street, \"country\": \"Singapore\"})\n",
    "    coordinates = [location.latitude, location.longitude]\n",
    "    return coordinates"
   ]
  },
  {
   "cell_type": "code",
   "execution_count": 191,
   "metadata": {
    "id": "ch-HNlaytnpb"
   },
   "outputs": [],
   "source": [
    "# get number of bus stops\n",
    "# Formula to calculate distance \n",
    "from math import cos, sqrt\n",
    "R = 6371000 #radius of the Earth in m\n",
    "def distance(lon1, lat1, lon2, lat2):\n",
    "    x = (lon2 - lon1) * cos(0.5*(lat2+lat1))\n",
    "    y = (lat2 - lat1)\n",
    "    return R * sqrt( x*x + y*y )\n",
    "\n",
    "def num_of_bus_stops(lat, long):\n",
    "    busStops = bus_stops.to_dict(orient='records')\n",
    "    # threshold of within 1km\n",
    "    numOfStops = []\n",
    "    buslist = list(filter(lambda d: distance(d[\"Longitude\"], d[\"Latitude\"], long, lat) <= 1000, busStops))\n",
    "    return len(buslist)"
   ]
  },
  {
   "cell_type": "code",
   "execution_count": 192,
   "metadata": {
    "id": "y9BM91NVtnpc"
   },
   "outputs": [],
   "source": [
    "# get num of schools\n",
    "def num_schools(district):\n",
    "    sch_list = ameneties_per_district.loc[ameneties_per_district['district'] == district]['school'].item()\n",
    "    num_sch = sch_list.strip('][').split(',') \n",
    "    if \" SINGAPORE'\" in num_sch:\n",
    "        num_sch.remove(\" SINGAPORE'\")\n",
    "    return len(num_sch)"
   ]
  },
  {
   "cell_type": "code",
   "execution_count": 193,
   "metadata": {
    "id": "83RdyvNStnpd"
   },
   "outputs": [],
   "source": [
    "# get num of supermarkets\n",
    "def num_supermarkets(district):\n",
    "    market_list = ameneties_per_district.loc[ameneties_per_district['district'] == district]['supermarkets'].item()\n",
    "    num_market = market_list.strip('][').split(',') \n",
    "    return len(num_market)"
   ]
  },
  {
   "cell_type": "code",
   "execution_count": 194,
   "metadata": {
    "id": "ky6zweaftnpd"
   },
   "outputs": [],
   "source": [
    "# get num of hawker\n",
    "def num_hawker(district):\n",
    "    hawker_list = ameneties_per_district.loc[ameneties_per_district['district'] == district]['hawkercentre'].item()\n",
    "    num_hawker = hawker_list.strip('][').split(',') \n",
    "    return len(num_hawker)"
   ]
  },
  {
   "cell_type": "code",
   "execution_count": 195,
   "metadata": {
    "id": "flLdT3EFtnpe"
   },
   "outputs": [],
   "source": [
    "# get crime number \n",
    "def crime_num(district):\n",
    "    return average_crimes_by_location_v3[average_crimes_by_location_v3.district == district].Number.item() "
   ]
  },
  {
   "cell_type": "code",
   "execution_count": 196,
   "metadata": {
    "id": "_YotuEYetnpe"
   },
   "outputs": [],
   "source": [
    "# get sentiment score\n",
    "def sentiment_score(district, year):\n",
    "    return sentiment[(sentiment.district_num == district) & (sentiment.year == year)].weighted_sentiment.item()"
   ]
  },
  {
   "cell_type": "code",
   "execution_count": 197,
   "metadata": {
    "id": "QP65-RAitnpf"
   },
   "outputs": [],
   "source": [
    "# get floor range\n"
   ]
  },
  {
   "cell_type": "markdown",
   "metadata": {
    "id": "b0krpJPrtnpg"
   },
   "source": [
    "## Actual Code"
   ]
  },
  {
   "cell_type": "markdown",
   "metadata": {
    "id": "v7VFa92Jtnpg"
   },
   "source": [
    "district  \n",
    "street             \n",
    "propertyType        \n",
    "remaining_lease   \n",
    "price              \n",
    "school             \n",
    "hawkercentre        \n",
    "supermarkets       \n",
    "Bus Stops Nearby   \n",
    "crime_number        \n",
    "latitude          \n",
    "longitude           \n",
    "floor_area_sqm     \n",
    "floor_range        \n",
    "sentiment\n",
    "Street given, propertyType given, remaining lease given, square feet also given"
   ]
  },
  {
   "cell_type": "code",
   "execution_count": 211,
   "metadata": {
    "colab": {
     "base_uri": "https://localhost:8080/"
    },
    "id": "SfKgp0XYtnph",
    "outputId": "819adaa4-ed00-442b-f2e0-a6219a434569"
   },
   "outputs": [
    {
     "name": "stdout",
     "output_type": "stream",
     "text": [
      "Enter Street Name: Jalan Khamis\n",
      "Enter Type of Property: Semi-detached\n",
      "Enter num of years left: 999\n",
      "Area of House (Square Metres): 334.5\n",
      "Enter Floor Range: -\n",
      "Current Year? 2021\n"
     ]
    }
   ],
   "source": [
    "street = input(\"Enter Street Name: \")\n",
    "\n",
    "propertyType = input(\"Enter Type of Property: \")\n",
    "\n",
    "remaining_lease = int(input(\"Enter num of years left: \"))\n",
    "\n",
    "floor_area_sqm = input(\"Area of House (Square Metres): \")\n",
    "\n",
    "floor_range = input(\"Enter Floor Range: \")\n",
    "\n",
    "year = int(input(\"Current Year? \"))"
   ]
  },
  {
   "cell_type": "code",
   "execution_count": 212,
   "metadata": {
    "id": "4aSlhhmptnph"
   },
   "outputs": [],
   "source": [
    "district = get_postal_onemap(street, district_postal)"
   ]
  },
  {
   "cell_type": "code",
   "execution_count": 213,
   "metadata": {
    "colab": {
     "base_uri": "https://localhost:8080/",
     "height": 35
    },
    "id": "tpU9ujdW10nu",
    "outputId": "ae9e873c-eae2-4e03-ad00-a6a868f1a3fd"
   },
   "outputs": [
    {
     "data": {
      "text/plain": [
       "'20'"
      ]
     },
     "execution_count": 213,
     "metadata": {},
     "output_type": "execute_result"
    }
   ],
   "source": [
    "district"
   ]
  },
  {
   "cell_type": "code",
   "execution_count": 214,
   "metadata": {
    "id": "XG-UHeb2tnpi"
   },
   "outputs": [],
   "source": [
    "# Get all details \n",
    "#district = get_postal_onemap(street, district_postal)\n",
    "coordinates = get_lat_long(street)\n",
    "latitude = coordinates[0]\n",
    "longitude = coordinates[1]\n",
    "school = num_schools(int(district))\n",
    "hawkercentre = num_hawker(int(district))\n",
    "supermarkets = num_supermarkets(int(district))\n",
    "bus_stops_nearby = num_of_bus_stops(latitude, longitude)\n",
    "crime_number = crime_num(int(district))\n",
    "score = sentiment_score(int(district), year)"
   ]
  },
  {
   "cell_type": "code",
   "execution_count": 215,
   "metadata": {
    "id": "Q8vGVF7Gtnpj"
   },
   "outputs": [],
   "source": [
    "# Create temp dataframe to fit into model\n",
    "# temp_column_names = ['district', 'street', 'propertyType', 'remaining_lease',\n",
    "#                     'school', 'hawkercentre', 'supermarkets', 'Bus Stops Neaby',\n",
    "#                     'crime_number', 'latitude', 'longitude', 'floor_area_sqm', 'floor_range',\n",
    "#                     'sentiment']\n",
    "\n",
    "temp_column_names = ['district', 'street', 'propertyType', 'remaining_lease', 'school',\n",
    "       'hawkercentre', 'supermarkets', 'Bus Stops Nearby', 'crime_number',\n",
    "       'latitude', 'longitude', 'floor_area_sqm', 'floor_range', 'sentiment']\n",
    "\n",
    "temp = pd.DataFrame(columns = temp_column_names)"
   ]
  },
  {
   "cell_type": "code",
   "execution_count": 216,
   "metadata": {
    "id": "vKhlXV8ctnpj"
   },
   "outputs": [],
   "source": [
    "temp = temp.append({'district': district, 'street': street, 'propertyType': propertyType, \n",
    "             'remaining_lease': remaining_lease,'school': school, 'hawkercentre': hawkercentre, \n",
    "             'supermarkets': supermarkets, 'Bus Stops Neaby': bus_stops_nearby,\n",
    "            'crime_number': crime_number, 'latitude': latitude, \n",
    "             'longitude': longitude, 'floor_area_sqm': floor_area_sqm, 'floor_range': floor_range,\n",
    "            'sentiment': score\n",
    "}, ignore_index = True)"
   ]
  },
  {
   "cell_type": "code",
   "execution_count": 217,
   "metadata": {
    "id": "OY3m4HztuvvS"
   },
   "outputs": [],
   "source": [
    "# Street, Property and Floor_range mapping\n",
    "import pickle\n",
    "street_mapping = pickle.load(open('/Users/vickiyew/Documents/BT4222/project/data/street_mapping.pickle', 'rb'))\n",
    "floor_mapping = pickle.load(open('/Users/vickiyew/Documents/BT4222/project/data/floor_mapping.pickle', 'rb'))\n",
    "property_mapping = pickle.load(open('/Users/vickiyew/Documents/BT4222/project/data/property_mapping.pickle', 'rb'))"
   ]
  },
  {
   "cell_type": "code",
   "execution_count": 218,
   "metadata": {
    "id": "ez72m_SPvmeC"
   },
   "outputs": [],
   "source": [
    "temp['street'] = temp['street'].str.upper()\n",
    "temp['street'] = temp['street'].map(street_mapping)\n",
    "temp['propertyType'] = temp['propertyType'].map(property_mapping)\n",
    "temp['floor_range'] = temp['floor_range'].map(floor_mapping)"
   ]
  },
  {
   "cell_type": "code",
   "execution_count": 219,
   "metadata": {
    "colab": {
     "base_uri": "https://localhost:8080/",
     "height": 134
    },
    "id": "m_DRRmNzv4wx",
    "outputId": "89649fd4-3a79-4014-f2df-c7e96d44a51a"
   },
   "outputs": [
    {
     "data": {
      "text/html": [
       "<div>\n",
       "<style scoped>\n",
       "    .dataframe tbody tr th:only-of-type {\n",
       "        vertical-align: middle;\n",
       "    }\n",
       "\n",
       "    .dataframe tbody tr th {\n",
       "        vertical-align: top;\n",
       "    }\n",
       "\n",
       "    .dataframe thead th {\n",
       "        text-align: right;\n",
       "    }\n",
       "</style>\n",
       "<table border=\"1\" class=\"dataframe\">\n",
       "  <thead>\n",
       "    <tr style=\"text-align: right;\">\n",
       "      <th></th>\n",
       "      <th>district</th>\n",
       "      <th>street</th>\n",
       "      <th>propertyType</th>\n",
       "      <th>remaining_lease</th>\n",
       "      <th>school</th>\n",
       "      <th>hawkercentre</th>\n",
       "      <th>supermarkets</th>\n",
       "      <th>Bus Stops Nearby</th>\n",
       "      <th>crime_number</th>\n",
       "      <th>latitude</th>\n",
       "      <th>longitude</th>\n",
       "      <th>floor_area_sqm</th>\n",
       "      <th>floor_range</th>\n",
       "      <th>sentiment</th>\n",
       "      <th>Bus Stops Neaby</th>\n",
       "    </tr>\n",
       "  </thead>\n",
       "  <tbody>\n",
       "    <tr>\n",
       "      <th>0</th>\n",
       "      <td>20</td>\n",
       "      <td>776</td>\n",
       "      <td>11</td>\n",
       "      <td>999</td>\n",
       "      <td>37</td>\n",
       "      <td>11</td>\n",
       "      <td>5</td>\n",
       "      <td>NaN</td>\n",
       "      <td>122.714286</td>\n",
       "      <td>1.353818</td>\n",
       "      <td>103.837695</td>\n",
       "      <td>334.5</td>\n",
       "      <td>0</td>\n",
       "      <td>0.129204</td>\n",
       "      <td>0.0</td>\n",
       "    </tr>\n",
       "  </tbody>\n",
       "</table>\n",
       "</div>"
      ],
      "text/plain": [
       "  district  street  propertyType remaining_lease school hawkercentre  \\\n",
       "0       20     776            11             999     37           11   \n",
       "\n",
       "  supermarkets  Bus Stops Nearby  crime_number  latitude   longitude  \\\n",
       "0            5               NaN    122.714286  1.353818  103.837695   \n",
       "\n",
       "  floor_area_sqm  floor_range  sentiment  Bus Stops Neaby  \n",
       "0          334.5            0   0.129204              0.0  "
      ]
     },
     "execution_count": 219,
     "metadata": {},
     "output_type": "execute_result"
    }
   ],
   "source": [
    "temp"
   ]
  },
  {
   "cell_type": "code",
   "execution_count": 220,
   "metadata": {},
   "outputs": [
    {
     "data": {
      "text/html": [
       "<div>\n",
       "<style scoped>\n",
       "    .dataframe tbody tr th:only-of-type {\n",
       "        vertical-align: middle;\n",
       "    }\n",
       "\n",
       "    .dataframe tbody tr th {\n",
       "        vertical-align: top;\n",
       "    }\n",
       "\n",
       "    .dataframe thead th {\n",
       "        text-align: right;\n",
       "    }\n",
       "</style>\n",
       "<table border=\"1\" class=\"dataframe\">\n",
       "  <thead>\n",
       "    <tr style=\"text-align: right;\">\n",
       "      <th></th>\n",
       "      <th>district</th>\n",
       "      <th>street</th>\n",
       "      <th>propertyType</th>\n",
       "      <th>remaining_lease</th>\n",
       "      <th>school</th>\n",
       "      <th>hawkercentre</th>\n",
       "      <th>supermarkets</th>\n",
       "      <th>crime_number</th>\n",
       "      <th>latitude</th>\n",
       "      <th>longitude</th>\n",
       "      <th>floor_area_sqm</th>\n",
       "      <th>floor_range</th>\n",
       "      <th>sentiment</th>\n",
       "      <th>Bus Stops Neaby</th>\n",
       "    </tr>\n",
       "  </thead>\n",
       "  <tbody>\n",
       "    <tr>\n",
       "      <th>0</th>\n",
       "      <td>20</td>\n",
       "      <td>776</td>\n",
       "      <td>11</td>\n",
       "      <td>999</td>\n",
       "      <td>37</td>\n",
       "      <td>11</td>\n",
       "      <td>5</td>\n",
       "      <td>122.714286</td>\n",
       "      <td>1.353818</td>\n",
       "      <td>103.837695</td>\n",
       "      <td>334.5</td>\n",
       "      <td>0</td>\n",
       "      <td>0.129204</td>\n",
       "      <td>0.0</td>\n",
       "    </tr>\n",
       "  </tbody>\n",
       "</table>\n",
       "</div>"
      ],
      "text/plain": [
       "  district  street  propertyType remaining_lease school hawkercentre  \\\n",
       "0       20     776            11             999     37           11   \n",
       "\n",
       "  supermarkets  crime_number  latitude   longitude floor_area_sqm  \\\n",
       "0            5    122.714286  1.353818  103.837695          334.5   \n",
       "\n",
       "   floor_range  sentiment  Bus Stops Neaby  \n",
       "0            0   0.129204              0.0  "
      ]
     },
     "execution_count": 220,
     "metadata": {},
     "output_type": "execute_result"
    }
   ],
   "source": [
    "temp.drop(temp.columns[7], axis=1)"
   ]
  },
  {
   "cell_type": "code",
   "execution_count": 221,
   "metadata": {},
   "outputs": [],
   "source": [
    "temp = temp.reindex(columns=temp_column_names)"
   ]
  },
  {
   "cell_type": "code",
   "execution_count": 226,
   "metadata": {},
   "outputs": [
    {
     "data": {
      "text/html": [
       "<div>\n",
       "<style scoped>\n",
       "    .dataframe tbody tr th:only-of-type {\n",
       "        vertical-align: middle;\n",
       "    }\n",
       "\n",
       "    .dataframe tbody tr th {\n",
       "        vertical-align: top;\n",
       "    }\n",
       "\n",
       "    .dataframe thead th {\n",
       "        text-align: right;\n",
       "    }\n",
       "</style>\n",
       "<table border=\"1\" class=\"dataframe\">\n",
       "  <thead>\n",
       "    <tr style=\"text-align: right;\">\n",
       "      <th></th>\n",
       "      <th>district</th>\n",
       "      <th>street</th>\n",
       "      <th>propertyType</th>\n",
       "      <th>remaining_lease</th>\n",
       "      <th>school</th>\n",
       "      <th>hawkercentre</th>\n",
       "      <th>supermarkets</th>\n",
       "      <th>Bus Stops Nearby</th>\n",
       "      <th>crime_number</th>\n",
       "      <th>latitude</th>\n",
       "      <th>longitude</th>\n",
       "      <th>floor_area_sqm</th>\n",
       "      <th>floor_range</th>\n",
       "      <th>sentiment</th>\n",
       "    </tr>\n",
       "  </thead>\n",
       "  <tbody>\n",
       "    <tr>\n",
       "      <th>0</th>\n",
       "      <td>20</td>\n",
       "      <td>776</td>\n",
       "      <td>11</td>\n",
       "      <td>999</td>\n",
       "      <td>37</td>\n",
       "      <td>11</td>\n",
       "      <td>5</td>\n",
       "      <td>NaN</td>\n",
       "      <td>122.714286</td>\n",
       "      <td>1.353818</td>\n",
       "      <td>103.837695</td>\n",
       "      <td>334.5</td>\n",
       "      <td>0</td>\n",
       "      <td>0.129204</td>\n",
       "    </tr>\n",
       "  </tbody>\n",
       "</table>\n",
       "</div>"
      ],
      "text/plain": [
       "  district  street  propertyType remaining_lease school hawkercentre  \\\n",
       "0       20     776            11             999     37           11   \n",
       "\n",
       "  supermarkets  Bus Stops Nearby  crime_number  latitude   longitude  \\\n",
       "0            5               NaN    122.714286  1.353818  103.837695   \n",
       "\n",
       "  floor_area_sqm  floor_range  sentiment  \n",
       "0          334.5            0   0.129204  "
      ]
     },
     "execution_count": 226,
     "metadata": {},
     "output_type": "execute_result"
    }
   ],
   "source": [
    "temp"
   ]
  },
  {
   "cell_type": "markdown",
   "metadata": {
    "id": "BvcfJU1itnpk"
   },
   "source": [
    "## Run Model"
   ]
  },
  {
   "cell_type": "code",
   "execution_count": 222,
   "metadata": {
    "id": "Md4P8PTRtnpk"
   },
   "outputs": [],
   "source": [
    "# load model\n",
    "loaded_model = pickle.load(open('/Users/vickiyew/Downloads/finalized_model.sav', 'rb'))"
   ]
  },
  {
   "cell_type": "code",
   "execution_count": 223,
   "metadata": {},
   "outputs": [
    {
     "data": {
      "text/plain": [
       "XGBRegressor(base_score=0.5, booster='gbtree', colsample_bylevel=1,\n",
       "             colsample_bynode=0.2, colsample_bytree=1, eval_metric='rmse',\n",
       "             gamma=0, gpu_id=-1, importance_type='gain',\n",
       "             interaction_constraints='', learning_rate=0.1, max_delta_step=0,\n",
       "             max_depth=10, min_child_weight=1, min_samples_leaf=2, missing=None,\n",
       "             monotone_constraints='()', n_estimators=300, n_fold=5, n_jobs=1,\n",
       "             nthread=1, num_parallel_tree=1, objective='reg:linear',\n",
       "             random_state=0, reg_alpha=0, reg_lambda=1, scale_pos_weight=1,\n",
       "             seed=0, silent=None, subsample=0.9, ...)"
      ]
     },
     "execution_count": 223,
     "metadata": {},
     "output_type": "execute_result"
    }
   ],
   "source": [
    "loaded_model"
   ]
  },
  {
   "cell_type": "markdown",
   "metadata": {
    "id": "Kl4FFrNCtnpl"
   },
   "source": [
    "## Predict Results"
   ]
  },
  {
   "cell_type": "code",
   "execution_count": 224,
   "metadata": {
    "id": "f3X8kumqyk69"
   },
   "outputs": [
    {
     "data": {
      "text/plain": [
       "array([2.00000000e+01, 7.76000000e+02, 1.10000000e+01, 9.99000000e+02,\n",
       "       3.70000000e+01, 1.10000000e+01, 5.00000000e+00,            nan,\n",
       "       1.22714286e+02, 1.35381770e+00, 1.03837695e+02, 3.34500000e+02,\n",
       "       0.00000000e+00, 1.29203939e-01])"
      ]
     },
     "execution_count": 224,
     "metadata": {},
     "output_type": "execute_result"
    }
   ],
   "source": [
    "import numpy as np\n",
    "np.array(temp.loc[0].values.tolist()).astype(np.float)"
   ]
  },
  {
   "cell_type": "code",
   "execution_count": 225,
   "metadata": {
    "id": "7LrxHmixtnpl"
   },
   "outputs": [
    {
     "ename": "ValueError",
     "evalue": "feature_names mismatch: ['f0', 'f1', 'f2', 'f3', 'f4', 'f5', 'f6', 'f7', 'f8', 'f9', 'f10', 'f11', 'f12', 'f13', 'f14', 'f15', 'f16', 'f17', 'f18', 'f19', 'f20', 'f21', 'f22', 'f23', 'f24', 'f25', 'f26', 'f27', 'f28', 'f29', 'f30', 'f31'] ['f0', 'f1', 'f2', 'f3', 'f4', 'f5', 'f6', 'f7', 'f8', 'f9', 'f10', 'f11', 'f12', 'f13']\nexpected f26, f16, f29, f25, f30, f19, f22, f27, f23, f24, f14, f20, f31, f18, f15, f21, f17, f28 in input data",
     "output_type": "error",
     "traceback": [
      "\u001b[0;31m---------------------------------------------------------------------------\u001b[0m",
      "\u001b[0;31mValueError\u001b[0m                                Traceback (most recent call last)",
      "\u001b[0;32m<ipython-input-225-98ad862c3a95>\u001b[0m in \u001b[0;36m<module>\u001b[0;34m\u001b[0m\n\u001b[1;32m      1\u001b[0m \u001b[0;31m# Predicted Price\u001b[0m\u001b[0;34m\u001b[0m\u001b[0;34m\u001b[0m\u001b[0;34m\u001b[0m\u001b[0m\n\u001b[0;32m----> 2\u001b[0;31m \u001b[0mloaded_model\u001b[0m\u001b[0;34m.\u001b[0m\u001b[0mpredict\u001b[0m\u001b[0;34m(\u001b[0m\u001b[0mnp\u001b[0m\u001b[0;34m.\u001b[0m\u001b[0marray\u001b[0m\u001b[0;34m(\u001b[0m\u001b[0mtemp\u001b[0m\u001b[0;34m.\u001b[0m\u001b[0mloc\u001b[0m\u001b[0;34m[\u001b[0m\u001b[0;36m0\u001b[0m\u001b[0;34m]\u001b[0m\u001b[0;34m.\u001b[0m\u001b[0mvalues\u001b[0m\u001b[0;34m.\u001b[0m\u001b[0mtolist\u001b[0m\u001b[0;34m(\u001b[0m\u001b[0;34m)\u001b[0m\u001b[0;34m)\u001b[0m\u001b[0;34m.\u001b[0m\u001b[0mastype\u001b[0m\u001b[0;34m(\u001b[0m\u001b[0mnp\u001b[0m\u001b[0;34m.\u001b[0m\u001b[0mfloat\u001b[0m\u001b[0;34m)\u001b[0m\u001b[0;34m.\u001b[0m\u001b[0mreshape\u001b[0m\u001b[0;34m(\u001b[0m\u001b[0;36m1\u001b[0m\u001b[0;34m,\u001b[0m \u001b[0;34m-\u001b[0m\u001b[0;36m1\u001b[0m\u001b[0;34m)\u001b[0m\u001b[0;34m)\u001b[0m\u001b[0;34m\u001b[0m\u001b[0;34m\u001b[0m\u001b[0m\n\u001b[0m",
      "\u001b[0;32m~/opt/anaconda3/lib/python3.7/site-packages/xgboost/sklearn.py\u001b[0m in \u001b[0;36mpredict\u001b[0;34m(self, data, output_margin, ntree_limit, validate_features, base_margin)\u001b[0m\n\u001b[1;32m    652\u001b[0m                                           \u001b[0moutput_margin\u001b[0m\u001b[0;34m=\u001b[0m\u001b[0moutput_margin\u001b[0m\u001b[0;34m,\u001b[0m\u001b[0;34m\u001b[0m\u001b[0;34m\u001b[0m\u001b[0m\n\u001b[1;32m    653\u001b[0m                                           \u001b[0mntree_limit\u001b[0m\u001b[0;34m=\u001b[0m\u001b[0mntree_limit\u001b[0m\u001b[0;34m,\u001b[0m\u001b[0;34m\u001b[0m\u001b[0;34m\u001b[0m\u001b[0m\n\u001b[0;32m--> 654\u001b[0;31m                                           validate_features=validate_features)\n\u001b[0m\u001b[1;32m    655\u001b[0m \u001b[0;34m\u001b[0m\u001b[0m\n\u001b[1;32m    656\u001b[0m     \u001b[0;32mdef\u001b[0m \u001b[0mapply\u001b[0m\u001b[0;34m(\u001b[0m\u001b[0mself\u001b[0m\u001b[0;34m,\u001b[0m \u001b[0mX\u001b[0m\u001b[0;34m,\u001b[0m \u001b[0mntree_limit\u001b[0m\u001b[0;34m=\u001b[0m\u001b[0;36m0\u001b[0m\u001b[0;34m)\u001b[0m\u001b[0;34m:\u001b[0m\u001b[0;34m\u001b[0m\u001b[0;34m\u001b[0m\u001b[0m\n",
      "\u001b[0;32m~/opt/anaconda3/lib/python3.7/site-packages/xgboost/core.py\u001b[0m in \u001b[0;36mpredict\u001b[0;34m(self, data, output_margin, ntree_limit, pred_leaf, pred_contribs, approx_contribs, pred_interactions, validate_features, training)\u001b[0m\n\u001b[1;32m   1483\u001b[0m \u001b[0;34m\u001b[0m\u001b[0m\n\u001b[1;32m   1484\u001b[0m         \u001b[0;32mif\u001b[0m \u001b[0mvalidate_features\u001b[0m\u001b[0;34m:\u001b[0m\u001b[0;34m\u001b[0m\u001b[0;34m\u001b[0m\u001b[0m\n\u001b[0;32m-> 1485\u001b[0;31m             \u001b[0mself\u001b[0m\u001b[0;34m.\u001b[0m\u001b[0m_validate_features\u001b[0m\u001b[0;34m(\u001b[0m\u001b[0mdata\u001b[0m\u001b[0;34m)\u001b[0m\u001b[0;34m\u001b[0m\u001b[0;34m\u001b[0m\u001b[0m\n\u001b[0m\u001b[1;32m   1486\u001b[0m \u001b[0;34m\u001b[0m\u001b[0m\n\u001b[1;32m   1487\u001b[0m         \u001b[0mlength\u001b[0m \u001b[0;34m=\u001b[0m \u001b[0mc_bst_ulong\u001b[0m\u001b[0;34m(\u001b[0m\u001b[0;34m)\u001b[0m\u001b[0;34m\u001b[0m\u001b[0;34m\u001b[0m\u001b[0m\n",
      "\u001b[0;32m~/opt/anaconda3/lib/python3.7/site-packages/xgboost/core.py\u001b[0m in \u001b[0;36m_validate_features\u001b[0;34m(self, data)\u001b[0m\n\u001b[1;32m   2059\u001b[0m \u001b[0;34m\u001b[0m\u001b[0m\n\u001b[1;32m   2060\u001b[0m                 raise ValueError(msg.format(self.feature_names,\n\u001b[0;32m-> 2061\u001b[0;31m                                             data.feature_names))\n\u001b[0m\u001b[1;32m   2062\u001b[0m \u001b[0;34m\u001b[0m\u001b[0m\n\u001b[1;32m   2063\u001b[0m     def get_split_value_histogram(self, feature, fmap='', bins=None,\n",
      "\u001b[0;31mValueError\u001b[0m: feature_names mismatch: ['f0', 'f1', 'f2', 'f3', 'f4', 'f5', 'f6', 'f7', 'f8', 'f9', 'f10', 'f11', 'f12', 'f13', 'f14', 'f15', 'f16', 'f17', 'f18', 'f19', 'f20', 'f21', 'f22', 'f23', 'f24', 'f25', 'f26', 'f27', 'f28', 'f29', 'f30', 'f31'] ['f0', 'f1', 'f2', 'f3', 'f4', 'f5', 'f6', 'f7', 'f8', 'f9', 'f10', 'f11', 'f12', 'f13']\nexpected f26, f16, f29, f25, f30, f19, f22, f27, f23, f24, f14, f20, f31, f18, f15, f21, f17, f28 in input data"
     ]
    }
   ],
   "source": [
    "# Predicted Price\n",
    "loaded_model.predict(np.array(temp.loc[0].values.tolist()).astype(np.float).reshape(1, -1))"
   ]
  },
  {
   "cell_type": "code",
   "execution_count": null,
   "metadata": {},
   "outputs": [],
   "source": []
  }
 ],
 "metadata": {
  "colab": {
   "name": "Model_Prediction.ipynb",
   "provenance": []
  },
  "kernelspec": {
   "display_name": "Python 3",
   "language": "python",
   "name": "python3"
  },
  "language_info": {
   "codemirror_mode": {
    "name": "ipython",
    "version": 3
   },
   "file_extension": ".py",
   "mimetype": "text/x-python",
   "name": "python",
   "nbconvert_exporter": "python",
   "pygments_lexer": "ipython3",
   "version": "3.7.6"
  }
 },
 "nbformat": 4,
 "nbformat_minor": 1
}
