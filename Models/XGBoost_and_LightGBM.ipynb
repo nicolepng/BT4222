{
 "cells": [
  {
   "cell_type": "code",
   "execution_count": 2,
   "metadata": {
    "id": "yeorZ8jZn0NA"
   },
   "outputs": [],
   "source": [
    "import pandas as pd\n",
    "import numpy as np\n",
    "from scipy import linalg, optimize\n",
    "import re\n",
    "import random\n",
    "import math\n",
    "import string\n",
    "from nltk.corpus import wordnet as wn\n",
    "from datetime import datetime\n",
    "import matplotlib.pyplot as plt\n",
    "from sklearn.svm import SVC\n",
    "from sklearn import preprocessing, decomposition, model_selection, metrics, pipeline\n",
    "from sklearn.model_selection import GridSearchCV\n",
    "from sklearn.feature_extraction.text import TfidfVectorizer, CountVectorizer\n",
    "from sklearn.decomposition import TruncatedSVD\n",
    "from sklearn.linear_model import LogisticRegression\n",
    "from sklearn.linear_model import LinearRegression\n",
    "from sklearn.linear_model import SGDRegressor\n",
    "from sklearn.model_selection import train_test_split\n",
    "from sklearn.neighbors import KNeighborsClassifier\n",
    "from sklearn.naive_bayes import MultinomialNB\n",
    "from sklearn.metrics import confusion_matrix, accuracy_score\n",
    "from sklearn.metrics import make_scorer\n",
    "from sklearn.model_selection import cross_val_score\n",
    "from sklearn.preprocessing import StandardScaler\n",
    "from sklearn.dummy import DummyClassifier\n",
    "from sklearn.preprocessing import OneHotEncoder\n",
    "from sklearn import preprocessing\n",
    "from sklearn import metrics\n",
    "from sklearn.preprocessing import LabelEncoder\n",
    "from nltk import word_tokenize\n",
    "from scipy import optimize\n",
    "from nltk.tokenize import word_tokenize\n",
    "from nltk.corpus import stopwords\n",
    "from scipy.sparse import coo_matrix, hstack, vstack\n",
    "import seaborn as sns\n",
    "from textblob import TextBlob\n",
    "# Graphing: \n",
    "%matplotlib inline\n"
   ]
  },
  {
   "cell_type": "code",
   "execution_count": 3,
   "metadata": {
    "colab": {
     "base_uri": "https://localhost:8080/"
    },
    "id": "Bl8jrisUnzKi",
    "outputId": "67a031a8-3750-49c5-9f0c-062f1b477fa7"
   },
   "outputs": [
    {
     "name": "stdout",
     "output_type": "stream",
     "text": [
      "Drive already mounted at /content/drive; to attempt to forcibly remount, call drive.mount(\"/content/drive\", force_remount=True).\n",
      "'/content/drive/My Drive/BT4222 Data/data.csv'\n"
     ]
    }
   ],
   "source": [
    "from google.colab import drive\n",
    "drive.mount('/content/drive')\n",
    "\n",
    "!ls \"/content/drive/My Drive/BT4222 Data/data.csv\"\n",
    "# path = './data/sms.tsv'\n",
    "path = '/content/drive/My Drive/BT4222 Data/data.csv'\n",
    "\n",
    "df = pd.read_csv(path)"
   ]
  },
  {
   "cell_type": "code",
   "execution_count": 4,
   "metadata": {
    "id": "b0lLl_Uxn9VJ"
   },
   "outputs": [],
   "source": [
    "# for now, fill up by mean first\n",
    "df['crime_number'].fillna(value=df['crime_number'].mean(), inplace=True)"
   ]
  },
  {
   "cell_type": "code",
   "execution_count": 5,
   "metadata": {
    "id": "QvcNIFUQn92O"
   },
   "outputs": [],
   "source": [
    "# transform school to count \n",
    "def replacement(x):\n",
    "  x = x.replace('\"', \"'\")\n",
    "  return x\n",
    "df['school'] = df.school.apply(replacement)\n",
    "\n",
    "def remove_fb(x):\n",
    "  x = str(x)\n",
    "  x = x[1:-1]\n",
    "  return x\n",
    "df['school'] = df.school.apply(remove_fb)\n",
    "\n",
    "def convert_str(x):\n",
    "  li = list(x.split(\", '\"))\n",
    "  return li \n",
    "df['school'] = df.school.apply(convert_str) "
   ]
  },
  {
   "cell_type": "code",
   "execution_count": 6,
   "metadata": {
    "colab": {
     "base_uri": "https://localhost:8080/"
    },
    "id": "7yMWhN8koHOr",
    "outputId": "439e4513-f9c4-413e-c7f4-712b2e924b34"
   },
   "outputs": [
    {
     "data": {
      "text/plain": [
       "0         27\n",
       "1         27\n",
       "2         27\n",
       "3         27\n",
       "4         11\n",
       "          ..\n",
       "132602    18\n",
       "132603    18\n",
       "132604    18\n",
       "132605    18\n",
       "132606    18\n",
       "Name: school, Length: 132607, dtype: int64"
      ]
     },
     "execution_count": 6,
     "metadata": {
      "tags": []
     },
     "output_type": "execute_result"
    }
   ],
   "source": [
    "df['school'] = df.school.apply(len)\n",
    "df['school']"
   ]
  },
  {
   "cell_type": "code",
   "execution_count": 7,
   "metadata": {
    "id": "qbKulkCsoIxM"
   },
   "outputs": [],
   "source": [
    "# supermarkets to count\n",
    "df['supermarkets'] = df.supermarkets.apply(remove_fb)\n",
    "df['supermarkets'] = df.supermarkets.apply(convert_str) \n",
    "df['supermarkets'] = df.supermarkets.apply(len)"
   ]
  },
  {
   "cell_type": "code",
   "execution_count": 8,
   "metadata": {
    "id": "8msLHgNioP_Y"
   },
   "outputs": [],
   "source": [
    "# hawker to count\n",
    "df['h'] = df.hawkercentre.apply(remove_fb)\n",
    "df.h\n",
    "df['h'] = df.h.apply(convert_str) \n",
    "df['h'] = df.h.apply(len)"
   ]
  },
  {
   "cell_type": "code",
   "execution_count": 9,
   "metadata": {
    "id": "Xrr6Kk1loW_w"
   },
   "outputs": [],
   "source": [
    "df = df.rename(columns={\"h\": \"hawkers\"})"
   ]
  },
  {
   "cell_type": "code",
   "execution_count": 14,
   "metadata": {
    "id": "Bv50Oav1oZ_O"
   },
   "outputs": [],
   "source": [
    "df.drop(df.columns[0], axis = 1, inplace = True)"
   ]
  },
  {
   "cell_type": "code",
   "execution_count": 15,
   "metadata": {
    "colab": {
     "base_uri": "https://localhost:8080/"
    },
    "id": "jxQlmQCzozln",
    "outputId": "0befdbda-f62f-4ef7-8239-3d41a4d145dd"
   },
   "outputs": [
    {
     "data": {
      "text/plain": [
       "0         0\n",
       "1         0\n",
       "2         0\n",
       "3         0\n",
       "4         1\n",
       "         ..\n",
       "132602    3\n",
       "132603    3\n",
       "132604    1\n",
       "132605    1\n",
       "132606    2\n",
       "Name: floor, Length: 132607, dtype: int64"
      ]
     },
     "execution_count": 15,
     "metadata": {
      "tags": []
     },
     "output_type": "execute_result"
    }
   ],
   "source": [
    "# encode property type and floor range\n",
    "le = preprocessing.LabelEncoder()\n",
    "df['prop'] = le.fit_transform(df['propertyType'])\n",
    "\n",
    "le2 = preprocessing.LabelEncoder()\n",
    "df['floor'] = le2.fit_transform(df['floor_range'])\n",
    "df['floor']"
   ]
  },
  {
   "cell_type": "code",
   "execution_count": 16,
   "metadata": {
    "colab": {
     "base_uri": "https://localhost:8080/",
     "height": 633
    },
    "id": "DTcsMxl0o7AU",
    "outputId": "45c18e04-bb76-4cad-afbf-62b113201864"
   },
   "outputs": [
    {
     "data": {
      "text/plain": [
       "<matplotlib.axes._subplots.AxesSubplot at 0x7f5a259d2950>"
      ]
     },
     "execution_count": 16,
     "metadata": {
      "tags": []
     },
     "output_type": "execute_result"
    },
    {
     "data": {
      "image/png": "[encoded data removed]",
      "text/plain": [
       "<Figure size 792x648 with 2 Axes>"
      ]
     },
     "metadata": {
      "needs_background": "light",
      "tags": []
     },
     "output_type": "display_data"
    }
   ],
   "source": [
    "# correlation analysis\n",
    "corr = df.corr()\n",
    "mask = np.triu(np.ones_like(corr, dtype=bool))\n",
    "# Set up the matplotlib figure\n",
    "f, ax = plt.subplots(figsize=(11, 9))\n",
    "\n",
    "# Generate a custom diverging colormap\n",
    "cmap = sns.diverging_palette(230, 20, as_cmap=True)\n",
    "\n",
    "# Draw the heatmap with the mask and correct aspect ratio\n",
    "sns.heatmap(corr, mask=mask, cmap=cmap, vmax=1.0, center=0,\n",
    "            square=True, linewidths=.5, cbar_kws={\"shrink\": .5})"
   ]
  },
  {
   "cell_type": "code",
   "execution_count": 18,
   "metadata": {
    "id": "LohDOgyyo_rJ"
   },
   "outputs": [],
   "source": [
    "features = ['district', 'school', 'supermarkets', 'Bus Stops Nearby', 'crime_number', 'latitude', 'longitude', 'floor_area_sqm', 'hawkers', 'remaining_lease', 'prop', 'floor', 'sentiment']\n",
    "X = df[features]\n",
    "y = df['price']\n",
    "# Scaled\n",
    "y /= 1000000\n",
    "X_train, X_test, y_train, y_test = train_test_split(X, y, random_state=1)\n"
   ]
  },
  {
   "cell_type": "code",
   "execution_count": 19,
   "metadata": {
    "colab": {
     "base_uri": "https://localhost:8080/"
    },
    "id": "9_aHHFL0pMEK",
    "outputId": "ab257263-6c4a-4c34-f431-9626c379c194"
   },
   "outputs": [
    {
     "name": "stdout",
     "output_type": "stream",
     "text": [
      "Fitting 5 folds for each of 30 candidates, totalling 150 fits\n"
     ]
    },
    {
     "name": "stderr",
     "output_type": "stream",
     "text": [
      "[Parallel(n_jobs=-1)]: Using backend LokyBackend with 2 concurrent workers.\n",
      "[Parallel(n_jobs=-1)]: Done  46 tasks      | elapsed:  1.1min\n",
      "[Parallel(n_jobs=-1)]: Done 150 out of 150 | elapsed:  3.4min finished\n"
     ]
    },
    {
     "name": "stdout",
     "output_type": "stream",
     "text": [
      "Pipeline(memory=None,\n",
      "         steps=[('standardize',\n",
      "                 StandardScaler(copy=True, with_mean=True, with_std=True)),\n",
      "                ('model',\n",
      "                 LGBMRegressor(boosting_type='gbdt', class_weight=None,\n",
      "                               colsample_bytree=0.2, eval_metric='rmse',\n",
      "                               importance_type='split', learning_rate=0.1,\n",
      "                               max_depth=10, min_child_samples=20,\n",
      "                               min_child_weight=0.001, min_samples_leaf=2,\n",
      "                               min_split_gain=0.0, n_estimators=300, n_jobs=-1,\n",
      "                               num_leaves=31, objective=None, random_state=None,\n",
      "                               reg_alpha=0.0, reg_lambda=0.0, silent=True,\n",
      "                               subsample=0.9, subsample_for_bin=200000,\n",
      "                               subsample_freq=0))],\n",
      "         verbose=False)\n",
      "Training Errors\n",
      "Mean Squared Error:  0.22345871398099765\n",
      "Mean Absolute Error:  0.1160138635522181\n",
      "r-squared:  0.9173088572226077\n",
      "Test Errors\n",
      "Mean Squared Error:  0.17818181815628634\n",
      "Mean Absolute Error:  0.12114506105823268\n",
      "r-squared:  0.9265858468978376\n"
     ]
    }
   ],
   "source": [
    "# LightGBM RMSE: 42111\n",
    "from sklearn.ensemble import RandomForestRegressor\n",
    "from sklearn import preprocessing\n",
    "from lightgbm import LGBMRegressor\n",
    "rf = LGBMRegressor(n_estimators=300, subsample=0.9, colsample_bytree=0.2, eval_metric = 'rmse')\n",
    "# set up 5-fold cross-validation\n",
    "from sklearn import model_selection\n",
    "cv = model_selection.KFold(5)\n",
    "# pipeline standardization and model\n",
    "from sklearn.pipeline import Pipeline\n",
    "pipeline = Pipeline(steps=[('standardize', preprocessing.StandardScaler())\n",
    "                           , ('model', rf) ])\n",
    "# tune the model\n",
    "my_min_samples_leaf = [2, 10, 25, 50, 100]\n",
    "my_max_depth = [7, 8, 9, 10, 11, 12]\n",
    "# run the model using gridsearch, select the model with best search\n",
    "from sklearn.model_selection import GridSearchCV\n",
    "optimized_rf = GridSearchCV(estimator=pipeline\n",
    "                            , cv=cv\n",
    "                            , param_grid =dict(model__min_samples_leaf = my_min_samples_leaf, model__max_depth = my_max_depth)\n",
    "                            , scoring = 'neg_mean_squared_error'\n",
    "                            , verbose = 1\n",
    "                            , n_jobs = -1\n",
    "                           )\n",
    "optimized_rf.fit(X_train, y_train)\n",
    "# show the best model estimators\n",
    "print(optimized_rf.best_estimator_)\n",
    "# evaluate metrics on holdout\n",
    "from sklearn.metrics import mean_squared_error, mean_absolute_error, r2_score\n",
    "y_train_pred = optimized_rf.predict(X_train)\n",
    "y_pred = optimized_rf.predict(X_test)\n",
    "print('Training Errors')\n",
    "print(\"Mean Squared Error: \", mean_squared_error(y_train, y_train_pred))\n",
    "print(\"Mean Absolute Error: \", mean_absolute_error(y_train, y_train_pred))\n",
    "print(\"r-squared: \", r2_score(y_train, y_train_pred))\n",
    "print('Test Errors')\n",
    "print(\"Mean Squared Error: \", mean_squared_error(y_test, y_pred))\n",
    "print(\"Mean Absolute Error: \", mean_absolute_error(y_test, y_pred))\n",
    "print(\"r-squared: \", r2_score(y_test, y_pred))"
   ]
  },
  {
   "cell_type": "code",
   "execution_count": null,
   "metadata": {
    "colab": {
     "base_uri": "https://localhost:8080/"
    },
    "id": "5m2HX0QQpklo",
    "outputId": "81023821-b4c2-498a-9642-3b353103469e"
   },
   "outputs": [
    {
     "name": "stdout",
     "output_type": "stream",
     "text": [
      "Fitting 5 folds for each of 30 candidates, totalling 150 fits\n"
     ]
    },
    {
     "name": "stderr",
     "output_type": "stream",
     "text": [
      "[Parallel(n_jobs=-1)]: Using backend LokyBackend with 2 concurrent workers.\n",
      "[Parallel(n_jobs=-1)]: Done  46 tasks      | elapsed:  9.5min\n"
     ]
    }
   ],
   "source": [
    "# XGBoost RMSE: \n",
    "from sklearn.ensemble import RandomForestRegressor\n",
    "import xgboost\n",
    "from sklearn import preprocessing\n",
    "from xgboost import XGBRFRegressor\n",
    "rf = xgboost.XGBRegressor(n_estimators=300, subsample=0.9, colsample_bynode=0.2, n_fold = 5, eval_metric = 'rmse')\n",
    "# set up 5-fold cross-validation\n",
    "from sklearn import model_selection\n",
    "cv = model_selection.KFold(5)\n",
    "# pipeline standardization and model\n",
    "from sklearn.pipeline import Pipeline\n",
    "pipeline = Pipeline(steps=[('standardize', preprocessing.StandardScaler())\n",
    "                           , ('model', rf) ])\n",
    "# tune the model\n",
    "my_min_samples_leaf = [2, 10, 25, 50, 100]\n",
    "my_max_depth = [7, 8, 9, 10, 11, 12]\n",
    "# run the model using gridsearch, select the model with best search\n",
    "from sklearn.model_selection import GridSearchCV\n",
    "optimized_rf = GridSearchCV(estimator=pipeline\n",
    "                            , cv=cv\n",
    "                            , param_grid =dict(model__min_samples_leaf = my_min_samples_leaf, model__max_depth = my_max_depth)\n",
    "                            , scoring = 'neg_mean_squared_error'\n",
    "                            , verbose = 1\n",
    "                            , n_jobs = -1\n",
    "                           )\n",
    "optimized_rf.fit(X_train, y_train)\n",
    "# show the best model estimators\n",
    "print(optimized_rf.best_estimator_)\n",
    "# evaluate metrics on holdout\n",
    "from sklearn.metrics import mean_squared_error, mean_absolute_error, r2_score\n",
    "y_train_pred = optimized_rf.predict(X_train)\n",
    "y_pred = optimized_rf.predict(X_test)\n",
    "print('Training Errors')\n",
    "print(\"Mean Squared Error: \", mean_squared_error(y_train, y_train_pred))\n",
    "print(\"Mean Absolute Error: \", mean_absolute_error(y_train, y_train_pred))\n",
    "print(\"r-squared: \", r2_score(y_train, y_train_pred))\n",
    "print('Test Errors')\n",
    "print(\"Mean Squared Error: \", mean_squared_error(y_test, y_pred))\n",
    "print(\"Mean Absolute Error: \", mean_absolute_error(y_test, y_pred))\n",
    "print(\"r-squared: \", r2_score(y_test, y_pred))  "
   ]
  }
 ],
 "metadata": {
  "colab": {
   "collapsed_sections": [],
   "name": "XGBoost and LightGBM.ipynb",
   "provenance": []
  },
  "kernelspec": {
   "display_name": "Python 3",
   "language": "python",
   "name": "python3"
  },
  "language_info": {
   "codemirror_mode": {
    "name": "ipython",
    "version": 3
   },
   "file_extension": ".py",
   "mimetype": "text/x-python",
   "name": "python",
   "nbconvert_exporter": "python",
   "pygments_lexer": "ipython3",
   "version": "3.7.6"
  }
 },
 "nbformat": 4,
 "nbformat_minor": 1
}
