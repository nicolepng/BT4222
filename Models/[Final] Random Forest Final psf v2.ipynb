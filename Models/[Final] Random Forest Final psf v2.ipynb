{
 "cells": [
  {
   "cell_type": "markdown",
   "metadata": {},
   "source": [
    "### Import Libraries"
   ]
  },
  {
   "cell_type": "code",
   "execution_count": 1,
   "metadata": {},
   "outputs": [],
   "source": [
    "import matplotlib.pyplot as plt\n",
    "import numpy as np\n",
    "import pandas as pd\n",
    "import pickle\n",
    "import seaborn as sns\n",
    "from sklearn import tree, ensemble, model_selection, metrics\n",
    "from sklearn.ensemble import RandomForestRegressor\n",
    "from sklearn.metrics import mean_squared_error, mean_absolute_error, r2_score\n",
    "from sklearn.model_selection import RandomizedSearchCV, train_test_split\n",
    "from sklearn.preprocessing import LabelEncoder, MinMaxScaler, OneHotEncoder"
   ]
  },
  {
   "cell_type": "markdown",
   "metadata": {},
   "source": [
    "### Import Datasets"
   ]
  },
  {
   "cell_type": "code",
   "execution_count": 2,
   "metadata": {},
   "outputs": [
    {
     "data": {
      "text/html": [
       "<div>\n",
       "<style scoped>\n",
       "    .dataframe tbody tr th:only-of-type {\n",
       "        vertical-align: middle;\n",
       "    }\n",
       "\n",
       "    .dataframe tbody tr th {\n",
       "        vertical-align: top;\n",
       "    }\n",
       "\n",
       "    .dataframe thead th {\n",
       "        text-align: right;\n",
       "    }\n",
       "</style>\n",
       "<table border=\"1\" class=\"dataframe\">\n",
       "  <thead>\n",
       "    <tr style=\"text-align: right;\">\n",
       "      <th></th>\n",
       "      <th>district</th>\n",
       "      <th>street</th>\n",
       "      <th>propertyType</th>\n",
       "      <th>remaining_lease</th>\n",
       "      <th>school</th>\n",
       "      <th>hawkercentre</th>\n",
       "      <th>supermarkets</th>\n",
       "      <th>Bus Stops Nearby</th>\n",
       "      <th>crime_number</th>\n",
       "      <th>latitude</th>\n",
       "      <th>longitude</th>\n",
       "      <th>floor_range</th>\n",
       "      <th>sentiment</th>\n",
       "      <th>month</th>\n",
       "      <th>floor_area_sqft</th>\n",
       "      <th>price_psf</th>\n",
       "    </tr>\n",
       "  </thead>\n",
       "  <tbody>\n",
       "    <tr>\n",
       "      <td>0</td>\n",
       "      <td>5</td>\n",
       "      <td>ZEHNDER ROAD</td>\n",
       "      <td>Semi-detached</td>\n",
       "      <td>999.0</td>\n",
       "      <td>27</td>\n",
       "      <td>6</td>\n",
       "      <td>8</td>\n",
       "      <td>0</td>\n",
       "      <td>-1.0</td>\n",
       "      <td>1.282130</td>\n",
       "      <td>103.786879</td>\n",
       "      <td>-</td>\n",
       "      <td>0.154684</td>\n",
       "      <td>2020-02</td>\n",
       "      <td>5643.51277</td>\n",
       "      <td>974.570312</td>\n",
       "    </tr>\n",
       "    <tr>\n",
       "      <td>1</td>\n",
       "      <td>5</td>\n",
       "      <td>ZEHNDER ROAD</td>\n",
       "      <td>Semi-detached</td>\n",
       "      <td>999.0</td>\n",
       "      <td>27</td>\n",
       "      <td>6</td>\n",
       "      <td>8</td>\n",
       "      <td>0</td>\n",
       "      <td>-1.0</td>\n",
       "      <td>1.282130</td>\n",
       "      <td>103.786879</td>\n",
       "      <td>-</td>\n",
       "      <td>0.122456</td>\n",
       "      <td>2018-09</td>\n",
       "      <td>3315.28120</td>\n",
       "      <td>1508.167693</td>\n",
       "    </tr>\n",
       "    <tr>\n",
       "      <td>2</td>\n",
       "      <td>5</td>\n",
       "      <td>ZEHNDER ROAD</td>\n",
       "      <td>Semi-detached</td>\n",
       "      <td>999.0</td>\n",
       "      <td>27</td>\n",
       "      <td>6</td>\n",
       "      <td>8</td>\n",
       "      <td>0</td>\n",
       "      <td>-1.0</td>\n",
       "      <td>1.282130</td>\n",
       "      <td>103.786879</td>\n",
       "      <td>-</td>\n",
       "      <td>0.122456</td>\n",
       "      <td>2018-06</td>\n",
       "      <td>3379.86460</td>\n",
       "      <td>1405.381742</td>\n",
       "    </tr>\n",
       "    <tr>\n",
       "      <td>3</td>\n",
       "      <td>5</td>\n",
       "      <td>NEO PEE TECK LANE</td>\n",
       "      <td>Strata Terrace</td>\n",
       "      <td>999.0</td>\n",
       "      <td>27</td>\n",
       "      <td>6</td>\n",
       "      <td>8</td>\n",
       "      <td>2</td>\n",
       "      <td>-1.0</td>\n",
       "      <td>1.292047</td>\n",
       "      <td>103.768591</td>\n",
       "      <td>-</td>\n",
       "      <td>0.139334</td>\n",
       "      <td>2021-03</td>\n",
       "      <td>2002.08540</td>\n",
       "      <td>939.020883</td>\n",
       "    </tr>\n",
       "    <tr>\n",
       "      <td>4</td>\n",
       "      <td>5</td>\n",
       "      <td>NEO PEE TECK LANE</td>\n",
       "      <td>Terrace</td>\n",
       "      <td>999.0</td>\n",
       "      <td>27</td>\n",
       "      <td>6</td>\n",
       "      <td>8</td>\n",
       "      <td>2</td>\n",
       "      <td>-1.0</td>\n",
       "      <td>1.292047</td>\n",
       "      <td>103.768591</td>\n",
       "      <td>-</td>\n",
       "      <td>0.154684</td>\n",
       "      <td>2020-03</td>\n",
       "      <td>1714.68927</td>\n",
       "      <td>1533.805597</td>\n",
       "    </tr>\n",
       "  </tbody>\n",
       "</table>\n",
       "</div>"
      ],
      "text/plain": [
       "   district             street    propertyType  remaining_lease  school  \\\n",
       "0         5       ZEHNDER ROAD   Semi-detached            999.0      27   \n",
       "1         5       ZEHNDER ROAD   Semi-detached            999.0      27   \n",
       "2         5       ZEHNDER ROAD   Semi-detached            999.0      27   \n",
       "3         5  NEO PEE TECK LANE  Strata Terrace            999.0      27   \n",
       "4         5  NEO PEE TECK LANE         Terrace            999.0      27   \n",
       "\n",
       "   hawkercentre  supermarkets  Bus Stops Nearby  crime_number  latitude  \\\n",
       "0             6             8                 0          -1.0  1.282130   \n",
       "1             6             8                 0          -1.0  1.282130   \n",
       "2             6             8                 0          -1.0  1.282130   \n",
       "3             6             8                 2          -1.0  1.292047   \n",
       "4             6             8                 2          -1.0  1.292047   \n",
       "\n",
       "    longitude floor_range  sentiment    month  floor_area_sqft    price_psf  \n",
       "0  103.786879           -   0.154684  2020-02       5643.51277   974.570312  \n",
       "1  103.786879           -   0.122456  2018-09       3315.28120  1508.167693  \n",
       "2  103.786879           -   0.122456  2018-06       3379.86460  1405.381742  \n",
       "3  103.768591           -   0.139334  2021-03       2002.08540   939.020883  \n",
       "4  103.768591           -   0.154684  2020-03       1714.68927  1533.805597  "
      ]
     },
     "execution_count": 2,
     "metadata": {},
     "output_type": "execute_result"
    }
   ],
   "source": [
    "df = pd.read_csv('combined_psf.csv')\n",
    "df.drop(df.columns[0], axis = 1, inplace=True)\n",
    "df.head()"
   ]
  },
  {
   "cell_type": "markdown",
   "metadata": {},
   "source": [
    "### Preprocessing, Mapping and Train-Test Split"
   ]
  },
  {
   "cell_type": "code",
   "execution_count": 3,
   "metadata": {},
   "outputs": [
    {
     "data": {
      "text/html": [
       "<div>\n",
       "<style scoped>\n",
       "    .dataframe tbody tr th:only-of-type {\n",
       "        vertical-align: middle;\n",
       "    }\n",
       "\n",
       "    .dataframe tbody tr th {\n",
       "        vertical-align: top;\n",
       "    }\n",
       "\n",
       "    .dataframe thead th {\n",
       "        text-align: right;\n",
       "    }\n",
       "</style>\n",
       "<table border=\"1\" class=\"dataframe\">\n",
       "  <thead>\n",
       "    <tr style=\"text-align: right;\">\n",
       "      <th></th>\n",
       "      <th>district</th>\n",
       "      <th>street</th>\n",
       "      <th>propertyType</th>\n",
       "      <th>remaining_lease</th>\n",
       "      <th>school</th>\n",
       "      <th>hawkercentre</th>\n",
       "      <th>supermarkets</th>\n",
       "      <th>Bus Stops Nearby</th>\n",
       "      <th>crime_number</th>\n",
       "      <th>latitude</th>\n",
       "      <th>longitude</th>\n",
       "      <th>floor_range</th>\n",
       "      <th>sentiment</th>\n",
       "      <th>month</th>\n",
       "      <th>floor_area_sqft</th>\n",
       "      <th>price_psf</th>\n",
       "    </tr>\n",
       "  </thead>\n",
       "  <tbody>\n",
       "    <tr>\n",
       "      <td>0</td>\n",
       "      <td>5</td>\n",
       "      <td>ZEHNDER ROAD</td>\n",
       "      <td>Semi-detached</td>\n",
       "      <td>999.0</td>\n",
       "      <td>27</td>\n",
       "      <td>6</td>\n",
       "      <td>8</td>\n",
       "      <td>0</td>\n",
       "      <td>-1.0</td>\n",
       "      <td>1.282130</td>\n",
       "      <td>103.786879</td>\n",
       "      <td>-</td>\n",
       "      <td>0.154684</td>\n",
       "      <td>2020-02</td>\n",
       "      <td>5643.51277</td>\n",
       "      <td>974.570312</td>\n",
       "    </tr>\n",
       "    <tr>\n",
       "      <td>1</td>\n",
       "      <td>5</td>\n",
       "      <td>ZEHNDER ROAD</td>\n",
       "      <td>Semi-detached</td>\n",
       "      <td>999.0</td>\n",
       "      <td>27</td>\n",
       "      <td>6</td>\n",
       "      <td>8</td>\n",
       "      <td>0</td>\n",
       "      <td>-1.0</td>\n",
       "      <td>1.282130</td>\n",
       "      <td>103.786879</td>\n",
       "      <td>-</td>\n",
       "      <td>0.122456</td>\n",
       "      <td>2018-09</td>\n",
       "      <td>3315.28120</td>\n",
       "      <td>1508.167693</td>\n",
       "    </tr>\n",
       "    <tr>\n",
       "      <td>2</td>\n",
       "      <td>5</td>\n",
       "      <td>ZEHNDER ROAD</td>\n",
       "      <td>Semi-detached</td>\n",
       "      <td>999.0</td>\n",
       "      <td>27</td>\n",
       "      <td>6</td>\n",
       "      <td>8</td>\n",
       "      <td>0</td>\n",
       "      <td>-1.0</td>\n",
       "      <td>1.282130</td>\n",
       "      <td>103.786879</td>\n",
       "      <td>-</td>\n",
       "      <td>0.122456</td>\n",
       "      <td>2018-06</td>\n",
       "      <td>3379.86460</td>\n",
       "      <td>1405.381742</td>\n",
       "    </tr>\n",
       "    <tr>\n",
       "      <td>3</td>\n",
       "      <td>5</td>\n",
       "      <td>NEO PEE TECK LANE</td>\n",
       "      <td>Strata Terrace</td>\n",
       "      <td>999.0</td>\n",
       "      <td>27</td>\n",
       "      <td>6</td>\n",
       "      <td>8</td>\n",
       "      <td>2</td>\n",
       "      <td>-1.0</td>\n",
       "      <td>1.292047</td>\n",
       "      <td>103.768591</td>\n",
       "      <td>-</td>\n",
       "      <td>0.139334</td>\n",
       "      <td>2021-03</td>\n",
       "      <td>2002.08540</td>\n",
       "      <td>939.020883</td>\n",
       "    </tr>\n",
       "    <tr>\n",
       "      <td>4</td>\n",
       "      <td>5</td>\n",
       "      <td>NEO PEE TECK LANE</td>\n",
       "      <td>Terrace</td>\n",
       "      <td>999.0</td>\n",
       "      <td>27</td>\n",
       "      <td>6</td>\n",
       "      <td>8</td>\n",
       "      <td>2</td>\n",
       "      <td>-1.0</td>\n",
       "      <td>1.292047</td>\n",
       "      <td>103.768591</td>\n",
       "      <td>-</td>\n",
       "      <td>0.154684</td>\n",
       "      <td>2020-03</td>\n",
       "      <td>1714.68927</td>\n",
       "      <td>1533.805597</td>\n",
       "    </tr>\n",
       "  </tbody>\n",
       "</table>\n",
       "</div>"
      ],
      "text/plain": [
       "   district             street    propertyType  remaining_lease  school  \\\n",
       "0         5       ZEHNDER ROAD   Semi-detached            999.0      27   \n",
       "1         5       ZEHNDER ROAD   Semi-detached            999.0      27   \n",
       "2         5       ZEHNDER ROAD   Semi-detached            999.0      27   \n",
       "3         5  NEO PEE TECK LANE  Strata Terrace            999.0      27   \n",
       "4         5  NEO PEE TECK LANE         Terrace            999.0      27   \n",
       "\n",
       "   hawkercentre  supermarkets  Bus Stops Nearby  crime_number  latitude  \\\n",
       "0             6             8                 0          -1.0  1.282130   \n",
       "1             6             8                 0          -1.0  1.282130   \n",
       "2             6             8                 0          -1.0  1.282130   \n",
       "3             6             8                 2          -1.0  1.292047   \n",
       "4             6             8                 2          -1.0  1.292047   \n",
       "\n",
       "    longitude floor_range  sentiment    month  floor_area_sqft    price_psf  \n",
       "0  103.786879           -   0.154684  2020-02       5643.51277   974.570312  \n",
       "1  103.786879           -   0.122456  2018-09       3315.28120  1508.167693  \n",
       "2  103.786879           -   0.122456  2018-06       3379.86460  1405.381742  \n",
       "3  103.768591           -   0.139334  2021-03       2002.08540   939.020883  \n",
       "4  103.768591           -   0.154684  2020-03       1714.68927  1533.805597  "
      ]
     },
     "execution_count": 3,
     "metadata": {},
     "output_type": "execute_result"
    }
   ],
   "source": [
    "# Preprocessing\n",
    "df['floor_range'] = df['floor_range'].str.replace('~', '')\n",
    "df.head()"
   ]
  },
  {
   "cell_type": "code",
   "execution_count": 4,
   "metadata": {},
   "outputs": [
    {
     "data": {
      "text/plain": [
       "district              int64\n",
       "street                int16\n",
       "propertyType           int8\n",
       "remaining_lease     float64\n",
       "school                int64\n",
       "hawkercentre          int64\n",
       "supermarkets          int64\n",
       "Bus Stops Nearby      int64\n",
       "crime_number        float64\n",
       "latitude            float64\n",
       "longitude           float64\n",
       "floor_range            int8\n",
       "sentiment           float64\n",
       "month                object\n",
       "floor_area_sqft     float64\n",
       "price_psf           float64\n",
       "dtype: object"
      ]
     },
     "execution_count": 4,
     "metadata": {},
     "output_type": "execute_result"
    }
   ],
   "source": [
    "# Label encoding\n",
    "df['street'] = df['street'].str.upper()\n",
    "df['street'] = df['street'].astype('category')\n",
    "street_dict = dict(zip(df['street'].cat.codes, df['street']))\n",
    "df['street'] = df['street'].cat.codes\n",
    "\n",
    "df['propertyType'] = df['propertyType'].astype('category')\n",
    "property_dict = dict(zip(df['propertyType'].cat.codes, df['propertyType']))\n",
    "df['propertyType'] = df['propertyType'].cat.codes\n",
    "\n",
    "df['floor_range'] = df['floor_range'].astype('category')\n",
    "floor_dict = dict(zip(df['floor_range'].cat.codes, df['floor_range']))\n",
    "df['floor_range'] = df['floor_range'].cat.codes\n",
    "\n",
    "# # Mapping\n",
    "# import pickle\n",
    "# street_mapping = pickle.load(open('street_mapping.pickle', 'rb'))\n",
    "# floor_mapping = pickle.load(open('floor_mapping.pickle', 'rb'))\n",
    "# property_mapping = pickle.load(open('property_mapping.pickle', 'rb'))\n",
    "\n",
    "# df['street'] = df['street'].str.upper()\n",
    "# df['street'] = df['street'].map(street_mapping)\n",
    "# df['propertyType'] = df['propertyType'].map(property_mapping)\n",
    "# df['floor_range'] = df['floor_range'].map(floor_mapping)\n",
    "\n",
    "df.dtypes"
   ]
  },
  {
   "cell_type": "code",
   "execution_count": 5,
   "metadata": {},
   "outputs": [
    {
     "data": {
      "text/html": [
       "<div>\n",
       "<style scoped>\n",
       "    .dataframe tbody tr th:only-of-type {\n",
       "        vertical-align: middle;\n",
       "    }\n",
       "\n",
       "    .dataframe tbody tr th {\n",
       "        vertical-align: top;\n",
       "    }\n",
       "\n",
       "    .dataframe thead th {\n",
       "        text-align: right;\n",
       "    }\n",
       "</style>\n",
       "<table border=\"1\" class=\"dataframe\">\n",
       "  <thead>\n",
       "    <tr style=\"text-align: right;\">\n",
       "      <th></th>\n",
       "      <th>district</th>\n",
       "      <th>street</th>\n",
       "      <th>propertyType</th>\n",
       "      <th>remaining_lease</th>\n",
       "      <th>school</th>\n",
       "      <th>hawkercentre</th>\n",
       "      <th>supermarkets</th>\n",
       "      <th>Bus Stops Nearby</th>\n",
       "      <th>crime_number</th>\n",
       "      <th>latitude</th>\n",
       "      <th>longitude</th>\n",
       "      <th>floor_range</th>\n",
       "      <th>sentiment</th>\n",
       "      <th>month</th>\n",
       "      <th>floor_area_sqft</th>\n",
       "      <th>price_psf</th>\n",
       "    </tr>\n",
       "  </thead>\n",
       "  <tbody>\n",
       "    <tr>\n",
       "      <td>0</td>\n",
       "      <td>5</td>\n",
       "      <td>2016</td>\n",
       "      <td>11</td>\n",
       "      <td>999.0</td>\n",
       "      <td>27</td>\n",
       "      <td>6</td>\n",
       "      <td>8</td>\n",
       "      <td>0</td>\n",
       "      <td>-1.0</td>\n",
       "      <td>1.282130</td>\n",
       "      <td>103.786879</td>\n",
       "      <td>10</td>\n",
       "      <td>0.154684</td>\n",
       "      <td>2020-02</td>\n",
       "      <td>5643.51277</td>\n",
       "      <td>974.570312</td>\n",
       "    </tr>\n",
       "    <tr>\n",
       "      <td>1</td>\n",
       "      <td>5</td>\n",
       "      <td>2016</td>\n",
       "      <td>11</td>\n",
       "      <td>999.0</td>\n",
       "      <td>27</td>\n",
       "      <td>6</td>\n",
       "      <td>8</td>\n",
       "      <td>0</td>\n",
       "      <td>-1.0</td>\n",
       "      <td>1.282130</td>\n",
       "      <td>103.786879</td>\n",
       "      <td>10</td>\n",
       "      <td>0.122456</td>\n",
       "      <td>2018-09</td>\n",
       "      <td>3315.28120</td>\n",
       "      <td>1508.167693</td>\n",
       "    </tr>\n",
       "    <tr>\n",
       "      <td>2</td>\n",
       "      <td>5</td>\n",
       "      <td>2016</td>\n",
       "      <td>11</td>\n",
       "      <td>999.0</td>\n",
       "      <td>27</td>\n",
       "      <td>6</td>\n",
       "      <td>8</td>\n",
       "      <td>0</td>\n",
       "      <td>-1.0</td>\n",
       "      <td>1.282130</td>\n",
       "      <td>103.786879</td>\n",
       "      <td>10</td>\n",
       "      <td>0.122456</td>\n",
       "      <td>2018-06</td>\n",
       "      <td>3379.86460</td>\n",
       "      <td>1405.381742</td>\n",
       "    </tr>\n",
       "    <tr>\n",
       "      <td>3</td>\n",
       "      <td>5</td>\n",
       "      <td>1331</td>\n",
       "      <td>14</td>\n",
       "      <td>999.0</td>\n",
       "      <td>27</td>\n",
       "      <td>6</td>\n",
       "      <td>8</td>\n",
       "      <td>2</td>\n",
       "      <td>-1.0</td>\n",
       "      <td>1.292047</td>\n",
       "      <td>103.768591</td>\n",
       "      <td>10</td>\n",
       "      <td>0.139334</td>\n",
       "      <td>2021-03</td>\n",
       "      <td>2002.08540</td>\n",
       "      <td>939.020883</td>\n",
       "    </tr>\n",
       "    <tr>\n",
       "      <td>4</td>\n",
       "      <td>5</td>\n",
       "      <td>1331</td>\n",
       "      <td>15</td>\n",
       "      <td>999.0</td>\n",
       "      <td>27</td>\n",
       "      <td>6</td>\n",
       "      <td>8</td>\n",
       "      <td>2</td>\n",
       "      <td>-1.0</td>\n",
       "      <td>1.292047</td>\n",
       "      <td>103.768591</td>\n",
       "      <td>10</td>\n",
       "      <td>0.154684</td>\n",
       "      <td>2020-03</td>\n",
       "      <td>1714.68927</td>\n",
       "      <td>1533.805597</td>\n",
       "    </tr>\n",
       "  </tbody>\n",
       "</table>\n",
       "</div>"
      ],
      "text/plain": [
       "   district  street  propertyType  remaining_lease  school  hawkercentre  \\\n",
       "0         5    2016            11            999.0      27             6   \n",
       "1         5    2016            11            999.0      27             6   \n",
       "2         5    2016            11            999.0      27             6   \n",
       "3         5    1331            14            999.0      27             6   \n",
       "4         5    1331            15            999.0      27             6   \n",
       "\n",
       "   supermarkets  Bus Stops Nearby  crime_number  latitude   longitude  \\\n",
       "0             8                 0          -1.0  1.282130  103.786879   \n",
       "1             8                 0          -1.0  1.282130  103.786879   \n",
       "2             8                 0          -1.0  1.282130  103.786879   \n",
       "3             8                 2          -1.0  1.292047  103.768591   \n",
       "4             8                 2          -1.0  1.292047  103.768591   \n",
       "\n",
       "   floor_range  sentiment    month  floor_area_sqft    price_psf  \n",
       "0           10   0.154684  2020-02       5643.51277   974.570312  \n",
       "1           10   0.122456  2018-09       3315.28120  1508.167693  \n",
       "2           10   0.122456  2018-06       3379.86460  1405.381742  \n",
       "3           10   0.139334  2021-03       2002.08540   939.020883  \n",
       "4           10   0.154684  2020-03       1714.68927  1533.805597  "
      ]
     },
     "execution_count": 5,
     "metadata": {},
     "output_type": "execute_result"
    }
   ],
   "source": [
    "df.head()"
   ]
  },
  {
   "cell_type": "code",
   "execution_count": 6,
   "metadata": {},
   "outputs": [
    {
     "data": {
      "text/plain": [
       "['district',\n",
       " 'street',\n",
       " 'propertyType',\n",
       " 'remaining_lease',\n",
       " 'school',\n",
       " 'hawkercentre',\n",
       " 'supermarkets',\n",
       " 'Bus Stops Nearby',\n",
       " 'crime_number',\n",
       " 'latitude',\n",
       " 'longitude',\n",
       " 'floor_range',\n",
       " 'sentiment',\n",
       " 'month',\n",
       " 'floor_area_sqft',\n",
       " 'price_psf']"
      ]
     },
     "execution_count": 6,
     "metadata": {},
     "output_type": "execute_result"
    }
   ],
   "source": [
    "df.columns.tolist()"
   ]
  },
  {
   "cell_type": "code",
   "execution_count": 7,
   "metadata": {},
   "outputs": [],
   "source": [
    "# Train-Test split\n",
    "df['month']= pd.to_datetime(df['month'])\n",
    "train_df = df[df.month < \"2020-01-01\"]\n",
    "train_df = train_df.drop('month', axis=1)\n",
    "test_df = df[df.month >= \"2020-01-01\"]\n",
    "test_df = test_df.drop('month', axis=1)\n",
    "\n",
    "X_train = train_df.loc[:, train_df.columns != 'price_psf']\n",
    "y_train = train_df['price_psf']\n",
    "\n",
    "X_test = test_df.loc[:, test_df.columns != 'price_psf']\n",
    "y_test = test_df['price_psf']\n",
    "\n",
    "# X_train, X_test, y_train, y_test = train_test_split(df.drop(['month','price_psf'], axis=1),\n",
    "#                                                     df['price_psf'], \n",
    "#                                                     test_size=0.2,\n",
    "#                                                     random_state=1)"
   ]
  },
  {
   "cell_type": "code",
   "execution_count": 8,
   "metadata": {},
   "outputs": [
    {
     "data": {
      "text/plain": [
       "Index(['district', 'street', 'propertyType', 'remaining_lease', 'school',\n",
       "       'hawkercentre', 'supermarkets', 'Bus Stops Nearby', 'crime_number',\n",
       "       'latitude', 'longitude', 'floor_range', 'sentiment', 'floor_area_sqft'],\n",
       "      dtype='object')"
      ]
     },
     "execution_count": 8,
     "metadata": {},
     "output_type": "execute_result"
    }
   ],
   "source": [
    "X_test.columns"
   ]
  },
  {
   "cell_type": "code",
   "execution_count": 9,
   "metadata": {},
   "outputs": [
    {
     "data": {
      "text/plain": [
       "['district',\n",
       " 'street',\n",
       " 'propertyType',\n",
       " 'remaining_lease',\n",
       " 'school',\n",
       " 'hawkercentre',\n",
       " 'supermarkets',\n",
       " 'Bus Stops Nearby',\n",
       " 'crime_number',\n",
       " 'latitude',\n",
       " 'longitude',\n",
       " 'floor_range',\n",
       " 'sentiment',\n",
       " 'floor_area_sqft']"
      ]
     },
     "execution_count": 9,
     "metadata": {},
     "output_type": "execute_result"
    }
   ],
   "source": [
    "cols = X_train.columns.tolist()\n",
    "cols"
   ]
  },
  {
   "cell_type": "code",
   "execution_count": 10,
   "metadata": {},
   "outputs": [
    {
     "name": "stdout",
     "output_type": "stream",
     "text": [
      "(89135,)\n",
      "(45954,)\n"
     ]
    },
    {
     "name": "stderr",
     "output_type": "stream",
     "text": [
      "/Users/tohjiaxuan/opt/anaconda3/lib/python3.7/site-packages/pandas/core/frame.py:3494: SettingWithCopyWarning: \n",
      "A value is trying to be set on a copy of a slice from a DataFrame.\n",
      "Try using .loc[row_indexer,col_indexer] = value instead\n",
      "\n",
      "See the caveats in the documentation: http://pandas.pydata.org/pandas-docs/stable/user_guide/indexing.html#returning-a-view-versus-a-copy\n",
      "  self[k1] = value[k2]\n",
      "/Users/tohjiaxuan/opt/anaconda3/lib/python3.7/site-packages/pandas/core/frame.py:3494: SettingWithCopyWarning: \n",
      "A value is trying to be set on a copy of a slice from a DataFrame.\n",
      "Try using .loc[row_indexer,col_indexer] = value instead\n",
      "\n",
      "See the caveats in the documentation: http://pandas.pydata.org/pandas-docs/stable/user_guide/indexing.html#returning-a-view-versus-a-copy\n",
      "  self[k1] = value[k2]\n"
     ]
    }
   ],
   "source": [
    "# Fit and transform X training and testing\n",
    "scaler = MinMaxScaler()\n",
    "col = ['remaining_lease', 'school', 'hawkercentre', 'supermarkets',\n",
    "      'Bus Stops Nearby', 'crime_number', 'floor_area_sqft']\n",
    "x = X_train[col].values\n",
    "x_scaled = scaler.fit_transform(x)\n",
    "df_temp = pd.DataFrame(x_scaled, columns = col, index = X_train.index)\n",
    "X_train[col] = df_temp\n",
    "\n",
    "x_test = X_test[col].values\n",
    "x_test_scaled = scaler.transform(x_test)\n",
    "df_temp = pd.DataFrame(x_test_scaled, columns = col, index = X_test.index)\n",
    "X_test[col] = df_temp\n",
    "\n",
    "# Fit and transform Y training and testing\n",
    "y_scaler = MinMaxScaler()\n",
    "y_train = y_scaler.fit_transform(y_train.values.reshape(-1,1)).reshape(1,-1)[0]\n",
    "y_test = y_scaler.transform(y_test.values.reshape(-1, 1)).reshape(1,-1)[0]\n",
    "\n",
    "print(y_train.shape)\n",
    "print(y_test.shape)"
   ]
  },
  {
   "cell_type": "code",
   "execution_count": 11,
   "metadata": {},
   "outputs": [
    {
     "data": {
      "text/html": [
       "<div>\n",
       "<style scoped>\n",
       "    .dataframe tbody tr th:only-of-type {\n",
       "        vertical-align: middle;\n",
       "    }\n",
       "\n",
       "    .dataframe tbody tr th {\n",
       "        vertical-align: top;\n",
       "    }\n",
       "\n",
       "    .dataframe thead th {\n",
       "        text-align: right;\n",
       "    }\n",
       "</style>\n",
       "<table border=\"1\" class=\"dataframe\">\n",
       "  <thead>\n",
       "    <tr style=\"text-align: right;\">\n",
       "      <th></th>\n",
       "      <th>price_psf</th>\n",
       "    </tr>\n",
       "  </thead>\n",
       "  <tbody>\n",
       "    <tr>\n",
       "      <td>0</td>\n",
       "      <td>0.294011</td>\n",
       "    </tr>\n",
       "    <tr>\n",
       "      <td>1</td>\n",
       "      <td>0.273525</td>\n",
       "    </tr>\n",
       "    <tr>\n",
       "      <td>2</td>\n",
       "      <td>0.291005</td>\n",
       "    </tr>\n",
       "    <tr>\n",
       "      <td>3</td>\n",
       "      <td>0.290679</td>\n",
       "    </tr>\n",
       "    <tr>\n",
       "      <td>4</td>\n",
       "      <td>0.276082</td>\n",
       "    </tr>\n",
       "    <tr>\n",
       "      <td>...</td>\n",
       "      <td>...</td>\n",
       "    </tr>\n",
       "    <tr>\n",
       "      <td>89130</td>\n",
       "      <td>0.069056</td>\n",
       "    </tr>\n",
       "    <tr>\n",
       "      <td>89131</td>\n",
       "      <td>0.065082</td>\n",
       "    </tr>\n",
       "    <tr>\n",
       "      <td>89132</td>\n",
       "      <td>0.064895</td>\n",
       "    </tr>\n",
       "    <tr>\n",
       "      <td>89133</td>\n",
       "      <td>0.082495</td>\n",
       "    </tr>\n",
       "    <tr>\n",
       "      <td>89134</td>\n",
       "      <td>0.072344</td>\n",
       "    </tr>\n",
       "  </tbody>\n",
       "</table>\n",
       "<p>89135 rows × 1 columns</p>\n",
       "</div>"
      ],
      "text/plain": [
       "       price_psf\n",
       "0       0.294011\n",
       "1       0.273525\n",
       "2       0.291005\n",
       "3       0.290679\n",
       "4       0.276082\n",
       "...          ...\n",
       "89130   0.069056\n",
       "89131   0.065082\n",
       "89132   0.064895\n",
       "89133   0.082495\n",
       "89134   0.072344\n",
       "\n",
       "[89135 rows x 1 columns]"
      ]
     },
     "execution_count": 11,
     "metadata": {},
     "output_type": "execute_result"
    }
   ],
   "source": [
    "y_train = pd.DataFrame(y_train, columns = ['price_psf'])\n",
    "y_test = pd.DataFrame(y_test, columns = ['price_psf'])\n",
    "y_train"
   ]
  },
  {
   "cell_type": "code",
   "execution_count": 12,
   "metadata": {},
   "outputs": [
    {
     "data": {
      "text/plain": [
       "['district',\n",
       " 'street',\n",
       " 'propertyType',\n",
       " 'remaining_lease',\n",
       " 'school',\n",
       " 'hawkercentre',\n",
       " 'supermarkets',\n",
       " 'Bus Stops Nearby',\n",
       " 'crime_number',\n",
       " 'latitude',\n",
       " 'longitude',\n",
       " 'floor_range',\n",
       " 'sentiment',\n",
       " 'floor_area_sqft']"
      ]
     },
     "execution_count": 12,
     "metadata": {},
     "output_type": "execute_result"
    }
   ],
   "source": [
    "X_test.columns.tolist()"
   ]
  },
  {
   "cell_type": "code",
   "execution_count": 13,
   "metadata": {},
   "outputs": [
    {
     "data": {
      "text/plain": [
       "district            False\n",
       "street              False\n",
       "propertyType        False\n",
       "remaining_lease     False\n",
       "school              False\n",
       "hawkercentre        False\n",
       "supermarkets        False\n",
       "Bus Stops Nearby    False\n",
       "crime_number        False\n",
       "latitude            False\n",
       "longitude           False\n",
       "floor_range         False\n",
       "sentiment           False\n",
       "floor_area_sqft     False\n",
       "dtype: bool"
      ]
     },
     "execution_count": 13,
     "metadata": {},
     "output_type": "execute_result"
    }
   ],
   "source": [
    "X_train.isnull().any()"
   ]
  },
  {
   "cell_type": "markdown",
   "metadata": {},
   "source": [
    "### Feature Cross: Latitude and Longitude"
   ]
  },
  {
   "cell_type": "code",
   "execution_count": 14,
   "metadata": {},
   "outputs": [],
   "source": [
    "X_train = pd.DataFrame(X_train, columns = cols)\n",
    "X_test = pd.DataFrame(X_test, columns = cols)"
   ]
  },
  {
   "cell_type": "code",
   "execution_count": 15,
   "metadata": {},
   "outputs": [],
   "source": [
    "_, longitude_boundaries = np.histogram(X_train['longitude'])\n",
    "_, latitude_boundaries = np.histogram(X_train['latitude'])\n",
    "\n",
    "def assign_bucket(x, ranges):\n",
    "    if x <= ranges[0]:\n",
    "        return 0\n",
    "    \n",
    "    for i in range(1, len(ranges) - 1):\n",
    "        if x <= ranges[i]:\n",
    "            return i - 1\n",
    "    return len(ranges) - 2\n",
    "\n",
    "X_train['lgt_discrete'] = X_train['longitude'].apply(lambda x: assign_bucket(x, longitude_boundaries))\n",
    "X_train['lat_discrete'] = X_train['latitude'].apply(lambda x: assign_bucket(x, latitude_boundaries))\n",
    "X_test['lgt_discrete'] = X_test['longitude'].apply(lambda x: assign_bucket(x, longitude_boundaries))\n",
    "X_test['lat_discrete'] = X_test['latitude'].apply(lambda x: assign_bucket(x, latitude_boundaries))"
   ]
  },
  {
   "cell_type": "code",
   "execution_count": 16,
   "metadata": {},
   "outputs": [],
   "source": [
    "from sklearn.preprocessing import OneHotEncoder\n",
    "enc = OneHotEncoder(categories='auto')\n",
    "features_lat_lgn_train = enc.fit_transform(X_train[['lgt_discrete', 'lat_discrete']]) # fit and transform TRAIN\n",
    "features_lat_lgn_test = enc.transform(X_test[['lgt_discrete', 'lat_discrete']]) # transform only TEST"
   ]
  },
  {
   "cell_type": "code",
   "execution_count": 17,
   "metadata": {},
   "outputs": [],
   "source": [
    "features_to_drop = ['longitude', 'latitude', 'lgt_discrete', 'lat_discrete']\n",
    "OHE_train = np.hstack((X_train.drop(features_to_drop, axis=1).values, features_lat_lgn_train.toarray()))\n",
    "OHE_test = np.hstack((X_test.drop(features_to_drop, axis=1).values, features_lat_lgn_test.toarray()))"
   ]
  },
  {
   "cell_type": "code",
   "execution_count": 18,
   "metadata": {},
   "outputs": [
    {
     "name": "stdout",
     "output_type": "stream",
     "text": [
      "89135 45954\n"
     ]
    }
   ],
   "source": [
    "print(len(OHE_train),len(OHE_test))"
   ]
  },
  {
   "cell_type": "markdown",
   "metadata": {},
   "source": [
    "### Summary of Results\n",
    "*Goal: Low RMSE, Low MAE, R2 close to 1, High Adjusted R2, Low MAPE, Low SMAPE\n",
    "\n",
    "Results:\n",
    "1. Default Decision Tree \n",
    "    - training mse: 1.282207613212334e-05, testing mse: 0.0009812207152281106\n",
    "    - training rmse: 0.003580792668128572, testing rmse: 0.03132444277601935\n",
    "    - training mae: 0.0012034050542360515, testing mae: 0.01580475196491007\n",
    "    - training R2: 0.9987095766435118, testing R2: 0.9103302102222963\n",
    "    - training adjusted R2: 0.998709113202204, testing adjusted R2: 0.9102677239246789\n",
    "    - training mape: 1.1857840879884094, testing mape: 9.846561078998278\n",
    "    - training smape: 1.1806384754580064, testing smape: 9.945128476633935\n",
    "2. Decision Tree with Randomized Search \n",
    "    - training mse: 0.00021032557908797807, testing mse: 0.0008674499845848237\n",
    "    - training rmse: 0.014502605941277521, testing rmse: 0.02945250387632304\n",
    "    - training mae: 0.006968929192083182, testing mae: 0.015019327115238778\n",
    "    - training R2: 0.9788326760093037, testing R2: 0.9207272568207955\n",
    "    - training adjusted R2: 0.978825073998488, testing adjusted R2: 0.9207151793994257\n",
    "    - training mape: 5.002400130682143, testing mape: 9.07724790120886\n",
    "    - training smape: 4.948974579276116, testing smape: 9.145576635786046\n",
    "3. Default Random Forest \n",
    "    - training mse: 5.567820378389856e-05, testing mse: 0.0006188364878179652\n",
    "    - training rmse: 0.007461782882388, testing rmse: 0.02487642433747192\n",
    "    - training mae: 0.003523427033929071, testing mae: 0.012743326607732568\n",
    "    - training R2: 0.9943965038212456, testing R2: 0.9434470380535035\n",
    "    - training adjusted R2: 0.9943944913874313, testing adjusted R2: 0.9434076291821312\n",
    "    - training mape: 2.7483021068136573, testing mape: 7.990053683196499\n",
    "    - training smape: 2.7248197432739802, testing smape: 8.018639287853702\n",
    "4. Random Forest with Randomized Search (Best Result)\n",
    "    - training mse: 4.105603442140823e-05, testing mse: 0.0005728741979860348\n",
    "    - training rmse: 0.00640749829663717, testing rmse: 0.023934790535662408\n",
    "    - training mae: 0.003226589906313306, testing mae: 0.012146105714330235\n",
    "    - training R2: 0.9958680899102262, testing R2: 0.9476473456937401\n",
    "    - training adjusted R2: 0.9958666059803158, testing adjusted R2: 0.9476108638022787\n",
    "    - training mape: 2.5575581236088487, testing mape: 7.654360998999921\n",
    "    - training smape: 2.5412595325887435, testing smape: 7.687419387166359"
   ]
  },
  {
   "cell_type": "markdown",
   "metadata": {},
   "source": [
    "### Define function for MAPE and sMAPE"
   ]
  },
  {
   "cell_type": "code",
   "execution_count": 19,
   "metadata": {},
   "outputs": [],
   "source": [
    "def percentage_error(actual, predicted):\n",
    "    res = np.empty(actual.shape)\n",
    "    for j in range(actual.shape[0]):\n",
    "        if actual[j] != 0:\n",
    "            res[j] = (actual[j] - predicted[j]) / actual[j]\n",
    "        else:\n",
    "            res[j] = predicted[j] / np.mean(actual)\n",
    "    return res\n",
    "\n",
    "def mean_absolute_percentage_error(y_true, y_pred): \n",
    "    return np.mean(np.abs(percentage_error(np.asarray(y_true), np.asarray(y_pred)))) * 100\n",
    "\n",
    "def smape(y_true, y_pred):\n",
    "    return 1/len(y_true) * np.sum(2 * np.abs(y_pred.squeeze()-y_true.squeeze()) / (np.abs(y_true.squeeze()) + np.abs(y_pred.squeeze()))*100)"
   ]
  },
  {
   "cell_type": "markdown",
   "metadata": {},
   "source": [
    "### Decision Tree"
   ]
  },
  {
   "cell_type": "markdown",
   "metadata": {},
   "source": [
    "#### (a) Basic Decision Tree with Default Parameters"
   ]
  },
  {
   "cell_type": "code",
   "execution_count": 20,
   "metadata": {},
   "outputs": [
    {
     "name": "stdout",
     "output_type": "stream",
     "text": [
      "[0.07045336 0.17227482 0.30574436 ... 0.06153112 0.07166431 0.07234416]\n",
      "training mse: 1.282207613212334e-05, testing mse: 0.0009812207152281106\n",
      "training rmse: 0.003580792668128572, testing rmse: 0.03132444277601935\n",
      "training mae: 0.0012034050542360515, testing mae: 0.01580475196491007\n",
      "training R2: 0.9987095766435118, testing R2: 0.9103302102222963\n",
      "training adjusted R2: 0.998709113202204, testing adjusted R2: 0.9102677239246789\n",
      "training mape: 1.1857840879884094, testing mape: 9.846561078998278\n",
      "training smape: 1.1806384754580064, testing smape: 9.945128476633935\n"
     ]
    }
   ],
   "source": [
    "# train model\n",
    "dt = tree.DecisionTreeRegressor()\n",
    "dt.fit(OHE_train,y_train)\n",
    "\n",
    "# make predictions on test set\n",
    "y_pred_train = dt.predict(OHE_train)\n",
    "y_pred = dt.predict(OHE_test)\n",
    "print(y_pred)\n",
    "\n",
    "# compute metrics \n",
    "train_mse = mean_squared_error(y_train,y_pred_train)\n",
    "test_mse = mean_squared_error(y_test,y_pred)\n",
    "\n",
    "train_mae = mean_absolute_error(y_train,y_pred_train)\n",
    "test_mae = mean_absolute_error(y_test,y_pred)\n",
    "\n",
    "train_r_squared = r2_score(y_train,y_pred_train)\n",
    "test_r_squared = r2_score(y_test,y_pred)\n",
    "\n",
    "train_adj_r_squared = 1 - (1-dt.score(OHE_train, y_train))*(len(y_train)-1)/(len(y_train)-OHE_train.shape[1]-1)\n",
    "test_adj_r_squared = 1 - (1-dt.score(OHE_test, y_test))*(len(y_test)-1)/(len(y_test)-OHE_test.shape[1]-1)\n",
    "\n",
    "train_mape = mean_absolute_percentage_error(y_train,y_pred_train)\n",
    "test_mape = mean_absolute_percentage_error(y_test,y_pred)\n",
    "\n",
    "train_smape = smape(y_train,y_pred_train)\n",
    "test_smape = smape(y_test,y_pred)\n",
    "\n",
    "print(\"training mse: {}, testing mse: {}\".format(train_mse, test_mse))\n",
    "print(\"training rmse: {}, testing rmse: {}\".format(np.sqrt(train_mse), np.sqrt(test_mse)))\n",
    "print(\"training mae: {}, testing mae: {}\".format(train_mae, test_mae))\n",
    "print(\"training R2: {}, testing R2: {}\".format(train_r_squared, test_r_squared))\n",
    "print(\"training adjusted R2: {}, testing adjusted R2: {}\".format(train_adj_r_squared, test_adj_r_squared))\n",
    "print(\"training mape: {}, testing mape: {}\".format(train_mape, test_mape))\n",
    "print(\"training smape: {}, testing smape: {}\".format(train_smape, test_smape))\n",
    "\n",
    "# residual plot\n",
    "# sns.residplot(dt.predict(OHE_test).reshape(-1),y_test,lowess=True,\n",
    "#                                   line_kws={'color': 'red', 'lw': 1, 'alpha': 1})"
   ]
  },
  {
   "cell_type": "code",
   "execution_count": 21,
   "metadata": {},
   "outputs": [
    {
     "data": {
      "text/plain": [
       "Text(0.5, 1.0, 'Residual plot (for Training Data)')"
      ]
     },
     "execution_count": 21,
     "metadata": {},
     "output_type": "execute_result"
    },
    {
     "data": {
      "image/png": "[encoded data removed]",
      "text/plain": [
       "<Figure size 432x288 with 1 Axes>"
      ]
     },
     "metadata": {
      "needs_background": "light"
     },
     "output_type": "display_data"
    }
   ],
   "source": [
    "# Residual Plot for Training Data\n",
    "sns.residplot(y_pred_train.reshape(-1), y_train, line_kws={'color': 'red', 'lw': 1, 'alpha': 1})\n",
    "plt.xlabel(\"Fitted values\")\n",
    "plt.title('Residual plot (for Training Data)')"
   ]
  },
  {
   "cell_type": "code",
   "execution_count": 22,
   "metadata": {},
   "outputs": [
    {
     "data": {
      "text/plain": [
       "Text(0.5, 1.0, 'Residual plot (for Testing Data)')"
      ]
     },
     "execution_count": 22,
     "metadata": {},
     "output_type": "execute_result"
    },
    {
     "data": {
      "image/png": "[encoded data removed]",
      "text/plain": [
       "<Figure size 432x288 with 1 Axes>"
      ]
     },
     "metadata": {
      "needs_background": "light"
     },
     "output_type": "display_data"
    }
   ],
   "source": [
    "# Residual Plot for Testing Data\n",
    "sns.residplot(y_pred.reshape(-1), y_test, line_kws={'color': 'red', 'lw': 1, 'alpha': 1})\n",
    "plt.xlabel(\"Fitted values\")\n",
    "plt.title('Residual plot (for Testing Data)')"
   ]
  },
  {
   "cell_type": "markdown",
   "metadata": {},
   "source": [
    "#### (b) Decision Tree using Best Estimators from Randomized Search"
   ]
  },
  {
   "cell_type": "code",
   "execution_count": 23,
   "metadata": {},
   "outputs": [
    {
     "name": "stdout",
     "output_type": "stream",
     "text": [
      "Fitting 5 folds for each of 5 candidates, totalling 25 fits\n"
     ]
    },
    {
     "name": "stderr",
     "output_type": "stream",
     "text": [
      "/Users/tohjiaxuan/opt/anaconda3/lib/python3.7/site-packages/sklearn/model_selection/_search.py:266: UserWarning: The total space of parameters 5 is smaller than n_iter=10. Running 5 iterations. For exhaustive searches, use GridSearchCV.\n",
      "  % (grid_size, self.n_iter, grid_size), UserWarning)\n",
      "[Parallel(n_jobs=-1)]: Using backend LokyBackend with 4 concurrent workers.\n",
      "[Parallel(n_jobs=-1)]: Done  25 out of  25 | elapsed:    7.5s finished\n"
     ]
    },
    {
     "name": "stdout",
     "output_type": "stream",
     "text": [
      "best score: 0.6233117878994751\n",
      "best parameters:  {'min_samples_split': 25}\n",
      "best estimators:  DecisionTreeRegressor(criterion='mse', max_depth=None, max_features=None,\n",
      "                      max_leaf_nodes=None, min_impurity_decrease=0.0,\n",
      "                      min_impurity_split=None, min_samples_leaf=1,\n",
      "                      min_samples_split=25, min_weight_fraction_leaf=0.0,\n",
      "                      presort=False, random_state=1, splitter='best')\n"
     ]
    }
   ],
   "source": [
    "params = {'min_samples_split': [7,12,15,20,25]}\n",
    "rsearch_dt = RandomizedSearchCV(tree.DecisionTreeRegressor(random_state=1), \n",
    "                          params, \n",
    "                          scoring = 'r2',\n",
    "                          verbose=1, \n",
    "                          cv=model_selection.KFold(5), \n",
    "                          n_jobs=-1)\n",
    "rsearch_dt.fit(OHE_train, y_train)\n",
    "print('best score:', rsearch_dt.best_score_)\n",
    "print('best parameters: ', rsearch_dt.best_params_)\n",
    "print('best estimators: ', rsearch_dt.best_estimator_)"
   ]
  },
  {
   "cell_type": "code",
   "execution_count": 24,
   "metadata": {},
   "outputs": [
    {
     "name": "stdout",
     "output_type": "stream",
     "text": [
      "[0.14744982 0.15287506 0.29056821 ... 0.06255177 0.0759565  0.07231909]\n",
      "training mse: 0.00021032557908797807, testing mse: 0.0008674499845848237\n",
      "training rmse: 0.014502605941277521, testing rmse: 0.02945250387632304\n",
      "training mae: 0.006968929192083182, testing mae: 0.015019327115238778\n",
      "training R2: 0.9788326760093037, testing R2: 0.9207272568207955\n",
      "training adjusted R2: 0.978825073998488, testing adjusted R2: 0.9207151793994257\n",
      "training mape: 5.002400130682143, testing mape: 9.07724790120886\n",
      "training smape: 4.948974579276116, testing smape: 9.145576635786046\n"
     ]
    }
   ],
   "source": [
    "# make predictions on test set\n",
    "y_pred_train = rsearch_dt.predict(OHE_train)\n",
    "y_pred = rsearch_dt.predict(OHE_test)\n",
    "print(y_pred)\n",
    "\n",
    "# compute metrics \n",
    "train_mse = mean_squared_error(y_train,y_pred_train)\n",
    "test_mse = mean_squared_error(y_test,y_pred)\n",
    "\n",
    "train_mae = mean_absolute_error(y_train,y_pred_train)\n",
    "test_mae = mean_absolute_error(y_test,y_pred)\n",
    "\n",
    "train_r_squared = r2_score(y_train,y_pred_train)\n",
    "test_r_squared = r2_score(y_test,y_pred)\n",
    "\n",
    "train_adj_r_squared = 1 - (1-rsearch_dt.score(OHE_train, y_train))*(len(y_train)-1)/(len(y_train)-OHE_train.shape[1]-1)\n",
    "test_adj_r_squared = 1 - (1-rsearch_dt.score(OHE_test, y_test))*(len(y_test)-1)/(len(y_test)-x_test.shape[1]-1)\n",
    "\n",
    "train_mape = mean_absolute_percentage_error(y_train,y_pred_train)\n",
    "test_mape = mean_absolute_percentage_error(y_test,y_pred)\n",
    "\n",
    "train_smape = smape(y_train,y_pred_train)\n",
    "test_smape = smape(y_test,y_pred)\n",
    "\n",
    "print(\"training mse: {}, testing mse: {}\".format(train_mse, test_mse))\n",
    "print(\"training rmse: {}, testing rmse: {}\".format(np.sqrt(train_mse), np.sqrt(test_mse)))\n",
    "print(\"training mae: {}, testing mae: {}\".format(train_mae, test_mae))\n",
    "print(\"training R2: {}, testing R2: {}\".format(train_r_squared, test_r_squared))\n",
    "print(\"training adjusted R2: {}, testing adjusted R2: {}\".format(train_adj_r_squared, test_adj_r_squared))\n",
    "print(\"training mape: {}, testing mape: {}\".format(train_mape, test_mape))\n",
    "print(\"training smape: {}, testing smape: {}\".format(train_smape, test_smape))\n",
    "\n",
    "# residual plot\n",
    "# sns.residplot(rsearch_dt.predict(OHE_test).reshape(-1),y_test,lowess=True,\n",
    "#                                   line_kws={'color': 'red', 'lw': 1, 'alpha': 1})"
   ]
  },
  {
   "cell_type": "code",
   "execution_count": 25,
   "metadata": {},
   "outputs": [
    {
     "data": {
      "text/plain": [
       "Text(0.5, 1.0, 'Residual plot (for Training Data)')"
      ]
     },
     "execution_count": 25,
     "metadata": {},
     "output_type": "execute_result"
    },
    {
     "data": {
      "image/png": "[encoded data removed]",
      "text/plain": [
       "<Figure size 432x288 with 1 Axes>"
      ]
     },
     "metadata": {
      "needs_background": "light"
     },
     "output_type": "display_data"
    }
   ],
   "source": [
    "# Residual Plot for Training Data\n",
    "sns.residplot(y_pred_train.reshape(-1), y_train, line_kws={'color': 'red', 'lw': 1, 'alpha': 1})\n",
    "plt.xlabel(\"Fitted values\")\n",
    "plt.title('Residual plot (for Training Data)')"
   ]
  },
  {
   "cell_type": "code",
   "execution_count": 26,
   "metadata": {},
   "outputs": [
    {
     "data": {
      "text/plain": [
       "Text(0.5, 1.0, 'Residual plot (for Testing Data)')"
      ]
     },
     "execution_count": 26,
     "metadata": {},
     "output_type": "execute_result"
    },
    {
     "data": {
      "image/png": "[encoded data removed]",
      "text/plain": [
       "<Figure size 432x288 with 1 Axes>"
      ]
     },
     "metadata": {
      "needs_background": "light"
     },
     "output_type": "display_data"
    }
   ],
   "source": [
    "# Residual Plot for Testing Data\n",
    "sns.residplot(y_pred.reshape(-1), y_test, line_kws={'color': 'red', 'lw': 1, 'alpha': 1})\n",
    "plt.xlabel(\"Fitted values\")\n",
    "plt.title('Residual plot (for Testing Data)')"
   ]
  },
  {
   "cell_type": "markdown",
   "metadata": {},
   "source": [
    "### Random Forest"
   ]
  },
  {
   "cell_type": "markdown",
   "metadata": {},
   "source": [
    "#### (a) Basic Random Forest with Default Parameters"
   ]
  },
  {
   "cell_type": "code",
   "execution_count": 27,
   "metadata": {},
   "outputs": [
    {
     "name": "stderr",
     "output_type": "stream",
     "text": [
      "/Users/tohjiaxuan/opt/anaconda3/lib/python3.7/site-packages/sklearn/ensemble/forest.py:245: FutureWarning: The default value of n_estimators will change from 10 in version 0.20 to 100 in 0.22.\n",
      "  \"10 in version 0.20 to 100 in 0.22.\", FutureWarning)\n",
      "/Users/tohjiaxuan/opt/anaconda3/lib/python3.7/site-packages/ipykernel_launcher.py:3: DataConversionWarning: A column-vector y was passed when a 1d array was expected. Please change the shape of y to (n_samples,), for example using ravel().\n",
      "  This is separate from the ipykernel package so we can avoid doing imports until\n"
     ]
    },
    {
     "name": "stdout",
     "output_type": "stream",
     "text": [
      "[0.21199307 0.17291317 0.29388233 ... 0.06083334 0.06863328 0.07095053]\n",
      "training mse: 5.567820378389856e-05, testing mse: 0.0006188364878179652\n",
      "training rmse: 0.007461782882388, testing rmse: 0.02487642433747192\n",
      "training mae: 0.003523427033929071, testing mae: 0.012743326607732568\n",
      "training R2: 0.9943965038212456, testing R2: 0.9434470380535035\n",
      "training adjusted R2: 0.9943944913874313, testing adjusted R2: 0.9434076291821312\n",
      "training mape: 2.7483021068136573, testing mape: 7.990053683196499\n",
      "training smape: 2.7248197432739802, testing smape: 8.018639287853702\n"
     ]
    }
   ],
   "source": [
    "# train model\n",
    "rforest = ensemble.RandomForestRegressor()\n",
    "rforest.fit(OHE_train,y_train)\n",
    "\n",
    "# make predictions on test set\n",
    "y_pred_train = rforest.predict(OHE_train)\n",
    "y_pred = rforest.predict(OHE_test)\n",
    "print(y_pred)\n",
    "\n",
    "# compute metrics \n",
    "train_mse = mean_squared_error(y_train,y_pred_train)\n",
    "test_mse = mean_squared_error(y_test,y_pred)\n",
    "\n",
    "train_mae = mean_absolute_error(y_train,y_pred_train)\n",
    "test_mae = mean_absolute_error(y_test,y_pred)\n",
    "\n",
    "train_r_squared = r2_score(y_train,y_pred_train)\n",
    "test_r_squared = r2_score(y_test,y_pred)\n",
    "\n",
    "train_adj_r_squared = 1 - (1-rforest.score(OHE_train, y_train))*(len(y_train)-1)/(len(y_train)-OHE_train.shape[1]-1)\n",
    "test_adj_r_squared = 1 - (1-rforest.score(OHE_test, y_test))*(len(y_test)-1)/(len(y_test)-OHE_test.shape[1]-1)\n",
    "\n",
    "train_mape = mean_absolute_percentage_error(y_train,y_pred_train)\n",
    "test_mape = mean_absolute_percentage_error(y_test,y_pred)\n",
    "\n",
    "train_smape = smape(y_train,y_pred_train)\n",
    "test_smape = smape(y_test,y_pred)\n",
    "\n",
    "print(\"training mse: {}, testing mse: {}\".format(train_mse, test_mse))\n",
    "print(\"training rmse: {}, testing rmse: {}\".format(np.sqrt(train_mse), np.sqrt(test_mse)))\n",
    "print(\"training mae: {}, testing mae: {}\".format(train_mae, test_mae))\n",
    "print(\"training R2: {}, testing R2: {}\".format(train_r_squared, test_r_squared))\n",
    "print(\"training adjusted R2: {}, testing adjusted R2: {}\".format(train_adj_r_squared, test_adj_r_squared))\n",
    "print(\"training mape: {}, testing mape: {}\".format(train_mape, test_mape))\n",
    "print(\"training smape: {}, testing smape: {}\".format(train_smape, test_smape))\n",
    "\n",
    "# residual plot\n",
    "# sns.residplot(rforest.predict(OHE_test).reshape(-1),y_test,lowess=True,\n",
    "#                                   line_kws={'color': 'red', 'lw': 1, 'alpha': 1})\n",
    "# plt.xlabel(\"Fitted values\")\n",
    "# plt.title('Residual plot')"
   ]
  },
  {
   "cell_type": "code",
   "execution_count": 28,
   "metadata": {},
   "outputs": [
    {
     "data": {
      "text/plain": [
       "Text(0.5, 1.0, 'Residual plot (for Training Data)')"
      ]
     },
     "execution_count": 28,
     "metadata": {},
     "output_type": "execute_result"
    },
    {
     "data": {
      "image/png": "[encoded data removed]",
      "text/plain": [
       "<Figure size 432x288 with 1 Axes>"
      ]
     },
     "metadata": {
      "needs_background": "light"
     },
     "output_type": "display_data"
    }
   ],
   "source": [
    "# Residual Plot for Training Data\n",
    "sns.residplot(y_pred_train.reshape(-1), y_train, line_kws={'color': 'red', 'lw': 1, 'alpha': 1})\n",
    "plt.xlabel(\"Fitted values\")\n",
    "plt.title('Residual plot (for Training Data)')"
   ]
  },
  {
   "cell_type": "code",
   "execution_count": 29,
   "metadata": {},
   "outputs": [
    {
     "data": {
      "text/plain": [
       "Text(0.5, 1.0, 'Residual plot (for Testing Data)')"
      ]
     },
     "execution_count": 29,
     "metadata": {},
     "output_type": "execute_result"
    },
    {
     "data": {
      "image/png": "[encoded data removed]",
      "text/plain": [
       "<Figure size 432x288 with 1 Axes>"
      ]
     },
     "metadata": {
      "needs_background": "light"
     },
     "output_type": "display_data"
    }
   ],
   "source": [
    "# Residual Plot for Testing Data\n",
    "sns.residplot(y_pred.reshape(-1), y_test, line_kws={'color': 'red', 'lw': 1, 'alpha': 1})\n",
    "plt.xlabel(\"Fitted values\")\n",
    "plt.title('Residual plot (for Testing Data)')"
   ]
  },
  {
   "cell_type": "code",
   "execution_count": 30,
   "metadata": {},
   "outputs": [
    {
     "data": {
      "text/plain": [
       "{'bootstrap': True,\n",
       " 'criterion': 'mse',\n",
       " 'max_depth': None,\n",
       " 'max_features': 'auto',\n",
       " 'max_leaf_nodes': None,\n",
       " 'min_impurity_decrease': 0.0,\n",
       " 'min_impurity_split': None,\n",
       " 'min_samples_leaf': 1,\n",
       " 'min_samples_split': 2,\n",
       " 'min_weight_fraction_leaf': 0.0,\n",
       " 'n_estimators': 10,\n",
       " 'n_jobs': None,\n",
       " 'oob_score': False,\n",
       " 'random_state': None,\n",
       " 'verbose': 0,\n",
       " 'warm_start': False}"
      ]
     },
     "execution_count": 30,
     "metadata": {},
     "output_type": "execute_result"
    }
   ],
   "source": [
    "rforest.get_params(deep=True)"
   ]
  },
  {
   "cell_type": "markdown",
   "metadata": {},
   "source": [
    "#### (b) Random Forest using Best Estimators from Randomized Search"
   ]
  },
  {
   "cell_type": "code",
   "execution_count": 31,
   "metadata": {},
   "outputs": [
    {
     "name": "stderr",
     "output_type": "stream",
     "text": [
      "/Users/tohjiaxuan/opt/anaconda3/lib/python3.7/site-packages/sklearn/model_selection/_search.py:266: UserWarning: The total space of parameters 4 is smaller than n_iter=10. Running 4 iterations. For exhaustive searches, use GridSearchCV.\n",
      "  % (grid_size, self.n_iter, grid_size), UserWarning)\n",
      "[Parallel(n_jobs=-1)]: Using backend LokyBackend with 4 concurrent workers.\n"
     ]
    },
    {
     "name": "stdout",
     "output_type": "stream",
     "text": [
      "Fitting 5 folds for each of 4 candidates, totalling 20 fits\n"
     ]
    },
    {
     "name": "stderr",
     "output_type": "stream",
     "text": [
      "[Parallel(n_jobs=-1)]: Done  20 out of  20 | elapsed:  8.6min finished\n",
      "/Users/tohjiaxuan/opt/anaconda3/lib/python3.7/site-packages/sklearn/model_selection/_search.py:715: DataConversionWarning: A column-vector y was passed when a 1d array was expected. Please change the shape of y to (n_samples,), for example using ravel().\n",
      "  self.best_estimator_.fit(X, y, **fit_params)\n"
     ]
    },
    {
     "name": "stdout",
     "output_type": "stream",
     "text": [
      "best score: 0.7133606432976479\n",
      "best parameters:  {'n_estimators': 200}\n",
      "best estimators:  RandomForestRegressor(bootstrap=True, criterion='mse', max_depth=None,\n",
      "                      max_features='auto', max_leaf_nodes=None,\n",
      "                      min_impurity_decrease=0.0, min_impurity_split=None,\n",
      "                      min_samples_leaf=1, min_samples_split=2,\n",
      "                      min_weight_fraction_leaf=0.0, n_estimators=200,\n",
      "                      n_jobs=None, oob_score=False, random_state=1, verbose=0,\n",
      "                      warm_start=False)\n"
     ]
    }
   ],
   "source": [
    "params = {'n_estimators': [100,150,200,250]}\n",
    "random_search_cv = RandomizedSearchCV(ensemble.RandomForestRegressor(random_state=1), \n",
    "                              params, \n",
    "                              scoring = 'r2', \n",
    "                              verbose=1, \n",
    "                              cv=model_selection.KFold(5),\n",
    "                              n_jobs = -1)\n",
    "random_search_cv.fit(OHE_train, y_train)\n",
    "print('best score:', random_search_cv.best_score_)\n",
    "print('best parameters: ', random_search_cv.best_params_)\n",
    "print('best estimators: ', random_search_cv.best_estimator_)"
   ]
  },
  {
   "cell_type": "code",
   "execution_count": 32,
   "metadata": {},
   "outputs": [
    {
     "name": "stdout",
     "output_type": "stream",
     "text": [
      "[0.17112529 0.18554548 0.30754048 ... 0.06152069 0.06918163 0.07111942]\n",
      "training mse: 4.105603442140823e-05, testing mse: 0.0005728741979860348\n",
      "training rmse: 0.00640749829663717, testing rmse: 0.023934790535662408\n",
      "training mae: 0.003226589906313306, testing mae: 0.012146105714330235\n",
      "training R2: 0.9958680899102262, testing R2: 0.9476473456937401\n",
      "training adjusted R2: 0.9958666059803158, testing adjusted R2: 0.9476108638022787\n",
      "training mape: 2.5575581236088487, testing mape: 7.654360998999921\n",
      "training smape: 2.5412595325887435, testing smape: 7.687419387166359\n"
     ]
    }
   ],
   "source": [
    "# make predictions on test set\n",
    "y_pred_train = random_search_cv.predict(OHE_train)\n",
    "y_pred = random_search_cv.predict(OHE_test)\n",
    "print(y_pred)\n",
    "\n",
    "# compute metrics \n",
    "train_mse = mean_squared_error(y_train,y_pred_train)\n",
    "test_mse = mean_squared_error(y_test,y_pred)\n",
    "\n",
    "train_mae = mean_absolute_error(y_train,y_pred_train)\n",
    "test_mae = mean_absolute_error(y_test,y_pred)\n",
    "\n",
    "train_r_squared = r2_score(y_train,y_pred_train)\n",
    "test_r_squared = r2_score(y_test,y_pred)\n",
    "\n",
    "train_adj_r_squared = 1 - (1-random_search_cv.score(OHE_train, y_train))*(len(y_train)-1)/(len(y_train)-OHE_train.shape[1]-1)\n",
    "test_adj_r_squared = 1 - (1-random_search_cv.score(OHE_test, y_test))*(len(y_test)-1)/(len(y_test)-OHE_test.shape[1]-1)\n",
    "\n",
    "train_mape = mean_absolute_percentage_error(y_train,y_pred_train)\n",
    "test_mape = mean_absolute_percentage_error(y_test,y_pred)\n",
    "\n",
    "train_smape = smape(y_train,y_pred_train)\n",
    "test_smape = smape(y_test,y_pred)\n",
    "\n",
    "print(\"training mse: {}, testing mse: {}\".format(train_mse, test_mse))\n",
    "print(\"training rmse: {}, testing rmse: {}\".format(np.sqrt(train_mse), np.sqrt(test_mse)))\n",
    "print(\"training mae: {}, testing mae: {}\".format(train_mae, test_mae))\n",
    "print(\"training R2: {}, testing R2: {}\".format(train_r_squared, test_r_squared))\n",
    "print(\"training adjusted R2: {}, testing adjusted R2: {}\".format(train_adj_r_squared, test_adj_r_squared))\n",
    "print(\"training mape: {}, testing mape: {}\".format(train_mape, test_mape))\n",
    "print(\"training smape: {}, testing smape: {}\".format(train_smape, test_smape))\n",
    "\n",
    "# residual plot\n",
    "# sns.residplot(random_search_cv.predict(OHE_test).reshape(-1),y_test,lowess=True,\n",
    "#                                   line_kws={'color': 'red', 'lw': 1, 'alpha': 1})\n",
    "# plt.xlabel(\"Fitted values\")\n",
    "# plt.title('Residual plot')"
   ]
  },
  {
   "cell_type": "code",
   "execution_count": 33,
   "metadata": {},
   "outputs": [
    {
     "data": {
      "text/plain": [
       "Text(0.5, 1.0, 'Residual plot (for Training Data)')"
      ]
     },
     "execution_count": 33,
     "metadata": {},
     "output_type": "execute_result"
    },
    {
     "data": {
      "image/png": "[encoded data removed]",
      "text/plain": [
       "<Figure size 432x288 with 1 Axes>"
      ]
     },
     "metadata": {
      "needs_background": "light"
     },
     "output_type": "display_data"
    }
   ],
   "source": [
    "# Residual Plot for Training Data\n",
    "sns.residplot(y_pred_train.reshape(-1), y_train, line_kws={'color': 'red', 'lw': 1, 'alpha': 1})\n",
    "plt.xlabel(\"Fitted values\")\n",
    "plt.title('Residual plot (for Training Data)')"
   ]
  },
  {
   "cell_type": "code",
   "execution_count": 34,
   "metadata": {},
   "outputs": [
    {
     "data": {
      "text/plain": [
       "Text(0.5, 1.0, 'Residual plot (for Testing Data)')"
      ]
     },
     "execution_count": 34,
     "metadata": {},
     "output_type": "execute_result"
    },
    {
     "data": {
      "image/png": "[encoded data removed]",
      "text/plain": [
       "<Figure size 432x288 with 1 Axes>"
      ]
     },
     "metadata": {
      "needs_background": "light"
     },
     "output_type": "display_data"
    }
   ],
   "source": [
    "# Residual Plot for Testing Data\n",
    "sns.residplot(y_pred.reshape(-1), y_test, line_kws={'color': 'red', 'lw': 1, 'alpha': 1})\n",
    "plt.xlabel(\"Fitted values\")\n",
    "plt.title('Residual plot (for Testing Data)')"
   ]
  },
  {
   "cell_type": "code",
   "execution_count": 35,
   "metadata": {},
   "outputs": [
    {
     "data": {
      "text/plain": [
       "{'cv': KFold(n_splits=5, random_state=None, shuffle=False),\n",
       " 'error_score': 'raise-deprecating',\n",
       " 'estimator__bootstrap': True,\n",
       " 'estimator__criterion': 'mse',\n",
       " 'estimator__max_depth': None,\n",
       " 'estimator__max_features': 'auto',\n",
       " 'estimator__max_leaf_nodes': None,\n",
       " 'estimator__min_impurity_decrease': 0.0,\n",
       " 'estimator__min_impurity_split': None,\n",
       " 'estimator__min_samples_leaf': 1,\n",
       " 'estimator__min_samples_split': 2,\n",
       " 'estimator__min_weight_fraction_leaf': 0.0,\n",
       " 'estimator__n_estimators': 'warn',\n",
       " 'estimator__n_jobs': None,\n",
       " 'estimator__oob_score': False,\n",
       " 'estimator__random_state': 1,\n",
       " 'estimator__verbose': 0,\n",
       " 'estimator__warm_start': False,\n",
       " 'estimator': RandomForestRegressor(bootstrap=True, criterion='mse', max_depth=None,\n",
       "                       max_features='auto', max_leaf_nodes=None,\n",
       "                       min_impurity_decrease=0.0, min_impurity_split=None,\n",
       "                       min_samples_leaf=1, min_samples_split=2,\n",
       "                       min_weight_fraction_leaf=0.0, n_estimators='warn',\n",
       "                       n_jobs=None, oob_score=False, random_state=1, verbose=0,\n",
       "                       warm_start=False),\n",
       " 'iid': 'warn',\n",
       " 'n_iter': 10,\n",
       " 'n_jobs': -1,\n",
       " 'param_distributions': {'n_estimators': [100, 150, 200, 250]},\n",
       " 'pre_dispatch': '2*n_jobs',\n",
       " 'random_state': None,\n",
       " 'refit': True,\n",
       " 'return_train_score': False,\n",
       " 'scoring': 'r2',\n",
       " 'verbose': 1}"
      ]
     },
     "execution_count": 35,
     "metadata": {},
     "output_type": "execute_result"
    }
   ],
   "source": [
    "random_search_cv.get_params(deep=True)"
   ]
  }
 ],
 "metadata": {
  "kernelspec": {
   "display_name": "Python 3",
   "language": "python",
   "name": "python3"
  },
  "language_info": {
   "codemirror_mode": {
    "name": "ipython",
    "version": 3
   },
   "file_extension": ".py",
   "mimetype": "text/x-python",
   "name": "python",
   "nbconvert_exporter": "python",
   "pygments_lexer": "ipython3",
   "version": "3.7.4"
  }
 },
 "nbformat": 4,
 "nbformat_minor": 2
}
