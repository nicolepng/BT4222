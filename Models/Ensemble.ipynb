{
  "nbformat": 4,
  "nbformat_minor": 0,
  "metadata": {
    "colab": {
      "name": "Ensemble.ipynb",
      "provenance": []
    },
    "kernelspec": {
      "display_name": "Python 3",
      "name": "python3"
    },
    "language_info": {
      "name": "python"
    }
  },
  "cells": [
    {
      "cell_type": "code",
      "metadata": {
        "colab": {
          "base_uri": "https://localhost:8080/"
        },
        "id": "_3yCiVlrpPv0",
        "outputId": "dfa7333f-293f-4eb1-b40f-242ce4f80217"
      },
      "source": [
        "import numpy as np\n",
        "import seaborn as sns\n",
        "import matplotlib.pyplot as plt\n",
        "import pandas as pd\n",
        "from google.colab import drive\n",
        "# compare ensemble to each standalone models for regression\n",
        "from numpy import mean\n",
        "from numpy import std\n",
        "from sklearn.datasets import make_regression\n",
        "from sklearn.model_selection import cross_val_score\n",
        "from sklearn.model_selection import RepeatedKFold\n",
        "from sklearn.linear_model import LinearRegression\n",
        "from sklearn.neighbors import KNeighborsRegressor\n",
        "from sklearn.tree import DecisionTreeRegressor\n",
        "from sklearn.ensemble import StackingRegressor\n",
        "from matplotlib import pyplot\n",
        "from sklearn.pipeline import make_pipeline\n",
        "from sklearn.ensemble import RandomForestRegressor\n",
        "from sklearn import preprocessing\n",
        "from sklearn.kernel_ridge import KernelRidge\n",
        "from sklearn.metrics import mean_squared_log_error\n",
        "from sklearn import preprocessing\n",
        "import numpy as np\n",
        "import pandas as pd\n",
        "from sklearn.metrics import mean_squared_error, mean_absolute_error, r2_score\n",
        "from sklearn.model_selection import GridSearchCV\n",
        "from sklearn.preprocessing import LabelEncoder\n",
        "from sklearn.preprocessing import StandardScaler\n",
        "\n",
        "import warnings\n",
        "warnings.simplefilter(action='ignore', category=FutureWarning)\n",
        "\n",
        "drive.mount('/content/drive')"
      ],
      "execution_count": 5,
      "outputs": [
        {
          "output_type": "stream",
          "text": [
            "Mounted at /content/drive\n"
          ],
          "name": "stdout"
        }
      ]
    },
    {
      "cell_type": "code",
      "metadata": {
        "id": "XkwKTMbFphTu"
      },
      "source": [
        "path = '/content/drive/My Drive/bt4222code'"
      ],
      "execution_count": 6,
      "outputs": []
    },
    {
      "cell_type": "code",
      "metadata": {
        "id": "Jlt3d2p5qDAc"
      },
      "source": [
        "df = pd.read_csv(path + '/combined.csv', index_col=0)\n",
        "df.head()\n",
        "df = df.reset_index(drop=True)"
      ],
      "execution_count": 8,
      "outputs": []
    },
    {
      "cell_type": "code",
      "metadata": {
        "id": "9TyXLM0KWQn6"
      },
      "source": [
        "# Label Encoding \n",
        "df['street'] = df['street'].astype('category')\n",
        "street_dict = dict(zip(df['street'], df['street'].cat.codes))\n",
        "df['street'] = df['street'].cat.codes\n",
        "\n",
        "df['propertyType'] = df['propertyType'].astype('category')\n",
        "property_dict = dict(zip(df['propertyType'], df['propertyType'].cat.codes))\n",
        "df['propertyType'] = df['propertyType'].cat.codes\n",
        "\n",
        "df['floor_range'] = df['floor_range'].astype('category')\n",
        "floor_dict = dict(zip(df['floor_range'], df['floor_range'].cat.codes))\n",
        "df['floor_range'] = df['floor_range'].cat.codes"
      ],
      "execution_count": 9,
      "outputs": []
    },
    {
      "cell_type": "code",
      "metadata": {
        "colab": {
          "base_uri": "https://localhost:8080/"
        },
        "id": "5tfXkITHWfbp",
        "outputId": "7d9fbb14-e40a-47fd-c34c-0499ff80469c"
      },
      "source": [
        "from sklearn.model_selection import train_test_split\n",
        "\n",
        "X_train, X_test, y_train, y_test = train_test_split(df.drop('price', axis=1),\n",
        "                                                    df['price'], \n",
        "                                                    test_size=0.2,\n",
        "                                                    random_state=1)\n",
        "print(X_train.shape)\n",
        "print(X_test.shape)\n",
        "print(y_train.shape)\n",
        "print(y_test.shape)"
      ],
      "execution_count": 10,
      "outputs": [
        {
          "output_type": "stream",
          "text": [
            "(106952, 14)\n",
            "(26738, 14)\n",
            "(106952,)\n",
            "(26738,)\n"
          ],
          "name": "stdout"
        }
      ]
    },
    {
      "cell_type": "code",
      "metadata": {
        "id": "vtUrFMdfx035"
      },
      "source": [
        "# built stacking ensemble\n",
        "\n",
        "# Built level 0 \n",
        "from lightgbm import LGBMRegressor\n",
        "\n",
        "def get_all_base_model_corr(X_train, y_train):\n",
        "  base_models = dict()\n",
        "  base_models['knn'] = KNeighborsRegressor()\n",
        "  base_models['lr'] = LinearRegression()\n",
        "  base_models['cart'] = DecisionTreeRegressor(criterion='mse', max_depth=None, max_features=None,\n",
        "                      max_leaf_nodes=800, min_impurity_decrease=0.0,\n",
        "                      min_impurity_split=None, min_samples_leaf=1,\n",
        "                      min_samples_split=15, min_weight_fraction_leaf=0.0,\n",
        "                      presort=False, random_state=42, splitter='best')\n",
        "  base_models['rf'] = RandomForestRegressor(bootstrap=True, criterion='mse', max_depth=None,\n",
        "                      max_features='auto', max_leaf_nodes=None,\n",
        "                      min_impurity_decrease=0.0, min_impurity_split=None,\n",
        "                      min_samples_leaf=1, min_samples_split=2,\n",
        "                      min_weight_fraction_leaf=0.0, n_estimators=150,\n",
        "                      n_jobs=None, oob_score=False, random_state=42, verbose=0,\n",
        "                      warm_start=False)\n",
        "  base_models['lgbm'] = LGBMRegressor(random_state=42)\n",
        "  n_df = y_train.reset_index(drop=True)\n",
        "  for name, model1 in base_models.items():\n",
        "    model1.fit(X_train, y_train)\n",
        "    df = pd.DataFrame(model1.predict(X_train), columns=[name])\n",
        "    n_df = pd.concat([n_df, df], axis=1)\n",
        "  return n_df.corr(), base_models\n",
        "\n",
        "model_corr, models_dict = get_all_base_model_corr(X_train, y_train)"
      ],
      "execution_count": 45,
      "outputs": []
    },
    {
      "cell_type": "code",
      "metadata": {
        "colab": {
          "base_uri": "https://localhost:8080/",
          "height": 225
        },
        "id": "_pCdNzHj2C3-",
        "outputId": "24031b3e-dace-4d53-ce44-280d247f4d7e"
      },
      "source": [
        "model_corr"
      ],
      "execution_count": 46,
      "outputs": [
        {
          "output_type": "execute_result",
          "data": {
            "text/html": [
              "<div>\n",
              "<style scoped>\n",
              "    .dataframe tbody tr th:only-of-type {\n",
              "        vertical-align: middle;\n",
              "    }\n",
              "\n",
              "    .dataframe tbody tr th {\n",
              "        vertical-align: top;\n",
              "    }\n",
              "\n",
              "    .dataframe thead th {\n",
              "        text-align: right;\n",
              "    }\n",
              "</style>\n",
              "<table border=\"1\" class=\"dataframe\">\n",
              "  <thead>\n",
              "    <tr style=\"text-align: right;\">\n",
              "      <th></th>\n",
              "      <th>price</th>\n",
              "      <th>knn</th>\n",
              "      <th>lr</th>\n",
              "      <th>cart</th>\n",
              "      <th>rf</th>\n",
              "      <th>lgbm</th>\n",
              "    </tr>\n",
              "  </thead>\n",
              "  <tbody>\n",
              "    <tr>\n",
              "      <th>price</th>\n",
              "      <td>1.000000</td>\n",
              "      <td>0.953822</td>\n",
              "      <td>0.881369</td>\n",
              "      <td>0.977211</td>\n",
              "      <td>0.994328</td>\n",
              "      <td>0.971593</td>\n",
              "    </tr>\n",
              "    <tr>\n",
              "      <th>knn</th>\n",
              "      <td>0.953822</td>\n",
              "      <td>1.000000</td>\n",
              "      <td>0.915457</td>\n",
              "      <td>0.962073</td>\n",
              "      <td>0.968905</td>\n",
              "      <td>0.965470</td>\n",
              "    </tr>\n",
              "    <tr>\n",
              "      <th>lr</th>\n",
              "      <td>0.881369</td>\n",
              "      <td>0.915457</td>\n",
              "      <td>1.000000</td>\n",
              "      <td>0.896919</td>\n",
              "      <td>0.900077</td>\n",
              "      <td>0.903140</td>\n",
              "    </tr>\n",
              "    <tr>\n",
              "      <th>cart</th>\n",
              "      <td>0.977211</td>\n",
              "      <td>0.962073</td>\n",
              "      <td>0.896919</td>\n",
              "      <td>1.000000</td>\n",
              "      <td>0.988718</td>\n",
              "      <td>0.978438</td>\n",
              "    </tr>\n",
              "    <tr>\n",
              "      <th>rf</th>\n",
              "      <td>0.994328</td>\n",
              "      <td>0.968905</td>\n",
              "      <td>0.900077</td>\n",
              "      <td>0.988718</td>\n",
              "      <td>1.000000</td>\n",
              "      <td>0.984491</td>\n",
              "    </tr>\n",
              "    <tr>\n",
              "      <th>lgbm</th>\n",
              "      <td>0.971593</td>\n",
              "      <td>0.965470</td>\n",
              "      <td>0.903140</td>\n",
              "      <td>0.978438</td>\n",
              "      <td>0.984491</td>\n",
              "      <td>1.000000</td>\n",
              "    </tr>\n",
              "  </tbody>\n",
              "</table>\n",
              "</div>"
            ],
            "text/plain": [
              "          price       knn        lr      cart        rf      lgbm\n",
              "price  1.000000  0.953822  0.881369  0.977211  0.994328  0.971593\n",
              "knn    0.953822  1.000000  0.915457  0.962073  0.968905  0.965470\n",
              "lr     0.881369  0.915457  1.000000  0.896919  0.900077  0.903140\n",
              "cart   0.977211  0.962073  0.896919  1.000000  0.988718  0.978438\n",
              "rf     0.994328  0.968905  0.900077  0.988718  1.000000  0.984491\n",
              "lgbm   0.971593  0.965470  0.903140  0.978438  0.984491  1.000000"
            ]
          },
          "metadata": {
            "tags": []
          },
          "execution_count": 46
        }
      ]
    },
    {
      "cell_type": "code",
      "metadata": {
        "id": "Mu-a2aci2QAq"
      },
      "source": [
        "# CART,RF and LGBM are all tree based and are v correlated, drop LGBM, use CART as Level1 Regressor"
      ],
      "execution_count": 47,
      "outputs": []
    },
    {
      "cell_type": "code",
      "metadata": {
        "id": "cJmmQRz9y_R4"
      },
      "source": [
        "# get a stacking ensemble of models\n",
        "def stacking_regressor(base_models, level0_list, level1):\n",
        "  level0 = list()\n",
        "  new_base_models = dict()\n",
        "  for model in level0_list:\n",
        "    level0.append((model, base_models[model]))\n",
        "    new_base_models[model] = base_models[model]\n",
        "  level1 = base_models[level1]\n",
        "  model = StackingRegressor(estimators=level0, final_estimator=level1, cv=5)\n",
        "  new_base_models['stacking'] = model\n",
        "  return model, new_base_models\n",
        "\n",
        "sr, models_dict = stacking_regressor(models_dict, level0_list=['knn','lr', 'cart'], level1='rf')"
      ],
      "execution_count": 48,
      "outputs": []
    },
    {
      "cell_type": "code",
      "metadata": {
        "colab": {
          "base_uri": "https://localhost:8080/"
        },
        "id": "XFaI32vO6Np1",
        "outputId": "80f63c44-b313-4759-b22a-abcb60f612c6"
      },
      "source": [
        "models_dict"
      ],
      "execution_count": 49,
      "outputs": [
        {
          "output_type": "execute_result",
          "data": {
            "text/plain": [
              "{'cart': DecisionTreeRegressor(ccp_alpha=0.0, criterion='mse', max_depth=None,\n",
              "                       max_features=None, max_leaf_nodes=800,\n",
              "                       min_impurity_decrease=0.0, min_impurity_split=None,\n",
              "                       min_samples_leaf=1, min_samples_split=15,\n",
              "                       min_weight_fraction_leaf=0.0, presort=False,\n",
              "                       random_state=42, splitter='best'),\n",
              " 'knn': KNeighborsRegressor(algorithm='auto', leaf_size=30, metric='minkowski',\n",
              "                     metric_params=None, n_jobs=None, n_neighbors=5, p=2,\n",
              "                     weights='uniform'),\n",
              " 'lr': LinearRegression(copy_X=True, fit_intercept=True, n_jobs=None, normalize=False),\n",
              " 'stacking': StackingRegressor(cv=5,\n",
              "                   estimators=[('knn',\n",
              "                                KNeighborsRegressor(algorithm='auto',\n",
              "                                                    leaf_size=30,\n",
              "                                                    metric='minkowski',\n",
              "                                                    metric_params=None,\n",
              "                                                    n_jobs=None, n_neighbors=5,\n",
              "                                                    p=2, weights='uniform')),\n",
              "                               ('lr',\n",
              "                                LinearRegression(copy_X=True, fit_intercept=True,\n",
              "                                                 n_jobs=None, normalize=False)),\n",
              "                               ('cart',\n",
              "                                DecisionTreeRegressor(ccp_alpha=0.0,\n",
              "                                                      criterion='mse',\n",
              "                                                      max_depth=None,\n",
              "                                                      max_feature...\n",
              "                   final_estimator=RandomForestRegressor(bootstrap=True,\n",
              "                                                         ccp_alpha=0.0,\n",
              "                                                         criterion='mse',\n",
              "                                                         max_depth=None,\n",
              "                                                         max_features='auto',\n",
              "                                                         max_leaf_nodes=None,\n",
              "                                                         max_samples=None,\n",
              "                                                         min_impurity_decrease=0.0,\n",
              "                                                         min_impurity_split=None,\n",
              "                                                         min_samples_leaf=1,\n",
              "                                                         min_samples_split=2,\n",
              "                                                         min_weight_fraction_leaf=0.0,\n",
              "                                                         n_estimators=150,\n",
              "                                                         n_jobs=None,\n",
              "                                                         oob_score=False,\n",
              "                                                         random_state=42,\n",
              "                                                         verbose=0,\n",
              "                                                         warm_start=False),\n",
              "                   n_jobs=None, passthrough=False, verbose=0)}"
            ]
          },
          "metadata": {
            "tags": []
          },
          "execution_count": 49
        }
      ]
    },
    {
      "cell_type": "code",
      "metadata": {
        "colab": {
          "base_uri": "https://localhost:8080/",
          "height": 397
        },
        "id": "kkEojWlR3Gt4",
        "outputId": "4b68f925-4039-4c63-8062-ce2d7eadf209"
      },
      "source": [
        "# evaluate a given model using cross-validation\n",
        "def evaluate_model(model, X, y):\n",
        "\tcv = RepeatedKFold(n_splits=10, n_repeats=3, random_state=1)\n",
        "\tscores = cross_val_score(model, X, y, scoring='neg_mean_squared_error', cv=cv, n_jobs=-1, error_score='raise')\n",
        "\treturn scores\n",
        "\n",
        "results, names = list(), list()\n",
        "for name, model in models_dict.items():\n",
        "\tscores = evaluate_model(model, X_train, y_train)\n",
        "\tresults.append(scores)\n",
        "\tnames.append(name)\n",
        "\tprint('>%s %.3f (%.3f)' % (name, mean(scores), std(scores)))\n",
        "# plot model performance for comparison\n",
        "pyplot.boxplot(results, labels=names, showmeans=True)\n",
        "pyplot.show()"
      ],
      "execution_count": 50,
      "outputs": [
        {
          "output_type": "stream",
          "text": [
            ">knn -408653397033.301 (234525019498.806)\n",
            ">lr -627730264277.325 (179900410627.519)\n",
            ">cart -387554959660.038 (299485577040.022)\n"
          ],
          "name": "stdout"
        },
        {
          "output_type": "stream",
          "text": [
            "/usr/local/lib/python3.7/dist-packages/joblib/externals/loky/process_executor.py:691: UserWarning: A worker stopped while some jobs were given to the executor. This can be caused by a too short worker timeout or by a memory leak.\n",
            "  \"timeout or by a memory leak.\", UserWarning\n"
          ],
          "name": "stderr"
        },
        {
          "output_type": "stream",
          "text": [
            ">stacking -303255233120.767 (211439022413.467)\n"
          ],
          "name": "stdout"
        },
        {
          "output_type": "display_data",
          "data": {
            "image/png": "[encoded data removed]",
            "text/plain": [
              "<Figure size 432x288 with 1 Axes>"
            ]
          },
          "metadata": {
            "tags": [],
            "needs_background": "light"
          }
        }
      ]
    },
    {
      "cell_type": "markdown",
      "metadata": {
        "id": "Mb1FbJhf4Dxj"
      },
      "source": [
        "# Metrics for Ensemble"
      ]
    },
    {
      "cell_type": "code",
      "metadata": {
        "colab": {
          "base_uri": "https://localhost:8080/"
        },
        "id": "2YCYeHLjat_I",
        "outputId": "1332f919-ea76-45fd-82b4-cde509ef998d"
      },
      "source": [
        "# Convert both y_train and y_test back to series\n",
        "y_train = y_train.squeeze()\n",
        "y_test = y_test.squeeze()\n",
        "\n",
        "sr.fit(X_train, y_train)"
      ],
      "execution_count": 51,
      "outputs": [
        {
          "output_type": "execute_result",
          "data": {
            "text/plain": [
              "StackingRegressor(cv=5,\n",
              "                  estimators=[('knn',\n",
              "                               KNeighborsRegressor(algorithm='auto',\n",
              "                                                   leaf_size=30,\n",
              "                                                   metric='minkowski',\n",
              "                                                   metric_params=None,\n",
              "                                                   n_jobs=None, n_neighbors=5,\n",
              "                                                   p=2, weights='uniform')),\n",
              "                              ('lr',\n",
              "                               LinearRegression(copy_X=True, fit_intercept=True,\n",
              "                                                n_jobs=None, normalize=False)),\n",
              "                              ('cart',\n",
              "                               DecisionTreeRegressor(ccp_alpha=0.0,\n",
              "                                                     criterion='mse',\n",
              "                                                     max_depth=None,\n",
              "                                                     max_feature...\n",
              "                  final_estimator=RandomForestRegressor(bootstrap=True,\n",
              "                                                        ccp_alpha=0.0,\n",
              "                                                        criterion='mse',\n",
              "                                                        max_depth=None,\n",
              "                                                        max_features='auto',\n",
              "                                                        max_leaf_nodes=None,\n",
              "                                                        max_samples=None,\n",
              "                                                        min_impurity_decrease=0.0,\n",
              "                                                        min_impurity_split=None,\n",
              "                                                        min_samples_leaf=1,\n",
              "                                                        min_samples_split=2,\n",
              "                                                        min_weight_fraction_leaf=0.0,\n",
              "                                                        n_estimators=150,\n",
              "                                                        n_jobs=None,\n",
              "                                                        oob_score=False,\n",
              "                                                        random_state=42,\n",
              "                                                        verbose=0,\n",
              "                                                        warm_start=False),\n",
              "                  n_jobs=None, passthrough=False, verbose=0)"
            ]
          },
          "metadata": {
            "tags": []
          },
          "execution_count": 51
        }
      ]
    },
    {
      "cell_type": "code",
      "metadata": {
        "colab": {
          "base_uri": "https://localhost:8080/"
        },
        "id": "KMY_bf9Ha0Y9",
        "outputId": "c7daf220-0ab9-4251-955e-b3cd27515eec"
      },
      "source": [
        "# Compute MSE\n",
        "def mse(y_predicted, y_true):\n",
        "  return np.mean(np.square(y_predicted - y_true))\n",
        "\n",
        "mse_training = mse(sr.predict(X_train), y_train)\n",
        "mse_testing = mse(sr.predict(X_test), y_test)\n",
        "\n",
        "print(\"training mse: {}, testing mse: {}\".format(mse_training, mse_testing))\n",
        "print(\"training rmse: {}, testing rmse: {}\".format(np.sqrt(mse_training), np.sqrt(mse_testing)))"
      ],
      "execution_count": 52,
      "outputs": [
        {
          "output_type": "stream",
          "text": [
            "training mse: 165185081870.65536, testing mse: 120882859345.91333\n",
            "training rmse: 406429.6764148201, testing rmse: 347682.1239953434\n"
          ],
          "name": "stdout"
        }
      ]
    },
    {
      "cell_type": "code",
      "metadata": {
        "colab": {
          "base_uri": "https://localhost:8080/"
        },
        "id": "YUUftxh0a6Jm",
        "outputId": "53aec6c5-8d6a-404c-d6e8-2f077ebc265c"
      },
      "source": [
        "\n",
        "# Compute R2 and adjusted R2\n",
        "print(\"training R2: {}, testing R2: {}\".format(sr.score(X_train, y_train), sr.score(X_test, y_test)))\n",
        "print(\"training adjusted R2: {}, testing adjusted R2: {}\".format(\n",
        "    1 - (1-sr.score(X_train, y_train))*(len(y_train)-1)/(len(y_train)-X_train.shape[1]-1), \n",
        "    1 - (1-sr.score(X_test, y_test))*(len(y_test)-1)/(len(y_test)-X_test.shape[1]-1)))"
      ],
      "execution_count": 53,
      "outputs": [
        {
          "output_type": "stream",
          "text": [
            "training R2: 0.9409812410517813, testing R2: 0.9425699473470747\n",
            "training adjusted R2: 0.9409735144218471, testing adjusted R2: 0.9425398601286807\n"
          ],
          "name": "stdout"
        }
      ]
    },
    {
      "cell_type": "code",
      "metadata": {
        "colab": {
          "base_uri": "https://localhost:8080/"
        },
        "id": "RN7ITbu1bFQA",
        "outputId": "718e38e2-e9bd-469e-e91f-5f4d4cea63ac"
      },
      "source": [
        "# Calculate MAE\n",
        "print(\"training MAE: {}, testing MAE: {}\".format(\n",
        "    mean_absolute_error(y_train, sr.predict(X_train)),\n",
        "    mean_absolute_error(y_test, sr.predict(X_test)),    \n",
        "))"
      ],
      "execution_count": 54,
      "outputs": [
        {
          "output_type": "stream",
          "text": [
            "training MAE: 71462.18157064854, testing MAE: 88176.00017777884\n"
          ],
          "name": "stdout"
        }
      ]
    },
    {
      "cell_type": "code",
      "metadata": {
        "colab": {
          "base_uri": "https://localhost:8080/"
        },
        "id": "YJ77eGaL1mk1",
        "outputId": "baaf1b3c-5996-493c-ba53-f553ed6bbc74"
      },
      "source": [
        "import numpy as np\n",
        "\n",
        "def smape(A, F):\n",
        "    return 100/len(A) * np.sum(2 * np.abs(F - A) / (np.abs(A) + np.abs(F)))\n",
        "\n",
        "A = np.array(sr.predict(X_test))\n",
        "F = np.array(y_test)\n",
        "print(smape(A, F))"
      ],
      "execution_count": 55,
      "outputs": [
        {
          "output_type": "stream",
          "text": [
            "6.408172231425783\n"
          ],
          "name": "stdout"
        }
      ]
    },
    {
      "cell_type": "code",
      "metadata": {
        "id": "x7mIAvUG_IB7"
      },
      "source": [
        "# save the model to disk\n",
        "import pickle\n",
        "filename = '/content/drive/My Drive/bt4222code/finalized_model.sav'\n",
        "pickle.dump(sr, open(filename, 'wb'))"
      ],
      "execution_count": 56,
      "outputs": []
    },
    {
      "cell_type": "code",
      "metadata": {
        "id": "UB1ZHzVn_81V"
      },
      "source": [
        "import pickle\n",
        "\n",
        "loaded_model = pickle.load(open(path + '/finalized_model.sav', 'rb'))"
      ],
      "execution_count": 7,
      "outputs": []
    }
  ]
}