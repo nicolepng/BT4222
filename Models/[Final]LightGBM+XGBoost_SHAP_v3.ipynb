{
 "cells": [
  {
   "cell_type": "markdown",
   "metadata": {},
   "source": [
    "## Import Libraries"
   ]
  },
  {
   "cell_type": "code",
   "execution_count": 1,
   "metadata": {},
   "outputs": [],
   "source": [
    "import pandas as pd\n",
    "import numpy as np\n",
    "from scipy import linalg, optimize\n",
    "import re\n",
    "import random\n",
    "import math\n",
    "import string\n",
    "from nltk.corpus import wordnet as wn\n",
    "from datetime import datetime\n",
    "import matplotlib.pyplot as plt\n",
    "from sklearn.svm import SVC\n",
    "from sklearn import preprocessing, decomposition, model_selection, metrics, pipeline\n",
    "from sklearn.model_selection import GridSearchCV\n",
    "from sklearn.feature_extraction.text import TfidfVectorizer, CountVectorizer\n",
    "from sklearn.decomposition import TruncatedSVD\n",
    "from sklearn.linear_model import LogisticRegression\n",
    "from sklearn.linear_model import LinearRegression\n",
    "from sklearn.linear_model import SGDRegressor\n",
    "from sklearn.model_selection import train_test_split\n",
    "from sklearn.neighbors import KNeighborsClassifier\n",
    "from sklearn.naive_bayes import MultinomialNB\n",
    "from sklearn.metrics import confusion_matrix, accuracy_score\n",
    "from sklearn.metrics import make_scorer\n",
    "from sklearn.model_selection import cross_val_score\n",
    "from sklearn.preprocessing import StandardScaler\n",
    "from sklearn.dummy import DummyClassifier\n",
    "from sklearn.preprocessing import OneHotEncoder\n",
    "from sklearn import preprocessing\n",
    "from sklearn import metrics\n",
    "from sklearn.preprocessing import LabelEncoder\n",
    "from nltk import word_tokenize\n",
    "from scipy import optimize\n",
    "from nltk.tokenize import word_tokenize\n",
    "from nltk.corpus import stopwords\n",
    "from scipy.sparse import coo_matrix, hstack, vstack\n",
    "import seaborn as sns\n",
    "\n",
    "# Graphing: \n",
    "%matplotlib inline\n"
   ]
  },
  {
   "cell_type": "markdown",
   "metadata": {},
   "source": [
    "## Reading in of Data"
   ]
  },
  {
   "cell_type": "code",
   "execution_count": 2,
   "metadata": {},
   "outputs": [],
   "source": [
    "combined = '/Users/vickiyew/Desktop/bt4222_data/combined_psf.csv'"
   ]
  },
  {
   "cell_type": "markdown",
   "metadata": {},
   "source": [
    "## Transform into DataFrame and Pre-processing"
   ]
  },
  {
   "cell_type": "code",
   "execution_count": 3,
   "metadata": {},
   "outputs": [
    {
     "data": {
      "text/html": [
       "<div>\n",
       "<style scoped>\n",
       "    .dataframe tbody tr th:only-of-type {\n",
       "        vertical-align: middle;\n",
       "    }\n",
       "\n",
       "    .dataframe tbody tr th {\n",
       "        vertical-align: top;\n",
       "    }\n",
       "\n",
       "    .dataframe thead th {\n",
       "        text-align: right;\n",
       "    }\n",
       "</style>\n",
       "<table border=\"1\" class=\"dataframe\">\n",
       "  <thead>\n",
       "    <tr style=\"text-align: right;\">\n",
       "      <th></th>\n",
       "      <th>district</th>\n",
       "      <th>street</th>\n",
       "      <th>propertyType</th>\n",
       "      <th>remaining_lease</th>\n",
       "      <th>school</th>\n",
       "      <th>hawkercentre</th>\n",
       "      <th>supermarkets</th>\n",
       "      <th>Bus Stops Nearby</th>\n",
       "      <th>crime_number</th>\n",
       "      <th>latitude</th>\n",
       "      <th>longitude</th>\n",
       "      <th>floor_range</th>\n",
       "      <th>sentiment</th>\n",
       "      <th>month</th>\n",
       "      <th>floor_area_sqft</th>\n",
       "      <th>price_psf</th>\n",
       "    </tr>\n",
       "  </thead>\n",
       "  <tbody>\n",
       "    <tr>\n",
       "      <th>0</th>\n",
       "      <td>5</td>\n",
       "      <td>ZEHNDER ROAD</td>\n",
       "      <td>Semi-detached</td>\n",
       "      <td>999.0</td>\n",
       "      <td>27</td>\n",
       "      <td>6</td>\n",
       "      <td>8</td>\n",
       "      <td>0</td>\n",
       "      <td>-1.0</td>\n",
       "      <td>1.282130</td>\n",
       "      <td>103.786879</td>\n",
       "      <td>-</td>\n",
       "      <td>0.154684</td>\n",
       "      <td>2020-02</td>\n",
       "      <td>5643.51277</td>\n",
       "      <td>974.570312</td>\n",
       "    </tr>\n",
       "    <tr>\n",
       "      <th>1</th>\n",
       "      <td>5</td>\n",
       "      <td>ZEHNDER ROAD</td>\n",
       "      <td>Semi-detached</td>\n",
       "      <td>999.0</td>\n",
       "      <td>27</td>\n",
       "      <td>6</td>\n",
       "      <td>8</td>\n",
       "      <td>0</td>\n",
       "      <td>-1.0</td>\n",
       "      <td>1.282130</td>\n",
       "      <td>103.786879</td>\n",
       "      <td>-</td>\n",
       "      <td>0.122456</td>\n",
       "      <td>2018-09</td>\n",
       "      <td>3315.28120</td>\n",
       "      <td>1508.167693</td>\n",
       "    </tr>\n",
       "    <tr>\n",
       "      <th>2</th>\n",
       "      <td>5</td>\n",
       "      <td>ZEHNDER ROAD</td>\n",
       "      <td>Semi-detached</td>\n",
       "      <td>999.0</td>\n",
       "      <td>27</td>\n",
       "      <td>6</td>\n",
       "      <td>8</td>\n",
       "      <td>0</td>\n",
       "      <td>-1.0</td>\n",
       "      <td>1.282130</td>\n",
       "      <td>103.786879</td>\n",
       "      <td>-</td>\n",
       "      <td>0.122456</td>\n",
       "      <td>2018-06</td>\n",
       "      <td>3379.86460</td>\n",
       "      <td>1405.381742</td>\n",
       "    </tr>\n",
       "    <tr>\n",
       "      <th>3</th>\n",
       "      <td>5</td>\n",
       "      <td>NEO PEE TECK LANE</td>\n",
       "      <td>Strata Terrace</td>\n",
       "      <td>999.0</td>\n",
       "      <td>27</td>\n",
       "      <td>6</td>\n",
       "      <td>8</td>\n",
       "      <td>2</td>\n",
       "      <td>-1.0</td>\n",
       "      <td>1.292047</td>\n",
       "      <td>103.768591</td>\n",
       "      <td>-</td>\n",
       "      <td>0.139334</td>\n",
       "      <td>2021-03</td>\n",
       "      <td>2002.08540</td>\n",
       "      <td>939.020883</td>\n",
       "    </tr>\n",
       "    <tr>\n",
       "      <th>4</th>\n",
       "      <td>5</td>\n",
       "      <td>NEO PEE TECK LANE</td>\n",
       "      <td>Terrace</td>\n",
       "      <td>999.0</td>\n",
       "      <td>27</td>\n",
       "      <td>6</td>\n",
       "      <td>8</td>\n",
       "      <td>2</td>\n",
       "      <td>-1.0</td>\n",
       "      <td>1.292047</td>\n",
       "      <td>103.768591</td>\n",
       "      <td>-</td>\n",
       "      <td>0.154684</td>\n",
       "      <td>2020-03</td>\n",
       "      <td>1714.68927</td>\n",
       "      <td>1533.805597</td>\n",
       "    </tr>\n",
       "  </tbody>\n",
       "</table>\n",
       "</div>"
      ],
      "text/plain": [
       "   district             street    propertyType  remaining_lease  school  \\\n",
       "0         5       ZEHNDER ROAD   Semi-detached            999.0      27   \n",
       "1         5       ZEHNDER ROAD   Semi-detached            999.0      27   \n",
       "2         5       ZEHNDER ROAD   Semi-detached            999.0      27   \n",
       "3         5  NEO PEE TECK LANE  Strata Terrace            999.0      27   \n",
       "4         5  NEO PEE TECK LANE         Terrace            999.0      27   \n",
       "\n",
       "   hawkercentre  supermarkets  Bus Stops Nearby  crime_number  latitude  \\\n",
       "0             6             8                 0          -1.0  1.282130   \n",
       "1             6             8                 0          -1.0  1.282130   \n",
       "2             6             8                 0          -1.0  1.282130   \n",
       "3             6             8                 2          -1.0  1.292047   \n",
       "4             6             8                 2          -1.0  1.292047   \n",
       "\n",
       "    longitude floor_range  sentiment    month  floor_area_sqft    price_psf  \n",
       "0  103.786879           -   0.154684  2020-02       5643.51277   974.570312  \n",
       "1  103.786879           -   0.122456  2018-09       3315.28120  1508.167693  \n",
       "2  103.786879           -   0.122456  2018-06       3379.86460  1405.381742  \n",
       "3  103.768591           -   0.139334  2021-03       2002.08540   939.020883  \n",
       "4  103.768591           -   0.154684  2020-03       1714.68927  1533.805597  "
      ]
     },
     "execution_count": 3,
     "metadata": {},
     "output_type": "execute_result"
    }
   ],
   "source": [
    "df = pd.read_csv(combined)\n",
    "df.drop(df.columns[0], axis = 1, inplace=True)\n",
    "df.head()"
   ]
  },
  {
   "cell_type": "markdown",
   "metadata": {},
   "source": [
    "> Preprocessing"
   ]
  },
  {
   "cell_type": "code",
   "execution_count": 4,
   "metadata": {},
   "outputs": [
    {
     "data": {
      "text/html": [
       "<div>\n",
       "<style scoped>\n",
       "    .dataframe tbody tr th:only-of-type {\n",
       "        vertical-align: middle;\n",
       "    }\n",
       "\n",
       "    .dataframe tbody tr th {\n",
       "        vertical-align: top;\n",
       "    }\n",
       "\n",
       "    .dataframe thead th {\n",
       "        text-align: right;\n",
       "    }\n",
       "</style>\n",
       "<table border=\"1\" class=\"dataframe\">\n",
       "  <thead>\n",
       "    <tr style=\"text-align: right;\">\n",
       "      <th></th>\n",
       "      <th>district</th>\n",
       "      <th>street</th>\n",
       "      <th>propertyType</th>\n",
       "      <th>remaining_lease</th>\n",
       "      <th>school</th>\n",
       "      <th>hawkercentre</th>\n",
       "      <th>supermarkets</th>\n",
       "      <th>Bus Stops Nearby</th>\n",
       "      <th>crime_number</th>\n",
       "      <th>latitude</th>\n",
       "      <th>longitude</th>\n",
       "      <th>floor_range</th>\n",
       "      <th>sentiment</th>\n",
       "      <th>month</th>\n",
       "      <th>floor_area_sqft</th>\n",
       "      <th>price_psf</th>\n",
       "    </tr>\n",
       "  </thead>\n",
       "  <tbody>\n",
       "    <tr>\n",
       "      <th>0</th>\n",
       "      <td>5</td>\n",
       "      <td>ZEHNDER ROAD</td>\n",
       "      <td>Semi-detached</td>\n",
       "      <td>999.0</td>\n",
       "      <td>27</td>\n",
       "      <td>6</td>\n",
       "      <td>8</td>\n",
       "      <td>0</td>\n",
       "      <td>-1.0</td>\n",
       "      <td>1.282130</td>\n",
       "      <td>103.786879</td>\n",
       "      <td>-</td>\n",
       "      <td>0.154684</td>\n",
       "      <td>2020-02</td>\n",
       "      <td>5643.51277</td>\n",
       "      <td>974.570312</td>\n",
       "    </tr>\n",
       "    <tr>\n",
       "      <th>1</th>\n",
       "      <td>5</td>\n",
       "      <td>ZEHNDER ROAD</td>\n",
       "      <td>Semi-detached</td>\n",
       "      <td>999.0</td>\n",
       "      <td>27</td>\n",
       "      <td>6</td>\n",
       "      <td>8</td>\n",
       "      <td>0</td>\n",
       "      <td>-1.0</td>\n",
       "      <td>1.282130</td>\n",
       "      <td>103.786879</td>\n",
       "      <td>-</td>\n",
       "      <td>0.122456</td>\n",
       "      <td>2018-09</td>\n",
       "      <td>3315.28120</td>\n",
       "      <td>1508.167693</td>\n",
       "    </tr>\n",
       "    <tr>\n",
       "      <th>2</th>\n",
       "      <td>5</td>\n",
       "      <td>ZEHNDER ROAD</td>\n",
       "      <td>Semi-detached</td>\n",
       "      <td>999.0</td>\n",
       "      <td>27</td>\n",
       "      <td>6</td>\n",
       "      <td>8</td>\n",
       "      <td>0</td>\n",
       "      <td>-1.0</td>\n",
       "      <td>1.282130</td>\n",
       "      <td>103.786879</td>\n",
       "      <td>-</td>\n",
       "      <td>0.122456</td>\n",
       "      <td>2018-06</td>\n",
       "      <td>3379.86460</td>\n",
       "      <td>1405.381742</td>\n",
       "    </tr>\n",
       "    <tr>\n",
       "      <th>3</th>\n",
       "      <td>5</td>\n",
       "      <td>NEO PEE TECK LANE</td>\n",
       "      <td>Strata Terrace</td>\n",
       "      <td>999.0</td>\n",
       "      <td>27</td>\n",
       "      <td>6</td>\n",
       "      <td>8</td>\n",
       "      <td>2</td>\n",
       "      <td>-1.0</td>\n",
       "      <td>1.292047</td>\n",
       "      <td>103.768591</td>\n",
       "      <td>-</td>\n",
       "      <td>0.139334</td>\n",
       "      <td>2021-03</td>\n",
       "      <td>2002.08540</td>\n",
       "      <td>939.020883</td>\n",
       "    </tr>\n",
       "    <tr>\n",
       "      <th>4</th>\n",
       "      <td>5</td>\n",
       "      <td>NEO PEE TECK LANE</td>\n",
       "      <td>Terrace</td>\n",
       "      <td>999.0</td>\n",
       "      <td>27</td>\n",
       "      <td>6</td>\n",
       "      <td>8</td>\n",
       "      <td>2</td>\n",
       "      <td>-1.0</td>\n",
       "      <td>1.292047</td>\n",
       "      <td>103.768591</td>\n",
       "      <td>-</td>\n",
       "      <td>0.154684</td>\n",
       "      <td>2020-03</td>\n",
       "      <td>1714.68927</td>\n",
       "      <td>1533.805597</td>\n",
       "    </tr>\n",
       "  </tbody>\n",
       "</table>\n",
       "</div>"
      ],
      "text/plain": [
       "   district             street    propertyType  remaining_lease  school  \\\n",
       "0         5       ZEHNDER ROAD   Semi-detached            999.0      27   \n",
       "1         5       ZEHNDER ROAD   Semi-detached            999.0      27   \n",
       "2         5       ZEHNDER ROAD   Semi-detached            999.0      27   \n",
       "3         5  NEO PEE TECK LANE  Strata Terrace            999.0      27   \n",
       "4         5  NEO PEE TECK LANE         Terrace            999.0      27   \n",
       "\n",
       "   hawkercentre  supermarkets  Bus Stops Nearby  crime_number  latitude  \\\n",
       "0             6             8                 0          -1.0  1.282130   \n",
       "1             6             8                 0          -1.0  1.282130   \n",
       "2             6             8                 0          -1.0  1.282130   \n",
       "3             6             8                 2          -1.0  1.292047   \n",
       "4             6             8                 2          -1.0  1.292047   \n",
       "\n",
       "    longitude floor_range  sentiment    month  floor_area_sqft    price_psf  \n",
       "0  103.786879           -   0.154684  2020-02       5643.51277   974.570312  \n",
       "1  103.786879           -   0.122456  2018-09       3315.28120  1508.167693  \n",
       "2  103.786879           -   0.122456  2018-06       3379.86460  1405.381742  \n",
       "3  103.768591           -   0.139334  2021-03       2002.08540   939.020883  \n",
       "4  103.768591           -   0.154684  2020-03       1714.68927  1533.805597  "
      ]
     },
     "execution_count": 4,
     "metadata": {},
     "output_type": "execute_result"
    }
   ],
   "source": [
    "df['floor_range'] = df['floor_range'].str.replace('~', '')\n",
    "df.head()"
   ]
  },
  {
   "cell_type": "code",
   "execution_count": 6,
   "metadata": {},
   "outputs": [],
   "source": [
    "# Label encoding\n",
    "df['street'] = df['street'].str.upper()\n",
    "df['street'] = df['street'].astype('category')\n",
    "street_dict = dict(zip(df['street'].cat.codes, df['street']))\n",
    "df['street'] = df['street'].cat.codes\n",
    "\n",
    "df['propertyType'] = df['propertyType'].astype('category')\n",
    "property_dict = dict(zip(df['propertyType'].cat.codes, df['propertyType']))\n",
    "df['propertyType'] = df['propertyType'].cat.codes\n",
    "\n",
    "df['floor_range'] = df['floor_range'].astype('category')\n",
    "floor_dict = dict(zip(df['floor_range'].cat.codes, df['floor_range']))\n",
    "df['floor_range'] = df['floor_range'].cat.codes"
   ]
  },
  {
   "cell_type": "code",
   "execution_count": 7,
   "metadata": {},
   "outputs": [
    {
     "data": {
      "text/plain": [
       "district              int64\n",
       "street                int16\n",
       "propertyType           int8\n",
       "remaining_lease     float64\n",
       "school                int64\n",
       "hawkercentre          int64\n",
       "supermarkets          int64\n",
       "Bus Stops Nearby      int64\n",
       "crime_number        float64\n",
       "latitude            float64\n",
       "longitude           float64\n",
       "floor_range            int8\n",
       "sentiment           float64\n",
       "month                object\n",
       "floor_area_sqft     float64\n",
       "price_psf           float64\n",
       "dtype: object"
      ]
     },
     "execution_count": 7,
     "metadata": {},
     "output_type": "execute_result"
    }
   ],
   "source": [
    "df.dtypes"
   ]
  },
  {
   "cell_type": "code",
   "execution_count": 8,
   "metadata": {},
   "outputs": [
    {
     "data": {
      "text/html": [
       "<div>\n",
       "<style scoped>\n",
       "    .dataframe tbody tr th:only-of-type {\n",
       "        vertical-align: middle;\n",
       "    }\n",
       "\n",
       "    .dataframe tbody tr th {\n",
       "        vertical-align: top;\n",
       "    }\n",
       "\n",
       "    .dataframe thead th {\n",
       "        text-align: right;\n",
       "    }\n",
       "</style>\n",
       "<table border=\"1\" class=\"dataframe\">\n",
       "  <thead>\n",
       "    <tr style=\"text-align: right;\">\n",
       "      <th></th>\n",
       "      <th>district</th>\n",
       "      <th>street</th>\n",
       "      <th>propertyType</th>\n",
       "      <th>remaining_lease</th>\n",
       "      <th>school</th>\n",
       "      <th>hawkercentre</th>\n",
       "      <th>supermarkets</th>\n",
       "      <th>Bus Stops Nearby</th>\n",
       "      <th>crime_number</th>\n",
       "      <th>latitude</th>\n",
       "      <th>longitude</th>\n",
       "      <th>floor_range</th>\n",
       "      <th>sentiment</th>\n",
       "      <th>month</th>\n",
       "      <th>floor_area_sqft</th>\n",
       "      <th>price_psf</th>\n",
       "    </tr>\n",
       "  </thead>\n",
       "  <tbody>\n",
       "    <tr>\n",
       "      <th>0</th>\n",
       "      <td>5</td>\n",
       "      <td>2016</td>\n",
       "      <td>11</td>\n",
       "      <td>999.0</td>\n",
       "      <td>27</td>\n",
       "      <td>6</td>\n",
       "      <td>8</td>\n",
       "      <td>0</td>\n",
       "      <td>-1.0</td>\n",
       "      <td>1.282130</td>\n",
       "      <td>103.786879</td>\n",
       "      <td>10</td>\n",
       "      <td>0.154684</td>\n",
       "      <td>2020-02</td>\n",
       "      <td>5643.51277</td>\n",
       "      <td>974.570312</td>\n",
       "    </tr>\n",
       "    <tr>\n",
       "      <th>1</th>\n",
       "      <td>5</td>\n",
       "      <td>2016</td>\n",
       "      <td>11</td>\n",
       "      <td>999.0</td>\n",
       "      <td>27</td>\n",
       "      <td>6</td>\n",
       "      <td>8</td>\n",
       "      <td>0</td>\n",
       "      <td>-1.0</td>\n",
       "      <td>1.282130</td>\n",
       "      <td>103.786879</td>\n",
       "      <td>10</td>\n",
       "      <td>0.122456</td>\n",
       "      <td>2018-09</td>\n",
       "      <td>3315.28120</td>\n",
       "      <td>1508.167693</td>\n",
       "    </tr>\n",
       "    <tr>\n",
       "      <th>2</th>\n",
       "      <td>5</td>\n",
       "      <td>2016</td>\n",
       "      <td>11</td>\n",
       "      <td>999.0</td>\n",
       "      <td>27</td>\n",
       "      <td>6</td>\n",
       "      <td>8</td>\n",
       "      <td>0</td>\n",
       "      <td>-1.0</td>\n",
       "      <td>1.282130</td>\n",
       "      <td>103.786879</td>\n",
       "      <td>10</td>\n",
       "      <td>0.122456</td>\n",
       "      <td>2018-06</td>\n",
       "      <td>3379.86460</td>\n",
       "      <td>1405.381742</td>\n",
       "    </tr>\n",
       "    <tr>\n",
       "      <th>3</th>\n",
       "      <td>5</td>\n",
       "      <td>1331</td>\n",
       "      <td>14</td>\n",
       "      <td>999.0</td>\n",
       "      <td>27</td>\n",
       "      <td>6</td>\n",
       "      <td>8</td>\n",
       "      <td>2</td>\n",
       "      <td>-1.0</td>\n",
       "      <td>1.292047</td>\n",
       "      <td>103.768591</td>\n",
       "      <td>10</td>\n",
       "      <td>0.139334</td>\n",
       "      <td>2021-03</td>\n",
       "      <td>2002.08540</td>\n",
       "      <td>939.020883</td>\n",
       "    </tr>\n",
       "    <tr>\n",
       "      <th>4</th>\n",
       "      <td>5</td>\n",
       "      <td>1331</td>\n",
       "      <td>15</td>\n",
       "      <td>999.0</td>\n",
       "      <td>27</td>\n",
       "      <td>6</td>\n",
       "      <td>8</td>\n",
       "      <td>2</td>\n",
       "      <td>-1.0</td>\n",
       "      <td>1.292047</td>\n",
       "      <td>103.768591</td>\n",
       "      <td>10</td>\n",
       "      <td>0.154684</td>\n",
       "      <td>2020-03</td>\n",
       "      <td>1714.68927</td>\n",
       "      <td>1533.805597</td>\n",
       "    </tr>\n",
       "  </tbody>\n",
       "</table>\n",
       "</div>"
      ],
      "text/plain": [
       "   district  street  propertyType  remaining_lease  school  hawkercentre  \\\n",
       "0         5    2016            11            999.0      27             6   \n",
       "1         5    2016            11            999.0      27             6   \n",
       "2         5    2016            11            999.0      27             6   \n",
       "3         5    1331            14            999.0      27             6   \n",
       "4         5    1331            15            999.0      27             6   \n",
       "\n",
       "   supermarkets  Bus Stops Nearby  crime_number  latitude   longitude  \\\n",
       "0             8                 0          -1.0  1.282130  103.786879   \n",
       "1             8                 0          -1.0  1.282130  103.786879   \n",
       "2             8                 0          -1.0  1.282130  103.786879   \n",
       "3             8                 2          -1.0  1.292047  103.768591   \n",
       "4             8                 2          -1.0  1.292047  103.768591   \n",
       "\n",
       "   floor_range  sentiment    month  floor_area_sqft    price_psf  \n",
       "0           10   0.154684  2020-02       5643.51277   974.570312  \n",
       "1           10   0.122456  2018-09       3315.28120  1508.167693  \n",
       "2           10   0.122456  2018-06       3379.86460  1405.381742  \n",
       "3           10   0.139334  2021-03       2002.08540   939.020883  \n",
       "4           10   0.154684  2020-03       1714.68927  1533.805597  "
      ]
     },
     "execution_count": 8,
     "metadata": {},
     "output_type": "execute_result"
    }
   ],
   "source": [
    "df.head()"
   ]
  },
  {
   "cell_type": "markdown",
   "metadata": {},
   "source": [
    "## Train-test Split\n",
    "> * Training Set: Before Year 2020 [70% of whole dataset]\n",
    "> * Testing Set: After Year 2020 [30% of whole dataset]"
   ]
  },
  {
   "cell_type": "code",
   "execution_count": 10,
   "metadata": {},
   "outputs": [],
   "source": [
    "df['month']= pd.to_datetime(df['month'])\n",
    "train_df = df[df.month < \"2020-01-01\"]\n",
    "train_df = train_df.drop('month', axis=1)\n",
    "test_df = df[df.month >= \"2020-01-01\"]\n",
    "test_df = test_df.drop('month', axis=1)\n",
    "\n",
    "X_train = train_df.drop(['price_psf'], axis=1)\n",
    "y_train = train_df['price_psf']\n",
    "X_test = test_df.drop(['price_psf'], axis=1)\n",
    "y_test = test_df['price_psf']"
   ]
  },
  {
   "cell_type": "code",
   "execution_count": 11,
   "metadata": {},
   "outputs": [
    {
     "data": {
      "text/plain": [
       "['district',\n",
       " 'street',\n",
       " 'propertyType',\n",
       " 'remaining_lease',\n",
       " 'school',\n",
       " 'hawkercentre',\n",
       " 'supermarkets',\n",
       " 'Bus Stops Nearby',\n",
       " 'crime_number',\n",
       " 'latitude',\n",
       " 'longitude',\n",
       " 'floor_range',\n",
       " 'sentiment',\n",
       " 'floor_area_sqft']"
      ]
     },
     "execution_count": 11,
     "metadata": {},
     "output_type": "execute_result"
    }
   ],
   "source": [
    "cols = X_train.columns.tolist()\n",
    "cols"
   ]
  },
  {
   "cell_type": "code",
   "execution_count": 13,
   "metadata": {},
   "outputs": [
    {
     "name": "stdout",
     "output_type": "stream",
     "text": [
      "(89135,)\n",
      "(45954,)\n"
     ]
    }
   ],
   "source": [
    "# Fit and transform X training and testing\n",
    "from sklearn.preprocessing import LabelEncoder, MinMaxScaler, OneHotEncoder\n",
    "scaler = MinMaxScaler()\n",
    "col = ['remaining_lease', 'school', 'hawkercentre', 'supermarkets',\n",
    "      'Bus Stops Nearby', 'crime_number', 'floor_area_sqft']\n",
    "x = X_train[col].values\n",
    "x_scaled = scaler.fit_transform(x)\n",
    "df_temp = pd.DataFrame(x_scaled, columns = col, index = X_train.index)\n",
    "X_train[col] = df_temp\n",
    "\n",
    "x_test = X_test[col].values\n",
    "x_test_scaled = scaler.transform(x_test)\n",
    "df_temp = pd.DataFrame(x_test_scaled, columns = col, index = X_test.index)\n",
    "X_test[col] = df_temp\n",
    "\n",
    "# Fit and transform Y training and testing\n",
    "y_scaler = MinMaxScaler()\n",
    "y_train = y_scaler.fit_transform(y_train.values.reshape(-1,1)).reshape(1,-1)[0]\n",
    "y_test = y_scaler.transform(y_test.values.reshape(-1, 1)).reshape(1,-1)[0]\n",
    "\n",
    "print(y_train.shape)\n",
    "print(y_test.shape)"
   ]
  },
  {
   "cell_type": "code",
   "execution_count": 14,
   "metadata": {},
   "outputs": [],
   "source": [
    "y_train = pd.DataFrame(y_train, columns = ['price_psf'])\n",
    "y_test = pd.DataFrame(y_test, columns = ['price_psf'])"
   ]
  },
  {
   "cell_type": "code",
   "execution_count": 15,
   "metadata": {},
   "outputs": [
    {
     "data": {
      "text/html": [
       "<div>\n",
       "<style scoped>\n",
       "    .dataframe tbody tr th:only-of-type {\n",
       "        vertical-align: middle;\n",
       "    }\n",
       "\n",
       "    .dataframe tbody tr th {\n",
       "        vertical-align: top;\n",
       "    }\n",
       "\n",
       "    .dataframe thead th {\n",
       "        text-align: right;\n",
       "    }\n",
       "</style>\n",
       "<table border=\"1\" class=\"dataframe\">\n",
       "  <thead>\n",
       "    <tr style=\"text-align: right;\">\n",
       "      <th></th>\n",
       "      <th>price_psf</th>\n",
       "    </tr>\n",
       "  </thead>\n",
       "  <tbody>\n",
       "    <tr>\n",
       "      <th>0</th>\n",
       "      <td>0.294011</td>\n",
       "    </tr>\n",
       "    <tr>\n",
       "      <th>1</th>\n",
       "      <td>0.273525</td>\n",
       "    </tr>\n",
       "    <tr>\n",
       "      <th>2</th>\n",
       "      <td>0.291005</td>\n",
       "    </tr>\n",
       "    <tr>\n",
       "      <th>3</th>\n",
       "      <td>0.290679</td>\n",
       "    </tr>\n",
       "    <tr>\n",
       "      <th>4</th>\n",
       "      <td>0.276082</td>\n",
       "    </tr>\n",
       "    <tr>\n",
       "      <th>...</th>\n",
       "      <td>...</td>\n",
       "    </tr>\n",
       "    <tr>\n",
       "      <th>89130</th>\n",
       "      <td>0.069056</td>\n",
       "    </tr>\n",
       "    <tr>\n",
       "      <th>89131</th>\n",
       "      <td>0.065082</td>\n",
       "    </tr>\n",
       "    <tr>\n",
       "      <th>89132</th>\n",
       "      <td>0.064895</td>\n",
       "    </tr>\n",
       "    <tr>\n",
       "      <th>89133</th>\n",
       "      <td>0.082495</td>\n",
       "    </tr>\n",
       "    <tr>\n",
       "      <th>89134</th>\n",
       "      <td>0.072344</td>\n",
       "    </tr>\n",
       "  </tbody>\n",
       "</table>\n",
       "<p>89135 rows × 1 columns</p>\n",
       "</div>"
      ],
      "text/plain": [
       "       price_psf\n",
       "0       0.294011\n",
       "1       0.273525\n",
       "2       0.291005\n",
       "3       0.290679\n",
       "4       0.276082\n",
       "...          ...\n",
       "89130   0.069056\n",
       "89131   0.065082\n",
       "89132   0.064895\n",
       "89133   0.082495\n",
       "89134   0.072344\n",
       "\n",
       "[89135 rows x 1 columns]"
      ]
     },
     "execution_count": 15,
     "metadata": {},
     "output_type": "execute_result"
    }
   ],
   "source": [
    "y_train"
   ]
  },
  {
   "cell_type": "markdown",
   "metadata": {},
   "source": [
    "## Feature Cross - Latitude & Longitude"
   ]
  },
  {
   "cell_type": "code",
   "execution_count": 16,
   "metadata": {},
   "outputs": [],
   "source": [
    "X_train = pd.DataFrame(X_train, columns = cols)\n",
    "X_test = pd.DataFrame(X_test, columns = cols)"
   ]
  },
  {
   "cell_type": "code",
   "execution_count": 17,
   "metadata": {},
   "outputs": [],
   "source": [
    "_, longitude_boundaries = np.histogram(X_train['longitude'])\n",
    "_, latitude_boundaries = np.histogram(X_train['latitude'])\n",
    "\n",
    "def assign_bucket(x, ranges):\n",
    "    if x <= ranges[0]:\n",
    "        return 0\n",
    "    \n",
    "    for i in range(1, len(ranges) - 1):\n",
    "        if x <= ranges[i]:\n",
    "            return i - 1\n",
    "    return len(ranges) - 2\n",
    "\n",
    "X_train['lgt_discrete'] = X_train['longitude'].apply(lambda x: assign_bucket(x, longitude_boundaries))\n",
    "X_train['lat_discrete'] = X_train['latitude'].apply(lambda x: assign_bucket(x, latitude_boundaries))\n",
    "X_test['lgt_discrete'] = X_test['longitude'].apply(lambda x: assign_bucket(x, longitude_boundaries))\n",
    "X_test['lat_discrete'] = X_test['latitude'].apply(lambda x: assign_bucket(x, latitude_boundaries))"
   ]
  },
  {
   "cell_type": "code",
   "execution_count": 18,
   "metadata": {},
   "outputs": [],
   "source": [
    "from sklearn.preprocessing import OneHotEncoder\n",
    "enc = OneHotEncoder(categories='auto')\n",
    "features_lat_lgn_train = enc.fit_transform(X_train[['lgt_discrete', 'lat_discrete']]) # fit and transform TRAIN\n",
    "features_lat_lgn_test = enc.transform(X_test[['lgt_discrete', 'lat_discrete']]) # transform only TEST"
   ]
  },
  {
   "cell_type": "code",
   "execution_count": 19,
   "metadata": {},
   "outputs": [],
   "source": [
    "features_to_drop = ['longitude', 'latitude', 'lgt_discrete', 'lat_discrete']\n",
    "OHE_train = np.hstack((X_train.drop(features_to_drop, axis=1).values, features_lat_lgn_train.toarray()))\n",
    "OHE_test = np.hstack((X_test.drop(features_to_drop, axis=1).values, features_lat_lgn_test.toarray()))"
   ]
  },
  {
   "cell_type": "markdown",
   "metadata": {},
   "source": [
    "## XGBoost and Hyperparameter Tuning with RandomizedSearchCV"
   ]
  },
  {
   "cell_type": "code",
   "execution_count": 30,
   "metadata": {},
   "outputs": [
    {
     "name": "stdout",
     "output_type": "stream",
     "text": [
      "Fitting 5 folds for each of 2 candidates, totalling 10 fits\n"
     ]
    },
    {
     "name": "stderr",
     "output_type": "stream",
     "text": [
      "/Users/vickiyew/opt/anaconda3/lib/python3.7/site-packages/sklearn/model_selection/_search.py:289: UserWarning: The total space of parameters 2 is smaller than n_iter=10. Running 2 iterations. For exhaustive searches, use GridSearchCV.\n",
      "  % (grid_size, self.n_iter, grid_size), UserWarning)\n"
     ]
    },
    {
     "name": "stdout",
     "output_type": "stream",
     "text": [
      "[23:10:38] WARNING: /Users/travis/build/dmlc/xgboost/src/learner.cc:541: \n",
      "Parameters: { subsamples } might not be used.\n",
      "\n",
      "  This may not be accurate due to some parameters are only used in language bindings but\n",
      "  passed down to XGBoost core.  Or some parameters are not used but slip through this\n",
      "  verification. Please open an issue if you find above cases.\n",
      "\n",
      "\n",
      "XGBRegressor(base_score=0.5, booster='gbtree', colsample_bylevel=1,\n",
      "             colsample_bynode=1, colsample_bytree=1, gamma=0, gpu_id=-1,\n",
      "             importance_type='gain', interaction_constraints='',\n",
      "             learning_rate=0.1, max_delta_step=0, max_depth=11,\n",
      "             min_child_weight=1, missing=nan, monotone_constraints='()',\n",
      "             n_estimators=350, n_jobs=8, num_parallel_tree=1, random_state=1,\n",
      "             reg_alpha=0, reg_lambda=1, scale_pos_weight=1, subsample=1,\n",
      "             subsamples=0.8, tree_method='exact', validate_parameters=1,\n",
      "             verbosity=None)\n",
      "Training Errors\n",
      "Mean Squared Error:  4.646621592133018e-05\n",
      "RMSE:  0.006816613229553968\n",
      "Mean Absolute Error:  0.00427807044513703\n",
      "R-squared:  0.9953236051872842\n",
      "Adjusted R2:  0.9953219257116944\n",
      "Test Errors\n",
      "Mean Squared Error:  0.0005684132285024298\n",
      "RMSE:  0.02384141834082926\n",
      "Mean Absolute Error:  0.0120798331727986\n",
      "R-squared:  0.948055015639545\n",
      "Adjusted R2:  0.9480188178324516\n",
      "Training sMAPE\n",
      "3.8141320818204085\n",
      "Testing sMAPE\n",
      "7.534279284793196\n",
      "Training MAPE\n",
      "3.8008879417869483\n",
      "Testing MAPE\n",
      "7.756705050321007\n"
     ]
    }
   ],
   "source": [
    "from sklearn.ensemble import RandomForestRegressor\n",
    "from sklearn import preprocessing\n",
    "from sklearn.metrics import mean_squared_log_error\n",
    "import xgboost\n",
    "from xgboost import XGBRegressor\n",
    "from sklearn.model_selection import RandomizedSearchCV\n",
    "\n",
    "params = {'n_estimators': [300,350]}\n",
    "optimized_rf = RandomizedSearchCV(XGBRegressor(subsamples = 0.8, \n",
    "                                               random_state=1, \n",
    "                                               max_depth = 11, \n",
    "                                               learning_rate = 0.1), \n",
    "                              params, \n",
    "                              scoring = 'r2', \n",
    "                              verbose=1, \n",
    "                              cv=model_selection.KFold(5),\n",
    "                              n_jobs = -1)\n",
    "\n",
    "# Fitting on Training Data\n",
    "optimized_rf.fit(OHE_train, y_train)\n",
    "\n",
    "\n",
    "# Best model estimators\n",
    "print(optimized_rf.best_estimator_)\n",
    "\n",
    "def adjusted_r2(r2, n, p):\n",
    "  result = 1-((1-r2)*((n-1)/(n-p-1)))\n",
    "  return result\n",
    "\n",
    "\n",
    "# Evaluate metrics on holdout\n",
    "from sklearn.metrics import mean_squared_error, mean_absolute_error, r2_score\n",
    "y_train_pred = optimized_rf.predict(OHE_train)\n",
    "y_pred = optimized_rf.predict(OHE_test)\n",
    "n1 = len(y_train_pred)\n",
    "p1 = OHE_train.shape[1]\n",
    "n2 = len(y_pred)\n",
    "p2 = OHE_test.shape[1]\n",
    "print('Training Errors')\n",
    "print(\"Mean Squared Error: \", mean_squared_error(y_train, y_train_pred))\n",
    "print(\"RMSE: \", mean_squared_error(y_train, y_train_pred, squared = False))\n",
    "print(\"Mean Absolute Error: \", mean_absolute_error(y_train, y_train_pred))\n",
    "print(\"R-squared: \", r2_score(y_train, y_train_pred))\n",
    "print(\"Adjusted R2: \", adjusted_r2(r2_score(y_train, y_train_pred), n1, p1))\n",
    "\n",
    "print('Test Errors')\n",
    "print(\"Mean Squared Error: \", mean_squared_error(y_test, y_pred))\n",
    "print(\"RMSE: \", mean_squared_error(y_test, y_pred, squared = False))\n",
    "print(\"Mean Absolute Error: \", mean_absolute_error(y_test, y_pred))\n",
    "print(\"R-squared: \", r2_score(y_test, y_pred))\n",
    "print(\"Adjusted R2: \", adjusted_r2(r2_score(y_test, y_pred), n2, p2))\n",
    "\n",
    "\n",
    "def smape(y_true, y_pred):\n",
    "    return 1/len(y_true) * np.sum(2 * np.abs(y_pred.squeeze()-y_true.squeeze()) / (np.abs(y_true.squeeze()) + np.abs(y_pred.squeeze()))*100)\n",
    "\n",
    "\n",
    "print('Training sMAPE')\n",
    "print(smape(y_train_pred, y_train))\n",
    "print('Testing sMAPE')\n",
    "print(smape(y_pred, y_test))\n",
    "\n",
    "def percentage_error(actual, predicted):\n",
    "    res = np.empty(actual.shape)\n",
    "    for j in range(actual.shape[0]):\n",
    "        if actual[j] != 0:\n",
    "            res[j] = (actual[j] - predicted[j]) / actual[j]\n",
    "        else:\n",
    "            res[j] = predicted[j] / np.mean(actual)\n",
    "    return res\n",
    "\n",
    "def mape(y_true, y_pred): \n",
    "    return np.mean(np.abs(percentage_error(np.asarray(y_true), np.asarray(y_pred)))) * 100\n",
    "\n",
    "print('Training MAPE')\n",
    "print(mape(y_train_pred, y_train))\n",
    "print('Testing MAPE')\n",
    "print(mape(y_pred, y_test))"
   ]
  },
  {
   "cell_type": "code",
   "execution_count": 31,
   "metadata": {},
   "outputs": [
    {
     "name": "stdout",
     "output_type": "stream",
     "text": [
      "['district', 'street', 'propertyType', 'remaining_lease', 'school', 'hawkercentre', 'supermarkets', 'Bus Stops Nearby', 'crime_number', 'floor_range', 'sentiment', 'floor_area_sqft']\n",
      "12\n"
     ]
    }
   ],
   "source": [
    "test = X_train.drop(features_to_drop, axis=1)\n",
    "new_col = test.columns.tolist()\n",
    "print(new_col)\n",
    "print(len(new_col))"
   ]
  },
  {
   "cell_type": "markdown",
   "metadata": {},
   "source": [
    "## Model Interpretability - SHAP"
   ]
  },
  {
   "cell_type": "code",
   "execution_count": 32,
   "metadata": {},
   "outputs": [
    {
     "data": {
      "text/plain": [
       "32"
      ]
     },
     "execution_count": 32,
     "metadata": {},
     "output_type": "execute_result"
    }
   ],
   "source": [
    "cols = new_col\n",
    "cols += [str(i) for i in range(0, 20)]\n",
    "len(cols)"
   ]
  },
  {
   "cell_type": "code",
   "execution_count": 33,
   "metadata": {},
   "outputs": [],
   "source": [
    "df_train = pd.DataFrame(OHE_train, columns = cols)\n",
    "df_test = pd.DataFrame(OHE_test, columns = cols)\n"
   ]
  },
  {
   "cell_type": "code",
   "execution_count": 36,
   "metadata": {},
   "outputs": [],
   "source": [
    "model = XGBRegressor(base_score=0.5, booster='gbtree', colsample_bylevel=1,\n",
    "             colsample_bynode=1, colsample_bytree=1, gamma=0, gpu_id=-1,\n",
    "             importance_type='gain', interaction_constraints='',\n",
    "             learning_rate=0.1, max_delta_step=0, max_depth=11,\n",
    "             min_child_weight=1, missing=None, monotone_constraints='()',\n",
    "             n_estimators=350, n_jobs=8, num_parallel_tree=1, random_state=1,\n",
    "             reg_alpha=0, reg_lambda=1, scale_pos_weight=1, subsample=1,\n",
    "             subsamples=0.8, tree_method='exact', validate_parameters=1,\n",
    "             verbosity=None)"
   ]
  },
  {
   "cell_type": "code",
   "execution_count": 37,
   "metadata": {},
   "outputs": [
    {
     "name": "stdout",
     "output_type": "stream",
     "text": [
      "[23:16:35] WARNING: /Users/travis/build/dmlc/xgboost/src/learner.cc:541: \n",
      "Parameters: { subsamples } might not be used.\n",
      "\n",
      "  This may not be accurate due to some parameters are only used in language bindings but\n",
      "  passed down to XGBoost core.  Or some parameters are not used but slip through this\n",
      "  verification. Please open an issue if you find above cases.\n",
      "\n",
      "\n"
     ]
    },
    {
     "data": {
      "text/plain": [
       "XGBRegressor(base_score=0.5, booster='gbtree', colsample_bylevel=1,\n",
       "             colsample_bynode=1, colsample_bytree=1, gamma=0, gpu_id=-1,\n",
       "             importance_type='gain', interaction_constraints='',\n",
       "             learning_rate=0.1, max_delta_step=0, max_depth=11,\n",
       "             min_child_weight=1, missing=None, monotone_constraints='()',\n",
       "             n_estimators=350, n_jobs=8, num_parallel_tree=1, random_state=1,\n",
       "             reg_alpha=0, reg_lambda=1, scale_pos_weight=1, subsample=1,\n",
       "             subsamples=0.8, tree_method='exact', validate_parameters=1,\n",
       "             verbosity=None)"
      ]
     },
     "execution_count": 37,
     "metadata": {},
     "output_type": "execute_result"
    }
   ],
   "source": [
    "model.fit(df_train, y_train)"
   ]
  },
  {
   "cell_type": "code",
   "execution_count": 39,
   "metadata": {},
   "outputs": [
    {
     "data": {
      "image/png": "[encoded data removed]",
      "text/plain": [
       "<Figure size 576x468 with 1 Axes>"
      ]
     },
     "metadata": {},
     "output_type": "display_data"
    }
   ],
   "source": [
    "import shap\n",
    "explainer = shap.Explainer(model)\n",
    "shap_values = explainer(df_test)\n",
    "shap.plots.bar(shap_values)"
   ]
  },
  {
   "cell_type": "code",
   "execution_count": 16,
   "metadata": {},
   "outputs": [
    {
     "data": {
      "image/png": "[encoded data removed]",
      "text/plain": [
       "<Figure size 576x468 with 1 Axes>"
      ]
     },
     "metadata": {},
     "output_type": "display_data"
    }
   ],
   "source": [
    "import shap\n",
    "explainer = shap.Explainer(model)\n",
    "shap_values = explainer(df_test)\n",
    "shap.plots.bar(shap_values)"
   ]
  },
  {
   "cell_type": "markdown",
   "metadata": {},
   "source": [
    "## LightGBM"
   ]
  },
  {
   "cell_type": "code",
   "execution_count": 333,
   "metadata": {},
   "outputs": [
    {
     "name": "stdout",
     "output_type": "stream",
     "text": [
      "Fitting 5 folds for each of 10 candidates, totalling 50 fits\n"
     ]
    },
    {
     "name": "stderr",
     "output_type": "stream",
     "text": [
      "A column-vector y was passed when a 1d array was expected. Please change the shape of y to (n_samples, ), for example using ravel().\n"
     ]
    },
    {
     "name": "stdout",
     "output_type": "stream",
     "text": [
      "[LightGBM] [Warning] Unknown parameter: min_samples_leaf\n",
      "[LightGBM] [Warning] Unknown parameter: eval_metric\n",
      "[LightGBM] [Warning] Accuracy may be bad since you didn't explicitly set num_leaves OR 2^max_depth > num_leaves. (num_leaves=31).\n",
      "Pipeline(steps=[('standardize', StandardScaler()),\n",
      "                ('model',\n",
      "                 LGBMRegressor(colsample_bytree=0.3, eval_metric='rmse',\n",
      "                               max_depth=7, min_samples_leaf=10,\n",
      "                               n_estimators=300, subsample=0.8))])\n",
      "Training Errors\n",
      "Mean Squared Error:  0.00035410918013020434\n",
      "RMSE:  0.018817788927772687\n",
      "Mean Absolute Error:  0.010195102517518345\n",
      "R-squared:  0.9643621865852059\n",
      "Adjusted R2:  0.964349387657805\n",
      "Test Errors\n",
      "Mean Squared Error:  0.0008470740456911753\n",
      "RMSE:  0.02910453651393843\n",
      "Mean Absolute Error:  0.017671818145830298\n",
      "R-squared:  0.9225893314068299\n",
      "Adjusted R2:  0.9225353878647689\n",
      "Training sMAPE\n",
      "7.583096677658371\n",
      "Testing sMAPE\n",
      "12.087947603785842\n",
      "Training MAPE\n",
      "7.583533707289579\n",
      "Testing MAPE\n",
      "11.61603417046313\n"
     ]
    }
   ],
   "source": [
    "from sklearn.ensemble import RandomForestRegressor\n",
    "from sklearn import preprocessing\n",
    "from sklearn.metrics import mean_squared_log_error\n",
    "import xgboost\n",
    "from xgboost import XGBRegressor\n",
    "from lightgbm import LGBMRegressor\n",
    "from sklearn.model_selection import RandomizedSearchCV\n",
    "\n",
    "\n",
    "# Initialise LGBMRegressor\n",
    "rf = LGBMRegressor(n_estimators=300, subsample=0.9, colsample_bytree=0.2, eval_metric = 'rmse')\n",
    "\n",
    "\n",
    "# # Set up 5-fold cross-validation\n",
    "from sklearn import model_selection\n",
    "cv = model_selection.KFold(5)\n",
    "\n",
    "\n",
    "# Pipeline Standardization and Model\n",
    "from sklearn.pipeline import Pipeline\n",
    "pipeline = Pipeline(steps=[('standardize', preprocessing.StandardScaler())\n",
    "                           , ('model', rf) ])\n",
    "# Tuning the model\n",
    "my_min_samples_leaf = [2, 10, 25, 50, 100]\n",
    "my_max_depth = [7, 8, 9, 10, 11, 12]\n",
    "my_subsample = [0.7, 0.8, 0.9]\n",
    "my_colsample_bytree = [0.1, 0.2, 0.3]\n",
    "\n",
    "# Run the model using GridSearch, select the model with best search\n",
    "from sklearn.model_selection import GridSearchCV\n",
    "optimized_rf = RandomizedSearchCV(estimator=pipeline\n",
    "                            , cv=cv\n",
    "                            , param_distributions =dict(model__min_samples_leaf = my_min_samples_leaf, \n",
    "                                               model__max_depth = my_max_depth,\n",
    "                                               model__subsample = my_subsample,\n",
    "                                               model__colsample_bytree = my_colsample_bytree)\n",
    "                            , scoring = 'neg_mean_squared_error'\n",
    "                            , verbose = 1\n",
    "                            , n_jobs = -1\n",
    "                           )\n",
    "\n",
    "# Fitting on Training Data\n",
    "optimized_rf.fit(OHE_train, y_train)\n",
    "\n",
    "\n",
    "# Best model estimators\n",
    "print(optimized_rf.best_estimator_)\n",
    "\n",
    "def adjusted_r2(r2, n, p):\n",
    "  result = 1-((1-r2)*((n-1)/(n-p-1)))\n",
    "  return result\n",
    "\n",
    "\n",
    "# Evaluate metrics on holdout\n",
    "from sklearn.metrics import mean_squared_error, mean_absolute_error, r2_score\n",
    "y_train_pred = optimized_rf.predict(OHE_train)\n",
    "y_pred = optimized_rf.predict(OHE_test)\n",
    "n1 = len(y_train_pred)\n",
    "p1 = OHE_train.shape[1]\n",
    "n2 = len(y_pred)\n",
    "p2 = OHE_test.shape[1]\n",
    "print('Training Errors')\n",
    "print(\"Mean Squared Error: \", mean_squared_error(y_train, y_train_pred))\n",
    "print(\"RMSE: \", mean_squared_error(y_train, y_train_pred, squared = False))\n",
    "print(\"Mean Absolute Error: \", mean_absolute_error(y_train, y_train_pred))\n",
    "print(\"R-squared: \", r2_score(y_train, y_train_pred))\n",
    "print(\"Adjusted R2: \", adjusted_r2(r2_score(y_train, y_train_pred), n1, p1))\n",
    "\n",
    "print('Test Errors')\n",
    "print(\"Mean Squared Error: \", mean_squared_error(y_test, y_pred))\n",
    "print(\"RMSE: \", mean_squared_error(y_test, y_pred, squared = False))\n",
    "print(\"Mean Absolute Error: \", mean_absolute_error(y_test, y_pred))\n",
    "print(\"R-squared: \", r2_score(y_test, y_pred))\n",
    "print(\"Adjusted R2: \", adjusted_r2(r2_score(y_test, y_pred), n2, p2))\n",
    "\n",
    "\n",
    "def smape(y_true, y_pred):\n",
    "    return 1/len(y_true) * np.sum(2 * np.abs(y_pred.squeeze()-y_true.squeeze()) / (np.abs(y_true.squeeze()) + np.abs(y_pred.squeeze()))*100)\n",
    "\n",
    "\n",
    "print('Training sMAPE')\n",
    "print(smape(y_train_pred, y_train))\n",
    "print('Testing sMAPE')\n",
    "print(smape(y_pred, y_test))\n",
    "\n",
    "def percentage_error(actual, predicted):\n",
    "    res = np.empty(actual.shape)\n",
    "    for j in range(actual.shape[0]):\n",
    "        if actual[j] != 0:\n",
    "            res[j] = (actual[j] - predicted[j]) / actual[j]\n",
    "        else:\n",
    "            res[j] = predicted[j] / np.mean(actual)\n",
    "    return res\n",
    "\n",
    "def mape(y_true, y_pred): \n",
    "    return np.mean(np.abs(percentage_error(np.asarray(y_true), np.asarray(y_pred)))) * 100\n",
    "\n",
    "print('Training MAPE')\n",
    "print(mape(y_train_pred, y_train))\n",
    "print('Testing MAPE')\n",
    "print(mape(y_pred, y_test))"
   ]
  },
  {
   "cell_type": "markdown",
   "metadata": {},
   "source": [
    "> Residual Plot (for Test Data)"
   ]
  },
  {
   "cell_type": "code",
   "execution_count": 337,
   "metadata": {},
   "outputs": [
    {
     "data": {
      "text/plain": [
       "<matplotlib.axes._subplots.AxesSubplot at 0x7fdfec1cff50>"
      ]
     },
     "execution_count": 337,
     "metadata": {},
     "output_type": "execute_result"
    },
    {
     "data": {
      "image/png": "[encoded data removed]",
      "text/plain": [
       "<Figure size 432x288 with 1 Axes>"
      ]
     },
     "metadata": {
      "needs_background": "light"
     },
     "output_type": "display_data"
    }
   ],
   "source": [
    "sns.residplot(y_pred.reshape(-1), y_test, color=\"g\")"
   ]
  },
  {
   "cell_type": "markdown",
   "metadata": {},
   "source": [
    "> Residual Plot (for Training Data)"
   ]
  },
  {
   "cell_type": "code",
   "execution_count": 338,
   "metadata": {},
   "outputs": [
    {
     "data": {
      "text/plain": [
       "<matplotlib.axes._subplots.AxesSubplot at 0x7fdfecf22ad0>"
      ]
     },
     "execution_count": 338,
     "metadata": {},
     "output_type": "execute_result"
    },
    {
     "data": {
      "image/png": "[encoded data removed]",
      "text/plain": [
       "<Figure size 432x288 with 1 Axes>"
      ]
     },
     "metadata": {
      "needs_background": "light"
     },
     "output_type": "display_data"
    }
   ],
   "source": [
    "sns.residplot(y_train_pred.reshape(-1), y_train, color=\"g\")"
   ]
  },
  {
   "cell_type": "code",
   "execution_count": null,
   "metadata": {},
   "outputs": [],
   "source": []
  }
 ],
 "metadata": {
  "kernelspec": {
   "display_name": "Python 3",
   "language": "python",
   "name": "python3"
  },
  "language_info": {
   "codemirror_mode": {
    "name": "ipython",
    "version": 3
   },
   "file_extension": ".py",
   "mimetype": "text/x-python",
   "name": "python",
   "nbconvert_exporter": "python",
   "pygments_lexer": "ipython3",
   "version": "3.7.6"
  }
 },
 "nbformat": 4,
 "nbformat_minor": 4
}
