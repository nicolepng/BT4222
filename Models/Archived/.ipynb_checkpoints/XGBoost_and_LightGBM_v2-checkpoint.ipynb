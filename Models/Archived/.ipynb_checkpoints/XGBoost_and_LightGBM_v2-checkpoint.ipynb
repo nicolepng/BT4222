{
 "cells": [
  {
   "cell_type": "markdown",
   "metadata": {
    "id": "YJeAV1Z4JBIn"
   },
   "source": [
    "## Importing Required Libraries"
   ]
  },
  {
   "cell_type": "code",
   "execution_count": 1,
   "metadata": {
    "id": "QHT0A3TTJFXf"
   },
   "outputs": [],
   "source": [
    "import pandas as pd\n",
    "import numpy as np\n",
    "from scipy import linalg, optimize\n",
    "import re\n",
    "import random\n",
    "import math\n",
    "import string\n",
    "from nltk.corpus import wordnet as wn\n",
    "from datetime import datetime\n",
    "import matplotlib.pyplot as plt\n",
    "from sklearn.svm import SVC\n",
    "from sklearn import preprocessing, decomposition, model_selection, metrics, pipeline\n",
    "from sklearn.model_selection import GridSearchCV\n",
    "from sklearn.feature_extraction.text import TfidfVectorizer, CountVectorizer\n",
    "from sklearn.decomposition import TruncatedSVD\n",
    "from sklearn.linear_model import LogisticRegression\n",
    "from sklearn.linear_model import LinearRegression\n",
    "from sklearn.linear_model import SGDRegressor\n",
    "from sklearn.model_selection import train_test_split\n",
    "from sklearn.neighbors import KNeighborsClassifier\n",
    "from sklearn.naive_bayes import MultinomialNB\n",
    "from sklearn.metrics import confusion_matrix, accuracy_score\n",
    "from sklearn.metrics import make_scorer\n",
    "from sklearn.model_selection import cross_val_score\n",
    "from sklearn.preprocessing import StandardScaler\n",
    "from sklearn.dummy import DummyClassifier\n",
    "from sklearn.preprocessing import OneHotEncoder\n",
    "from sklearn import preprocessing\n",
    "from sklearn import metrics\n",
    "from sklearn.preprocessing import LabelEncoder\n",
    "from nltk import word_tokenize\n",
    "from scipy import optimize\n",
    "from nltk.tokenize import word_tokenize\n",
    "from nltk.corpus import stopwords\n",
    "from scipy.sparse import coo_matrix, hstack, vstack\n",
    "import seaborn as sns\n",
    "from textblob import TextBlob\n",
    "# Graphing: \n",
    "%matplotlib inline\n"
   ]
  },
  {
   "cell_type": "code",
   "execution_count": 2,
   "metadata": {
    "colab": {
     "base_uri": "https://localhost:8080/"
    },
    "id": "C-oUbBciJbfi",
    "outputId": "77aa5a95-01c7-4101-b494-56e04991d61e"
   },
   "outputs": [
    {
     "name": "stdout",
     "output_type": "stream",
     "text": [
      "Drive already mounted at /content/drive; to attempt to forcibly remount, call drive.mount(\"/content/drive\", force_remount=True).\n",
      "'/content/drive/My Drive/BT4222 Data/training_set.csv'\n"
     ]
    }
   ],
   "source": [
    "from google.colab import drive\n",
    "drive.mount('/content/drive')\n",
    "\n",
    "!ls \"/content/drive/My Drive/BT4222 Data/training_set.csv\"\n",
    "path = '/content/drive/My Drive/BT4222 Data/training_set.csv'\n",
    "training_set = pd.read_csv(path)"
   ]
  },
  {
   "cell_type": "code",
   "execution_count": 3,
   "metadata": {
    "colab": {
     "base_uri": "https://localhost:8080/"
    },
    "id": "7nXnuCMPLKqO",
    "outputId": "3d5496bb-2928-4d73-9abe-1affba031cdb"
   },
   "outputs": [
    {
     "name": "stdout",
     "output_type": "stream",
     "text": [
      "'/content/drive/My Drive/BT4222 Data/training_labels.csv'\n"
     ]
    }
   ],
   "source": [
    "!ls \"/content/drive/My Drive/BT4222 Data/training_labels.csv\"\n",
    "path = '/content/drive/My Drive/BT4222 Data/training_labels.csv'\n",
    "training_labels = pd.read_csv(path)"
   ]
  },
  {
   "cell_type": "code",
   "execution_count": 4,
   "metadata": {
    "colab": {
     "base_uri": "https://localhost:8080/"
    },
    "id": "aT-QR6Y2LRSP",
    "outputId": "05ebaf3f-db09-41b5-f571-bf4c08837337"
   },
   "outputs": [
    {
     "name": "stdout",
     "output_type": "stream",
     "text": [
      "'/content/drive/My Drive/BT4222 Data/testing_set.csv'\n"
     ]
    }
   ],
   "source": [
    "!ls \"/content/drive/My Drive/BT4222 Data/testing_set.csv\"\n",
    "path = '/content/drive/My Drive/BT4222 Data/testing_set.csv'\n",
    "testing_set = pd.read_csv(path)"
   ]
  },
  {
   "cell_type": "code",
   "execution_count": 5,
   "metadata": {
    "colab": {
     "base_uri": "https://localhost:8080/"
    },
    "id": "Rp8NNoYiLZ-Y",
    "outputId": "6ff4d472-e3ac-4c1b-8c71-d9babb76cc67"
   },
   "outputs": [
    {
     "name": "stdout",
     "output_type": "stream",
     "text": [
      "'/content/drive/My Drive/BT4222 Data/testing_labels.csv'\n"
     ]
    }
   ],
   "source": [
    "!ls \"/content/drive/My Drive/BT4222 Data/testing_labels.csv\"\n",
    "path = '/content/drive/My Drive/BT4222 Data/testing_labels.csv'\n",
    "testing_labels = pd.read_csv(path)"
   ]
  },
  {
   "cell_type": "code",
   "execution_count": 6,
   "metadata": {
    "colab": {
     "base_uri": "https://localhost:8080/"
    },
    "id": "upgWfrPVe6Rg",
    "outputId": "c40e7bd3-8020-4a0d-a7d7-d42b0b09ce1c"
   },
   "outputs": [
    {
     "name": "stdout",
     "output_type": "stream",
     "text": [
      "'/content/drive/My Drive/BT4222 Data/combined.csv'\n"
     ]
    }
   ],
   "source": [
    "!ls \"/content/drive/My Drive/BT4222 Data/combined.csv\"\n",
    "path = '/content/drive/My Drive/BT4222 Data/combined.csv'\n",
    "combined = pd.read_csv(path)"
   ]
  },
  {
   "cell_type": "markdown",
   "metadata": {
    "id": "0ZPhoGzUNXXT"
   },
   "source": [
    "## LightGBM"
   ]
  },
  {
   "cell_type": "markdown",
   "metadata": {
    "id": "9SUv4Ph89C1I"
   },
   "source": [
    "> With GridSearch"
   ]
  },
  {
   "cell_type": "markdown",
   "metadata": {
    "id": "PPH6WOy495go"
   },
   "source": [
    "* Training Errors\n",
    "> Mean Squared Error:  0.0528861572884974\n",
    "> RMSE:  0.2299699051799983\n",
    "> Mean Absolute Error:  0.05809060511160152\n",
    "> R-squared:  0.9471133995747384\n",
    "> Adjusted R2:  0.9471071948801832\n",
    "> SMAPE: 19.5\n",
    "> MAPE: 142.25566318662908\n",
    "* Test Errors\n",
    "> Mean Squared Error:  0.058287723512017615\n",
    "> RMSE:  0.24142850600543758\n",
    "> Mean Absolute Error:  0.06314786646843526\n",
    "> R-squared:  0.9351402682804248\n",
    "> Adjusted R2:  0.9350717165482737\n",
    "> SMAPE: 20.169950992272053\n",
    "> MAPE: 49.483666815515114"
   ]
  },
  {
   "cell_type": "markdown",
   "metadata": {
    "id": "1Vzojqoj94Qs"
   },
   "source": []
  },
  {
   "cell_type": "code",
   "execution_count": 21,
   "metadata": {
    "colab": {
     "base_uri": "https://localhost:8080/"
    },
    "id": "3ek8kVTJQp_i",
    "outputId": "83976e78-5631-469c-af00-dd04524346cb"
   },
   "outputs": [
    {
     "name": "stdout",
     "output_type": "stream",
     "text": [
      "Training Errors\n",
      "Mean Squared Error:  0.0528861572884974\n",
      "RMSE:  0.2299699051799983\n",
      "Mean Absolute Error:  0.05809060511160152\n",
      "R-squared:  0.9471133995747384\n",
      "Adjusted R2:  0.9471071948801832\n",
      "Test Errors\n",
      "Mean Squared Error:  0.058287723512017615\n",
      "RMSE:  0.24142850600543758\n",
      "Mean Absolute Error:  0.06314786646843526\n",
      "R-squared:  0.9351402682804248\n",
      "Adjusted R2:  0.9350717165482737\n"
     ]
    }
   ],
   "source": [
    "from sklearn.ensemble import RandomForestRegressor\n",
    "from sklearn import preprocessing\n",
    "from lightgbm import LGBMRegressor\n",
    "from sklearn.metrics import mean_squared_log_error\n",
    "\n",
    "# Initialise LGBMRegressor\n",
    "# rf = LGBMRegressor(n_estimators=300, subsample=0.9, colsample_bytree=0.2, eval_metric = 'rmse')\n",
    "optimized_rf = LGBMRegressor(boosting_type='gbdt', class_weight=None,\n",
    "                               colsample_bytree=0.3, eval_metric='rmse',\n",
    "                               importance_type='split', learning_rate=0.1,\n",
    "                               max_depth=9, min_child_samples=20,\n",
    "                               min_child_weight=0.001, min_samples_leaf=2,\n",
    "                               min_split_gain=0.0, n_estimators=300, n_jobs=-1,\n",
    "                               num_leaves=31, objective=None, random_state=None,\n",
    "                               reg_alpha=0.0, reg_lambda=0.0, silent=True,\n",
    "                               subsample=0.7, subsample_for_bin=200000,\n",
    "                               subsample_freq=0)\n",
    "\n",
    "\n",
    "# # Set up 5-fold cross-validation\n",
    "# from sklearn import model_selection\n",
    "# cv = model_selection.KFold(5)\n",
    "\n",
    "\n",
    "# # Pipeline Standardization and Model\n",
    "# from sklearn.pipeline import Pipeline\n",
    "# pipeline = Pipeline(steps=[('standardize', preprocessing.StandardScaler())\n",
    "#                            , ('model', rf) ])\n",
    "# # Tuning the model\n",
    "# my_min_samples_leaf = [2, 10, 25, 50, 100]\n",
    "# my_max_depth = [7, 8, 9, 10, 11, 12]\n",
    "# my_subsample = [0.7, 0.8, 0.9]\n",
    "# my_colsample_bytree = [0.1, 0.2, 0.3]\n",
    "\n",
    "# # Run the model using GridSearch, select the model with best search\n",
    "# from sklearn.model_selection import GridSearchCV\n",
    "# optimized_rf = GridSearchCV(estimator=pipeline\n",
    "#                             , cv=cv\n",
    "#                             , param_grid =dict(model__min_samples_leaf = my_min_samples_leaf, \n",
    "#                                                model__max_depth = my_max_depth,\n",
    "#                                                model__subsample = my_subsample,\n",
    "#                                                model__colsample_bytree = my_colsample_bytree)\n",
    "#                             , scoring = 'neg_mean_squared_error'\n",
    "#                             , verbose = 1\n",
    "#                             , n_jobs = -1\n",
    "#                            )\n",
    "\n",
    "# Fitting on Training Data\n",
    "optimized_rf.fit(training_set, training_labels)\n",
    "\n",
    "\n",
    "# Best model estimators\n",
    "# print(optimized_rf.best_estimator_)\n",
    "\n",
    "def adjusted_r2(r2, n, p):\n",
    "  result = 1-((1-r2)*((n-1)/(n-p-1)))\n",
    "  return result\n",
    "\n",
    "\n",
    "# Evaluate metrics on holdout\n",
    "from sklearn.metrics import mean_squared_error, mean_absolute_error, r2_score\n",
    "y_train_pred = optimized_rf.predict(training_set)\n",
    "y_pred = optimized_rf.predict(testing_set)\n",
    "n1 = len(y_train_pred)\n",
    "p1 = training_set.shape[1]\n",
    "n2 = len(y_pred)\n",
    "p2 = testing_set.shape[1]\n",
    "print('Training Errors')\n",
    "print(\"Mean Squared Error: \", mean_squared_error(training_labels, y_train_pred))\n",
    "print(\"RMSE: \", mean_squared_error(training_labels, y_train_pred, squared = False))\n",
    "print(\"Mean Absolute Error: \", mean_absolute_error(training_labels, y_train_pred))\n",
    "print(\"R-squared: \", r2_score(training_labels, y_train_pred))\n",
    "print(\"Adjusted R2: \", adjusted_r2(r2_score(training_labels, y_train_pred), n1, p1))\n",
    "\n",
    "print('Test Errors')\n",
    "print(\"Mean Squared Error: \", mean_squared_error(testing_labels, y_pred))\n",
    "print(\"RMSE: \", mean_squared_error(testing_labels, y_pred, squared = False))\n",
    "print(\"Mean Absolute Error: \", mean_absolute_error(testing_labels, y_pred))\n",
    "print(\"R-squared: \", r2_score(testing_labels, y_pred))\n",
    "print(\"Adjusted R2: \", adjusted_r2(r2_score(testing_labels, y_pred), n2, p2))\n",
    "\n",
    "# ValueError: Mean Squared Logarithmic Error cannot be used when targets contain negative values."
   ]
  },
  {
   "cell_type": "markdown",
   "metadata": {
    "id": "0uUtOy-BvpWd"
   },
   "source": [
    "## Residual Plot"
   ]
  },
  {
   "cell_type": "markdown",
   "metadata": {
    "id": "WMMRMhcWRV7p"
   },
   "source": [
    "> Training"
   ]
  },
  {
   "cell_type": "code",
   "execution_count": 8,
   "metadata": {
    "colab": {
     "base_uri": "https://localhost:8080/",
     "height": 370
    },
    "id": "KXrpqQiNvofN",
    "outputId": "b82c592c-2d31-4a7a-fc3e-eb35f9bc6e47"
   },
   "outputs": [
    {
     "name": "stderr",
     "output_type": "stream",
     "text": [
      "/usr/local/lib/python3.7/dist-packages/seaborn/_decorators.py:43: FutureWarning: Pass the following variables as keyword args: x, y. From version 0.12, the only valid positional argument will be `data`, and passing other arguments without an explicit keyword will result in an error or misinterpretation.\n",
      "  FutureWarning\n",
      "/usr/local/lib/python3.7/dist-packages/statsmodels/tools/_testing.py:19: FutureWarning: pandas.util.testing is deprecated. Use the functions in the public API at pandas.testing instead.\n",
      "  import pandas.util.testing as tm\n"
     ]
    },
    {
     "data": {
      "text/plain": [
       "<matplotlib.axes._subplots.AxesSubplot at 0x7fe22e7097d0>"
      ]
     },
     "execution_count": 8,
     "metadata": {
      "tags": []
     },
     "output_type": "execute_result"
    },
    {
     "data": {
      "image/png": "[encoded data removed]",
      "text/plain": [
       "<Figure size 432x288 with 1 Axes>"
      ]
     },
     "metadata": {
      "needs_background": "light",
      "tags": []
     },
     "output_type": "display_data"
    }
   ],
   "source": [
    "sns.residplot(y_train_pred.reshape(-1), training_labels, lowess= True, color=\"g\")\n"
   ]
  },
  {
   "cell_type": "markdown",
   "metadata": {
    "id": "jl07HndrRXVO"
   },
   "source": [
    "> Testing"
   ]
  },
  {
   "cell_type": "code",
   "execution_count": 9,
   "metadata": {
    "colab": {
     "base_uri": "https://localhost:8080/",
     "height": 336
    },
    "id": "-zAsPHPCMiCr",
    "outputId": "b98388eb-70d7-41b7-d0fd-fc16b6847fd5"
   },
   "outputs": [
    {
     "name": "stderr",
     "output_type": "stream",
     "text": [
      "/usr/local/lib/python3.7/dist-packages/seaborn/_decorators.py:43: FutureWarning: Pass the following variables as keyword args: x, y. From version 0.12, the only valid positional argument will be `data`, and passing other arguments without an explicit keyword will result in an error or misinterpretation.\n",
      "  FutureWarning\n"
     ]
    },
    {
     "data": {
      "text/plain": [
       "<matplotlib.axes._subplots.AxesSubplot at 0x7fe22e763a50>"
      ]
     },
     "execution_count": 9,
     "metadata": {
      "tags": []
     },
     "output_type": "execute_result"
    },
    {
     "data": {
      "image/png": "[encoded data removed]",
      "text/plain": [
       "<Figure size 432x288 with 1 Axes>"
      ]
     },
     "metadata": {
      "needs_background": "light",
      "tags": []
     },
     "output_type": "display_data"
    }
   ],
   "source": [
    "sns.residplot(y_pred.reshape(-1), testing_labels, lowess= True, color=\"g\")"
   ]
  },
  {
   "cell_type": "code",
   "execution_count": 11,
   "metadata": {
    "id": "6Uokal93Nx27"
   },
   "outputs": [],
   "source": [
    "y_train_pred_arr = np.array(y_train_pred)\n",
    "training_labels_arr = np.array(training_labels)\n",
    "y_test_pred_arr = np.array(y_pred)\n",
    "testing_labels_arr = np.array(testing_labels)"
   ]
  },
  {
   "cell_type": "markdown",
   "metadata": {
    "id": "07dUC25ZU8WC"
   },
   "source": [
    "> SMAPE"
   ]
  },
  {
   "cell_type": "code",
   "execution_count": 10,
   "metadata": {
    "id": "oPMRudVSOX5m"
   },
   "outputs": [],
   "source": [
    "def smape(y_true, y_pred):\n",
    "    return 1/len(y_true) * np.sum(2 * np.abs(y_pred.squeeze()-y_true.squeeze()) / (np.abs(y_true.squeeze()) + np.abs(y_pred.squeeze()))*100)"
   ]
  },
  {
   "cell_type": "code",
   "execution_count": 12,
   "metadata": {
    "colab": {
     "base_uri": "https://localhost:8080/"
    },
    "id": "qSfRndEQOZ5L",
    "outputId": "970058ab-b620-49f3-c7bd-389658f439fe"
   },
   "outputs": [
    {
     "data": {
      "text/plain": [
       "19.50050230145552"
      ]
     },
     "execution_count": 12,
     "metadata": {
      "tags": []
     },
     "output_type": "execute_result"
    }
   ],
   "source": [
    "smape(y_train_pred, training_labels)"
   ]
  },
  {
   "cell_type": "code",
   "execution_count": 14,
   "metadata": {
    "colab": {
     "base_uri": "https://localhost:8080/"
    },
    "id": "9758O4DfRjj_",
    "outputId": "c92f1aa0-2a93-45f3-a9a9-82c291442732"
   },
   "outputs": [
    {
     "data": {
      "text/plain": [
       "20.169950992272053"
      ]
     },
     "execution_count": 14,
     "metadata": {
      "tags": []
     },
     "output_type": "execute_result"
    }
   ],
   "source": [
    "smape(y_pred, testing_labels)"
   ]
  },
  {
   "cell_type": "markdown",
   "metadata": {
    "id": "J7f083GaU9yd"
   },
   "source": [
    "> MAPE"
   ]
  },
  {
   "cell_type": "code",
   "execution_count": 22,
   "metadata": {
    "colab": {
     "base_uri": "https://localhost:8080/"
    },
    "id": "xNYcrIuVU-4u",
    "outputId": "c1955654-a1af-4a44-8583-88e97721185a"
   },
   "outputs": [
    {
     "name": "stdout",
     "output_type": "stream",
     "text": [
      "142.25566318662908\n",
      "49.483666815515114\n"
     ]
    }
   ],
   "source": [
    "print(mape(y_train_pred, training_labels))\n",
    "print(mape(y_pred, testing_labels))"
   ]
  },
  {
   "cell_type": "markdown",
   "metadata": {
    "id": "1C6_JSG1PZcx"
   },
   "source": [
    "## XGBoost"
   ]
  },
  {
   "cell_type": "markdown",
   "metadata": {
    "id": "EUIu2tC-9GWz"
   },
   "source": [
    "> With Grid Search"
   ]
  },
  {
   "cell_type": "markdown",
   "metadata": {
    "id": "pN881fId97-2"
   },
   "source": [
    "* Training Errors\n",
    "> Mean Squared Error:  0.006577338708038475\n",
    "> RMSE:  0.08110079351053524\n",
    "> Mean Absolute Error:  0.034764883555239344\n",
    "> R-squared:  0.9934226061799862\n",
    "> Adjusted R2:  0.9934218345153435\n",
    "> SMAPE: 14.192455206503448\n",
    "> MAPE: 33.51153826251737\n",
    "\n",
    "\n",
    "* Test Errors\n",
    "> Mean Squared Error:  0.04780776840983414\n",
    "> RMSE:  0.21864987630875563\n",
    "> Mean Absolute Error:  0.04773988421430823\n",
    "> R-squared:  0.9468018504353819\n",
    "> Adjusted R2:  0.9467456240958149\n",
    "> SMAPE: 15.544635848214131\n",
    "> MAPE: 229.58200682386845"
   ]
  },
  {
   "cell_type": "code",
   "execution_count": null,
   "metadata": {
    "colab": {
     "base_uri": "https://localhost:8080/"
    },
    "id": "SLpXwGafO5Rv",
    "outputId": "131b898b-005e-4023-b6d5-1cb9b210471f"
   },
   "outputs": [
    {
     "name": "stdout",
     "output_type": "stream",
     "text": [
      "Fitting 5 folds for each of 30 candidates, totalling 150 fits\n"
     ]
    },
    {
     "name": "stderr",
     "output_type": "stream",
     "text": [
      "[Parallel(n_jobs=-1)]: Using backend LokyBackend with 2 concurrent workers.\n",
      "[Parallel(n_jobs=-1)]: Done  46 tasks      | elapsed: 10.1min\n",
      "[Parallel(n_jobs=-1)]: Done 150 out of 150 | elapsed: 40.6min finished\n"
     ]
    },
    {
     "name": "stdout",
     "output_type": "stream",
     "text": [
      "[16:03:35] WARNING: /workspace/src/objective/regression_obj.cu:152: reg:linear is now deprecated in favor of reg:squarederror.\n",
      "Pipeline(memory=None,\n",
      "         steps=[('standardize',\n",
      "                 StandardScaler(copy=True, with_mean=True, with_std=True)),\n",
      "                ('model',\n",
      "                 XGBRegressor(base_score=0.5, booster='gbtree',\n",
      "                              colsample_bylevel=1, colsample_bynode=0.2,\n",
      "                              colsample_bytree=1, eval_metric='rmse', gamma=0,\n",
      "                              importance_type='gain', learning_rate=0.1,\n",
      "                              max_delta_step=0, max_depth=9, min_child_weight=1,\n",
      "                              min_samples_leaf=2, missing=None,\n",
      "                              n_estimators=300, n_fold=5, n_jobs=1,\n",
      "                              nthread=None, objective='reg:linear',\n",
      "                              random_state=0, reg_alpha=0, reg_lambda=1,\n",
      "                              scale_pos_weight=1, seed=None, silent=None,\n",
      "                              subsample=0.9, verbosity=1))],\n",
      "         verbose=False)\n",
      "Training Errors\n",
      "Mean Squared Error:  0.006577338708038475\n",
      "RMSE:  0.08110079351053524\n",
      "Mean Absolute Error:  0.034764883555239344\n",
      "R-squared:  0.9934226061799862\n",
      "Adjusted R2:  0.9934218345153435\n",
      "Test Errors\n",
      "Mean Squared Error:  0.04780776840983414\n",
      "RMSE:  0.21864987630875563\n",
      "Mean Absolute Error:  0.04773988421430823\n",
      "R-squared:  0.9468018504353819\n",
      "Adjusted R2:  0.9467456240958149\n"
     ]
    }
   ],
   "source": [
    "from sklearn.ensemble import RandomForestRegressor\n",
    "import xgboost\n",
    "from sklearn import preprocessing\n",
    "from xgboost import XGBRFRegressor\n",
    "\n",
    "# Initialise XGBRegressor\n",
    "rf = xgboost.XGBRegressor(n_estimators=300, subsample=0.9, colsample_bynode=0.2, n_fold = 5, eval_metric = 'rmse')\n",
    "\n",
    "# Set up 5-fold cross-validation\n",
    "from sklearn import model_selection\n",
    "cv = model_selection.KFold(5)\n",
    "\n",
    "# Pipeline standardization and Model\n",
    "from sklearn.pipeline import Pipeline\n",
    "pipeline = Pipeline(steps=[('standardize', preprocessing.StandardScaler())\n",
    "                           , ('model', rf) ])\n",
    "# Tuning the model\n",
    "my_min_samples_leaf = [2, 10, 25, 50, 100]\n",
    "my_max_depth = [7, 8, 9, 10, 11, 12]\n",
    "\n",
    "\n",
    "# Run the model using GridSearch, select the model with best search\n",
    "from sklearn.model_selection import GridSearchCV\n",
    "optimized_rf = GridSearchCV(estimator=pipeline\n",
    "                            , cv=cv\n",
    "                            , param_grid =dict(model__min_samples_leaf = my_min_samples_leaf, model__max_depth = my_max_depth)\n",
    "                            , scoring = 'neg_mean_squared_error'\n",
    "                            , verbose = 1\n",
    "                            , n_jobs = -1\n",
    "                           )\n",
    "\n",
    "# Fitting on Training Data\n",
    "optimized_rf.fit(training_set, training_labels)\n",
    "\n",
    "\n",
    "# Best model estimators\n",
    "print(optimized_rf.best_estimator_)\n",
    "\n",
    "def adjusted_r2(r2, n, p):\n",
    "  result = 1-((1-r2)*((n-1)/(n-p-1)))\n",
    "  return result\n",
    "\n",
    "\n",
    "# Evaluate metrics on holdout\n",
    "from sklearn.metrics import mean_squared_error, mean_absolute_error, r2_score\n",
    "y_train_pred = optimized_rf.predict(training_set)\n",
    "y_pred = optimized_rf.predict(testing_set)\n",
    "n1 = len(y_train_pred)\n",
    "p1 = training_set.shape[1]\n",
    "n2 = len(y_pred)\n",
    "p2 = testing_set.shape[1]\n",
    "print('Training Errors')\n",
    "print(\"Mean Squared Error: \", mean_squared_error(training_labels, y_train_pred))\n",
    "print(\"RMSE: \", mean_squared_error(training_labels, y_train_pred, squared = False))\n",
    "print(\"Mean Absolute Error: \", mean_absolute_error(training_labels, y_train_pred))\n",
    "print(\"R-squared: \", r2_score(training_labels, y_train_pred))\n",
    "print(\"Adjusted R2: \", adjusted_r2(r2_score(training_labels, y_train_pred), n1, p1))\n",
    "\n",
    "print('Test Errors')\n",
    "print(\"Mean Squared Error: \", mean_squared_error(testing_labels, y_pred))\n",
    "print(\"RMSE: \", mean_squared_error(testing_labels, y_pred, squared = False))\n",
    "print(\"Mean Absolute Error: \", mean_absolute_error(testing_labels, y_pred))\n",
    "print(\"R-squared: \", r2_score(testing_labels, y_pred))\n",
    "print(\"Adjusted R2: \", adjusted_r2(r2_score(testing_labels, y_pred), n2, p2))"
   ]
  },
  {
   "cell_type": "code",
   "execution_count": 15,
   "metadata": {
    "colab": {
     "base_uri": "https://localhost:8080/"
    },
    "id": "ZAFJfwYVRzCM",
    "outputId": "1151983b-f52b-474a-bc1d-51f52f01dc17"
   },
   "outputs": [
    {
     "name": "stdout",
     "output_type": "stream",
     "text": [
      "[11:25:03] WARNING: /workspace/src/objective/regression_obj.cu:152: reg:linear is now deprecated in favor of reg:squarederror.\n",
      "Training Errors\n",
      "Mean Squared Error:  0.006584206148772357\n",
      "RMSE:  0.08114312138913783\n",
      "Mean Absolute Error:  0.03479009570113759\n",
      "R-squared:  0.9934157386817096\n",
      "Adjusted R2:  0.993414966211367\n",
      "Test Errors\n",
      "Mean Squared Error:  0.04826109711737515\n",
      "RMSE:  0.21968408480674048\n",
      "Mean Absolute Error:  0.04776158800271295\n",
      "R-squared:  0.94629740839201\n",
      "Adjusted R2:  0.9462406488961236\n"
     ]
    }
   ],
   "source": [
    "from sklearn.ensemble import RandomForestRegressor\n",
    "import xgboost\n",
    "from sklearn import preprocessing\n",
    "from xgboost import XGBRFRegressor\n",
    "\n",
    "# Initialise XGBRegressor\n",
    "optimized_rf = xgboost.XGBRegressor(base_score=0.5, booster='gbtree',\n",
    "                              colsample_bylevel=1, colsample_bynode=0.2,\n",
    "                              colsample_bytree=1, eval_metric='rmse', gamma=0,\n",
    "                              importance_type='gain', learning_rate=0.1,\n",
    "                              max_delta_step=0, max_depth=9, min_child_weight=1,\n",
    "                              min_samples_leaf=2, missing=None,\n",
    "                              n_estimators=300, n_fold=5, n_jobs=1,\n",
    "                              nthread=None, objective='reg:linear',\n",
    "                              random_state=0, reg_alpha=0, reg_lambda=1,\n",
    "                              scale_pos_weight=1, seed=None, silent=None,\n",
    "                              subsample=0.9, verbosity=1)\n",
    "# # Set up 5-fold cross-validation\n",
    "# from sklearn import model_selection\n",
    "# cv = model_selection.KFold(5)\n",
    "\n",
    "# # Pipeline standardization and Model\n",
    "# from sklearn.pipeline import Pipeline\n",
    "# pipeline = Pipeline(steps=[('standardize', preprocessing.StandardScaler())\n",
    "#                            , ('model', rf) ])\n",
    "# # Tuning the model\n",
    "# my_min_samples_leaf = [2, 10, 25, 50, 100]\n",
    "# my_max_depth = [7, 8, 9, 10, 11, 12]\n",
    "\n",
    "\n",
    "# # Run the model using GridSearch, select the model with best search\n",
    "# from sklearn.model_selection import GridSearchCV\n",
    "# optimized_rf = GridSearchCV(estimator=pipeline\n",
    "#                             , cv=cv\n",
    "#                             , param_grid =dict(model__min_samples_leaf = my_min_samples_leaf, model__max_depth = my_max_depth)\n",
    "#                             , scoring = 'neg_mean_squared_error'\n",
    "#                             , verbose = 1\n",
    "#                             , n_jobs = -1\n",
    "#                            )\n",
    "\n",
    "# Fitting on Training Data\n",
    "optimized_rf.fit(training_set, training_labels)\n",
    "\n",
    "\n",
    "# Best model estimators\n",
    "# print(optimized_rf.best_estimator_)\n",
    "\n",
    "def adjusted_r2(r2, n, p):\n",
    "  result = 1-((1-r2)*((n-1)/(n-p-1)))\n",
    "  return result\n",
    "\n",
    "\n",
    "# Evaluate metrics on holdout\n",
    "from sklearn.metrics import mean_squared_error, mean_absolute_error, r2_score\n",
    "y_train_pred = optimized_rf.predict(training_set)\n",
    "y_pred = optimized_rf.predict(testing_set)\n",
    "n1 = len(y_train_pred)\n",
    "p1 = training_set.shape[1]\n",
    "n2 = len(y_pred)\n",
    "p2 = testing_set.shape[1]\n",
    "print('Training Errors')\n",
    "print(\"Mean Squared Error: \", mean_squared_error(training_labels, y_train_pred))\n",
    "print(\"RMSE: \", mean_squared_error(training_labels, y_train_pred, squared = False))\n",
    "print(\"Mean Absolute Error: \", mean_absolute_error(training_labels, y_train_pred))\n",
    "print(\"R-squared: \", r2_score(training_labels, y_train_pred))\n",
    "print(\"Adjusted R2: \", adjusted_r2(r2_score(training_labels, y_train_pred), n1, p1))\n",
    "\n",
    "print('Test Errors')\n",
    "print(\"Mean Squared Error: \", mean_squared_error(testing_labels, y_pred))\n",
    "print(\"RMSE: \", mean_squared_error(testing_labels, y_pred, squared = False))\n",
    "print(\"Mean Absolute Error: \", mean_absolute_error(testing_labels, y_pred))\n",
    "print(\"R-squared: \", r2_score(testing_labels, y_pred))\n",
    "print(\"Adjusted R2: \", adjusted_r2(r2_score(testing_labels, y_pred), n2, p2))"
   ]
  },
  {
   "cell_type": "markdown",
   "metadata": {
    "id": "aWeOl-RGSAu0"
   },
   "source": [
    "> Residual Plot for Training (XGBoost)"
   ]
  },
  {
   "cell_type": "code",
   "execution_count": 16,
   "metadata": {
    "colab": {
     "base_uri": "https://localhost:8080/",
     "height": 370
    },
    "id": "PV2aTYF2SAEQ",
    "outputId": "6f37186f-8f96-45a8-daff-30f1e53c7e36"
   },
   "outputs": [
    {
     "name": "stderr",
     "output_type": "stream",
     "text": [
      "/usr/local/lib/python3.7/dist-packages/seaborn/_decorators.py:43: FutureWarning: Pass the following variables as keyword args: x, y. From version 0.12, the only valid positional argument will be `data`, and passing other arguments without an explicit keyword will result in an error or misinterpretation.\n",
      "  FutureWarning\n",
      "/usr/local/lib/python3.7/dist-packages/statsmodels/tools/_testing.py:19: FutureWarning: pandas.util.testing is deprecated. Use the functions in the public API at pandas.testing instead.\n",
      "  import pandas.util.testing as tm\n"
     ]
    },
    {
     "data": {
      "text/plain": [
       "<matplotlib.axes._subplots.AxesSubplot at 0x7ff58a3c9790>"
      ]
     },
     "execution_count": 16,
     "metadata": {
      "tags": []
     },
     "output_type": "execute_result"
    },
    {
     "data": {
      "image/png": "[encoded data removed]",
      "text/plain": [
       "<Figure size 432x288 with 1 Axes>"
      ]
     },
     "metadata": {
      "needs_background": "light",
      "tags": []
     },
     "output_type": "display_data"
    }
   ],
   "source": [
    "sns.residplot(y_train_pred.reshape(-1), training_labels, lowess= True, color=\"g\")"
   ]
  },
  {
   "cell_type": "markdown",
   "metadata": {
    "id": "YIinOJsFSJcR"
   },
   "source": [
    "> Residual Plot for Testing (XGBoost)\n"
   ]
  },
  {
   "cell_type": "code",
   "execution_count": 17,
   "metadata": {
    "colab": {
     "base_uri": "https://localhost:8080/",
     "height": 336
    },
    "id": "b6wjKBQPSNCW",
    "outputId": "4f0c8e24-ef8a-4646-bdd8-5ef10bd28bef"
   },
   "outputs": [
    {
     "name": "stderr",
     "output_type": "stream",
     "text": [
      "/usr/local/lib/python3.7/dist-packages/seaborn/_decorators.py:43: FutureWarning: Pass the following variables as keyword args: x, y. From version 0.12, the only valid positional argument will be `data`, and passing other arguments without an explicit keyword will result in an error or misinterpretation.\n",
      "  FutureWarning\n"
     ]
    },
    {
     "data": {
      "text/plain": [
       "<matplotlib.axes._subplots.AxesSubplot at 0x7ff5803b86d0>"
      ]
     },
     "execution_count": 17,
     "metadata": {
      "tags": []
     },
     "output_type": "execute_result"
    },
    {
     "data": {
      "image/png": "[encoded data removed]",
      "text/plain": [
       "<Figure size 432x288 with 1 Axes>"
      ]
     },
     "metadata": {
      "needs_background": "light",
      "tags": []
     },
     "output_type": "display_data"
    }
   ],
   "source": [
    "sns.residplot(y_pred.reshape(-1), testing_labels, lowess= True, color=\"g\")"
   ]
  },
  {
   "cell_type": "markdown",
   "metadata": {
    "id": "Ro37hwhXSP5d"
   },
   "source": [
    "> SMAPE"
   ]
  },
  {
   "cell_type": "code",
   "execution_count": 18,
   "metadata": {
    "colab": {
     "base_uri": "https://localhost:8080/"
    },
    "id": "t096AIxASQg9",
    "outputId": "5d8ce6c6-0a5d-43d7-804c-ff4bc644cc42"
   },
   "outputs": [
    {
     "name": "stdout",
     "output_type": "stream",
     "text": [
      "14.192455206503448\n",
      "15.544635848214131\n"
     ]
    }
   ],
   "source": [
    "print(smape(y_train_pred, training_labels))\n",
    "print(smape(y_pred, testing_labels))"
   ]
  },
  {
   "cell_type": "markdown",
   "metadata": {
    "id": "mad90oT_Ulq5"
   },
   "source": [
    "> MAPE"
   ]
  },
  {
   "cell_type": "code",
   "execution_count": 20,
   "metadata": {
    "colab": {
     "base_uri": "https://localhost:8080/"
    },
    "id": "2ZS5616mUniq",
    "outputId": "b2091eba-e38a-4c1d-b420-a40e9c0df243"
   },
   "outputs": [
    {
     "name": "stdout",
     "output_type": "stream",
     "text": [
      "33.51153826251737\n",
      "229.58200682386845\n"
     ]
    }
   ],
   "source": [
    "def percentage_error(actual, predicted):\n",
    "    res = np.empty(actual.shape)\n",
    "    for j in range(actual.shape[0]):\n",
    "        if actual[j] != 0:\n",
    "            res[j] = (actual[j] - predicted[j]) / actual[j]\n",
    "        else:\n",
    "            res[j] = predicted[j] / np.mean(actual)\n",
    "    return res\n",
    "\n",
    "def mape(y_true, y_pred): \n",
    "    return np.mean(np.abs(percentage_error(np.asarray(y_true), np.asarray(y_pred)))) * 100\n",
    "\n",
    "print(mape(y_train_pred, training_labels))\n",
    "print(mape(y_pred, testing_labels))"
   ]
  },
  {
   "cell_type": "markdown",
   "metadata": {
    "id": "-y1kJ9-OuXxZ"
   },
   "source": [
    "## Without normalisation of Price, but keeping normalised variables\n"
   ]
  },
  {
   "cell_type": "markdown",
   "metadata": {
    "id": "3lC2ITI3-NYE"
   },
   "source": [
    "> Testing RMSE is $373260. This is an extremely large jump compared to previous models on non-normalised datasets."
   ]
  },
  {
   "cell_type": "code",
   "execution_count": null,
   "metadata": {
    "id": "G66lDL1BgE15"
   },
   "outputs": [],
   "source": [
    "X_train, X_test, y_train, y_test = train_test_split(combined.drop('price', axis=1),\n",
    "                                                    combined['price'], \n",
    "                                                    test_size=0.1,\n",
    "                                                    random_state=1)"
   ]
  },
  {
   "cell_type": "code",
   "execution_count": null,
   "metadata": {
    "id": "2WRP4H3ogNoQ"
   },
   "outputs": [],
   "source": [
    "# Normalise remaining lease for training and test\n",
    "X_train_lease_mean = X_train['remaining_lease'].mean()\n",
    "\n",
    "X_train_lease_std = X_train['remaining_lease'].std()\n",
    "X_train['remaining_lease'] = (X_train['remaining_lease'] - X_train_lease_mean)/X_train_lease_std\n",
    "\n",
    "X_test['remaining_lease'] = (X_test['remaining_lease'] - X_train_lease_mean)/X_train_lease_std\n",
    "\n",
    "\n",
    "# Normalise floor area for training and test\n",
    "X_train_area_mean = X_train['floor_area_sqm'].mean()\n",
    "\n",
    "X_train_area_std = X_train['floor_area_sqm'].std()\n",
    "X_train['floor_area_sqm'] = (X_train['floor_area_sqm'] - X_train_area_mean)/X_train_area_std\n",
    "\n",
    "X_test['floor_area_sqm'] = (X_test['floor_area_sqm'] - X_train_area_mean)/X_train_area_std"
   ]
  },
  {
   "cell_type": "code",
   "execution_count": null,
   "metadata": {
    "id": "AEkIElUrqt2A"
   },
   "outputs": [],
   "source": [
    "y_train /= 100000\n",
    "y_test /= 100000"
   ]
  },
  {
   "cell_type": "code",
   "execution_count": null,
   "metadata": {
    "colab": {
     "base_uri": "https://localhost:8080/"
    },
    "id": "Td0AtXZ6gYXK",
    "outputId": "bc599ef9-b52c-4d8e-8c01-3355f274e2de"
   },
   "outputs": [
    {
     "name": "stdout",
     "output_type": "stream",
     "text": [
      "Fitting 5 folds for each of 270 candidates, totalling 1350 fits\n"
     ]
    },
    {
     "name": "stderr",
     "output_type": "stream",
     "text": [
      "[Parallel(n_jobs=-1)]: Using backend LokyBackend with 2 concurrent workers.\n",
      "[Parallel(n_jobs=-1)]: Done  46 tasks      | elapsed:  1.0min\n",
      "[Parallel(n_jobs=-1)]: Done 196 tasks      | elapsed:  4.4min\n",
      "[Parallel(n_jobs=-1)]: Done 446 tasks      | elapsed: 10.0min\n",
      "[Parallel(n_jobs=-1)]: Done 796 tasks      | elapsed: 18.3min\n",
      "[Parallel(n_jobs=-1)]: Done 1246 tasks      | elapsed: 29.0min\n",
      "[Parallel(n_jobs=-1)]: Done 1350 out of 1350 | elapsed: 31.5min finished\n"
     ]
    },
    {
     "name": "stdout",
     "output_type": "stream",
     "text": [
      "Pipeline(memory=None,\n",
      "         steps=[('standardize',\n",
      "                 StandardScaler(copy=True, with_mean=True, with_std=True)),\n",
      "                ('model',\n",
      "                 LGBMRegressor(boosting_type='gbdt', class_weight=None,\n",
      "                               colsample_bytree=0.3, eval_metric='rmse',\n",
      "                               importance_type='split', learning_rate=0.1,\n",
      "                               max_depth=7, min_child_samples=20,\n",
      "                               min_child_weight=0.001, min_samples_leaf=2,\n",
      "                               min_split_gain=0.0, n_estimators=300, n_jobs=-1,\n",
      "                               num_leaves=31, objective=None, random_state=None,\n",
      "                               reg_alpha=0.0, reg_lambda=0.0, silent=True,\n",
      "                               subsample=0.7, subsample_for_bin=200000,\n",
      "                               subsample_freq=0))],\n",
      "         verbose=False)\n",
      "Training Errors\n",
      "Mean Squared Error:  16.57098283180115\n",
      "Mean Absolute Error:  1.0027637343707159\n",
      "R-squared:  0.9377143821831225\n",
      "Test Errors\n",
      "Mean Squared Error:  13.93236433052307\n",
      "Mean Absolute Error:  1.0680404022619068\n",
      "R-squared:  0.9417281579240565\n"
     ]
    }
   ],
   "source": [
    "from sklearn.ensemble import RandomForestRegressor\n",
    "from sklearn import preprocessing\n",
    "from lightgbm import LGBMRegressor\n",
    "from sklearn.metrics import mean_squared_log_error\n",
    "\n",
    "# Initialise LGBMRegressor\n",
    "# rf = LGBMRegressor(n_estimators=300, subsample=0.9, colsample_bytree=0.2, eval_metric = 'rmse')\n",
    "rf = LGBMRegressor(n_estimators=300, eval_metric = 'rmse')\n",
    "\n",
    "\n",
    "# Set up 5-fold cross-validation\n",
    "from sklearn import model_selection\n",
    "cv = model_selection.KFold(5)\n",
    "\n",
    "\n",
    "# Pipeline Standardization and Model\n",
    "from sklearn.pipeline import Pipeline\n",
    "pipeline = Pipeline(steps=[('standardize', preprocessing.StandardScaler())\n",
    "                           , ('model', rf) ])\n",
    "# Tuning the model\n",
    "my_min_samples_leaf = [2, 10, 25, 50, 100]\n",
    "my_max_depth = [7, 8, 9, 10, 11, 12]\n",
    "my_subsample = [0.7, 0.8, 0.9]\n",
    "my_colsample_bytree = [0.1, 0.2, 0.3]\n",
    "\n",
    "# Run the model using GridSearch, select the model with best search\n",
    "from sklearn.model_selection import GridSearchCV\n",
    "optimized_rf = GridSearchCV(estimator=pipeline\n",
    "                            , cv=cv\n",
    "                            , param_grid =dict(model__min_samples_leaf = my_min_samples_leaf, \n",
    "                                               model__max_depth = my_max_depth,\n",
    "                                               model__subsample = my_subsample,\n",
    "                                               model__colsample_bytree = my_colsample_bytree)\n",
    "                            , scoring = 'neg_mean_squared_error'\n",
    "                            , verbose = 1\n",
    "                            , n_jobs = -1\n",
    "                           )\n",
    "\n",
    "# Fitting on Training Data\n",
    "optimized_rf.fit(X_train, y_train)\n",
    "\n",
    "\n",
    "# Best model estimators\n",
    "print(optimized_rf.best_estimator_)\n",
    "\n",
    "\n",
    "# Evaluate metrics on holdout\n",
    "from sklearn.metrics import mean_squared_error, mean_absolute_error, r2_score\n",
    "y_train_pred = optimized_rf.predict(X_train)\n",
    "y_pred = optimized_rf.predict(X_test)\n",
    "print('Training Errors')\n",
    "print(\"Mean Squared Error: \", mean_squared_error(y_train, y_train_pred))\n",
    "#print(\"Mean Squared Log Error: \", mean_squared_log_error(training_labels, y_train_pred))\n",
    "print(\"Mean Absolute Error: \", mean_absolute_error(y_train, y_train_pred))\n",
    "print(\"R-squared: \", r2_score(y_train, y_train_pred))\n",
    "\n",
    "print('Test Errors')\n",
    "print(\"Mean Squared Error: \", mean_squared_error(y_test, y_pred))\n",
    "#print(\"Mean Squared Log Error: \", mean_squared_log_error(testing_labels, y_train_pred))\n",
    "print(\"Mean Absolute Error: \", mean_absolute_error(y_test, y_pred))\n",
    "print(\"R-squared: \", r2_score(y_test, y_pred))\n",
    "\n",
    "# ValueError: Mean Squared Logarithmic Error cannot be used when targets contain negative values."
   ]
  }
 ],
 "metadata": {
  "accelerator": "GPU",
  "colab": {
   "collapsed_sections": [],
   "name": "XGBoost and LightGBM v2.ipynb",
   "provenance": []
  },
  "kernelspec": {
   "display_name": "Python 3",
   "language": "python",
   "name": "python3"
  },
  "language_info": {
   "codemirror_mode": {
    "name": "ipython",
    "version": 3
   },
   "file_extension": ".py",
   "mimetype": "text/x-python",
   "name": "python",
   "nbconvert_exporter": "python",
   "pygments_lexer": "ipython3",
   "version": "3.7.6"
  }
 },
 "nbformat": 4,
 "nbformat_minor": 1
}
