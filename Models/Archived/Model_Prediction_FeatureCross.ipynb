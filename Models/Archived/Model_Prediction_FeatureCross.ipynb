{
 "cells": [
  {
   "cell_type": "markdown",
   "metadata": {},
   "source": [
    "## Import Libraries"
   ]
  },
  {
   "cell_type": "code",
   "execution_count": 109,
   "metadata": {
    "id": "j2gJ3BfntnpK"
   },
   "outputs": [],
   "source": [
    "import datetime\n",
    "import math\n",
    "import matplotlib.pyplot as plt \n",
    "import numpy as np\n",
    "import pandas as pd\n",
    "import json\n",
    "from bs4 import BeautifulSoup\n",
    "import time\n",
    "import zipfile\n",
    "import requests\n",
    "# import gdown\n",
    "import pickle\n",
    "import io\n",
    "from datetime import date\n",
    "from requests import Session\n",
    "from geopy.geocoders import Nominatim"
   ]
  },
  {
   "cell_type": "markdown",
   "metadata": {
    "id": "IKHE5TkRtnpN"
   },
   "source": [
    "## Pre-set Variables"
   ]
  },
  {
   "cell_type": "code",
   "execution_count": 110,
   "metadata": {
    "id": "H1SYVJj_tnpQ"
   },
   "outputs": [],
   "source": [
    "district_postal = {\n",
    "    \"1\" : [\"01\", \"02\", \"03\", \"04\", \"05\", \"06\"],\n",
    "    \"2\" : [\"07\", \"08\"],\n",
    "    \"3\" : [\"14\", \"15\", \"16\"],\n",
    "    \"4\" : [\"09\", \"10\"],\n",
    "    \"5\" : [\"11\", \"12\", '13'],\n",
    "    \"6\" : [\"17\"],\n",
    "    \"7\" : [\"18\", \"19\"],\n",
    "    \"8\" : [\"20\", \"21\"],\n",
    "    \"9\" : [\"22\", \"23\"],\n",
    "    \"10\" : [\"24\", \"25\", \"26\", \"27\"],\n",
    "    \"11\" : [\"28\", \"29\", \"30\"],\n",
    "    \"12\" : [\"31\", \"32\", \"33\"],\n",
    "    \"13\" : [\"34\", \"35\", \"36\", \"37\"],\n",
    "    \"14\" : [\"38\", \"39\", \"40\", \"41\"],\n",
    "    \"15\" : [\"42\", \"43\", \"44\", \"45\"],\n",
    "    \"16\" : [\"46\", \"47\", \"48\"],\n",
    "    \"17\" : [\"49\", \"50\", \"81\"],\n",
    "    \"18\" : [\"51\", \"52\"],\n",
    "    \"19\" : [\"53\", \"54\", \"55\", \"82\"],\n",
    "    \"20\" : [\"56\", \"57\"],\n",
    "    \"21\" : [\"58\", \"59\"],\n",
    "    \"22\" : [\"60\", \"61\", \"62\", \"63\", \"64\"],\n",
    "    \"23\" : [\"65\", \"66\", \"67\", \"68\"],\n",
    "    \"24\" : [\"69\", \"70\", \"71\"],\n",
    "    \"25\" : [\"72\", \"73\"],\n",
    "    \"26\" : [\"77\", \"78\"],\n",
    "    \"27\" : [\"75\", \"76\"],\n",
    "    \"28\" : [\"79\", \"80\"]\n",
    "}"
   ]
  },
  {
   "cell_type": "code",
   "execution_count": 111,
   "metadata": {
    "id": "jXE1lSSZtnpS"
   },
   "outputs": [],
   "source": [
    "replace_floors = {\n",
    "    '01 TO 03' : '01-05',\n",
    "    '04 TO 06' : '01-05',\n",
    "    '07 TO 09' : '06-10',\n",
    "    '10 TO 12' : '11-15',\n",
    "    '13 TO 15' : '11-15',\n",
    "    '16 TO 18' : '16-20',\n",
    "    '19 TO 21' : '16-20',\n",
    "    '22 TO 24' : '21-25',\n",
    "    '25 TO 27' : '26-30',\n",
    "    '28 TO 30' : '26-30',\n",
    "    '31 TO 33' : '31-35',\n",
    "    '34 TO 36' : '31-35',\n",
    "    '37 TO 39' : '36-40',\n",
    "    '40 TO 42' : '41-45',\n",
    "    '43 TO 45' : '41-45',\n",
    "    '46 TO 48' : '46-50',\n",
    "    '-' : '-'\n",
    "}"
   ]
  },
  {
   "cell_type": "markdown",
   "metadata": {
    "id": "1YIwSsGLtnpT"
   },
   "source": [
    "## Import CSVs needed"
   ]
  },
  {
   "cell_type": "code",
   "execution_count": 112,
   "metadata": {
    "id": "lt74tl-4tnpT"
   },
   "outputs": [],
   "source": [
    "bus_stops_url = 'https://raw.githubusercontent.com/nicolepng/BT4222/main/Data/bus_stops.csv' \n",
    "bus_stops = pd.read_csv(bus_stops_url)\n",
    "bus_stops.drop(bus_stops.columns[0], axis=1, inplace=True)"
   ]
  },
  {
   "cell_type": "code",
   "execution_count": 113,
   "metadata": {
    "id": "TtAqQT_AtnpU"
   },
   "outputs": [],
   "source": [
    "amenities_url = 'https://raw.githubusercontent.com/nicolepng/BT4222/main/Data/ameneties_per_district.csv' \n",
    "ameneties_per_district = pd.read_csv(amenities_url)\n",
    "ameneties_per_district.drop(ameneties_per_district.columns[0], axis=1, inplace=True)"
   ]
  },
  {
   "cell_type": "code",
   "execution_count": 114,
   "metadata": {
    "id": "k2fPnVyXtnpV"
   },
   "outputs": [
    {
     "data": {
      "text/html": [
       "<div>\n",
       "<style scoped>\n",
       "    .dataframe tbody tr th:only-of-type {\n",
       "        vertical-align: middle;\n",
       "    }\n",
       "\n",
       "    .dataframe tbody tr th {\n",
       "        vertical-align: top;\n",
       "    }\n",
       "\n",
       "    .dataframe thead th {\n",
       "        text-align: right;\n",
       "    }\n",
       "</style>\n",
       "<table border=\"1\" class=\"dataframe\">\n",
       "  <thead>\n",
       "    <tr style=\"text-align: right;\">\n",
       "      <th></th>\n",
       "      <th>Neighbourhood</th>\n",
       "      <th>Postal</th>\n",
       "      <th>Offence</th>\n",
       "      <th>Number</th>\n",
       "    </tr>\n",
       "  </thead>\n",
       "  <tbody>\n",
       "    <tr>\n",
       "      <th>0</th>\n",
       "      <td>Ang Mo Kio North</td>\n",
       "      <td>569784</td>\n",
       "      <td>Housebreaking</td>\n",
       "      <td>4.857143</td>\n",
       "    </tr>\n",
       "    <tr>\n",
       "      <th>1</th>\n",
       "      <td>Ang Mo Kio North</td>\n",
       "      <td>569784</td>\n",
       "      <td>Outrage Of Modesty</td>\n",
       "      <td>26.000000</td>\n",
       "    </tr>\n",
       "    <tr>\n",
       "      <th>2</th>\n",
       "      <td>Ang Mo Kio North</td>\n",
       "      <td>569784</td>\n",
       "      <td>Robbery</td>\n",
       "      <td>2.000000</td>\n",
       "    </tr>\n",
       "    <tr>\n",
       "      <th>3</th>\n",
       "      <td>Ang Mo Kio North</td>\n",
       "      <td>569784</td>\n",
       "      <td>Snatch Theft</td>\n",
       "      <td>2.714286</td>\n",
       "    </tr>\n",
       "    <tr>\n",
       "      <th>4</th>\n",
       "      <td>Ang Mo Kio North</td>\n",
       "      <td>569784</td>\n",
       "      <td>Theft Of Motor Vehicle</td>\n",
       "      <td>5.000000</td>\n",
       "    </tr>\n",
       "    <tr>\n",
       "      <th>...</th>\n",
       "      <td>...</td>\n",
       "      <td>...</td>\n",
       "      <td>...</td>\n",
       "      <td>...</td>\n",
       "    </tr>\n",
       "    <tr>\n",
       "      <th>210</th>\n",
       "      <td>[Total]Woodlands Police Division - Total</td>\n",
       "      <td>-</td>\n",
       "      <td>Housebreaking</td>\n",
       "      <td>0.285714</td>\n",
       "    </tr>\n",
       "    <tr>\n",
       "      <th>211</th>\n",
       "      <td>[Total]Woodlands Police Division - Total</td>\n",
       "      <td>-</td>\n",
       "      <td>Outrage Of Modesty</td>\n",
       "      <td>2.142857</td>\n",
       "    </tr>\n",
       "    <tr>\n",
       "      <th>212</th>\n",
       "      <td>[Total]Woodlands Police Division - Total</td>\n",
       "      <td>-</td>\n",
       "      <td>Robbery</td>\n",
       "      <td>0.000000</td>\n",
       "    </tr>\n",
       "    <tr>\n",
       "      <th>213</th>\n",
       "      <td>[Total]Woodlands Police Division - Total</td>\n",
       "      <td>-</td>\n",
       "      <td>Snatch Theft</td>\n",
       "      <td>0.000000</td>\n",
       "    </tr>\n",
       "    <tr>\n",
       "      <th>214</th>\n",
       "      <td>[Total]Woodlands Police Division - Total</td>\n",
       "      <td>-</td>\n",
       "      <td>Theft Of Motor Vehicle</td>\n",
       "      <td>0.142857</td>\n",
       "    </tr>\n",
       "  </tbody>\n",
       "</table>\n",
       "<p>215 rows × 4 columns</p>\n",
       "</div>"
      ],
      "text/plain": [
       "                                Neighbourhood  Postal                 Offence  \\\n",
       "0                           Ang Mo Kio North   569784           Housebreaking   \n",
       "1                           Ang Mo Kio North   569784      Outrage Of Modesty   \n",
       "2                           Ang Mo Kio North   569784                 Robbery   \n",
       "3                           Ang Mo Kio North   569784            Snatch Theft   \n",
       "4                           Ang Mo Kio North   569784  Theft Of Motor Vehicle   \n",
       "..                                        ...     ...                     ...   \n",
       "210  [Total]Woodlands Police Division - Total       -           Housebreaking   \n",
       "211  [Total]Woodlands Police Division - Total       -      Outrage Of Modesty   \n",
       "212  [Total]Woodlands Police Division - Total       -                 Robbery   \n",
       "213  [Total]Woodlands Police Division - Total       -            Snatch Theft   \n",
       "214  [Total]Woodlands Police Division - Total       -  Theft Of Motor Vehicle   \n",
       "\n",
       "        Number  \n",
       "0     4.857143  \n",
       "1    26.000000  \n",
       "2     2.000000  \n",
       "3     2.714286  \n",
       "4     5.000000  \n",
       "..         ...  \n",
       "210   0.285714  \n",
       "211   2.142857  \n",
       "212   0.000000  \n",
       "213   0.000000  \n",
       "214   0.142857  \n",
       "\n",
       "[215 rows x 4 columns]"
      ]
     },
     "execution_count": 114,
     "metadata": {},
     "output_type": "execute_result"
    }
   ],
   "source": [
    "avg_crime_locations_url = 'https://raw.githubusercontent.com/nicolepng/BT4222/main/Data/average_crimes_by_location_v3.csv' \n",
    "average_crimes_by_location_v3 = pd.read_csv(avg_crime_locations_url)\n",
    "average_crimes_by_location_v3"
   ]
  },
  {
   "cell_type": "code",
   "execution_count": 115,
   "metadata": {
    "id": "P_LDBvbdtnpV"
   },
   "outputs": [],
   "source": [
    "# swap dictionary mapping direction\n",
    "postal_district = {k: oldk for oldk, oldv in district_postal.items() for k in oldv}\n",
    "\n",
    "# create new column to obtain the 1st 2 characters of [Postal]\n",
    "average_crimes_by_location_v3['postal prefix'] = average_crimes_by_location_v3['Postal'].astype(str).str[0:2]\n",
    "\n",
    "# map postal to district code\n",
    "average_crimes_by_location_v3['district']= average_crimes_by_location_v3['postal prefix'].map(postal_district) \n",
    "\n",
    "# get overall crime rate in each district\n",
    "average_crimes_by_location_v3 = average_crimes_by_location_v3.groupby(['district']).agg({'Number':'sum'}).reset_index()\n",
    "\n",
    "district_int = average_crimes_by_location_v3.district.astype(int)\n",
    "district_int = pd.DataFrame(district_int)\n",
    "average_crimes_by_location_v3['district'] = district_int"
   ]
  },
  {
   "cell_type": "code",
   "execution_count": 116,
   "metadata": {},
   "outputs": [
    {
     "data": {
      "text/html": [
       "<div>\n",
       "<style scoped>\n",
       "    .dataframe tbody tr th:only-of-type {\n",
       "        vertical-align: middle;\n",
       "    }\n",
       "\n",
       "    .dataframe tbody tr th {\n",
       "        vertical-align: top;\n",
       "    }\n",
       "\n",
       "    .dataframe thead th {\n",
       "        text-align: right;\n",
       "    }\n",
       "</style>\n",
       "<table border=\"1\" class=\"dataframe\">\n",
       "  <thead>\n",
       "    <tr style=\"text-align: right;\">\n",
       "      <th></th>\n",
       "      <th>district</th>\n",
       "      <th>Number</th>\n",
       "    </tr>\n",
       "  </thead>\n",
       "  <tbody>\n",
       "    <tr>\n",
       "      <th>0</th>\n",
       "      <td>10</td>\n",
       "      <td>35.428571</td>\n",
       "    </tr>\n",
       "    <tr>\n",
       "      <th>1</th>\n",
       "      <td>12</td>\n",
       "      <td>60.857143</td>\n",
       "    </tr>\n",
       "    <tr>\n",
       "      <th>2</th>\n",
       "      <td>14</td>\n",
       "      <td>167.714286</td>\n",
       "    </tr>\n",
       "    <tr>\n",
       "      <th>3</th>\n",
       "      <td>15</td>\n",
       "      <td>45.428571</td>\n",
       "    </tr>\n",
       "    <tr>\n",
       "      <th>4</th>\n",
       "      <td>16</td>\n",
       "      <td>130.000000</td>\n",
       "    </tr>\n",
       "    <tr>\n",
       "      <th>5</th>\n",
       "      <td>18</td>\n",
       "      <td>163.857143</td>\n",
       "    </tr>\n",
       "    <tr>\n",
       "      <th>6</th>\n",
       "      <td>19</td>\n",
       "      <td>202.142857</td>\n",
       "    </tr>\n",
       "    <tr>\n",
       "      <th>7</th>\n",
       "      <td>2</td>\n",
       "      <td>200.000000</td>\n",
       "    </tr>\n",
       "    <tr>\n",
       "      <th>8</th>\n",
       "      <td>20</td>\n",
       "      <td>122.714286</td>\n",
       "    </tr>\n",
       "    <tr>\n",
       "      <th>9</th>\n",
       "      <td>22</td>\n",
       "      <td>226.000000</td>\n",
       "    </tr>\n",
       "    <tr>\n",
       "      <th>10</th>\n",
       "      <td>23</td>\n",
       "      <td>169.428571</td>\n",
       "    </tr>\n",
       "    <tr>\n",
       "      <th>11</th>\n",
       "      <td>25</td>\n",
       "      <td>78.928571</td>\n",
       "    </tr>\n",
       "    <tr>\n",
       "      <th>12</th>\n",
       "      <td>27</td>\n",
       "      <td>64.000000</td>\n",
       "    </tr>\n",
       "    <tr>\n",
       "      <th>13</th>\n",
       "      <td>3</td>\n",
       "      <td>193.285714</td>\n",
       "    </tr>\n",
       "    <tr>\n",
       "      <th>14</th>\n",
       "      <td>8</td>\n",
       "      <td>113.000000</td>\n",
       "    </tr>\n",
       "    <tr>\n",
       "      <th>15</th>\n",
       "      <td>9</td>\n",
       "      <td>190.714286</td>\n",
       "    </tr>\n",
       "  </tbody>\n",
       "</table>\n",
       "</div>"
      ],
      "text/plain": [
       "    district      Number\n",
       "0         10   35.428571\n",
       "1         12   60.857143\n",
       "2         14  167.714286\n",
       "3         15   45.428571\n",
       "4         16  130.000000\n",
       "5         18  163.857143\n",
       "6         19  202.142857\n",
       "7          2  200.000000\n",
       "8         20  122.714286\n",
       "9         22  226.000000\n",
       "10        23  169.428571\n",
       "11        25   78.928571\n",
       "12        27   64.000000\n",
       "13         3  193.285714\n",
       "14         8  113.000000\n",
       "15         9  190.714286"
      ]
     },
     "execution_count": 116,
     "metadata": {},
     "output_type": "execute_result"
    }
   ],
   "source": [
    "average_crimes_by_location_v3"
   ]
  },
  {
   "cell_type": "code",
   "execution_count": 117,
   "metadata": {
    "colab": {
     "base_uri": "https://localhost:8080/",
     "height": 419
    },
    "id": "UQBICODwtnpW",
    "outputId": "b3e36352-70ef-4320-9e61-c4a96d528bdc"
   },
   "outputs": [
    {
     "data": {
      "text/html": [
       "<div>\n",
       "<style scoped>\n",
       "    .dataframe tbody tr th:only-of-type {\n",
       "        vertical-align: middle;\n",
       "    }\n",
       "\n",
       "    .dataframe tbody tr th {\n",
       "        vertical-align: top;\n",
       "    }\n",
       "\n",
       "    .dataframe thead th {\n",
       "        text-align: right;\n",
       "    }\n",
       "</style>\n",
       "<table border=\"1\" class=\"dataframe\">\n",
       "  <thead>\n",
       "    <tr style=\"text-align: right;\">\n",
       "      <th></th>\n",
       "      <th>district_num</th>\n",
       "      <th>weighted_sentiment</th>\n",
       "      <th>year</th>\n",
       "    </tr>\n",
       "  </thead>\n",
       "  <tbody>\n",
       "    <tr>\n",
       "      <th>0</th>\n",
       "      <td>21</td>\n",
       "      <td>0.181969</td>\n",
       "      <td>2018</td>\n",
       "    </tr>\n",
       "    <tr>\n",
       "      <th>1</th>\n",
       "      <td>1</td>\n",
       "      <td>0.133391</td>\n",
       "      <td>2018</td>\n",
       "    </tr>\n",
       "    <tr>\n",
       "      <th>2</th>\n",
       "      <td>2</td>\n",
       "      <td>0.165917</td>\n",
       "      <td>2018</td>\n",
       "    </tr>\n",
       "    <tr>\n",
       "      <th>3</th>\n",
       "      <td>3</td>\n",
       "      <td>0.061551</td>\n",
       "      <td>2018</td>\n",
       "    </tr>\n",
       "    <tr>\n",
       "      <th>4</th>\n",
       "      <td>4</td>\n",
       "      <td>0.059997</td>\n",
       "      <td>2018</td>\n",
       "    </tr>\n",
       "    <tr>\n",
       "      <th>...</th>\n",
       "      <td>...</td>\n",
       "      <td>...</td>\n",
       "      <td>...</td>\n",
       "    </tr>\n",
       "    <tr>\n",
       "      <th>107</th>\n",
       "      <td>24</td>\n",
       "      <td>0.051782</td>\n",
       "      <td>2021</td>\n",
       "    </tr>\n",
       "    <tr>\n",
       "      <th>108</th>\n",
       "      <td>25</td>\n",
       "      <td>0.078996</td>\n",
       "      <td>2021</td>\n",
       "    </tr>\n",
       "    <tr>\n",
       "      <th>109</th>\n",
       "      <td>26</td>\n",
       "      <td>0.822100</td>\n",
       "      <td>2021</td>\n",
       "    </tr>\n",
       "    <tr>\n",
       "      <th>110</th>\n",
       "      <td>27</td>\n",
       "      <td>0.102094</td>\n",
       "      <td>2021</td>\n",
       "    </tr>\n",
       "    <tr>\n",
       "      <th>111</th>\n",
       "      <td>28</td>\n",
       "      <td>0.143035</td>\n",
       "      <td>2021</td>\n",
       "    </tr>\n",
       "  </tbody>\n",
       "</table>\n",
       "<p>112 rows × 3 columns</p>\n",
       "</div>"
      ],
      "text/plain": [
       "     district_num  weighted_sentiment  year\n",
       "0              21            0.181969  2018\n",
       "1               1            0.133391  2018\n",
       "2               2            0.165917  2018\n",
       "3               3            0.061551  2018\n",
       "4               4            0.059997  2018\n",
       "..            ...                 ...   ...\n",
       "107            24            0.051782  2021\n",
       "108            25            0.078996  2021\n",
       "109            26            0.822100  2021\n",
       "110            27            0.102094  2021\n",
       "111            28            0.143035  2021\n",
       "\n",
       "[112 rows x 3 columns]"
      ]
     },
     "execution_count": 117,
     "metadata": {},
     "output_type": "execute_result"
    }
   ],
   "source": [
    "sentiment_url = 'https://raw.githubusercontent.com/nicolepng/BT4222/main/Data/combined_vader_sentiment.csv' \n",
    "sentiment = pd.read_csv(sentiment_url)\n",
    "sentiment = sentiment[['district_num','weighted_sentiment','year']]\n",
    "#sentiment.columns = ['district_num', 'weighted_sentiment', 'year']\n",
    "sentiment"
   ]
  },
  {
   "cell_type": "markdown",
   "metadata": {
    "id": "YzPAxVq-tnpa"
   },
   "source": [
    "## Functions needed to get input"
   ]
  },
  {
   "cell_type": "code",
   "execution_count": 118,
   "metadata": {
    "id": "4b9I2ud7tnpa"
   },
   "outputs": [],
   "source": [
    "# Get district number\n",
    "def get_postal_onemap(place, district_postal):\n",
    "    start_code= \"https://developers.onemap.sg/commonapi/search?returnGeom=Y&getAddrDetails=Y&pageNum=1&searchVal=\"+ place\n",
    "    s_response = requests.get(start_code)\n",
    "    s_data = json.loads(s_response.text)\n",
    "    postal = None\n",
    "    count = 0\n",
    "    while postal is None:\n",
    "        count += 1\n",
    "        if count == 10:\n",
    "            postal = None\n",
    "            break\n",
    "        for i in range(len(s_data['results'])):\n",
    "            postal = s_data['results'][i]['POSTAL']\n",
    "            try:\n",
    "                postal = int(postal)\n",
    "            except:\n",
    "                continue\n",
    "    for district, sub_dist in district_postal.items():\n",
    "        if str(postal)[:2] in sub_dist:\n",
    "            dist = district\n",
    "    try:\n",
    "        return dist\n",
    "    except:\n",
    "        return -1"
   ]
  },
  {
   "cell_type": "code",
   "execution_count": 119,
   "metadata": {
    "id": "1ThWwbbatnpb"
   },
   "outputs": [],
   "source": [
    "# get latitude and longitude\n",
    "def get_lat_long(street):\n",
    "    geolocator = Nominatim(user_agent=\"newtestuserbtproj\")\n",
    "    location = geolocator.geocode({\"street\": street, \"country\": \"Singapore\"})\n",
    "    coordinates = [location.latitude, location.longitude]\n",
    "    return coordinates"
   ]
  },
  {
   "cell_type": "code",
   "execution_count": 120,
   "metadata": {
    "id": "ch-HNlaytnpb"
   },
   "outputs": [],
   "source": [
    "# get number of bus stops\n",
    "# Formula to calculate distance \n",
    "from math import cos, sqrt\n",
    "R = 6371000 #radius of the Earth in m\n",
    "def distance(lon1, lat1, lon2, lat2):\n",
    "    x = (lon2 - lon1) * cos(0.5*(lat2+lat1))\n",
    "    y = (lat2 - lat1)\n",
    "    return R * sqrt( x*x + y*y )\n",
    "\n",
    "def num_of_bus_stops(lat, long):\n",
    "    busStops = bus_stops.to_dict(orient='records')\n",
    "    # threshold of within 1km\n",
    "    numOfStops = []\n",
    "    buslist = list(filter(lambda d: distance(d[\"Longitude\"], d[\"Latitude\"], long, lat) <= 1000, busStops))\n",
    "    return len(buslist)"
   ]
  },
  {
   "cell_type": "code",
   "execution_count": 121,
   "metadata": {
    "id": "y9BM91NVtnpc"
   },
   "outputs": [],
   "source": [
    "# get num of schools\n",
    "def num_schools(district):\n",
    "    sch_list = ameneties_per_district.loc[ameneties_per_district['district'] == district]['school'].item()\n",
    "    num_sch = sch_list.strip('][').split(',') \n",
    "    if \" SINGAPORE'\" in num_sch:\n",
    "        num_sch.remove(\" SINGAPORE'\")\n",
    "    return len(num_sch)"
   ]
  },
  {
   "cell_type": "code",
   "execution_count": 122,
   "metadata": {
    "id": "83RdyvNStnpd"
   },
   "outputs": [],
   "source": [
    "# get num of supermarkets\n",
    "def num_supermarkets(district):\n",
    "    market_list = ameneties_per_district.loc[ameneties_per_district['district'] == district]['supermarkets'].item()\n",
    "    num_market = market_list.strip('][').split(',') \n",
    "    return len(num_market)"
   ]
  },
  {
   "cell_type": "code",
   "execution_count": 123,
   "metadata": {
    "id": "ky6zweaftnpd"
   },
   "outputs": [],
   "source": [
    "# get num of hawker\n",
    "def num_hawker(district):\n",
    "    hawker_list = ameneties_per_district.loc[ameneties_per_district['district'] == district]['hawkercentre'].item()\n",
    "    num_hawker = hawker_list.strip('][').split(',') \n",
    "    return len(num_hawker)"
   ]
  },
  {
   "cell_type": "code",
   "execution_count": 124,
   "metadata": {
    "id": "flLdT3EFtnpe"
   },
   "outputs": [],
   "source": [
    "# get crime number \n",
    "def crime_num(district):\n",
    "    if len(average_crimes_by_location_v3[average_crimes_by_location_v3.district == district]) == 0:\n",
    "        return -1\n",
    "    else:\n",
    "        return average_crimes_by_location_v3[average_crimes_by_location_v3.district == district].Number.item() "
   ]
  },
  {
   "cell_type": "code",
   "execution_count": 125,
   "metadata": {
    "id": "_YotuEYetnpe"
   },
   "outputs": [],
   "source": [
    "# get sentiment score\n",
    "def sentiment_score(district, year):\n",
    "    return sentiment[(sentiment.district_num == district) & (sentiment.year == year)].weighted_sentiment.item()"
   ]
  },
  {
   "cell_type": "markdown",
   "metadata": {
    "id": "b0krpJPrtnpg"
   },
   "source": [
    "## Actual Code"
   ]
  },
  {
   "cell_type": "markdown",
   "metadata": {
    "id": "v7VFa92Jtnpg"
   },
   "source": [
    "district  \n",
    "street             \n",
    "propertyType        \n",
    "remaining_lease   \n",
    "price              \n",
    "school             \n",
    "hawkercentre        \n",
    "supermarkets       \n",
    "Bus Stops Nearby   \n",
    "crime_number        \n",
    "latitude          \n",
    "longitude           \n",
    "floor_area_sqm     \n",
    "floor_range        \n",
    "sentiment\n",
    "Street given, propertyType given, remaining lease given, square feet also given"
   ]
  },
  {
   "cell_type": "code",
   "execution_count": 126,
   "metadata": {
    "colab": {
     "base_uri": "https://localhost:8080/"
    },
    "id": "SfKgp0XYtnph",
    "outputId": "b0b5909e-7a53-416d-ba51-16a28497f847"
   },
   "outputs": [
    {
     "name": "stdout",
     "output_type": "stream",
     "text": [
      "Enter Street Name: Lengkong Tujoh\n",
      "Enter Type of Property: Terrace\n",
      "Enter num of years left: 999\n",
      "Area of House (Square Feet): 3341.11456\n",
      "Enter Floor Range: -\n",
      "Current Year? 2021\n"
     ]
    }
   ],
   "source": [
    "street = input(\"Enter Street Name: \")\n",
    "\n",
    "propertyType = input(\"Enter Type of Property: \")\n",
    "\n",
    "remaining_lease = int(input(\"Enter num of years left: \"))\n",
    "\n",
    "floor_area_sqm = input(\"Area of House (Square Feet): \")\n",
    "\n",
    "floor_range = input(\"Enter Floor Range: \")\n",
    "\n",
    "year = int(input(\"Current Year? \"))"
   ]
  },
  {
   "cell_type": "code",
   "execution_count": 127,
   "metadata": {
    "id": "4aSlhhmptnph"
   },
   "outputs": [],
   "source": [
    "district = get_postal_onemap(street, district_postal)"
   ]
  },
  {
   "cell_type": "code",
   "execution_count": 128,
   "metadata": {
    "colab": {
     "base_uri": "https://localhost:8080/",
     "height": 35
    },
    "id": "tpU9ujdW10nu",
    "outputId": "05db7c48-9695-40ed-ab75-474884ac848a"
   },
   "outputs": [
    {
     "data": {
      "text/plain": [
       "'14'"
      ]
     },
     "execution_count": 128,
     "metadata": {},
     "output_type": "execute_result"
    }
   ],
   "source": [
    "district"
   ]
  },
  {
   "cell_type": "code",
   "execution_count": 129,
   "metadata": {
    "id": "XG-UHeb2tnpi"
   },
   "outputs": [],
   "source": [
    "# Get all details \n",
    "#district = get_postal_onemap(street, district_postal)\n",
    "coordinates = get_lat_long(street)\n",
    "latitude = coordinates[0]\n",
    "longitude = coordinates[1]\n",
    "school = num_schools(int(district))\n",
    "hawkercentre = num_hawker(int(district))\n",
    "supermarkets = num_supermarkets(int(district))\n",
    "bus_stops_nearby = num_of_bus_stops(latitude, longitude)\n",
    "crime_number = crime_num(int(district))\n",
    "score = sentiment_score(int(district), year)"
   ]
  },
  {
   "cell_type": "code",
   "execution_count": 130,
   "metadata": {
    "id": "Q8vGVF7Gtnpj"
   },
   "outputs": [],
   "source": [
    "# Create temp dataframe to fit into model\n",
    "temp_column_names = ['district', 'street', 'propertyType', 'remaining_lease',\n",
    "                    'school', 'hawkercentre', 'supermarkets', 'Bus Stops Neaby',\n",
    "                    'crime_number', 'latitude', 'longitude', 'floor_area_sqm', 'floor_range',\n",
    "                    'sentiment']\n",
    "temp = pd.DataFrame(columns = temp_column_names)"
   ]
  },
  {
   "cell_type": "code",
   "execution_count": 131,
   "metadata": {
    "id": "vKhlXV8ctnpj"
   },
   "outputs": [],
   "source": [
    "temp = temp.append({'district': district, 'street': street, 'propertyType': propertyType, \n",
    "             'remaining_lease': remaining_lease,'school': school, 'hawkercentre': hawkercentre, \n",
    "             'supermarkets': supermarkets, 'Bus Stops Neaby': bus_stops_nearby,\n",
    "            'crime_number': crime_number, 'latitude': latitude, \n",
    "             'longitude': longitude, 'floor_area_sqm': floor_area_sqm, 'floor_range': floor_range,\n",
    "            'sentiment': score\n",
    "}, ignore_index = True)"
   ]
  },
  {
   "cell_type": "code",
   "execution_count": 132,
   "metadata": {
    "id": "OY3m4HztuvvS"
   },
   "outputs": [],
   "source": [
    "# Street, Property and Floor_range mapping\n",
    "import pickle\n",
    "street_mapping = pickle.load(open('/Users/vickiyew/Documents/BT4222/project/data/street_mapping.pickle', 'rb'))\n",
    "floor_mapping = pickle.load(open('/Users/vickiyew/Documents/BT4222/project/data/floor_mapping.pickle', 'rb'))\n",
    "property_mapping = pickle.load(open('/Users/vickiyew/Documents/BT4222/project/data/property_mapping.pickle', 'rb'))"
   ]
  },
  {
   "cell_type": "code",
   "execution_count": 133,
   "metadata": {
    "id": "ez72m_SPvmeC"
   },
   "outputs": [],
   "source": [
    "temp['street'] = temp['street'].str.upper()\n",
    "temp['street'] = temp['street'].map(street_mapping)\n",
    "temp['propertyType'] = temp['propertyType'].map(property_mapping)\n",
    "temp['floor_range'] = temp['floor_range'].map(floor_mapping)"
   ]
  },
  {
   "cell_type": "code",
   "execution_count": 134,
   "metadata": {
    "colab": {
     "base_uri": "https://localhost:8080/",
     "height": 80
    },
    "id": "m_DRRmNzv4wx",
    "outputId": "7b81baed-421f-49ca-e6d5-cef4352863bd"
   },
   "outputs": [
    {
     "data": {
      "text/html": [
       "<div>\n",
       "<style scoped>\n",
       "    .dataframe tbody tr th:only-of-type {\n",
       "        vertical-align: middle;\n",
       "    }\n",
       "\n",
       "    .dataframe tbody tr th {\n",
       "        vertical-align: top;\n",
       "    }\n",
       "\n",
       "    .dataframe thead th {\n",
       "        text-align: right;\n",
       "    }\n",
       "</style>\n",
       "<table border=\"1\" class=\"dataframe\">\n",
       "  <thead>\n",
       "    <tr style=\"text-align: right;\">\n",
       "      <th></th>\n",
       "      <th>district</th>\n",
       "      <th>street</th>\n",
       "      <th>propertyType</th>\n",
       "      <th>remaining_lease</th>\n",
       "      <th>school</th>\n",
       "      <th>hawkercentre</th>\n",
       "      <th>supermarkets</th>\n",
       "      <th>Bus Stops Neaby</th>\n",
       "      <th>crime_number</th>\n",
       "      <th>latitude</th>\n",
       "      <th>longitude</th>\n",
       "      <th>floor_area_sqm</th>\n",
       "      <th>floor_range</th>\n",
       "      <th>sentiment</th>\n",
       "    </tr>\n",
       "  </thead>\n",
       "  <tbody>\n",
       "    <tr>\n",
       "      <th>0</th>\n",
       "      <td>14</td>\n",
       "      <td>1065</td>\n",
       "      <td>15</td>\n",
       "      <td>999</td>\n",
       "      <td>29</td>\n",
       "      <td>7</td>\n",
       "      <td>14</td>\n",
       "      <td>1</td>\n",
       "      <td>167.714286</td>\n",
       "      <td>1.328467</td>\n",
       "      <td>103.914929</td>\n",
       "      <td>3341.11456</td>\n",
       "      <td>0</td>\n",
       "      <td>0.247077</td>\n",
       "    </tr>\n",
       "  </tbody>\n",
       "</table>\n",
       "</div>"
      ],
      "text/plain": [
       "  district  street  propertyType remaining_lease school hawkercentre  \\\n",
       "0       14    1065            15             999     29            7   \n",
       "\n",
       "  supermarkets Bus Stops Neaby  crime_number  latitude   longitude  \\\n",
       "0           14               1    167.714286  1.328467  103.914929   \n",
       "\n",
       "  floor_area_sqm  floor_range  sentiment  \n",
       "0     3341.11456            0   0.247077  "
      ]
     },
     "execution_count": 134,
     "metadata": {},
     "output_type": "execute_result"
    }
   ],
   "source": [
    "temp"
   ]
  },
  {
   "cell_type": "markdown",
   "metadata": {},
   "source": [
    "## Feature Cross (Latitude and Longitude)"
   ]
  },
  {
   "cell_type": "code",
   "execution_count": 135,
   "metadata": {},
   "outputs": [],
   "source": [
    "combined = '/Users/vickiyew/Desktop/bt4222_data/combined.csv'\n",
    "df = pd.read_csv(combined, index_col=0)\n",
    "df = df.reset_index(drop=True)\n",
    "\n",
    "# Label Encoding \n",
    "df['street'] = df['street'].astype('category')\n",
    "street_dict = dict(zip(df['street'], df['street'].cat.codes))\n",
    "df['street'] = df['street'].cat.codes\n",
    "\n",
    "df['propertyType'] = df['propertyType'].astype('category')\n",
    "property_dict = dict(zip(df['propertyType'], df['propertyType'].cat.codes))\n",
    "df['propertyType'] = df['propertyType'].cat.codes\n",
    "\n",
    "df['floor_range'] = df['floor_range'].astype('category')\n",
    "floor_dict = dict(zip(df['floor_range'], df['floor_range'].cat.codes))\n",
    "df['floor_range'] = df['floor_range'].cat.codes\n",
    "\n",
    "from sklearn.model_selection import train_test_split\n",
    "\n",
    "X_train, X_test, y_train, y_test = train_test_split(df.drop('price', axis=1),\n",
    "                                                    df['price'], \n",
    "                                                    test_size=0.2,\n",
    "                                                    random_state=1)\n",
    "\n"
   ]
  },
  {
   "cell_type": "code",
   "execution_count": 136,
   "metadata": {},
   "outputs": [],
   "source": [
    "_, longitude_boundaries = np.histogram(X_train['longitude'])\n",
    "_, latitude_boundaries = np.histogram(X_train['latitude'])\n",
    "\n",
    "def assign_bucket(x, ranges):\n",
    "    if x <= ranges[0]:\n",
    "        return 0\n",
    "    \n",
    "    for i in range(1, len(ranges) - 1):\n",
    "        if x <= ranges[i]:\n",
    "            return i - 1\n",
    "    return len(ranges) - 2\n",
    "\n",
    "X_train['lgt_discrete'] = X_train['longitude'].apply(lambda x: assign_bucket(x, longitude_boundaries))\n",
    "X_train['lat_discrete'] = X_train['latitude'].apply(lambda x: assign_bucket(x, latitude_boundaries))\n",
    "X_test['lgt_discrete'] = X_test['longitude'].apply(lambda x: assign_bucket(x, longitude_boundaries))\n",
    "X_test['lat_discrete'] = X_test['latitude'].apply(lambda x: assign_bucket(x, latitude_boundaries))"
   ]
  },
  {
   "cell_type": "code",
   "execution_count": 137,
   "metadata": {},
   "outputs": [],
   "source": [
    "from sklearn.preprocessing import OneHotEncoder\n",
    "enc = OneHotEncoder(categories='auto')\n",
    "features_lat_lgn_train = enc.fit_transform(X_train[['lgt_discrete', 'lat_discrete']]) # fit and transform TRAIN\n",
    "features_lat_lgn_test = enc.transform(X_test[['lgt_discrete', 'lat_discrete']]) # transform only TEST"
   ]
  },
  {
   "cell_type": "code",
   "execution_count": 138,
   "metadata": {},
   "outputs": [],
   "source": [
    "features_to_drop = ['longitude', 'latitude', 'lgt_discrete', 'lat_discrete']\n",
    "OHE_train = np.hstack((X_train.drop(features_to_drop, axis=1).values, features_lat_lgn_train.toarray()))\n",
    "OHE_test = np.hstack((X_test.drop(features_to_drop, axis=1).values, features_lat_lgn_test.toarray()))"
   ]
  },
  {
   "cell_type": "code",
   "execution_count": 139,
   "metadata": {},
   "outputs": [
    {
     "data": {
      "text/plain": [
       "array([2.00000000e+01, 1.94000000e+03, 8.00000000e+00, 8.08300000e+01,\n",
       "       3.70000000e+01, 1.10000000e+01, 5.00000000e+00, 0.00000000e+00,\n",
       "       1.22714286e+02, 1.41000000e+02, 1.00000000e+00, 7.01235837e-02,\n",
       "       0.00000000e+00, 0.00000000e+00, 0.00000000e+00, 1.00000000e+00,\n",
       "       0.00000000e+00, 0.00000000e+00, 0.00000000e+00, 0.00000000e+00,\n",
       "       0.00000000e+00, 0.00000000e+00, 0.00000000e+00, 0.00000000e+00,\n",
       "       0.00000000e+00, 0.00000000e+00, 0.00000000e+00, 0.00000000e+00,\n",
       "       0.00000000e+00, 0.00000000e+00, 0.00000000e+00, 1.00000000e+00])"
      ]
     },
     "execution_count": 139,
     "metadata": {},
     "output_type": "execute_result"
    }
   ],
   "source": [
    "OHE_test[0]"
   ]
  },
  {
   "cell_type": "markdown",
   "metadata": {},
   "source": [
    "## >> do feature cross for temp"
   ]
  },
  {
   "cell_type": "code",
   "execution_count": 140,
   "metadata": {},
   "outputs": [],
   "source": [
    "temp['lgt_discrete'] = temp['longitude'].apply(lambda x: assign_bucket(x, longitude_boundaries))\n",
    "temp['lat_discrete'] = temp['latitude'].apply(lambda x: assign_bucket(x, latitude_boundaries))\n",
    "features_lat_lgn_temp = enc.transform(temp[['lgt_discrete', 'lat_discrete']])"
   ]
  },
  {
   "cell_type": "code",
   "execution_count": 141,
   "metadata": {},
   "outputs": [],
   "source": [
    "features_to_drop = ['longitude', 'latitude', 'lgt_discrete', 'lat_discrete']\n",
    "OHE_temp = np.hstack((temp.drop(features_to_drop, axis=1).values, features_lat_lgn_temp.toarray()))"
   ]
  },
  {
   "cell_type": "code",
   "execution_count": 142,
   "metadata": {
    "scrolled": true
   },
   "outputs": [
    {
     "data": {
      "text/plain": [
       "array([['14', 1065, 15, 999, 29, 7, 14, 1, 167.71428571428572,\n",
       "        '3341.11456', 0, 0.2470765840220384, 0.0, 0.0, 0.0, 0.0, 0.0,\n",
       "        0.0, 0.0, 1.0, 0.0, 0.0, 0.0, 0.0, 0.0, 0.0, 1.0, 0.0, 0.0, 0.0,\n",
       "        0.0, 0.0]], dtype=object)"
      ]
     },
     "execution_count": 142,
     "metadata": {},
     "output_type": "execute_result"
    }
   ],
   "source": [
    "OHE_temp"
   ]
  },
  {
   "cell_type": "markdown",
   "metadata": {},
   "source": [
    "## Load Model \n",
    "> saved_model.sav can be found in our Github Repo: main > Models\n",
    "> Please download saved_model.sav and load it in the next cell:"
   ]
  },
  {
   "cell_type": "code",
   "execution_count": 143,
   "metadata": {},
   "outputs": [],
   "source": [
    "# load model\n",
    "loaded_model = pickle.load(open('/Users/vickiyew/Documents/BT4222/project/codebase/BT4222/Models/saved_model.sav', 'rb'))"
   ]
  },
  {
   "cell_type": "markdown",
   "metadata": {},
   "source": [
    "## Actual Price Prediction - Predict on OHE_temp"
   ]
  },
  {
   "cell_type": "code",
   "execution_count": 144,
   "metadata": {},
   "outputs": [
    {
     "name": "stdout",
     "output_type": "stream",
     "text": [
      "Predicted Price Per Sqft: $1601.4767\n"
     ]
    }
   ],
   "source": [
    "print('Predicted Price Per Sqft: $' + str(loaded_model.predict(OHE_temp)[0]))"
   ]
  },
  {
   "cell_type": "code",
   "execution_count": null,
   "metadata": {
    "id": "yODUJxwB0Cr6"
   },
   "outputs": [],
   "source": []
  },
  {
   "cell_type": "code",
   "execution_count": null,
   "metadata": {},
   "outputs": [],
   "source": []
  }
 ],
 "metadata": {
  "colab": {
   "name": "Model Prediction.ipynb",
   "provenance": []
  },
  "kernelspec": {
   "display_name": "Python 3",
   "language": "python",
   "name": "python3"
  },
  "language_info": {
   "codemirror_mode": {
    "name": "ipython",
    "version": 3
   },
   "file_extension": ".py",
   "mimetype": "text/x-python",
   "name": "python",
   "nbconvert_exporter": "python",
   "pygments_lexer": "ipython3",
   "version": "3.7.6"
  }
 },
 "nbformat": 4,
 "nbformat_minor": 1
}
