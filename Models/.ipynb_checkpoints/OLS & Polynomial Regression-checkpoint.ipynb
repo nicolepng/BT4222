{
 "cells": [
  {
   "cell_type": "markdown",
   "metadata": {},
   "source": [
    "### 1. Import data and revelant packages "
   ]
  },
  {
   "cell_type": "code",
   "execution_count": 1,
   "metadata": {},
   "outputs": [],
   "source": [
    "import matplotlib.pyplot as plt\n",
    "import numpy as np\n",
    "import pandas as pd\n",
    "import seaborn as sns\n",
    "import scipy.stats as stats\n",
    "import pickle\n",
    "from sklearn.linear_model import LinearRegression\n",
    "from sklearn.metrics import mean_absolute_error\n",
    "from sklearn.preprocessing import PolynomialFeatures\n",
    "from sklearn.model_selection import train_test_split\n",
    "from sklearn.preprocessing import MinMaxScaler"
   ]
  },
  {
   "cell_type": "code",
   "execution_count": 2,
   "metadata": {},
   "outputs": [
    {
     "data": {
      "text/html": [
       "<div>\n",
       "<style scoped>\n",
       "    .dataframe tbody tr th:only-of-type {\n",
       "        vertical-align: middle;\n",
       "    }\n",
       "\n",
       "    .dataframe tbody tr th {\n",
       "        vertical-align: top;\n",
       "    }\n",
       "\n",
       "    .dataframe thead th {\n",
       "        text-align: right;\n",
       "    }\n",
       "</style>\n",
       "<table border=\"1\" class=\"dataframe\">\n",
       "  <thead>\n",
       "    <tr style=\"text-align: right;\">\n",
       "      <th></th>\n",
       "      <th>district</th>\n",
       "      <th>street</th>\n",
       "      <th>propertyType</th>\n",
       "      <th>remaining_lease</th>\n",
       "      <th>school</th>\n",
       "      <th>hawkercentre</th>\n",
       "      <th>supermarkets</th>\n",
       "      <th>Bus Stops Nearby</th>\n",
       "      <th>crime_number</th>\n",
       "      <th>latitude</th>\n",
       "      <th>longitude</th>\n",
       "      <th>floor_range</th>\n",
       "      <th>sentiment</th>\n",
       "      <th>floor_area_sqft</th>\n",
       "      <th>price_psf</th>\n",
       "    </tr>\n",
       "  </thead>\n",
       "  <tbody>\n",
       "    <tr>\n",
       "      <th>0</th>\n",
       "      <td>5</td>\n",
       "      <td>ZEHNDER ROAD</td>\n",
       "      <td>Semi-detached</td>\n",
       "      <td>999.00</td>\n",
       "      <td>27</td>\n",
       "      <td>6</td>\n",
       "      <td>8</td>\n",
       "      <td>0</td>\n",
       "      <td>-1.0</td>\n",
       "      <td>1.282130</td>\n",
       "      <td>103.786879</td>\n",
       "      <td>~-</td>\n",
       "      <td>0.380502</td>\n",
       "      <td>5643.51277</td>\n",
       "      <td>974.570312</td>\n",
       "    </tr>\n",
       "    <tr>\n",
       "      <th>1</th>\n",
       "      <td>5</td>\n",
       "      <td>ZEHNDER ROAD</td>\n",
       "      <td>Semi-detached</td>\n",
       "      <td>999.00</td>\n",
       "      <td>27</td>\n",
       "      <td>6</td>\n",
       "      <td>8</td>\n",
       "      <td>0</td>\n",
       "      <td>-1.0</td>\n",
       "      <td>1.282130</td>\n",
       "      <td>103.786879</td>\n",
       "      <td>~-</td>\n",
       "      <td>0.123495</td>\n",
       "      <td>3315.28120</td>\n",
       "      <td>1508.167693</td>\n",
       "    </tr>\n",
       "    <tr>\n",
       "      <th>2</th>\n",
       "      <td>5</td>\n",
       "      <td>ZEHNDER ROAD</td>\n",
       "      <td>Semi-detached</td>\n",
       "      <td>999.00</td>\n",
       "      <td>27</td>\n",
       "      <td>6</td>\n",
       "      <td>8</td>\n",
       "      <td>0</td>\n",
       "      <td>-1.0</td>\n",
       "      <td>1.282130</td>\n",
       "      <td>103.786879</td>\n",
       "      <td>~-</td>\n",
       "      <td>0.123495</td>\n",
       "      <td>3379.86460</td>\n",
       "      <td>1405.381742</td>\n",
       "    </tr>\n",
       "    <tr>\n",
       "      <th>3</th>\n",
       "      <td>5</td>\n",
       "      <td>NEO PEE TECK LANE</td>\n",
       "      <td>Terrace</td>\n",
       "      <td>999.00</td>\n",
       "      <td>27</td>\n",
       "      <td>6</td>\n",
       "      <td>8</td>\n",
       "      <td>2</td>\n",
       "      <td>-1.0</td>\n",
       "      <td>1.292047</td>\n",
       "      <td>103.768591</td>\n",
       "      <td>~-</td>\n",
       "      <td>0.380502</td>\n",
       "      <td>1714.68927</td>\n",
       "      <td>1533.805597</td>\n",
       "    </tr>\n",
       "    <tr>\n",
       "      <th>4</th>\n",
       "      <td>4</td>\n",
       "      <td>COVE DRIVE</td>\n",
       "      <td>Condominium</td>\n",
       "      <td>85.25</td>\n",
       "      <td>11</td>\n",
       "      <td>3</td>\n",
       "      <td>2</td>\n",
       "      <td>0</td>\n",
       "      <td>-1.0</td>\n",
       "      <td>1.244208</td>\n",
       "      <td>103.827487</td>\n",
       "      <td>~01-05</td>\n",
       "      <td>0.173732</td>\n",
       "      <td>2088.19660</td>\n",
       "      <td>1522.845119</td>\n",
       "    </tr>\n",
       "  </tbody>\n",
       "</table>\n",
       "</div>"
      ],
      "text/plain": [
       "   district             street   propertyType  remaining_lease  school  \\\n",
       "0         5       ZEHNDER ROAD  Semi-detached           999.00      27   \n",
       "1         5       ZEHNDER ROAD  Semi-detached           999.00      27   \n",
       "2         5       ZEHNDER ROAD  Semi-detached           999.00      27   \n",
       "3         5  NEO PEE TECK LANE        Terrace           999.00      27   \n",
       "4         4         COVE DRIVE    Condominium            85.25      11   \n",
       "\n",
       "   hawkercentre  supermarkets  Bus Stops Nearby  crime_number  latitude  \\\n",
       "0             6             8                 0          -1.0  1.282130   \n",
       "1             6             8                 0          -1.0  1.282130   \n",
       "2             6             8                 0          -1.0  1.282130   \n",
       "3             6             8                 2          -1.0  1.292047   \n",
       "4             3             2                 0          -1.0  1.244208   \n",
       "\n",
       "    longitude floor_range  sentiment  floor_area_sqft    price_psf  \n",
       "0  103.786879          ~-   0.380502       5643.51277   974.570312  \n",
       "1  103.786879          ~-   0.123495       3315.28120  1508.167693  \n",
       "2  103.786879          ~-   0.123495       3379.86460  1405.381742  \n",
       "3  103.768591          ~-   0.380502       1714.68927  1533.805597  \n",
       "4  103.827487      ~01-05   0.173732       2088.19660  1522.845119  "
      ]
     },
     "execution_count": 2,
     "metadata": {},
     "output_type": "execute_result"
    }
   ],
   "source": [
    "combined = pd.read_csv('/Users/admin/Downloads/combined_psf.csv')\n",
    "combined = combined.drop(combined.columns[0], axis=1)\n",
    "combined.head()"
   ]
  },
  {
   "cell_type": "code",
   "execution_count": 3,
   "metadata": {},
   "outputs": [
    {
     "data": {
      "text/html": [
       "<div>\n",
       "<style scoped>\n",
       "    .dataframe tbody tr th:only-of-type {\n",
       "        vertical-align: middle;\n",
       "    }\n",
       "\n",
       "    .dataframe tbody tr th {\n",
       "        vertical-align: top;\n",
       "    }\n",
       "\n",
       "    .dataframe thead th {\n",
       "        text-align: right;\n",
       "    }\n",
       "</style>\n",
       "<table border=\"1\" class=\"dataframe\">\n",
       "  <thead>\n",
       "    <tr style=\"text-align: right;\">\n",
       "      <th></th>\n",
       "      <th>district</th>\n",
       "      <th>street</th>\n",
       "      <th>propertyType</th>\n",
       "      <th>remaining_lease</th>\n",
       "      <th>school</th>\n",
       "      <th>hawkercentre</th>\n",
       "      <th>supermarkets</th>\n",
       "      <th>Bus Stops Nearby</th>\n",
       "      <th>crime_number</th>\n",
       "      <th>latitude</th>\n",
       "      <th>longitude</th>\n",
       "      <th>floor_range</th>\n",
       "      <th>sentiment</th>\n",
       "      <th>floor_area_sqft</th>\n",
       "      <th>price_psf</th>\n",
       "    </tr>\n",
       "  </thead>\n",
       "  <tbody>\n",
       "    <tr>\n",
       "      <th>0</th>\n",
       "      <td>5</td>\n",
       "      <td>ZEHNDER ROAD</td>\n",
       "      <td>Semi-detached</td>\n",
       "      <td>999.00</td>\n",
       "      <td>27</td>\n",
       "      <td>6</td>\n",
       "      <td>8</td>\n",
       "      <td>0</td>\n",
       "      <td>-1.0</td>\n",
       "      <td>1.282130</td>\n",
       "      <td>103.786879</td>\n",
       "      <td>-</td>\n",
       "      <td>0.380502</td>\n",
       "      <td>5643.51277</td>\n",
       "      <td>974.570312</td>\n",
       "    </tr>\n",
       "    <tr>\n",
       "      <th>1</th>\n",
       "      <td>5</td>\n",
       "      <td>ZEHNDER ROAD</td>\n",
       "      <td>Semi-detached</td>\n",
       "      <td>999.00</td>\n",
       "      <td>27</td>\n",
       "      <td>6</td>\n",
       "      <td>8</td>\n",
       "      <td>0</td>\n",
       "      <td>-1.0</td>\n",
       "      <td>1.282130</td>\n",
       "      <td>103.786879</td>\n",
       "      <td>-</td>\n",
       "      <td>0.123495</td>\n",
       "      <td>3315.28120</td>\n",
       "      <td>1508.167693</td>\n",
       "    </tr>\n",
       "    <tr>\n",
       "      <th>2</th>\n",
       "      <td>5</td>\n",
       "      <td>ZEHNDER ROAD</td>\n",
       "      <td>Semi-detached</td>\n",
       "      <td>999.00</td>\n",
       "      <td>27</td>\n",
       "      <td>6</td>\n",
       "      <td>8</td>\n",
       "      <td>0</td>\n",
       "      <td>-1.0</td>\n",
       "      <td>1.282130</td>\n",
       "      <td>103.786879</td>\n",
       "      <td>-</td>\n",
       "      <td>0.123495</td>\n",
       "      <td>3379.86460</td>\n",
       "      <td>1405.381742</td>\n",
       "    </tr>\n",
       "    <tr>\n",
       "      <th>3</th>\n",
       "      <td>5</td>\n",
       "      <td>NEO PEE TECK LANE</td>\n",
       "      <td>Terrace</td>\n",
       "      <td>999.00</td>\n",
       "      <td>27</td>\n",
       "      <td>6</td>\n",
       "      <td>8</td>\n",
       "      <td>2</td>\n",
       "      <td>-1.0</td>\n",
       "      <td>1.292047</td>\n",
       "      <td>103.768591</td>\n",
       "      <td>-</td>\n",
       "      <td>0.380502</td>\n",
       "      <td>1714.68927</td>\n",
       "      <td>1533.805597</td>\n",
       "    </tr>\n",
       "    <tr>\n",
       "      <th>4</th>\n",
       "      <td>4</td>\n",
       "      <td>COVE DRIVE</td>\n",
       "      <td>Condominium</td>\n",
       "      <td>85.25</td>\n",
       "      <td>11</td>\n",
       "      <td>3</td>\n",
       "      <td>2</td>\n",
       "      <td>0</td>\n",
       "      <td>-1.0</td>\n",
       "      <td>1.244208</td>\n",
       "      <td>103.827487</td>\n",
       "      <td>01-05</td>\n",
       "      <td>0.173732</td>\n",
       "      <td>2088.19660</td>\n",
       "      <td>1522.845119</td>\n",
       "    </tr>\n",
       "  </tbody>\n",
       "</table>\n",
       "</div>"
      ],
      "text/plain": [
       "   district             street   propertyType  remaining_lease  school  \\\n",
       "0         5       ZEHNDER ROAD  Semi-detached           999.00      27   \n",
       "1         5       ZEHNDER ROAD  Semi-detached           999.00      27   \n",
       "2         5       ZEHNDER ROAD  Semi-detached           999.00      27   \n",
       "3         5  NEO PEE TECK LANE        Terrace           999.00      27   \n",
       "4         4         COVE DRIVE    Condominium            85.25      11   \n",
       "\n",
       "   hawkercentre  supermarkets  Bus Stops Nearby  crime_number  latitude  \\\n",
       "0             6             8                 0          -1.0  1.282130   \n",
       "1             6             8                 0          -1.0  1.282130   \n",
       "2             6             8                 0          -1.0  1.282130   \n",
       "3             6             8                 2          -1.0  1.292047   \n",
       "4             3             2                 0          -1.0  1.244208   \n",
       "\n",
       "    longitude floor_range  sentiment  floor_area_sqft    price_psf  \n",
       "0  103.786879           -   0.380502       5643.51277   974.570312  \n",
       "1  103.786879           -   0.123495       3315.28120  1508.167693  \n",
       "2  103.786879           -   0.123495       3379.86460  1405.381742  \n",
       "3  103.768591           -   0.380502       1714.68927  1533.805597  \n",
       "4  103.827487       01-05   0.173732       2088.19660  1522.845119  "
      ]
     },
     "execution_count": 3,
     "metadata": {},
     "output_type": "execute_result"
    }
   ],
   "source": [
    "combined['floor_range'] = combined['floor_range'].str.replace('~', '')\n",
    "combined.head()"
   ]
  },
  {
   "cell_type": "code",
   "execution_count": 4,
   "metadata": {},
   "outputs": [],
   "source": [
    "street_mapping = pickle.load(open('/Users/admin/Downloads/street_mapping.pickle', 'rb'))\n",
    "floor_mapping = pickle.load(open('/Users/admin/Downloads/floor_mapping.pickle', 'rb'))\n",
    "property_mapping = pickle.load(open('/Users/admin/Downloads/property_mapping.pickle', 'rb'))\n",
    "\n",
    "combined['street'] = combined['street'].str.upper()\n",
    "combined['street'] = combined['street'].map(street_mapping)\n",
    "combined['propertyType'] = combined['propertyType'].map(property_mapping)\n",
    "combined['floor_range'] = combined['floor_range'].map(floor_mapping)"
   ]
  },
  {
   "cell_type": "code",
   "execution_count": 5,
   "metadata": {},
   "outputs": [
    {
     "data": {
      "text/plain": [
       "district              int64\n",
       "street                int64\n",
       "propertyType          int64\n",
       "remaining_lease     float64\n",
       "school                int64\n",
       "hawkercentre          int64\n",
       "supermarkets          int64\n",
       "Bus Stops Nearby      int64\n",
       "crime_number        float64\n",
       "latitude            float64\n",
       "longitude           float64\n",
       "floor_range           int64\n",
       "sentiment           float64\n",
       "floor_area_sqft     float64\n",
       "price_psf           float64\n",
       "dtype: object"
      ]
     },
     "execution_count": 5,
     "metadata": {},
     "output_type": "execute_result"
    }
   ],
   "source": [
    "combined.dtypes"
   ]
  },
  {
   "cell_type": "code",
   "execution_count": 6,
   "metadata": {},
   "outputs": [],
   "source": [
    "X_train, X_test, y_train, y_test = train_test_split(combined.drop('price_psf', axis=1),\n",
    "                                                    combined['price_psf'], \n",
    "                                                    test_size=0.2,\n",
    "                                                    random_state=1)"
   ]
  },
  {
   "cell_type": "markdown",
   "metadata": {},
   "source": [
    "### 2. Linear Regression"
   ]
  },
  {
   "cell_type": "code",
   "execution_count": 7,
   "metadata": {},
   "outputs": [
    {
     "name": "stdout",
     "output_type": "stream",
     "text": [
      "(106952, 14)\n",
      "(26738, 14)\n"
     ]
    }
   ],
   "source": [
    "print(X_train.shape)\n",
    "print(X_test.shape)"
   ]
  },
  {
   "cell_type": "code",
   "execution_count": 8,
   "metadata": {},
   "outputs": [
    {
     "name": "stdout",
     "output_type": "stream",
     "text": [
      "(106952,)\n",
      "(26738,)\n"
     ]
    }
   ],
   "source": [
    "print(y_train.shape)\n",
    "print(y_test.shape)"
   ]
  },
  {
   "cell_type": "code",
   "execution_count": 9,
   "metadata": {},
   "outputs": [
    {
     "data": {
      "text/plain": [
       "108498     372.633433\n",
       "89796      470.445637\n",
       "87684      390.051309\n",
       "26955     1973.163821\n",
       "130330     360.249951\n",
       "             ...     \n",
       "73349      352.772025\n",
       "109259     419.973053\n",
       "50057      329.656267\n",
       "5192      1480.602635\n",
       "128037     481.407128\n",
       "Name: price_psf, Length: 106952, dtype: float64"
      ]
     },
     "execution_count": 9,
     "metadata": {},
     "output_type": "execute_result"
    }
   ],
   "source": [
    "y_train"
   ]
  },
  {
   "cell_type": "code",
   "execution_count": 10,
   "metadata": {},
   "outputs": [
    {
     "data": {
      "text/plain": [
       "district            False\n",
       "street              False\n",
       "propertyType        False\n",
       "remaining_lease     False\n",
       "school              False\n",
       "hawkercentre        False\n",
       "supermarkets        False\n",
       "Bus Stops Nearby    False\n",
       "crime_number        False\n",
       "latitude            False\n",
       "longitude           False\n",
       "floor_range         False\n",
       "sentiment           False\n",
       "floor_area_sqft     False\n",
       "dtype: bool"
      ]
     },
     "execution_count": 10,
     "metadata": {},
     "output_type": "execute_result"
    }
   ],
   "source": [
    "X_train.isnull().any()"
   ]
  },
  {
   "cell_type": "code",
   "execution_count": 11,
   "metadata": {},
   "outputs": [
    {
     "name": "stdout",
     "output_type": "stream",
     "text": [
      "(106952,)\n",
      "(26738,)\n"
     ]
    }
   ],
   "source": [
    "# Fit and transform X training and testing\n",
    "scaler = MinMaxScaler()\n",
    "col = ['remaining_lease', 'school', 'hawkercentre', 'supermarkets',\n",
    "      'Bus Stops Nearby', 'crime_number', 'floor_area_sqft']\n",
    "x = X_train[col].values\n",
    "x_scaled = scaler.fit_transform(x)\n",
    "df_temp = pd.DataFrame(x_scaled, columns = col, index = X_train.index)\n",
    "X_train[col] = df_temp\n",
    "\n",
    "x_test = X_test[col].values\n",
    "x_test_scaled = scaler.transform(x_test)\n",
    "df_temp = pd.DataFrame(x_test_scaled, columns = col, index = X_test.index)\n",
    "X_test[col] = df_temp\n",
    "\n",
    "# Fit and transform Y training and testing\n",
    "y_scaler = MinMaxScaler()\n",
    "y_train = y_scaler.fit_transform(y_train.values.reshape(-1,1)).reshape(1,-1)[0]\n",
    "y_test = y_scaler.transform(y_test.values.reshape(-1, 1)).reshape(1,-1)[0]\n",
    "\n",
    "print(y_train.shape)\n",
    "print(y_test.shape)"
   ]
  },
  {
   "cell_type": "code",
   "execution_count": 12,
   "metadata": {},
   "outputs": [
    {
     "data": {
      "text/plain": [
       "(106952,)"
      ]
     },
     "execution_count": 12,
     "metadata": {},
     "output_type": "execute_result"
    }
   ],
   "source": [
    "y_train.shape"
   ]
  },
  {
   "cell_type": "code",
   "execution_count": 13,
   "metadata": {},
   "outputs": [
    {
     "data": {
      "text/plain": [
       "LinearRegression()"
      ]
     },
     "execution_count": 13,
     "metadata": {},
     "output_type": "execute_result"
    }
   ],
   "source": [
    "# Creates a LinearRegression object (Ordinary least squares Linear Regression)\n",
    "lm = LinearRegression()\n",
    "\n",
    "lm.fit(X_train, y_train)"
   ]
  },
  {
   "cell_type": "markdown",
   "metadata": {},
   "source": [
    "### 2.1 Calculate Metrics for Base Model"
   ]
  },
  {
   "cell_type": "code",
   "execution_count": 14,
   "metadata": {},
   "outputs": [
    {
     "name": "stdout",
     "output_type": "stream",
     "text": [
      "training mse: 0.0029902011144000563, testing mse: 0.0030199954276857077\n",
      "training rmse: 0.054682731409468346, testing rmse: 0.054954485055231914\n"
     ]
    }
   ],
   "source": [
    "# Compute MSE\n",
    "def mse(y_predicted, y_true):\n",
    "    return np.mean(np.square(y_predicted - y_true))\n",
    "\n",
    "mse_training = mse(lm.predict(X_train), y_train)\n",
    "mse_testing = mse(lm.predict(X_test), y_test)\n",
    "\n",
    "print(\"training mse: {}, testing mse: {}\".format(mse_training, mse_testing))\n",
    "print(\"training rmse: {}, testing rmse: {}\".format(np.sqrt(mse_training), np.sqrt(mse_testing)))"
   ]
  },
  {
   "cell_type": "code",
   "execution_count": 15,
   "metadata": {},
   "outputs": [
    {
     "name": "stdout",
     "output_type": "stream",
     "text": [
      "training R2: 0.5985375916646334, testing R2: 0.6004054067669877\n",
      "training adjusted R2: 0.5984850329270899, testing adjusted R2: 0.6001960618466846\n"
     ]
    }
   ],
   "source": [
    "# Compute R2 and adjusted R2\n",
    "print(\"training R2: {}, testing R2: {}\".format(lm.score(X_train, y_train), lm.score(X_test, y_test)))\n",
    "print(\"training adjusted R2: {}, testing adjusted R2: {}\".format(\n",
    "    1 - (1-lm.score(X_train, y_train))*(len(y_train)-1)/(len(y_train)-X_train.shape[1]-1), \n",
    "    1 - (1-lm.score(X_test, y_test))*(len(y_test)-1)/(len(y_test)-X_test.shape[1]-1)))\n"
   ]
  },
  {
   "cell_type": "code",
   "execution_count": 16,
   "metadata": {},
   "outputs": [
    {
     "name": "stdout",
     "output_type": "stream",
     "text": [
      "training MAE: 0.03829035703628735, testing MAE: 0.038694705090596665\n"
     ]
    }
   ],
   "source": [
    "# Calculate MAE\n",
    "print(\"training MAE: {}, testing MAE: {}\".format(\n",
    "    mean_absolute_error(y_train, lm.predict(X_train)),\n",
    "    mean_absolute_error(y_test, lm.predict(X_test)),    \n",
    "))"
   ]
  },
  {
   "cell_type": "code",
   "execution_count": 17,
   "metadata": {},
   "outputs": [
    {
     "name": "stdout",
     "output_type": "stream",
     "text": [
      "training smape: 36.41888714276743, testing smape: 36.53088933136057\n"
     ]
    }
   ],
   "source": [
    "# Calculate sMAPE\n",
    "def smape(y_true, y_pred):\n",
    "    return 1/len(y_true) * np.sum(2 * np.abs(y_pred-y_true) / (np.abs(y_true) + np.abs(y_pred))*100)\n",
    "\n",
    "smape_training = smape(y_train, lm.predict(X_train))\n",
    "smape_testing = smape(y_test, lm.predict(X_test))\n",
    "print(\"training smape: {}, testing smape: {}\".format(smape_training, smape_testing))"
   ]
  },
  {
   "cell_type": "code",
   "execution_count": 18,
   "metadata": {},
   "outputs": [
    {
     "name": "stdout",
     "output_type": "stream",
     "text": [
      "training mape: inf, testing mape: 40.6935445372386\n"
     ]
    },
    {
     "name": "stderr",
     "output_type": "stream",
     "text": [
      "<ipython-input-18-bbc8ce926891>:3: RuntimeWarning: divide by zero encountered in true_divide\n",
      "  mape = np.mean(np.abs((y_actual - y_predicted)/y_actual))*100\n"
     ]
    }
   ],
   "source": [
    "# Calulate MAPE\n",
    "def MAPE(y_actual,y_predicted):\n",
    "    mape = np.mean(np.abs((y_actual - y_predicted)/y_actual))*100\n",
    "    return mape\n",
    "mape_training = MAPE(y_train, lm.predict(X_train))\n",
    "mape_testing = MAPE(y_test, lm.predict(X_test))\n",
    "print(\"training mape: {}, testing mape: {}\".format(mape_training, mape_testing))"
   ]
  },
  {
   "cell_type": "markdown",
   "metadata": {},
   "source": [
    "### 2.2 Residual Plot for Base Model"
   ]
  },
  {
   "cell_type": "code",
   "execution_count": 19,
   "metadata": {},
   "outputs": [
    {
     "name": "stderr",
     "output_type": "stream",
     "text": [
      "/opt/anaconda3/lib/python3.8/site-packages/seaborn/_decorators.py:36: FutureWarning: Pass the following variables as keyword args: x, y. From version 0.12, the only valid positional argument will be `data`, and passing other arguments without an explicit keyword will result in an error or misinterpretation.\n",
      "  warnings.warn(\n"
     ]
    },
    {
     "data": {
      "text/plain": [
       "Text(0.5, 1.0, 'Residual plot')"
      ]
     },
     "execution_count": 19,
     "metadata": {},
     "output_type": "execute_result"
    },
    {
     "data": {
      "image/png": "[encoded data removed]",
      "text/plain": [
       "<Figure size 432x288 with 1 Axes>"
      ]
     },
     "metadata": {
      "needs_background": "light"
     },
     "output_type": "display_data"
    }
   ],
   "source": [
    "# Residual plot\n",
    "sns.residplot(lm.predict(X_test).reshape(-1),y_test,lowess=True,\n",
    "                                  line_kws={'color': 'red', 'lw': 1, 'alpha': 1})\n",
    "plt.xlabel(\"Fitted values\")\n",
    "plt.title('Residual plot')"
   ]
  },
  {
   "cell_type": "code",
   "execution_count": 20,
   "metadata": {},
   "outputs": [
    {
     "name": "stdout",
     "output_type": "stream",
     "text": [
      "[-0.01310183  0.12891189  0.03474276 ...  0.09232683 -0.02011715\n",
      " -0.01369857]\n"
     ]
    },
    {
     "data": {
      "text/plain": [
       "Text(0.5, 1.0, 'Normal Q-Q Plot')"
      ]
     },
     "execution_count": 20,
     "metadata": {},
     "output_type": "execute_result"
    },
    {
     "data": {
      "image/png": "[encoded data removed]",
      "text/plain": [
       "<Figure size 504x504 with 1 Axes>"
      ]
     },
     "metadata": {
      "needs_background": "light"
     },
     "output_type": "display_data"
    }
   ],
   "source": [
    "# QQ Plot\n",
    "residuals = y_test - lm.predict(X_test).reshape(-1)\n",
    "print(residuals)\n",
    "plt.figure(figsize=(7,7))\n",
    "stats.probplot(residuals, dist=\"norm\", plot=plt)\n",
    "plt.title(\"Normal Q-Q Plot\")"
   ]
  },
  {
   "cell_type": "code",
   "execution_count": null,
   "metadata": {},
   "outputs": [
    {
     "name": "stderr",
     "output_type": "stream",
     "text": [
      "/opt/anaconda3/lib/python3.8/site-packages/seaborn/_decorators.py:36: FutureWarning: Pass the following variables as keyword args: x, y. From version 0.12, the only valid positional argument will be `data`, and passing other arguments without an explicit keyword will result in an error or misinterpretation.\n",
      "  warnings.warn(\n"
     ]
    }
   ],
   "source": [
    "# Scale Location Plot\n",
    "norm_residuals_abs_sqrt=np.sqrt(np.abs(residuals))\n",
    "\n",
    "plt.figure(figsize=(7,7))\n",
    "sns.regplot(lm.predict(X_test).reshape(-1), norm_residuals_abs_sqrt,\n",
    "              scatter=True,\n",
    "              lowess=True,\n",
    "              line_kws={'color': 'red', 'lw': 1, 'alpha': 0.8})\n",
    "plt.ylabel(\"Standarized residuals\")\n",
    "plt.xlabel(\"Fitted value\")"
   ]
  },
  {
   "cell_type": "markdown",
   "metadata": {},
   "source": [
    "### 2.3 Feature Cross"
   ]
  },
  {
   "cell_type": "code",
   "execution_count": null,
   "metadata": {},
   "outputs": [],
   "source": [
    "_, longitude_boundaries = np.histogram(X_train['longitude'])\n",
    "_, latitude_boundaries = np.histogram(X_train['latitude'])\n",
    "\n",
    "def assign_bucket(x, ranges):\n",
    "    if x <= ranges[0]:\n",
    "        return 0\n",
    "    \n",
    "    for i in range(1, len(ranges) - 1):\n",
    "        if x <= ranges[i]:\n",
    "            return i - 1\n",
    "    return len(ranges) - 2\n",
    "\n",
    "X_train['lgt_discrete'] = X_train['longitude'].apply(lambda x: assign_bucket(x, longitude_boundaries))\n",
    "X_train['lat_discrete'] = X_train['latitude'].apply(lambda x: assign_bucket(x, latitude_boundaries))\n",
    "X_test['lgt_discrete'] = X_test['longitude'].apply(lambda x: assign_bucket(x, longitude_boundaries))\n",
    "X_test['lat_discrete'] = X_test['latitude'].apply(lambda x: assign_bucket(x, latitude_boundaries))"
   ]
  },
  {
   "cell_type": "code",
   "execution_count": null,
   "metadata": {},
   "outputs": [],
   "source": [
    "from sklearn.preprocessing import OneHotEncoder\n",
    "enc = OneHotEncoder(categories='auto')\n",
    "features_lat_lgn_train = enc.fit_transform(X_train[['lgt_discrete', 'lat_discrete']]) # fit and transform TRAIN\n",
    "features_lat_lgn_test = enc.transform(X_test[['lgt_discrete', 'lat_discrete']]) # transform only TEST"
   ]
  },
  {
   "cell_type": "markdown",
   "metadata": {},
   "source": [
    "### 2.4 Error Metrics and Coefficients"
   ]
  },
  {
   "cell_type": "code",
   "execution_count": null,
   "metadata": {},
   "outputs": [],
   "source": [
    "features_to_drop = ['longitude', 'latitude', 'lgt_discrete', 'lat_discrete']\n",
    "OHE_train = np.hstack((X_train.drop(features_to_drop, axis=1).values, features_lat_lgn_train.toarray()))\n",
    "OHE_test = np.hstack((X_test.drop(features_to_drop, axis=1).values, features_lat_lgn_test.toarray()))\n",
    "\n",
    "lm.fit(OHE_train, y_train)\n",
    "\n",
    "mse_training = mse(lm.predict(OHE_train), y_train)\n",
    "mse_testing = mse(lm.predict(OHE_test), y_test)\n",
    "\n",
    "print(\"training mse: {}, testing mse: {}\".format(mse_training, mse_testing))\n",
    "print(\"training rmse: {}, testing rmse: {}\".format(np.sqrt(mse_training), np.sqrt(mse_testing)))"
   ]
  },
  {
   "cell_type": "code",
   "execution_count": null,
   "metadata": {},
   "outputs": [],
   "source": [
    "# Compute R2 and adjusted R2\n",
    "print(\"training R2: {}, testing R2: {}\".format(lm.score(OHE_train, y_train), lm.score(OHE_test, y_test)))\n",
    "print(\"training adjusted R2: {}, testing adjusted R2: {}\".format(\n",
    "    1 - (1-lm.score(OHE_train, y_train))*(len(y_train)-1)/(len(y_train)-OHE_train.shape[1]-1), \n",
    "    1 - (1-lm.score(OHE_test, y_test))*(len(y_test)-1)/(len(y_test)-OHE_test.shape[1]-1)))\n"
   ]
  },
  {
   "cell_type": "code",
   "execution_count": null,
   "metadata": {},
   "outputs": [],
   "source": [
    "# Calculate MAE\n",
    "print(\"training MAE: {}, testing MAE: {}\".format(\n",
    "    mean_absolute_error(y_train, lm.predict(OHE_train)),\n",
    "    mean_absolute_error(y_test, lm.predict(OHE_test)),    \n",
    "))"
   ]
  },
  {
   "cell_type": "code",
   "execution_count": null,
   "metadata": {},
   "outputs": [],
   "source": [
    "# Calculate sMAPE\n",
    "smape_training = smape(y_train, lm.predict(OHE_train))\n",
    "smape_testing = smape(y_test, lm.predict(OHE_test))\n",
    "print(\"training smape: {}, testing smape: {}\".format(smape_training, smape_testing))"
   ]
  },
  {
   "cell_type": "code",
   "execution_count": null,
   "metadata": {},
   "outputs": [],
   "source": [
    "# Calulate MAPE\n",
    "mape_training = MAPE(y_train, lm.predict(OHE_train))\n",
    "mape_testing = MAPE(y_test, lm.predict(OHE_test))\n",
    "print(\"training mape: {}, testing mape: {}\".format(mape_training, mape_testing))"
   ]
  },
  {
   "cell_type": "markdown",
   "metadata": {},
   "source": [
    "### 2.5 Residual Plots for Feature-Crossed Model"
   ]
  },
  {
   "cell_type": "code",
   "execution_count": null,
   "metadata": {},
   "outputs": [],
   "source": [
    "# Residual plot\n",
    "sns.residplot(lm.predict(OHE_test).reshape(-1),y_test,lowess=True,\n",
    "                                  line_kws={'color': 'red', 'lw': 1, 'alpha': 1})\n",
    "plt.xlabel(\"Fitted values\")\n",
    "plt.title('Residual plot')"
   ]
  },
  {
   "cell_type": "code",
   "execution_count": null,
   "metadata": {},
   "outputs": [],
   "source": [
    "# QQ Plot\n",
    "residuals = y_test - lm.predict(OHE_test).reshape(-1)\n",
    "print(residuals)\n",
    "plt.figure(figsize=(7,7))\n",
    "stats.probplot(residuals, dist=\"norm\", plot=plt)\n",
    "plt.title(\"Normal Q-Q Plot\")"
   ]
  },
  {
   "cell_type": "code",
   "execution_count": null,
   "metadata": {},
   "outputs": [],
   "source": [
    "# Scale Location Plot\n",
    "norm_residuals_abs_sqrt=np.sqrt(np.abs(residuals))\n",
    "\n",
    "plt.figure(figsize=(7,7))\n",
    "sns.regplot(lm.predict(OHE_test).reshape(-1).reshape(-1), norm_residuals_abs_sqrt,\n",
    "              scatter=True,\n",
    "              lowess=True,\n",
    "              line_kws={'color': 'red', 'lw': 1, 'alpha': 0.8})\n",
    "plt.ylabel(\"Standarized residuals\")\n",
    "plt.xlabel(\"Fitted value\")"
   ]
  },
  {
   "cell_type": "code",
   "execution_count": null,
   "metadata": {},
   "outputs": [],
   "source": [
    "pd.DataFrame([x for x in zip(list(X_train.drop(features_to_drop, axis=1).columns) \\\n",
    "              + [str(x) for x in range(31)], lm.coef_)], columns=['features', 'coefficients'])"
   ]
  },
  {
   "cell_type": "markdown",
   "metadata": {},
   "source": [
    "### 3. Polynomial Regression and Error Metrics"
   ]
  },
  {
   "cell_type": "code",
   "execution_count": null,
   "metadata": {},
   "outputs": [],
   "source": [
    "pre_process = PolynomialFeatures(degree=2)\n",
    "\n",
    "# Transform with OHE datasets\n",
    "X_poly = pre_process.fit_transform(OHE_train)\n",
    "X_test_poly = pre_process.transform(OHE_test)\n",
    "\n",
    "poly_model = LinearRegression()\n",
    "poly_model.fit(X_poly, y_train)\n",
    "\n",
    "mse_training = mse(poly_model.predict(X_poly), y_train)\n",
    "mse_testing = mse(poly_model.predict(X_test_poly), y_test)\n",
    "\n",
    "print(\"training mse: {}, testing mse: {}\".format(mse_training, mse_testing))\n",
    "print(\"training rmse: {}, testing rmse: {}\".format(np.sqrt(mse_training), np.sqrt(mse_testing)))"
   ]
  },
  {
   "cell_type": "code",
   "execution_count": null,
   "metadata": {},
   "outputs": [],
   "source": [
    "# Compute R2 and adjusted R2\n",
    "print(\"training R2: {}, testing R2: {}\".format(poly_model.score(X_poly, y_train), \n",
    "                                               poly_model.score(X_test_poly, y_test)))\n",
    "print(\"training adjusted R2: {}, testing adjusted R2: {}\".format(\n",
    "    1 - (1-poly_model.score(X_poly, y_train))*(len(y_train)-1)/(len(y_train)-X_poly.shape[1]-1), \n",
    "    1 - (1-poly_model.score(X_test_poly, y_test))*(len(y_test)-1)/(len(y_test)-X_test_poly.shape[1]-1)))\n"
   ]
  },
  {
   "cell_type": "code",
   "execution_count": null,
   "metadata": {},
   "outputs": [],
   "source": [
    "# Calculate MAE\n",
    "print(\"training MAE: {}, testing MAE: {}\".format(\n",
    "    mean_absolute_error(y_train, poly_model.predict(X_poly)),\n",
    "    mean_absolute_error(y_test, poly_model.predict(X_test_poly)),    \n",
    "))"
   ]
  },
  {
   "cell_type": "code",
   "execution_count": null,
   "metadata": {},
   "outputs": [],
   "source": [
    "# Calculate sMAPE\n",
    "smape_training = smape(y_train, poly_model.predict(X_poly))\n",
    "smape_testing = smape(y_test, poly_model.predict(X_test_poly))\n",
    "print(\"training smape: {}, testing smape: {}\".format(smape_training, smape_testing))"
   ]
  },
  {
   "cell_type": "code",
   "execution_count": null,
   "metadata": {},
   "outputs": [],
   "source": [
    "# Calculate MAPE\n",
    "mape_training = MAPE(y_train, poly_model.predict(X_poly))\n",
    "mape_testing = MAPE(y_test, poly_model.predict(X_test_poly))\n",
    "print(\"training mape: {}, testing mape: {}\".format(mape_training, mape_testing))"
   ]
  },
  {
   "cell_type": "code",
   "execution_count": null,
   "metadata": {},
   "outputs": [],
   "source": [
    "pd.DataFrame([x for x in zip(list(X_train.drop(features_to_drop, axis=1).columns) \\\n",
    "              + [str(x) for x in range(31)], poly_model.coef_)], columns=['features', 'coefficients'])"
   ]
  }
 ],
 "metadata": {
  "kernelspec": {
   "display_name": "Python 3",
   "language": "python",
   "name": "python3"
  },
  "language_info": {
   "codemirror_mode": {
    "name": "ipython",
    "version": 3
   },
   "file_extension": ".py",
   "mimetype": "text/x-python",
   "name": "python",
   "nbconvert_exporter": "python",
   "pygments_lexer": "ipython3",
   "version": "3.8.3"
  }
 },
 "nbformat": 4,
 "nbformat_minor": 4
}
