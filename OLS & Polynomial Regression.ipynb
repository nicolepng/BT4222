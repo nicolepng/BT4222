{
 "cells": [
  {
   "cell_type": "markdown",
   "metadata": {},
   "source": [
    "### 1. Import data and revelant packages "
   ]
  },
  {
   "cell_type": "code",
   "execution_count": 10,
   "metadata": {},
   "outputs": [],
   "source": [
    "import pandas as pd\n",
    "import numpy as np\n",
    "import matplotlib.pyplot as plt"
   ]
  },
  {
   "cell_type": "code",
   "execution_count": 8,
   "metadata": {},
   "outputs": [
    {
     "data": {
      "text/html": [
       "<div>\n",
       "<style scoped>\n",
       "    .dataframe tbody tr th:only-of-type {\n",
       "        vertical-align: middle;\n",
       "    }\n",
       "\n",
       "    .dataframe tbody tr th {\n",
       "        vertical-align: top;\n",
       "    }\n",
       "\n",
       "    .dataframe thead th {\n",
       "        text-align: right;\n",
       "    }\n",
       "</style>\n",
       "<table border=\"1\" class=\"dataframe\">\n",
       "  <thead>\n",
       "    <tr style=\"text-align: right;\">\n",
       "      <th></th>\n",
       "      <th>district</th>\n",
       "      <th>street</th>\n",
       "      <th>propertyType</th>\n",
       "      <th>remaining_lease</th>\n",
       "      <th>price</th>\n",
       "      <th>school</th>\n",
       "      <th>hawkercentre</th>\n",
       "      <th>supermarkets</th>\n",
       "      <th>Bus Stops Nearby</th>\n",
       "      <th>crime_number</th>\n",
       "      <th>latitude</th>\n",
       "      <th>longitude</th>\n",
       "      <th>floor_area_sqm</th>\n",
       "      <th>floor_range</th>\n",
       "    </tr>\n",
       "  </thead>\n",
       "  <tbody>\n",
       "    <tr>\n",
       "      <th>0</th>\n",
       "      <td>5</td>\n",
       "      <td>ZEHNDER ROAD</td>\n",
       "      <td>Semi-detached</td>\n",
       "      <td>Freehold</td>\n",
       "      <td>5500000.0</td>\n",
       "      <td>['HILLGROVE SECONDARY SCHOOL', 'QUEENSTOWN SEC...</td>\n",
       "      <td>['Pasir Panjang Food Centre', 'Clementi West S...</td>\n",
       "      <td>['NTUC FAIRPRICE CO-OPERATIVE LTD', 'COLD STOR...</td>\n",
       "      <td>0</td>\n",
       "      <td>NaN</td>\n",
       "      <td>1.282130</td>\n",
       "      <td>103.786879</td>\n",
       "      <td>524.3</td>\n",
       "      <td>-</td>\n",
       "    </tr>\n",
       "    <tr>\n",
       "      <th>1</th>\n",
       "      <td>5</td>\n",
       "      <td>ZEHNDER ROAD</td>\n",
       "      <td>Semi-detached</td>\n",
       "      <td>Freehold</td>\n",
       "      <td>5000000.0</td>\n",
       "      <td>['HILLGROVE SECONDARY SCHOOL', 'QUEENSTOWN SEC...</td>\n",
       "      <td>['Pasir Panjang Food Centre', 'Clementi West S...</td>\n",
       "      <td>['NTUC FAIRPRICE CO-OPERATIVE LTD', 'COLD STOR...</td>\n",
       "      <td>0</td>\n",
       "      <td>NaN</td>\n",
       "      <td>1.282130</td>\n",
       "      <td>103.786879</td>\n",
       "      <td>308.0</td>\n",
       "      <td>-</td>\n",
       "    </tr>\n",
       "    <tr>\n",
       "      <th>2</th>\n",
       "      <td>5</td>\n",
       "      <td>ZEHNDER ROAD</td>\n",
       "      <td>Semi-detached</td>\n",
       "      <td>Freehold</td>\n",
       "      <td>4750000.0</td>\n",
       "      <td>['HILLGROVE SECONDARY SCHOOL', 'QUEENSTOWN SEC...</td>\n",
       "      <td>['Pasir Panjang Food Centre', 'Clementi West S...</td>\n",
       "      <td>['NTUC FAIRPRICE CO-OPERATIVE LTD', 'COLD STOR...</td>\n",
       "      <td>0</td>\n",
       "      <td>NaN</td>\n",
       "      <td>1.282130</td>\n",
       "      <td>103.786879</td>\n",
       "      <td>314.0</td>\n",
       "      <td>-</td>\n",
       "    </tr>\n",
       "    <tr>\n",
       "      <th>3</th>\n",
       "      <td>5</td>\n",
       "      <td>NEO PEE TECK LANE</td>\n",
       "      <td>Terrace</td>\n",
       "      <td>Freehold</td>\n",
       "      <td>2630000.0</td>\n",
       "      <td>['HILLGROVE SECONDARY SCHOOL', 'QUEENSTOWN SEC...</td>\n",
       "      <td>['Pasir Panjang Food Centre', 'Clementi West S...</td>\n",
       "      <td>['NTUC FAIRPRICE CO-OPERATIVE LTD', 'COLD STOR...</td>\n",
       "      <td>2</td>\n",
       "      <td>NaN</td>\n",
       "      <td>1.292047</td>\n",
       "      <td>103.768591</td>\n",
       "      <td>159.3</td>\n",
       "      <td>-</td>\n",
       "    </tr>\n",
       "    <tr>\n",
       "      <th>4</th>\n",
       "      <td>4</td>\n",
       "      <td>COVE DRIVE</td>\n",
       "      <td>Condominium</td>\n",
       "      <td>84 years 11 months</td>\n",
       "      <td>2800000.0</td>\n",
       "      <td>['FAIRFIELD METHODIST SCHOOL (SECONDARY)', 'QU...</td>\n",
       "      <td>['Telok Blangah Drive Blk 82 (Telok Blangah Ma...</td>\n",
       "      <td>['NTUC FAIRPRICE CO-OPERATIVE LTD', 'THE QUALI...</td>\n",
       "      <td>0</td>\n",
       "      <td>NaN</td>\n",
       "      <td>1.244208</td>\n",
       "      <td>103.827487</td>\n",
       "      <td>223.0</td>\n",
       "      <td>01-05</td>\n",
       "    </tr>\n",
       "  </tbody>\n",
       "</table>\n",
       "</div>"
      ],
      "text/plain": [
       "   district             street   propertyType     remaining_lease      price  \\\n",
       "0         5       ZEHNDER ROAD  Semi-detached            Freehold  5500000.0   \n",
       "1         5       ZEHNDER ROAD  Semi-detached            Freehold  5000000.0   \n",
       "2         5       ZEHNDER ROAD  Semi-detached            Freehold  4750000.0   \n",
       "3         5  NEO PEE TECK LANE        Terrace            Freehold  2630000.0   \n",
       "4         4         COVE DRIVE    Condominium  84 years 11 months  2800000.0   \n",
       "\n",
       "                                              school  \\\n",
       "0  ['HILLGROVE SECONDARY SCHOOL', 'QUEENSTOWN SEC...   \n",
       "1  ['HILLGROVE SECONDARY SCHOOL', 'QUEENSTOWN SEC...   \n",
       "2  ['HILLGROVE SECONDARY SCHOOL', 'QUEENSTOWN SEC...   \n",
       "3  ['HILLGROVE SECONDARY SCHOOL', 'QUEENSTOWN SEC...   \n",
       "4  ['FAIRFIELD METHODIST SCHOOL (SECONDARY)', 'QU...   \n",
       "\n",
       "                                        hawkercentre  \\\n",
       "0  ['Pasir Panjang Food Centre', 'Clementi West S...   \n",
       "1  ['Pasir Panjang Food Centre', 'Clementi West S...   \n",
       "2  ['Pasir Panjang Food Centre', 'Clementi West S...   \n",
       "3  ['Pasir Panjang Food Centre', 'Clementi West S...   \n",
       "4  ['Telok Blangah Drive Blk 82 (Telok Blangah Ma...   \n",
       "\n",
       "                                        supermarkets  Bus Stops Nearby  \\\n",
       "0  ['NTUC FAIRPRICE CO-OPERATIVE LTD', 'COLD STOR...                 0   \n",
       "1  ['NTUC FAIRPRICE CO-OPERATIVE LTD', 'COLD STOR...                 0   \n",
       "2  ['NTUC FAIRPRICE CO-OPERATIVE LTD', 'COLD STOR...                 0   \n",
       "3  ['NTUC FAIRPRICE CO-OPERATIVE LTD', 'COLD STOR...                 2   \n",
       "4  ['NTUC FAIRPRICE CO-OPERATIVE LTD', 'THE QUALI...                 0   \n",
       "\n",
       "   crime_number  latitude   longitude  floor_area_sqm floor_range  \n",
       "0           NaN  1.282130  103.786879           524.3           -  \n",
       "1           NaN  1.282130  103.786879           308.0           -  \n",
       "2           NaN  1.282130  103.786879           314.0           -  \n",
       "3           NaN  1.292047  103.768591           159.3           -  \n",
       "4           NaN  1.244208  103.827487           223.0       01-05  "
      ]
     },
     "execution_count": 8,
     "metadata": {},
     "output_type": "execute_result"
    }
   ],
   "source": [
    "df = pd.read_csv('/Users/admin/Desktop/Y3S2/BT4222/combined.csv')\n",
    "df.head()"
   ]
  },
  {
   "cell_type": "code",
   "execution_count": 9,
   "metadata": {},
   "outputs": [
    {
     "data": {
      "text/html": [
       "<div>\n",
       "<style scoped>\n",
       "    .dataframe tbody tr th:only-of-type {\n",
       "        vertical-align: middle;\n",
       "    }\n",
       "\n",
       "    .dataframe tbody tr th {\n",
       "        vertical-align: top;\n",
       "    }\n",
       "\n",
       "    .dataframe thead th {\n",
       "        text-align: right;\n",
       "    }\n",
       "</style>\n",
       "<table border=\"1\" class=\"dataframe\">\n",
       "  <thead>\n",
       "    <tr style=\"text-align: right;\">\n",
       "      <th></th>\n",
       "      <th>district</th>\n",
       "      <th>price</th>\n",
       "      <th>Bus Stops Nearby</th>\n",
       "      <th>crime_number</th>\n",
       "      <th>latitude</th>\n",
       "      <th>longitude</th>\n",
       "      <th>floor_area_sqm</th>\n",
       "    </tr>\n",
       "  </thead>\n",
       "  <tbody>\n",
       "    <tr>\n",
       "      <th>count</th>\n",
       "      <td>132607.000000</td>\n",
       "      <td>1.326070e+05</td>\n",
       "      <td>132607.000000</td>\n",
       "      <td>122560.000000</td>\n",
       "      <td>132607.000000</td>\n",
       "      <td>132607.000000</td>\n",
       "      <td>132607.000000</td>\n",
       "    </tr>\n",
       "    <tr>\n",
       "      <th>mean</th>\n",
       "      <td>18.193391</td>\n",
       "      <td>9.562546e+05</td>\n",
       "      <td>0.121479</td>\n",
       "      <td>134.318621</td>\n",
       "      <td>1.358879</td>\n",
       "      <td>103.845187</td>\n",
       "      <td>114.282205</td>\n",
       "    </tr>\n",
       "    <tr>\n",
       "      <th>std</th>\n",
       "      <td>5.345945</td>\n",
       "      <td>1.622821e+06</td>\n",
       "      <td>0.362613</td>\n",
       "      <td>47.645843</td>\n",
       "      <td>0.043521</td>\n",
       "      <td>0.068382</td>\n",
       "      <td>88.556745</td>\n",
       "    </tr>\n",
       "    <tr>\n",
       "      <th>min</th>\n",
       "      <td>1.000000</td>\n",
       "      <td>4.000000e+04</td>\n",
       "      <td>0.000000</td>\n",
       "      <td>35.428571</td>\n",
       "      <td>1.239641</td>\n",
       "      <td>103.687191</td>\n",
       "      <td>24.000000</td>\n",
       "    </tr>\n",
       "    <tr>\n",
       "      <th>25%</th>\n",
       "      <td>16.000000</td>\n",
       "      <td>3.700000e+05</td>\n",
       "      <td>0.000000</td>\n",
       "      <td>122.714286</td>\n",
       "      <td>1.326058</td>\n",
       "      <td>103.793446</td>\n",
       "      <td>84.000000</td>\n",
       "    </tr>\n",
       "    <tr>\n",
       "      <th>50%</th>\n",
       "      <td>20.000000</td>\n",
       "      <td>5.000000e+05</td>\n",
       "      <td>0.000000</td>\n",
       "      <td>122.714286</td>\n",
       "      <td>1.355269</td>\n",
       "      <td>103.847709</td>\n",
       "      <td>102.000000</td>\n",
       "    </tr>\n",
       "    <tr>\n",
       "      <th>75%</th>\n",
       "      <td>20.000000</td>\n",
       "      <td>9.350000e+05</td>\n",
       "      <td>0.000000</td>\n",
       "      <td>169.428571</td>\n",
       "      <td>1.389063</td>\n",
       "      <td>103.898665</td>\n",
       "      <td>121.000000</td>\n",
       "    </tr>\n",
       "    <tr>\n",
       "      <th>max</th>\n",
       "      <td>28.000000</td>\n",
       "      <td>1.090000e+08</td>\n",
       "      <td>2.000000</td>\n",
       "      <td>226.000000</td>\n",
       "      <td>1.460839</td>\n",
       "      <td>103.987293</td>\n",
       "      <td>4836.400000</td>\n",
       "    </tr>\n",
       "  </tbody>\n",
       "</table>\n",
       "</div>"
      ],
      "text/plain": [
       "            district         price  Bus Stops Nearby   crime_number  \\\n",
       "count  132607.000000  1.326070e+05     132607.000000  122560.000000   \n",
       "mean       18.193391  9.562546e+05          0.121479     134.318621   \n",
       "std         5.345945  1.622821e+06          0.362613      47.645843   \n",
       "min         1.000000  4.000000e+04          0.000000      35.428571   \n",
       "25%        16.000000  3.700000e+05          0.000000     122.714286   \n",
       "50%        20.000000  5.000000e+05          0.000000     122.714286   \n",
       "75%        20.000000  9.350000e+05          0.000000     169.428571   \n",
       "max        28.000000  1.090000e+08          2.000000     226.000000   \n",
       "\n",
       "            latitude      longitude  floor_area_sqm  \n",
       "count  132607.000000  132607.000000   132607.000000  \n",
       "mean        1.358879     103.845187      114.282205  \n",
       "std         0.043521       0.068382       88.556745  \n",
       "min         1.239641     103.687191       24.000000  \n",
       "25%         1.326058     103.793446       84.000000  \n",
       "50%         1.355269     103.847709      102.000000  \n",
       "75%         1.389063     103.898665      121.000000  \n",
       "max         1.460839     103.987293     4836.400000  "
      ]
     },
     "execution_count": 9,
     "metadata": {},
     "output_type": "execute_result"
    }
   ],
   "source": [
    "df.describe()"
   ]
  },
  {
   "cell_type": "code",
   "execution_count": 17,
   "metadata": {},
   "outputs": [
    {
     "data": {
      "text/plain": [
       "Index(['district', 'street', 'propertyType', 'remaining_lease', 'price',\n",
       "       'school', 'hawkercentre', 'supermarkets', 'Bus Stops Nearby',\n",
       "       'crime_number', 'latitude', 'longitude', 'floor_area_sqm',\n",
       "       'floor_range'],\n",
       "      dtype='object')"
      ]
     },
     "execution_count": 17,
     "metadata": {},
     "output_type": "execute_result"
    }
   ],
   "source": [
    "df.columns"
   ]
  },
  {
   "cell_type": "markdown",
   "metadata": {},
   "source": [
    "### 2. Plot charts to see if there are relations between each variable with price"
   ]
  },
  {
   "cell_type": "markdown",
   "metadata": {},
   "source": [
    "#### 2.1 Categorical Variables\n",
    "- district \n",
    "- street\n",
    "- propertyType"
   ]
  },
  {
   "cell_type": "code",
   "execution_count": 16,
   "metadata": {},
   "outputs": [
    {
     "data": {
      "text/plain": [
       "<seaborn.axisgrid.FacetGrid at 0x7f82fcfeda00>"
      ]
     },
     "execution_count": 16,
     "metadata": {},
     "output_type": "execute_result"
    },
    {
     "data": {
      "image/png": "[encoded data removed]",
      "text/plain": [
       "<Figure size 842.4x595.44 with 1 Axes>"
      ]
     },
     "metadata": {},
     "output_type": "display_data"
    }
   ],
   "source": [
    "# Relationship between propertyType and price \n",
    "import seaborn as sns\n",
    "ax = sns.catplot(data=df, x='propertyType', y='price', height=8.27, aspect=11.7/8.27)\n",
    "ax.set_xticklabels(rotation=40, ha=\"right\")"
   ]
  },
  {
   "cell_type": "code",
   "execution_count": 18,
   "metadata": {},
   "outputs": [
    {
     "name": "stdout",
     "output_type": "stream",
     "text": [
      "['street', 'propertyType', 'remaining_lease', 'school', 'hawkercentre', 'supermarkets', 'floor_range']\n"
     ]
    }
   ],
   "source": [
    "categorical_features = [feature for feature in df.columns if\n",
    "                       df[feature].dtypes == 'O']\n",
    "print(categorical_features)"
   ]
  },
  {
   "cell_type": "code",
   "execution_count": 20,
   "metadata": {},
   "outputs": [],
   "source": [
    "categorical_features.remove('floor_range')\n",
    "categorical_features.remove('remaining_lease')"
   ]
  },
  {
   "cell_type": "code",
   "execution_count": null,
   "metadata": {},
   "outputs": [],
   "source": [
    "ax = sns.catplot(data=df, x='street', y='price', height=8.27, aspect=11.7/8.27)\n",
    "ax.set_xticklabels(rotation=40, ha=\"right\")"
   ]
  },
  {
   "cell_type": "code",
   "execution_count": null,
   "metadata": {},
   "outputs": [],
   "source": [
    "ax = sns.catplot(data=df, x='floor_range', y='price', height=8.27, aspect=11.7/8.27)\n",
    "ax.set_xticklabels(rotation=40, ha=\"right\")"
   ]
  },
  {
   "cell_type": "markdown",
   "metadata": {},
   "source": [
    "#### 2.2 Multicollinearity"
   ]
  },
  {
   "cell_type": "code",
   "execution_count": null,
   "metadata": {},
   "outputs": [],
   "source": [
    "sns.heatmap(df_new.corr(), annot = True, vmin=-1, vmax=1, center= 0, cmap= 'coolwarm')"
   ]
  }
 ],
 "metadata": {
  "kernelspec": {
   "display_name": "Python 3",
   "language": "python",
   "name": "python3"
  },
  "language_info": {
   "codemirror_mode": {
    "name": "ipython",
    "version": 3
   },
   "file_extension": ".py",
   "mimetype": "text/x-python",
   "name": "python",
   "nbconvert_exporter": "python",
   "pygments_lexer": "ipython3",
   "version": "3.8.3"
  }
 },
 "nbformat": 4,
 "nbformat_minor": 4
}
