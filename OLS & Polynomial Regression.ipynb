{
 "cells": [
  {
   "cell_type": "markdown",
   "metadata": {},
   "source": [
    "### 1. Import data and revelant packages "
   ]
  },
  {
   "cell_type": "code",
   "execution_count": 1,
   "metadata": {},
   "outputs": [],
   "source": [
    "import matplotlib.pyplot as plt\n",
    "import numpy as np\n",
    "import pandas as pd\n",
    "import seaborn as sns"
   ]
  },
  {
   "cell_type": "code",
   "execution_count": 2,
   "metadata": {},
   "outputs": [
    {
     "data": {
      "text/html": [
       "<div>\n",
       "<style scoped>\n",
       "    .dataframe tbody tr th:only-of-type {\n",
       "        vertical-align: middle;\n",
       "    }\n",
       "\n",
       "    .dataframe tbody tr th {\n",
       "        vertical-align: top;\n",
       "    }\n",
       "\n",
       "    .dataframe thead th {\n",
       "        text-align: right;\n",
       "    }\n",
       "</style>\n",
       "<table border=\"1\" class=\"dataframe\">\n",
       "  <thead>\n",
       "    <tr style=\"text-align: right;\">\n",
       "      <th></th>\n",
       "      <th>district</th>\n",
       "      <th>street</th>\n",
       "      <th>propertyType</th>\n",
       "      <th>remaining_lease</th>\n",
       "      <th>price</th>\n",
       "      <th>school</th>\n",
       "      <th>hawkercentre</th>\n",
       "      <th>supermarkets</th>\n",
       "      <th>Bus Stops Nearby</th>\n",
       "      <th>crime_number</th>\n",
       "      <th>latitude</th>\n",
       "      <th>longitude</th>\n",
       "      <th>floor_area_sqm</th>\n",
       "      <th>floor_range</th>\n",
       "    </tr>\n",
       "  </thead>\n",
       "  <tbody>\n",
       "    <tr>\n",
       "      <th>0</th>\n",
       "      <td>5</td>\n",
       "      <td>ZEHNDER ROAD</td>\n",
       "      <td>Semi-detached</td>\n",
       "      <td>inf</td>\n",
       "      <td>5500000.0</td>\n",
       "      <td>['HILLGROVE SECONDARY SCHOOL', 'QUEENSTOWN SEC...</td>\n",
       "      <td>['Pasir Panjang Food Centre', 'Clementi West S...</td>\n",
       "      <td>['NTUC FAIRPRICE CO-OPERATIVE LTD', 'COLD STOR...</td>\n",
       "      <td>0</td>\n",
       "      <td>NaN</td>\n",
       "      <td>1.282130</td>\n",
       "      <td>103.786879</td>\n",
       "      <td>524.3</td>\n",
       "      <td>-</td>\n",
       "    </tr>\n",
       "    <tr>\n",
       "      <th>1</th>\n",
       "      <td>5</td>\n",
       "      <td>ZEHNDER ROAD</td>\n",
       "      <td>Semi-detached</td>\n",
       "      <td>inf</td>\n",
       "      <td>5000000.0</td>\n",
       "      <td>['HILLGROVE SECONDARY SCHOOL', 'QUEENSTOWN SEC...</td>\n",
       "      <td>['Pasir Panjang Food Centre', 'Clementi West S...</td>\n",
       "      <td>['NTUC FAIRPRICE CO-OPERATIVE LTD', 'COLD STOR...</td>\n",
       "      <td>0</td>\n",
       "      <td>NaN</td>\n",
       "      <td>1.282130</td>\n",
       "      <td>103.786879</td>\n",
       "      <td>308.0</td>\n",
       "      <td>-</td>\n",
       "    </tr>\n",
       "    <tr>\n",
       "      <th>2</th>\n",
       "      <td>5</td>\n",
       "      <td>ZEHNDER ROAD</td>\n",
       "      <td>Semi-detached</td>\n",
       "      <td>inf</td>\n",
       "      <td>4750000.0</td>\n",
       "      <td>['HILLGROVE SECONDARY SCHOOL', 'QUEENSTOWN SEC...</td>\n",
       "      <td>['Pasir Panjang Food Centre', 'Clementi West S...</td>\n",
       "      <td>['NTUC FAIRPRICE CO-OPERATIVE LTD', 'COLD STOR...</td>\n",
       "      <td>0</td>\n",
       "      <td>NaN</td>\n",
       "      <td>1.282130</td>\n",
       "      <td>103.786879</td>\n",
       "      <td>314.0</td>\n",
       "      <td>-</td>\n",
       "    </tr>\n",
       "    <tr>\n",
       "      <th>3</th>\n",
       "      <td>5</td>\n",
       "      <td>NEO PEE TECK LANE</td>\n",
       "      <td>Terrace</td>\n",
       "      <td>inf</td>\n",
       "      <td>2630000.0</td>\n",
       "      <td>['HILLGROVE SECONDARY SCHOOL', 'QUEENSTOWN SEC...</td>\n",
       "      <td>['Pasir Panjang Food Centre', 'Clementi West S...</td>\n",
       "      <td>['NTUC FAIRPRICE CO-OPERATIVE LTD', 'COLD STOR...</td>\n",
       "      <td>2</td>\n",
       "      <td>NaN</td>\n",
       "      <td>1.292047</td>\n",
       "      <td>103.768591</td>\n",
       "      <td>159.3</td>\n",
       "      <td>-</td>\n",
       "    </tr>\n",
       "    <tr>\n",
       "      <th>4</th>\n",
       "      <td>4</td>\n",
       "      <td>COVE DRIVE</td>\n",
       "      <td>Condominium</td>\n",
       "      <td>84.92</td>\n",
       "      <td>2800000.0</td>\n",
       "      <td>['FAIRFIELD METHODIST SCHOOL (SECONDARY)', 'QU...</td>\n",
       "      <td>['Telok Blangah Drive Blk 82 (Telok Blangah Ma...</td>\n",
       "      <td>['NTUC FAIRPRICE CO-OPERATIVE LTD', 'THE QUALI...</td>\n",
       "      <td>0</td>\n",
       "      <td>NaN</td>\n",
       "      <td>1.244208</td>\n",
       "      <td>103.827487</td>\n",
       "      <td>223.0</td>\n",
       "      <td>01-05</td>\n",
       "    </tr>\n",
       "  </tbody>\n",
       "</table>\n",
       "</div>"
      ],
      "text/plain": [
       "   district             street   propertyType  remaining_lease      price  \\\n",
       "0         5       ZEHNDER ROAD  Semi-detached              inf  5500000.0   \n",
       "1         5       ZEHNDER ROAD  Semi-detached              inf  5000000.0   \n",
       "2         5       ZEHNDER ROAD  Semi-detached              inf  4750000.0   \n",
       "3         5  NEO PEE TECK LANE        Terrace              inf  2630000.0   \n",
       "4         4         COVE DRIVE    Condominium            84.92  2800000.0   \n",
       "\n",
       "                                              school  \\\n",
       "0  ['HILLGROVE SECONDARY SCHOOL', 'QUEENSTOWN SEC...   \n",
       "1  ['HILLGROVE SECONDARY SCHOOL', 'QUEENSTOWN SEC...   \n",
       "2  ['HILLGROVE SECONDARY SCHOOL', 'QUEENSTOWN SEC...   \n",
       "3  ['HILLGROVE SECONDARY SCHOOL', 'QUEENSTOWN SEC...   \n",
       "4  ['FAIRFIELD METHODIST SCHOOL (SECONDARY)', 'QU...   \n",
       "\n",
       "                                        hawkercentre  \\\n",
       "0  ['Pasir Panjang Food Centre', 'Clementi West S...   \n",
       "1  ['Pasir Panjang Food Centre', 'Clementi West S...   \n",
       "2  ['Pasir Panjang Food Centre', 'Clementi West S...   \n",
       "3  ['Pasir Panjang Food Centre', 'Clementi West S...   \n",
       "4  ['Telok Blangah Drive Blk 82 (Telok Blangah Ma...   \n",
       "\n",
       "                                        supermarkets  Bus Stops Nearby  \\\n",
       "0  ['NTUC FAIRPRICE CO-OPERATIVE LTD', 'COLD STOR...                 0   \n",
       "1  ['NTUC FAIRPRICE CO-OPERATIVE LTD', 'COLD STOR...                 0   \n",
       "2  ['NTUC FAIRPRICE CO-OPERATIVE LTD', 'COLD STOR...                 0   \n",
       "3  ['NTUC FAIRPRICE CO-OPERATIVE LTD', 'COLD STOR...                 2   \n",
       "4  ['NTUC FAIRPRICE CO-OPERATIVE LTD', 'THE QUALI...                 0   \n",
       "\n",
       "   crime_number  latitude   longitude  floor_area_sqm floor_range  \n",
       "0           NaN  1.282130  103.786879           524.3           -  \n",
       "1           NaN  1.282130  103.786879           308.0           -  \n",
       "2           NaN  1.282130  103.786879           314.0           -  \n",
       "3           NaN  1.292047  103.768591           159.3           -  \n",
       "4           NaN  1.244208  103.827487           223.0       01-05  "
      ]
     },
     "execution_count": 2,
     "metadata": {},
     "output_type": "execute_result"
    }
   ],
   "source": [
    "df = pd.read_csv('/Users/admin/Desktop/Y3S2/BT4222/combined.csv')\n",
    "df.head()"
   ]
  },
  {
   "cell_type": "markdown",
   "metadata": {},
   "source": [
    "### 2. Examine and Explore Data"
   ]
  },
  {
   "cell_type": "code",
   "execution_count": 3,
   "metadata": {},
   "outputs": [
    {
     "data": {
      "text/html": [
       "<div>\n",
       "<style scoped>\n",
       "    .dataframe tbody tr th:only-of-type {\n",
       "        vertical-align: middle;\n",
       "    }\n",
       "\n",
       "    .dataframe tbody tr th {\n",
       "        vertical-align: top;\n",
       "    }\n",
       "\n",
       "    .dataframe thead th {\n",
       "        text-align: right;\n",
       "    }\n",
       "</style>\n",
       "<table border=\"1\" class=\"dataframe\">\n",
       "  <thead>\n",
       "    <tr style=\"text-align: right;\">\n",
       "      <th></th>\n",
       "      <th>district</th>\n",
       "      <th>remaining_lease</th>\n",
       "      <th>price</th>\n",
       "      <th>Bus Stops Nearby</th>\n",
       "      <th>crime_number</th>\n",
       "      <th>latitude</th>\n",
       "      <th>longitude</th>\n",
       "      <th>floor_area_sqm</th>\n",
       "    </tr>\n",
       "  </thead>\n",
       "  <tbody>\n",
       "    <tr>\n",
       "      <th>count</th>\n",
       "      <td>132607.000000</td>\n",
       "      <td>132607.00</td>\n",
       "      <td>1.326070e+05</td>\n",
       "      <td>132607.000000</td>\n",
       "      <td>122560.000000</td>\n",
       "      <td>132607.000000</td>\n",
       "      <td>132607.000000</td>\n",
       "      <td>132607.000000</td>\n",
       "    </tr>\n",
       "    <tr>\n",
       "      <th>mean</th>\n",
       "      <td>18.193391</td>\n",
       "      <td>inf</td>\n",
       "      <td>9.562546e+05</td>\n",
       "      <td>0.121479</td>\n",
       "      <td>134.318621</td>\n",
       "      <td>1.358879</td>\n",
       "      <td>103.845187</td>\n",
       "      <td>114.282205</td>\n",
       "    </tr>\n",
       "    <tr>\n",
       "      <th>std</th>\n",
       "      <td>5.345945</td>\n",
       "      <td>NaN</td>\n",
       "      <td>1.622821e+06</td>\n",
       "      <td>0.362613</td>\n",
       "      <td>47.645843</td>\n",
       "      <td>0.043521</td>\n",
       "      <td>0.068382</td>\n",
       "      <td>88.556745</td>\n",
       "    </tr>\n",
       "    <tr>\n",
       "      <th>min</th>\n",
       "      <td>1.000000</td>\n",
       "      <td>2.58</td>\n",
       "      <td>4.000000e+04</td>\n",
       "      <td>0.000000</td>\n",
       "      <td>35.428571</td>\n",
       "      <td>1.239641</td>\n",
       "      <td>103.687191</td>\n",
       "      <td>24.000000</td>\n",
       "    </tr>\n",
       "    <tr>\n",
       "      <th>25%</th>\n",
       "      <td>16.000000</td>\n",
       "      <td>67.08</td>\n",
       "      <td>3.700000e+05</td>\n",
       "      <td>0.000000</td>\n",
       "      <td>122.714286</td>\n",
       "      <td>1.326058</td>\n",
       "      <td>103.793446</td>\n",
       "      <td>84.000000</td>\n",
       "    </tr>\n",
       "    <tr>\n",
       "      <th>50%</th>\n",
       "      <td>20.000000</td>\n",
       "      <td>80.25</td>\n",
       "      <td>5.000000e+05</td>\n",
       "      <td>0.000000</td>\n",
       "      <td>122.714286</td>\n",
       "      <td>1.355269</td>\n",
       "      <td>103.847709</td>\n",
       "      <td>102.000000</td>\n",
       "    </tr>\n",
       "    <tr>\n",
       "      <th>75%</th>\n",
       "      <td>20.000000</td>\n",
       "      <td>93.33</td>\n",
       "      <td>9.350000e+05</td>\n",
       "      <td>0.000000</td>\n",
       "      <td>169.428571</td>\n",
       "      <td>1.389063</td>\n",
       "      <td>103.898665</td>\n",
       "      <td>121.000000</td>\n",
       "    </tr>\n",
       "    <tr>\n",
       "      <th>max</th>\n",
       "      <td>28.000000</td>\n",
       "      <td>inf</td>\n",
       "      <td>1.090000e+08</td>\n",
       "      <td>2.000000</td>\n",
       "      <td>226.000000</td>\n",
       "      <td>1.460839</td>\n",
       "      <td>103.987293</td>\n",
       "      <td>4836.400000</td>\n",
       "    </tr>\n",
       "  </tbody>\n",
       "</table>\n",
       "</div>"
      ],
      "text/plain": [
       "            district  remaining_lease         price  Bus Stops Nearby  \\\n",
       "count  132607.000000        132607.00  1.326070e+05     132607.000000   \n",
       "mean       18.193391              inf  9.562546e+05          0.121479   \n",
       "std         5.345945              NaN  1.622821e+06          0.362613   \n",
       "min         1.000000             2.58  4.000000e+04          0.000000   \n",
       "25%        16.000000            67.08  3.700000e+05          0.000000   \n",
       "50%        20.000000            80.25  5.000000e+05          0.000000   \n",
       "75%        20.000000            93.33  9.350000e+05          0.000000   \n",
       "max        28.000000              inf  1.090000e+08          2.000000   \n",
       "\n",
       "        crime_number       latitude      longitude  floor_area_sqm  \n",
       "count  122560.000000  132607.000000  132607.000000   132607.000000  \n",
       "mean      134.318621       1.358879     103.845187      114.282205  \n",
       "std        47.645843       0.043521       0.068382       88.556745  \n",
       "min        35.428571       1.239641     103.687191       24.000000  \n",
       "25%       122.714286       1.326058     103.793446       84.000000  \n",
       "50%       122.714286       1.355269     103.847709      102.000000  \n",
       "75%       169.428571       1.389063     103.898665      121.000000  \n",
       "max       226.000000       1.460839     103.987293     4836.400000  "
      ]
     },
     "execution_count": 3,
     "metadata": {},
     "output_type": "execute_result"
    }
   ],
   "source": [
    "df.describe()"
   ]
  },
  {
   "cell_type": "code",
   "execution_count": 4,
   "metadata": {},
   "outputs": [
    {
     "data": {
      "text/plain": [
       "Index(['district', 'street', 'propertyType', 'remaining_lease', 'price',\n",
       "       'school', 'hawkercentre', 'supermarkets', 'Bus Stops Nearby',\n",
       "       'crime_number', 'latitude', 'longitude', 'floor_area_sqm',\n",
       "       'floor_range'],\n",
       "      dtype='object')"
      ]
     },
     "execution_count": 4,
     "metadata": {},
     "output_type": "execute_result"
    }
   ],
   "source": [
    "df.columns"
   ]
  },
  {
   "cell_type": "code",
   "execution_count": 5,
   "metadata": {},
   "outputs": [
    {
     "data": {
      "text/plain": [
       "district              int64\n",
       "street               object\n",
       "propertyType         object\n",
       "remaining_lease     float64\n",
       "price               float64\n",
       "school               object\n",
       "hawkercentre         object\n",
       "supermarkets         object\n",
       "Bus Stops Nearby      int64\n",
       "crime_number        float64\n",
       "latitude            float64\n",
       "longitude           float64\n",
       "floor_area_sqm      float64\n",
       "floor_range          object\n",
       "dtype: object"
      ]
     },
     "execution_count": 5,
     "metadata": {},
     "output_type": "execute_result"
    }
   ],
   "source": [
    "df.dtypes"
   ]
  },
  {
   "cell_type": "code",
   "execution_count": 6,
   "metadata": {},
   "outputs": [
    {
     "data": {
      "text/plain": [
       "<matplotlib.axes._subplots.AxesSubplot at 0x7fca33fd71f0>"
      ]
     },
     "execution_count": 6,
     "metadata": {},
     "output_type": "execute_result"
    },
    {
     "data": {
      "image/png": "[encoded data removed]",
      "text/plain": [
       "<Figure size 432x288 with 1 Axes>"
      ]
     },
     "metadata": {
      "needs_background": "light"
     },
     "output_type": "display_data"
    }
   ],
   "source": [
    "# print(df['district'].value_counts())\n",
    "df['district'].value_counts().plot(kind='bar')"
   ]
  },
  {
   "cell_type": "code",
   "execution_count": 7,
   "metadata": {},
   "outputs": [
    {
     "data": {
      "text/plain": [
       "<matplotlib.axes._subplots.AxesSubplot at 0x7fca349ddbb0>"
      ]
     },
     "execution_count": 7,
     "metadata": {},
     "output_type": "execute_result"
    },
    {
     "data": {
      "image/png": "[encoded data removed]",
      "text/plain": [
       "<Figure size 432x288 with 1 Axes>"
      ]
     },
     "metadata": {
      "needs_background": "light"
     },
     "output_type": "display_data"
    }
   ],
   "source": [
    "# print(df['propertyType'].value_counts())\n",
    "df['propertyType'].value_counts().plot(kind='bar')"
   ]
  },
  {
   "cell_type": "code",
   "execution_count": 8,
   "metadata": {},
   "outputs": [
    {
     "data": {
      "text/plain": [
       "count    132607.000000\n",
       "mean        114.282205\n",
       "std          88.556745\n",
       "min          24.000000\n",
       "25%          84.000000\n",
       "50%         102.000000\n",
       "75%         121.000000\n",
       "max        4836.400000\n",
       "Name: floor_area_sqm, dtype: float64"
      ]
     },
     "execution_count": 8,
     "metadata": {},
     "output_type": "execute_result"
    }
   ],
   "source": [
    "df['floor_area_sqm'].describe()"
   ]
  },
  {
   "cell_type": "code",
   "execution_count": 9,
   "metadata": {},
   "outputs": [
    {
     "data": {
      "text/plain": [
       "<matplotlib.axes._subplots.AxesSubplot at 0x7fca34ab9bb0>"
      ]
     },
     "execution_count": 9,
     "metadata": {},
     "output_type": "execute_result"
    },
    {
     "data": {
      "image/png": "[encoded data removed]",
      "text/plain": [
       "<Figure size 432x288 with 1 Axes>"
      ]
     },
     "metadata": {
      "needs_background": "light"
     },
     "output_type": "display_data"
    }
   ],
   "source": [
    "sns.boxplot(x=df['floor_area_sqm'])"
   ]
  },
  {
   "cell_type": "code",
   "execution_count": 10,
   "metadata": {},
   "outputs": [
    {
     "data": {
      "text/plain": [
       "count    1.326070e+05\n",
       "mean     9.562546e+05\n",
       "std      1.622821e+06\n",
       "min      4.000000e+04\n",
       "25%      3.700000e+05\n",
       "50%      5.000000e+05\n",
       "75%      9.350000e+05\n",
       "max      1.090000e+08\n",
       "Name: price, dtype: float64"
      ]
     },
     "execution_count": 10,
     "metadata": {},
     "output_type": "execute_result"
    }
   ],
   "source": [
    "df['price'].describe()"
   ]
  },
  {
   "cell_type": "code",
   "execution_count": 11,
   "metadata": {},
   "outputs": [
    {
     "data": {
      "text/plain": [
       "<matplotlib.axes._subplots.AxesSubplot at 0x7fca34b8a370>"
      ]
     },
     "execution_count": 11,
     "metadata": {},
     "output_type": "execute_result"
    },
    {
     "data": {
      "image/png": "[encoded data removed]",
      "text/plain": [
       "<Figure size 432x288 with 1 Axes>"
      ]
     },
     "metadata": {
      "needs_background": "light"
     },
     "output_type": "display_data"
    }
   ],
   "source": [
    "sns.boxplot(x=df['price'])"
   ]
  },
  {
   "cell_type": "markdown",
   "metadata": {},
   "source": [
    "### 3. Plot charts to see if there are relations between each variable with price"
   ]
  },
  {
   "cell_type": "markdown",
   "metadata": {},
   "source": [
    "#### 3.1 Categorical Variables\n",
    "- district \n",
    "- street\n",
    "- propertyType"
   ]
  },
  {
   "cell_type": "code",
   "execution_count": 12,
   "metadata": {},
   "outputs": [
    {
     "data": {
      "text/plain": [
       "<seaborn.axisgrid.FacetGrid at 0x7fca334211c0>"
      ]
     },
     "execution_count": 12,
     "metadata": {},
     "output_type": "execute_result"
    },
    {
     "data": {
      "image/png": "[encoded data removed]",
      "text/plain": [
       "<Figure size 842.4x595.44 with 1 Axes>"
      ]
     },
     "metadata": {
      "needs_background": "light"
     },
     "output_type": "display_data"
    }
   ],
   "source": [
    "# Relationship between propertyType and price \n",
    "import seaborn as sns\n",
    "ax = sns.catplot(data=df, x='propertyType', y='price', height=8.27, aspect=11.7/8.27)\n",
    "ax.set_xticklabels(rotation=40, ha=\"right\")"
   ]
  },
  {
   "cell_type": "code",
   "execution_count": 13,
   "metadata": {},
   "outputs": [
    {
     "name": "stdout",
     "output_type": "stream",
     "text": [
      "['street', 'propertyType', 'school', 'hawkercentre', 'supermarkets', 'floor_range']\n"
     ]
    }
   ],
   "source": [
    "categorical_features = [feature for feature in df.columns if\n",
    "                       df[feature].dtypes == 'O']\n",
    "print(categorical_features)"
   ]
  },
  {
   "cell_type": "code",
   "execution_count": 14,
   "metadata": {},
   "outputs": [],
   "source": [
    "categorical_features.remove('floor_range')"
   ]
  },
  {
   "cell_type": "code",
   "execution_count": 15,
   "metadata": {},
   "outputs": [],
   "source": [
    "#ax = sns.catplot(data=df, x='street', y='price', height=8.27, aspect=11.7/8.27)\n",
    "#ax.set_xticklabels(rotation=40, ha=\"right\")"
   ]
  },
  {
   "cell_type": "code",
   "execution_count": 16,
   "metadata": {},
   "outputs": [
    {
     "data": {
      "text/plain": [
       "<seaborn.axisgrid.FacetGrid at 0x7fca3341d820>"
      ]
     },
     "execution_count": 16,
     "metadata": {},
     "output_type": "execute_result"
    },
    {
     "data": {
      "image/png": "[encoded data removed]",
      "text/plain": [
       "<Figure size 842.4x595.44 with 1 Axes>"
      ]
     },
     "metadata": {
      "needs_background": "light"
     },
     "output_type": "display_data"
    }
   ],
   "source": [
    "ax = sns.catplot(data=df, x='floor_range', y='price', height=8.27, aspect=11.7/8.27)\n",
    "ax.set_xticklabels(rotation=40, ha=\"right\")"
   ]
  },
  {
   "cell_type": "markdown",
   "metadata": {},
   "source": [
    "#### 3.2 Multicollinearity"
   ]
  },
  {
   "cell_type": "code",
   "execution_count": 17,
   "metadata": {},
   "outputs": [
    {
     "data": {
      "text/plain": [
       "<matplotlib.axes._subplots.AxesSubplot at 0x7fca352d3400>"
      ]
     },
     "execution_count": 17,
     "metadata": {},
     "output_type": "execute_result"
    },
    {
     "data": {
      "image/png": "[encoded data removed]",
      "text/plain": [
       "<Figure size 432x288 with 2 Axes>"
      ]
     },
     "metadata": {
      "needs_background": "light"
     },
     "output_type": "display_data"
    }
   ],
   "source": [
    "sns.heatmap(df.corr(), annot = True, vmin=-1, vmax=1, center= 0, cmap= 'coolwarm')"
   ]
  },
  {
   "cell_type": "markdown",
   "metadata": {},
   "source": [
    "#### 3.3 Common Factors Affecting Price "
   ]
  },
  {
   "cell_type": "code",
   "execution_count": 18,
   "metadata": {},
   "outputs": [
    {
     "data": {
      "image/png": "[encoded data removed]",
      "text/plain": [
       "<Figure size 432x288 with 1 Axes>"
      ]
     },
     "metadata": {
      "needs_background": "light"
     },
     "output_type": "display_data"
    }
   ],
   "source": [
    "# Price and Square Meters of Flat\n",
    "plt.scatter(df.floor_area_sqm, df.price)\n",
    "plt.xlabel('Floor Area (SQM)')\n",
    "plt.ylabel('Housing Price')\n",
    "plt.title('Floor area vs Housing Price')\n",
    "plt.show()"
   ]
  },
  {
   "cell_type": "code",
   "execution_count": 19,
   "metadata": {},
   "outputs": [
    {
     "data": {
      "image/png": "[encoded data removed]",
      "text/plain": [
       "<Figure size 432x288 with 1 Axes>"
      ]
     },
     "metadata": {
      "needs_background": "light"
     },
     "output_type": "display_data"
    }
   ],
   "source": [
    "# Price and district of Flat\n",
    "plt.scatter(df.district, df.price)\n",
    "plt.xlabel('District')\n",
    "plt.ylabel('Housing Price')\n",
    "plt.title('Floor area vs District')\n",
    "plt.show()"
   ]
  },
  {
   "cell_type": "code",
   "execution_count": 20,
   "metadata": {},
   "outputs": [
    {
     "data": {
      "text/plain": [
       "<seaborn.axisgrid.FacetGrid at 0x7fca343ca1c0>"
      ]
     },
     "execution_count": 20,
     "metadata": {},
     "output_type": "execute_result"
    },
    {
     "data": {
      "image/png": "[encoded data removed]",
      "text/plain": [
       "<Figure size 360x360 with 1 Axes>"
      ]
     },
     "metadata": {
      "needs_background": "light"
     },
     "output_type": "display_data"
    }
   ],
   "source": [
    "# Price and bus stops nearby\n",
    "sns.displot(df, x=\"Bus Stops Nearby\", y=\"price\")"
   ]
  },
  {
   "cell_type": "code",
   "execution_count": 21,
   "metadata": {},
   "outputs": [
    {
     "data": {
      "image/png": "[encoded data removed]",
      "text/plain": [
       "<Figure size 432x288 with 1 Axes>"
      ]
     },
     "metadata": {
      "needs_background": "light"
     },
     "output_type": "display_data"
    }
   ],
   "source": [
    "# Price and Crime Number\n",
    "plt.scatter(df.crime_number, df.price)\n",
    "plt.xlabel('Crime Number')\n",
    "plt.ylabel('Housing Price')\n",
    "plt.title('Crime Number vs Housing Price')\n",
    "plt.show()"
   ]
  },
  {
   "cell_type": "markdown",
   "metadata": {},
   "source": [
    "### 4. Editing Data"
   ]
  },
  {
   "cell_type": "code",
   "execution_count": 22,
   "metadata": {},
   "outputs": [
    {
     "name": "stdout",
     "output_type": "stream",
     "text": [
      "['street', 'propertyType', 'school', 'hawkercentre', 'supermarkets']\n"
     ]
    }
   ],
   "source": [
    "print(categorical_features)"
   ]
  },
  {
   "cell_type": "code",
   "execution_count": 23,
   "metadata": {},
   "outputs": [],
   "source": [
    "# Label Encoding \n",
    "df['street'] = df['street'].astype('category')\n",
    "df['street'] = df['street'].cat.codes\n",
    "\n",
    "df['propertyType'] = df['propertyType'].astype('category')\n",
    "df['propertyType'] = df['propertyType'].cat.codes\n",
    "\n",
    "df['school'] = df['school'].astype('category')\n",
    "df['school'] = df['school'].cat.codes\n",
    "\n",
    "df['hawkercentre'] = df['hawkercentre'].astype('category')\n",
    "df['hawkercentre'] = df['hawkercentre'].cat.codes\n",
    "\n",
    "df['supermarkets'] = df['supermarkets'].astype('category')\n",
    "df['supermarkets'] = df['supermarkets'].cat.codes"
   ]
  },
  {
   "cell_type": "code",
   "execution_count": 24,
   "metadata": {},
   "outputs": [],
   "source": [
    "df['floor_range'] = df['floor_range'].astype('category')\n",
    "df['floor_range'] = df['floor_range'].cat.codes"
   ]
  },
  {
   "cell_type": "code",
   "execution_count": 25,
   "metadata": {},
   "outputs": [],
   "source": [
    "df = df.replace(np.inf, 999)"
   ]
  },
  {
   "cell_type": "code",
   "execution_count": 26,
   "metadata": {},
   "outputs": [],
   "source": [
    "df['crime_number'].fillna(value=df['crime_number'].mean(), inplace=True)"
   ]
  },
  {
   "cell_type": "code",
   "execution_count": 27,
   "metadata": {},
   "outputs": [],
   "source": [
    "df['price'] = df['price'] / 100000"
   ]
  },
  {
   "cell_type": "code",
   "execution_count": 28,
   "metadata": {},
   "outputs": [
    {
     "data": {
      "text/html": [
       "<div>\n",
       "<style scoped>\n",
       "    .dataframe tbody tr th:only-of-type {\n",
       "        vertical-align: middle;\n",
       "    }\n",
       "\n",
       "    .dataframe tbody tr th {\n",
       "        vertical-align: top;\n",
       "    }\n",
       "\n",
       "    .dataframe thead th {\n",
       "        text-align: right;\n",
       "    }\n",
       "</style>\n",
       "<table border=\"1\" class=\"dataframe\">\n",
       "  <thead>\n",
       "    <tr style=\"text-align: right;\">\n",
       "      <th></th>\n",
       "      <th>district</th>\n",
       "      <th>street</th>\n",
       "      <th>propertyType</th>\n",
       "      <th>remaining_lease</th>\n",
       "      <th>price</th>\n",
       "      <th>school</th>\n",
       "      <th>hawkercentre</th>\n",
       "      <th>supermarkets</th>\n",
       "      <th>Bus Stops Nearby</th>\n",
       "      <th>crime_number</th>\n",
       "      <th>latitude</th>\n",
       "      <th>longitude</th>\n",
       "      <th>floor_area_sqm</th>\n",
       "      <th>floor_range</th>\n",
       "    </tr>\n",
       "  </thead>\n",
       "  <tbody>\n",
       "    <tr>\n",
       "      <th>0</th>\n",
       "      <td>5</td>\n",
       "      <td>2002</td>\n",
       "      <td>11</td>\n",
       "      <td>999.00</td>\n",
       "      <td>55.0</td>\n",
       "      <td>8</td>\n",
       "      <td>17</td>\n",
       "      <td>6</td>\n",
       "      <td>0</td>\n",
       "      <td>134.318621</td>\n",
       "      <td>1.282130</td>\n",
       "      <td>103.786879</td>\n",
       "      <td>524.3</td>\n",
       "      <td>0</td>\n",
       "    </tr>\n",
       "    <tr>\n",
       "      <th>1</th>\n",
       "      <td>5</td>\n",
       "      <td>2002</td>\n",
       "      <td>11</td>\n",
       "      <td>999.00</td>\n",
       "      <td>50.0</td>\n",
       "      <td>8</td>\n",
       "      <td>17</td>\n",
       "      <td>6</td>\n",
       "      <td>0</td>\n",
       "      <td>134.318621</td>\n",
       "      <td>1.282130</td>\n",
       "      <td>103.786879</td>\n",
       "      <td>308.0</td>\n",
       "      <td>0</td>\n",
       "    </tr>\n",
       "    <tr>\n",
       "      <th>2</th>\n",
       "      <td>5</td>\n",
       "      <td>2002</td>\n",
       "      <td>11</td>\n",
       "      <td>999.00</td>\n",
       "      <td>47.5</td>\n",
       "      <td>8</td>\n",
       "      <td>17</td>\n",
       "      <td>6</td>\n",
       "      <td>0</td>\n",
       "      <td>134.318621</td>\n",
       "      <td>1.282130</td>\n",
       "      <td>103.786879</td>\n",
       "      <td>314.0</td>\n",
       "      <td>0</td>\n",
       "    </tr>\n",
       "    <tr>\n",
       "      <th>3</th>\n",
       "      <td>5</td>\n",
       "      <td>1322</td>\n",
       "      <td>15</td>\n",
       "      <td>999.00</td>\n",
       "      <td>26.3</td>\n",
       "      <td>8</td>\n",
       "      <td>17</td>\n",
       "      <td>6</td>\n",
       "      <td>2</td>\n",
       "      <td>134.318621</td>\n",
       "      <td>1.292047</td>\n",
       "      <td>103.768591</td>\n",
       "      <td>159.3</td>\n",
       "      <td>0</td>\n",
       "    </tr>\n",
       "    <tr>\n",
       "      <th>4</th>\n",
       "      <td>4</td>\n",
       "      <td>375</td>\n",
       "      <td>6</td>\n",
       "      <td>84.92</td>\n",
       "      <td>28.0</td>\n",
       "      <td>6</td>\n",
       "      <td>22</td>\n",
       "      <td>16</td>\n",
       "      <td>0</td>\n",
       "      <td>134.318621</td>\n",
       "      <td>1.244208</td>\n",
       "      <td>103.827487</td>\n",
       "      <td>223.0</td>\n",
       "      <td>1</td>\n",
       "    </tr>\n",
       "  </tbody>\n",
       "</table>\n",
       "</div>"
      ],
      "text/plain": [
       "   district  street  propertyType  remaining_lease  price  school  \\\n",
       "0         5    2002            11           999.00   55.0       8   \n",
       "1         5    2002            11           999.00   50.0       8   \n",
       "2         5    2002            11           999.00   47.5       8   \n",
       "3         5    1322            15           999.00   26.3       8   \n",
       "4         4     375             6            84.92   28.0       6   \n",
       "\n",
       "   hawkercentre  supermarkets  Bus Stops Nearby  crime_number  latitude  \\\n",
       "0            17             6                 0    134.318621  1.282130   \n",
       "1            17             6                 0    134.318621  1.282130   \n",
       "2            17             6                 0    134.318621  1.282130   \n",
       "3            17             6                 2    134.318621  1.292047   \n",
       "4            22            16                 0    134.318621  1.244208   \n",
       "\n",
       "    longitude  floor_area_sqm  floor_range  \n",
       "0  103.786879           524.3            0  \n",
       "1  103.786879           308.0            0  \n",
       "2  103.786879           314.0            0  \n",
       "3  103.768591           159.3            0  \n",
       "4  103.827487           223.0            1  "
      ]
     },
     "execution_count": 28,
     "metadata": {},
     "output_type": "execute_result"
    }
   ],
   "source": [
    "df.head()"
   ]
  },
  {
   "cell_type": "markdown",
   "metadata": {},
   "source": [
    "### 5. Linear Regression"
   ]
  },
  {
   "cell_type": "code",
   "execution_count": 29,
   "metadata": {},
   "outputs": [
    {
     "name": "stdout",
     "output_type": "stream",
     "text": [
      "(119346, 13)\n",
      "(13261, 13)\n"
     ]
    }
   ],
   "source": [
    "from sklearn.model_selection import train_test_split\n",
    "\n",
    "X_train, X_test, y_train, y_test = train_test_split(df.drop('price', axis=1),\n",
    "                                                    df['price'], \n",
    "                                                    test_size=0.1,\n",
    "                                                    random_state=1)\n",
    "print(X_train.shape)\n",
    "print(X_test.shape)"
   ]
  },
  {
   "cell_type": "code",
   "execution_count": 30,
   "metadata": {},
   "outputs": [
    {
     "data": {
      "text/plain": [
       "LinearRegression()"
      ]
     },
     "execution_count": 30,
     "metadata": {},
     "output_type": "execute_result"
    }
   ],
   "source": [
    "from sklearn.linear_model import LinearRegression\n",
    "\n",
    "# Creates a LinearRegression object (Ordinary least squares Linear Regression)\n",
    "lm = LinearRegression()\n",
    "\n",
    "lm.fit(X_train, y_train)"
   ]
  },
  {
   "cell_type": "code",
   "execution_count": 31,
   "metadata": {},
   "outputs": [
    {
     "name": "stdout",
     "output_type": "stream",
     "text": [
      "training mse: 61.35002289375897, testing mse: 54.80954008304233\n",
      "training rmse: 7.832625542802297, testing rmse: 7.40334654619398\n"
     ]
    }
   ],
   "source": [
    "# Compute MSE\n",
    "def mse(y_predicted, y_true):\n",
    "    return np.mean(np.square(y_predicted - y_true))\n",
    "\n",
    "mse_training = mse(lm.predict(X_train), y_train)\n",
    "mse_testing = mse(lm.predict(X_test), y_test)\n",
    "\n",
    "print(\"training mse: {}, testing mse: {}\".format(mse_training, mse_testing))\n",
    "print(\"training rmse: {}, testing rmse: {}\".format(np.sqrt(mse_training), np.sqrt(mse_testing)))"
   ]
  },
  {
   "cell_type": "code",
   "execution_count": 34,
   "metadata": {},
   "outputs": [],
   "source": [
    "_, longitude_boundaries = np.histogram(X_train['longitude'])\n",
    "_, latitude_boundaries = np.histogram(X_train['latitude'])\n",
    "\n",
    "def assign_bucket(x, ranges):\n",
    "    if x <= ranges[0]:\n",
    "        return 0\n",
    "    \n",
    "    for i in range(1, len(ranges) - 1):\n",
    "        if x <= ranges[i]:\n",
    "            return i - 1\n",
    "    return len(ranges) - 2\n",
    "\n",
    "X_train['lgt_discrete'] = X_train['longitude'].apply(lambda x: assign_bucket(x, longitude_boundaries))\n",
    "X_train['lat_discrete'] = X_train['latitude'].apply(lambda x: assign_bucket(x, latitude_boundaries))\n",
    "X_test['lgt_discrete'] = X_test['longitude'].apply(lambda x: assign_bucket(x, longitude_boundaries))\n",
    "X_test['lat_discrete'] = X_test['latitude'].apply(lambda x: assign_bucket(x, latitude_boundaries))"
   ]
  },
  {
   "cell_type": "code",
   "execution_count": 35,
   "metadata": {},
   "outputs": [],
   "source": [
    "from sklearn.preprocessing import OneHotEncoder\n",
    "enc = OneHotEncoder(categories='auto')\n",
    "features_lat_lgn_train = enc.fit_transform(X_train[['lgt_discrete', 'lat_discrete']]) # fit and transform TRAIN\n",
    "features_lat_lgn_test = enc.transform(X_test[['lgt_discrete', 'lat_discrete']]) # transform only TEST"
   ]
  },
  {
   "cell_type": "code",
   "execution_count": 36,
   "metadata": {},
   "outputs": [
    {
     "name": "stdout",
     "output_type": "stream",
     "text": [
      "training mse: 56.92393748215366, testing mse: 50.48775296516811\n",
      "training rmse: 7.5447953903438405, testing rmse: 7.105473451162006\n"
     ]
    }
   ],
   "source": [
    "features_to_drop = ['longitude', 'latitude', 'lgt_discrete', 'lat_discrete']\n",
    "OHE_train = np.hstack((X_train.drop(features_to_drop, axis=1).values, features_lat_lgn_train.toarray()))\n",
    "OHE_test = np.hstack((X_test.drop(features_to_drop, axis=1).values, features_lat_lgn_test.toarray()))\n",
    "\n",
    "lm.fit(OHE_train, y_train)\n",
    "\n",
    "mse_training = mse(lm.predict(OHE_train), y_train)\n",
    "mse_testing = mse(lm.predict(OHE_test), y_test)\n",
    "\n",
    "print(\"training mse: {}, testing mse: {}\".format(mse_training, mse_testing))\n",
    "print(\"training rmse: {}, testing rmse: {}\".format(np.sqrt(mse_training), np.sqrt(mse_testing)))"
   ]
  },
  {
   "cell_type": "code",
   "execution_count": 43,
   "metadata": {},
   "outputs": [
    {
     "name": "stdout",
     "output_type": "stream",
     "text": [
      "(119346, 31)\n",
      "\n",
      "(119346,)\n"
     ]
    }
   ],
   "source": [
    "print(OHE_train.shape)\n",
    "print()\n",
    "print(y_train.shape)"
   ]
  },
  {
   "cell_type": "code",
   "execution_count": 50,
   "metadata": {},
   "outputs": [
    {
     "data": {
      "text/html": [
       "<div>\n",
       "<style scoped>\n",
       "    .dataframe tbody tr th:only-of-type {\n",
       "        vertical-align: middle;\n",
       "    }\n",
       "\n",
       "    .dataframe tbody tr th {\n",
       "        vertical-align: top;\n",
       "    }\n",
       "\n",
       "    .dataframe thead th {\n",
       "        text-align: right;\n",
       "    }\n",
       "</style>\n",
       "<table border=\"1\" class=\"dataframe\">\n",
       "  <thead>\n",
       "    <tr style=\"text-align: right;\">\n",
       "      <th></th>\n",
       "      <th>features</th>\n",
       "      <th>coefficients</th>\n",
       "    </tr>\n",
       "  </thead>\n",
       "  <tbody>\n",
       "    <tr>\n",
       "      <th>0</th>\n",
       "      <td>district</td>\n",
       "      <td>-0.332922</td>\n",
       "    </tr>\n",
       "    <tr>\n",
       "      <th>1</th>\n",
       "      <td>street</td>\n",
       "      <td>-0.000188</td>\n",
       "    </tr>\n",
       "    <tr>\n",
       "      <th>2</th>\n",
       "      <td>propertyType</td>\n",
       "      <td>0.272207</td>\n",
       "    </tr>\n",
       "    <tr>\n",
       "      <th>3</th>\n",
       "      <td>remaining_lease</td>\n",
       "      <td>0.000011</td>\n",
       "    </tr>\n",
       "    <tr>\n",
       "      <th>4</th>\n",
       "      <td>school</td>\n",
       "      <td>0.102333</td>\n",
       "    </tr>\n",
       "    <tr>\n",
       "      <th>5</th>\n",
       "      <td>hawkercentre</td>\n",
       "      <td>-0.066573</td>\n",
       "    </tr>\n",
       "    <tr>\n",
       "      <th>6</th>\n",
       "      <td>supermarkets</td>\n",
       "      <td>0.383010</td>\n",
       "    </tr>\n",
       "    <tr>\n",
       "      <th>7</th>\n",
       "      <td>Bus Stops Nearby</td>\n",
       "      <td>0.551285</td>\n",
       "    </tr>\n",
       "    <tr>\n",
       "      <th>8</th>\n",
       "      <td>crime_number</td>\n",
       "      <td>0.008644</td>\n",
       "    </tr>\n",
       "    <tr>\n",
       "      <th>9</th>\n",
       "      <td>floor_area_sqm</td>\n",
       "      <td>0.143592</td>\n",
       "    </tr>\n",
       "    <tr>\n",
       "      <th>10</th>\n",
       "      <td>floor_range</td>\n",
       "      <td>0.467738</td>\n",
       "    </tr>\n",
       "    <tr>\n",
       "      <th>11</th>\n",
       "      <td>0</td>\n",
       "      <td>-1.238426</td>\n",
       "    </tr>\n",
       "    <tr>\n",
       "      <th>12</th>\n",
       "      <td>1</td>\n",
       "      <td>0.545158</td>\n",
       "    </tr>\n",
       "    <tr>\n",
       "      <th>13</th>\n",
       "      <td>2</td>\n",
       "      <td>2.157452</td>\n",
       "    </tr>\n",
       "    <tr>\n",
       "      <th>14</th>\n",
       "      <td>3</td>\n",
       "      <td>0.916736</td>\n",
       "    </tr>\n",
       "    <tr>\n",
       "      <th>15</th>\n",
       "      <td>4</td>\n",
       "      <td>4.666434</td>\n",
       "    </tr>\n",
       "    <tr>\n",
       "      <th>16</th>\n",
       "      <td>5</td>\n",
       "      <td>2.477821</td>\n",
       "    </tr>\n",
       "    <tr>\n",
       "      <th>17</th>\n",
       "      <td>6</td>\n",
       "      <td>0.564572</td>\n",
       "    </tr>\n",
       "    <tr>\n",
       "      <th>18</th>\n",
       "      <td>7</td>\n",
       "      <td>-1.267987</td>\n",
       "    </tr>\n",
       "    <tr>\n",
       "      <th>19</th>\n",
       "      <td>8</td>\n",
       "      <td>-3.663532</td>\n",
       "    </tr>\n",
       "    <tr>\n",
       "      <th>20</th>\n",
       "      <td>9</td>\n",
       "      <td>-5.158228</td>\n",
       "    </tr>\n",
       "    <tr>\n",
       "      <th>21</th>\n",
       "      <td>10</td>\n",
       "      <td>11.722178</td>\n",
       "    </tr>\n",
       "    <tr>\n",
       "      <th>22</th>\n",
       "      <td>11</td>\n",
       "      <td>-1.235464</td>\n",
       "    </tr>\n",
       "    <tr>\n",
       "      <th>23</th>\n",
       "      <td>12</td>\n",
       "      <td>2.384877</td>\n",
       "    </tr>\n",
       "    <tr>\n",
       "      <th>24</th>\n",
       "      <td>13</td>\n",
       "      <td>2.004232</td>\n",
       "    </tr>\n",
       "    <tr>\n",
       "      <th>25</th>\n",
       "      <td>14</td>\n",
       "      <td>-0.742375</td>\n",
       "    </tr>\n",
       "    <tr>\n",
       "      <th>26</th>\n",
       "      <td>15</td>\n",
       "      <td>-1.345487</td>\n",
       "    </tr>\n",
       "    <tr>\n",
       "      <th>27</th>\n",
       "      <td>16</td>\n",
       "      <td>-0.904011</td>\n",
       "    </tr>\n",
       "    <tr>\n",
       "      <th>28</th>\n",
       "      <td>17</td>\n",
       "      <td>-1.336475</td>\n",
       "    </tr>\n",
       "    <tr>\n",
       "      <th>29</th>\n",
       "      <td>18</td>\n",
       "      <td>-4.806513</td>\n",
       "    </tr>\n",
       "    <tr>\n",
       "      <th>30</th>\n",
       "      <td>19</td>\n",
       "      <td>-5.740959</td>\n",
       "    </tr>\n",
       "  </tbody>\n",
       "</table>\n",
       "</div>"
      ],
      "text/plain": [
       "            features  coefficients\n",
       "0           district     -0.332922\n",
       "1             street     -0.000188\n",
       "2       propertyType      0.272207\n",
       "3    remaining_lease      0.000011\n",
       "4             school      0.102333\n",
       "5       hawkercentre     -0.066573\n",
       "6       supermarkets      0.383010\n",
       "7   Bus Stops Nearby      0.551285\n",
       "8       crime_number      0.008644\n",
       "9     floor_area_sqm      0.143592\n",
       "10       floor_range      0.467738\n",
       "11                 0     -1.238426\n",
       "12                 1      0.545158\n",
       "13                 2      2.157452\n",
       "14                 3      0.916736\n",
       "15                 4      4.666434\n",
       "16                 5      2.477821\n",
       "17                 6      0.564572\n",
       "18                 7     -1.267987\n",
       "19                 8     -3.663532\n",
       "20                 9     -5.158228\n",
       "21                10     11.722178\n",
       "22                11     -1.235464\n",
       "23                12      2.384877\n",
       "24                13      2.004232\n",
       "25                14     -0.742375\n",
       "26                15     -1.345487\n",
       "27                16     -0.904011\n",
       "28                17     -1.336475\n",
       "29                18     -4.806513\n",
       "30                19     -5.740959"
      ]
     },
     "execution_count": 50,
     "metadata": {},
     "output_type": "execute_result"
    }
   ],
   "source": [
    "pd.DataFrame([x for x in zip(list(X_train.drop(features_to_drop, axis=1).columns) \\\n",
    "              + [str(x) for x in range(31)], lm.coef_)], columns=['features', 'coefficients'])"
   ]
  },
  {
   "cell_type": "markdown",
   "metadata": {},
   "source": [
    "### 6. Polynomial Regression"
   ]
  },
  {
   "cell_type": "code",
   "execution_count": 53,
   "metadata": {},
   "outputs": [
    {
     "name": "stdout",
     "output_type": "stream",
     "text": [
      "training mse: 32.987357769305724, testing mse: 21.94997491811524\n",
      "training rmse: 5.743462176188307, testing rmse: 4.6850800332668\n"
     ]
    }
   ],
   "source": [
    "pre_process = PolynomialFeatures(degree=2)\n",
    "\n",
    "# Transform our x input to 1, x and x^2\n",
    "X_poly = pre_process.fit_transform(X_train)\n",
    "X_test_poly = pre_process.transform(X_test)\n",
    "\n",
    "pr_model = LinearRegression()\n",
    "\n",
    "# Fit our preprocessed data to the polynomial regression model\n",
    "pr_model.fit(X_poly, y_train)\n",
    "\n",
    "mse_training = mse(pr_model.predict(X_poly), y_train)\n",
    "mse_testing = mse(pr_model.predict(X_test_poly), y_test)\n",
    "\n",
    "print(\"training mse: {}, testing mse: {}\".format(mse_training, mse_testing))\n",
    "print(\"training rmse: {}, testing rmse: {}\".format(np.sqrt(mse_training), np.sqrt(mse_testing)))"
   ]
  },
  {
   "cell_type": "code",
   "execution_count": 56,
   "metadata": {},
   "outputs": [
    {
     "name": "stdout",
     "output_type": "stream",
     "text": [
      "training mse: 26.46886155541023, testing mse: 19.205740570228787\n",
      "training rmse: 5.144789748416375, testing rmse: 4.382435461045466\n"
     ]
    }
   ],
   "source": [
    "# Transform our x input to 1, x and x^2\n",
    "X_poly = pre_process.fit_transform(OHE_train)\n",
    "X_test_poly = pre_process.transform(OHE_test)\n",
    "\n",
    "pr_model.fit(X_poly, y_train)\n",
    "\n",
    "mse_training = mse(pr_model.predict(X_poly), y_train)\n",
    "mse_testing = mse(pr_model.predict(X_test_poly), y_test)\n",
    "\n",
    "print(\"training mse: {}, testing mse: {}\".format(mse_training, mse_testing))\n",
    "print(\"training rmse: {}, testing rmse: {}\".format(np.sqrt(mse_training), np.sqrt(mse_testing)))"
   ]
  },
  {
   "cell_type": "code",
   "execution_count": null,
   "metadata": {},
   "outputs": [],
   "source": []
  }
 ],
 "metadata": {
  "kernelspec": {
   "display_name": "Python 3",
   "language": "python",
   "name": "python3"
  },
  "language_info": {
   "codemirror_mode": {
    "name": "ipython",
    "version": 3
   },
   "file_extension": ".py",
   "mimetype": "text/x-python",
   "name": "python",
   "nbconvert_exporter": "python",
   "pygments_lexer": "ipython3",
   "version": "3.8.3"
  }
 },
 "nbformat": 4,
 "nbformat_minor": 4
}
