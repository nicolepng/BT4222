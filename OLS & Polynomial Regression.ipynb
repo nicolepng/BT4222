{
 "cells": [
  {
   "cell_type": "markdown",
   "metadata": {},
   "source": [
    "### 1. Import data and revelant packages "
   ]
  },
  {
   "cell_type": "code",
   "execution_count": 1,
   "metadata": {},
   "outputs": [],
   "source": [
    "import matplotlib.pyplot as plt\n",
    "import numpy as np\n",
    "import pandas as pd\n",
    "import seaborn as sns\n",
    "import scipy.stats as stats\n",
    "from sklearn.linear_model import LinearRegression\n",
    "from sklearn.metrics import mean_absolute_error\n",
    "from sklearn.preprocessing import PolynomialFeatures\n",
    "from sklearn.model_selection import train_test_split"
   ]
  },
  {
   "cell_type": "code",
   "execution_count": 2,
   "metadata": {},
   "outputs": [
    {
     "data": {
      "text/html": [
       "<div>\n",
       "<style scoped>\n",
       "    .dataframe tbody tr th:only-of-type {\n",
       "        vertical-align: middle;\n",
       "    }\n",
       "\n",
       "    .dataframe tbody tr th {\n",
       "        vertical-align: top;\n",
       "    }\n",
       "\n",
       "    .dataframe thead th {\n",
       "        text-align: right;\n",
       "    }\n",
       "</style>\n",
       "<table border=\"1\" class=\"dataframe\">\n",
       "  <thead>\n",
       "    <tr style=\"text-align: right;\">\n",
       "      <th></th>\n",
       "      <th>district</th>\n",
       "      <th>street</th>\n",
       "      <th>propertyType</th>\n",
       "      <th>remaining_lease</th>\n",
       "      <th>price</th>\n",
       "      <th>school</th>\n",
       "      <th>hawkercentre</th>\n",
       "      <th>supermarkets</th>\n",
       "      <th>Bus Stops Nearby</th>\n",
       "      <th>crime_number</th>\n",
       "      <th>latitude</th>\n",
       "      <th>longitude</th>\n",
       "      <th>floor_area_sqm</th>\n",
       "      <th>floor_range</th>\n",
       "      <th>sentiment</th>\n",
       "    </tr>\n",
       "  </thead>\n",
       "  <tbody>\n",
       "    <tr>\n",
       "      <th>0</th>\n",
       "      <td>5</td>\n",
       "      <td>ZEHNDER ROAD</td>\n",
       "      <td>Semi-detached</td>\n",
       "      <td>999.00</td>\n",
       "      <td>5500000.0</td>\n",
       "      <td>27</td>\n",
       "      <td>6</td>\n",
       "      <td>8</td>\n",
       "      <td>0</td>\n",
       "      <td>-1.0</td>\n",
       "      <td>1.282130</td>\n",
       "      <td>103.786879</td>\n",
       "      <td>524.3</td>\n",
       "      <td>~-</td>\n",
       "      <td>0.380502</td>\n",
       "    </tr>\n",
       "    <tr>\n",
       "      <th>1</th>\n",
       "      <td>5</td>\n",
       "      <td>ZEHNDER ROAD</td>\n",
       "      <td>Semi-detached</td>\n",
       "      <td>999.00</td>\n",
       "      <td>5000000.0</td>\n",
       "      <td>27</td>\n",
       "      <td>6</td>\n",
       "      <td>8</td>\n",
       "      <td>0</td>\n",
       "      <td>-1.0</td>\n",
       "      <td>1.282130</td>\n",
       "      <td>103.786879</td>\n",
       "      <td>308.0</td>\n",
       "      <td>~-</td>\n",
       "      <td>0.123495</td>\n",
       "    </tr>\n",
       "    <tr>\n",
       "      <th>2</th>\n",
       "      <td>5</td>\n",
       "      <td>ZEHNDER ROAD</td>\n",
       "      <td>Semi-detached</td>\n",
       "      <td>999.00</td>\n",
       "      <td>4750000.0</td>\n",
       "      <td>27</td>\n",
       "      <td>6</td>\n",
       "      <td>8</td>\n",
       "      <td>0</td>\n",
       "      <td>-1.0</td>\n",
       "      <td>1.282130</td>\n",
       "      <td>103.786879</td>\n",
       "      <td>314.0</td>\n",
       "      <td>~-</td>\n",
       "      <td>0.123495</td>\n",
       "    </tr>\n",
       "    <tr>\n",
       "      <th>3</th>\n",
       "      <td>5</td>\n",
       "      <td>NEO PEE TECK LANE</td>\n",
       "      <td>Terrace</td>\n",
       "      <td>999.00</td>\n",
       "      <td>2630000.0</td>\n",
       "      <td>27</td>\n",
       "      <td>6</td>\n",
       "      <td>8</td>\n",
       "      <td>2</td>\n",
       "      <td>-1.0</td>\n",
       "      <td>1.292047</td>\n",
       "      <td>103.768591</td>\n",
       "      <td>159.3</td>\n",
       "      <td>~-</td>\n",
       "      <td>0.380502</td>\n",
       "    </tr>\n",
       "    <tr>\n",
       "      <th>4</th>\n",
       "      <td>4</td>\n",
       "      <td>COVE DRIVE</td>\n",
       "      <td>Condominium</td>\n",
       "      <td>85.25</td>\n",
       "      <td>3180000.0</td>\n",
       "      <td>11</td>\n",
       "      <td>3</td>\n",
       "      <td>2</td>\n",
       "      <td>0</td>\n",
       "      <td>-1.0</td>\n",
       "      <td>1.244208</td>\n",
       "      <td>103.827487</td>\n",
       "      <td>194.0</td>\n",
       "      <td>~01-05</td>\n",
       "      <td>0.173732</td>\n",
       "    </tr>\n",
       "  </tbody>\n",
       "</table>\n",
       "</div>"
      ],
      "text/plain": [
       "   district             street   propertyType  remaining_lease      price  \\\n",
       "0         5       ZEHNDER ROAD  Semi-detached           999.00  5500000.0   \n",
       "1         5       ZEHNDER ROAD  Semi-detached           999.00  5000000.0   \n",
       "2         5       ZEHNDER ROAD  Semi-detached           999.00  4750000.0   \n",
       "3         5  NEO PEE TECK LANE        Terrace           999.00  2630000.0   \n",
       "4         4         COVE DRIVE    Condominium            85.25  3180000.0   \n",
       "\n",
       "   school  hawkercentre  supermarkets  Bus Stops Nearby  crime_number  \\\n",
       "0      27             6             8                 0          -1.0   \n",
       "1      27             6             8                 0          -1.0   \n",
       "2      27             6             8                 0          -1.0   \n",
       "3      27             6             8                 2          -1.0   \n",
       "4      11             3             2                 0          -1.0   \n",
       "\n",
       "   latitude   longitude  floor_area_sqm floor_range  sentiment  \n",
       "0  1.282130  103.786879           524.3          ~-   0.380502  \n",
       "1  1.282130  103.786879           308.0          ~-   0.123495  \n",
       "2  1.282130  103.786879           314.0          ~-   0.123495  \n",
       "3  1.292047  103.768591           159.3          ~-   0.380502  \n",
       "4  1.244208  103.827487           194.0      ~01-05   0.173732  "
      ]
     },
     "execution_count": 2,
     "metadata": {},
     "output_type": "execute_result"
    }
   ],
   "source": [
    "combined = pd.read_csv('/Users/admin/Desktop/Y3S2/BT4222/combined.csv')\n",
    "combined = combined.drop(combined.columns[0], axis=1)\n",
    "combined.head()"
   ]
  },
  {
   "cell_type": "code",
   "execution_count": 3,
   "metadata": {},
   "outputs": [],
   "source": [
    "# Label Encoding \n",
    "combined['street'] = combined['street'].astype('category')\n",
    "street_dict = dict(zip(combined['street'].cat.codes, combined['street']))\n",
    "combined['street'] = combined['street'].cat.codes\n",
    "\n",
    "combined['propertyType'] = combined['propertyType'].astype('category')\n",
    "property_dict = dict(zip(combined['propertyType'].cat.codes, combined['propertyType']))\n",
    "combined['propertyType'] = combined['propertyType'].cat.codes\n",
    "\n",
    "combined['floor_range'] = combined['floor_range'].astype('category')\n",
    "floor_dict = dict(zip(combined['floor_range'].cat.codes, combined['floor_range']))\n",
    "combined['floor_range'] = combined['floor_range'].cat.codes"
   ]
  },
  {
   "cell_type": "code",
   "execution_count": 4,
   "metadata": {},
   "outputs": [],
   "source": [
    "combined['district'] = combined['district'].astype(str)\n",
    "combined['district'] = combined['district'].astype('category')\n",
    "property_dict = dict(zip(combined['district'].cat.codes, combined['district']))\n",
    "combined['district'] = combined['district'].cat.codes"
   ]
  },
  {
   "cell_type": "code",
   "execution_count": 5,
   "metadata": {},
   "outputs": [
    {
     "data": {
      "text/plain": [
       "district               int8\n",
       "street                int16\n",
       "propertyType           int8\n",
       "remaining_lease     float64\n",
       "price               float64\n",
       "school                int64\n",
       "hawkercentre          int64\n",
       "supermarkets          int64\n",
       "Bus Stops Nearby      int64\n",
       "crime_number        float64\n",
       "latitude            float64\n",
       "longitude           float64\n",
       "floor_area_sqm      float64\n",
       "floor_range            int8\n",
       "sentiment           float64\n",
       "dtype: object"
      ]
     },
     "execution_count": 5,
     "metadata": {},
     "output_type": "execute_result"
    }
   ],
   "source": [
    "combined.dtypes"
   ]
  },
  {
   "cell_type": "code",
   "execution_count": 6,
   "metadata": {},
   "outputs": [],
   "source": [
    "X_train, X_test, y_train, y_test = train_test_split(combined.drop('price', axis=1),\n",
    "                                                    combined['price'], \n",
    "                                                    test_size=0.2,\n",
    "                                                    random_state=1)"
   ]
  },
  {
   "cell_type": "markdown",
   "metadata": {},
   "source": [
    "### 2. Linear Regression"
   ]
  },
  {
   "cell_type": "code",
   "execution_count": 7,
   "metadata": {},
   "outputs": [
    {
     "name": "stdout",
     "output_type": "stream",
     "text": [
      "(106952, 14)\n",
      "(26738, 14)\n"
     ]
    }
   ],
   "source": [
    "print(X_train.shape)\n",
    "print(X_test.shape)"
   ]
  },
  {
   "cell_type": "code",
   "execution_count": 8,
   "metadata": {},
   "outputs": [
    {
     "data": {
      "text/plain": [
       "district            False\n",
       "street              False\n",
       "propertyType        False\n",
       "remaining_lease     False\n",
       "school              False\n",
       "hawkercentre        False\n",
       "supermarkets        False\n",
       "Bus Stops Nearby    False\n",
       "crime_number        False\n",
       "latitude            False\n",
       "longitude           False\n",
       "floor_area_sqm      False\n",
       "floor_range         False\n",
       "sentiment           False\n",
       "dtype: bool"
      ]
     },
     "execution_count": 8,
     "metadata": {},
     "output_type": "execute_result"
    }
   ],
   "source": [
    "X_train.isnull().any()"
   ]
  },
  {
   "cell_type": "code",
   "execution_count": 9,
   "metadata": {},
   "outputs": [
    {
     "data": {
      "text/plain": [
       "LinearRegression()"
      ]
     },
     "execution_count": 9,
     "metadata": {},
     "output_type": "execute_result"
    }
   ],
   "source": [
    "# Creates a LinearRegression object (Ordinary least squares Linear Regression)\n",
    "lm = LinearRegression()\n",
    "\n",
    "lm.fit(X_train, y_train)"
   ]
  },
  {
   "cell_type": "markdown",
   "metadata": {},
   "source": [
    "### 2.1 Calculate Metrics for Base Model"
   ]
  },
  {
   "cell_type": "code",
   "execution_count": 10,
   "metadata": {},
   "outputs": [
    {
     "name": "stdout",
     "output_type": "stream",
     "text": [
      "training mse: 653168948264.0847, testing mse: 503043387236.8057\n",
      "training rmse: 808188.6835783366, testing rmse: 709255.5161835583\n"
     ]
    }
   ],
   "source": [
    "# Compute MSE\n",
    "def mse(y_predicted, y_true):\n",
    "    return np.mean(np.square(y_predicted - y_true))\n",
    "\n",
    "mse_training = mse(lm.predict(X_train), y_train)\n",
    "mse_testing = mse(lm.predict(X_test), y_test)\n",
    "\n",
    "print(\"training mse: {}, testing mse: {}\".format(mse_training, mse_testing))\n",
    "print(\"training rmse: {}, testing rmse: {}\".format(np.sqrt(mse_training), np.sqrt(mse_testing)))"
   ]
  },
  {
   "cell_type": "code",
   "execution_count": 11,
   "metadata": {},
   "outputs": [
    {
     "name": "stdout",
     "output_type": "stream",
     "text": [
      "training R2: 0.7666301322522222, testing R2: 0.7610098869927816\n",
      "training adjusted R2: 0.7665995798882278, testing adjusted R2: 0.7608846816796767\n"
     ]
    }
   ],
   "source": [
    "# Compute R2 and adjusted R2\n",
    "print(\"training R2: {}, testing R2: {}\".format(lm.score(X_train, y_train), lm.score(X_test, y_test)))\n",
    "print(\"training adjusted R2: {}, testing adjusted R2: {}\".format(\n",
    "    1 - (1-lm.score(X_train, y_train))*(len(y_train)-1)/(len(y_train)-X_train.shape[1]-1), \n",
    "    1 - (1-lm.score(X_test, y_test))*(len(y_test)-1)/(len(y_test)-X_test.shape[1]-1)))\n"
   ]
  },
  {
   "cell_type": "code",
   "execution_count": 12,
   "metadata": {},
   "outputs": [
    {
     "name": "stdout",
     "output_type": "stream",
     "text": [
      "training MAE: 408465.6716272027, testing MAE: 406408.8893514608\n"
     ]
    }
   ],
   "source": [
    "# Calculate MAE\n",
    "print(\"training MAE: {}, testing MAE: {}\".format(\n",
    "    mean_absolute_error(y_train, lm.predict(X_train)),\n",
    "    mean_absolute_error(y_test, lm.predict(X_test)),    \n",
    "))"
   ]
  },
  {
   "cell_type": "code",
   "execution_count": 13,
   "metadata": {},
   "outputs": [
    {
     "name": "stdout",
     "output_type": "stream",
     "text": [
      "training smape: 57.12629075321162, testing smape: 57.10056403116614\n"
     ]
    }
   ],
   "source": [
    "# Calculate sMAPE\n",
    "def smape(y_true, y_pred):\n",
    "    return 1/len(y_true) * np.sum(2 * np.abs(y_pred-y_true) / (np.abs(y_true) + np.abs(y_pred))*100)\n",
    "\n",
    "smape_training = smape(y_train, lm.predict(X_train))\n",
    "smape_testing = smape(y_test, lm.predict(X_test))\n",
    "print(\"training smape: {}, testing smape: {}\".format(smape_training, smape_testing))"
   ]
  },
  {
   "cell_type": "code",
   "execution_count": 14,
   "metadata": {},
   "outputs": [
    {
     "name": "stdout",
     "output_type": "stream",
     "text": [
      "training mape: 58.74959231478065, testing mape: 58.724505408231686\n"
     ]
    }
   ],
   "source": [
    "# Calulate MAPE\n",
    "def MAPE(y_actual,y_predicted):\n",
    "    mape = np.mean(np.abs((y_actual - y_predicted)/y_actual))*100\n",
    "    return mape\n",
    "mape_training = MAPE(y_train, lm.predict(X_train))\n",
    "mape_testing = MAPE(y_test, lm.predict(X_test))\n",
    "print(\"training mape: {}, testing mape: {}\".format(mape_training, mape_testing))"
   ]
  },
  {
   "cell_type": "markdown",
   "metadata": {},
   "source": [
    "### 2.2 Residual Plot for Base Model"
   ]
  },
  {
   "cell_type": "code",
   "execution_count": 15,
   "metadata": {},
   "outputs": [
    {
     "name": "stderr",
     "output_type": "stream",
     "text": [
      "/opt/anaconda3/lib/python3.8/site-packages/seaborn/_decorators.py:36: FutureWarning: Pass the following variables as keyword args: x, y. From version 0.12, the only valid positional argument will be `data`, and passing other arguments without an explicit keyword will result in an error or misinterpretation.\n",
      "  warnings.warn(\n"
     ]
    },
    {
     "data": {
      "text/plain": [
       "Text(0.5, 1.0, 'Residual plot')"
      ]
     },
     "execution_count": 15,
     "metadata": {},
     "output_type": "execute_result"
    },
    {
     "data": {
      "image/png": "[encoded data removed]",
      "text/plain": [
       "<Figure size 432x288 with 1 Axes>"
      ]
     },
     "metadata": {
      "needs_background": "light"
     },
     "output_type": "display_data"
    }
   ],
   "source": [
    "# Residual plot\n",
    "sns.residplot(lm.predict(X_test).reshape(-1),y_test,lowess=True,\n",
    "                                  line_kws={'color': 'red', 'lw': 1, 'alpha': 1})\n",
    "plt.xlabel(\"Fitted values\")\n",
    "plt.title('Residual plot')"
   ]
  },
  {
   "cell_type": "code",
   "execution_count": 16,
   "metadata": {},
   "outputs": [
    {
     "name": "stdout",
     "output_type": "stream",
     "text": [
      "67818      36941.496847\n",
      "30034     813637.307919\n",
      "121580    298749.086041\n",
      "118033   -174249.485779\n",
      "12315    -485574.211460\n",
      "              ...      \n",
      "104122   -337316.349310\n",
      "99154     258933.509417\n",
      "5262      298276.642633\n",
      "115977    152523.871984\n",
      "63597    -339148.382763\n",
      "Name: price, Length: 26738, dtype: float64\n"
     ]
    },
    {
     "data": {
      "text/plain": [
       "Text(0.5, 1.0, 'Normal Q-Q Plot')"
      ]
     },
     "execution_count": 16,
     "metadata": {},
     "output_type": "execute_result"
    },
    {
     "data": {
      "image/png": "[encoded data removed]",
      "text/plain": [
       "<Figure size 504x504 with 1 Axes>"
      ]
     },
     "metadata": {
      "needs_background": "light"
     },
     "output_type": "display_data"
    }
   ],
   "source": [
    "# QQ Plot\n",
    "residuals = y_test - lm.predict(X_test).reshape(-1)\n",
    "print(residuals)\n",
    "plt.figure(figsize=(7,7))\n",
    "stats.probplot(residuals, dist=\"norm\", plot=plt)\n",
    "plt.title(\"Normal Q-Q Plot\")"
   ]
  },
  {
   "cell_type": "code",
   "execution_count": 17,
   "metadata": {},
   "outputs": [
    {
     "name": "stderr",
     "output_type": "stream",
     "text": [
      "/opt/anaconda3/lib/python3.8/site-packages/seaborn/_decorators.py:36: FutureWarning: Pass the following variables as keyword args: x, y. From version 0.12, the only valid positional argument will be `data`, and passing other arguments without an explicit keyword will result in an error or misinterpretation.\n",
      "  warnings.warn(\n"
     ]
    },
    {
     "data": {
      "text/plain": [
       "Text(0.5, 0, 'Fitted value')"
      ]
     },
     "execution_count": 17,
     "metadata": {},
     "output_type": "execute_result"
    },
    {
     "data": {
      "image/png": "[encoded data removed]",
      "text/plain": [
       "<Figure size 504x504 with 1 Axes>"
      ]
     },
     "metadata": {
      "needs_background": "light"
     },
     "output_type": "display_data"
    }
   ],
   "source": [
    "# Scale Location Plot\n",
    "norm_residuals_abs_sqrt=np.sqrt(np.abs(residuals))\n",
    "\n",
    "plt.figure(figsize=(7,7))\n",
    "sns.regplot(lm.predict(X_test).reshape(-1), norm_residuals_abs_sqrt,\n",
    "              scatter=True,\n",
    "              lowess=True,\n",
    "              line_kws={'color': 'red', 'lw': 1, 'alpha': 0.8})\n",
    "plt.ylabel(\"Standarized residuals\")\n",
    "plt.xlabel(\"Fitted value\")"
   ]
  },
  {
   "cell_type": "markdown",
   "metadata": {},
   "source": [
    "### 2.3 Feature Cross"
   ]
  },
  {
   "cell_type": "code",
   "execution_count": 18,
   "metadata": {},
   "outputs": [],
   "source": [
    "_, longitude_boundaries = np.histogram(X_train['longitude'])\n",
    "_, latitude_boundaries = np.histogram(X_train['latitude'])\n",
    "\n",
    "def assign_bucket(x, ranges):\n",
    "    if x <= ranges[0]:\n",
    "        return 0\n",
    "    \n",
    "    for i in range(1, len(ranges) - 1):\n",
    "        if x <= ranges[i]:\n",
    "            return i - 1\n",
    "    return len(ranges) - 2\n",
    "\n",
    "X_train['lgt_discrete'] = X_train['longitude'].apply(lambda x: assign_bucket(x, longitude_boundaries))\n",
    "X_train['lat_discrete'] = X_train['latitude'].apply(lambda x: assign_bucket(x, latitude_boundaries))\n",
    "X_test['lgt_discrete'] = X_test['longitude'].apply(lambda x: assign_bucket(x, longitude_boundaries))\n",
    "X_test['lat_discrete'] = X_test['latitude'].apply(lambda x: assign_bucket(x, latitude_boundaries))"
   ]
  },
  {
   "cell_type": "code",
   "execution_count": 19,
   "metadata": {},
   "outputs": [],
   "source": [
    "from sklearn.preprocessing import OneHotEncoder\n",
    "enc = OneHotEncoder(categories='auto')\n",
    "features_lat_lgn_train = enc.fit_transform(X_train[['lgt_discrete', 'lat_discrete']]) # fit and transform TRAIN\n",
    "features_lat_lgn_test = enc.transform(X_test[['lgt_discrete', 'lat_discrete']]) # transform only TEST"
   ]
  },
  {
   "cell_type": "markdown",
   "metadata": {},
   "source": [
    "### 2.4 Error Metrics and Coefficients"
   ]
  },
  {
   "cell_type": "code",
   "execution_count": 20,
   "metadata": {},
   "outputs": [
    {
     "name": "stdout",
     "output_type": "stream",
     "text": [
      "training mse: 604466652544.5997, testing mse: 458742735122.17847\n",
      "training rmse: 777474.5349814357, testing rmse: 677305.496155301\n"
     ]
    }
   ],
   "source": [
    "features_to_drop = ['longitude', 'latitude', 'lgt_discrete', 'lat_discrete']\n",
    "OHE_train = np.hstack((X_train.drop(features_to_drop, axis=1).values, features_lat_lgn_train.toarray()))\n",
    "OHE_test = np.hstack((X_test.drop(features_to_drop, axis=1).values, features_lat_lgn_test.toarray()))\n",
    "\n",
    "lm.fit(OHE_train, y_train)\n",
    "\n",
    "mse_training = mse(lm.predict(OHE_train), y_train)\n",
    "mse_testing = mse(lm.predict(OHE_test), y_test)\n",
    "\n",
    "print(\"training mse: {}, testing mse: {}\".format(mse_training, mse_testing))\n",
    "print(\"training rmse: {}, testing rmse: {}\".format(np.sqrt(mse_training), np.sqrt(mse_testing)))"
   ]
  },
  {
   "cell_type": "code",
   "execution_count": 21,
   "metadata": {},
   "outputs": [
    {
     "name": "stdout",
     "output_type": "stream",
     "text": [
      "training R2: 0.7840309109347909, testing R2: 0.7820566160101796\n",
      "training adjusted R2: 0.7839662731169093, testing adjusted R2: 0.7817954593620735\n"
     ]
    }
   ],
   "source": [
    "# Compute R2 and adjusted R2\n",
    "print(\"training R2: {}, testing R2: {}\".format(lm.score(OHE_train, y_train), lm.score(OHE_test, y_test)))\n",
    "print(\"training adjusted R2: {}, testing adjusted R2: {}\".format(\n",
    "    1 - (1-lm.score(OHE_train, y_train))*(len(y_train)-1)/(len(y_train)-OHE_train.shape[1]-1), \n",
    "    1 - (1-lm.score(OHE_test, y_test))*(len(y_test)-1)/(len(y_test)-OHE_test.shape[1]-1)))\n"
   ]
  },
  {
   "cell_type": "code",
   "execution_count": 22,
   "metadata": {},
   "outputs": [
    {
     "name": "stdout",
     "output_type": "stream",
     "text": [
      "training MAE: 387311.13797262637, testing MAE: 385174.75077166496\n"
     ]
    }
   ],
   "source": [
    "# Calculate MAE\n",
    "print(\"training MAE: {}, testing MAE: {}\".format(\n",
    "    mean_absolute_error(y_train, lm.predict(OHE_train)),\n",
    "    mean_absolute_error(y_test, lm.predict(OHE_test)),    \n",
    "))"
   ]
  },
  {
   "cell_type": "code",
   "execution_count": 23,
   "metadata": {},
   "outputs": [
    {
     "name": "stdout",
     "output_type": "stream",
     "text": [
      "training smape: 55.74853526953555, testing smape: 55.600733454777725\n"
     ]
    }
   ],
   "source": [
    "# Calculate sMAPE\n",
    "smape_training = smape(y_train, lm.predict(OHE_train))\n",
    "smape_testing = smape(y_test, lm.predict(OHE_test))\n",
    "print(\"training smape: {}, testing smape: {}\".format(smape_training, smape_testing))"
   ]
  },
  {
   "cell_type": "code",
   "execution_count": 24,
   "metadata": {},
   "outputs": [
    {
     "name": "stdout",
     "output_type": "stream",
     "text": [
      "training mape: 57.331085261495296, testing mape: 57.29912659476619\n"
     ]
    }
   ],
   "source": [
    "# Calulate MAPE\n",
    "mape_training = MAPE(y_train, lm.predict(OHE_train))\n",
    "mape_testing = MAPE(y_test, lm.predict(OHE_test))\n",
    "print(\"training mape: {}, testing mape: {}\".format(mape_training, mape_testing))"
   ]
  },
  {
   "cell_type": "markdown",
   "metadata": {},
   "source": [
    "### 2.5 Residual Plots for Feature-Crossed Model"
   ]
  },
  {
   "cell_type": "code",
   "execution_count": 25,
   "metadata": {},
   "outputs": [
    {
     "name": "stderr",
     "output_type": "stream",
     "text": [
      "/opt/anaconda3/lib/python3.8/site-packages/seaborn/_decorators.py:36: FutureWarning: Pass the following variables as keyword args: x, y. From version 0.12, the only valid positional argument will be `data`, and passing other arguments without an explicit keyword will result in an error or misinterpretation.\n",
      "  warnings.warn(\n"
     ]
    },
    {
     "data": {
      "text/plain": [
       "Text(0.5, 1.0, 'Residual plot')"
      ]
     },
     "execution_count": 25,
     "metadata": {},
     "output_type": "execute_result"
    },
    {
     "data": {
      "image/png": "[encoded data removed]",
      "text/plain": [
       "<Figure size 432x288 with 1 Axes>"
      ]
     },
     "metadata": {
      "needs_background": "light"
     },
     "output_type": "display_data"
    }
   ],
   "source": [
    "# Residual plot\n",
    "sns.residplot(lm.predict(OHE_test).reshape(-1),y_test,lowess=True,\n",
    "                                  line_kws={'color': 'red', 'lw': 1, 'alpha': 1})\n",
    "plt.xlabel(\"Fitted values\")\n",
    "plt.title('Residual plot')"
   ]
  },
  {
   "cell_type": "code",
   "execution_count": 26,
   "metadata": {},
   "outputs": [
    {
     "name": "stdout",
     "output_type": "stream",
     "text": [
      "67818    -233415.550263\n",
      "30034     745674.437832\n",
      "121580    -86514.448567\n",
      "118033   -358462.843182\n",
      "12315    -736341.248632\n",
      "              ...      \n",
      "104122   -867220.505538\n",
      "99154     347514.252831\n",
      "5262        7216.204099\n",
      "115977   -351399.002719\n",
      "63597    -461458.659873\n",
      "Name: price, Length: 26738, dtype: float64\n"
     ]
    },
    {
     "data": {
      "text/plain": [
       "Text(0.5, 1.0, 'Normal Q-Q Plot')"
      ]
     },
     "execution_count": 26,
     "metadata": {},
     "output_type": "execute_result"
    },
    {
     "data": {
      "image/png": "[encoded data removed]",
      "text/plain": [
       "<Figure size 504x504 with 1 Axes>"
      ]
     },
     "metadata": {
      "needs_background": "light"
     },
     "output_type": "display_data"
    }
   ],
   "source": [
    "# QQ Plot\n",
    "residuals = y_test - lm.predict(OHE_test).reshape(-1)\n",
    "print(residuals)\n",
    "plt.figure(figsize=(7,7))\n",
    "stats.probplot(residuals, dist=\"norm\", plot=plt)\n",
    "plt.title(\"Normal Q-Q Plot\")"
   ]
  },
  {
   "cell_type": "code",
   "execution_count": 27,
   "metadata": {},
   "outputs": [
    {
     "name": "stderr",
     "output_type": "stream",
     "text": [
      "/opt/anaconda3/lib/python3.8/site-packages/seaborn/_decorators.py:36: FutureWarning: Pass the following variables as keyword args: x, y. From version 0.12, the only valid positional argument will be `data`, and passing other arguments without an explicit keyword will result in an error or misinterpretation.\n",
      "  warnings.warn(\n"
     ]
    },
    {
     "data": {
      "text/plain": [
       "Text(0.5, 0, 'Fitted value')"
      ]
     },
     "execution_count": 27,
     "metadata": {},
     "output_type": "execute_result"
    },
    {
     "data": {
      "image/png": "[encoded data removed]",
      "text/plain": [
       "<Figure size 504x504 with 1 Axes>"
      ]
     },
     "metadata": {
      "needs_background": "light"
     },
     "output_type": "display_data"
    }
   ],
   "source": [
    "# Scale Location Plot\n",
    "norm_residuals_abs_sqrt=np.sqrt(np.abs(residuals))\n",
    "\n",
    "plt.figure(figsize=(7,7))\n",
    "sns.regplot(lm.predict(OHE_test).reshape(-1).reshape(-1), norm_residuals_abs_sqrt,\n",
    "              scatter=True,\n",
    "              lowess=True,\n",
    "              line_kws={'color': 'red', 'lw': 1, 'alpha': 0.8})\n",
    "plt.ylabel(\"Standarized residuals\")\n",
    "plt.xlabel(\"Fitted value\")"
   ]
  },
  {
   "cell_type": "code",
   "execution_count": 28,
   "metadata": {},
   "outputs": [
    {
     "data": {
      "text/html": [
       "<div>\n",
       "<style scoped>\n",
       "    .dataframe tbody tr th:only-of-type {\n",
       "        vertical-align: middle;\n",
       "    }\n",
       "\n",
       "    .dataframe tbody tr th {\n",
       "        vertical-align: top;\n",
       "    }\n",
       "\n",
       "    .dataframe thead th {\n",
       "        text-align: right;\n",
       "    }\n",
       "</style>\n",
       "<table border=\"1\" class=\"dataframe\">\n",
       "  <thead>\n",
       "    <tr style=\"text-align: right;\">\n",
       "      <th></th>\n",
       "      <th>features</th>\n",
       "      <th>coefficients</th>\n",
       "    </tr>\n",
       "  </thead>\n",
       "  <tbody>\n",
       "    <tr>\n",
       "      <th>0</th>\n",
       "      <td>district</td>\n",
       "      <td>-7.407646e+03</td>\n",
       "    </tr>\n",
       "    <tr>\n",
       "      <th>1</th>\n",
       "      <td>street</td>\n",
       "      <td>-8.668558e+01</td>\n",
       "    </tr>\n",
       "    <tr>\n",
       "      <th>2</th>\n",
       "      <td>propertyType</td>\n",
       "      <td>1.718733e+04</td>\n",
       "    </tr>\n",
       "    <tr>\n",
       "      <th>3</th>\n",
       "      <td>remaining_lease</td>\n",
       "      <td>8.729174e-01</td>\n",
       "    </tr>\n",
       "    <tr>\n",
       "      <th>4</th>\n",
       "      <td>school</td>\n",
       "      <td>4.488834e+03</td>\n",
       "    </tr>\n",
       "    <tr>\n",
       "      <th>5</th>\n",
       "      <td>hawkercentre</td>\n",
       "      <td>-6.178662e+04</td>\n",
       "    </tr>\n",
       "    <tr>\n",
       "      <th>6</th>\n",
       "      <td>supermarkets</td>\n",
       "      <td>-4.445241e+03</td>\n",
       "    </tr>\n",
       "    <tr>\n",
       "      <th>7</th>\n",
       "      <td>Bus Stops Nearby</td>\n",
       "      <td>6.081140e+04</td>\n",
       "    </tr>\n",
       "    <tr>\n",
       "      <th>8</th>\n",
       "      <td>crime_number</td>\n",
       "      <td>-6.531333e+02</td>\n",
       "    </tr>\n",
       "    <tr>\n",
       "      <th>9</th>\n",
       "      <td>floor_area_sqm</td>\n",
       "      <td>1.454584e+04</td>\n",
       "    </tr>\n",
       "    <tr>\n",
       "      <th>10</th>\n",
       "      <td>floor_range</td>\n",
       "      <td>6.736366e+04</td>\n",
       "    </tr>\n",
       "    <tr>\n",
       "      <th>11</th>\n",
       "      <td>sentiment</td>\n",
       "      <td>1.639895e+05</td>\n",
       "    </tr>\n",
       "    <tr>\n",
       "      <th>12</th>\n",
       "      <td>0</td>\n",
       "      <td>-1.935819e+05</td>\n",
       "    </tr>\n",
       "    <tr>\n",
       "      <th>13</th>\n",
       "      <td>1</td>\n",
       "      <td>-1.781836e+05</td>\n",
       "    </tr>\n",
       "    <tr>\n",
       "      <th>14</th>\n",
       "      <td>2</td>\n",
       "      <td>-1.943612e+05</td>\n",
       "    </tr>\n",
       "    <tr>\n",
       "      <th>15</th>\n",
       "      <td>3</td>\n",
       "      <td>3.233032e+05</td>\n",
       "    </tr>\n",
       "    <tr>\n",
       "      <th>16</th>\n",
       "      <td>4</td>\n",
       "      <td>3.973959e+05</td>\n",
       "    </tr>\n",
       "    <tr>\n",
       "      <th>17</th>\n",
       "      <td>5</td>\n",
       "      <td>1.459320e+05</td>\n",
       "    </tr>\n",
       "    <tr>\n",
       "      <th>18</th>\n",
       "      <td>6</td>\n",
       "      <td>4.510148e+04</td>\n",
       "    </tr>\n",
       "    <tr>\n",
       "      <th>19</th>\n",
       "      <td>7</td>\n",
       "      <td>6.980985e+03</td>\n",
       "    </tr>\n",
       "    <tr>\n",
       "      <th>20</th>\n",
       "      <td>8</td>\n",
       "      <td>-9.923572e+04</td>\n",
       "    </tr>\n",
       "    <tr>\n",
       "      <th>21</th>\n",
       "      <td>9</td>\n",
       "      <td>-2.533511e+05</td>\n",
       "    </tr>\n",
       "    <tr>\n",
       "      <th>22</th>\n",
       "      <td>10</td>\n",
       "      <td>1.466633e+06</td>\n",
       "    </tr>\n",
       "    <tr>\n",
       "      <th>23</th>\n",
       "      <td>11</td>\n",
       "      <td>5.889498e+04</td>\n",
       "    </tr>\n",
       "    <tr>\n",
       "      <th>24</th>\n",
       "      <td>12</td>\n",
       "      <td>6.162998e+05</td>\n",
       "    </tr>\n",
       "    <tr>\n",
       "      <th>25</th>\n",
       "      <td>13</td>\n",
       "      <td>2.803458e+05</td>\n",
       "    </tr>\n",
       "    <tr>\n",
       "      <th>26</th>\n",
       "      <td>14</td>\n",
       "      <td>-6.362996e+04</td>\n",
       "    </tr>\n",
       "    <tr>\n",
       "      <th>27</th>\n",
       "      <td>15</td>\n",
       "      <td>-2.232408e+05</td>\n",
       "    </tr>\n",
       "    <tr>\n",
       "      <th>28</th>\n",
       "      <td>16</td>\n",
       "      <td>-3.997177e+05</td>\n",
       "    </tr>\n",
       "    <tr>\n",
       "      <th>29</th>\n",
       "      <td>17</td>\n",
       "      <td>-3.988602e+05</td>\n",
       "    </tr>\n",
       "    <tr>\n",
       "      <th>30</th>\n",
       "      <td>18</td>\n",
       "      <td>-5.986005e+05</td>\n",
       "    </tr>\n",
       "    <tr>\n",
       "      <th>31</th>\n",
       "      <td>19</td>\n",
       "      <td>-7.381248e+05</td>\n",
       "    </tr>\n",
       "  </tbody>\n",
       "</table>\n",
       "</div>"
      ],
      "text/plain": [
       "            features  coefficients\n",
       "0           district -7.407646e+03\n",
       "1             street -8.668558e+01\n",
       "2       propertyType  1.718733e+04\n",
       "3    remaining_lease  8.729174e-01\n",
       "4             school  4.488834e+03\n",
       "5       hawkercentre -6.178662e+04\n",
       "6       supermarkets -4.445241e+03\n",
       "7   Bus Stops Nearby  6.081140e+04\n",
       "8       crime_number -6.531333e+02\n",
       "9     floor_area_sqm  1.454584e+04\n",
       "10       floor_range  6.736366e+04\n",
       "11         sentiment  1.639895e+05\n",
       "12                 0 -1.935819e+05\n",
       "13                 1 -1.781836e+05\n",
       "14                 2 -1.943612e+05\n",
       "15                 3  3.233032e+05\n",
       "16                 4  3.973959e+05\n",
       "17                 5  1.459320e+05\n",
       "18                 6  4.510148e+04\n",
       "19                 7  6.980985e+03\n",
       "20                 8 -9.923572e+04\n",
       "21                 9 -2.533511e+05\n",
       "22                10  1.466633e+06\n",
       "23                11  5.889498e+04\n",
       "24                12  6.162998e+05\n",
       "25                13  2.803458e+05\n",
       "26                14 -6.362996e+04\n",
       "27                15 -2.232408e+05\n",
       "28                16 -3.997177e+05\n",
       "29                17 -3.988602e+05\n",
       "30                18 -5.986005e+05\n",
       "31                19 -7.381248e+05"
      ]
     },
     "execution_count": 28,
     "metadata": {},
     "output_type": "execute_result"
    }
   ],
   "source": [
    "pd.DataFrame([x for x in zip(list(X_train.drop(features_to_drop, axis=1).columns) \\\n",
    "              + [str(x) for x in range(31)], lm.coef_)], columns=['features', 'coefficients'])"
   ]
  },
  {
   "cell_type": "markdown",
   "metadata": {},
   "source": [
    "### 3. Polynomial Regression and Error Metrics"
   ]
  },
  {
   "cell_type": "code",
   "execution_count": 29,
   "metadata": {},
   "outputs": [
    {
     "name": "stdout",
     "output_type": "stream",
     "text": [
      "training mse: 275513469823.94867, testing mse: 223747697579.1272\n",
      "training rmse: 524893.7700372797, testing rmse: 473019.76446986565\n"
     ]
    }
   ],
   "source": [
    "pre_process = PolynomialFeatures(degree=2)\n",
    "\n",
    "# Transform with OHE datasets\n",
    "X_poly = pre_process.fit_transform(OHE_train)\n",
    "X_test_poly = pre_process.transform(OHE_test)\n",
    "\n",
    "poly_model = LinearRegression()\n",
    "poly_model.fit(X_poly, y_train)\n",
    "\n",
    "mse_training = mse(poly_model.predict(X_poly), y_train)\n",
    "mse_testing = mse(poly_model.predict(X_test_poly), y_test)\n",
    "\n",
    "print(\"training mse: {}, testing mse: {}\".format(mse_training, mse_testing))\n",
    "print(\"training rmse: {}, testing rmse: {}\".format(np.sqrt(mse_training), np.sqrt(mse_testing)))"
   ]
  },
  {
   "cell_type": "code",
   "execution_count": 30,
   "metadata": {},
   "outputs": [
    {
     "name": "stdout",
     "output_type": "stream",
     "text": [
      "training R2: 0.9015621575605723, testing R2: 0.893700048770607\n",
      "training adjusted R2: 0.901043089700731, testing adjusted R2: 0.8914218445896898\n"
     ]
    }
   ],
   "source": [
    "# Compute R2 and adjusted R2\n",
    "print(\"training R2: {}, testing R2: {}\".format(poly_model.score(X_poly, y_train), \n",
    "                                               poly_model.score(X_test_poly, y_test)))\n",
    "print(\"training adjusted R2: {}, testing adjusted R2: {}\".format(\n",
    "    1 - (1-poly_model.score(X_poly, y_train))*(len(y_train)-1)/(len(y_train)-X_poly.shape[1]-1), \n",
    "    1 - (1-poly_model.score(X_test_poly, y_test))*(len(y_test)-1)/(len(y_test)-X_test_poly.shape[1]-1)))\n"
   ]
  },
  {
   "cell_type": "code",
   "execution_count": 31,
   "metadata": {},
   "outputs": [
    {
     "name": "stdout",
     "output_type": "stream",
     "text": [
      "training MAE: 214780.51870052062, testing MAE: 218572.1211694477\n"
     ]
    }
   ],
   "source": [
    "# Calculate MAE\n",
    "print(\"training MAE: {}, testing MAE: {}\".format(\n",
    "    mean_absolute_error(y_train, poly_model.predict(X_poly)),\n",
    "    mean_absolute_error(y_test, poly_model.predict(X_test_poly)),    \n",
    "))"
   ]
  },
  {
   "cell_type": "code",
   "execution_count": 32,
   "metadata": {},
   "outputs": [
    {
     "name": "stdout",
     "output_type": "stream",
     "text": [
      "training smape: 25.232065680355827, testing smape: 25.56277631533114\n"
     ]
    }
   ],
   "source": [
    "# Calculate sMAPE\n",
    "smape_training = smape(y_train, poly_model.predict(X_poly))\n",
    "smape_testing = smape(y_test, poly_model.predict(X_test_poly))\n",
    "print(\"training smape: {}, testing smape: {}\".format(smape_training, smape_testing))"
   ]
  },
  {
   "cell_type": "code",
   "execution_count": 33,
   "metadata": {},
   "outputs": [
    {
     "name": "stdout",
     "output_type": "stream",
     "text": [
      "training mape: 24.97614665134636, testing mape: 25.457807019000622\n"
     ]
    }
   ],
   "source": [
    "# Calculate MAPE\n",
    "mape_training = MAPE(y_train, poly_model.predict(X_poly))\n",
    "mape_testing = MAPE(y_test, poly_model.predict(X_test_poly))\n",
    "print(\"training mape: {}, testing mape: {}\".format(mape_training, mape_testing))"
   ]
  },
  {
   "cell_type": "code",
   "execution_count": 34,
   "metadata": {},
   "outputs": [
    {
     "data": {
      "text/html": [
       "<div>\n",
       "<style scoped>\n",
       "    .dataframe tbody tr th:only-of-type {\n",
       "        vertical-align: middle;\n",
       "    }\n",
       "\n",
       "    .dataframe tbody tr th {\n",
       "        vertical-align: top;\n",
       "    }\n",
       "\n",
       "    .dataframe thead th {\n",
       "        text-align: right;\n",
       "    }\n",
       "</style>\n",
       "<table border=\"1\" class=\"dataframe\">\n",
       "  <thead>\n",
       "    <tr style=\"text-align: right;\">\n",
       "      <th></th>\n",
       "      <th>features</th>\n",
       "      <th>coefficients</th>\n",
       "    </tr>\n",
       "  </thead>\n",
       "  <tbody>\n",
       "    <tr>\n",
       "      <th>0</th>\n",
       "      <td>district</td>\n",
       "      <td>-2.035809e+00</td>\n",
       "    </tr>\n",
       "    <tr>\n",
       "      <th>1</th>\n",
       "      <td>street</td>\n",
       "      <td>-8.530041e+04</td>\n",
       "    </tr>\n",
       "    <tr>\n",
       "      <th>2</th>\n",
       "      <td>propertyType</td>\n",
       "      <td>7.515076e+01</td>\n",
       "    </tr>\n",
       "    <tr>\n",
       "      <th>3</th>\n",
       "      <td>remaining_lease</td>\n",
       "      <td>1.251921e+05</td>\n",
       "    </tr>\n",
       "    <tr>\n",
       "      <th>4</th>\n",
       "      <td>school</td>\n",
       "      <td>8.579302e+03</td>\n",
       "    </tr>\n",
       "    <tr>\n",
       "      <th>5</th>\n",
       "      <td>hawkercentre</td>\n",
       "      <td>6.833019e+04</td>\n",
       "    </tr>\n",
       "    <tr>\n",
       "      <th>6</th>\n",
       "      <td>supermarkets</td>\n",
       "      <td>5.317201e+05</td>\n",
       "    </tr>\n",
       "    <tr>\n",
       "      <th>7</th>\n",
       "      <td>Bus Stops Nearby</td>\n",
       "      <td>-2.828872e+06</td>\n",
       "    </tr>\n",
       "    <tr>\n",
       "      <th>8</th>\n",
       "      <td>crime_number</td>\n",
       "      <td>1.961463e+05</td>\n",
       "    </tr>\n",
       "    <tr>\n",
       "      <th>9</th>\n",
       "      <td>floor_area_sqm</td>\n",
       "      <td>1.633853e+03</td>\n",
       "    </tr>\n",
       "    <tr>\n",
       "      <th>10</th>\n",
       "      <td>floor_range</td>\n",
       "      <td>4.657885e+03</td>\n",
       "    </tr>\n",
       "    <tr>\n",
       "      <th>11</th>\n",
       "      <td>sentiment</td>\n",
       "      <td>-1.637565e+05</td>\n",
       "    </tr>\n",
       "    <tr>\n",
       "      <th>12</th>\n",
       "      <td>0</td>\n",
       "      <td>6.416586e+05</td>\n",
       "    </tr>\n",
       "    <tr>\n",
       "      <th>13</th>\n",
       "      <td>1</td>\n",
       "      <td>-2.149309e+02</td>\n",
       "    </tr>\n",
       "    <tr>\n",
       "      <th>14</th>\n",
       "      <td>2</td>\n",
       "      <td>3.267640e+03</td>\n",
       "    </tr>\n",
       "    <tr>\n",
       "      <th>15</th>\n",
       "      <td>3</td>\n",
       "      <td>5.350554e+05</td>\n",
       "    </tr>\n",
       "    <tr>\n",
       "      <th>16</th>\n",
       "      <td>4</td>\n",
       "      <td>1.034943e+06</td>\n",
       "    </tr>\n",
       "    <tr>\n",
       "      <th>17</th>\n",
       "      <td>5</td>\n",
       "      <td>1.504637e+05</td>\n",
       "    </tr>\n",
       "    <tr>\n",
       "      <th>18</th>\n",
       "      <td>6</td>\n",
       "      <td>-8.835748e+05</td>\n",
       "    </tr>\n",
       "    <tr>\n",
       "      <th>19</th>\n",
       "      <td>7</td>\n",
       "      <td>-1.375708e+06</td>\n",
       "    </tr>\n",
       "    <tr>\n",
       "      <th>20</th>\n",
       "      <td>8</td>\n",
       "      <td>5.563244e+05</td>\n",
       "    </tr>\n",
       "    <tr>\n",
       "      <th>21</th>\n",
       "      <td>9</td>\n",
       "      <td>-1.263462e+04</td>\n",
       "    </tr>\n",
       "    <tr>\n",
       "      <th>22</th>\n",
       "      <td>10</td>\n",
       "      <td>-7.922095e+03</td>\n",
       "    </tr>\n",
       "    <tr>\n",
       "      <th>23</th>\n",
       "      <td>11</td>\n",
       "      <td>-2.549353e+04</td>\n",
       "    </tr>\n",
       "    <tr>\n",
       "      <th>24</th>\n",
       "      <td>12</td>\n",
       "      <td>-1.806610e+06</td>\n",
       "    </tr>\n",
       "    <tr>\n",
       "      <th>25</th>\n",
       "      <td>13</td>\n",
       "      <td>9.332428e+04</td>\n",
       "    </tr>\n",
       "    <tr>\n",
       "      <th>26</th>\n",
       "      <td>14</td>\n",
       "      <td>-3.639632e+05</td>\n",
       "    </tr>\n",
       "    <tr>\n",
       "      <th>27</th>\n",
       "      <td>15</td>\n",
       "      <td>9.297846e+05</td>\n",
       "    </tr>\n",
       "    <tr>\n",
       "      <th>28</th>\n",
       "      <td>16</td>\n",
       "      <td>1.102994e+06</td>\n",
       "    </tr>\n",
       "    <tr>\n",
       "      <th>29</th>\n",
       "      <td>17</td>\n",
       "      <td>-8.012426e+05</td>\n",
       "    </tr>\n",
       "    <tr>\n",
       "      <th>30</th>\n",
       "      <td>18</td>\n",
       "      <td>8.707395e+05</td>\n",
       "    </tr>\n",
       "    <tr>\n",
       "      <th>31</th>\n",
       "      <td>19</td>\n",
       "      <td>-6.454677e+03</td>\n",
       "    </tr>\n",
       "    <tr>\n",
       "      <th>32</th>\n",
       "      <td>20</td>\n",
       "      <td>6.920979e+03</td>\n",
       "    </tr>\n",
       "    <tr>\n",
       "      <th>33</th>\n",
       "      <td>21</td>\n",
       "      <td>1.130479e+04</td>\n",
       "    </tr>\n",
       "    <tr>\n",
       "      <th>34</th>\n",
       "      <td>22</td>\n",
       "      <td>-7.515927e+00</td>\n",
       "    </tr>\n",
       "    <tr>\n",
       "      <th>35</th>\n",
       "      <td>23</td>\n",
       "      <td>7.676675e+01</td>\n",
       "    </tr>\n",
       "    <tr>\n",
       "      <th>36</th>\n",
       "      <td>24</td>\n",
       "      <td>-7.514965e-02</td>\n",
       "    </tr>\n",
       "    <tr>\n",
       "      <th>37</th>\n",
       "      <td>25</td>\n",
       "      <td>-3.652605e+04</td>\n",
       "    </tr>\n",
       "    <tr>\n",
       "      <th>38</th>\n",
       "      <td>26</td>\n",
       "      <td>-1.109322e+05</td>\n",
       "    </tr>\n",
       "    <tr>\n",
       "      <th>39</th>\n",
       "      <td>27</td>\n",
       "      <td>1.682827e+05</td>\n",
       "    </tr>\n",
       "    <tr>\n",
       "      <th>40</th>\n",
       "      <td>28</td>\n",
       "      <td>1.593196e+03</td>\n",
       "    </tr>\n",
       "    <tr>\n",
       "      <th>41</th>\n",
       "      <td>29</td>\n",
       "      <td>-5.456389e+03</td>\n",
       "    </tr>\n",
       "    <tr>\n",
       "      <th>42</th>\n",
       "      <td>30</td>\n",
       "      <td>1.017914e+02</td>\n",
       "    </tr>\n",
       "  </tbody>\n",
       "</table>\n",
       "</div>"
      ],
      "text/plain": [
       "            features  coefficients\n",
       "0           district -2.035809e+00\n",
       "1             street -8.530041e+04\n",
       "2       propertyType  7.515076e+01\n",
       "3    remaining_lease  1.251921e+05\n",
       "4             school  8.579302e+03\n",
       "5       hawkercentre  6.833019e+04\n",
       "6       supermarkets  5.317201e+05\n",
       "7   Bus Stops Nearby -2.828872e+06\n",
       "8       crime_number  1.961463e+05\n",
       "9     floor_area_sqm  1.633853e+03\n",
       "10       floor_range  4.657885e+03\n",
       "11         sentiment -1.637565e+05\n",
       "12                 0  6.416586e+05\n",
       "13                 1 -2.149309e+02\n",
       "14                 2  3.267640e+03\n",
       "15                 3  5.350554e+05\n",
       "16                 4  1.034943e+06\n",
       "17                 5  1.504637e+05\n",
       "18                 6 -8.835748e+05\n",
       "19                 7 -1.375708e+06\n",
       "20                 8  5.563244e+05\n",
       "21                 9 -1.263462e+04\n",
       "22                10 -7.922095e+03\n",
       "23                11 -2.549353e+04\n",
       "24                12 -1.806610e+06\n",
       "25                13  9.332428e+04\n",
       "26                14 -3.639632e+05\n",
       "27                15  9.297846e+05\n",
       "28                16  1.102994e+06\n",
       "29                17 -8.012426e+05\n",
       "30                18  8.707395e+05\n",
       "31                19 -6.454677e+03\n",
       "32                20  6.920979e+03\n",
       "33                21  1.130479e+04\n",
       "34                22 -7.515927e+00\n",
       "35                23  7.676675e+01\n",
       "36                24 -7.514965e-02\n",
       "37                25 -3.652605e+04\n",
       "38                26 -1.109322e+05\n",
       "39                27  1.682827e+05\n",
       "40                28  1.593196e+03\n",
       "41                29 -5.456389e+03\n",
       "42                30  1.017914e+02"
      ]
     },
     "execution_count": 34,
     "metadata": {},
     "output_type": "execute_result"
    }
   ],
   "source": [
    "pd.DataFrame([x for x in zip(list(X_train.drop(features_to_drop, axis=1).columns) \\\n",
    "              + [str(x) for x in range(31)], poly_model.coef_)], columns=['features', 'coefficients'])"
   ]
  }
 ],
 "metadata": {
  "kernelspec": {
   "display_name": "Python 3",
   "language": "python",
   "name": "python3"
  },
  "language_info": {
   "codemirror_mode": {
    "name": "ipython",
    "version": 3
   },
   "file_extension": ".py",
   "mimetype": "text/x-python",
   "name": "python",
   "nbconvert_exporter": "python",
   "pygments_lexer": "ipython3",
   "version": "3.8.3"
  }
 },
 "nbformat": 4,
 "nbformat_minor": 4
}
