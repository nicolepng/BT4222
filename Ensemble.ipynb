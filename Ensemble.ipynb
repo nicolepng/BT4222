{
  "nbformat": 4,
  "nbformat_minor": 0,
  "metadata": {
    "colab": {
      "name": "Ensemble.ipynb",
      "provenance": []
    },
    "kernelspec": {
      "display_name": "Python 3",
      "name": "python3"
    },
    "language_info": {
      "name": "python"
    }
  },
  "cells": [
    {
      "cell_type": "code",
      "metadata": {
        "colab": {
          "base_uri": "https://localhost:8080/"
        },
        "id": "_3yCiVlrpPv0",
        "outputId": "63d393d5-b356-4a8a-82a1-5ae5bf7483d3"
      },
      "source": [
        "import numpy as np\n",
        "import seaborn as sns\n",
        "import matplotlib.pyplot as plt\n",
        "import pandas as pd\n",
        "from google.colab import drive\n",
        "# compare ensemble to each standalone models for regression\n",
        "from numpy import mean\n",
        "from numpy import std\n",
        "from sklearn.datasets import make_regression\n",
        "from sklearn.model_selection import cross_val_score\n",
        "from sklearn.model_selection import RepeatedKFold\n",
        "from sklearn.linear_model import LinearRegression\n",
        "from sklearn.neighbors import KNeighborsRegressor\n",
        "from sklearn.tree import DecisionTreeRegressor\n",
        "from sklearn.ensemble import StackingRegressor\n",
        "from matplotlib import pyplot\n",
        "from sklearn.pipeline import make_pipeline\n",
        "from sklearn.ensemble import RandomForestRegressor\n",
        "from sklearn import preprocessing\n",
        "from sklearn.kernel_ridge import KernelRidge\n",
        "from sklearn.metrics import mean_squared_log_error\n",
        "from sklearn import preprocessing\n",
        "import numpy as np\n",
        "import pandas as pd\n",
        "from sklearn.metrics import mean_squared_error, mean_absolute_error, r2_score\n",
        "from sklearn.model_selection import GridSearchCV\n",
        "from sklearn.preprocessing import LabelEncoder\n",
        "from sklearn.preprocessing import StandardScaler\n",
        "\n",
        "import warnings\n",
        "warnings.simplefilter(action='ignore', category=FutureWarning)\n",
        "\n",
        "drive.mount('/content/drive')"
      ],
      "execution_count": 48,
      "outputs": [
        {
          "output_type": "stream",
          "text": [
            "Drive already mounted at /content/drive; to attempt to forcibly remount, call drive.mount(\"/content/drive\", force_remount=True).\n"
          ],
          "name": "stdout"
        }
      ]
    },
    {
      "cell_type": "code",
      "metadata": {
        "id": "XkwKTMbFphTu"
      },
      "source": [
        "path = '/content/drive/My Drive/bt4222code'"
      ],
      "execution_count": 49,
      "outputs": []
    },
    {
      "cell_type": "code",
      "metadata": {
        "colab": {
          "base_uri": "https://localhost:8080/",
          "height": 195
        },
        "id": "AQGswXm1p3aD",
        "outputId": "9b386d9a-ad0b-47b6-a18e-456d71a3f905"
      },
      "source": [
        "X_train = pd.read_csv(path + '/training_set.csv')\n",
        "X_train.head()"
      ],
      "execution_count": 50,
      "outputs": [
        {
          "output_type": "execute_result",
          "data": {
            "text/html": [
              "<div>\n",
              "<style scoped>\n",
              "    .dataframe tbody tr th:only-of-type {\n",
              "        vertical-align: middle;\n",
              "    }\n",
              "\n",
              "    .dataframe tbody tr th {\n",
              "        vertical-align: top;\n",
              "    }\n",
              "\n",
              "    .dataframe thead th {\n",
              "        text-align: right;\n",
              "    }\n",
              "</style>\n",
              "<table border=\"1\" class=\"dataframe\">\n",
              "  <thead>\n",
              "    <tr style=\"text-align: right;\">\n",
              "      <th></th>\n",
              "      <th>district</th>\n",
              "      <th>street</th>\n",
              "      <th>propertyType</th>\n",
              "      <th>remaining_lease</th>\n",
              "      <th>school</th>\n",
              "      <th>hawkercentre</th>\n",
              "      <th>supermarkets</th>\n",
              "      <th>Bus Stops Nearby</th>\n",
              "      <th>crime_number</th>\n",
              "      <th>latitude</th>\n",
              "      <th>longitude</th>\n",
              "      <th>floor_area_sqm</th>\n",
              "      <th>floor_range</th>\n",
              "      <th>sentiment</th>\n",
              "    </tr>\n",
              "  </thead>\n",
              "  <tbody>\n",
              "    <tr>\n",
              "      <th>0</th>\n",
              "      <td>20</td>\n",
              "      <td>1487</td>\n",
              "      <td>8</td>\n",
              "      <td>-0.028291</td>\n",
              "      <td>37</td>\n",
              "      <td>11</td>\n",
              "      <td>5</td>\n",
              "      <td>1</td>\n",
              "      <td>122.714286</td>\n",
              "      <td>1.384051</td>\n",
              "      <td>103.900061</td>\n",
              "      <td>0.333809</td>\n",
              "      <td>1</td>\n",
              "      <td>0.056981</td>\n",
              "    </tr>\n",
              "    <tr>\n",
              "      <th>1</th>\n",
              "      <td>21</td>\n",
              "      <td>668</td>\n",
              "      <td>6</td>\n",
              "      <td>0.130119</td>\n",
              "      <td>40</td>\n",
              "      <td>1</td>\n",
              "      <td>8</td>\n",
              "      <td>0</td>\n",
              "      <td>-1.000000</td>\n",
              "      <td>1.358962</td>\n",
              "      <td>103.763673</td>\n",
              "      <td>-0.261162</td>\n",
              "      <td>2</td>\n",
              "      <td>0.145982</td>\n",
              "    </tr>\n",
              "    <tr>\n",
              "      <th>2</th>\n",
              "      <td>23</td>\n",
              "      <td>291</td>\n",
              "      <td>3</td>\n",
              "      <td>-0.030116</td>\n",
              "      <td>24</td>\n",
              "      <td>1</td>\n",
              "      <td>11</td>\n",
              "      <td>0</td>\n",
              "      <td>169.428571</td>\n",
              "      <td>1.383134</td>\n",
              "      <td>103.744511</td>\n",
              "      <td>-0.092774</td>\n",
              "      <td>1</td>\n",
              "      <td>0.073223</td>\n",
              "    </tr>\n",
              "    <tr>\n",
              "      <th>3</th>\n",
              "      <td>18</td>\n",
              "      <td>1734</td>\n",
              "      <td>4</td>\n",
              "      <td>-0.028981</td>\n",
              "      <td>26</td>\n",
              "      <td>4</td>\n",
              "      <td>14</td>\n",
              "      <td>0</td>\n",
              "      <td>163.857143</td>\n",
              "      <td>1.355347</td>\n",
              "      <td>103.960666</td>\n",
              "      <td>0.109292</td>\n",
              "      <td>1</td>\n",
              "      <td>0.052676</td>\n",
              "    </tr>\n",
              "    <tr>\n",
              "      <th>4</th>\n",
              "      <td>20</td>\n",
              "      <td>1932</td>\n",
              "      <td>4</td>\n",
              "      <td>-0.029067</td>\n",
              "      <td>37</td>\n",
              "      <td>11</td>\n",
              "      <td>5</td>\n",
              "      <td>0</td>\n",
              "      <td>122.714286</td>\n",
              "      <td>1.446986</td>\n",
              "      <td>103.799769</td>\n",
              "      <td>0.075614</td>\n",
              "      <td>1</td>\n",
              "      <td>0.083862</td>\n",
              "    </tr>\n",
              "  </tbody>\n",
              "</table>\n",
              "</div>"
            ],
            "text/plain": [
              "   district  street  propertyType  ...  floor_area_sqm  floor_range  sentiment\n",
              "0        20    1487             8  ...        0.333809            1   0.056981\n",
              "1        21     668             6  ...       -0.261162            2   0.145982\n",
              "2        23     291             3  ...       -0.092774            1   0.073223\n",
              "3        18    1734             4  ...        0.109292            1   0.052676\n",
              "4        20    1932             4  ...        0.075614            1   0.083862\n",
              "\n",
              "[5 rows x 14 columns]"
            ]
          },
          "metadata": {
            "tags": []
          },
          "execution_count": 50
        }
      ]
    },
    {
      "cell_type": "code",
      "metadata": {
        "colab": {
          "base_uri": "https://localhost:8080/",
          "height": 195
        },
        "id": "SSvStE8up-_x",
        "outputId": "628691e6-85d6-4407-8460-fc53a4caa0a5"
      },
      "source": [
        "y_train = pd.read_csv(path + '/training_labels.csv')\n",
        "y_train.head()"
      ],
      "execution_count": 51,
      "outputs": [
        {
          "output_type": "execute_result",
          "data": {
            "text/html": [
              "<div>\n",
              "<style scoped>\n",
              "    .dataframe tbody tr th:only-of-type {\n",
              "        vertical-align: middle;\n",
              "    }\n",
              "\n",
              "    .dataframe tbody tr th {\n",
              "        vertical-align: top;\n",
              "    }\n",
              "\n",
              "    .dataframe thead th {\n",
              "        text-align: right;\n",
              "    }\n",
              "</style>\n",
              "<table border=\"1\" class=\"dataframe\">\n",
              "  <thead>\n",
              "    <tr style=\"text-align: right;\">\n",
              "      <th></th>\n",
              "      <th>price</th>\n",
              "    </tr>\n",
              "  </thead>\n",
              "  <tbody>\n",
              "    <tr>\n",
              "      <th>0</th>\n",
              "      <td>-0.268334</td>\n",
              "    </tr>\n",
              "    <tr>\n",
              "      <th>1</th>\n",
              "      <td>0.137525</td>\n",
              "    </tr>\n",
              "    <tr>\n",
              "      <th>2</th>\n",
              "      <td>-0.392790</td>\n",
              "    </tr>\n",
              "    <tr>\n",
              "      <th>3</th>\n",
              "      <td>-0.319220</td>\n",
              "    </tr>\n",
              "    <tr>\n",
              "      <th>4</th>\n",
              "      <td>-0.322286</td>\n",
              "    </tr>\n",
              "  </tbody>\n",
              "</table>\n",
              "</div>"
            ],
            "text/plain": [
              "      price\n",
              "0 -0.268334\n",
              "1  0.137525\n",
              "2 -0.392790\n",
              "3 -0.319220\n",
              "4 -0.322286"
            ]
          },
          "metadata": {
            "tags": []
          },
          "execution_count": 51
        }
      ]
    },
    {
      "cell_type": "code",
      "metadata": {
        "colab": {
          "base_uri": "https://localhost:8080/",
          "height": 195
        },
        "id": "j_Pp6azFqCa_",
        "outputId": "6dcc3c97-025f-46ff-852b-8b5a17f226f9"
      },
      "source": [
        "X_test = pd.read_csv(path + '/testing_set.csv')\n",
        "X_test.head()"
      ],
      "execution_count": 52,
      "outputs": [
        {
          "output_type": "execute_result",
          "data": {
            "text/html": [
              "<div>\n",
              "<style scoped>\n",
              "    .dataframe tbody tr th:only-of-type {\n",
              "        vertical-align: middle;\n",
              "    }\n",
              "\n",
              "    .dataframe tbody tr th {\n",
              "        vertical-align: top;\n",
              "    }\n",
              "\n",
              "    .dataframe thead th {\n",
              "        text-align: right;\n",
              "    }\n",
              "</style>\n",
              "<table border=\"1\" class=\"dataframe\">\n",
              "  <thead>\n",
              "    <tr style=\"text-align: right;\">\n",
              "      <th></th>\n",
              "      <th>district</th>\n",
              "      <th>street</th>\n",
              "      <th>propertyType</th>\n",
              "      <th>remaining_lease</th>\n",
              "      <th>school</th>\n",
              "      <th>hawkercentre</th>\n",
              "      <th>supermarkets</th>\n",
              "      <th>Bus Stops Nearby</th>\n",
              "      <th>crime_number</th>\n",
              "      <th>latitude</th>\n",
              "      <th>longitude</th>\n",
              "      <th>floor_area_sqm</th>\n",
              "      <th>floor_range</th>\n",
              "      <th>sentiment</th>\n",
              "    </tr>\n",
              "  </thead>\n",
              "  <tbody>\n",
              "    <tr>\n",
              "      <th>0</th>\n",
              "      <td>27</td>\n",
              "      <td>1972</td>\n",
              "      <td>9</td>\n",
              "      <td>-0.026896</td>\n",
              "      <td>18</td>\n",
              "      <td>2</td>\n",
              "      <td>19</td>\n",
              "      <td>0</td>\n",
              "      <td>64.000000</td>\n",
              "      <td>1.425057</td>\n",
              "      <td>103.844262</td>\n",
              "      <td>-0.025418</td>\n",
              "      <td>2</td>\n",
              "      <td>0.071470</td>\n",
              "    </tr>\n",
              "    <tr>\n",
              "      <th>1</th>\n",
              "      <td>27</td>\n",
              "      <td>1988</td>\n",
              "      <td>2</td>\n",
              "      <td>-0.030849</td>\n",
              "      <td>18</td>\n",
              "      <td>2</td>\n",
              "      <td>19</td>\n",
              "      <td>0</td>\n",
              "      <td>64.000000</td>\n",
              "      <td>1.428767</td>\n",
              "      <td>103.832604</td>\n",
              "      <td>-0.407098</td>\n",
              "      <td>1</td>\n",
              "      <td>0.071470</td>\n",
              "    </tr>\n",
              "    <tr>\n",
              "      <th>2</th>\n",
              "      <td>20</td>\n",
              "      <td>141</td>\n",
              "      <td>4</td>\n",
              "      <td>-0.025876</td>\n",
              "      <td>37</td>\n",
              "      <td>11</td>\n",
              "      <td>5</td>\n",
              "      <td>0</td>\n",
              "      <td>122.714286</td>\n",
              "      <td>1.348742</td>\n",
              "      <td>103.711118</td>\n",
              "      <td>-0.025418</td>\n",
              "      <td>1</td>\n",
              "      <td>0.064371</td>\n",
              "    </tr>\n",
              "    <tr>\n",
              "      <th>3</th>\n",
              "      <td>19</td>\n",
              "      <td>1452</td>\n",
              "      <td>9</td>\n",
              "      <td>-0.026809</td>\n",
              "      <td>45</td>\n",
              "      <td>5</td>\n",
              "      <td>16</td>\n",
              "      <td>0</td>\n",
              "      <td>202.142857</td>\n",
              "      <td>1.401083</td>\n",
              "      <td>103.898665</td>\n",
              "      <td>-0.115225</td>\n",
              "      <td>3</td>\n",
              "      <td>0.083045</td>\n",
              "    </tr>\n",
              "    <tr>\n",
              "      <th>4</th>\n",
              "      <td>3</td>\n",
              "      <td>351</td>\n",
              "      <td>6</td>\n",
              "      <td>-0.026451</td>\n",
              "      <td>24</td>\n",
              "      <td>16</td>\n",
              "      <td>7</td>\n",
              "      <td>0</td>\n",
              "      <td>193.285714</td>\n",
              "      <td>1.303114</td>\n",
              "      <td>103.797330</td>\n",
              "      <td>-0.811229</td>\n",
              "      <td>2</td>\n",
              "      <td>0.091372</td>\n",
              "    </tr>\n",
              "  </tbody>\n",
              "</table>\n",
              "</div>"
            ],
            "text/plain": [
              "   district  street  propertyType  ...  floor_area_sqm  floor_range  sentiment\n",
              "0        27    1972             9  ...       -0.025418            2   0.071470\n",
              "1        27    1988             2  ...       -0.407098            1   0.071470\n",
              "2        20     141             4  ...       -0.025418            1   0.064371\n",
              "3        19    1452             9  ...       -0.115225            3   0.083045\n",
              "4         3     351             6  ...       -0.811229            2   0.091372\n",
              "\n",
              "[5 rows x 14 columns]"
            ]
          },
          "metadata": {
            "tags": []
          },
          "execution_count": 52
        }
      ]
    },
    {
      "cell_type": "code",
      "metadata": {
        "colab": {
          "base_uri": "https://localhost:8080/",
          "height": 195
        },
        "id": "Jlt3d2p5qDAc",
        "outputId": "559ede29-f75b-4266-d15f-833bb1f53fea"
      },
      "source": [
        "y_test = pd.read_csv(path + '/testing_labels.csv')\n",
        "y_test.head()"
      ],
      "execution_count": 53,
      "outputs": [
        {
          "output_type": "execute_result",
          "data": {
            "text/html": [
              "<div>\n",
              "<style scoped>\n",
              "    .dataframe tbody tr th:only-of-type {\n",
              "        vertical-align: middle;\n",
              "    }\n",
              "\n",
              "    .dataframe tbody tr th {\n",
              "        vertical-align: top;\n",
              "    }\n",
              "\n",
              "    .dataframe thead th {\n",
              "        text-align: right;\n",
              "    }\n",
              "</style>\n",
              "<table border=\"1\" class=\"dataframe\">\n",
              "  <thead>\n",
              "    <tr style=\"text-align: right;\">\n",
              "      <th></th>\n",
              "      <th>price</th>\n",
              "    </tr>\n",
              "  </thead>\n",
              "  <tbody>\n",
              "    <tr>\n",
              "      <th>0</th>\n",
              "      <td>0.014909</td>\n",
              "    </tr>\n",
              "    <tr>\n",
              "      <th>1</th>\n",
              "      <td>-0.415542</td>\n",
              "    </tr>\n",
              "    <tr>\n",
              "      <th>2</th>\n",
              "      <td>-0.291631</td>\n",
              "    </tr>\n",
              "    <tr>\n",
              "      <th>3</th>\n",
              "      <td>0.091544</td>\n",
              "    </tr>\n",
              "    <tr>\n",
              "      <th>4</th>\n",
              "      <td>-0.086249</td>\n",
              "    </tr>\n",
              "  </tbody>\n",
              "</table>\n",
              "</div>"
            ],
            "text/plain": [
              "      price\n",
              "0  0.014909\n",
              "1 -0.415542\n",
              "2 -0.291631\n",
              "3  0.091544\n",
              "4 -0.086249"
            ]
          },
          "metadata": {
            "tags": []
          },
          "execution_count": 53
        }
      ]
    },
    {
      "cell_type": "code",
      "metadata": {
        "colab": {
          "base_uri": "https://localhost:8080/"
        },
        "id": "vtUrFMdfx035",
        "outputId": "75b634ca-e479-4bb8-d3ab-8ad6d97be19b"
      },
      "source": [
        "# built stacking ensemble\n",
        "\n",
        "# Built level 0 \n",
        "\n",
        "def get_all_base_model_corr(X_train, y_train):\n",
        "  base_models = dict()\n",
        "  base_models['knn'] = KNeighborsRegressor()\n",
        "  base_models['lr'] = LinearRegression()\n",
        "  base_models['cart'] = DecisionTreeRegressor(criterion='mse', max_depth=None, max_features=None,\n",
        "                      max_leaf_nodes=800, min_impurity_decrease=0.0,\n",
        "                      min_impurity_split=None, min_samples_leaf=1,\n",
        "                      min_samples_split=15, min_weight_fraction_leaf=0.0,\n",
        "                      presort=False, random_state=42, splitter='best')\n",
        "  base_models['rf'] = RandomForestRegressor(bootstrap=True, criterion='mse', max_depth=None,\n",
        "                      max_features='auto', max_leaf_nodes=None,\n",
        "                      min_impurity_decrease=0.0, min_impurity_split=None,\n",
        "                      min_samples_leaf=1, min_samples_split=2,\n",
        "                      min_weight_fraction_leaf=0.0, n_estimators=150,\n",
        "                      n_jobs=None, oob_score=False, random_state=42, verbose=0,\n",
        "                      warm_start=False)\n",
        "  base_models['lgbm'] = LGBMRegressor(random_state=42)\n",
        "  n_df = y_train\n",
        "  for name, model1 in base_models.items():\n",
        "    model1.fit(X_train, y_train)\n",
        "    df = pd.DataFrame(model1.predict(X_train), columns=[name])\n",
        "    n_df = pd.concat([n_df, df], axis=1)\n",
        "  return n_df.corr(), base_models\n",
        "\n",
        "model_corr, models_dict = get_all_base_model_corr(X_train, y_train)"
      ],
      "execution_count": null,
      "outputs": [
        {
          "output_type": "stream",
          "text": [
            "/usr/local/lib/python3.7/dist-packages/ipykernel_launcher.py:24: DataConversionWarning: A column-vector y was passed when a 1d array was expected. Please change the shape of y to (n_samples,), for example using ravel().\n"
          ],
          "name": "stderr"
        }
      ]
    },
    {
      "cell_type": "code",
      "metadata": {
        "colab": {
          "base_uri": "https://localhost:8080/",
          "height": 225
        },
        "id": "_pCdNzHj2C3-",
        "outputId": "b1ab91dd-b43e-431e-a081-a3cbe800c230"
      },
      "source": [
        "model_corr"
      ],
      "execution_count": null,
      "outputs": [
        {
          "output_type": "execute_result",
          "data": {
            "text/html": [
              "<div>\n",
              "<style scoped>\n",
              "    .dataframe tbody tr th:only-of-type {\n",
              "        vertical-align: middle;\n",
              "    }\n",
              "\n",
              "    .dataframe tbody tr th {\n",
              "        vertical-align: top;\n",
              "    }\n",
              "\n",
              "    .dataframe thead th {\n",
              "        text-align: right;\n",
              "    }\n",
              "</style>\n",
              "<table border=\"1\" class=\"dataframe\">\n",
              "  <thead>\n",
              "    <tr style=\"text-align: right;\">\n",
              "      <th></th>\n",
              "      <th>price</th>\n",
              "      <th>knn</th>\n",
              "      <th>lr</th>\n",
              "      <th>cart</th>\n",
              "      <th>rf</th>\n",
              "      <th>lgbm</th>\n",
              "    </tr>\n",
              "  </thead>\n",
              "  <tbody>\n",
              "    <tr>\n",
              "      <th>price</th>\n",
              "      <td>1.000000</td>\n",
              "      <td>0.943162</td>\n",
              "      <td>0.880519</td>\n",
              "      <td>0.982172</td>\n",
              "      <td>0.994735</td>\n",
              "      <td>0.974082</td>\n",
              "    </tr>\n",
              "    <tr>\n",
              "      <th>knn</th>\n",
              "      <td>0.943162</td>\n",
              "      <td>1.000000</td>\n",
              "      <td>0.866228</td>\n",
              "      <td>0.944400</td>\n",
              "      <td>0.956680</td>\n",
              "      <td>0.954843</td>\n",
              "    </tr>\n",
              "    <tr>\n",
              "      <th>lr</th>\n",
              "      <td>0.880519</td>\n",
              "      <td>0.866228</td>\n",
              "      <td>1.000000</td>\n",
              "      <td>0.892835</td>\n",
              "      <td>0.898771</td>\n",
              "      <td>0.901334</td>\n",
              "    </tr>\n",
              "    <tr>\n",
              "      <th>cart</th>\n",
              "      <td>0.982172</td>\n",
              "      <td>0.944400</td>\n",
              "      <td>0.892835</td>\n",
              "      <td>1.000000</td>\n",
              "      <td>0.988172</td>\n",
              "      <td>0.977626</td>\n",
              "    </tr>\n",
              "    <tr>\n",
              "      <th>rf</th>\n",
              "      <td>0.994735</td>\n",
              "      <td>0.956680</td>\n",
              "      <td>0.898771</td>\n",
              "      <td>0.988172</td>\n",
              "      <td>1.000000</td>\n",
              "      <td>0.985000</td>\n",
              "    </tr>\n",
              "    <tr>\n",
              "      <th>lgbm</th>\n",
              "      <td>0.974082</td>\n",
              "      <td>0.954843</td>\n",
              "      <td>0.901334</td>\n",
              "      <td>0.977626</td>\n",
              "      <td>0.985000</td>\n",
              "      <td>1.000000</td>\n",
              "    </tr>\n",
              "  </tbody>\n",
              "</table>\n",
              "</div>"
            ],
            "text/plain": [
              "          price       knn        lr      cart        rf      lgbm\n",
              "price  1.000000  0.943162  0.880519  0.982172  0.994735  0.974082\n",
              "knn    0.943162  1.000000  0.866228  0.944400  0.956680  0.954843\n",
              "lr     0.880519  0.866228  1.000000  0.892835  0.898771  0.901334\n",
              "cart   0.982172  0.944400  0.892835  1.000000  0.988172  0.977626\n",
              "rf     0.994735  0.956680  0.898771  0.988172  1.000000  0.985000\n",
              "lgbm   0.974082  0.954843  0.901334  0.977626  0.985000  1.000000"
            ]
          },
          "metadata": {
            "tags": []
          },
          "execution_count": 15
        }
      ]
    },
    {
      "cell_type": "code",
      "metadata": {
        "id": "Mu-a2aci2QAq"
      },
      "source": [
        "# CART,RF and LGBM are all tree based and are v correlated, drop LGBM, use CART as Level1 Regressor"
      ],
      "execution_count": null,
      "outputs": []
    },
    {
      "cell_type": "code",
      "metadata": {
        "id": "cJmmQRz9y_R4"
      },
      "source": [
        "# get a stacking ensemble of models\n",
        "def stacking_regressor(base_models, level0_list, level1):\n",
        "  level0 = list()\n",
        "  new_base_models = dict()\n",
        "  for model in level0_list:\n",
        "    level0.append((model, base_models[model]))\n",
        "    new_base_models[model] = base_models[model]\n",
        "  level1 = base_models[level1]\n",
        "  model = StackingRegressor(estimators=level0, final_estimator=level1, cv=5)\n",
        "  new_base_models['stacking'] = model\n",
        "  return model, new_base_models\n",
        "\n",
        "sr, models_dict = stacking_regressor(models_dict, level0_list=['knn','lr', 'cart'], level1='rf')"
      ],
      "execution_count": null,
      "outputs": []
    },
    {
      "cell_type": "code",
      "metadata": {
        "colab": {
          "base_uri": "https://localhost:8080/"
        },
        "id": "XFaI32vO6Np1",
        "outputId": "8834c296-8fd4-4dcc-f177-39f5cc2bb430"
      },
      "source": [
        "models_dict"
      ],
      "execution_count": null,
      "outputs": [
        {
          "output_type": "execute_result",
          "data": {
            "text/plain": [
              "{'cart': DecisionTreeRegressor(ccp_alpha=0.0, criterion='mse', max_depth=None,\n",
              "                       max_features=None, max_leaf_nodes=800,\n",
              "                       min_impurity_decrease=0.0, min_impurity_split=None,\n",
              "                       min_samples_leaf=1, min_samples_split=15,\n",
              "                       min_weight_fraction_leaf=0.0, presort=False,\n",
              "                       random_state=42, splitter='best'),\n",
              " 'knn': KNeighborsRegressor(algorithm='auto', leaf_size=30, metric='minkowski',\n",
              "                     metric_params=None, n_jobs=None, n_neighbors=5, p=2,\n",
              "                     weights='uniform'),\n",
              " 'lr': LinearRegression(copy_X=True, fit_intercept=True, n_jobs=None, normalize=False),\n",
              " 'stacking': StackingRegressor(cv=5,\n",
              "                   estimators=[('knn',\n",
              "                                KNeighborsRegressor(algorithm='auto',\n",
              "                                                    leaf_size=30,\n",
              "                                                    metric='minkowski',\n",
              "                                                    metric_params=None,\n",
              "                                                    n_jobs=None, n_neighbors=5,\n",
              "                                                    p=2, weights='uniform')),\n",
              "                               ('lr',\n",
              "                                LinearRegression(copy_X=True, fit_intercept=True,\n",
              "                                                 n_jobs=None, normalize=False)),\n",
              "                               ('cart',\n",
              "                                DecisionTreeRegressor(ccp_alpha=0.0,\n",
              "                                                      criterion='mse',\n",
              "                                                      max_depth=None,\n",
              "                                                      max_feature...\n",
              "                   final_estimator=RandomForestRegressor(bootstrap=True,\n",
              "                                                         ccp_alpha=0.0,\n",
              "                                                         criterion='mse',\n",
              "                                                         max_depth=None,\n",
              "                                                         max_features='auto',\n",
              "                                                         max_leaf_nodes=None,\n",
              "                                                         max_samples=None,\n",
              "                                                         min_impurity_decrease=0.0,\n",
              "                                                         min_impurity_split=None,\n",
              "                                                         min_samples_leaf=1,\n",
              "                                                         min_samples_split=2,\n",
              "                                                         min_weight_fraction_leaf=0.0,\n",
              "                                                         n_estimators=150,\n",
              "                                                         n_jobs=None,\n",
              "                                                         oob_score=False,\n",
              "                                                         random_state=42,\n",
              "                                                         verbose=0,\n",
              "                                                         warm_start=False),\n",
              "                   n_jobs=None, passthrough=False, verbose=0)}"
            ]
          },
          "metadata": {
            "tags": []
          },
          "execution_count": 17
        }
      ]
    },
    {
      "cell_type": "code",
      "metadata": {
        "colab": {
          "base_uri": "https://localhost:8080/",
          "height": 386
        },
        "id": "kkEojWlR3Gt4",
        "outputId": "82b960e0-d089-48b4-c39d-b87d4ee203b5"
      },
      "source": [
        "# evaluate a given model using cross-validation\n",
        "def evaluate_model(model, X, y):\n",
        "\tcv = RepeatedKFold(n_splits=10, n_repeats=3, random_state=1)\n",
        "\tscores = cross_val_score(model, X, y, scoring='neg_mean_squared_error', cv=cv, n_jobs=-1, error_score='raise')\n",
        "\treturn scores\n",
        "\n",
        "results, names = list(), list()\n",
        "for name, model in models_dict.items():\n",
        "\tscores = evaluate_model(model, X_train, y_train)\n",
        "\tresults.append(scores)\n",
        "\tnames.append(name)\n",
        "\tprint('>%s %.3f (%.3f)' % (name, mean(scores), std(scores)))\n",
        "# plot model performance for comparison\n",
        "pyplot.boxplot(results, labels=names, showmeans=True)\n",
        "pyplot.show()"
      ],
      "execution_count": null,
      "outputs": [
        {
          "output_type": "stream",
          "text": [
            ">knn -0.212 (0.104)\n",
            ">lr -0.226 (0.062)\n",
            ">cart -0.123 (0.077)\n"
          ],
          "name": "stdout"
        },
        {
          "output_type": "stream",
          "text": [
            "/usr/local/lib/python3.7/dist-packages/joblib/externals/loky/process_executor.py:691: UserWarning: A worker stopped while some jobs were given to the executor. This can be caused by a too short worker timeout or by a memory leak.\n",
            "  \"timeout or by a memory leak.\", UserWarning\n"
          ],
          "name": "stderr"
        },
        {
          "output_type": "stream",
          "text": [
            ">stacking -0.098 (0.063)\n"
          ],
          "name": "stdout"
        },
        {
          "output_type": "display_data",
          "data": {
            "image/png": "[encoded data removed]",
            "text/plain": [
              "<Figure size 432x288 with 1 Axes>"
            ]
          },
          "metadata": {
            "tags": []
          }
        }
      ]
    },
    {
      "cell_type": "code",
      "metadata": {
        "id": "R-C48kly37y_"
      },
      "source": [
        ""
      ],
      "execution_count": null,
      "outputs": []
    },
    {
      "cell_type": "markdown",
      "metadata": {
        "id": "Mb1FbJhf4Dxj"
      },
      "source": [
        "# Metrics for Ensemble"
      ]
    },
    {
      "cell_type": "code",
      "metadata": {
        "colab": {
          "base_uri": "https://localhost:8080/"
        },
        "id": "2YCYeHLjat_I",
        "outputId": "eac4006e-d0ae-49ed-98fc-1794958d6736"
      },
      "source": [
        "# Convert both y_train and y_test back to series\n",
        "y_train = y_train.squeeze()\n",
        "y_test = y_test.squeeze()\n",
        "\n",
        "sr.fit(X_train, y_train)"
      ],
      "execution_count": null,
      "outputs": [
        {
          "output_type": "execute_result",
          "data": {
            "text/plain": [
              "StackingRegressor(cv=5,\n",
              "                  estimators=[('knn',\n",
              "                               KNeighborsRegressor(algorithm='auto',\n",
              "                                                   leaf_size=30,\n",
              "                                                   metric='minkowski',\n",
              "                                                   metric_params=None,\n",
              "                                                   n_jobs=None, n_neighbors=5,\n",
              "                                                   p=2, weights='uniform')),\n",
              "                              ('lr',\n",
              "                               LinearRegression(copy_X=True, fit_intercept=True,\n",
              "                                                n_jobs=None, normalize=False)),\n",
              "                              ('cart',\n",
              "                               DecisionTreeRegressor(ccp_alpha=0.0,\n",
              "                                                     criterion='mse',\n",
              "                                                     max_depth=None,\n",
              "                                                     max_feature...\n",
              "                  final_estimator=RandomForestRegressor(bootstrap=True,\n",
              "                                                        ccp_alpha=0.0,\n",
              "                                                        criterion='mse',\n",
              "                                                        max_depth=None,\n",
              "                                                        max_features='auto',\n",
              "                                                        max_leaf_nodes=None,\n",
              "                                                        max_samples=None,\n",
              "                                                        min_impurity_decrease=0.0,\n",
              "                                                        min_impurity_split=None,\n",
              "                                                        min_samples_leaf=1,\n",
              "                                                        min_samples_split=2,\n",
              "                                                        min_weight_fraction_leaf=0.0,\n",
              "                                                        n_estimators=150,\n",
              "                                                        n_jobs=None,\n",
              "                                                        oob_score=False,\n",
              "                                                        random_state=42,\n",
              "                                                        verbose=0,\n",
              "                                                        warm_start=False),\n",
              "                  n_jobs=None, passthrough=False, verbose=0)"
            ]
          },
          "metadata": {
            "tags": []
          },
          "execution_count": 19
        }
      ]
    },
    {
      "cell_type": "code",
      "metadata": {
        "colab": {
          "base_uri": "https://localhost:8080/"
        },
        "id": "KMY_bf9Ha0Y9",
        "outputId": "cbd3618a-6596-40d5-b2d5-753592d666d0"
      },
      "source": [
        "# Compute MSE\n",
        "def mse(y_predicted, y_true):\n",
        "  return np.mean(np.square(y_predicted - y_true))\n",
        "\n",
        "mse_training = mse(sr.predict(X_train), y_train)\n",
        "mse_testing = mse(sr.predict(X_test), y_test)\n",
        "\n",
        "print(\"training mse: {}, testing mse: {}\".format(mse_training, mse_testing))\n",
        "print(\"training rmse: {}, testing rmse: {}\".format(np.sqrt(mse_training), np.sqrt(mse_testing)))"
      ],
      "execution_count": null,
      "outputs": [
        {
          "output_type": "stream",
          "text": [
            "training mse: 0.042527784296762565, testing mse: 0.06358416096421753\n",
            "training rmse: 0.2062226570887946, testing rmse: 0.25215899937185965\n"
          ],
          "name": "stdout"
        }
      ]
    },
    {
      "cell_type": "code",
      "metadata": {
        "colab": {
          "base_uri": "https://localhost:8080/"
        },
        "id": "YUUftxh0a6Jm",
        "outputId": "913d1fb6-92a5-4bf1-8a4e-dc1d302ea1eb"
      },
      "source": [
        "\n",
        "# Compute R2 and adjusted R2\n",
        "print(\"training R2: {}, testing R2: {}\".format(sr.score(X_train, y_train), sr.score(X_test, y_test)))\n",
        "print(\"training adjusted R2: {}, testing adjusted R2: {}\".format(\n",
        "    1 - (1-sr.score(X_train, y_train))*(len(y_train)-1)/(len(y_train)-X_train.shape[1]-1), \n",
        "    1 - (1-sr.score(X_test, y_test))*(len(y_test)-1)/(len(y_test)-X_test.shape[1]-1)))"
      ],
      "execution_count": null,
      "outputs": [
        {
          "output_type": "stream",
          "text": [
            "training R2: 0.9574718593599956, testing R2: 0.9292466513827196\n",
            "training adjusted R2: 0.9574668699275014, testing adjusted R2: 0.9291718705522317\n"
          ],
          "name": "stdout"
        }
      ]
    },
    {
      "cell_type": "code",
      "metadata": {
        "colab": {
          "base_uri": "https://localhost:8080/"
        },
        "id": "RN7ITbu1bFQA",
        "outputId": "fd7b86db-d79c-439c-e0b2-4297edef54db"
      },
      "source": [
        "# Calculate MAE\n",
        "print(\"training MAE: {}, testing MAE: {}\".format(\n",
        "    mean_absolute_error(y_train, sr.predict(X_train)),\n",
        "    mean_absolute_error(y_test, sr.predict(X_test)),    \n",
        "))"
      ],
      "execution_count": null,
      "outputs": [
        {
          "output_type": "stream",
          "text": [
            "training MAE: 0.04520021746472263, testing MAE: 0.057140342081166536\n"
          ],
          "name": "stdout"
        }
      ]
    }
  ]
}