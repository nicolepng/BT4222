{
 "cells": [
  {
   "cell_type": "markdown",
   "metadata": {},
   "source": [
    "### Import Libraries"
   ]
  },
  {
   "cell_type": "code",
   "execution_count": 1,
   "metadata": {},
   "outputs": [],
   "source": [
    "import matplotlib.pyplot as plt\n",
    "import numpy as np\n",
    "import pandas as pd\n",
    "import seaborn as sns\n",
    "from sklearn import tree, ensemble, model_selection, metrics\n",
    "from sklearn.ensemble import RandomForestRegressor\n",
    "from sklearn.metrics import mean_squared_error, mean_absolute_error, r2_score\n",
    "from sklearn.model_selection import RandomizedSearchCV\n",
    "from sklearn.preprocessing import LabelEncoder"
   ]
  },
  {
   "cell_type": "markdown",
   "metadata": {},
   "source": [
    "### Import Datasets"
   ]
  },
  {
   "cell_type": "code",
   "execution_count": 2,
   "metadata": {},
   "outputs": [],
   "source": [
    "df = pd.read_csv('combined_psf.csv', index_col=0)"
   ]
  },
  {
   "cell_type": "markdown",
   "metadata": {},
   "source": [
    "### Label Encoding and Train-Test Split"
   ]
  },
  {
   "cell_type": "code",
   "execution_count": 3,
   "metadata": {},
   "outputs": [],
   "source": [
    "# Label encoding\n",
    "df['street'] = df['street'].astype('category')\n",
    "street_dict = dict(zip(df['street'].cat.codes, df['street']))\n",
    "df['street'] = df['street'].cat.codes\n",
    "\n",
    "df['propertyType'] = df['propertyType'].astype('category')\n",
    "property_dict = dict(zip(df['propertyType'].cat.codes, df['propertyType']))\n",
    "df['propertyType'] = df['propertyType'].cat.codes\n",
    "\n",
    "df['floor_range'] = df['floor_range'].astype('category')\n",
    "floor_dict = dict(zip(df['floor_range'].cat.codes, df['floor_range']))\n",
    "df['floor_range'] = df['floor_range'].cat.codes"
   ]
  },
  {
   "cell_type": "code",
   "execution_count": 4,
   "metadata": {},
   "outputs": [],
   "source": [
    "# Train-Test split\n",
    "x_train, x_test, y_train, y_test = model_selection.train_test_split(df.drop('price_psf', axis=1),\n",
    "                                                    df['price_psf'], \n",
    "                                                    test_size=0.2,\n",
    "                                                    random_state=1)"
   ]
  },
  {
   "cell_type": "markdown",
   "metadata": {},
   "source": [
    "### Summary of Results\n",
    "*Goal: Low RMSE, Low MAE, R2 close to 1, High Adjusted R2, Low MAPE, Low SMAPE\n",
    "\n",
    "Results:\n",
    "1. Default Decision Tree \n",
    "    - training mse: 189.02824441466748, testing mse: 9974.394392547632\n",
    "    - training rmse: 13.748754285922324, testing rmse: 99.8718899017518\n",
    "    - training mae: 2.8413158146490267, testing mae: 46.692932553568916\n",
    "    - training R2: 0.9992616802245956, testing R2: 0.9616051329794566\n",
    "    - training adjusted R2: 0.9992615835650965, testing adjusted R2: 0.9615850181668125\n",
    "    - training mape: 0.43643700325575846, testing mape: 6.376642229347042\n",
    "    - training smape: 0.4346875396966903, testing smape: 6.297509091283353\n",
    "2. Decision Tree with Randomized Search \n",
    "    - training mse: 2964.65569693096, testing mse: 9308.234737477758\n",
    "    - training rmse: 54.44865192941842, testing rmse: 96.47919328786782\n",
    "    - training mae: 26.272249263871053, testing mae: 45.829064691615265\n",
    "    - training R2: 0.9884204398390978, testing R2: 0.9641694101038872\n",
    "    - training adjusted R2: 0.9884189238638763, testing adjusted R2: 0.964150638698785\n",
    "    - training mape: 3.500009927066034, testing mape: 6.0080009792694895\n",
    "    - training smape: 3.4761947404453566, testing smape: 5.932191616543596\n",
    "3. Default Random Forest \n",
    "    - training mse: 1364.8182164699824, testing mse: 6705.372489310907\n",
    "    - training rmse: 36.94344619103614, testing rmse: 81.88633884422302\n",
    "    - training mae: 16.851178048850457, testing mae: 40.091410091439506\n",
    "    - training R2: 0.9946691972822781, testing R2: 0.9741887201449887\n",
    "    - training adjusted R2: 0.9946684993831595, testing adjusted R2: 0.9741751977890417\n",
    "    - training mape: 2.2672564545820224, testing mape: 5.380834300457535\n",
    "    - training smape: 2.2509681078033563, testing smape: 5.307133344194216\n",
    "4. Random Forest with Randomized Search (Best Result)\n",
    "    - training mse: 990.4215441980541, testing mse: 6200.896231904542\n",
    "    - training rmse: 31.470963509210424, testing rmse: 78.74576961275153\n",
    "    - training mae: 15.22635240286614, testing mae: 38.478511464639766\n",
    "    - training R2: 0.9961315420648787, testing R2: 0.9761306223854506\n",
    "    - training adjusted R2: 0.996131035613313, testing adjusted R2: 0.976118117379029\n",
    "    - training mape: 2.0698084175200955, testing mape: 5.185679325802893\n",
    "    - training smape: 2.0573082142421377, testing smape: 5.112297751252848"
   ]
  },
  {
   "cell_type": "markdown",
   "metadata": {},
   "source": [
    "### Define function for MAPE and sMAPE"
   ]
  },
  {
   "cell_type": "code",
   "execution_count": 5,
   "metadata": {},
   "outputs": [],
   "source": [
    "def percentage_error(actual, predicted):\n",
    "    res = np.empty(actual.shape)\n",
    "    for j in range(actual.shape[0]):\n",
    "        if actual[j] != 0:\n",
    "            res[j] = (actual[j] - predicted[j]) / actual[j]\n",
    "        else:\n",
    "            res[j] = predicted[j] / np.mean(actual)\n",
    "    return res\n",
    "\n",
    "def mean_absolute_percentage_error(y_true, y_pred): \n",
    "    return np.mean(np.abs(percentage_error(np.asarray(y_true), np.asarray(y_pred)))) * 100\n",
    "\n",
    "def smape(y_true, y_pred):\n",
    "    return 1/len(y_true) * np.sum(2 * np.abs(y_pred.squeeze()-y_true.squeeze()) / (np.abs(y_true.squeeze()) + np.abs(y_pred.squeeze()))*100)"
   ]
  },
  {
   "cell_type": "markdown",
   "metadata": {},
   "source": [
    "### Decision Tree"
   ]
  },
  {
   "cell_type": "markdown",
   "metadata": {},
   "source": [
    "#### (a) Basic Decision Tree with Default Parameters"
   ]
  },
  {
   "cell_type": "code",
   "execution_count": 6,
   "metadata": {},
   "outputs": [
    {
     "name": "stdout",
     "output_type": "stream",
     "text": [
      "[ 393.05170345 1570.50529128  309.67709969 ... 1924.42197663  674.77010143\n",
      "  379.77982775]\n",
      "training mse: 189.02824441466748, testing mse: 9974.394392547632\n",
      "training rmse: 13.748754285922324, testing rmse: 99.8718899017518\n",
      "training mae: 2.8413158146490267, testing mae: 46.692932553568916\n",
      "training R2: 0.9992616802245956, testing R2: 0.9616051329794566\n",
      "training adjusted R2: 0.9992615835650965, testing adjusted R2: 0.9615850181668125\n",
      "training mape: 0.43643700325575846, testing mape: 6.376642229347042\n",
      "training smape: 0.4346875396966903, testing smape: 6.297509091283353\n"
     ]
    },
    {
     "data": {
      "text/plain": [
       "Text(0.5, 1.0, 'Residual plot')"
      ]
     },
     "execution_count": 6,
     "metadata": {},
     "output_type": "execute_result"
    },
    {
     "data": {
      "image/png": "[encoded data removed]",
      "text/plain": [
       "<Figure size 432x288 with 1 Axes>"
      ]
     },
     "metadata": {
      "needs_background": "light"
     },
     "output_type": "display_data"
    }
   ],
   "source": [
    "# train model\n",
    "dt = tree.DecisionTreeRegressor()\n",
    "dt.fit(x_train,y_train)\n",
    "\n",
    "# make predictions on test set\n",
    "y_pred_train = dt.predict(x_train)\n",
    "y_pred = dt.predict(x_test)\n",
    "print(y_pred)\n",
    "\n",
    "# compute metrics \n",
    "train_mse = mean_squared_error(y_train,y_pred_train)\n",
    "test_mse = mean_squared_error(y_test,y_pred)\n",
    "\n",
    "train_mae = mean_absolute_error(y_train,y_pred_train)\n",
    "test_mae = mean_absolute_error(y_test,y_pred)\n",
    "\n",
    "train_r_squared = r2_score(y_train,y_pred_train)\n",
    "test_r_squared = r2_score(y_test,y_pred)\n",
    "\n",
    "train_adj_r_squared = 1 - (1-dt.score(x_train, y_train))*(len(y_train)-1)/(len(y_train)-x_train.shape[1]-1)\n",
    "test_adj_r_squared = 1 - (1-dt.score(x_test, y_test))*(len(y_test)-1)/(len(y_test)-x_test.shape[1]-1)\n",
    "\n",
    "train_mape = mean_absolute_percentage_error(y_train,y_pred_train)\n",
    "test_mape = mean_absolute_percentage_error(y_test,y_pred)\n",
    "\n",
    "train_smape = smape(y_train,y_pred_train)\n",
    "test_smape = smape(y_test,y_pred)\n",
    "\n",
    "print(\"training mse: {}, testing mse: {}\".format(train_mse, test_mse))\n",
    "print(\"training rmse: {}, testing rmse: {}\".format(np.sqrt(train_mse), np.sqrt(test_mse)))\n",
    "print(\"training mae: {}, testing mae: {}\".format(train_mae, test_mae))\n",
    "print(\"training R2: {}, testing R2: {}\".format(train_r_squared, test_r_squared))\n",
    "print(\"training adjusted R2: {}, testing adjusted R2: {}\".format(train_adj_r_squared, test_adj_r_squared))\n",
    "print(\"training mape: {}, testing mape: {}\".format(train_mape, test_mape))\n",
    "print(\"training smape: {}, testing smape: {}\".format(train_smape, test_smape))\n",
    "\n",
    "# residual plot\n",
    "sns.residplot(dt.predict(x_test).reshape(-1),y_test,lowess=True,\n",
    "                                  line_kws={'color': 'red', 'lw': 1, 'alpha': 1})\n",
    "plt.xlabel(\"Fitted values\")\n",
    "plt.title('Residual plot')"
   ]
  },
  {
   "cell_type": "markdown",
   "metadata": {},
   "source": [
    "#### (b) Decision Tree using Best Estimators from Randomized Search"
   ]
  },
  {
   "cell_type": "code",
   "execution_count": 7,
   "metadata": {},
   "outputs": [
    {
     "name": "stdout",
     "output_type": "stream",
     "text": [
      "Fitting 5 folds for each of 5 candidates, totalling 25 fits\n"
     ]
    },
    {
     "name": "stderr",
     "output_type": "stream",
     "text": [
      "/Users/tohjiaxuan/opt/anaconda3/lib/python3.7/site-packages/sklearn/model_selection/_search.py:266: UserWarning: The total space of parameters 5 is smaller than n_iter=10. Running 5 iterations. For exhaustive searches, use GridSearchCV.\n",
      "  % (grid_size, self.n_iter, grid_size), UserWarning)\n",
      "[Parallel(n_jobs=-1)]: Using backend LokyBackend with 4 concurrent workers.\n",
      "[Parallel(n_jobs=-1)]: Done  25 out of  25 | elapsed:    7.3s finished\n"
     ]
    },
    {
     "name": "stdout",
     "output_type": "stream",
     "text": [
      "best score: 0.9598699027572739\n",
      "best parameters:  {'min_samples_split': 12}\n",
      "best estimators:  DecisionTreeRegressor(criterion='mse', max_depth=None, max_features=None,\n",
      "                      max_leaf_nodes=None, min_impurity_decrease=0.0,\n",
      "                      min_impurity_split=None, min_samples_leaf=1,\n",
      "                      min_samples_split=12, min_weight_fraction_leaf=0.0,\n",
      "                      presort=False, random_state=42, splitter='best')\n"
     ]
    }
   ],
   "source": [
    "params = {'min_samples_split': [7,12,15,20,25]}\n",
    "rsearch_dt = RandomizedSearchCV(tree.DecisionTreeRegressor(random_state=42), \n",
    "                          params, \n",
    "                          scoring = 'r2',\n",
    "                          verbose=1, \n",
    "                          cv=model_selection.KFold(5), \n",
    "                          n_jobs=-1)\n",
    "rsearch_dt.fit(x_train, y_train)\n",
    "print('best score:', rsearch_dt.best_score_)\n",
    "print('best parameters: ', rsearch_dt.best_params_)\n",
    "print('best estimators: ', rsearch_dt.best_estimator_)"
   ]
  },
  {
   "cell_type": "code",
   "execution_count": 8,
   "metadata": {},
   "outputs": [
    {
     "name": "stdout",
     "output_type": "stream",
     "text": [
      "[ 351.41014396 1551.44044292  297.42510446 ... 1941.09935244  669.39563478\n",
      "  380.92835545]\n",
      "training mse: 2964.65569693096, testing mse: 9308.234737477758\n",
      "training rmse: 54.44865192941842, testing rmse: 96.47919328786782\n",
      "training mae: 26.272249263871053, testing mae: 45.829064691615265\n",
      "training R2: 0.9884204398390978, testing R2: 0.9641694101038872\n",
      "training adjusted R2: 0.9884189238638763, testing adjusted R2: 0.964150638698785\n",
      "training mape: 3.500009927066034, testing mape: 6.0080009792694895\n",
      "training smape: 3.4761947404453566, testing smape: 5.932191616543596\n"
     ]
    },
    {
     "data": {
      "text/plain": [
       "Text(0.5, 1.0, 'Residual plot')"
      ]
     },
     "execution_count": 8,
     "metadata": {},
     "output_type": "execute_result"
    },
    {
     "data": {
      "image/png": "[encoded data removed]",
      "text/plain": [
       "<Figure size 432x288 with 1 Axes>"
      ]
     },
     "metadata": {
      "needs_background": "light"
     },
     "output_type": "display_data"
    }
   ],
   "source": [
    "# make predictions on test set\n",
    "y_pred_train = rsearch_dt.predict(x_train)\n",
    "y_pred = rsearch_dt.predict(x_test)\n",
    "print(y_pred)\n",
    "\n",
    "# compute metrics \n",
    "train_mse = mean_squared_error(y_train,y_pred_train)\n",
    "test_mse = mean_squared_error(y_test,y_pred)\n",
    "\n",
    "train_mae = mean_absolute_error(y_train,y_pred_train)\n",
    "test_mae = mean_absolute_error(y_test,y_pred)\n",
    "\n",
    "train_r_squared = r2_score(y_train,y_pred_train)\n",
    "test_r_squared = r2_score(y_test,y_pred)\n",
    "\n",
    "train_adj_r_squared = 1 - (1-rsearch_dt.score(x_train, y_train))*(len(y_train)-1)/(len(y_train)-x_train.shape[1]-1)\n",
    "test_adj_r_squared = 1 - (1-rsearch_dt.score(x_test, y_test))*(len(y_test)-1)/(len(y_test)-x_test.shape[1]-1)\n",
    "\n",
    "train_mape = mean_absolute_percentage_error(y_train,y_pred_train)\n",
    "test_mape = mean_absolute_percentage_error(y_test,y_pred)\n",
    "\n",
    "train_smape = smape(y_train,y_pred_train)\n",
    "test_smape = smape(y_test,y_pred)\n",
    "\n",
    "print(\"training mse: {}, testing mse: {}\".format(train_mse, test_mse))\n",
    "print(\"training rmse: {}, testing rmse: {}\".format(np.sqrt(train_mse), np.sqrt(test_mse)))\n",
    "print(\"training mae: {}, testing mae: {}\".format(train_mae, test_mae))\n",
    "print(\"training R2: {}, testing R2: {}\".format(train_r_squared, test_r_squared))\n",
    "print(\"training adjusted R2: {}, testing adjusted R2: {}\".format(train_adj_r_squared, test_adj_r_squared))\n",
    "print(\"training mape: {}, testing mape: {}\".format(train_mape, test_mape))\n",
    "print(\"training smape: {}, testing smape: {}\".format(train_smape, test_smape))\n",
    "\n",
    "# residual plot\n",
    "sns.residplot(rsearch_dt.predict(x_test).reshape(-1),y_test,lowess=True,\n",
    "                                  line_kws={'color': 'red', 'lw': 1, 'alpha': 1})\n",
    "plt.xlabel(\"Fitted values\")\n",
    "plt.title('Residual plot')"
   ]
  },
  {
   "cell_type": "markdown",
   "metadata": {},
   "source": [
    "### Random Forest"
   ]
  },
  {
   "cell_type": "markdown",
   "metadata": {},
   "source": [
    "#### (a) Basic Random Forest with Default Parameters"
   ]
  },
  {
   "cell_type": "code",
   "execution_count": 9,
   "metadata": {},
   "outputs": [
    {
     "name": "stderr",
     "output_type": "stream",
     "text": [
      "/Users/tohjiaxuan/opt/anaconda3/lib/python3.7/site-packages/sklearn/ensemble/forest.py:245: FutureWarning: The default value of n_estimators will change from 10 in version 0.20 to 100 in 0.22.\n",
      "  \"10 in version 0.20 to 100 in 0.22.\", FutureWarning)\n"
     ]
    },
    {
     "name": "stdout",
     "output_type": "stream",
     "text": [
      "[ 358.97852952 1602.77304043  306.2928406  ... 2131.25550159  677.70388448\n",
      "  386.89559495]\n",
      "training mse: 1364.8182164699824, testing mse: 6705.372489310907\n",
      "training rmse: 36.94344619103614, testing rmse: 81.88633884422302\n",
      "training mae: 16.851178048850457, testing mae: 40.091410091439506\n",
      "training R2: 0.9946691972822781, testing R2: 0.9741887201449887\n",
      "training adjusted R2: 0.9946684993831595, testing adjusted R2: 0.9741751977890417\n",
      "training mape: 2.2672564545820224, testing mape: 5.380834300457535\n",
      "training smape: 2.2509681078033563, testing smape: 5.307133344194216\n"
     ]
    },
    {
     "data": {
      "text/plain": [
       "Text(0.5, 1.0, 'Residual plot')"
      ]
     },
     "execution_count": 9,
     "metadata": {},
     "output_type": "execute_result"
    },
    {
     "data": {
      "image/png": "[encoded data removed]",
      "text/plain": [
       "<Figure size 432x288 with 1 Axes>"
      ]
     },
     "metadata": {
      "needs_background": "light"
     },
     "output_type": "display_data"
    }
   ],
   "source": [
    "# train model\n",
    "rforest = ensemble.RandomForestRegressor()\n",
    "rforest.fit(x_train,y_train)\n",
    "\n",
    "# make predictions on test set\n",
    "y_pred_train = rforest.predict(x_train)\n",
    "y_pred = rforest.predict(x_test)\n",
    "print(y_pred)\n",
    "\n",
    "# compute metrics \n",
    "train_mse = mean_squared_error(y_train,y_pred_train)\n",
    "test_mse = mean_squared_error(y_test,y_pred)\n",
    "\n",
    "train_mae = mean_absolute_error(y_train,y_pred_train)\n",
    "test_mae = mean_absolute_error(y_test,y_pred)\n",
    "\n",
    "train_r_squared = r2_score(y_train,y_pred_train)\n",
    "test_r_squared = r2_score(y_test,y_pred)\n",
    "\n",
    "train_adj_r_squared = 1 - (1-rforest.score(x_train, y_train))*(len(y_train)-1)/(len(y_train)-x_train.shape[1]-1)\n",
    "test_adj_r_squared = 1 - (1-rforest.score(x_test, y_test))*(len(y_test)-1)/(len(y_test)-x_test.shape[1]-1)\n",
    "\n",
    "train_mape = mean_absolute_percentage_error(y_train,y_pred_train)\n",
    "test_mape = mean_absolute_percentage_error(y_test,y_pred)\n",
    "\n",
    "train_smape = smape(y_train,y_pred_train)\n",
    "test_smape = smape(y_test,y_pred)\n",
    "\n",
    "print(\"training mse: {}, testing mse: {}\".format(train_mse, test_mse))\n",
    "print(\"training rmse: {}, testing rmse: {}\".format(np.sqrt(train_mse), np.sqrt(test_mse)))\n",
    "print(\"training mae: {}, testing mae: {}\".format(train_mae, test_mae))\n",
    "print(\"training R2: {}, testing R2: {}\".format(train_r_squared, test_r_squared))\n",
    "print(\"training adjusted R2: {}, testing adjusted R2: {}\".format(train_adj_r_squared, test_adj_r_squared))\n",
    "print(\"training mape: {}, testing mape: {}\".format(train_mape, test_mape))\n",
    "print(\"training smape: {}, testing smape: {}\".format(train_smape, test_smape))\n",
    "\n",
    "# residual plot\n",
    "sns.residplot(rforest.predict(x_test).reshape(-1),y_test,lowess=True,\n",
    "                                  line_kws={'color': 'red', 'lw': 1, 'alpha': 1})\n",
    "plt.xlabel(\"Fitted values\")\n",
    "plt.title('Residual plot')"
   ]
  },
  {
   "cell_type": "code",
   "execution_count": 10,
   "metadata": {},
   "outputs": [
    {
     "data": {
      "text/plain": [
       "{'bootstrap': True,\n",
       " 'criterion': 'mse',\n",
       " 'max_depth': None,\n",
       " 'max_features': 'auto',\n",
       " 'max_leaf_nodes': None,\n",
       " 'min_impurity_decrease': 0.0,\n",
       " 'min_impurity_split': None,\n",
       " 'min_samples_leaf': 1,\n",
       " 'min_samples_split': 2,\n",
       " 'min_weight_fraction_leaf': 0.0,\n",
       " 'n_estimators': 10,\n",
       " 'n_jobs': None,\n",
       " 'oob_score': False,\n",
       " 'random_state': None,\n",
       " 'verbose': 0,\n",
       " 'warm_start': False}"
      ]
     },
     "execution_count": 10,
     "metadata": {},
     "output_type": "execute_result"
    }
   ],
   "source": [
    "rforest.get_params(deep=True)"
   ]
  },
  {
   "cell_type": "markdown",
   "metadata": {},
   "source": [
    "#### (b) Random Forest using Best Estimators from Randomized Search"
   ]
  },
  {
   "cell_type": "code",
   "execution_count": 11,
   "metadata": {},
   "outputs": [
    {
     "name": "stderr",
     "output_type": "stream",
     "text": [
      "/Users/tohjiaxuan/opt/anaconda3/lib/python3.7/site-packages/sklearn/model_selection/_search.py:266: UserWarning: The total space of parameters 4 is smaller than n_iter=10. Running 4 iterations. For exhaustive searches, use GridSearchCV.\n",
      "  % (grid_size, self.n_iter, grid_size), UserWarning)\n",
      "[Parallel(n_jobs=-1)]: Using backend LokyBackend with 4 concurrent workers.\n"
     ]
    },
    {
     "name": "stdout",
     "output_type": "stream",
     "text": [
      "Fitting 5 folds for each of 4 candidates, totalling 20 fits\n"
     ]
    },
    {
     "name": "stderr",
     "output_type": "stream",
     "text": [
      "[Parallel(n_jobs=-1)]: Done  20 out of  20 | elapsed: 10.6min finished\n"
     ]
    },
    {
     "name": "stdout",
     "output_type": "stream",
     "text": [
      "best score: 0.9737738228546212\n",
      "best parameters:  {'n_estimators': 250}\n",
      "best estimators:  RandomForestRegressor(bootstrap=True, criterion='mse', max_depth=None,\n",
      "                      max_features='auto', max_leaf_nodes=None,\n",
      "                      min_impurity_decrease=0.0, min_impurity_split=None,\n",
      "                      min_samples_leaf=1, min_samples_split=2,\n",
      "                      min_weight_fraction_leaf=0.0, n_estimators=250,\n",
      "                      n_jobs=None, oob_score=False, random_state=42, verbose=0,\n",
      "                      warm_start=False)\n"
     ]
    }
   ],
   "source": [
    "params = {'n_estimators': [100,150,200,250]}\n",
    "random_search_cv = RandomizedSearchCV(ensemble.RandomForestRegressor(random_state=42), \n",
    "                              params, \n",
    "                              scoring = 'r2', \n",
    "                              verbose=1, \n",
    "                              cv=model_selection.KFold(5),\n",
    "                              n_jobs = -1)\n",
    "random_search_cv.fit(x_train, y_train)\n",
    "print('best score:', random_search_cv.best_score_)\n",
    "print('best parameters: ', random_search_cv.best_params_)\n",
    "print('best estimators: ', random_search_cv.best_estimator_)"
   ]
  },
  {
   "cell_type": "code",
   "execution_count": 12,
   "metadata": {},
   "outputs": [
    {
     "name": "stdout",
     "output_type": "stream",
     "text": [
      "[ 352.8851993  1577.31712255  303.25262924 ... 2084.58047859  671.09933326\n",
      "  385.7207595 ]\n",
      "training mse: 990.4215441980541, testing mse: 6200.896231904542\n",
      "training rmse: 31.470963509210424, testing rmse: 78.74576961275153\n",
      "training mae: 15.22635240286614, testing mae: 38.478511464639766\n",
      "training R2: 0.9961315420648787, testing R2: 0.9761306223854506\n",
      "training adjusted R2: 0.996131035613313, testing adjusted R2: 0.976118117379029\n",
      "training mape: 2.0698084175200955, testing mape: 5.185679325802893\n",
      "training smape: 2.0573082142421377, testing smape: 5.112297751252848\n"
     ]
    },
    {
     "data": {
      "text/plain": [
       "Text(0.5, 1.0, 'Residual plot')"
      ]
     },
     "execution_count": 12,
     "metadata": {},
     "output_type": "execute_result"
    },
    {
     "data": {
      "image/png": "[encoded data removed]",
      "text/plain": [
       "<Figure size 432x288 with 1 Axes>"
      ]
     },
     "metadata": {
      "needs_background": "light"
     },
     "output_type": "display_data"
    }
   ],
   "source": [
    "# make predictions on test set\n",
    "y_pred_train = random_search_cv.predict(x_train)\n",
    "y_pred = random_search_cv.predict(x_test)\n",
    "print(y_pred)\n",
    "\n",
    "# compute metrics \n",
    "train_mse = mean_squared_error(y_train,y_pred_train)\n",
    "test_mse = mean_squared_error(y_test,y_pred)\n",
    "\n",
    "train_mae = mean_absolute_error(y_train,y_pred_train)\n",
    "test_mae = mean_absolute_error(y_test,y_pred)\n",
    "\n",
    "train_r_squared = r2_score(y_train,y_pred_train)\n",
    "test_r_squared = r2_score(y_test,y_pred)\n",
    "\n",
    "train_adj_r_squared = 1 - (1-random_search_cv.score(x_train, y_train))*(len(y_train)-1)/(len(y_train)-x_train.shape[1]-1)\n",
    "test_adj_r_squared = 1 - (1-random_search_cv.score(x_test, y_test))*(len(y_test)-1)/(len(y_test)-x_test.shape[1]-1)\n",
    "\n",
    "train_mape = mean_absolute_percentage_error(y_train,y_pred_train)\n",
    "test_mape = mean_absolute_percentage_error(y_test,y_pred)\n",
    "\n",
    "train_smape = smape(y_train,y_pred_train)\n",
    "test_smape = smape(y_test,y_pred)\n",
    "\n",
    "print(\"training mse: {}, testing mse: {}\".format(train_mse, test_mse))\n",
    "print(\"training rmse: {}, testing rmse: {}\".format(np.sqrt(train_mse), np.sqrt(test_mse)))\n",
    "print(\"training mae: {}, testing mae: {}\".format(train_mae, test_mae))\n",
    "print(\"training R2: {}, testing R2: {}\".format(train_r_squared, test_r_squared))\n",
    "print(\"training adjusted R2: {}, testing adjusted R2: {}\".format(train_adj_r_squared, test_adj_r_squared))\n",
    "print(\"training mape: {}, testing mape: {}\".format(train_mape, test_mape))\n",
    "print(\"training smape: {}, testing smape: {}\".format(train_smape, test_smape))\n",
    "\n",
    "# residual plot\n",
    "sns.residplot(random_search_cv.predict(x_test).reshape(-1),y_test,lowess=True,\n",
    "                                  line_kws={'color': 'red', 'lw': 1, 'alpha': 1})\n",
    "plt.xlabel(\"Fitted values\")\n",
    "plt.title('Residual plot')"
   ]
  },
  {
   "cell_type": "code",
   "execution_count": 13,
   "metadata": {},
   "outputs": [
    {
     "data": {
      "text/plain": [
       "{'cv': KFold(n_splits=5, random_state=None, shuffle=False),\n",
       " 'error_score': 'raise-deprecating',\n",
       " 'estimator__bootstrap': True,\n",
       " 'estimator__criterion': 'mse',\n",
       " 'estimator__max_depth': None,\n",
       " 'estimator__max_features': 'auto',\n",
       " 'estimator__max_leaf_nodes': None,\n",
       " 'estimator__min_impurity_decrease': 0.0,\n",
       " 'estimator__min_impurity_split': None,\n",
       " 'estimator__min_samples_leaf': 1,\n",
       " 'estimator__min_samples_split': 2,\n",
       " 'estimator__min_weight_fraction_leaf': 0.0,\n",
       " 'estimator__n_estimators': 'warn',\n",
       " 'estimator__n_jobs': None,\n",
       " 'estimator__oob_score': False,\n",
       " 'estimator__random_state': 42,\n",
       " 'estimator__verbose': 0,\n",
       " 'estimator__warm_start': False,\n",
       " 'estimator': RandomForestRegressor(bootstrap=True, criterion='mse', max_depth=None,\n",
       "                       max_features='auto', max_leaf_nodes=None,\n",
       "                       min_impurity_decrease=0.0, min_impurity_split=None,\n",
       "                       min_samples_leaf=1, min_samples_split=2,\n",
       "                       min_weight_fraction_leaf=0.0, n_estimators='warn',\n",
       "                       n_jobs=None, oob_score=False, random_state=42, verbose=0,\n",
       "                       warm_start=False),\n",
       " 'iid': 'warn',\n",
       " 'n_iter': 10,\n",
       " 'n_jobs': -1,\n",
       " 'param_distributions': {'n_estimators': [100, 150, 200, 250]},\n",
       " 'pre_dispatch': '2*n_jobs',\n",
       " 'random_state': None,\n",
       " 'refit': True,\n",
       " 'return_train_score': False,\n",
       " 'scoring': 'r2',\n",
       " 'verbose': 1}"
      ]
     },
     "execution_count": 13,
     "metadata": {},
     "output_type": "execute_result"
    }
   ],
   "source": [
    "random_search_cv.get_params(deep=True)"
   ]
  },
  {
   "cell_type": "code",
   "execution_count": 14,
   "metadata": {},
   "outputs": [],
   "source": [
    "## test"
   ]
  },
  {
   "cell_type": "code",
   "execution_count": 15,
   "metadata": {},
   "outputs": [
    {
     "name": "stdout",
     "output_type": "stream",
     "text": [
      "Fitting 5 folds for each of 5 candidates, totalling 25 fits\n"
     ]
    },
    {
     "name": "stderr",
     "output_type": "stream",
     "text": [
      "/Users/tohjiaxuan/opt/anaconda3/lib/python3.7/site-packages/sklearn/model_selection/_search.py:266: UserWarning: The total space of parameters 5 is smaller than n_iter=10. Running 5 iterations. For exhaustive searches, use GridSearchCV.\n",
      "  % (grid_size, self.n_iter, grid_size), UserWarning)\n",
      "[Parallel(n_jobs=-1)]: Using backend LokyBackend with 4 concurrent workers.\n",
      "[Parallel(n_jobs=-1)]: Done  25 out of  25 | elapsed:  9.4min finished\n"
     ]
    },
    {
     "name": "stdout",
     "output_type": "stream",
     "text": [
      "best score: 0.9737106344915678\n",
      "best parameters:  {'n_estimators': 150}\n",
      "best estimators:  RandomForestRegressor(bootstrap=True, criterion='mse', max_depth=None,\n",
      "                      max_features='auto', max_leaf_nodes=None,\n",
      "                      min_impurity_decrease=0.0, min_impurity_split=None,\n",
      "                      min_samples_leaf=1, min_samples_split=2,\n",
      "                      min_weight_fraction_leaf=0.0, n_estimators=150,\n",
      "                      n_jobs=None, oob_score=False, random_state=42, verbose=0,\n",
      "                      warm_start=False)\n"
     ]
    }
   ],
   "source": [
    "# params = {'n_estimators': [10,20,50,100,150]}\n",
    "# random_search_cv = RandomizedSearchCV(ensemble.RandomForestRegressor(random_state=42), \n",
    "#                               params, \n",
    "#                               scoring = 'r2', \n",
    "#                               verbose=1, \n",
    "#                               cv=model_selection.KFold(5),\n",
    "#                               n_jobs = -1)\n",
    "# random_search_cv.fit(x_train, y_train)\n",
    "# print('best score:', random_search_cv.best_score_)\n",
    "# print('best parameters: ', random_search_cv.best_params_)\n",
    "# print('best estimators: ', random_search_cv.best_estimator_)"
   ]
  },
  {
   "cell_type": "code",
   "execution_count": 16,
   "metadata": {},
   "outputs": [
    {
     "name": "stdout",
     "output_type": "stream",
     "text": [
      "[ 354.71577595 1575.36842219  303.06340756 ... 2093.31031265  670.49206082\n",
      "  385.08452679]\n",
      "training mse: 1003.4758058541013, testing mse: 6199.745196755613\n",
      "training rmse: 31.677686245275257, testing rmse: 78.73846072127402\n",
      "training mae: 15.283617563673337, testing mae: 38.48639343705022\n",
      "training R2: 0.9960805538140816, testing R2: 0.97613505311475\n",
      "training adjusted R2: 0.9960800406872256, testing adjusted R2: 0.9761225504295578\n",
      "training mape: 2.0758581998429038, testing mape: 5.188204915936362\n",
      "training smape: 2.063159944056599, testing smape: 5.1150922971637325\n"
     ]
    },
    {
     "data": {
      "text/plain": [
       "Text(0.5, 1.0, 'Residual plot')"
      ]
     },
     "execution_count": 16,
     "metadata": {},
     "output_type": "execute_result"
    },
    {
     "data": {
      "image/png": "[encoded data removed]",
      "text/plain": [
       "<Figure size 432x288 with 1 Axes>"
      ]
     },
     "metadata": {
      "needs_background": "light"
     },
     "output_type": "display_data"
    }
   ],
   "source": [
    "# # make predictions on test set\n",
    "# y_pred_train = random_search_cv.predict(x_train)\n",
    "# y_pred = random_search_cv.predict(x_test)\n",
    "# print(y_pred)\n",
    "\n",
    "# # compute metrics \n",
    "# train_mse = mean_squared_error(y_train,y_pred_train)\n",
    "# test_mse = mean_squared_error(y_test,y_pred)\n",
    "\n",
    "# train_mae = mean_absolute_error(y_train,y_pred_train)\n",
    "# test_mae = mean_absolute_error(y_test,y_pred)\n",
    "\n",
    "# train_r_squared = r2_score(y_train,y_pred_train)\n",
    "# test_r_squared = r2_score(y_test,y_pred)\n",
    "\n",
    "# train_adj_r_squared = 1 - (1-random_search_cv.score(x_train, y_train))*(len(y_train)-1)/(len(y_train)-x_train.shape[1]-1)\n",
    "# test_adj_r_squared = 1 - (1-random_search_cv.score(x_test, y_test))*(len(y_test)-1)/(len(y_test)-x_test.shape[1]-1)\n",
    "\n",
    "# train_mape = mean_absolute_percentage_error(y_train,y_pred_train)\n",
    "# test_mape = mean_absolute_percentage_error(y_test,y_pred)\n",
    "\n",
    "# train_smape = smape(y_train,y_pred_train)\n",
    "# test_smape = smape(y_test,y_pred)\n",
    "\n",
    "# print(\"training mse: {}, testing mse: {}\".format(train_mse, test_mse))\n",
    "# print(\"training rmse: {}, testing rmse: {}\".format(np.sqrt(train_mse), np.sqrt(test_mse)))\n",
    "# print(\"training mae: {}, testing mae: {}\".format(train_mae, test_mae))\n",
    "# print(\"training R2: {}, testing R2: {}\".format(train_r_squared, test_r_squared))\n",
    "# print(\"training adjusted R2: {}, testing adjusted R2: {}\".format(train_adj_r_squared, test_adj_r_squared))\n",
    "# print(\"training mape: {}, testing mape: {}\".format(train_mape, test_mape))\n",
    "# print(\"training smape: {}, testing smape: {}\".format(train_smape, test_smape))\n",
    "\n",
    "# # residual plot\n",
    "# sns.residplot(random_search_cv.predict(x_test).reshape(-1),y_test,lowess=True,\n",
    "#                                   line_kws={'color': 'red', 'lw': 1, 'alpha': 1})\n",
    "# plt.xlabel(\"Fitted values\")\n",
    "# plt.title('Residual plot')"
   ]
  },
  {
   "cell_type": "code",
   "execution_count": null,
   "metadata": {},
   "outputs": [],
   "source": []
  }
 ],
 "metadata": {
  "kernelspec": {
   "display_name": "Python 3",
   "language": "python",
   "name": "python3"
  },
  "language_info": {
   "codemirror_mode": {
    "name": "ipython",
    "version": 3
   },
   "file_extension": ".py",
   "mimetype": "text/x-python",
   "name": "python",
   "nbconvert_exporter": "python",
   "pygments_lexer": "ipython3",
   "version": "3.7.4"
  }
 },
 "nbformat": 4,
 "nbformat_minor": 2
}
