{
 "cells": [
  {
   "cell_type": "markdown",
   "metadata": {
    "id": "YJeAV1Z4JBIn"
   },
   "source": [
    "## Importing Required Libraries"
   ]
  },
  {
   "cell_type": "code",
   "execution_count": 1,
   "metadata": {
    "id": "QHT0A3TTJFXf"
   },
   "outputs": [
    {
     "ename": "ModuleNotFoundError",
     "evalue": "No module named 'textblob'",
     "output_type": "error",
     "traceback": [
      "\u001b[0;31m---------------------------------------------------------------------------\u001b[0m",
      "\u001b[0;31mModuleNotFoundError\u001b[0m                       Traceback (most recent call last)",
      "\u001b[0;32m<ipython-input-1-3b9f5da9b3dd>\u001b[0m in \u001b[0;36m<module>\u001b[0;34m\u001b[0m\n\u001b[1;32m     35\u001b[0m \u001b[0;32mfrom\u001b[0m \u001b[0mscipy\u001b[0m\u001b[0;34m.\u001b[0m\u001b[0msparse\u001b[0m \u001b[0;32mimport\u001b[0m \u001b[0mcoo_matrix\u001b[0m\u001b[0;34m,\u001b[0m \u001b[0mhstack\u001b[0m\u001b[0;34m,\u001b[0m \u001b[0mvstack\u001b[0m\u001b[0;34m\u001b[0m\u001b[0;34m\u001b[0m\u001b[0m\n\u001b[1;32m     36\u001b[0m \u001b[0;32mimport\u001b[0m \u001b[0mseaborn\u001b[0m \u001b[0;32mas\u001b[0m \u001b[0msns\u001b[0m\u001b[0;34m\u001b[0m\u001b[0;34m\u001b[0m\u001b[0m\n\u001b[0;32m---> 37\u001b[0;31m \u001b[0;32mfrom\u001b[0m \u001b[0mtextblob\u001b[0m \u001b[0;32mimport\u001b[0m \u001b[0mTextBlob\u001b[0m\u001b[0;34m\u001b[0m\u001b[0;34m\u001b[0m\u001b[0m\n\u001b[0m\u001b[1;32m     38\u001b[0m \u001b[0;31m# Graphing:\u001b[0m\u001b[0;34m\u001b[0m\u001b[0;34m\u001b[0m\u001b[0;34m\u001b[0m\u001b[0m\n\u001b[1;32m     39\u001b[0m \u001b[0mget_ipython\u001b[0m\u001b[0;34m(\u001b[0m\u001b[0;34m)\u001b[0m\u001b[0;34m.\u001b[0m\u001b[0mrun_line_magic\u001b[0m\u001b[0;34m(\u001b[0m\u001b[0;34m'matplotlib'\u001b[0m\u001b[0;34m,\u001b[0m \u001b[0;34m'inline'\u001b[0m\u001b[0;34m)\u001b[0m\u001b[0;34m\u001b[0m\u001b[0;34m\u001b[0m\u001b[0m\n",
      "\u001b[0;31mModuleNotFoundError\u001b[0m: No module named 'textblob'"
     ]
    }
   ],
   "source": [
    "import pandas as pd\n",
    "import numpy as np\n",
    "from scipy import linalg, optimize\n",
    "import re\n",
    "import random\n",
    "import math\n",
    "import string\n",
    "from nltk.corpus import wordnet as wn\n",
    "from datetime import datetime\n",
    "import matplotlib.pyplot as plt\n",
    "from sklearn.svm import SVC\n",
    "from sklearn import preprocessing, decomposition, model_selection, metrics, pipeline\n",
    "from sklearn.model_selection import GridSearchCV\n",
    "from sklearn.feature_extraction.text import TfidfVectorizer, CountVectorizer\n",
    "from sklearn.decomposition import TruncatedSVD\n",
    "from sklearn.linear_model import LogisticRegression\n",
    "from sklearn.linear_model import LinearRegression\n",
    "from sklearn.linear_model import SGDRegressor\n",
    "from sklearn.model_selection import train_test_split\n",
    "from sklearn.neighbors import KNeighborsClassifier\n",
    "from sklearn.naive_bayes import MultinomialNB\n",
    "from sklearn.metrics import confusion_matrix, accuracy_score\n",
    "from sklearn.metrics import make_scorer\n",
    "from sklearn.model_selection import cross_val_score\n",
    "from sklearn.preprocessing import StandardScaler\n",
    "from sklearn.dummy import DummyClassifier\n",
    "from sklearn.preprocessing import OneHotEncoder\n",
    "from sklearn import preprocessing\n",
    "from sklearn import metrics\n",
    "from sklearn.preprocessing import LabelEncoder\n",
    "from nltk import word_tokenize\n",
    "from scipy import optimize\n",
    "from nltk.tokenize import word_tokenize\n",
    "from nltk.corpus import stopwords\n",
    "from scipy.sparse import coo_matrix, hstack, vstack\n",
    "import seaborn as sns\n",
    "from textblob import TextBlob\n",
    "# Graphing: \n",
    "%matplotlib inline\n"
   ]
  },
  {
   "cell_type": "markdown",
   "metadata": {
    "id": "Oao1AMpWU3kt"
   },
   "source": [
    "## Reading in Data Files"
   ]
  },
  {
   "cell_type": "markdown",
   "metadata": {
    "id": "1_GDLBPgU6IJ"
   },
   "source": [
    "> * Training Set\n",
    "> * Training Labels \n",
    "> * Testing Set\n",
    "> * Testing Labels\n",
    "\n",
    "> * Floor Pickle File for Mapping\n",
    "> * Property Pickle File for Mapping\n",
    "> * Street Pickle File for Mapping"
   ]
  },
  {
   "cell_type": "code",
   "execution_count": 14,
   "metadata": {
    "id": "4VXFMtBjXwDW"
   },
   "outputs": [],
   "source": [
    "# train_set = 'https://raw.githubusercontent.com/nicolepng/BT4222/master/Data/training_set.csv'\n",
    "# train_labels = 'https://raw.githubusercontent.com/nicolepng/BT4222/master/Data/training_labels.csv'\n",
    "# test_set = 'https://raw.githubusercontent.com/nicolepng/BT4222/master/Data/testing_set.csv'\n",
    "# test_labels = 'https://raw.githubusercontent.com/nicolepng/BT4222/master/Data/testing_labels.csv'\n"
   ]
  },
  {
   "cell_type": "code",
   "execution_count": 6,
   "metadata": {
    "id": "TBqX5LUyVmwl"
   },
   "outputs": [],
   "source": [
    "# train_set = '/content/training_set.csv'\n",
    "# train_labels = '/content/training_labels.csv'\n",
    "# test_set = '/content/testing_set.csv'\n",
    "# test_labels = '/content/testing_labels.csv'\n",
    "combined = '/Users/vickiyew/Desktop/bt4222_data/combined.csv'"
   ]
  },
  {
   "cell_type": "code",
   "execution_count": 7,
   "metadata": {
    "id": "689oORJMUMNl"
   },
   "outputs": [],
   "source": [
    "# training_set = pd.read_csv(train_set)\n",
    "# testing_set = pd.read_csv(test_set)\n",
    "# training_labels= pd.read_csv(train_labels)\n",
    "# testing_labels = pd.read_csv(test_labels)\n",
    "df = pd.read_csv(combined)"
   ]
  },
  {
   "cell_type": "code",
   "execution_count": 8,
   "metadata": {
    "colab": {
     "base_uri": "https://localhost:8080/",
     "height": 360
    },
    "id": "YNajx0gHXGcD",
    "outputId": "1caee11c-3599-4ac6-d888-a661dba81530"
   },
   "outputs": [
    {
     "data": {
      "text/html": [
       "<div>\n",
       "<style scoped>\n",
       "    .dataframe tbody tr th:only-of-type {\n",
       "        vertical-align: middle;\n",
       "    }\n",
       "\n",
       "    .dataframe tbody tr th {\n",
       "        vertical-align: top;\n",
       "    }\n",
       "\n",
       "    .dataframe thead th {\n",
       "        text-align: right;\n",
       "    }\n",
       "</style>\n",
       "<table border=\"1\" class=\"dataframe\">\n",
       "  <thead>\n",
       "    <tr style=\"text-align: right;\">\n",
       "      <th></th>\n",
       "      <th>district</th>\n",
       "      <th>street</th>\n",
       "      <th>propertyType</th>\n",
       "      <th>remaining_lease</th>\n",
       "      <th>price</th>\n",
       "      <th>school</th>\n",
       "      <th>hawkercentre</th>\n",
       "      <th>supermarkets</th>\n",
       "      <th>Bus Stops Nearby</th>\n",
       "      <th>crime_number</th>\n",
       "      <th>latitude</th>\n",
       "      <th>longitude</th>\n",
       "      <th>floor_area_sqm</th>\n",
       "      <th>floor_range</th>\n",
       "      <th>sentiment</th>\n",
       "    </tr>\n",
       "  </thead>\n",
       "  <tbody>\n",
       "    <tr>\n",
       "      <th>0</th>\n",
       "      <td>5</td>\n",
       "      <td>ZEHNDER ROAD</td>\n",
       "      <td>Semi-detached</td>\n",
       "      <td>999.00</td>\n",
       "      <td>5500000.0</td>\n",
       "      <td>27</td>\n",
       "      <td>6</td>\n",
       "      <td>8</td>\n",
       "      <td>0</td>\n",
       "      <td>-1.0</td>\n",
       "      <td>1.282130</td>\n",
       "      <td>103.786879</td>\n",
       "      <td>524.3</td>\n",
       "      <td>~-</td>\n",
       "      <td>0.380502</td>\n",
       "    </tr>\n",
       "    <tr>\n",
       "      <th>1</th>\n",
       "      <td>5</td>\n",
       "      <td>ZEHNDER ROAD</td>\n",
       "      <td>Semi-detached</td>\n",
       "      <td>999.00</td>\n",
       "      <td>5000000.0</td>\n",
       "      <td>27</td>\n",
       "      <td>6</td>\n",
       "      <td>8</td>\n",
       "      <td>0</td>\n",
       "      <td>-1.0</td>\n",
       "      <td>1.282130</td>\n",
       "      <td>103.786879</td>\n",
       "      <td>308.0</td>\n",
       "      <td>~-</td>\n",
       "      <td>0.123495</td>\n",
       "    </tr>\n",
       "    <tr>\n",
       "      <th>2</th>\n",
       "      <td>5</td>\n",
       "      <td>ZEHNDER ROAD</td>\n",
       "      <td>Semi-detached</td>\n",
       "      <td>999.00</td>\n",
       "      <td>4750000.0</td>\n",
       "      <td>27</td>\n",
       "      <td>6</td>\n",
       "      <td>8</td>\n",
       "      <td>0</td>\n",
       "      <td>-1.0</td>\n",
       "      <td>1.282130</td>\n",
       "      <td>103.786879</td>\n",
       "      <td>314.0</td>\n",
       "      <td>~-</td>\n",
       "      <td>0.123495</td>\n",
       "    </tr>\n",
       "    <tr>\n",
       "      <th>3</th>\n",
       "      <td>5</td>\n",
       "      <td>NEO PEE TECK LANE</td>\n",
       "      <td>Terrace</td>\n",
       "      <td>999.00</td>\n",
       "      <td>2630000.0</td>\n",
       "      <td>27</td>\n",
       "      <td>6</td>\n",
       "      <td>8</td>\n",
       "      <td>2</td>\n",
       "      <td>-1.0</td>\n",
       "      <td>1.292047</td>\n",
       "      <td>103.768591</td>\n",
       "      <td>159.3</td>\n",
       "      <td>~-</td>\n",
       "      <td>0.380502</td>\n",
       "    </tr>\n",
       "    <tr>\n",
       "      <th>4</th>\n",
       "      <td>4</td>\n",
       "      <td>COVE DRIVE</td>\n",
       "      <td>Condominium</td>\n",
       "      <td>85.25</td>\n",
       "      <td>3180000.0</td>\n",
       "      <td>11</td>\n",
       "      <td>3</td>\n",
       "      <td>2</td>\n",
       "      <td>0</td>\n",
       "      <td>-1.0</td>\n",
       "      <td>1.244208</td>\n",
       "      <td>103.827487</td>\n",
       "      <td>194.0</td>\n",
       "      <td>~01-05</td>\n",
       "      <td>0.173732</td>\n",
       "    </tr>\n",
       "  </tbody>\n",
       "</table>\n",
       "</div>"
      ],
      "text/plain": [
       "   district             street   propertyType  remaining_lease      price  \\\n",
       "0         5       ZEHNDER ROAD  Semi-detached           999.00  5500000.0   \n",
       "1         5       ZEHNDER ROAD  Semi-detached           999.00  5000000.0   \n",
       "2         5       ZEHNDER ROAD  Semi-detached           999.00  4750000.0   \n",
       "3         5  NEO PEE TECK LANE        Terrace           999.00  2630000.0   \n",
       "4         4         COVE DRIVE    Condominium            85.25  3180000.0   \n",
       "\n",
       "   school  hawkercentre  supermarkets  Bus Stops Nearby  crime_number  \\\n",
       "0      27             6             8                 0          -1.0   \n",
       "1      27             6             8                 0          -1.0   \n",
       "2      27             6             8                 0          -1.0   \n",
       "3      27             6             8                 2          -1.0   \n",
       "4      11             3             2                 0          -1.0   \n",
       "\n",
       "   latitude   longitude  floor_area_sqm floor_range  sentiment  \n",
       "0  1.282130  103.786879           524.3          ~-   0.380502  \n",
       "1  1.282130  103.786879           308.0          ~-   0.123495  \n",
       "2  1.282130  103.786879           314.0          ~-   0.123495  \n",
       "3  1.292047  103.768591           159.3          ~-   0.380502  \n",
       "4  1.244208  103.827487           194.0      ~01-05   0.173732  "
      ]
     },
     "execution_count": 8,
     "metadata": {},
     "output_type": "execute_result"
    }
   ],
   "source": [
    "df.drop(df.columns[0], axis = 1, inplace=True)\n",
    "df.head()"
   ]
  },
  {
   "cell_type": "code",
   "execution_count": 9,
   "metadata": {
    "id": "1TpFyZXiXdzH"
   },
   "outputs": [],
   "source": [
    "df['street'] = df['street'].astype('category')\n",
    "street_dict = dict(zip(df['street'].cat.codes, df['street']))\n",
    "df['street'] = df['street'].cat.codes\n",
    "\n",
    "df['propertyType'] = df['propertyType'].astype('category')\n",
    "property_dict = dict(zip(df['propertyType'].cat.codes, df['propertyType']))\n",
    "df['propertyType'] = df['propertyType'].cat.codes\n",
    "\n",
    "df['floor_range'] = df['floor_range'].astype('category')\n",
    "floor_dict = dict(zip(df['floor_range'].cat.codes, df['floor_range']))\n",
    "df['floor_range'] = df['floor_range'].cat.codes"
   ]
  },
  {
   "cell_type": "code",
   "execution_count": 10,
   "metadata": {
    "id": "GWSBoPyaXu1_"
   },
   "outputs": [],
   "source": [
    "X_train, X_test, y_train, y_test = train_test_split(df.drop('price', axis=1),\n",
    "                                                    df['price'], \n",
    "                                                    test_size=0.2,\n",
    "                                                    random_state=1)"
   ]
  },
  {
   "cell_type": "markdown",
   "metadata": {
    "id": "-D9spAlm_1s0"
   },
   "source": [
    "## With Feature Cross\n"
   ]
  },
  {
   "cell_type": "markdown",
   "metadata": {
    "id": "PXlyVCvsCiBi"
   },
   "source": [
    "> LIGHTGBM"
   ]
  },
  {
   "cell_type": "markdown",
   "metadata": {
    "id": "7b_2pc_1B6jp"
   },
   "source": [
    "## REFER TO THIS FOR LIGHTGBM RESULTS WITH FEATURE CROSS"
   ]
  },
  {
   "cell_type": "markdown",
   "metadata": {
    "id": "n-qRsvPAB-AV"
   },
   "source": [
    "> Training Errors\n",
    "> * Mean Squared Error:  206023460110.6487\n",
    "> * RMSE:  453898.0723804065\n",
    "> * Mean Absolute Error:  111724.82261478397\n",
    "> * R-squared:  0.9263901510218109\n",
    "> * Adjusted R2:  0.9263805141525729\n",
    "> * Training sMAPE: 9.985563141154232\n",
    "> * Training MAPE: 10.89849496263378\n",
    "\n",
    "\n",
    "> Test Errors\n",
    "> * Mean Squared Error:  163867462293.10486\n",
    "> * RMSE:  404805.46228170494\n",
    "> * Mean Absolute Error:  118310.99300350671\n",
    "> * R-squared:  0.9221484581146083\n",
    "> * Adjusted R2:  0.9221076722153307\n",
    "> * Testing sMAPE: 10.164487527219974\n",
    "> * Testing MAPE: 10.305690774964821"
   ]
  },
  {
   "cell_type": "code",
   "execution_count": 11,
   "metadata": {
    "id": "d1IqSSRf_3Zl"
   },
   "outputs": [],
   "source": [
    "_, longitude_boundaries = np.histogram(X_train['longitude'])\n",
    "_, latitude_boundaries = np.histogram(X_train['latitude'])\n",
    "\n",
    "def assign_bucket(x, ranges):\n",
    "    if x <= ranges[0]:\n",
    "        return 0\n",
    "    \n",
    "    for i in range(1, len(ranges) - 1):\n",
    "        if x <= ranges[i]:\n",
    "            return i - 1\n",
    "    return len(ranges) - 2\n",
    "\n",
    "X_train['lgt_discrete'] = X_train['longitude'].apply(lambda x: assign_bucket(x, longitude_boundaries))\n",
    "X_train['lat_discrete'] = X_train['latitude'].apply(lambda x: assign_bucket(x, latitude_boundaries))\n",
    "X_test['lgt_discrete'] = X_test['longitude'].apply(lambda x: assign_bucket(x, longitude_boundaries))\n",
    "X_test['lat_discrete'] = X_test['latitude'].apply(lambda x: assign_bucket(x, latitude_boundaries))"
   ]
  },
  {
   "cell_type": "code",
   "execution_count": 12,
   "metadata": {
    "id": "-MBocK1SAMh9"
   },
   "outputs": [],
   "source": [
    "from sklearn.preprocessing import OneHotEncoder\n",
    "enc = OneHotEncoder(categories='auto')\n",
    "features_lat_lgn_train = enc.fit_transform(X_train[['lgt_discrete', 'lat_discrete']]) # fit and transform TRAIN\n",
    "features_lat_lgn_test = enc.transform(X_test[['lgt_discrete', 'lat_discrete']]) # transform only TEST"
   ]
  },
  {
   "cell_type": "code",
   "execution_count": 13,
   "metadata": {
    "id": "LDzjDsz8AV3z"
   },
   "outputs": [],
   "source": [
    "features_to_drop = ['longitude', 'latitude', 'lgt_discrete', 'lat_discrete']\n",
    "OHE_train = np.hstack((X_train.drop(features_to_drop, axis=1).values, features_lat_lgn_train.toarray()))\n",
    "OHE_test = np.hstack((X_test.drop(features_to_drop, axis=1).values, features_lat_lgn_test.toarray()))"
   ]
  },
  {
   "cell_type": "code",
   "execution_count": 18,
   "metadata": {
    "colab": {
     "base_uri": "https://localhost:8080/"
    },
    "id": "jLrmx26FAu67",
    "outputId": "730ee6b7-5e42-4dd8-8644-e1b87d64b7ec"
   },
   "outputs": [
    {
     "name": "stdout",
     "output_type": "stream",
     "text": [
      "Training Errors\n",
      "Mean Squared Error:  206023460110.6487\n",
      "RMSE:  453898.0723804065\n",
      "Mean Absolute Error:  111724.82261478397\n",
      "R-squared:  0.9263901510218109\n",
      "Adjusted R2:  0.9263805141525729\n",
      "Test Errors\n",
      "Mean Squared Error:  163867462293.10486\n",
      "RMSE:  404805.46228170494\n",
      "Mean Absolute Error:  118310.99300350671\n",
      "R-squared:  0.9221484581146083\n",
      "Adjusted R2:  0.9221076722153307\n"
     ]
    }
   ],
   "source": [
    "from sklearn.ensemble import RandomForestRegressor\n",
    "from sklearn import preprocessing\n",
    "from lightgbm import LGBMRegressor\n",
    "from sklearn.metrics import mean_squared_log_error\n",
    "\n",
    "# Initialise LGBMRegressor\n",
    "# rf = LGBMRegressor(n_estimators=300, subsample=0.9, colsample_bytree=0.2, eval_metric = 'rmse')\n",
    "optimized_rf = LGBMRegressor(boosting_type='gbdt', class_weight=None,\n",
    "                               colsample_bytree=0.3, eval_metric='rmse',\n",
    "                               importance_type='split', learning_rate=0.1,\n",
    "                               max_depth=8, min_child_samples=20,\n",
    "                               min_child_weight=0.001, min_samples_leaf=2,\n",
    "                               min_split_gain=0.0, n_estimators=300, n_jobs=-1,\n",
    "                               num_leaves=31, objective=None, random_state=None,\n",
    "                               reg_alpha=0.0, reg_lambda=0.0, silent=True,\n",
    "                               subsample=0.7, subsample_for_bin=200000,\n",
    "                               subsample_freq=0)\n",
    "\n",
    "\n",
    "# # # Set up 5-fold cross-validation\n",
    "# from sklearn import model_selection\n",
    "# cv = model_selection.KFold(5)\n",
    "\n",
    "\n",
    "# # Pipeline Standardization and Model\n",
    "# from sklearn.pipeline import Pipeline\n",
    "# pipeline = Pipeline(steps=[('standardize', preprocessing.StandardScaler())\n",
    "#                            , ('model', rf) ])\n",
    "# # Tuning the model\n",
    "# my_min_samples_leaf = [2, 10, 25, 50, 100]\n",
    "# my_max_depth = [7, 8, 9, 10, 11, 12]\n",
    "# my_subsample = [0.7, 0.8, 0.9]\n",
    "# my_colsample_bytree = [0.1, 0.2, 0.3]\n",
    "\n",
    "# # Run the model using GridSearch, select the model with best search\n",
    "# from sklearn.model_selection import GridSearchCV\n",
    "# optimized_rf = GridSearchCV(estimator=pipeline\n",
    "#                             , cv=cv\n",
    "#                             , param_grid =dict(model__min_samples_leaf = my_min_samples_leaf, \n",
    "#                                                model__max_depth = my_max_depth,\n",
    "#                                                model__subsample = my_subsample,\n",
    "#                                                model__colsample_bytree = my_colsample_bytree)\n",
    "#                             , scoring = 'neg_mean_squared_error'\n",
    "#                             , verbose = 1\n",
    "#                             , n_jobs = -1\n",
    "#                            )\n",
    "\n",
    "# Fitting on Training Data\n",
    "optimized_rf.fit(OHE_train, y_train)\n",
    "\n",
    "\n",
    "# Best model estimators\n",
    "# print(optimized_rf.best_estimator_)\n",
    "\n",
    "def adjusted_r2(r2, n, p):\n",
    "  result = 1-((1-r2)*((n-1)/(n-p-1)))\n",
    "  return result\n",
    "\n",
    "\n",
    "# Evaluate metrics on holdout\n",
    "from sklearn.metrics import mean_squared_error, mean_absolute_error, r2_score\n",
    "y_train_pred = optimized_rf.predict(OHE_train)\n",
    "y_pred = optimized_rf.predict(OHE_test)\n",
    "n1 = len(y_train_pred)\n",
    "p1 = training_set.shape[1]\n",
    "n2 = len(y_pred)\n",
    "p2 = testing_set.shape[1]\n",
    "print('Training Errors')\n",
    "print(\"Mean Squared Error: \", mean_squared_error(y_train, y_train_pred))\n",
    "print(\"RMSE: \", mean_squared_error(y_train, y_train_pred, squared = False))\n",
    "print(\"Mean Absolute Error: \", mean_absolute_error(y_train, y_train_pred))\n",
    "print(\"R-squared: \", r2_score(y_train, y_train_pred))\n",
    "print(\"Adjusted R2: \", adjusted_r2(r2_score(y_train, y_train_pred), n1, p1))\n",
    "\n",
    "print('Test Errors')\n",
    "print(\"Mean Squared Error: \", mean_squared_error(y_test, y_pred))\n",
    "print(\"RMSE: \", mean_squared_error(y_test, y_pred, squared = False))\n",
    "print(\"Mean Absolute Error: \", mean_absolute_error(y_test, y_pred))\n",
    "print(\"R-squared: \", r2_score(y_test, y_pred))\n",
    "print(\"Adjusted R2: \", adjusted_r2(r2_score(y_test, y_pred), n2, p2))\n",
    "\n"
   ]
  },
  {
   "cell_type": "code",
   "execution_count": 22,
   "metadata": {
    "colab": {
     "base_uri": "https://localhost:8080/"
    },
    "id": "SwcrQmoRBauX",
    "outputId": "75928c0c-ae25-47cd-e125-116b4697162a"
   },
   "outputs": [
    {
     "name": "stdout",
     "output_type": "stream",
     "text": [
      "Training sMAPE\n",
      "9.985563141154232\n",
      "Testing sMAPE\n",
      "10.164487527219974\n"
     ]
    }
   ],
   "source": [
    "def smape(y_true, y_pred):\n",
    "    return 1/len(y_true) * np.sum(2 * np.abs(y_pred.squeeze()-y_true.squeeze()) / (np.abs(y_true.squeeze()) + np.abs(y_pred.squeeze()))*100)\n",
    "\n",
    "\n",
    "print('Training sMAPE')\n",
    "print(smape(y_train_pred, y_train))\n",
    "print('Testing sMAPE')\n",
    "print(smape(y_pred, y_test))"
   ]
  },
  {
   "cell_type": "code",
   "execution_count": 23,
   "metadata": {
    "colab": {
     "base_uri": "https://localhost:8080/"
    },
    "id": "8jA9gHhVBvYr",
    "outputId": "8cb9b1d4-42f5-4dde-adeb-e2747c406461"
   },
   "outputs": [
    {
     "name": "stdout",
     "output_type": "stream",
     "text": [
      "Training MAPE\n",
      "10.89849496263378\n",
      "Testing MAPE\n",
      "10.305690774964821\n"
     ]
    }
   ],
   "source": [
    "def percentage_error(actual, predicted):\n",
    "    res = np.empty(actual.shape)\n",
    "    for j in range(actual.shape[0]):\n",
    "        if actual[j] != 0:\n",
    "            res[j] = (actual[j] - predicted[j]) / actual[j]\n",
    "        else:\n",
    "            res[j] = predicted[j] / np.mean(actual)\n",
    "    return res\n",
    "\n",
    "def mape(y_true, y_pred): \n",
    "    return np.mean(np.abs(percentage_error(np.asarray(y_true), np.asarray(y_pred)))) * 100\n",
    "\n",
    "print('Training MAPE')\n",
    "print(mape(y_train_pred, y_train))\n",
    "print('Testing MAPE')\n",
    "print(mape(y_pred, y_test))"
   ]
  },
  {
   "cell_type": "markdown",
   "metadata": {
    "id": "1S4M-x3HCk51"
   },
   "source": [
    "> XGBOOST"
   ]
  },
  {
   "cell_type": "markdown",
   "metadata": {
    "id": "Ap9n0VluC6h3"
   },
   "source": [
    "## *** REFER TO THIS FOR THE XGBOOST RESULS WITH FEATURE CROSS **"
   ]
  },
  {
   "cell_type": "markdown",
   "metadata": {
    "id": "JiWnBLCdDad2"
   },
   "source": [
    "> Training Errors\n",
    "> * Mean Squared Error:  12551992028.521044\n",
    "> * RMSE:  112035.67301766454\n",
    "> * Mean Absolute Error:  51479.346560496706\n",
    "> * R-squared:  0.9955153154058346\n",
    "> * Adjusted R2:  0.9955147282789812\n",
    "> * Training sMAPE: 5.418052917646694\n",
    "> * Training MAPE: 5.41039623682465\n",
    "\n",
    "\n",
    "\n",
    "> Test Errors\n",
    "> * Mean Squared Error:  72116357746.47386\n",
    "> * RMSE:  268544.8896301582\n",
    "> * Mean Absolute Error:  74558.02547936206\n",
    "> * R-squared:  0.9657383499618781\n",
    "> * Adjusted R2:  0.9657204005138171\n",
    "> * Testing sMAPE: 6.164298821910724\n",
    "> * Testing MAPE: 6.1527569561702355"
   ]
  },
  {
   "cell_type": "markdown",
   "metadata": {},
   "source": [
    "##  SHAP TEST"
   ]
  },
  {
   "cell_type": "code",
   "execution_count": 16,
   "metadata": {},
   "outputs": [
    {
     "name": "stdout",
     "output_type": "stream",
     "text": [
      "[23:11:09] WARNING: /Users/travis/build/dmlc/xgboost/src/objective/regression_obj.cu:170: reg:linear is now deprecated in favor of reg:squarederror.\n",
      "[23:11:09] WARNING: /Users/travis/build/dmlc/xgboost/src/learner.cc:541: \n",
      "Parameters: { min_samples_leaf, n_fold } might not be used.\n",
      "\n",
      "  This may not be accurate due to some parameters are only used in language bindings but\n",
      "  passed down to XGBoost core.  Or some parameters are not used but slip through this\n",
      "  verification. Please open an issue if you find above cases.\n",
      "\n",
      "\n",
      "Training Errors\n",
      "Mean Squared Error:  12343898214.519537\n",
      "RMSE:  111103.0972318933\n",
      "Mean Absolute Error:  51215.69369614373\n",
      "R-squared:  0.9955896649688102\n",
      "Adjusted R2:  0.9955890050785918\n",
      "Test Errors\n",
      "Mean Squared Error:  68478261317.63118\n",
      "RMSE:  261683.51365271595\n",
      "Mean Absolute Error:  73709.02318700777\n",
      "R-squared:  0.9674667676266768\n",
      "Adjusted R2:  0.967447287378259\n",
      "Training sMAPE\n",
      "5.434529165435634\n",
      "Testing sMAPE\n",
      "6.166556529356623\n",
      "Training MAPE\n",
      "5.42567347038599\n",
      "Testing MAPE\n",
      "6.152553638331842\n"
     ]
    }
   ],
   "source": [
    "from sklearn.ensemble import RandomForestRegressor\n",
    "from sklearn import preprocessing\n",
    "from sklearn.metrics import mean_squared_log_error\n",
    "import xgboost\n",
    "from xgboost import XGBRegressor\n",
    "\n",
    "\n",
    "# Initialise LGBMRegressor\n",
    "# rf = LGBMRegressor(n_estimators=300, subsample=0.9, colsample_bytree=0.2, eval_metric = 'rmse')\n",
    "optimized_rf = XGBRegressor(base_score=0.5, booster='gbtree',\n",
    "                              colsample_bylevel=1, colsample_bynode=0.2,\n",
    "                              colsample_bytree=1, eval_metric='rmse', gamma=0,\n",
    "                              importance_type='gain', learning_rate=0.1,\n",
    "                              max_delta_step=0, max_depth=10,\n",
    "                              min_child_weight=1, min_samples_leaf=2,\n",
    "                              missing=None, n_estimators=300, n_fold=5,\n",
    "                              n_jobs=1, nthread=None, objective='reg:linear',\n",
    "                              random_state=0, reg_alpha=0, reg_lambda=1,\n",
    "                              scale_pos_weight=1, seed=None, silent=None,\n",
    "                              subsample=0.9, verbosity=1)\n",
    "\n",
    "\n",
    "# # # Set up 5-fold cross-validation\n",
    "# from sklearn import model_selection\n",
    "# cv = model_selection.KFold(5)\n",
    "\n",
    "\n",
    "# # Pipeline Standardization and Model\n",
    "# from sklearn.pipeline import Pipeline\n",
    "# pipeline = Pipeline(steps=[('standardize', preprocessing.StandardScaler())\n",
    "#                            , ('model', rf) ])\n",
    "# # Tuning the model\n",
    "# my_min_samples_leaf = [2, 10, 25, 50, 100]\n",
    "# my_max_depth = [7, 8, 9, 10, 11, 12]\n",
    "# my_subsample = [0.7, 0.8, 0.9]\n",
    "# my_colsample_bytree = [0.1, 0.2, 0.3]\n",
    "\n",
    "# # Run the model using GridSearch, select the model with best search\n",
    "# from sklearn.model_selection import GridSearchCV\n",
    "# optimized_rf = GridSearchCV(estimator=pipeline\n",
    "#                             , cv=cv\n",
    "#                             , param_grid =dict(model__min_samples_leaf = my_min_samples_leaf, \n",
    "#                                                model__max_depth = my_max_depth,\n",
    "#                                                model__subsample = my_subsample,\n",
    "#                                                model__colsample_bytree = my_colsample_bytree)\n",
    "#                             , scoring = 'neg_mean_squared_error'\n",
    "#                             , verbose = 1\n",
    "#                             , n_jobs = -1\n",
    "#                            )\n",
    "\n",
    "# Fitting on Training Data\n",
    "optimized_rf.fit(OHE_train, y_train)\n",
    "\n",
    "\n",
    "# Best model estimators\n",
    "# print(optimized_rf.best_estimator_)\n",
    "\n",
    "def adjusted_r2(r2, n, p):\n",
    "  result = 1-((1-r2)*((n-1)/(n-p-1)))\n",
    "  return result\n",
    "\n",
    "\n",
    "# Evaluate metrics on holdout\n",
    "from sklearn.metrics import mean_squared_error, mean_absolute_error, r2_score\n",
    "y_train_pred = optimized_rf.predict(OHE_train)\n",
    "y_pred = optimized_rf.predict(OHE_test)\n",
    "n1 = len(y_train_pred)\n",
    "p1 = X_train.shape[1]\n",
    "n2 = len(y_pred)\n",
    "p2 = X_test.shape[1]\n",
    "print('Training Errors')\n",
    "print(\"Mean Squared Error: \", mean_squared_error(y_train, y_train_pred))\n",
    "print(\"RMSE: \", mean_squared_error(y_train, y_train_pred, squared = False))\n",
    "print(\"Mean Absolute Error: \", mean_absolute_error(y_train, y_train_pred))\n",
    "print(\"R-squared: \", r2_score(y_train, y_train_pred))\n",
    "print(\"Adjusted R2: \", adjusted_r2(r2_score(y_train, y_train_pred), n1, p1))\n",
    "\n",
    "print('Test Errors')\n",
    "print(\"Mean Squared Error: \", mean_squared_error(y_test, y_pred))\n",
    "print(\"RMSE: \", mean_squared_error(y_test, y_pred, squared = False))\n",
    "print(\"Mean Absolute Error: \", mean_absolute_error(y_test, y_pred))\n",
    "print(\"R-squared: \", r2_score(y_test, y_pred))\n",
    "print(\"Adjusted R2: \", adjusted_r2(r2_score(y_test, y_pred), n2, p2))\n",
    "\n",
    "\n",
    "def smape(y_true, y_pred):\n",
    "    return 1/len(y_true) * np.sum(2 * np.abs(y_pred.squeeze()-y_true.squeeze()) / (np.abs(y_true.squeeze()) + np.abs(y_pred.squeeze()))*100)\n",
    "\n",
    "\n",
    "print('Training sMAPE')\n",
    "print(smape(y_train_pred, y_train))\n",
    "print('Testing sMAPE')\n",
    "print(smape(y_pred, y_test))\n",
    "\n",
    "def percentage_error(actual, predicted):\n",
    "    res = np.empty(actual.shape)\n",
    "    for j in range(actual.shape[0]):\n",
    "        if actual[j] != 0:\n",
    "            res[j] = (actual[j] - predicted[j]) / actual[j]\n",
    "        else:\n",
    "            res[j] = predicted[j] / np.mean(actual)\n",
    "    return res\n",
    "\n",
    "def mape(y_true, y_pred): \n",
    "    return np.mean(np.abs(percentage_error(np.asarray(y_true), np.asarray(y_pred)))) * 100\n",
    "\n",
    "print('Training MAPE')\n",
    "print(mape(y_train_pred, y_train))\n",
    "print('Testing MAPE')\n",
    "print(mape(y_pred, y_test))"
   ]
  },
  {
   "cell_type": "code",
   "execution_count": 24,
   "metadata": {},
   "outputs": [
    {
     "data": {
      "image/png": "[encoded data removed]",
      "text/plain": [
       "<Figure size 576x468 with 3 Axes>"
      ]
     },
     "metadata": {},
     "output_type": "display_data"
    }
   ],
   "source": [
    "import shap\n",
    "explainer = shap.Explainer(optimized_rf)\n",
    "shap_values = explainer(OHE_test)\n",
    "\n",
    "# visualize the first prediction's explanation\n",
    "shap.plots.waterfall(shap_values[0])"
   ]
  },
  {
   "cell_type": "code",
   "execution_count": 47,
   "metadata": {},
   "outputs": [
    {
     "data": {
      "text/plain": [
       "32"
      ]
     },
     "execution_count": 47,
     "metadata": {},
     "output_type": "execute_result"
    }
   ],
   "source": [
    "cols = X_train.columns.tolist()\n",
    "cols += [str(i) for i in range(0, 16)]\n",
    "len(cols)"
   ]
  },
  {
   "cell_type": "code",
   "execution_count": 48,
   "metadata": {},
   "outputs": [],
   "source": [
    "df_train = pd.DataFrame(OHE_train, columns = cols)"
   ]
  },
  {
   "cell_type": "code",
   "execution_count": 49,
   "metadata": {},
   "outputs": [],
   "source": [
    "df_test = pd.DataFrame(OHE_test, columns = cols)"
   ]
  },
  {
   "cell_type": "code",
   "execution_count": 51,
   "metadata": {},
   "outputs": [
    {
     "name": "stdout",
     "output_type": "stream",
     "text": [
      "[00:24:28] WARNING: /Users/travis/build/dmlc/xgboost/src/objective/regression_obj.cu:170: reg:linear is now deprecated in favor of reg:squarederror.\n",
      "[00:24:28] WARNING: /Users/travis/build/dmlc/xgboost/src/learner.cc:541: \n",
      "Parameters: { min_samples_leaf, n_fold } might not be used.\n",
      "\n",
      "  This may not be accurate due to some parameters are only used in language bindings but\n",
      "  passed down to XGBoost core.  Or some parameters are not used but slip through this\n",
      "  verification. Please open an issue if you find above cases.\n",
      "\n",
      "\n"
     ]
    },
    {
     "data": {
      "text/plain": [
       "XGBRegressor(base_score=0.5, booster='gbtree', colsample_bylevel=1,\n",
       "             colsample_bynode=0.2, colsample_bytree=1, eval_metric='rmse',\n",
       "             gamma=0, gpu_id=-1, importance_type='gain',\n",
       "             interaction_constraints='', learning_rate=0.1, max_delta_step=0,\n",
       "             max_depth=10, min_child_weight=1, min_samples_leaf=2, missing=None,\n",
       "             monotone_constraints='()', n_estimators=300, n_fold=5, n_jobs=1,\n",
       "             nthread=1, num_parallel_tree=1, objective='reg:linear',\n",
       "             random_state=0, reg_alpha=0, reg_lambda=1, scale_pos_weight=1,\n",
       "             seed=0, silent=None, subsample=0.9, ...)"
      ]
     },
     "execution_count": 51,
     "metadata": {},
     "output_type": "execute_result"
    }
   ],
   "source": [
    "optimized_rf.fit(df_train, y_train)"
   ]
  },
  {
   "cell_type": "code",
   "execution_count": 52,
   "metadata": {},
   "outputs": [
    {
     "data": {
      "image/png": "[encoded data removed]",
      "text/plain": [
       "<Figure size 576x468 with 3 Axes>"
      ]
     },
     "metadata": {},
     "output_type": "display_data"
    }
   ],
   "source": [
    "import shap\n",
    "explainer = shap.Explainer(optimized_rf)\n",
    "shap_values = explainer(df_test)\n",
    "\n",
    "# visualize the first prediction's explanation\n",
    "shap.plots.waterfall(shap_values[0])\n",
    "\n",
    "# Features pushing the prediction higher are shown in red, those pushing the prediction lower are in blue."
   ]
  },
  {
   "cell_type": "code",
   "execution_count": 53,
   "metadata": {},
   "outputs": [
    {
     "data": {
      "image/png": "[encoded data removed]",
      "text/plain": [
       "<Figure size 576x468 with 1 Axes>"
      ]
     },
     "metadata": {},
     "output_type": "display_data"
    }
   ],
   "source": [
    "shap.plots.bar(shap_values)"
   ]
  },
  {
   "cell_type": "code",
   "execution_count": 20,
   "metadata": {},
   "outputs": [],
   "source": [
    "import pickle\n",
    "filename = 'finalized_model.sav'\n",
    "pickle.dump(optimized_rf, open(filename, 'wb'))"
   ]
  },
  {
   "cell_type": "code",
   "execution_count": 26,
   "metadata": {
    "colab": {
     "base_uri": "https://localhost:8080/"
    },
    "id": "s0SxXv_CCgiw",
    "outputId": "dac2dadf-11d4-4427-e512-47935517c022"
   },
   "outputs": [
    {
     "name": "stdout",
     "output_type": "stream",
     "text": [
      "[14:46:27] WARNING: /workspace/src/objective/regression_obj.cu:152: reg:linear is now deprecated in favor of reg:squarederror.\n",
      "Training Errors\n",
      "Mean Squared Error:  12551992028.521044\n",
      "RMSE:  112035.67301766454\n",
      "Mean Absolute Error:  51479.346560496706\n",
      "R-squared:  0.9955153154058346\n",
      "Adjusted R2:  0.9955147282789812\n",
      "Test Errors\n",
      "Mean Squared Error:  72116357746.47386\n",
      "RMSE:  268544.8896301582\n",
      "Mean Absolute Error:  74558.02547936206\n",
      "R-squared:  0.9657383499618781\n",
      "Adjusted R2:  0.9657204005138171\n"
     ]
    }
   ],
   "source": [
    "from sklearn.ensemble import RandomForestRegressor\n",
    "from sklearn import preprocessing\n",
    "from lightgbm import LGBMRegressor\n",
    "from sklearn.metrics import mean_squared_log_error\n",
    "import xgboost\n",
    "from xgboost import XGBRegressor\n",
    "\n",
    "\n",
    "# Initialise LGBMRegressor\n",
    "# rf = LGBMRegressor(n_estimators=300, subsample=0.9, colsample_bytree=0.2, eval_metric = 'rmse')\n",
    "optimized_rf = XGBRegressor(base_score=0.5, booster='gbtree',\n",
    "                              colsample_bylevel=1, colsample_bynode=0.2,\n",
    "                              colsample_bytree=1, eval_metric='rmse', gamma=0,\n",
    "                              importance_type='gain', learning_rate=0.1,\n",
    "                              max_delta_step=0, max_depth=10,\n",
    "                              min_child_weight=1, min_samples_leaf=2,\n",
    "                              missing=None, n_estimators=300, n_fold=5,\n",
    "                              n_jobs=1, nthread=None, objective='reg:linear',\n",
    "                              random_state=0, reg_alpha=0, reg_lambda=1,\n",
    "                              scale_pos_weight=1, seed=None, silent=None,\n",
    "                              subsample=0.9, verbosity=1)\n",
    "\n",
    "\n",
    "# # # Set up 5-fold cross-validation\n",
    "# from sklearn import model_selection\n",
    "# cv = model_selection.KFold(5)\n",
    "\n",
    "\n",
    "# # Pipeline Standardization and Model\n",
    "# from sklearn.pipeline import Pipeline\n",
    "# pipeline = Pipeline(steps=[('standardize', preprocessing.StandardScaler())\n",
    "#                            , ('model', rf) ])\n",
    "# # Tuning the model\n",
    "# my_min_samples_leaf = [2, 10, 25, 50, 100]\n",
    "# my_max_depth = [7, 8, 9, 10, 11, 12]\n",
    "# my_subsample = [0.7, 0.8, 0.9]\n",
    "# my_colsample_bytree = [0.1, 0.2, 0.3]\n",
    "\n",
    "# # Run the model using GridSearch, select the model with best search\n",
    "# from sklearn.model_selection import GridSearchCV\n",
    "# optimized_rf = GridSearchCV(estimator=pipeline\n",
    "#                             , cv=cv\n",
    "#                             , param_grid =dict(model__min_samples_leaf = my_min_samples_leaf, \n",
    "#                                                model__max_depth = my_max_depth,\n",
    "#                                                model__subsample = my_subsample,\n",
    "#                                                model__colsample_bytree = my_colsample_bytree)\n",
    "#                             , scoring = 'neg_mean_squared_error'\n",
    "#                             , verbose = 1\n",
    "#                             , n_jobs = -1\n",
    "#                            )\n",
    "\n",
    "# Fitting on Training Data\n",
    "optimized_rf.fit(OHE_train, y_train)\n",
    "\n",
    "\n",
    "# Best model estimators\n",
    "# print(optimized_rf.best_estimator_)\n",
    "\n",
    "def adjusted_r2(r2, n, p):\n",
    "  result = 1-((1-r2)*((n-1)/(n-p-1)))\n",
    "  return result\n",
    "\n",
    "\n",
    "# Evaluate metrics on holdout\n",
    "from sklearn.metrics import mean_squared_error, mean_absolute_error, r2_score\n",
    "y_train_pred = optimized_rf.predict(OHE_train)\n",
    "y_pred = optimized_rf.predict(OHE_test)\n",
    "n1 = len(y_train_pred)\n",
    "p1 = training_set.shape[1]\n",
    "n2 = len(y_pred)\n",
    "p2 = testing_set.shape[1]\n",
    "print('Training Errors')\n",
    "print(\"Mean Squared Error: \", mean_squared_error(y_train, y_train_pred))\n",
    "print(\"RMSE: \", mean_squared_error(y_train, y_train_pred, squared = False))\n",
    "print(\"Mean Absolute Error: \", mean_absolute_error(y_train, y_train_pred))\n",
    "print(\"R-squared: \", r2_score(y_train, y_train_pred))\n",
    "print(\"Adjusted R2: \", adjusted_r2(r2_score(y_train, y_train_pred), n1, p1))\n",
    "\n",
    "print('Test Errors')\n",
    "print(\"Mean Squared Error: \", mean_squared_error(y_test, y_pred))\n",
    "print(\"RMSE: \", mean_squared_error(y_test, y_pred, squared = False))\n",
    "print(\"Mean Absolute Error: \", mean_absolute_error(y_test, y_pred))\n",
    "print(\"R-squared: \", r2_score(y_test, y_pred))\n",
    "print(\"Adjusted R2: \", adjusted_r2(r2_score(y_test, y_pred), n2, p2))\n",
    "\n"
   ]
  },
  {
   "cell_type": "code",
   "execution_count": 27,
   "metadata": {
    "colab": {
     "base_uri": "https://localhost:8080/"
    },
    "id": "b7OduCd1DoVz",
    "outputId": "d31918e4-4fc1-492e-b175-a5a16b36702b"
   },
   "outputs": [
    {
     "name": "stdout",
     "output_type": "stream",
     "text": [
      "Training sMAPE\n",
      "5.418052917646694\n",
      "Testing sMAPE\n",
      "6.164298821910724\n"
     ]
    }
   ],
   "source": [
    "print('Training sMAPE')\n",
    "print(smape(y_train_pred, y_train))\n",
    "print('Testing sMAPE')\n",
    "print(smape(y_pred, y_test))"
   ]
  },
  {
   "cell_type": "code",
   "execution_count": 28,
   "metadata": {
    "colab": {
     "base_uri": "https://localhost:8080/"
    },
    "id": "cWK5IqtGDwVy",
    "outputId": "5b8207d2-bce4-43a9-ed83-4b62100570b3"
   },
   "outputs": [
    {
     "name": "stdout",
     "output_type": "stream",
     "text": [
      "Training MAPE\n",
      "5.41039623682465\n",
      "Testing MAPE\n",
      "6.1527569561702355\n"
     ]
    }
   ],
   "source": [
    "print('Training MAPE')\n",
    "print(mape(y_train_pred, y_train))\n",
    "print('Testing MAPE')\n",
    "print(mape(y_pred, y_test))"
   ]
  },
  {
   "cell_type": "markdown",
   "metadata": {
    "id": "TXcThETwBCjG"
   },
   "source": [
    "## No feature cross"
   ]
  },
  {
   "cell_type": "markdown",
   "metadata": {
    "id": "0ZPhoGzUNXXT"
   },
   "source": [
    "## LightGBM"
   ]
  },
  {
   "cell_type": "markdown",
   "metadata": {
    "id": "9SUv4Ph89C1I"
   },
   "source": [
    "> With GridSearch"
   ]
  },
  {
   "cell_type": "markdown",
   "metadata": {
    "id": "_UCdxgixAd3L"
   },
   "source": [
    "## REFER TO THIS FOR RESULTS FOR LIGHTGBM NO FEATURE CROSS"
   ]
  },
  {
   "cell_type": "markdown",
   "metadata": {
    "id": "PPH6WOy495go"
   },
   "source": [
    "* Training Errors\n",
    "> * Mean Squared Error:  154748781024.69647\n",
    "> * RMSE:  393381.21590220404\n",
    "> * Mean Absolute Error:  97869.27002052014\n",
    "> * R-squared:  0.9447100131476823\n",
    "> * Adjusted R2:  0.9447027746818947\n",
    "> * Training sMAPE: 8.692195215735234\n",
    "> * Training MAPE: 8.755165504591561\n",
    "\n",
    "* Test Errors\n",
    "> * Mean Squared Error:  109857614878.14053\n",
    "> * RMSE:  331447.75588038086\n",
    "> * Mean Absolute Error:  103059.25251342994\n",
    "> * R-squared:  0.9478079138687274\n",
    "> * Adjusted R2:  0.9477805707857713\n",
    "> * Testing sMAPE: 8.932541697320472\n",
    "> * Testing MAPE: 9.001885667238648\n",
    "\n",
    "\n"
   ]
  },
  {
   "cell_type": "code",
   "execution_count": 45,
   "metadata": {
    "colab": {
     "base_uri": "https://localhost:8080/"
    },
    "id": "lnmeU8LDorKR",
    "outputId": "17b735cc-f495-461c-84b0-528ee444768c"
   },
   "outputs": [
    {
     "name": "stdout",
     "output_type": "stream",
     "text": [
      "Training Errors\n",
      "Mean Squared Error:  153767951261.52554\n",
      "RMSE:  392132.56847847457\n",
      "Mean Absolute Error:  97484.11905487237\n",
      "R-squared:  0.9450604525136728\n",
      "Adjusted R2:  0.9450532599267776\n",
      "Test Errors\n",
      "Mean Squared Error:  134232725253.18576\n",
      "RMSE:  366377.84492677194\n",
      "Mean Absolute Error:  104872.69253333585\n",
      "R-squared:  0.9362275799832266\n",
      "Adjusted R2:  0.9361941700412203\n"
     ]
    }
   ],
   "source": [
    "from sklearn.ensemble import RandomForestRegressor\n",
    "from sklearn import preprocessing\n",
    "from lightgbm import LGBMRegressor\n",
    "from sklearn.metrics import mean_squared_log_error\n",
    "\n",
    "# Initialise LGBMRegressor\n",
    "# rf = LGBMRegressor(n_estimators=300, subsample=0.9, colsample_bytree=0.2, eval_metric = 'rmse')\n",
    "optimized_rf = LGBMRegressor(boosting_type='gbdt', class_weight=None,\n",
    "                               colsample_bytree=0.3, eval_metric='rmse',\n",
    "                               importance_type='split', learning_rate=0.1,\n",
    "                               max_depth=8, min_child_samples=20,\n",
    "                               min_child_weight=0.001, min_samples_leaf=2,\n",
    "                               min_split_gain=0.0, n_estimators=300, n_jobs=-1,\n",
    "                               num_leaves=31, objective=None, random_state=None,\n",
    "                               reg_alpha=0.0, reg_lambda=0.0, silent=True,\n",
    "                               subsample=0.7, subsample_for_bin=200000,\n",
    "                               subsample_freq=0)\n",
    "\n",
    "\n",
    "# # # Set up 5-fold cross-validation\n",
    "# from sklearn import model_selection\n",
    "# cv = model_selection.KFold(5)\n",
    "\n",
    "\n",
    "# # Pipeline Standardization and Model\n",
    "# from sklearn.pipeline import Pipeline\n",
    "# pipeline = Pipeline(steps=[('standardize', preprocessing.StandardScaler())\n",
    "#                            , ('model', rf) ])\n",
    "# # Tuning the model\n",
    "# my_min_samples_leaf = [2, 10, 25, 50, 100]\n",
    "# my_max_depth = [7, 8, 9, 10, 11, 12]\n",
    "# my_subsample = [0.7, 0.8, 0.9]\n",
    "# my_colsample_bytree = [0.1, 0.2, 0.3]\n",
    "\n",
    "# # Run the model using GridSearch, select the model with best search\n",
    "# from sklearn.model_selection import GridSearchCV\n",
    "# optimized_rf = GridSearchCV(estimator=pipeline\n",
    "#                             , cv=cv\n",
    "#                             , param_grid =dict(model__min_samples_leaf = my_min_samples_leaf, \n",
    "#                                                model__max_depth = my_max_depth,\n",
    "#                                                model__subsample = my_subsample,\n",
    "#                                                model__colsample_bytree = my_colsample_bytree)\n",
    "#                             , scoring = 'neg_mean_squared_error'\n",
    "#                             , verbose = 1\n",
    "#                             , n_jobs = -1\n",
    "#                            )\n",
    "\n",
    "# Fitting on Training Data\n",
    "optimized_rf.fit(training_set, training_labels)\n",
    "\n",
    "\n",
    "# Best model estimators\n",
    "# print(optimized_rf.best_estimator_)\n",
    "\n",
    "def adjusted_r2(r2, n, p):\n",
    "  result = 1-((1-r2)*((n-1)/(n-p-1)))\n",
    "  return result\n",
    "\n",
    "\n",
    "# Evaluate metrics on holdout\n",
    "from sklearn.metrics import mean_squared_error, mean_absolute_error, r2_score\n",
    "y_train_pred = optimized_rf.predict(training_set)\n",
    "y_pred = optimized_rf.predict(testing_set)\n",
    "n1 = len(y_train_pred)\n",
    "p1 = training_set.shape[1]\n",
    "n2 = len(y_pred)\n",
    "p2 = testing_set.shape[1]\n",
    "print('Training Errors')\n",
    "print(\"Mean Squared Error: \", mean_squared_error(training_labels, y_train_pred))\n",
    "print(\"RMSE: \", mean_squared_error(training_labels, y_train_pred, squared = False))\n",
    "print(\"Mean Absolute Error: \", mean_absolute_error(training_labels, y_train_pred))\n",
    "print(\"R-squared: \", r2_score(training_labels, y_train_pred))\n",
    "print(\"Adjusted R2: \", adjusted_r2(r2_score(training_labels, y_train_pred), n1, p1))\n",
    "\n",
    "print('Test Errors')\n",
    "print(\"Mean Squared Error: \", mean_squared_error(testing_labels, y_pred))\n",
    "print(\"RMSE: \", mean_squared_error(testing_labels, y_pred, squared = False))\n",
    "print(\"Mean Absolute Error: \", mean_absolute_error(testing_labels, y_pred))\n",
    "print(\"R-squared: \", r2_score(testing_labels, y_pred))\n",
    "print(\"Adjusted R2: \", adjusted_r2(r2_score(testing_labels, y_pred), n2, p2))\n",
    "\n"
   ]
  },
  {
   "cell_type": "code",
   "execution_count": 46,
   "metadata": {
    "colab": {
     "base_uri": "https://localhost:8080/"
    },
    "id": "JB7XQnFnqsnT",
    "outputId": "39b6fe5c-858c-4234-f3db-4727494d1b7b"
   },
   "outputs": [
    {
     "name": "stdout",
     "output_type": "stream",
     "text": [
      "0.9450532599267776\n",
      "0.9361941700412203\n"
     ]
    }
   ],
   "source": [
    "train_adj_r_squared = 1 - (1-optimized_rf.score(training_set, training_labels))*(len(training_labels)-1)/(len(training_labels)-training_set.shape[1]-1)\n",
    "print(train_adj_r_squared)\n",
    "\n",
    "test_adj_r_squared = 1 - (1-optimized_rf.score(testing_set, testing_labels))*(len(testing_labels)-1)/(len(testing_labels)-testing_set.shape[1]-1)\n",
    "print(test_adj_r_squared)"
   ]
  },
  {
   "cell_type": "code",
   "execution_count": 48,
   "metadata": {
    "colab": {
     "base_uri": "https://localhost:8080/"
    },
    "id": "3ek8kVTJQp_i",
    "outputId": "6f35bee7-9f7a-40e5-f50c-96272e36def6"
   },
   "outputs": [
    {
     "name": "stdout",
     "output_type": "stream",
     "text": [
      "Fitting 5 folds for each of 270 candidates, totalling 1350 fits\n"
     ]
    },
    {
     "name": "stderr",
     "output_type": "stream",
     "text": [
      "[Parallel(n_jobs=-1)]: Using backend LokyBackend with 2 concurrent workers.\n",
      "[Parallel(n_jobs=-1)]: Done  46 tasks      | elapsed:   45.1s\n",
      "[Parallel(n_jobs=-1)]: Done 196 tasks      | elapsed:  3.2min\n",
      "[Parallel(n_jobs=-1)]: Done 446 tasks      | elapsed:  7.3min\n",
      "[Parallel(n_jobs=-1)]: Done 796 tasks      | elapsed: 13.5min\n",
      "[Parallel(n_jobs=-1)]: Done 1246 tasks      | elapsed: 21.7min\n",
      "[Parallel(n_jobs=-1)]: Done 1350 out of 1350 | elapsed: 23.5min finished\n"
     ]
    },
    {
     "name": "stdout",
     "output_type": "stream",
     "text": [
      "Pipeline(memory=None,\n",
      "         steps=[('standardize',\n",
      "                 StandardScaler(copy=True, with_mean=True, with_std=True)),\n",
      "                ('model',\n",
      "                 LGBMRegressor(boosting_type='gbdt', class_weight=None,\n",
      "                               colsample_bytree=0.3, eval_metric='rmse',\n",
      "                               importance_type='split', learning_rate=0.1,\n",
      "                               max_depth=8, min_child_samples=20,\n",
      "                               min_child_weight=0.001, min_samples_leaf=2,\n",
      "                               min_split_gain=0.0, n_estimators=300, n_jobs=-1,\n",
      "                               num_leaves=31, objective=None, random_state=None,\n",
      "                               reg_alpha=0.0, reg_lambda=0.0, silent=True,\n",
      "                               subsample=0.7, subsample_for_bin=200000,\n",
      "                               subsample_freq=0))],\n",
      "         verbose=False)\n",
      "Training Errors\n",
      "Mean Squared Error:  154748781024.69647\n",
      "RMSE:  393381.21590220404\n",
      "Mean Absolute Error:  97869.27002052014\n",
      "R-squared:  0.9447100131476823\n",
      "Adjusted R2:  0.9447027746818947\n",
      "Test Errors\n",
      "Mean Squared Error:  109857614878.14053\n",
      "RMSE:  331447.75588038086\n",
      "Mean Absolute Error:  103059.25251342994\n",
      "R-squared:  0.9478079138687274\n",
      "Adjusted R2:  0.9477805707857713\n"
     ]
    }
   ],
   "source": [
    "from sklearn.ensemble import RandomForestRegressor\n",
    "from sklearn import preprocessing\n",
    "from lightgbm import LGBMRegressor\n",
    "from sklearn.metrics import mean_squared_log_error\n",
    "\n",
    "# Initialise LGBMRegressor\n",
    "rf = LGBMRegressor(n_estimators=300, subsample=0.9, colsample_bytree=0.2, eval_metric = 'rmse')\n",
    "optimized_rf = LGBMRegressor(boosting_type='gbdt', class_weight=None,\n",
    "                               colsample_bytree=0.3, eval_metric='rmse',\n",
    "                               importance_type='split', learning_rate=0.1,\n",
    "                               max_depth=9, min_child_samples=20,\n",
    "                               min_child_weight=0.001, min_samples_leaf=2,\n",
    "                               min_split_gain=0.0, n_estimators=300, n_jobs=-1,\n",
    "                               num_leaves=31, objective=None, random_state=None,\n",
    "                               reg_alpha=0.0, reg_lambda=0.0, silent=True,\n",
    "                               subsample=0.7, subsample_for_bin=200000,\n",
    "                               subsample_freq=0)\n",
    "\n",
    "\n",
    "# # Set up 5-fold cross-validation\n",
    "from sklearn import model_selection\n",
    "cv = model_selection.KFold(5)\n",
    "\n",
    "\n",
    "# Pipeline Standardization and Model\n",
    "from sklearn.pipeline import Pipeline\n",
    "pipeline = Pipeline(steps=[('standardize', preprocessing.StandardScaler())\n",
    "                           , ('model', rf) ])\n",
    "# Tuning the model\n",
    "my_min_samples_leaf = [2, 10, 25, 50, 100]\n",
    "my_max_depth = [7, 8, 9, 10, 11, 12]\n",
    "my_subsample = [0.7, 0.8, 0.9]\n",
    "my_colsample_bytree = [0.1, 0.2, 0.3]\n",
    "\n",
    "# Run the model using GridSearch, select the model with best search\n",
    "from sklearn.model_selection import GridSearchCV\n",
    "optimized_rf = GridSearchCV(estimator=pipeline\n",
    "                            , cv=cv\n",
    "                            , param_grid =dict(model__min_samples_leaf = my_min_samples_leaf, \n",
    "                                               model__max_depth = my_max_depth,\n",
    "                                               model__subsample = my_subsample,\n",
    "                                               model__colsample_bytree = my_colsample_bytree)\n",
    "                            , scoring = 'neg_mean_squared_error'\n",
    "                            , verbose = 1\n",
    "                            , n_jobs = -1\n",
    "                           )\n",
    "\n",
    "# Fitting on Training Data\n",
    "optimized_rf.fit(training_set, training_labels)\n",
    "\n",
    "\n",
    "# Best model estimators\n",
    "print(optimized_rf.best_estimator_)\n",
    "\n",
    "def adjusted_r2(r2, n, p):\n",
    "  result = 1-((1-r2)*((n-1)/(n-p-1)))\n",
    "  return result\n",
    "\n",
    "\n",
    "# Evaluate metrics on holdout\n",
    "from sklearn.metrics import mean_squared_error, mean_absolute_error, r2_score\n",
    "y_train_pred = optimized_rf.predict(training_set)\n",
    "y_pred = optimized_rf.predict(testing_set)\n",
    "n1 = len(y_train_pred)\n",
    "p1 = training_set.shape[1]\n",
    "n2 = len(y_pred)\n",
    "p2 = testing_set.shape[1]\n",
    "print('Training Errors')\n",
    "print(\"Mean Squared Error: \", mean_squared_error(training_labels, y_train_pred))\n",
    "print(\"RMSE: \", mean_squared_error(training_labels, y_train_pred, squared = False))\n",
    "print(\"Mean Absolute Error: \", mean_absolute_error(training_labels, y_train_pred))\n",
    "print(\"R-squared: \", r2_score(training_labels, y_train_pred))\n",
    "print(\"Adjusted R2: \", adjusted_r2(r2_score(training_labels, y_train_pred), n1, p1))\n",
    "\n",
    "print('Test Errors')\n",
    "print(\"Mean Squared Error: \", mean_squared_error(testing_labels, y_pred))\n",
    "print(\"RMSE: \", mean_squared_error(testing_labels, y_pred, squared = False))\n",
    "print(\"Mean Absolute Error: \", mean_absolute_error(testing_labels, y_pred))\n",
    "print(\"R-squared: \", r2_score(testing_labels, y_pred))\n",
    "print(\"Adjusted R2: \", adjusted_r2(r2_score(testing_labels, y_pred), n2, p2))\n",
    "\n"
   ]
  },
  {
   "cell_type": "markdown",
   "metadata": {
    "id": "0uUtOy-BvpWd"
   },
   "source": [
    "## Residual Plot (for LightGBM Model)"
   ]
  },
  {
   "cell_type": "markdown",
   "metadata": {
    "id": "WMMRMhcWRV7p"
   },
   "source": [
    "> Training Residual Plot"
   ]
  },
  {
   "cell_type": "code",
   "execution_count": 49,
   "metadata": {
    "colab": {
     "base_uri": "https://localhost:8080/",
     "height": 394
    },
    "id": "KXrpqQiNvofN",
    "outputId": "f004d19b-65de-4e2e-95d1-2e22e792c4d6"
   },
   "outputs": [
    {
     "name": "stderr",
     "output_type": "stream",
     "text": [
      "/usr/local/lib/python3.7/dist-packages/seaborn/_decorators.py:43: FutureWarning: Pass the following variables as keyword args: x, y. From version 0.12, the only valid positional argument will be `data`, and passing other arguments without an explicit keyword will result in an error or misinterpretation.\n",
      "  FutureWarning\n",
      "/usr/local/lib/python3.7/dist-packages/statsmodels/tools/_testing.py:19: FutureWarning: pandas.util.testing is deprecated. Use the functions in the public API at pandas.testing instead.\n",
      "  import pandas.util.testing as tm\n"
     ]
    },
    {
     "data": {
      "text/plain": [
       "<matplotlib.axes._subplots.AxesSubplot at 0x7fbd11138d50>"
      ]
     },
     "execution_count": 49,
     "metadata": {
      "tags": []
     },
     "output_type": "execute_result"
    },
    {
     "data": {
      "image/png": "[encoded data removed]",
      "text/plain": [
       "<Figure size 432x288 with 1 Axes>"
      ]
     },
     "metadata": {
      "needs_background": "light",
      "tags": []
     },
     "output_type": "display_data"
    }
   ],
   "source": [
    "sns.residplot(y_train_pred.reshape(-1), training_labels, lowess= True, color=\"g\")\n"
   ]
  },
  {
   "cell_type": "markdown",
   "metadata": {
    "id": "jl07HndrRXVO"
   },
   "source": [
    "> Testing Residual Plot"
   ]
  },
  {
   "cell_type": "code",
   "execution_count": 50,
   "metadata": {
    "colab": {
     "base_uri": "https://localhost:8080/",
     "height": 360
    },
    "id": "-zAsPHPCMiCr",
    "outputId": "ce181d9d-aec7-4b9b-fe0a-fe7c91c9f070"
   },
   "outputs": [
    {
     "name": "stderr",
     "output_type": "stream",
     "text": [
      "/usr/local/lib/python3.7/dist-packages/seaborn/_decorators.py:43: FutureWarning: Pass the following variables as keyword args: x, y. From version 0.12, the only valid positional argument will be `data`, and passing other arguments without an explicit keyword will result in an error or misinterpretation.\n",
      "  FutureWarning\n"
     ]
    },
    {
     "data": {
      "text/plain": [
       "<matplotlib.axes._subplots.AxesSubplot at 0x7fbd1053fb10>"
      ]
     },
     "execution_count": 50,
     "metadata": {
      "tags": []
     },
     "output_type": "execute_result"
    },
    {
     "data": {
      "image/png": "[encoded data removed]",
      "text/plain": [
       "<Figure size 432x288 with 1 Axes>"
      ]
     },
     "metadata": {
      "needs_background": "light",
      "tags": []
     },
     "output_type": "display_data"
    }
   ],
   "source": [
    "sns.residplot(y_pred.reshape(-1), testing_labels, lowess= True, color=\"g\")"
   ]
  },
  {
   "cell_type": "markdown",
   "metadata": {
    "id": "07dUC25ZU8WC"
   },
   "source": [
    "## sMAPE (for LightGBM Model)"
   ]
  },
  {
   "cell_type": "code",
   "execution_count": 51,
   "metadata": {
    "id": "oPMRudVSOX5m"
   },
   "outputs": [],
   "source": [
    "def smape(y_true, y_pred):\n",
    "    return 1/len(y_true) * np.sum(2 * np.abs(y_pred.squeeze()-y_true.squeeze()) / (np.abs(y_true.squeeze()) + np.abs(y_pred.squeeze()))*100)"
   ]
  },
  {
   "cell_type": "code",
   "execution_count": 52,
   "metadata": {
    "colab": {
     "base_uri": "https://localhost:8080/"
    },
    "id": "qSfRndEQOZ5L",
    "outputId": "5c6b2e91-4403-4a6a-c5b2-ff0d69af7b0a"
   },
   "outputs": [
    {
     "name": "stdout",
     "output_type": "stream",
     "text": [
      "Training sMAPE\n",
      "8.692195215735234\n",
      "Testing sMAPE\n",
      "8.932541697320472\n"
     ]
    }
   ],
   "source": [
    "print('Training sMAPE')\n",
    "print(smape(y_train_pred, training_labels))\n",
    "print('Testing sMAPE')\n",
    "print(smape(y_pred, testing_labels))"
   ]
  },
  {
   "cell_type": "markdown",
   "metadata": {
    "id": "J7f083GaU9yd"
   },
   "source": [
    "## MAPE (for LightGBM Model)"
   ]
  },
  {
   "cell_type": "code",
   "execution_count": 53,
   "metadata": {
    "id": "Az3P4L9qbO5q"
   },
   "outputs": [],
   "source": [
    "def percentage_error(actual, predicted):\n",
    "    res = np.empty(actual.shape)\n",
    "    for j in range(actual.shape[0]):\n",
    "        if actual[j] != 0:\n",
    "            res[j] = (actual[j] - predicted[j]) / actual[j]\n",
    "        else:\n",
    "            res[j] = predicted[j] / np.mean(actual)\n",
    "    return res\n",
    "\n",
    "def mape(y_true, y_pred): \n",
    "    return np.mean(np.abs(percentage_error(np.asarray(y_true), np.asarray(y_pred)))) * 100\n",
    "\n"
   ]
  },
  {
   "cell_type": "code",
   "execution_count": 54,
   "metadata": {
    "colab": {
     "base_uri": "https://localhost:8080/"
    },
    "id": "xNYcrIuVU-4u",
    "outputId": "3a5cabcb-7332-4c76-9c13-3368908786e8"
   },
   "outputs": [
    {
     "name": "stdout",
     "output_type": "stream",
     "text": [
      "Training MAPE\n",
      "8.755165504591561\n",
      "Testing MAPE\n",
      "9.001885667238648\n"
     ]
    }
   ],
   "source": [
    "print('Training MAPE')\n",
    "print(mape(y_train_pred, training_labels))\n",
    "print('Testing MAPE')\n",
    "print(mape(y_pred, testing_labels))"
   ]
  },
  {
   "cell_type": "markdown",
   "metadata": {
    "id": "1C6_JSG1PZcx"
   },
   "source": [
    "## XGBoost"
   ]
  },
  {
   "cell_type": "markdown",
   "metadata": {
    "id": "EUIu2tC-9GWz"
   },
   "source": [
    "> With Grid Search"
   ]
  },
  {
   "cell_type": "markdown",
   "metadata": {
    "id": "MMlPtlPjAlcz"
   },
   "source": [
    "## REFER TO THIS FOR RESULTS FOR XGBOOST NO FEATURE CROSS"
   ]
  },
  {
   "cell_type": "markdown",
   "metadata": {
    "id": "pN881fId97-2"
   },
   "source": [
    "* Training Errors\n",
    "> * Mean Squared Error:  12132880148.301222\n",
    "> * RMSE:  110149.35382607208\n",
    "> * Mean Absolute Error:  49759.837263115034\n",
    "> * R-squared:  0.9956650593339843\n",
    "> * Adjusted R2:  0.9956644918113371\n",
    "> * sMAPE: 5.221816592924819\n",
    "> * MAPE: 5.215358761311443\n",
    "\n",
    "\n",
    "* Test Errors\n",
    "> * Mean Squared Error:  64160185612.8874\n",
    "> * RMSE:  253298.60957551148\n",
    "> * Mean Absolute Error:  72200.72230554672\n",
    "> * R-squared:  0.9695182356050535\n",
    "> * Adjusted R2:  0.9695022664136629\n",
    "> * sMAPE: 5.968598907734008\n",
    "> * MAPE: 5.9980976343903105"
   ]
  },
  {
   "cell_type": "code",
   "execution_count": 55,
   "metadata": {
    "colab": {
     "base_uri": "https://localhost:8080/"
    },
    "id": "SLpXwGafO5Rv",
    "outputId": "b886d45d-9e4c-4289-889d-de34c39a2960"
   },
   "outputs": [
    {
     "name": "stdout",
     "output_type": "stream",
     "text": [
      "Fitting 5 folds for each of 30 candidates, totalling 150 fits\n"
     ]
    },
    {
     "name": "stderr",
     "output_type": "stream",
     "text": [
      "[Parallel(n_jobs=-1)]: Using backend LokyBackend with 2 concurrent workers.\n",
      "[Parallel(n_jobs=-1)]: Done  46 tasks      | elapsed:  7.3min\n",
      "[Parallel(n_jobs=-1)]: Done 150 out of 150 | elapsed: 29.5min finished\n"
     ]
    },
    {
     "name": "stdout",
     "output_type": "stream",
     "text": [
      "[08:17:50] WARNING: /workspace/src/objective/regression_obj.cu:152: reg:linear is now deprecated in favor of reg:squarederror.\n",
      "Pipeline(memory=None,\n",
      "         steps=[('standardize',\n",
      "                 StandardScaler(copy=True, with_mean=True, with_std=True)),\n",
      "                ('model',\n",
      "                 XGBRegressor(base_score=0.5, booster='gbtree',\n",
      "                              colsample_bylevel=1, colsample_bynode=0.2,\n",
      "                              colsample_bytree=1, eval_metric='rmse', gamma=0,\n",
      "                              importance_type='gain', learning_rate=0.1,\n",
      "                              max_delta_step=0, max_depth=10,\n",
      "                              min_child_weight=1, min_samples_leaf=2,\n",
      "                              missing=None, n_estimators=300, n_fold=5,\n",
      "                              n_jobs=1, nthread=None, objective='reg:linear',\n",
      "                              random_state=0, reg_alpha=0, reg_lambda=1,\n",
      "                              scale_pos_weight=1, seed=None, silent=None,\n",
      "                              subsample=0.9, verbosity=1))],\n",
      "         verbose=False)\n",
      "Training Errors\n",
      "Mean Squared Error:  12132880148.301222\n",
      "RMSE:  110149.35382607208\n",
      "Mean Absolute Error:  49759.837263115034\n",
      "R-squared:  0.9956650593339843\n",
      "Adjusted R2:  0.9956644918113371\n",
      "Test Errors\n",
      "Mean Squared Error:  64160185612.8874\n",
      "RMSE:  253298.60957551148\n",
      "Mean Absolute Error:  72200.72230554672\n",
      "R-squared:  0.9695182356050535\n",
      "Adjusted R2:  0.9695022664136629\n"
     ]
    }
   ],
   "source": [
    "from sklearn.ensemble import RandomForestRegressor\n",
    "import xgboost\n",
    "from sklearn import preprocessing\n",
    "from xgboost import XGBRFRegressor\n",
    "\n",
    "# Initialise XGBRegressor\n",
    "rf = xgboost.XGBRegressor(n_estimators=300, subsample=0.9, colsample_bynode=0.2, n_fold = 5, eval_metric = 'rmse')\n",
    "\n",
    "# Set up 5-fold cross-validation\n",
    "from sklearn import model_selection\n",
    "cv = model_selection.KFold(5)\n",
    "\n",
    "# Pipeline standardization and Model\n",
    "from sklearn.pipeline import Pipeline\n",
    "pipeline = Pipeline(steps=[('standardize', preprocessing.StandardScaler())\n",
    "                           , ('model', rf) ])\n",
    "# Tuning the model\n",
    "my_min_samples_leaf = [2, 10, 25, 50, 100]\n",
    "my_max_depth = [7, 8, 9, 10, 11, 12]\n",
    "\n",
    "\n",
    "# Run the model using GridSearch, select the model with best search\n",
    "from sklearn.model_selection import GridSearchCV\n",
    "optimized_rf = GridSearchCV(estimator=pipeline\n",
    "                            , cv=cv\n",
    "                            , param_grid =dict(model__min_samples_leaf = my_min_samples_leaf, model__max_depth = my_max_depth)\n",
    "                            , scoring = 'neg_mean_squared_error'\n",
    "                            , verbose = 1\n",
    "                            , n_jobs = -1\n",
    "                           )\n",
    "\n",
    "# Fitting on Training Data\n",
    "optimized_rf.fit(training_set, training_labels)\n",
    "\n",
    "\n",
    "# Best model estimators\n",
    "print(optimized_rf.best_estimator_)\n",
    "\n",
    "def adjusted_r2(r2, n, p):\n",
    "  result = 1-((1-r2)*((n-1)/(n-p-1)))\n",
    "  return result\n",
    "\n",
    "\n",
    "# Evaluate metrics on holdout\n",
    "from sklearn.metrics import mean_squared_error, mean_absolute_error, r2_score\n",
    "y_train_pred = optimized_rf.predict(training_set)\n",
    "y_pred = optimized_rf.predict(testing_set)\n",
    "n1 = len(y_train_pred)\n",
    "p1 = training_set.shape[1]\n",
    "n2 = len(y_pred)\n",
    "p2 = testing_set.shape[1]\n",
    "print('Training Errors')\n",
    "print(\"Mean Squared Error: \", mean_squared_error(training_labels, y_train_pred))\n",
    "print(\"RMSE: \", mean_squared_error(training_labels, y_train_pred, squared = False))\n",
    "print(\"Mean Absolute Error: \", mean_absolute_error(training_labels, y_train_pred))\n",
    "print(\"R-squared: \", r2_score(training_labels, y_train_pred))\n",
    "print(\"Adjusted R2: \", adjusted_r2(r2_score(training_labels, y_train_pred), n1, p1))\n",
    "\n",
    "print('Test Errors')\n",
    "print(\"Mean Squared Error: \", mean_squared_error(testing_labels, y_pred))\n",
    "print(\"RMSE: \", mean_squared_error(testing_labels, y_pred, squared = False))\n",
    "print(\"Mean Absolute Error: \", mean_absolute_error(testing_labels, y_pred))\n",
    "print(\"R-squared: \", r2_score(testing_labels, y_pred))\n",
    "print(\"Adjusted R2: \", adjusted_r2(r2_score(testing_labels, y_pred), n2, p2))"
   ]
  },
  {
   "cell_type": "markdown",
   "metadata": {
    "id": "aWeOl-RGSAu0"
   },
   "source": [
    "## Residual Plot (for XGBoost Model)"
   ]
  },
  {
   "cell_type": "markdown",
   "metadata": {
    "id": "gt_H0XXkcFQN"
   },
   "source": [
    "> Training "
   ]
  },
  {
   "cell_type": "code",
   "execution_count": 56,
   "metadata": {
    "colab": {
     "base_uri": "https://localhost:8080/",
     "height": 360
    },
    "id": "PV2aTYF2SAEQ",
    "outputId": "750dcd05-2459-498a-806d-86e60d08d096"
   },
   "outputs": [
    {
     "name": "stderr",
     "output_type": "stream",
     "text": [
      "/usr/local/lib/python3.7/dist-packages/seaborn/_decorators.py:43: FutureWarning: Pass the following variables as keyword args: x, y. From version 0.12, the only valid positional argument will be `data`, and passing other arguments without an explicit keyword will result in an error or misinterpretation.\n",
      "  FutureWarning\n"
     ]
    },
    {
     "data": {
      "text/plain": [
       "<matplotlib.axes._subplots.AxesSubplot at 0x7fbd1006e450>"
      ]
     },
     "execution_count": 56,
     "metadata": {
      "tags": []
     },
     "output_type": "execute_result"
    },
    {
     "data": {
      "image/png": "[encoded data removed]",
      "text/plain": [
       "<Figure size 432x288 with 1 Axes>"
      ]
     },
     "metadata": {
      "needs_background": "light",
      "tags": []
     },
     "output_type": "display_data"
    }
   ],
   "source": [
    "sns.residplot(y_train_pred.reshape(-1), training_labels, lowess= True, color=\"g\")"
   ]
  },
  {
   "cell_type": "markdown",
   "metadata": {
    "id": "YIinOJsFSJcR"
   },
   "source": [
    "> Testing \n"
   ]
  },
  {
   "cell_type": "code",
   "execution_count": 57,
   "metadata": {
    "colab": {
     "base_uri": "https://localhost:8080/",
     "height": 360
    },
    "id": "b6wjKBQPSNCW",
    "outputId": "5d707bea-faa3-4314-9920-10481bae5065"
   },
   "outputs": [
    {
     "name": "stderr",
     "output_type": "stream",
     "text": [
      "/usr/local/lib/python3.7/dist-packages/seaborn/_decorators.py:43: FutureWarning: Pass the following variables as keyword args: x, y. From version 0.12, the only valid positional argument will be `data`, and passing other arguments without an explicit keyword will result in an error or misinterpretation.\n",
      "  FutureWarning\n"
     ]
    },
    {
     "data": {
      "text/plain": [
       "<matplotlib.axes._subplots.AxesSubplot at 0x7fbcf14a3b90>"
      ]
     },
     "execution_count": 57,
     "metadata": {
      "tags": []
     },
     "output_type": "execute_result"
    },
    {
     "data": {
      "image/png": "[encoded data removed]",
      "text/plain": [
       "<Figure size 432x288 with 1 Axes>"
      ]
     },
     "metadata": {
      "needs_background": "light",
      "tags": []
     },
     "output_type": "display_data"
    }
   ],
   "source": [
    "sns.residplot(y_pred.reshape(-1), testing_labels, lowess= True, color=\"g\")"
   ]
  },
  {
   "cell_type": "markdown",
   "metadata": {
    "id": "Ro37hwhXSP5d"
   },
   "source": [
    "## sMAPE (for XGBoost Model)"
   ]
  },
  {
   "cell_type": "code",
   "execution_count": 58,
   "metadata": {
    "colab": {
     "base_uri": "https://localhost:8080/"
    },
    "id": "t096AIxASQg9",
    "outputId": "69230505-96fb-4f90-b494-84842d2f2d10"
   },
   "outputs": [
    {
     "name": "stdout",
     "output_type": "stream",
     "text": [
      "5.221816592924819\n",
      "5.968598907734008\n"
     ]
    }
   ],
   "source": [
    "print(smape(y_train_pred, training_labels))\n",
    "print(smape(y_pred, testing_labels))"
   ]
  },
  {
   "cell_type": "markdown",
   "metadata": {
    "id": "mad90oT_Ulq5"
   },
   "source": [
    "## MAPE (for XGBoost Model)"
   ]
  },
  {
   "cell_type": "code",
   "execution_count": 59,
   "metadata": {
    "colab": {
     "base_uri": "https://localhost:8080/"
    },
    "id": "2ZS5616mUniq",
    "outputId": "5c1dd13f-021e-4beb-c2cc-66e149bd71cb"
   },
   "outputs": [
    {
     "name": "stdout",
     "output_type": "stream",
     "text": [
      "5.215358761311443\n",
      "5.9980976343903105\n"
     ]
    }
   ],
   "source": [
    "def percentage_error(actual, predicted):\n",
    "    res = np.empty(actual.shape)\n",
    "    for j in range(actual.shape[0]):\n",
    "        if actual[j] != 0:\n",
    "            res[j] = (actual[j] - predicted[j]) / actual[j]\n",
    "        else:\n",
    "            res[j] = predicted[j] / np.mean(actual)\n",
    "    return res\n",
    "\n",
    "def mape(y_true, y_pred): \n",
    "    return np.mean(np.abs(percentage_error(np.asarray(y_true), np.asarray(y_pred)))) * 100\n",
    "\n",
    "print(mape(y_train_pred, training_labels))\n",
    "print(mape(y_pred, testing_labels))"
   ]
  }
 ],
 "metadata": {
  "accelerator": "GPU",
  "colab": {
   "collapsed_sections": [],
   "name": "XGBoost and LightGBM-featurecross.ipynb",
   "provenance": []
  },
  "kernelspec": {
   "display_name": "Python 3",
   "language": "python",
   "name": "python3"
  },
  "language_info": {
   "codemirror_mode": {
    "name": "ipython",
    "version": 3
   },
   "file_extension": ".py",
   "mimetype": "text/x-python",
   "name": "python",
   "nbconvert_exporter": "python",
   "pygments_lexer": "ipython3",
   "version": "3.7.6"
  }
 },
 "nbformat": 4,
 "nbformat_minor": 1
}
