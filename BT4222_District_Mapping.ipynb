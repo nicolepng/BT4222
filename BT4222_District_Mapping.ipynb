{
  "nbformat": 4,
  "nbformat_minor": 0,
  "metadata": {
    "colab": {
      "name": "BT4222 District Mapping.ipynb",
      "provenance": [],
      "collapsed_sections": []
    },
    "kernelspec": {
      "name": "python3",
      "display_name": "Python 3"
    }
  },
  "cells": [
    {
      "cell_type": "code",
      "metadata": {
        "id": "Pc-jrv9kUoyy"
      },
      "source": [
        "postal_district = {\n",
        "  '01': ['01', '02', '03', '04', '05', '06'],\n",
        "  '02': ['07', '08'],\n",
        "  '03': ['14', '15', '16'],\n",
        "  '04': ['09', '10'],\n",
        "  '05': ['11', '12', '13'], \n",
        "  '06': ['17'],\n",
        "  '07': ['18', '19'],\n",
        "  '08': ['20', '21'],\n",
        "  '09': ['22', '23'],\n",
        "  '10': ['24', '25', '26', '27'],\n",
        "  '11': ['28', '29', '30'],\n",
        "  '12': ['31', '32', '33'],\n",
        "  '13': ['34', '35', '36', '37'],\n",
        "  '14': ['38', '39', '40', '41'],\n",
        "  '15': ['42', '43', '44', '45'],\n",
        "  '16': ['46', '47', '48'],\n",
        "  '17': ['49', '50', '81'],\n",
        "  '18': ['51', '52'],\n",
        "  '19': ['53', '54', '55', '82'],\n",
        "  '20': ['56', '57'],\n",
        "  '21': ['58', '59'],\n",
        "  '22': ['60', '61', '62', '63', '64'],\n",
        "  '23': ['65', '66', '67', '68'],\n",
        "  '24': ['69', '70', '71'],\n",
        "  '25': ['72', '73'],\n",
        "  '26': ['77', '78'],\n",
        "  '27': ['75', '76'],\n",
        "  '28': ['79', '80']\n",
        "\n",
        "}"
      ],
      "execution_count": 11,
      "outputs": []
    },
    {
      "cell_type": "code",
      "metadata": {
        "id": "MeDtn1MlX5Y3"
      },
      "source": [
        "town_district = {\n",
        "  '01': ['Raffles Place', 'Cecil', 'Marina', 'People’s Park'],\n",
        "  '02': ['Anson', 'Tanjong Pagar'],\n",
        "  '03': ['Queenstown', 'Tiong Bahru'],\n",
        "  '04': ['Telok Blangah', 'Harbourfront'],\n",
        "  '05': ['Pasir Panjang', 'Hong Leong Garden', 'Clementi New Town'], \n",
        "  '06': ['High Street', 'Beach Road'],\n",
        "  '07': ['Middle Road', 'Golden Mile'],\n",
        "  '08': ['Little India'],\n",
        "  '09': ['Orchard', 'Cairnhill', 'River Valley'],\n",
        "  '10': ['Ardmore', 'Bukit Timah', 'Holland Road', 'Tanglin'],\n",
        "  '11': ['Watten Estate', 'Novena', 'Thomson'],\n",
        "  '12': ['Balestier', 'Toa Payoh','Serangoon'],\n",
        "  '13': ['Macpherson', 'Braddell'],\n",
        "  '14': ['Geylang', 'Eunos'],\n",
        "  '15': ['Katong', 'Joo Chiat', 'Amber Road'],\n",
        "  '16': ['Bedok', 'Upper East Coast', 'Eastwood', 'Kew Drive'],\n",
        "  '17': ['Loyang', 'Changi'],\n",
        "  '18': ['Tampines', 'Pasir Ris'],\n",
        "  '19': ['Serangoon Garden', 'Hougang', 'Punggol'],\n",
        "  '20': ['Bishan', 'Ang Mo Kio'],\n",
        "  '21': ['Upper Bukit Timah', 'Clementi Park', 'Ulu Pandan'],\n",
        "  '22': ['Jurong'],\n",
        "  '23': ['Hillview', 'Dairy Farm', 'Bukit Panjang', 'Choa Chu Kang'],\n",
        "  '24': ['Lim Chu Kang', 'Tengah'],\n",
        "  '25': ['Kranji', 'Woodgrove'],\n",
        "  '26': ['Upper Thomson', 'Springleaf'],\n",
        "  '27': ['Yishun, Sembawang'],\n",
        "  '28': ['Seletar']\n",
        "\n",
        "}"
      ],
      "execution_count": 12,
      "outputs": []
    }
  ]
}