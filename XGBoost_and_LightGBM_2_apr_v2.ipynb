{
 "cells": [
  {
   "cell_type": "markdown",
   "metadata": {
    "id": "YJeAV1Z4JBIn"
   },
   "source": [
    "## Importing Required Libraries"
   ]
  },
  {
   "cell_type": "code",
   "execution_count": 26,
   "metadata": {
    "id": "QHT0A3TTJFXf"
   },
   "outputs": [],
   "source": [
    "import pandas as pd\n",
    "import numpy as np\n",
    "from scipy import linalg, optimize\n",
    "import re\n",
    "import random\n",
    "import math\n",
    "import string\n",
    "from nltk.corpus import wordnet as wn\n",
    "from datetime import datetime\n",
    "import matplotlib.pyplot as plt\n",
    "from sklearn.svm import SVC\n",
    "from sklearn import preprocessing, decomposition, model_selection, metrics, pipeline\n",
    "from sklearn.model_selection import GridSearchCV\n",
    "from sklearn.feature_extraction.text import TfidfVectorizer, CountVectorizer\n",
    "from sklearn.decomposition import TruncatedSVD\n",
    "from sklearn.linear_model import LogisticRegression\n",
    "from sklearn.linear_model import LinearRegression\n",
    "from sklearn.linear_model import SGDRegressor\n",
    "from sklearn.model_selection import train_test_split\n",
    "from sklearn.neighbors import KNeighborsClassifier\n",
    "from sklearn.naive_bayes import MultinomialNB\n",
    "from sklearn.metrics import confusion_matrix, accuracy_score\n",
    "from sklearn.metrics import make_scorer\n",
    "from sklearn.model_selection import cross_val_score\n",
    "from sklearn.preprocessing import StandardScaler\n",
    "from sklearn.dummy import DummyClassifier\n",
    "from sklearn.preprocessing import OneHotEncoder\n",
    "from sklearn import preprocessing\n",
    "from sklearn import metrics\n",
    "from sklearn.preprocessing import LabelEncoder\n",
    "from nltk import word_tokenize\n",
    "from scipy import optimize\n",
    "from nltk.tokenize import word_tokenize\n",
    "from nltk.corpus import stopwords\n",
    "from scipy.sparse import coo_matrix, hstack, vstack\n",
    "import seaborn as sns\n",
    "from textblob import TextBlob\n",
    "# Graphing: \n",
    "%matplotlib inline\n"
   ]
  },
  {
   "cell_type": "markdown",
   "metadata": {
    "id": "Oao1AMpWU3kt"
   },
   "source": [
    "## Reading in Data Files"
   ]
  },
  {
   "cell_type": "markdown",
   "metadata": {
    "id": "1_GDLBPgU6IJ"
   },
   "source": [
    "> * Training Set\n",
    "> * Training Labels \n",
    "> * Testing Set\n",
    "> * Testing Labels\n",
    "\n",
    "> * Floor Pickle File for Mapping\n",
    "> * Property Pickle File for Mapping\n",
    "> * Street Pickle File for Mapping"
   ]
  },
  {
   "cell_type": "code",
   "execution_count": 14,
   "metadata": {
    "id": "4VXFMtBjXwDW"
   },
   "outputs": [],
   "source": [
    "# train_set = 'https://raw.githubusercontent.com/nicolepng/BT4222/master/Data/training_set.csv'\n",
    "# train_labels = 'https://raw.githubusercontent.com/nicolepng/BT4222/master/Data/training_labels.csv'\n",
    "# test_set = 'https://raw.githubusercontent.com/nicolepng/BT4222/master/Data/testing_set.csv'\n",
    "# test_labels = 'https://raw.githubusercontent.com/nicolepng/BT4222/master/Data/testing_labels.csv'\n"
   ]
  },
  {
   "cell_type": "code",
   "execution_count": 33,
   "metadata": {
    "id": "TBqX5LUyVmwl"
   },
   "outputs": [],
   "source": [
    "# train_set = '/content/training_set.csv'\n",
    "# train_labels = '/content/training_labels.csv'\n",
    "# test_set = '/content/testing_set.csv'\n",
    "# test_labels = '/content/testing_labels.csv'\n",
    "combined = '/content/combined.csv'"
   ]
  },
  {
   "cell_type": "code",
   "execution_count": 34,
   "metadata": {
    "id": "689oORJMUMNl"
   },
   "outputs": [],
   "source": [
    "# training_set = pd.read_csv(train_set)\n",
    "# testing_set = pd.read_csv(test_set)\n",
    "# training_labels= pd.read_csv(train_labels)\n",
    "# testing_labels = pd.read_csv(test_labels)\n",
    "df = pd.read_csv(combined)"
   ]
  },
  {
   "cell_type": "code",
   "execution_count": 35,
   "metadata": {
    "colab": {
     "base_uri": "https://localhost:8080/",
     "height": 360
    },
    "id": "YNajx0gHXGcD",
    "outputId": "f4405d46-2e54-48bf-d799-7b3827495209"
   },
   "outputs": [
    {
     "data": {
      "text/html": [
       "<div>\n",
       "<style scoped>\n",
       "    .dataframe tbody tr th:only-of-type {\n",
       "        vertical-align: middle;\n",
       "    }\n",
       "\n",
       "    .dataframe tbody tr th {\n",
       "        vertical-align: top;\n",
       "    }\n",
       "\n",
       "    .dataframe thead th {\n",
       "        text-align: right;\n",
       "    }\n",
       "</style>\n",
       "<table border=\"1\" class=\"dataframe\">\n",
       "  <thead>\n",
       "    <tr style=\"text-align: right;\">\n",
       "      <th></th>\n",
       "      <th>district</th>\n",
       "      <th>street</th>\n",
       "      <th>propertyType</th>\n",
       "      <th>remaining_lease</th>\n",
       "      <th>price</th>\n",
       "      <th>school</th>\n",
       "      <th>hawkercentre</th>\n",
       "      <th>supermarkets</th>\n",
       "      <th>Bus Stops Nearby</th>\n",
       "      <th>crime_number</th>\n",
       "      <th>latitude</th>\n",
       "      <th>longitude</th>\n",
       "      <th>floor_area_sqm</th>\n",
       "      <th>floor_range</th>\n",
       "      <th>sentiment</th>\n",
       "    </tr>\n",
       "  </thead>\n",
       "  <tbody>\n",
       "    <tr>\n",
       "      <th>0</th>\n",
       "      <td>5</td>\n",
       "      <td>ZEHNDER ROAD</td>\n",
       "      <td>Semi-detached</td>\n",
       "      <td>999.00</td>\n",
       "      <td>5500000.0</td>\n",
       "      <td>27.0</td>\n",
       "      <td>6.0</td>\n",
       "      <td>8.0</td>\n",
       "      <td>0.0</td>\n",
       "      <td>-1.0</td>\n",
       "      <td>1.282130</td>\n",
       "      <td>103.786879</td>\n",
       "      <td>524.3</td>\n",
       "      <td>~-</td>\n",
       "      <td>0.380502</td>\n",
       "    </tr>\n",
       "    <tr>\n",
       "      <th>1</th>\n",
       "      <td>5</td>\n",
       "      <td>ZEHNDER ROAD</td>\n",
       "      <td>Semi-detached</td>\n",
       "      <td>999.00</td>\n",
       "      <td>5000000.0</td>\n",
       "      <td>27.0</td>\n",
       "      <td>6.0</td>\n",
       "      <td>8.0</td>\n",
       "      <td>0.0</td>\n",
       "      <td>-1.0</td>\n",
       "      <td>1.282130</td>\n",
       "      <td>103.786879</td>\n",
       "      <td>308.0</td>\n",
       "      <td>~-</td>\n",
       "      <td>0.123495</td>\n",
       "    </tr>\n",
       "    <tr>\n",
       "      <th>2</th>\n",
       "      <td>5</td>\n",
       "      <td>ZEHNDER ROAD</td>\n",
       "      <td>Semi-detached</td>\n",
       "      <td>999.00</td>\n",
       "      <td>4750000.0</td>\n",
       "      <td>27.0</td>\n",
       "      <td>6.0</td>\n",
       "      <td>8.0</td>\n",
       "      <td>0.0</td>\n",
       "      <td>-1.0</td>\n",
       "      <td>1.282130</td>\n",
       "      <td>103.786879</td>\n",
       "      <td>314.0</td>\n",
       "      <td>~-</td>\n",
       "      <td>0.123495</td>\n",
       "    </tr>\n",
       "    <tr>\n",
       "      <th>3</th>\n",
       "      <td>5</td>\n",
       "      <td>NEO PEE TECK LANE</td>\n",
       "      <td>Terrace</td>\n",
       "      <td>999.00</td>\n",
       "      <td>2630000.0</td>\n",
       "      <td>27.0</td>\n",
       "      <td>6.0</td>\n",
       "      <td>8.0</td>\n",
       "      <td>2.0</td>\n",
       "      <td>-1.0</td>\n",
       "      <td>1.292047</td>\n",
       "      <td>103.768591</td>\n",
       "      <td>159.3</td>\n",
       "      <td>~-</td>\n",
       "      <td>0.380502</td>\n",
       "    </tr>\n",
       "    <tr>\n",
       "      <th>4</th>\n",
       "      <td>4</td>\n",
       "      <td>COVE DRIVE</td>\n",
       "      <td>Condominium</td>\n",
       "      <td>85.25</td>\n",
       "      <td>3180000.0</td>\n",
       "      <td>11.0</td>\n",
       "      <td>3.0</td>\n",
       "      <td>2.0</td>\n",
       "      <td>0.0</td>\n",
       "      <td>-1.0</td>\n",
       "      <td>1.244208</td>\n",
       "      <td>103.827487</td>\n",
       "      <td>194.0</td>\n",
       "      <td>~01-05</td>\n",
       "      <td>0.173732</td>\n",
       "    </tr>\n",
       "  </tbody>\n",
       "</table>\n",
       "</div>"
      ],
      "text/plain": [
       "   district             street  ... floor_range  sentiment\n",
       "0         5       ZEHNDER ROAD  ...          ~-   0.380502\n",
       "1         5       ZEHNDER ROAD  ...          ~-   0.123495\n",
       "2         5       ZEHNDER ROAD  ...          ~-   0.123495\n",
       "3         5  NEO PEE TECK LANE  ...          ~-   0.380502\n",
       "4         4         COVE DRIVE  ...      ~01-05   0.173732\n",
       "\n",
       "[5 rows x 15 columns]"
      ]
     },
     "execution_count": 35,
     "metadata": {
      "tags": []
     },
     "output_type": "execute_result"
    }
   ],
   "source": [
    "df.drop(df.columns[0], axis = 1, inplace=True)\n",
    "df.head()"
   ]
  },
  {
   "cell_type": "code",
   "execution_count": 36,
   "metadata": {
    "id": "1TpFyZXiXdzH"
   },
   "outputs": [],
   "source": [
    "df['street'] = df['street'].astype('category')\n",
    "street_dict = dict(zip(df['street'].cat.codes, df['street']))\n",
    "df['street'] = df['street'].cat.codes\n",
    "\n",
    "df['propertyType'] = df['propertyType'].astype('category')\n",
    "property_dict = dict(zip(df['propertyType'].cat.codes, df['propertyType']))\n",
    "df['propertyType'] = df['propertyType'].cat.codes\n",
    "\n",
    "df['floor_range'] = df['floor_range'].astype('category')\n",
    "floor_dict = dict(zip(df['floor_range'].cat.codes, df['floor_range']))\n",
    "df['floor_range'] = df['floor_range'].cat.codes"
   ]
  },
  {
   "cell_type": "code",
   "execution_count": 37,
   "metadata": {
    "id": "GWSBoPyaXu1_"
   },
   "outputs": [],
   "source": [
    "training_set, testing_set, training_labels, testing_labels = train_test_split(df.drop('price', axis=1),\n",
    "                                                    df['price'], \n",
    "                                                    test_size=0.2,\n",
    "                                                    random_state=1)"
   ]
  },
  {
   "cell_type": "markdown",
   "metadata": {
    "id": "TXcThETwBCjG"
   },
   "source": [
    "## No normalise"
   ]
  },
  {
   "cell_type": "markdown",
   "metadata": {
    "id": "0ZPhoGzUNXXT"
   },
   "source": [
    "## LightGBM"
   ]
  },
  {
   "cell_type": "markdown",
   "metadata": {
    "id": "9SUv4Ph89C1I"
   },
   "source": [
    "> With GridSearch"
   ]
  },
  {
   "cell_type": "markdown",
   "metadata": {},
   "source": [
    "** checked: jx adjusted r2 fn returns the same results. tested in another notebook."
   ]
  },
  {
   "cell_type": "markdown",
   "metadata": {
    "id": "PPH6WOy495go"
   },
   "source": [
    "* Training Errors\n",
    "> * Mean Squared Error:  154748781024.69647\n",
    "> * RMSE:  393381.21590220404\n",
    "> * Mean Absolute Error:  97869.27002052014\n",
    "> * R-squared:  0.9447100131476823\n",
    "> * Adjusted R2:  0.9447027746818947\n",
    "> * Training sMAPE: 8.692195215735234\n",
    "> * Training MAPE: 8.755165504591561\n",
    "\n",
    "* Test Errors\n",
    "> * Mean Squared Error:  109857614878.14053\n",
    "> * RMSE:  331447.75588038086\n",
    "> * Mean Absolute Error:  103059.25251342994\n",
    "> * R-squared:  0.9478079138687274\n",
    "> * Adjusted R2:  0.9477805707857713\n",
    "> * Testing sMAPE: 8.932541697320472\n",
    "> * Testing MAPE: 9.001885667238648\n",
    "\n",
    "\n"
   ]
  },
  {
   "cell_type": "code",
   "execution_count": null,
   "metadata": {
    "id": "JB7XQnFnqsnT"
   },
   "outputs": [],
   "source": [
    "train_adj_r_squared = 1 - (1-optimized_rf.score(training_set, training_labels))*(len(training_labels)-1)/(len(training_labels)-training_set.shape[1]-1)\n",
    "print(train_adj_r_squared)\n",
    "\n",
    "test_adj_r_squared = 1 - (1-optimized_rf.score(testing_set, testing_labels))*(len(testing_labels)-1)/(len(testing_labels)-testing_set.shape[1]-1)\n",
    "print(test_adj_r_squared)"
   ]
  },
  {
   "cell_type": "code",
   "execution_count": 48,
   "metadata": {
    "colab": {
     "base_uri": "https://localhost:8080/"
    },
    "id": "3ek8kVTJQp_i",
    "outputId": "6f35bee7-9f7a-40e5-f50c-96272e36def6"
   },
   "outputs": [
    {
     "name": "stdout",
     "output_type": "stream",
     "text": [
      "Fitting 5 folds for each of 270 candidates, totalling 1350 fits\n"
     ]
    },
    {
     "name": "stderr",
     "output_type": "stream",
     "text": [
      "[Parallel(n_jobs=-1)]: Using backend LokyBackend with 2 concurrent workers.\n",
      "[Parallel(n_jobs=-1)]: Done  46 tasks      | elapsed:   45.1s\n",
      "[Parallel(n_jobs=-1)]: Done 196 tasks      | elapsed:  3.2min\n",
      "[Parallel(n_jobs=-1)]: Done 446 tasks      | elapsed:  7.3min\n",
      "[Parallel(n_jobs=-1)]: Done 796 tasks      | elapsed: 13.5min\n",
      "[Parallel(n_jobs=-1)]: Done 1246 tasks      | elapsed: 21.7min\n",
      "[Parallel(n_jobs=-1)]: Done 1350 out of 1350 | elapsed: 23.5min finished\n"
     ]
    },
    {
     "name": "stdout",
     "output_type": "stream",
     "text": [
      "Pipeline(memory=None,\n",
      "         steps=[('standardize',\n",
      "                 StandardScaler(copy=True, with_mean=True, with_std=True)),\n",
      "                ('model',\n",
      "                 LGBMRegressor(boosting_type='gbdt', class_weight=None,\n",
      "                               colsample_bytree=0.3, eval_metric='rmse',\n",
      "                               importance_type='split', learning_rate=0.1,\n",
      "                               max_depth=8, min_child_samples=20,\n",
      "                               min_child_weight=0.001, min_samples_leaf=2,\n",
      "                               min_split_gain=0.0, n_estimators=300, n_jobs=-1,\n",
      "                               num_leaves=31, objective=None, random_state=None,\n",
      "                               reg_alpha=0.0, reg_lambda=0.0, silent=True,\n",
      "                               subsample=0.7, subsample_for_bin=200000,\n",
      "                               subsample_freq=0))],\n",
      "         verbose=False)\n",
      "Training Errors\n",
      "Mean Squared Error:  154748781024.69647\n",
      "RMSE:  393381.21590220404\n",
      "Mean Absolute Error:  97869.27002052014\n",
      "R-squared:  0.9447100131476823\n",
      "Adjusted R2:  0.9447027746818947\n",
      "Test Errors\n",
      "Mean Squared Error:  109857614878.14053\n",
      "RMSE:  331447.75588038086\n",
      "Mean Absolute Error:  103059.25251342994\n",
      "R-squared:  0.9478079138687274\n",
      "Adjusted R2:  0.9477805707857713\n"
     ]
    }
   ],
   "source": [
    "from sklearn.ensemble import RandomForestRegressor\n",
    "from sklearn import preprocessing\n",
    "from lightgbm import LGBMRegressor\n",
    "from sklearn.metrics import mean_squared_log_error\n",
    "\n",
    "# Initialise LGBMRegressor\n",
    "rf = LGBMRegressor(n_estimators=300, subsample=0.9, colsample_bytree=0.2, eval_metric = 'rmse')\n",
    "optimized_rf = LGBMRegressor(boosting_type='gbdt', class_weight=None,\n",
    "                               colsample_bytree=0.3, eval_metric='rmse',\n",
    "                               importance_type='split', learning_rate=0.1,\n",
    "                               max_depth=9, min_child_samples=20,\n",
    "                               min_child_weight=0.001, min_samples_leaf=2,\n",
    "                               min_split_gain=0.0, n_estimators=300, n_jobs=-1,\n",
    "                               num_leaves=31, objective=None, random_state=None,\n",
    "                               reg_alpha=0.0, reg_lambda=0.0, silent=True,\n",
    "                               subsample=0.7, subsample_for_bin=200000,\n",
    "                               subsample_freq=0)\n",
    "\n",
    "\n",
    "# # Set up 5-fold cross-validation\n",
    "from sklearn import model_selection\n",
    "cv = model_selection.KFold(5)\n",
    "\n",
    "\n",
    "# Pipeline Standardization and Model\n",
    "from sklearn.pipeline import Pipeline\n",
    "pipeline = Pipeline(steps=[('standardize', preprocessing.StandardScaler())\n",
    "                           , ('model', rf) ])\n",
    "# Tuning the model\n",
    "my_min_samples_leaf = [2, 10, 25, 50, 100]\n",
    "my_max_depth = [7, 8, 9, 10, 11, 12]\n",
    "my_subsample = [0.7, 0.8, 0.9]\n",
    "my_colsample_bytree = [0.1, 0.2, 0.3]\n",
    "\n",
    "# Run the model using GridSearch, select the model with best search\n",
    "from sklearn.model_selection import GridSearchCV\n",
    "optimized_rf = GridSearchCV(estimator=pipeline\n",
    "                            , cv=cv\n",
    "                            , param_grid =dict(model__min_samples_leaf = my_min_samples_leaf, \n",
    "                                               model__max_depth = my_max_depth,\n",
    "                                               model__subsample = my_subsample,\n",
    "                                               model__colsample_bytree = my_colsample_bytree)\n",
    "                            , scoring = 'neg_mean_squared_error'\n",
    "                            , verbose = 1\n",
    "                            , n_jobs = -1\n",
    "                           )\n",
    "\n",
    "# Fitting on Training Data\n",
    "optimized_rf.fit(training_set, training_labels)\n",
    "\n",
    "\n",
    "# Best model estimators\n",
    "print(optimized_rf.best_estimator_)\n",
    "\n",
    "def adjusted_r2(r2, n, p):\n",
    "  result = 1-((1-r2)*((n-1)/(n-p-1)))\n",
    "  return result\n",
    "\n",
    "\n",
    "# Evaluate metrics on holdout\n",
    "from sklearn.metrics import mean_squared_error, mean_absolute_error, r2_score\n",
    "y_train_pred = optimized_rf.predict(training_set)\n",
    "y_pred = optimized_rf.predict(testing_set)\n",
    "n1 = len(y_train_pred)\n",
    "p1 = training_set.shape[1]\n",
    "n2 = len(y_pred)\n",
    "p2 = testing_set.shape[1]\n",
    "print('Training Errors')\n",
    "print(\"Mean Squared Error: \", mean_squared_error(training_labels, y_train_pred))\n",
    "print(\"RMSE: \", mean_squared_error(training_labels, y_train_pred, squared = False))\n",
    "print(\"Mean Absolute Error: \", mean_absolute_error(training_labels, y_train_pred))\n",
    "print(\"R-squared: \", r2_score(training_labels, y_train_pred))\n",
    "print(\"Adjusted R2: \", adjusted_r2(r2_score(training_labels, y_train_pred), n1, p1))\n",
    "\n",
    "print('Test Errors')\n",
    "print(\"Mean Squared Error: \", mean_squared_error(testing_labels, y_pred))\n",
    "print(\"RMSE: \", mean_squared_error(testing_labels, y_pred, squared = False))\n",
    "print(\"Mean Absolute Error: \", mean_absolute_error(testing_labels, y_pred))\n",
    "print(\"R-squared: \", r2_score(testing_labels, y_pred))\n",
    "print(\"Adjusted R2: \", adjusted_r2(r2_score(testing_labels, y_pred), n2, p2))\n",
    "\n"
   ]
  },
  {
   "cell_type": "markdown",
   "metadata": {
    "id": "0uUtOy-BvpWd"
   },
   "source": [
    "## Residual Plot (for LightGBM Model)"
   ]
  },
  {
   "cell_type": "markdown",
   "metadata": {
    "id": "WMMRMhcWRV7p"
   },
   "source": [
    "> Training Residual Plot"
   ]
  },
  {
   "cell_type": "code",
   "execution_count": 49,
   "metadata": {
    "colab": {
     "base_uri": "https://localhost:8080/",
     "height": 394
    },
    "id": "KXrpqQiNvofN",
    "outputId": "f004d19b-65de-4e2e-95d1-2e22e792c4d6"
   },
   "outputs": [
    {
     "name": "stderr",
     "output_type": "stream",
     "text": [
      "/usr/local/lib/python3.7/dist-packages/seaborn/_decorators.py:43: FutureWarning: Pass the following variables as keyword args: x, y. From version 0.12, the only valid positional argument will be `data`, and passing other arguments without an explicit keyword will result in an error or misinterpretation.\n",
      "  FutureWarning\n",
      "/usr/local/lib/python3.7/dist-packages/statsmodels/tools/_testing.py:19: FutureWarning: pandas.util.testing is deprecated. Use the functions in the public API at pandas.testing instead.\n",
      "  import pandas.util.testing as tm\n"
     ]
    },
    {
     "data": {
      "text/plain": [
       "<matplotlib.axes._subplots.AxesSubplot at 0x7fbd11138d50>"
      ]
     },
     "execution_count": 49,
     "metadata": {
      "tags": []
     },
     "output_type": "execute_result"
    },
    {
     "data": {
      "image/png": "[encoded data removed]",
      "text/plain": [
       "<Figure size 432x288 with 1 Axes>"
      ]
     },
     "metadata": {
      "needs_background": "light",
      "tags": []
     },
     "output_type": "display_data"
    }
   ],
   "source": [
    "sns.residplot(y_train_pred.reshape(-1), training_labels, lowess= True, color=\"g\")\n"
   ]
  },
  {
   "cell_type": "markdown",
   "metadata": {
    "id": "jl07HndrRXVO"
   },
   "source": [
    "> Testing Residual Plot"
   ]
  },
  {
   "cell_type": "code",
   "execution_count": 50,
   "metadata": {
    "colab": {
     "base_uri": "https://localhost:8080/",
     "height": 360
    },
    "id": "-zAsPHPCMiCr",
    "outputId": "ce181d9d-aec7-4b9b-fe0a-fe7c91c9f070"
   },
   "outputs": [
    {
     "name": "stderr",
     "output_type": "stream",
     "text": [
      "/usr/local/lib/python3.7/dist-packages/seaborn/_decorators.py:43: FutureWarning: Pass the following variables as keyword args: x, y. From version 0.12, the only valid positional argument will be `data`, and passing other arguments without an explicit keyword will result in an error or misinterpretation.\n",
      "  FutureWarning\n"
     ]
    },
    {
     "data": {
      "text/plain": [
       "<matplotlib.axes._subplots.AxesSubplot at 0x7fbd1053fb10>"
      ]
     },
     "execution_count": 50,
     "metadata": {
      "tags": []
     },
     "output_type": "execute_result"
    },
    {
     "data": {
      "image/png": "[encoded data removed]",
      "text/plain": [
       "<Figure size 432x288 with 1 Axes>"
      ]
     },
     "metadata": {
      "needs_background": "light",
      "tags": []
     },
     "output_type": "display_data"
    }
   ],
   "source": [
    "sns.residplot(y_pred.reshape(-1), testing_labels, lowess= True, color=\"g\")"
   ]
  },
  {
   "cell_type": "markdown",
   "metadata": {
    "id": "07dUC25ZU8WC"
   },
   "source": [
    "## sMAPE (for LightGBM Model)"
   ]
  },
  {
   "cell_type": "code",
   "execution_count": 51,
   "metadata": {
    "id": "oPMRudVSOX5m"
   },
   "outputs": [],
   "source": [
    "def smape(y_true, y_pred):\n",
    "    return 1/len(y_true) * np.sum(2 * np.abs(y_pred.squeeze()-y_true.squeeze()) / (np.abs(y_true.squeeze()) + np.abs(y_pred.squeeze()))*100)"
   ]
  },
  {
   "cell_type": "code",
   "execution_count": 52,
   "metadata": {
    "colab": {
     "base_uri": "https://localhost:8080/"
    },
    "id": "qSfRndEQOZ5L",
    "outputId": "5c6b2e91-4403-4a6a-c5b2-ff0d69af7b0a"
   },
   "outputs": [
    {
     "name": "stdout",
     "output_type": "stream",
     "text": [
      "Training sMAPE\n",
      "8.692195215735234\n",
      "Testing sMAPE\n",
      "8.932541697320472\n"
     ]
    }
   ],
   "source": [
    "print('Training sMAPE')\n",
    "print(smape(y_train_pred, training_labels))\n",
    "print('Testing sMAPE')\n",
    "print(smape(y_pred, testing_labels))"
   ]
  },
  {
   "cell_type": "markdown",
   "metadata": {
    "id": "J7f083GaU9yd"
   },
   "source": [
    "## MAPE (for LightGBM Model)"
   ]
  },
  {
   "cell_type": "code",
   "execution_count": 53,
   "metadata": {
    "id": "Az3P4L9qbO5q"
   },
   "outputs": [],
   "source": [
    "def percentage_error(actual, predicted):\n",
    "    res = np.empty(actual.shape)\n",
    "    for j in range(actual.shape[0]):\n",
    "        if actual[j] != 0:\n",
    "            res[j] = (actual[j] - predicted[j]) / actual[j]\n",
    "        else:\n",
    "            res[j] = predicted[j] / np.mean(actual)\n",
    "    return res\n",
    "\n",
    "def mape(y_true, y_pred): \n",
    "    return np.mean(np.abs(percentage_error(np.asarray(y_true), np.asarray(y_pred)))) * 100\n",
    "\n"
   ]
  },
  {
   "cell_type": "code",
   "execution_count": 54,
   "metadata": {
    "colab": {
     "base_uri": "https://localhost:8080/"
    },
    "id": "xNYcrIuVU-4u",
    "outputId": "3a5cabcb-7332-4c76-9c13-3368908786e8"
   },
   "outputs": [
    {
     "name": "stdout",
     "output_type": "stream",
     "text": [
      "Training MAPE\n",
      "8.755165504591561\n",
      "Testing MAPE\n",
      "9.001885667238648\n"
     ]
    }
   ],
   "source": [
    "print('Training MAPE')\n",
    "print(mape(y_train_pred, training_labels))\n",
    "print('Testing MAPE')\n",
    "print(mape(y_pred, testing_labels))"
   ]
  },
  {
   "cell_type": "markdown",
   "metadata": {
    "id": "1C6_JSG1PZcx"
   },
   "source": [
    "## XGBoost"
   ]
  },
  {
   "cell_type": "markdown",
   "metadata": {
    "id": "EUIu2tC-9GWz"
   },
   "source": [
    "> With Grid Search"
   ]
  },
  {
   "cell_type": "markdown",
   "metadata": {
    "id": "pN881fId97-2"
   },
   "source": [
    "* Training Errors\n",
    "> * Mean Squared Error:  12132880148.301222\n",
    "> * RMSE:  110149.35382607208\n",
    "> * Mean Absolute Error:  49759.837263115034\n",
    "> * R-squared:  0.9956650593339843\n",
    "> * Adjusted R2:  0.9956644918113371\n",
    "> * sMAPE: 5.221816592924819\n",
    "> * MAPE: 5.215358761311443\n",
    "\n",
    "\n",
    "* Test Errors\n",
    "> * Mean Squared Error:  64160185612.8874\n",
    "> * RMSE:  253298.60957551148\n",
    "> * Mean Absolute Error:  72200.72230554672\n",
    "> * R-squared:  0.9695182356050535\n",
    "> * Adjusted R2:  0.9695022664136629\n",
    "> * sMAPE: 5.968598907734008\n",
    "> * MAPE: 5.9980976343903105"
   ]
  },
  {
   "cell_type": "code",
   "execution_count": 55,
   "metadata": {
    "colab": {
     "base_uri": "https://localhost:8080/"
    },
    "id": "SLpXwGafO5Rv",
    "outputId": "b886d45d-9e4c-4289-889d-de34c39a2960"
   },
   "outputs": [
    {
     "name": "stdout",
     "output_type": "stream",
     "text": [
      "Fitting 5 folds for each of 30 candidates, totalling 150 fits\n"
     ]
    },
    {
     "name": "stderr",
     "output_type": "stream",
     "text": [
      "[Parallel(n_jobs=-1)]: Using backend LokyBackend with 2 concurrent workers.\n",
      "[Parallel(n_jobs=-1)]: Done  46 tasks      | elapsed:  7.3min\n",
      "[Parallel(n_jobs=-1)]: Done 150 out of 150 | elapsed: 29.5min finished\n"
     ]
    },
    {
     "name": "stdout",
     "output_type": "stream",
     "text": [
      "[08:17:50] WARNING: /workspace/src/objective/regression_obj.cu:152: reg:linear is now deprecated in favor of reg:squarederror.\n",
      "Pipeline(memory=None,\n",
      "         steps=[('standardize',\n",
      "                 StandardScaler(copy=True, with_mean=True, with_std=True)),\n",
      "                ('model',\n",
      "                 XGBRegressor(base_score=0.5, booster='gbtree',\n",
      "                              colsample_bylevel=1, colsample_bynode=0.2,\n",
      "                              colsample_bytree=1, eval_metric='rmse', gamma=0,\n",
      "                              importance_type='gain', learning_rate=0.1,\n",
      "                              max_delta_step=0, max_depth=10,\n",
      "                              min_child_weight=1, min_samples_leaf=2,\n",
      "                              missing=None, n_estimators=300, n_fold=5,\n",
      "                              n_jobs=1, nthread=None, objective='reg:linear',\n",
      "                              random_state=0, reg_alpha=0, reg_lambda=1,\n",
      "                              scale_pos_weight=1, seed=None, silent=None,\n",
      "                              subsample=0.9, verbosity=1))],\n",
      "         verbose=False)\n",
      "Training Errors\n",
      "Mean Squared Error:  12132880148.301222\n",
      "RMSE:  110149.35382607208\n",
      "Mean Absolute Error:  49759.837263115034\n",
      "R-squared:  0.9956650593339843\n",
      "Adjusted R2:  0.9956644918113371\n",
      "Test Errors\n",
      "Mean Squared Error:  64160185612.8874\n",
      "RMSE:  253298.60957551148\n",
      "Mean Absolute Error:  72200.72230554672\n",
      "R-squared:  0.9695182356050535\n",
      "Adjusted R2:  0.9695022664136629\n"
     ]
    }
   ],
   "source": [
    "from sklearn.ensemble import RandomForestRegressor\n",
    "import xgboost\n",
    "from sklearn import preprocessing\n",
    "from xgboost import XGBRFRegressor\n",
    "\n",
    "# Initialise XGBRegressor\n",
    "rf = xgboost.XGBRegressor(n_estimators=300, subsample=0.9, colsample_bynode=0.2, n_fold = 5, eval_metric = 'rmse')\n",
    "\n",
    "# Set up 5-fold cross-validation\n",
    "from sklearn import model_selection\n",
    "cv = model_selection.KFold(5)\n",
    "\n",
    "# Pipeline standardization and Model\n",
    "from sklearn.pipeline import Pipeline\n",
    "pipeline = Pipeline(steps=[('standardize', preprocessing.StandardScaler())\n",
    "                           , ('model', rf) ])\n",
    "# Tuning the model\n",
    "my_min_samples_leaf = [2, 10, 25, 50, 100]\n",
    "my_max_depth = [7, 8, 9, 10, 11, 12]\n",
    "\n",
    "\n",
    "# Run the model using GridSearch, select the model with best search\n",
    "from sklearn.model_selection import GridSearchCV\n",
    "optimized_rf = GridSearchCV(estimator=pipeline\n",
    "                            , cv=cv\n",
    "                            , param_grid =dict(model__min_samples_leaf = my_min_samples_leaf, model__max_depth = my_max_depth)\n",
    "                            , scoring = 'neg_mean_squared_error'\n",
    "                            , verbose = 1\n",
    "                            , n_jobs = -1\n",
    "                           )\n",
    "\n",
    "# Fitting on Training Data\n",
    "optimized_rf.fit(training_set, training_labels)\n",
    "\n",
    "\n",
    "# Best model estimators\n",
    "print(optimized_rf.best_estimator_)\n",
    "\n",
    "def adjusted_r2(r2, n, p):\n",
    "  result = 1-((1-r2)*((n-1)/(n-p-1)))\n",
    "  return result\n",
    "\n",
    "\n",
    "# Evaluate metrics on holdout\n",
    "from sklearn.metrics import mean_squared_error, mean_absolute_error, r2_score\n",
    "y_train_pred = optimized_rf.predict(training_set)\n",
    "y_pred = optimized_rf.predict(testing_set)\n",
    "n1 = len(y_train_pred)\n",
    "p1 = training_set.shape[1]\n",
    "n2 = len(y_pred)\n",
    "p2 = testing_set.shape[1]\n",
    "print('Training Errors')\n",
    "print(\"Mean Squared Error: \", mean_squared_error(training_labels, y_train_pred))\n",
    "print(\"RMSE: \", mean_squared_error(training_labels, y_train_pred, squared = False))\n",
    "print(\"Mean Absolute Error: \", mean_absolute_error(training_labels, y_train_pred))\n",
    "print(\"R-squared: \", r2_score(training_labels, y_train_pred))\n",
    "print(\"Adjusted R2: \", adjusted_r2(r2_score(training_labels, y_train_pred), n1, p1))\n",
    "\n",
    "print('Test Errors')\n",
    "print(\"Mean Squared Error: \", mean_squared_error(testing_labels, y_pred))\n",
    "print(\"RMSE: \", mean_squared_error(testing_labels, y_pred, squared = False))\n",
    "print(\"Mean Absolute Error: \", mean_absolute_error(testing_labels, y_pred))\n",
    "print(\"R-squared: \", r2_score(testing_labels, y_pred))\n",
    "print(\"Adjusted R2: \", adjusted_r2(r2_score(testing_labels, y_pred), n2, p2))"
   ]
  },
  {
   "cell_type": "markdown",
   "metadata": {
    "id": "aWeOl-RGSAu0"
   },
   "source": [
    "## Residual Plot (for XGBoost Model)"
   ]
  },
  {
   "cell_type": "markdown",
   "metadata": {
    "id": "gt_H0XXkcFQN"
   },
   "source": [
    "> Training "
   ]
  },
  {
   "cell_type": "code",
   "execution_count": 56,
   "metadata": {
    "colab": {
     "base_uri": "https://localhost:8080/",
     "height": 360
    },
    "id": "PV2aTYF2SAEQ",
    "outputId": "750dcd05-2459-498a-806d-86e60d08d096"
   },
   "outputs": [
    {
     "name": "stderr",
     "output_type": "stream",
     "text": [
      "/usr/local/lib/python3.7/dist-packages/seaborn/_decorators.py:43: FutureWarning: Pass the following variables as keyword args: x, y. From version 0.12, the only valid positional argument will be `data`, and passing other arguments without an explicit keyword will result in an error or misinterpretation.\n",
      "  FutureWarning\n"
     ]
    },
    {
     "data": {
      "text/plain": [
       "<matplotlib.axes._subplots.AxesSubplot at 0x7fbd1006e450>"
      ]
     },
     "execution_count": 56,
     "metadata": {
      "tags": []
     },
     "output_type": "execute_result"
    },
    {
     "data": {
      "image/png": "[encoded data removed]",
      "text/plain": [
       "<Figure size 432x288 with 1 Axes>"
      ]
     },
     "metadata": {
      "needs_background": "light",
      "tags": []
     },
     "output_type": "display_data"
    }
   ],
   "source": [
    "sns.residplot(y_train_pred.reshape(-1), training_labels, lowess= True, color=\"g\")"
   ]
  },
  {
   "cell_type": "markdown",
   "metadata": {
    "id": "YIinOJsFSJcR"
   },
   "source": [
    "> Testing \n"
   ]
  },
  {
   "cell_type": "code",
   "execution_count": 57,
   "metadata": {
    "colab": {
     "base_uri": "https://localhost:8080/",
     "height": 360
    },
    "id": "b6wjKBQPSNCW",
    "outputId": "5d707bea-faa3-4314-9920-10481bae5065"
   },
   "outputs": [
    {
     "name": "stderr",
     "output_type": "stream",
     "text": [
      "/usr/local/lib/python3.7/dist-packages/seaborn/_decorators.py:43: FutureWarning: Pass the following variables as keyword args: x, y. From version 0.12, the only valid positional argument will be `data`, and passing other arguments without an explicit keyword will result in an error or misinterpretation.\n",
      "  FutureWarning\n"
     ]
    },
    {
     "data": {
      "text/plain": [
       "<matplotlib.axes._subplots.AxesSubplot at 0x7fbcf14a3b90>"
      ]
     },
     "execution_count": 57,
     "metadata": {
      "tags": []
     },
     "output_type": "execute_result"
    },
    {
     "data": {
      "image/png": "[encoded data removed]",
      "text/plain": [
       "<Figure size 432x288 with 1 Axes>"
      ]
     },
     "metadata": {
      "needs_background": "light",
      "tags": []
     },
     "output_type": "display_data"
    }
   ],
   "source": [
    "sns.residplot(y_pred.reshape(-1), testing_labels, lowess= True, color=\"g\")"
   ]
  },
  {
   "cell_type": "markdown",
   "metadata": {
    "id": "Ro37hwhXSP5d"
   },
   "source": [
    "## sMAPE (for XGBoost Model)"
   ]
  },
  {
   "cell_type": "code",
   "execution_count": 58,
   "metadata": {
    "colab": {
     "base_uri": "https://localhost:8080/"
    },
    "id": "t096AIxASQg9",
    "outputId": "69230505-96fb-4f90-b494-84842d2f2d10"
   },
   "outputs": [
    {
     "name": "stdout",
     "output_type": "stream",
     "text": [
      "5.221816592924819\n",
      "5.968598907734008\n"
     ]
    }
   ],
   "source": [
    "print(smape(y_train_pred, training_labels))\n",
    "print(smape(y_pred, testing_labels))"
   ]
  },
  {
   "cell_type": "markdown",
   "metadata": {
    "id": "mad90oT_Ulq5"
   },
   "source": [
    "## MAPE (for XGBoost Model)"
   ]
  },
  {
   "cell_type": "code",
   "execution_count": 59,
   "metadata": {
    "colab": {
     "base_uri": "https://localhost:8080/"
    },
    "id": "2ZS5616mUniq",
    "outputId": "5c1dd13f-021e-4beb-c2cc-66e149bd71cb"
   },
   "outputs": [
    {
     "name": "stdout",
     "output_type": "stream",
     "text": [
      "5.215358761311443\n",
      "5.9980976343903105\n"
     ]
    }
   ],
   "source": [
    "def percentage_error(actual, predicted):\n",
    "    res = np.empty(actual.shape)\n",
    "    for j in range(actual.shape[0]):\n",
    "        if actual[j] != 0:\n",
    "            res[j] = (actual[j] - predicted[j]) / actual[j]\n",
    "        else:\n",
    "            res[j] = predicted[j] / np.mean(actual)\n",
    "    return res\n",
    "\n",
    "def mape(y_true, y_pred): \n",
    "    return np.mean(np.abs(percentage_error(np.asarray(y_true), np.asarray(y_pred)))) * 100\n",
    "\n",
    "print(mape(y_train_pred, training_labels))\n",
    "print(mape(y_pred, testing_labels))"
   ]
  },
  {
   "cell_type": "markdown",
   "metadata": {
    "id": "MJehp2lICczo"
   },
   "source": [
    "## Normalise price, remaining_lease, floor_area_sqm"
   ]
  },
  {
   "cell_type": "code",
   "execution_count": 60,
   "metadata": {
    "colab": {
     "base_uri": "https://localhost:8080/"
    },
    "id": "YWglpPCDC2WY",
    "outputId": "e0ce0530-e8ce-46a4-e4f7-9518b2b6e0a1"
   },
   "outputs": [
    {
     "data": {
      "text/plain": [
       "Index(['district', 'street', 'propertyType', 'remaining_lease', 'school',\n",
       "       'hawkercentre', 'supermarkets', 'Bus Stops Nearby', 'crime_number',\n",
       "       'latitude', 'longitude', 'floor_area_sqm', 'floor_range', 'sentiment'],\n",
       "      dtype='object')"
      ]
     },
     "execution_count": 60,
     "metadata": {
      "tags": []
     },
     "output_type": "execute_result"
    }
   ],
   "source": [
    "training_set.columns"
   ]
  },
  {
   "cell_type": "code",
   "execution_count": 62,
   "metadata": {
    "id": "xnqrfon-CgHi"
   },
   "outputs": [],
   "source": [
    "training_set['remaining_lease'] = (training_set['remaining_lease'] - training_set['remaining_lease'].mean()) / training_set['remaining_lease'].std()    \n",
    "training_set['floor_area_sqm'] = (training_set['floor_area_sqm'] - training_set['floor_area_sqm'].mean()) / training_set['floor_area_sqm'].std()   \n",
    "\n",
    "testing_set['remaining_lease'] = (testing_set['remaining_lease'] - training_set['remaining_lease'].mean()) / training_set['remaining_lease'].std()    \n",
    "testing_set['floor_area_sqm'] = (testing_set['floor_area_sqm'] - training_set['floor_area_sqm'].mean()) / training_set['floor_area_sqm'].std()   \n",
    "\n",
    "  "
   ]
  },
  {
   "cell_type": "code",
   "execution_count": 64,
   "metadata": {
    "id": "deOXtMG7tBJH"
   },
   "outputs": [],
   "source": [
    "training_labels = (training_labels - training_labels.mean()) / training_labels.std()    \n",
    "testing_labels = (testing_labels - training_labels.mean()) / training_labels.std() "
   ]
  },
  {
   "cell_type": "markdown",
   "metadata": {
    "id": "_Vdef0bMDo7G"
   },
   "source": [
    "## LightGBM"
   ]
  },
  {
   "cell_type": "code",
   "execution_count": 66,
   "metadata": {
    "colab": {
     "base_uri": "https://localhost:8080/"
    },
    "id": "N7DfVdH8Dqle",
    "outputId": "08d15127-4930-49a4-e8fb-79b585362750"
   },
   "outputs": [
    {
     "name": "stdout",
     "output_type": "stream",
     "text": [
      "Fitting 5 folds for each of 270 candidates, totalling 1350 fits\n"
     ]
    },
    {
     "name": "stderr",
     "output_type": "stream",
     "text": [
      "[Parallel(n_jobs=-1)]: Using backend LokyBackend with 2 concurrent workers.\n",
      "[Parallel(n_jobs=-1)]: Done  46 tasks      | elapsed:   44.7s\n",
      "[Parallel(n_jobs=-1)]: Done 196 tasks      | elapsed:  3.2min\n",
      "[Parallel(n_jobs=-1)]: Done 446 tasks      | elapsed:  7.2min\n",
      "[Parallel(n_jobs=-1)]: Done 796 tasks      | elapsed: 13.4min\n",
      "[Parallel(n_jobs=-1)]: Done 1246 tasks      | elapsed: 21.5min\n",
      "[Parallel(n_jobs=-1)]: Done 1350 out of 1350 | elapsed: 23.3min finished\n"
     ]
    },
    {
     "name": "stdout",
     "output_type": "stream",
     "text": [
      "Pipeline(memory=None,\n",
      "         steps=[('standardize',\n",
      "                 StandardScaler(copy=True, with_mean=True, with_std=True)),\n",
      "                ('model',\n",
      "                 LGBMRegressor(boosting_type='gbdt', class_weight=None,\n",
      "                               colsample_bytree=0.3, eval_metric='rmse',\n",
      "                               importance_type='split', learning_rate=0.1,\n",
      "                               max_depth=8, min_child_samples=20,\n",
      "                               min_child_weight=0.001, min_samples_leaf=2,\n",
      "                               min_split_gain=0.0, n_estimators=300, n_jobs=-1,\n",
      "                               num_leaves=31, objective=None, random_state=None,\n",
      "                               reg_alpha=0.0, reg_lambda=0.0, silent=True,\n",
      "                               subsample=0.7, subsample_for_bin=200000,\n",
      "                               subsample_freq=0))],\n",
      "         verbose=False)\n",
      "Training Errors\n",
      "Mean Squared Error:  0.0552894697677537\n",
      "RMSE:  0.235137129708929\n",
      "Mean Absolute Error:  0.05849974107621404\n",
      "R-squared:  0.9447100132714905\n",
      "Adjusted R2:  0.9447027748057191\n",
      "Test Errors\n",
      "Mean Squared Error:  3020976628048.406\n",
      "RMSE:  1738095.6901299783\n",
      "Mean Absolute Error:  957135.5732285514\n",
      "R-squared:  -0.4352311630519141\n",
      "Adjusted R2:  -0.43598307100696143\n"
     ]
    }
   ],
   "source": [
    "from sklearn.ensemble import RandomForestRegressor\n",
    "from sklearn import preprocessing\n",
    "from lightgbm import LGBMRegressor\n",
    "from sklearn.metrics import mean_squared_log_error\n",
    "\n",
    "# Initialise LGBMRegressor\n",
    "rf = LGBMRegressor(n_estimators=300, subsample=0.9, colsample_bytree=0.2, eval_metric = 'rmse')\n",
    "optimized_rf = LGBMRegressor(boosting_type='gbdt', class_weight=None,\n",
    "                               colsample_bytree=0.3, eval_metric='rmse',\n",
    "                               importance_type='split', learning_rate=0.1,\n",
    "                               max_depth=9, min_child_samples=20,\n",
    "                               min_child_weight=0.001, min_samples_leaf=2,\n",
    "                               min_split_gain=0.0, n_estimators=300, n_jobs=-1,\n",
    "                               num_leaves=31, objective=None, random_state=None,\n",
    "                               reg_alpha=0.0, reg_lambda=0.0, silent=True,\n",
    "                               subsample=0.7, subsample_for_bin=200000,\n",
    "                               subsample_freq=0)\n",
    "\n",
    "\n",
    "# # Set up 5-fold cross-validation\n",
    "from sklearn import model_selection\n",
    "cv = model_selection.KFold(5)\n",
    "\n",
    "\n",
    "# Pipeline Standardization and Model\n",
    "from sklearn.pipeline import Pipeline\n",
    "pipeline = Pipeline(steps=[('standardize', preprocessing.StandardScaler())\n",
    "                           , ('model', rf) ])\n",
    "# Tuning the model\n",
    "my_min_samples_leaf = [2, 10, 25, 50, 100]\n",
    "my_max_depth = [7, 8, 9, 10, 11, 12]\n",
    "my_subsample = [0.7, 0.8, 0.9]\n",
    "my_colsample_bytree = [0.1, 0.2, 0.3]\n",
    "\n",
    "# Run the model using GridSearch, select the model with best search\n",
    "from sklearn.model_selection import GridSearchCV\n",
    "optimized_rf = GridSearchCV(estimator=pipeline\n",
    "                            , cv=cv\n",
    "                            , param_grid =dict(model__min_samples_leaf = my_min_samples_leaf, \n",
    "                                               model__max_depth = my_max_depth,\n",
    "                                               model__subsample = my_subsample,\n",
    "                                               model__colsample_bytree = my_colsample_bytree)\n",
    "                            , scoring = 'neg_mean_squared_error'\n",
    "                            , verbose = 1\n",
    "                            , n_jobs = -1\n",
    "                           )\n",
    "\n",
    "# Fitting on Training Data\n",
    "optimized_rf.fit(training_set, training_labels)\n",
    "\n",
    "\n",
    "# Best model estimators\n",
    "print(optimized_rf.best_estimator_)\n",
    "\n",
    "def adjusted_r2(r2, n, p):\n",
    "  result = 1-((1-r2)*((n-1)/(n-p-1)))\n",
    "  return result\n",
    "\n",
    "\n",
    "# Evaluate metrics on holdout\n",
    "from sklearn.metrics import mean_squared_error, mean_absolute_error, r2_score\n",
    "y_train_pred = optimized_rf.predict(training_set)\n",
    "y_pred = optimized_rf.predict(testing_set)\n",
    "n1 = len(y_train_pred)\n",
    "p1 = training_set.shape[1]\n",
    "n2 = len(y_pred)\n",
    "p2 = testing_set.shape[1]\n",
    "print('Training Errors')\n",
    "print(\"Mean Squared Error: \", mean_squared_error(training_labels, y_train_pred))\n",
    "print(\"RMSE: \", mean_squared_error(training_labels, y_train_pred, squared = False))\n",
    "print(\"Mean Absolute Error: \", mean_absolute_error(training_labels, y_train_pred))\n",
    "print(\"R-squared: \", r2_score(training_labels, y_train_pred))\n",
    "print(\"Adjusted R2: \", adjusted_r2(r2_score(training_labels, y_train_pred), n1, p1))\n",
    "\n",
    "print('Test Errors')\n",
    "print(\"Mean Squared Error: \", mean_squared_error(testing_labels, y_pred))\n",
    "print(\"RMSE: \", mean_squared_error(testing_labels, y_pred, squared = False))\n",
    "print(\"Mean Absolute Error: \", mean_absolute_error(testing_labels, y_pred))\n",
    "print(\"R-squared: \", r2_score(testing_labels, y_pred))\n",
    "print(\"Adjusted R2: \", adjusted_r2(r2_score(testing_labels, y_pred), n2, p2))\n",
    "\n"
   ]
  },
  {
   "cell_type": "code",
   "execution_count": 67,
   "metadata": {
    "id": "QNEzT8vLKIGZ"
   },
   "outputs": [],
   "source": [
    "def smape(y_true, y_pred):\n",
    "    return 1/len(y_true) * np.sum(2 * np.abs(y_pred.squeeze()-y_true.squeeze()) / (np.abs(y_true.squeeze()) + np.abs(y_pred.squeeze()))*100)"
   ]
  },
  {
   "cell_type": "code",
   "execution_count": 68,
   "metadata": {
    "colab": {
     "base_uri": "https://localhost:8080/"
    },
    "id": "9xQDMJY6KLFw",
    "outputId": "022d533f-1bf5-45fc-d356-0770c4f9df15"
   },
   "outputs": [
    {
     "name": "stdout",
     "output_type": "stream",
     "text": [
      "Training sMAPE\n",
      "19.78229906477776\n",
      "Testing sMAPE\n",
      "199.989711887301\n"
     ]
    }
   ],
   "source": [
    "print('Training sMAPE')\n",
    "print(smape(y_train_pred, training_labels))\n",
    "print('Testing sMAPE')\n",
    "print(smape(y_pred, testing_labels))"
   ]
  },
  {
   "cell_type": "code",
   "execution_count": 69,
   "metadata": {
    "id": "vahAfVAFKQxE"
   },
   "outputs": [],
   "source": [
    "def percentage_error(actual, predicted):\n",
    "    res = np.empty(actual.shape)\n",
    "    for j in range(actual.shape[0]):\n",
    "        if actual[j] != 0:\n",
    "            res[j] = (actual[j] - predicted[j]) / actual[j]\n",
    "        else:\n",
    "            res[j] = predicted[j] / np.mean(actual)\n",
    "    return res\n",
    "\n",
    "def mape(y_true, y_pred): \n",
    "    return np.mean(np.abs(percentage_error(np.asarray(y_true), np.asarray(y_pred)))) * 100\n",
    "\n"
   ]
  },
  {
   "cell_type": "code",
   "execution_count": 70,
   "metadata": {
    "colab": {
     "base_uri": "https://localhost:8080/"
    },
    "id": "e4rL5vqrKUJt",
    "outputId": "326b7ed4-d5ef-4358-d40c-6cc81587c02b"
   },
   "outputs": [
    {
     "name": "stdout",
     "output_type": "stream",
     "text": [
      "Training MAPE\n",
      "48.49344324040153\n",
      "Testing MAPE\n",
      "6746052.604986003\n"
     ]
    }
   ],
   "source": [
    "print('Training MAPE')\n",
    "print(mape(y_train_pred, training_labels))\n",
    "print('Testing MAPE')\n",
    "print(mape(y_pred, testing_labels))"
   ]
  },
  {
   "cell_type": "code",
   "execution_count": 71,
   "metadata": {
    "colab": {
     "base_uri": "https://localhost:8080/"
    },
    "id": "g0qeT_5OKbpP",
    "outputId": "a7e56aa0-595d-40de-ea3a-62a4d81d8f36"
   },
   "outputs": [
    {
     "name": "stdout",
     "output_type": "stream",
     "text": [
      "Fitting 5 folds for each of 30 candidates, totalling 150 fits\n"
     ]
    },
    {
     "name": "stderr",
     "output_type": "stream",
     "text": [
      "[Parallel(n_jobs=-1)]: Using backend LokyBackend with 2 concurrent workers.\n",
      "[Parallel(n_jobs=-1)]: Done  46 tasks      | elapsed:  7.3min\n",
      "[Parallel(n_jobs=-1)]: Done 150 out of 150 | elapsed: 29.5min finished\n"
     ]
    },
    {
     "name": "stdout",
     "output_type": "stream",
     "text": [
      "[09:26:43] WARNING: /workspace/src/objective/regression_obj.cu:152: reg:linear is now deprecated in favor of reg:squarederror.\n",
      "Pipeline(memory=None,\n",
      "         steps=[('standardize',\n",
      "                 StandardScaler(copy=True, with_mean=True, with_std=True)),\n",
      "                ('model',\n",
      "                 XGBRegressor(base_score=0.5, booster='gbtree',\n",
      "                              colsample_bylevel=1, colsample_bynode=0.2,\n",
      "                              colsample_bytree=1, eval_metric='rmse', gamma=0,\n",
      "                              importance_type='gain', learning_rate=0.1,\n",
      "                              max_delta_step=0, max_depth=10,\n",
      "                              min_child_weight=1, min_samples_leaf=2,\n",
      "                              missing=None, n_estimators=300, n_fold=5,\n",
      "                              n_jobs=1, nthread=None, objective='reg:linear',\n",
      "                              random_state=0, reg_alpha=0, reg_lambda=1,\n",
      "                              scale_pos_weight=1, seed=None, silent=None,\n",
      "                              subsample=0.9, verbosity=1))],\n",
      "         verbose=False)\n",
      "Training Errors\n",
      "Mean Squared Error:  0.00442786018354544\n",
      "RMSE:  0.06654216846140078\n",
      "Mean Absolute Error:  0.029839358129945544\n",
      "R-squared:  0.9955720984156244\n",
      "Adjusted R2:  0.9955715187227008\n",
      "Test Errors\n",
      "Mean Squared Error:  3020973397591.2173\n",
      "RMSE:  1738094.7608203695\n",
      "Mean Absolute Error:  957136.631111615\n",
      "R-squared:  -0.4352296282989523\n",
      "Adjusted R2:  -0.4359815354499528\n"
     ]
    }
   ],
   "source": [
    "from sklearn.ensemble import RandomForestRegressor\n",
    "import xgboost\n",
    "from sklearn import preprocessing\n",
    "from xgboost import XGBRFRegressor\n",
    "\n",
    "# Initialise XGBRegressor\n",
    "rf = xgboost.XGBRegressor(n_estimators=300, subsample=0.9, colsample_bynode=0.2, n_fold = 5, eval_metric = 'rmse')\n",
    "\n",
    "# Set up 5-fold cross-validation\n",
    "from sklearn import model_selection\n",
    "cv = model_selection.KFold(5)\n",
    "\n",
    "# Pipeline standardization and Model\n",
    "from sklearn.pipeline import Pipeline\n",
    "pipeline = Pipeline(steps=[('standardize', preprocessing.StandardScaler())\n",
    "                           , ('model', rf) ])\n",
    "# Tuning the model\n",
    "my_min_samples_leaf = [2, 10, 25, 50, 100]\n",
    "my_max_depth = [7, 8, 9, 10, 11, 12]\n",
    "\n",
    "\n",
    "# Run the model using GridSearch, select the model with best search\n",
    "from sklearn.model_selection import GridSearchCV\n",
    "optimized_rf = GridSearchCV(estimator=pipeline\n",
    "                            , cv=cv\n",
    "                            , param_grid =dict(model__min_samples_leaf = my_min_samples_leaf, model__max_depth = my_max_depth)\n",
    "                            , scoring = 'neg_mean_squared_error'\n",
    "                            , verbose = 1\n",
    "                            , n_jobs = -1\n",
    "                           )\n",
    "\n",
    "# Fitting on Training Data\n",
    "optimized_rf.fit(training_set, training_labels)\n",
    "\n",
    "\n",
    "# Best model estimators\n",
    "print(optimized_rf.best_estimator_)\n",
    "\n",
    "def adjusted_r2(r2, n, p):\n",
    "  result = 1-((1-r2)*((n-1)/(n-p-1)))\n",
    "  return result\n",
    "\n",
    "\n",
    "# Evaluate metrics on holdout\n",
    "from sklearn.metrics import mean_squared_error, mean_absolute_error, r2_score\n",
    "y_train_pred = optimized_rf.predict(training_set)\n",
    "y_pred = optimized_rf.predict(testing_set)\n",
    "n1 = len(y_train_pred)\n",
    "p1 = training_set.shape[1]\n",
    "n2 = len(y_pred)\n",
    "p2 = testing_set.shape[1]\n",
    "print('Training Errors')\n",
    "print(\"Mean Squared Error: \", mean_squared_error(training_labels, y_train_pred))\n",
    "print(\"RMSE: \", mean_squared_error(training_labels, y_train_pred, squared = False))\n",
    "print(\"Mean Absolute Error: \", mean_absolute_error(training_labels, y_train_pred))\n",
    "print(\"R-squared: \", r2_score(training_labels, y_train_pred))\n",
    "print(\"Adjusted R2: \", adjusted_r2(r2_score(training_labels, y_train_pred), n1, p1))\n",
    "\n",
    "print('Test Errors')\n",
    "print(\"Mean Squared Error: \", mean_squared_error(testing_labels, y_pred))\n",
    "print(\"RMSE: \", mean_squared_error(testing_labels, y_pred, squared = False))\n",
    "print(\"Mean Absolute Error: \", mean_absolute_error(testing_labels, y_pred))\n",
    "print(\"R-squared: \", r2_score(testing_labels, y_pred))\n",
    "print(\"Adjusted R2: \", adjusted_r2(r2_score(testing_labels, y_pred), n2, p2))"
   ]
  },
  {
   "cell_type": "code",
   "execution_count": 12,
   "metadata": {
    "colab": {
     "base_uri": "https://localhost:8080/"
    },
    "id": "QUfal71VSySw",
    "outputId": "05b20f98-4f2a-40c6-e8e8-cc60e609d0f6"
   },
   "outputs": [
    {
     "name": "stdout",
     "output_type": "stream",
     "text": [
      "Training sMAPE\n",
      "15.849265394720815\n",
      "Testing sMAPE\n",
      "199.98615193412783\n"
     ]
    }
   ],
   "source": [
    "print('Training sMAPE')\n",
    "print(smape(y_train_pred, training_labels))\n",
    "print('Testing sMAPE')\n",
    "print(smape(y_pred, testing_labels))"
   ]
  },
  {
   "cell_type": "code",
   "execution_count": 13,
   "metadata": {
    "colab": {
     "base_uri": "https://localhost:8080/"
    },
    "id": "nXqHWjlQS1W0",
    "outputId": "29b11625-b01f-4b27-d31a-dcaa9231d816"
   },
   "outputs": [
    {
     "name": "stdout",
     "output_type": "stream",
     "text": [
      "Training MAPE\n",
      "42.615639806129494\n",
      "Testing MAPE\n",
      "4517608.436223896\n"
     ]
    }
   ],
   "source": [
    "print('Training MAPE')\n",
    "print(mape(y_train_pred, training_labels))\n",
    "print('Testing MAPE')\n",
    "print(mape(y_pred, testing_labels))"
   ]
  },
  {
   "cell_type": "markdown",
   "metadata": {
    "id": "Xm78OzT99NtN"
   },
   "source": [
    "## normalise all"
   ]
  },
  {
   "cell_type": "code",
   "execution_count": 75,
   "metadata": {
    "id": "jWm0k9LU9Ozg"
   },
   "outputs": [],
   "source": [
    "df = pd.read_csv(combined)\n",
    "df.drop(df.columns[0], axis = 1, inplace=True)\n",
    "df['street'] = df['street'].astype('category')\n",
    "street_dict = dict(zip(df['street'].cat.codes, df['street']))\n",
    "df['street'] = df['street'].cat.codes\n",
    "\n",
    "df['propertyType'] = df['propertyType'].astype('category')\n",
    "property_dict = dict(zip(df['propertyType'].cat.codes, df['propertyType']))\n",
    "df['propertyType'] = df['propertyType'].cat.codes\n",
    "\n",
    "df['floor_range'] = df['floor_range'].astype('category')\n",
    "floor_dict = dict(zip(df['floor_range'].cat.codes, df['floor_range']))\n",
    "df['floor_range'] = df['floor_range'].cat.codes"
   ]
  },
  {
   "cell_type": "code",
   "execution_count": 76,
   "metadata": {
    "id": "iaylvXJd9ZPA"
   },
   "outputs": [],
   "source": [
    "training_set, testing_set, training_labels, testing_labels = train_test_split(df.drop('price', axis=1),\n",
    "                                                    df['price'], \n",
    "                                                    test_size=0.2,\n",
    "                                                    random_state=1)"
   ]
  },
  {
   "cell_type": "code",
   "execution_count": 77,
   "metadata": {
    "id": "6uIdtjDm-M4v"
   },
   "outputs": [],
   "source": [
    "## MEAN AND STD ON TRAINING DATA ONLY! not on test.\n",
    "training_set_mean = training_set.mean()\n",
    "training_set_std = training_set.std()\n",
    "training_set = (training_set - training_set_mean)/training_set_std \n",
    "\n",
    "\n",
    "# Calculate the Z-scores of each column in the test set.\n",
    "\n",
    "testing_set = (testing_set - training_set_mean)/training_set_std \n",
    "\n",
    "training_labels = (training_labels - training_labels.mean()) / training_labels.std()    \n",
    "testing_labels = (testing_labels - training_labels.mean()) / training_labels.std()"
   ]
  },
  {
   "cell_type": "code",
   "execution_count": 78,
   "metadata": {
    "colab": {
     "base_uri": "https://localhost:8080/"
    },
    "id": "746YRd2A-wbj",
    "outputId": "60bbfbad-0e28-4800-c184-23e4890b7168"
   },
   "outputs": [
    {
     "name": "stdout",
     "output_type": "stream",
     "text": [
      "Fitting 5 folds for each of 270 candidates, totalling 1350 fits\n"
     ]
    },
    {
     "name": "stderr",
     "output_type": "stream",
     "text": [
      "[Parallel(n_jobs=-1)]: Using backend LokyBackend with 2 concurrent workers.\n",
      "[Parallel(n_jobs=-1)]: Done  46 tasks      | elapsed:   45.9s\n",
      "[Parallel(n_jobs=-1)]: Done 196 tasks      | elapsed:  3.2min\n",
      "[Parallel(n_jobs=-1)]: Done 446 tasks      | elapsed:  7.4min\n",
      "[Parallel(n_jobs=-1)]: Done 796 tasks      | elapsed: 13.7min\n",
      "[Parallel(n_jobs=-1)]: Done 1246 tasks      | elapsed: 22.0min\n",
      "[Parallel(n_jobs=-1)]: Done 1350 out of 1350 | elapsed: 23.9min finished\n"
     ]
    },
    {
     "name": "stdout",
     "output_type": "stream",
     "text": [
      "Pipeline(memory=None,\n",
      "         steps=[('standardize',\n",
      "                 StandardScaler(copy=True, with_mean=True, with_std=True)),\n",
      "                ('model',\n",
      "                 LGBMRegressor(boosting_type='gbdt', class_weight=None,\n",
      "                               colsample_bytree=0.3, eval_metric='rmse',\n",
      "                               importance_type='split', learning_rate=0.1,\n",
      "                               max_depth=8, min_child_samples=20,\n",
      "                               min_child_weight=0.001, min_samples_leaf=2,\n",
      "                               min_split_gain=0.0, n_estimators=300, n_jobs=-1,\n",
      "                               num_leaves=31, objective=None, random_state=None,\n",
      "                               reg_alpha=0.0, reg_lambda=0.0, silent=True,\n",
      "                               subsample=0.7, subsample_for_bin=200000,\n",
      "                               subsample_freq=0))],\n",
      "         verbose=False)\n",
      "Training Errors\n",
      "Mean Squared Error:  0.0552894697677537\n",
      "RMSE:  0.235137129708929\n",
      "Mean Absolute Error:  0.05849974107621404\n",
      "R-squared:  0.9447100132714905\n",
      "Adjusted R2:  0.9447027748057191\n",
      "Test Errors\n",
      "Mean Squared Error:  3021003314390.593\n",
      "RMSE:  1738103.367003986\n",
      "Mean Absolute Error:  957149.2406219937\n",
      "R-squared:  -0.4352438414253841\n",
      "Adjusted R2:  -0.43599575602254603\n"
     ]
    }
   ],
   "source": [
    "from sklearn.ensemble import RandomForestRegressor\n",
    "from sklearn import preprocessing\n",
    "from lightgbm import LGBMRegressor\n",
    "from sklearn.metrics import mean_squared_log_error\n",
    "\n",
    "# Initialise LGBMRegressor\n",
    "rf = LGBMRegressor(n_estimators=300, subsample=0.9, colsample_bytree=0.2, eval_metric = 'rmse')\n",
    "optimized_rf = LGBMRegressor(boosting_type='gbdt', class_weight=None,\n",
    "                               colsample_bytree=0.3, eval_metric='rmse',\n",
    "                               importance_type='split', learning_rate=0.1,\n",
    "                               max_depth=9, min_child_samples=20,\n",
    "                               min_child_weight=0.001, min_samples_leaf=2,\n",
    "                               min_split_gain=0.0, n_estimators=300, n_jobs=-1,\n",
    "                               num_leaves=31, objective=None, random_state=None,\n",
    "                               reg_alpha=0.0, reg_lambda=0.0, silent=True,\n",
    "                               subsample=0.7, subsample_for_bin=200000,\n",
    "                               subsample_freq=0)\n",
    "\n",
    "\n",
    "# # Set up 5-fold cross-validation\n",
    "from sklearn import model_selection\n",
    "cv = model_selection.KFold(5)\n",
    "\n",
    "\n",
    "# Pipeline Standardization and Model\n",
    "from sklearn.pipeline import Pipeline\n",
    "pipeline = Pipeline(steps=[('standardize', preprocessing.StandardScaler())\n",
    "                           , ('model', rf) ])\n",
    "# Tuning the model\n",
    "my_min_samples_leaf = [2, 10, 25, 50, 100]\n",
    "my_max_depth = [7, 8, 9, 10, 11, 12]\n",
    "my_subsample = [0.7, 0.8, 0.9]\n",
    "my_colsample_bytree = [0.1, 0.2, 0.3]\n",
    "\n",
    "# Run the model using GridSearch, select the model with best search\n",
    "from sklearn.model_selection import GridSearchCV\n",
    "optimized_rf = GridSearchCV(estimator=pipeline\n",
    "                            , cv=cv\n",
    "                            , param_grid =dict(model__min_samples_leaf = my_min_samples_leaf, \n",
    "                                               model__max_depth = my_max_depth,\n",
    "                                               model__subsample = my_subsample,\n",
    "                                               model__colsample_bytree = my_colsample_bytree)\n",
    "                            , scoring = 'neg_mean_squared_error'\n",
    "                            , verbose = 1\n",
    "                            , n_jobs = -1\n",
    "                           )\n",
    "\n",
    "# Fitting on Training Data\n",
    "optimized_rf.fit(training_set, training_labels)\n",
    "\n",
    "\n",
    "# Best model estimators\n",
    "print(optimized_rf.best_estimator_)\n",
    "\n",
    "def adjusted_r2(r2, n, p):\n",
    "  result = 1-((1-r2)*((n-1)/(n-p-1)))\n",
    "  return result\n",
    "\n",
    "\n",
    "# Evaluate metrics on holdout\n",
    "from sklearn.metrics import mean_squared_error, mean_absolute_error, r2_score\n",
    "y_train_pred = optimized_rf.predict(training_set)\n",
    "y_pred = optimized_rf.predict(testing_set)\n",
    "n1 = len(y_train_pred)\n",
    "p1 = training_set.shape[1]\n",
    "n2 = len(y_pred)\n",
    "p2 = testing_set.shape[1]\n",
    "print('Training Errors')\n",
    "print(\"Mean Squared Error: \", mean_squared_error(training_labels, y_train_pred))\n",
    "print(\"RMSE: \", mean_squared_error(training_labels, y_train_pred, squared = False))\n",
    "print(\"Mean Absolute Error: \", mean_absolute_error(training_labels, y_train_pred))\n",
    "print(\"R-squared: \", r2_score(training_labels, y_train_pred))\n",
    "print(\"Adjusted R2: \", adjusted_r2(r2_score(training_labels, y_train_pred), n1, p1))\n",
    "\n",
    "print('Test Errors')\n",
    "print(\"Mean Squared Error: \", mean_squared_error(testing_labels, y_pred))\n",
    "print(\"RMSE: \", mean_squared_error(testing_labels, y_pred, squared = False))\n",
    "print(\"Mean Absolute Error: \", mean_absolute_error(testing_labels, y_pred))\n",
    "print(\"R-squared: \", r2_score(testing_labels, y_pred))\n",
    "print(\"Adjusted R2: \", adjusted_r2(r2_score(testing_labels, y_pred), n2, p2))\n",
    "\n"
   ]
  },
  {
   "cell_type": "code",
   "execution_count": 80,
   "metadata": {
    "colab": {
     "base_uri": "https://localhost:8080/"
    },
    "id": "FcfYLQNlFYmW",
    "outputId": "4f6fd00b-9791-4c78-9fbe-2ef897c3d04c"
   },
   "outputs": [
    {
     "data": {
      "text/plain": [
       "-0.05542762637002174"
      ]
     },
     "execution_count": 80,
     "metadata": {
      "tags": []
     },
     "output_type": "execute_result"
    }
   ],
   "source": [
    "train_adj_r_squared = 1 - (1-optimized_rf.score(training_set, training_labels))*(len(training_labels)-1)/(len(training_labels)-training_set.shape[1]-1)\n",
    "train_adj_r_squared"
   ]
  },
  {
   "cell_type": "code",
   "execution_count": 81,
   "metadata": {
    "colab": {
     "base_uri": "https://localhost:8080/"
    },
    "id": "VGhX2FDSFxnG",
    "outputId": "42a5117b-ffa0-4e22-e5f6-41d756a5dc53"
   },
   "outputs": [
    {
     "data": {
      "text/plain": [
       "-3022585997712.132"
      ]
     },
     "execution_count": 81,
     "metadata": {
      "tags": []
     },
     "output_type": "execute_result"
    }
   ],
   "source": [
    "train_adj_r_squared = 1 - (1-optimized_rf.score(training_set, training_labels))*(len(training_labels)-1)/(len(training_labels)-training_set.shape[1]-1)\n",
    "print(train_adj_r_squared)\n",
    "\n",
    "test_adj_r_squared = 1 - (1-optimized_rf.score(testing_set, testing_labels))*(len(testing_labels)-1)/(len(testing_labels)-testing_set.shape[1]-1)\n",
    "print(test_adj_r_squared)"
   ]
  },
  {
   "cell_type": "code",
   "execution_count": 82,
   "metadata": {
    "colab": {
     "base_uri": "https://localhost:8080/"
    },
    "id": "wQHjkPvGGOYQ",
    "outputId": "8af8cafc-8775-40be-b03c-82a8bae4b70d"
   },
   "outputs": [
    {
     "name": "stdout",
     "output_type": "stream",
     "text": [
      "Training sMAPE\n",
      "19.78229906477776\n",
      "Testing sMAPE\n",
      "199.99997309004786\n"
     ]
    }
   ],
   "source": [
    "print('Training sMAPE')\n",
    "print(smape(y_train_pred, training_labels))\n",
    "print('Testing sMAPE')\n",
    "print(smape(y_pred, testing_labels))"
   ]
  },
  {
   "cell_type": "code",
   "execution_count": 83,
   "metadata": {
    "colab": {
     "base_uri": "https://localhost:8080/"
    },
    "id": "qPpSE5DgGRnx",
    "outputId": "1049ee5b-05bb-4e86-fb98-a36e830ced18"
   },
   "outputs": [
    {
     "name": "stdout",
     "output_type": "stream",
     "text": [
      "Training MAPE\n",
      "48.49344324040153\n",
      "Testing MAPE\n",
      "1162879233.0235445\n"
     ]
    }
   ],
   "source": [
    "print('Training MAPE')\n",
    "print(mape(y_train_pred, training_labels))\n",
    "print('Testing MAPE')\n",
    "print(mape(y_pred, testing_labels))"
   ]
  },
  {
   "cell_type": "code",
   "execution_count": 88,
   "metadata": {
    "colab": {
     "base_uri": "https://localhost:8080/"
    },
    "id": "m0I_JPyXJ30R",
    "outputId": "1a4bc3eb-17ad-4e42-a2b6-2aa2f10050c6"
   },
   "outputs": [
    {
     "name": "stdout",
     "output_type": "stream",
     "text": [
      "Statistics=0.951, p=0.000\n",
      "Sample does not look Gaussian (reject H0)\n"
     ]
    },
    {
     "name": "stderr",
     "output_type": "stream",
     "text": [
      "/usr/local/lib/python3.7/dist-packages/scipy/stats/morestats.py:1676: UserWarning: p-value may not be accurate for N > 5000.\n",
      "  warnings.warn(\"p-value may not be accurate for N > 5000.\")\n"
     ]
    }
   ],
   "source": [
    "# Shapiro-Wilk Test\n",
    "from numpy.random import seed\n",
    "from numpy.random import randn\n",
    "from scipy.stats import shapiro\n",
    "# seed the random number generator\n",
    "seed(1)\n",
    "# normality test\n",
    "stat, p = shapiro(testing_set)\n",
    "print('Statistics=%.3f, p=%.3f' % (stat, p))\n",
    "# interpret\n",
    "alpha = 0.05\n",
    "if p > alpha:\n",
    "\tprint('Sample looks Gaussian (fail to reject H0)')\n",
    "else:\n",
    "\tprint('Sample does not look Gaussian (reject H0)')"
   ]
  }
 ],
 "metadata": {
  "accelerator": "GPU",
  "colab": {
   "collapsed_sections": [],
   "name": "XGBoost and LightGBM 2 apr_v2.ipynb",
   "provenance": []
  },
  "kernelspec": {
   "display_name": "Python 3",
   "language": "python",
   "name": "python3"
  },
  "language_info": {
   "codemirror_mode": {
    "name": "ipython",
    "version": 3
   },
   "file_extension": ".py",
   "mimetype": "text/x-python",
   "name": "python",
   "nbconvert_exporter": "python",
   "pygments_lexer": "ipython3",
   "version": "3.7.6"
  }
 },
 "nbformat": 4,
 "nbformat_minor": 1
}
