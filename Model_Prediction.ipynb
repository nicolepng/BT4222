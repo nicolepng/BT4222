{
  "nbformat": 4,
  "nbformat_minor": 0,
  "metadata": {
    "kernelspec": {
      "display_name": "Python 3",
      "language": "python",
      "name": "python3"
    },
    "language_info": {
      "codemirror_mode": {
        "name": "ipython",
        "version": 3
      },
      "file_extension": ".py",
      "mimetype": "text/x-python",
      "name": "python",
      "nbconvert_exporter": "python",
      "pygments_lexer": "ipython3",
      "version": "3.8.3"
    },
    "colab": {
      "name": "Model Prediction.ipynb",
      "provenance": []
    }
  },
  "cells": [
    {
      "cell_type": "code",
      "metadata": {
        "id": "j2gJ3BfntnpK"
      },
      "source": [
        "import datetime\n",
        "import math\n",
        "import matplotlib.pyplot as plt \n",
        "import numpy as np\n",
        "import pandas as pd\n",
        "import json\n",
        "from bs4 import BeautifulSoup\n",
        "import time\n",
        "import zipfile\n",
        "import requests\n",
        "import gdown\n",
        "import pickle\n",
        "import io\n",
        "from datetime import date\n",
        "from requests import Session\n",
        "from geopy.geocoders import Nominatim"
      ],
      "execution_count": null,
      "outputs": []
    },
    {
      "cell_type": "code",
      "metadata": {
        "colab": {
          "base_uri": "https://localhost:8080/"
        },
        "id": "87EfqCDstsyC",
        "outputId": "23923337-2f1d-4d84-f2ad-731414cc3f38"
      },
      "source": [
        "from google.colab import drive\n",
        "drive.mount('/content/drive')"
      ],
      "execution_count": null,
      "outputs": [
        {
          "output_type": "stream",
          "text": [
            "Mounted at /content/drive\n"
          ],
          "name": "stdout"
        }
      ]
    },
    {
      "cell_type": "code",
      "metadata": {
        "id": "XU82eIbMt_yW"
      },
      "source": [
        "path = '/content/drive/My Drive/bt4222code'"
      ],
      "execution_count": null,
      "outputs": []
    },
    {
      "cell_type": "markdown",
      "metadata": {
        "id": "IKHE5TkRtnpN"
      },
      "source": [
        "## Pre-set Variables"
      ]
    },
    {
      "cell_type": "code",
      "metadata": {
        "id": "H1SYVJj_tnpQ"
      },
      "source": [
        "district_postal = {\n",
        "    \"1\" : [\"01\", \"02\", \"03\", \"04\", \"05\", \"06\"],\n",
        "    \"2\" : [\"07\", \"08\"],\n",
        "    \"3\" : [\"14\", \"15\", \"16\"],\n",
        "    \"4\" : [\"09\", \"10\"],\n",
        "    \"5\" : [\"11\", \"12\", '13'],\n",
        "    \"6\" : [\"17\"],\n",
        "    \"7\" : [\"18\", \"19\"],\n",
        "    \"8\" : [\"20\", \"21\"],\n",
        "    \"9\" : [\"22\", \"23\"],\n",
        "    \"10\" : [\"24\", \"25\", \"26\", \"27\"],\n",
        "    \"11\" : [\"28\", \"29\", \"30\"],\n",
        "    \"12\" : [\"31\", \"32\", \"33\"],\n",
        "    \"13\" : [\"34\", \"35\", \"36\", \"37\"],\n",
        "    \"14\" : [\"38\", \"39\", \"40\", \"41\"],\n",
        "    \"15\" : [\"42\", \"43\", \"44\", \"45\"],\n",
        "    \"16\" : [\"46\", \"47\", \"48\"],\n",
        "    \"17\" : [\"49\", \"50\", \"81\"],\n",
        "    \"18\" : [\"51\", \"52\"],\n",
        "    \"19\" : [\"53\", \"54\", \"55\", \"82\"],\n",
        "    \"20\" : [\"56\", \"57\"],\n",
        "    \"21\" : [\"58\", \"59\"],\n",
        "    \"22\" : [\"60\", \"61\", \"62\", \"63\", \"64\"],\n",
        "    \"23\" : [\"65\", \"66\", \"67\", \"68\"],\n",
        "    \"24\" : [\"69\", \"70\", \"71\"],\n",
        "    \"25\" : [\"72\", \"73\"],\n",
        "    \"26\" : [\"77\", \"78\"],\n",
        "    \"27\" : [\"75\", \"76\"],\n",
        "    \"28\" : [\"79\", \"80\"]\n",
        "}"
      ],
      "execution_count": null,
      "outputs": []
    },
    {
      "cell_type": "code",
      "metadata": {
        "id": "jXE1lSSZtnpS"
      },
      "source": [
        "replace_floors = {\n",
        "    '01 TO 03' : '01-05',\n",
        "    '04 TO 06' : '01-05',\n",
        "    '07 TO 09' : '06-10',\n",
        "    '10 TO 12' : '11-15',\n",
        "    '13 TO 15' : '11-15',\n",
        "    '16 TO 18' : '16-20',\n",
        "    '19 TO 21' : '16-20',\n",
        "    '22 TO 24' : '21-25',\n",
        "    '25 TO 27' : '26-30',\n",
        "    '28 TO 30' : '26-30',\n",
        "    '31 TO 33' : '31-35',\n",
        "    '34 TO 36' : '31-35',\n",
        "    '37 TO 39' : '36-40',\n",
        "    '40 TO 42' : '41-45',\n",
        "    '43 TO 45' : '41-45',\n",
        "    '46 TO 48' : '46-50',\n",
        "    '-' : '-'\n",
        "}"
      ],
      "execution_count": null,
      "outputs": []
    },
    {
      "cell_type": "markdown",
      "metadata": {
        "id": "1YIwSsGLtnpT"
      },
      "source": [
        "## Import CSVs needed"
      ]
    },
    {
      "cell_type": "code",
      "metadata": {
        "id": "lt74tl-4tnpT"
      },
      "source": [
        "bus_stops_url = 'https://raw.githubusercontent.com/nicolepng/BT4222/main/Data/bus_stops.csv' \n",
        "bus_stops = pd.read_csv(bus_stops_url)\n",
        "bus_stops.drop(bus_stops.columns[0], axis=1, inplace=True)"
      ],
      "execution_count": null,
      "outputs": []
    },
    {
      "cell_type": "code",
      "metadata": {
        "id": "TtAqQT_AtnpU"
      },
      "source": [
        "amenities_url = 'https://raw.githubusercontent.com/nicolepng/BT4222/main/Data/ameneties_per_district.csv' \n",
        "ameneties_per_district = pd.read_csv(amenities_url)\n",
        "ameneties_per_district.drop(ameneties_per_district.columns[0], axis=1, inplace=True)"
      ],
      "execution_count": null,
      "outputs": []
    },
    {
      "cell_type": "code",
      "metadata": {
        "id": "k2fPnVyXtnpV"
      },
      "source": [
        "avg_crime_locations_url = 'https://raw.githubusercontent.com/nicolepng/BT4222/main/Data/average_crimes_by_location_v3.csv' \n",
        "average_crimes_by_location_v3 = pd.read_csv(avg_crime_locations_url)"
      ],
      "execution_count": null,
      "outputs": []
    },
    {
      "cell_type": "code",
      "metadata": {
        "id": "P_LDBvbdtnpV"
      },
      "source": [
        "# swap dictionary mapping direction\n",
        "postal_district = {k: oldk for oldk, oldv in district_postal.items() for k in oldv}\n",
        "\n",
        "# create new column to obtain the 1st 2 characters of [Postal]\n",
        "average_crimes_by_location_v3['postal prefix'] = average_crimes_by_location_v3['Postal'].astype(str).str[0:2]\n",
        "\n",
        "# map postal to district code\n",
        "average_crimes_by_location_v3['district']= average_crimes_by_location_v3['postal prefix'].map(postal_district) \n",
        "\n",
        "# get overall crime rate in each district\n",
        "average_crimes_by_location_v3 = average_crimes_by_location_v3.groupby(['district']).agg({'Number':'sum'}).reset_index()\n",
        "\n",
        "district_int = average_crimes_by_location_v3.district.astype(int)\n",
        "district_int = pd.DataFrame(district_int)\n",
        "average_crimes_by_location_v3['district'] = district_int"
      ],
      "execution_count": null,
      "outputs": []
    },
    {
      "cell_type": "code",
      "metadata": {
        "colab": {
          "base_uri": "https://localhost:8080/",
          "height": 419
        },
        "id": "UQBICODwtnpW",
        "outputId": "b3e36352-70ef-4320-9e61-c4a96d528bdc"
      },
      "source": [
        "sentiment_url = 'https://raw.githubusercontent.com/nicolepng/BT4222/main/Data/combined_vader_sentiment.csv' \n",
        "sentiment = pd.read_csv(sentiment_url)\n",
        "sentiment = sentiment[['district_num','weighted_sentiment','year']]\n",
        "#sentiment.columns = ['district_num', 'weighted_sentiment', 'year']\n",
        "sentiment"
      ],
      "execution_count": null,
      "outputs": [
        {
          "output_type": "execute_result",
          "data": {
            "text/html": [
              "<div>\n",
              "<style scoped>\n",
              "    .dataframe tbody tr th:only-of-type {\n",
              "        vertical-align: middle;\n",
              "    }\n",
              "\n",
              "    .dataframe tbody tr th {\n",
              "        vertical-align: top;\n",
              "    }\n",
              "\n",
              "    .dataframe thead th {\n",
              "        text-align: right;\n",
              "    }\n",
              "</style>\n",
              "<table border=\"1\" class=\"dataframe\">\n",
              "  <thead>\n",
              "    <tr style=\"text-align: right;\">\n",
              "      <th></th>\n",
              "      <th>district_num</th>\n",
              "      <th>weighted_sentiment</th>\n",
              "      <th>year</th>\n",
              "    </tr>\n",
              "  </thead>\n",
              "  <tbody>\n",
              "    <tr>\n",
              "      <th>0</th>\n",
              "      <td>21</td>\n",
              "      <td>0.000000</td>\n",
              "      <td>2018</td>\n",
              "    </tr>\n",
              "    <tr>\n",
              "      <th>1</th>\n",
              "      <td>1</td>\n",
              "      <td>0.082516</td>\n",
              "      <td>2018</td>\n",
              "    </tr>\n",
              "    <tr>\n",
              "      <th>2</th>\n",
              "      <td>2</td>\n",
              "      <td>0.317045</td>\n",
              "      <td>2018</td>\n",
              "    </tr>\n",
              "    <tr>\n",
              "      <th>3</th>\n",
              "      <td>3</td>\n",
              "      <td>0.123678</td>\n",
              "      <td>2018</td>\n",
              "    </tr>\n",
              "    <tr>\n",
              "      <th>4</th>\n",
              "      <td>4</td>\n",
              "      <td>0.093259</td>\n",
              "      <td>2018</td>\n",
              "    </tr>\n",
              "    <tr>\n",
              "      <th>...</th>\n",
              "      <td>...</td>\n",
              "      <td>...</td>\n",
              "      <td>...</td>\n",
              "    </tr>\n",
              "    <tr>\n",
              "      <th>107</th>\n",
              "      <td>24</td>\n",
              "      <td>0.150795</td>\n",
              "      <td>2021</td>\n",
              "    </tr>\n",
              "    <tr>\n",
              "      <th>108</th>\n",
              "      <td>25</td>\n",
              "      <td>0.088860</td>\n",
              "      <td>2021</td>\n",
              "    </tr>\n",
              "    <tr>\n",
              "      <th>109</th>\n",
              "      <td>26</td>\n",
              "      <td>-0.025054</td>\n",
              "      <td>2021</td>\n",
              "    </tr>\n",
              "    <tr>\n",
              "      <th>110</th>\n",
              "      <td>27</td>\n",
              "      <td>0.084183</td>\n",
              "      <td>2021</td>\n",
              "    </tr>\n",
              "    <tr>\n",
              "      <th>111</th>\n",
              "      <td>28</td>\n",
              "      <td>0.133119</td>\n",
              "      <td>2021</td>\n",
              "    </tr>\n",
              "  </tbody>\n",
              "</table>\n",
              "<p>112 rows × 3 columns</p>\n",
              "</div>"
            ],
            "text/plain": [
              "     district_num  weighted_sentiment  year\n",
              "0              21            0.000000  2018\n",
              "1               1            0.082516  2018\n",
              "2               2            0.317045  2018\n",
              "3               3            0.123678  2018\n",
              "4               4            0.093259  2018\n",
              "..            ...                 ...   ...\n",
              "107            24            0.150795  2021\n",
              "108            25            0.088860  2021\n",
              "109            26           -0.025054  2021\n",
              "110            27            0.084183  2021\n",
              "111            28            0.133119  2021\n",
              "\n",
              "[112 rows x 3 columns]"
            ]
          },
          "metadata": {
            "tags": []
          },
          "execution_count": 12
        }
      ]
    },
    {
      "cell_type": "code",
      "metadata": {
        "id": "jFEa9w-ptnpY",
        "outputId": "a6ea7249-de2a-42e5-99bc-7916f9f38788"
      },
      "source": [
        "# import model\n",
        "url = 'https://drive.google.com/u/0/uc?id=1qfTQF5-76kKzu_ipm06HtUV-75cT44pV'\n",
        "output = 'finalized_model.sav'\n",
        "# gdown.download(url, output, quiet=False)"
      ],
      "execution_count": null,
      "outputs": [
        {
          "output_type": "stream",
          "text": [
            "Downloading...\n",
            "From: https://drive.google.com/u/0/uc?id=1qfTQF5-76kKzu_ipm06HtUV-75cT44pV\n",
            "To: /Users/admin/Desktop/Y3S2/BT4222/BT4222/finalized_model.sav\n",
            "2.72GB [01:09, 39.1MB/s]\n"
          ],
          "name": "stderr"
        },
        {
          "output_type": "execute_result",
          "data": {
            "text/plain": [
              "'finalized_model.sav'"
            ]
          },
          "metadata": {
            "tags": []
          },
          "execution_count": 10
        }
      ]
    },
    {
      "cell_type": "markdown",
      "metadata": {
        "id": "YzPAxVq-tnpa"
      },
      "source": [
        "## Functions needed to get input"
      ]
    },
    {
      "cell_type": "code",
      "metadata": {
        "id": "4b9I2ud7tnpa"
      },
      "source": [
        "# Get district number\n",
        "def get_postal_onemap(place, district_postal):\n",
        "    start_code= \"https://developers.onemap.sg/commonapi/search?returnGeom=Y&getAddrDetails=Y&pageNum=1&searchVal=\"+ place\n",
        "    s_response = requests.get(start_code)\n",
        "    s_data = json.loads(s_response.text)\n",
        "    postal = None\n",
        "    count = 0\n",
        "    while postal is None:\n",
        "        count += 1\n",
        "        if count == 10:\n",
        "            postal = None\n",
        "            break\n",
        "        for i in range(len(s_data['results'])):\n",
        "            postal = s_data['results'][i]['POSTAL']\n",
        "            try:\n",
        "                postal = int(postal)\n",
        "            except:\n",
        "                continue\n",
        "    for district, sub_dist in district_postal.items():\n",
        "        if str(postal)[:2] in sub_dist:\n",
        "            dist = district\n",
        "    try:\n",
        "        return dist\n",
        "    except:\n",
        "        return -1"
      ],
      "execution_count": null,
      "outputs": []
    },
    {
      "cell_type": "code",
      "metadata": {
        "id": "1ThWwbbatnpb"
      },
      "source": [
        "# get latitude and longitude\n",
        "def get_lat_long(street):\n",
        "    geolocator = Nominatim(user_agent=\"newtestuserbtproj\")\n",
        "    location = geolocator.geocode({\"street\": street, \"country\": \"Singapore\"})\n",
        "    coordinates = [location.latitude, location.longitude]\n",
        "    return coordinates"
      ],
      "execution_count": null,
      "outputs": []
    },
    {
      "cell_type": "code",
      "metadata": {
        "id": "ch-HNlaytnpb"
      },
      "source": [
        "# get number of bus stops\n",
        "# Formula to calculate distance \n",
        "from math import cos, sqrt\n",
        "R = 6371000 #radius of the Earth in m\n",
        "def distance(lon1, lat1, lon2, lat2):\n",
        "    x = (lon2 - lon1) * cos(0.5*(lat2+lat1))\n",
        "    y = (lat2 - lat1)\n",
        "    return R * sqrt( x*x + y*y )\n",
        "\n",
        "def num_of_bus_stops(lat, long):\n",
        "    busStops = bus_stops.to_dict(orient='records')\n",
        "    # threshold of within 1km\n",
        "    numOfStops = []\n",
        "    buslist = list(filter(lambda d: distance(d[\"Longitude\"], d[\"Latitude\"], long, lat) <= 1000, busStops))\n",
        "    return len(buslist)"
      ],
      "execution_count": null,
      "outputs": []
    },
    {
      "cell_type": "code",
      "metadata": {
        "id": "y9BM91NVtnpc"
      },
      "source": [
        "# get num of schools\n",
        "def num_schools(district):\n",
        "    sch_list = ameneties_per_district.loc[ameneties_per_district['district'] == district]['school'].item()\n",
        "    num_sch = sch_list.strip('][').split(',') \n",
        "    if \" SINGAPORE'\" in num_sch:\n",
        "        num_sch.remove(\" SINGAPORE'\")\n",
        "    return len(num_sch)"
      ],
      "execution_count": null,
      "outputs": []
    },
    {
      "cell_type": "code",
      "metadata": {
        "id": "83RdyvNStnpd"
      },
      "source": [
        "# get num of supermarkets\n",
        "def num_supermarkets(district):\n",
        "    market_list = ameneties_per_district.loc[ameneties_per_district['district'] == district]['supermarkets'].item()\n",
        "    num_market = market_list.strip('][').split(',') \n",
        "    return len(num_market)"
      ],
      "execution_count": null,
      "outputs": []
    },
    {
      "cell_type": "code",
      "metadata": {
        "id": "ky6zweaftnpd"
      },
      "source": [
        "# get num of hawker\n",
        "def num_hawker(district):\n",
        "    hawker_list = ameneties_per_district.loc[ameneties_per_district['district'] == district]['hawkercentre'].item()\n",
        "    num_hawker = hawker_list.strip('][').split(',') \n",
        "    return len(num_hawker)"
      ],
      "execution_count": null,
      "outputs": []
    },
    {
      "cell_type": "code",
      "metadata": {
        "id": "flLdT3EFtnpe"
      },
      "source": [
        "# get crime number \n",
        "def crime_num(district):\n",
        "    return average_crimes_by_location_v3[average_crimes_by_location_v3.district == district].Number.item() "
      ],
      "execution_count": null,
      "outputs": []
    },
    {
      "cell_type": "code",
      "metadata": {
        "id": "_YotuEYetnpe"
      },
      "source": [
        "# get sentiment score\n",
        "def sentiment_score(district, year):\n",
        "    return sentiment[(sentiment.district_num == district) & (sentiment.year == year)].weighted_sentiment.item()"
      ],
      "execution_count": null,
      "outputs": []
    },
    {
      "cell_type": "code",
      "metadata": {
        "id": "QP65-RAitnpf"
      },
      "source": [
        "# get floor range\n"
      ],
      "execution_count": 1,
      "outputs": []
    },
    {
      "cell_type": "markdown",
      "metadata": {
        "id": "b0krpJPrtnpg"
      },
      "source": [
        "## Actual Code"
      ]
    },
    {
      "cell_type": "markdown",
      "metadata": {
        "id": "v7VFa92Jtnpg"
      },
      "source": [
        "district  \n",
        "street             \n",
        "propertyType        \n",
        "remaining_lease   \n",
        "price              \n",
        "school             \n",
        "hawkercentre        \n",
        "supermarkets       \n",
        "Bus Stops Nearby   \n",
        "crime_number        \n",
        "latitude          \n",
        "longitude           \n",
        "floor_area_sqm     \n",
        "floor_range        \n",
        "sentiment\n",
        "Street given, propertyType given, remaining lease given, square feet also given"
      ]
    },
    {
      "cell_type": "code",
      "metadata": {
        "colab": {
          "base_uri": "https://localhost:8080/"
        },
        "id": "SfKgp0XYtnph",
        "outputId": "b0b5909e-7a53-416d-ba51-16a28497f847"
      },
      "source": [
        "street = input(\"Enter Street Name: \")\n",
        "\n",
        "propertyType = input(\"Enter Type of Property: \")\n",
        "\n",
        "remaining_lease = int(input(\"Enter num of years left: \"))\n",
        "\n",
        "floor_area_sqm = input(\"Area of House (Square Metres): \")\n",
        "\n",
        "floor_range = input(\"Enter Floor Range: \")\n",
        "\n",
        "year = int(input(\"Current Year? \"))"
      ],
      "execution_count": null,
      "outputs": [
        {
          "output_type": "stream",
          "text": [
            "Enter Street Name: WEST COAST VALE\n",
            "Enter Type of Property: Condominium\n",
            "Enter num of years left: 99\n",
            "Area of House (Square Metres): 119\n",
            "Enter Floor Range: 11-15\n",
            "Current Year? 2021\n"
          ],
          "name": "stdout"
        }
      ]
    },
    {
      "cell_type": "code",
      "metadata": {
        "id": "4aSlhhmptnph"
      },
      "source": [
        "district = get_postal_onemap(street, district_postal)"
      ],
      "execution_count": null,
      "outputs": []
    },
    {
      "cell_type": "code",
      "metadata": {
        "colab": {
          "base_uri": "https://localhost:8080/",
          "height": 35
        },
        "id": "tpU9ujdW10nu",
        "outputId": "05db7c48-9695-40ed-ab75-474884ac848a"
      },
      "source": [
        "district"
      ],
      "execution_count": null,
      "outputs": [
        {
          "output_type": "execute_result",
          "data": {
            "application/vnd.google.colaboratory.intrinsic+json": {
              "type": "string"
            },
            "text/plain": [
              "'5'"
            ]
          },
          "metadata": {
            "tags": []
          },
          "execution_count": 105
        }
      ]
    },
    {
      "cell_type": "code",
      "metadata": {
        "id": "XG-UHeb2tnpi"
      },
      "source": [
        "# Get all details \n",
        "#district = get_postal_onemap(street, district_postal)\n",
        "coordinates = get_lat_long(street)\n",
        "latitude = coordinates[0]\n",
        "longitude = coordinates[1]\n",
        "school = num_schools(int(district))\n",
        "hawkercentre = num_hawker(int(district))\n",
        "supermarkets = num_supermarkets(int(district))\n",
        "bus_stops_nearby = num_of_bus_stops(latitude, longitude)\n",
        "crime_number = crime_num(int(district))\n",
        "score = sentiment_score(int(district), year)"
      ],
      "execution_count": null,
      "outputs": []
    },
    {
      "cell_type": "code",
      "metadata": {
        "id": "Q8vGVF7Gtnpj"
      },
      "source": [
        "# Create temp dataframe to fit into model\n",
        "temp_column_names = ['district', 'street', 'propertyType', 'remaining_lease',\n",
        "                    'school', 'hawkercentre', 'supermarkets', 'Bus Stops Neaby',\n",
        "                    'crime_number', 'latitude', 'longitude', 'floor_area_sqm', 'floor_range',\n",
        "                    'sentiment']\n",
        "temp = pd.DataFrame(columns = temp_column_names)"
      ],
      "execution_count": null,
      "outputs": []
    },
    {
      "cell_type": "code",
      "metadata": {
        "id": "vKhlXV8ctnpj"
      },
      "source": [
        "temp = temp.append({'district': district, 'street': street, 'propertyType': propertyType, \n",
        "             'remaining_lease': remaining_lease,'school': school, 'hawkercentre': hawkercentre, \n",
        "             'supermarkets': supermarkets, 'Bus Stops Neaby': bus_stops_nearby,\n",
        "            'crime_number': crime_number, 'latitude': latitude, \n",
        "             'longitude': longitude, 'floor_area_sqm': floor_area_sqm, 'floor_range': floor_range,\n",
        "            'sentiment': score\n",
        "}, ignore_index = True)"
      ],
      "execution_count": null,
      "outputs": []
    },
    {
      "cell_type": "code",
      "metadata": {
        "id": "OY3m4HztuvvS"
      },
      "source": [
        "# Street, Property and Floor_range mapping\n",
        "import pickle\n",
        "street_mapping = pickle.load(open(path + '/street_mapping.pickle', 'rb'))\n",
        "floor_mapping = pickle.load(open(path + '/floor_mapping.pickle', 'rb'))\n",
        "property_mapping = pickle.load(open(path + '/property_mapping.pickle', 'rb'))"
      ],
      "execution_count": null,
      "outputs": []
    },
    {
      "cell_type": "code",
      "metadata": {
        "id": "ez72m_SPvmeC"
      },
      "source": [
        "temp['street'] = temp['street'].str.upper()\n",
        "temp['street'] = temp['street'].map(street_mapping)\n",
        "temp['propertyType'] = temp['propertyType'].map(property_mapping)\n",
        "temp['floor_range'] = temp['floor_range'].map(floor_mapping)"
      ],
      "execution_count": null,
      "outputs": []
    },
    {
      "cell_type": "code",
      "metadata": {
        "colab": {
          "base_uri": "https://localhost:8080/",
          "height": 80
        },
        "id": "m_DRRmNzv4wx",
        "outputId": "7b81baed-421f-49ca-e6d5-cef4352863bd"
      },
      "source": [
        "temp"
      ],
      "execution_count": null,
      "outputs": [
        {
          "output_type": "execute_result",
          "data": {
            "text/html": [
              "<div>\n",
              "<style scoped>\n",
              "    .dataframe tbody tr th:only-of-type {\n",
              "        vertical-align: middle;\n",
              "    }\n",
              "\n",
              "    .dataframe tbody tr th {\n",
              "        vertical-align: top;\n",
              "    }\n",
              "\n",
              "    .dataframe thead th {\n",
              "        text-align: right;\n",
              "    }\n",
              "</style>\n",
              "<table border=\"1\" class=\"dataframe\">\n",
              "  <thead>\n",
              "    <tr style=\"text-align: right;\">\n",
              "      <th></th>\n",
              "      <th>district</th>\n",
              "      <th>street</th>\n",
              "      <th>propertyType</th>\n",
              "      <th>remaining_lease</th>\n",
              "      <th>school</th>\n",
              "      <th>hawkercentre</th>\n",
              "      <th>supermarkets</th>\n",
              "      <th>Bus Stops Neaby</th>\n",
              "      <th>crime_number</th>\n",
              "      <th>latitude</th>\n",
              "      <th>longitude</th>\n",
              "      <th>floor_area_sqm</th>\n",
              "      <th>floor_range</th>\n",
              "      <th>sentiment</th>\n",
              "    </tr>\n",
              "  </thead>\n",
              "  <tbody>\n",
              "    <tr>\n",
              "      <th>0</th>\n",
              "      <td>5</td>\n",
              "      <td>1891</td>\n",
              "      <td>6</td>\n",
              "      <td>99</td>\n",
              "      <td>37</td>\n",
              "      <td>11</td>\n",
              "      <td>5</td>\n",
              "      <td>0</td>\n",
              "      <td>122.714286</td>\n",
              "      <td>1.31664</td>\n",
              "      <td>103.751024</td>\n",
              "      <td>119</td>\n",
              "      <td>3</td>\n",
              "      <td>0.082217</td>\n",
              "    </tr>\n",
              "  </tbody>\n",
              "</table>\n",
              "</div>"
            ],
            "text/plain": [
              "  district  street  propertyType  ... floor_area_sqm floor_range sentiment\n",
              "0        5    1891             6  ...            119           3  0.082217\n",
              "\n",
              "[1 rows x 14 columns]"
            ]
          },
          "metadata": {
            "tags": []
          },
          "execution_count": 111
        }
      ]
    },
    {
      "cell_type": "markdown",
      "metadata": {
        "id": "BvcfJU1itnpk"
      },
      "source": [
        "## Run Model"
      ]
    },
    {
      "cell_type": "code",
      "metadata": {
        "id": "Md4P8PTRtnpk"
      },
      "source": [
        "# load model\n",
        "loaded_model = pickle.load(open(path + '/finalized_model.sav', 'rb'))"
      ],
      "execution_count": null,
      "outputs": []
    },
    {
      "cell_type": "markdown",
      "metadata": {
        "id": "Kl4FFrNCtnpl"
      },
      "source": [
        "## Predict Results"
      ]
    },
    {
      "cell_type": "code",
      "metadata": {
        "colab": {
          "base_uri": "https://localhost:8080/"
        },
        "id": "f3X8kumqyk69",
        "outputId": "5d2c2dee-91b3-4448-a391-36334b51d740"
      },
      "source": [
        "np.array(temp.loc[0].values.tolist()).astype(np.float)"
      ],
      "execution_count": null,
      "outputs": [
        {
          "output_type": "execute_result",
          "data": {
            "text/plain": [
              "array([2.00000000e+01, 7.76000000e+02, 1.10000000e+01, 9.99000000e+02,\n",
              "       3.70000000e+01, 1.10000000e+01, 5.00000000e+00, 0.00000000e+00,\n",
              "       1.22714286e+02, 1.35375820e+00, 1.03837112e+02, 3.34500000e+02,\n",
              "       0.00000000e+00, 8.22169856e-02])"
            ]
          },
          "metadata": {
            "tags": []
          },
          "execution_count": 66
        }
      ]
    },
    {
      "cell_type": "code",
      "metadata": {
        "colab": {
          "base_uri": "https://localhost:8080/"
        },
        "id": "7LrxHmixtnpl",
        "outputId": "8670ce80-663d-4364-d2ac-ce6d4face805"
      },
      "source": [
        "# Predicted Price\n",
        "loaded_model.predict(np.array(temp.loc[0].values.tolist()).astype(np.float).reshape(1, -1))"
      ],
      "execution_count": null,
      "outputs": [
        {
          "output_type": "execute_result",
          "data": {
            "text/plain": [
              "array([1423145.89275779])"
            ]
          },
          "metadata": {
            "tags": []
          },
          "execution_count": 112
        }
      ]
    },
    {
      "cell_type": "code",
      "metadata": {
        "id": "yODUJxwB0Cr6"
      },
      "source": [
        ""
      ],
      "execution_count": null,
      "outputs": []
    }
  ]
}