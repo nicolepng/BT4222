{
 "cells": [
  {
   "cell_type": "code",
   "execution_count": 8,
   "metadata": {},
   "outputs": [],
   "source": [
    "import datetime\n",
    "import math\n",
    "import matplotlib.pyplot as plt \n",
    "import numpy as np\n",
    "import pandas as pd\n",
    "import json\n",
    "from bs4 import BeautifulSoup\n",
    "import time\n",
    "import zipfile\n",
    "import requests\n",
    "import io\n",
    "from datetime import date\n",
    "from pyura import Client\n",
    "from requests import Session\n",
    "from geopy.geocoders import Nominatim"
   ]
  },
  {
   "cell_type": "markdown",
   "metadata": {},
   "source": [
    "## Import CSVs needed"
   ]
  },
  {
   "cell_type": "code",
   "execution_count": 27,
   "metadata": {},
   "outputs": [],
   "source": [
    "bus_stops_url = 'https://raw.githubusercontent.com/nicolepng/BT4222/main/Data/bus_stops.csv' \n",
    "bus_stops = pd.read_csv(bus_stops_url)\n",
    "bus_stops.drop(bus_stops.columns[0], axis=1, inplace=True)"
   ]
  },
  {
   "cell_type": "code",
   "execution_count": 38,
   "metadata": {},
   "outputs": [],
   "source": [
    "amenities_url = 'https://raw.githubusercontent.com/nicolepng/BT4222/main/Data/ameneties_per_district.csv' \n",
    "ameneties_per_district = pd.read_csv(amenities_url)\n",
    "ameneties_per_district.drop(ameneties_per_district.columns[0], axis=1, inplace=True)"
   ]
  },
  {
   "cell_type": "code",
   "execution_count": 80,
   "metadata": {},
   "outputs": [],
   "source": [
    "avg_crime_locations_url = 'https://raw.githubusercontent.com/nicolepng/BT4222/main/Data/average_crimes_by_location_v3.csv' \n",
    "average_crimes_by_location_v3 = pd.read_csv(avg_crime_locations_url)"
   ]
  },
  {
   "cell_type": "code",
   "execution_count": 81,
   "metadata": {},
   "outputs": [],
   "source": [
    "# swap dictionary mapping direction\n",
    "postal_district = {k: oldk for oldk, oldv in district_postal.items() for k in oldv}\n",
    "\n",
    "# create new column to obtain the 1st 2 characters of [Postal]\n",
    "average_crimes_by_location_v3['postal prefix'] = average_crimes_by_location_v3['Postal'].astype(str).str[0:2]\n",
    "\n",
    "# map postal to district code\n",
    "average_crimes_by_location_v3['district']= average_crimes_by_location_v3['postal prefix'].map(postal_district) \n",
    "\n",
    "# get overall crime rate in each district\n",
    "average_crimes_by_location_v3 = average_crimes_by_location_v3.groupby(['district']).agg({'Number':'sum'}).reset_index()\n",
    "\n",
    "district_int = average_crimes_by_location_v3.district.astype(int)\n",
    "district_int = pd.DataFrame(district_int)\n",
    "average_crimes_by_location_v3['district'] = district_int"
   ]
  },
  {
   "cell_type": "code",
   "execution_count": 91,
   "metadata": {},
   "outputs": [
    {
     "data": {
      "text/html": [
       "<div>\n",
       "<style scoped>\n",
       "    .dataframe tbody tr th:only-of-type {\n",
       "        vertical-align: middle;\n",
       "    }\n",
       "\n",
       "    .dataframe tbody tr th {\n",
       "        vertical-align: top;\n",
       "    }\n",
       "\n",
       "    .dataframe thead th {\n",
       "        text-align: right;\n",
       "    }\n",
       "</style>\n",
       "<table border=\"1\" class=\"dataframe\">\n",
       "  <thead>\n",
       "    <tr style=\"text-align: right;\">\n",
       "      <th></th>\n",
       "      <th>district_num</th>\n",
       "      <th>weighted_sentiment</th>\n",
       "      <th>year</th>\n",
       "    </tr>\n",
       "  </thead>\n",
       "  <tbody>\n",
       "    <tr>\n",
       "      <th>0</th>\n",
       "      <td>21</td>\n",
       "      <td>0.000000</td>\n",
       "      <td>2018</td>\n",
       "    </tr>\n",
       "    <tr>\n",
       "      <th>1</th>\n",
       "      <td>1</td>\n",
       "      <td>0.082516</td>\n",
       "      <td>2018</td>\n",
       "    </tr>\n",
       "    <tr>\n",
       "      <th>2</th>\n",
       "      <td>2</td>\n",
       "      <td>0.317045</td>\n",
       "      <td>2018</td>\n",
       "    </tr>\n",
       "    <tr>\n",
       "      <th>3</th>\n",
       "      <td>3</td>\n",
       "      <td>0.123678</td>\n",
       "      <td>2018</td>\n",
       "    </tr>\n",
       "    <tr>\n",
       "      <th>4</th>\n",
       "      <td>4</td>\n",
       "      <td>0.093259</td>\n",
       "      <td>2018</td>\n",
       "    </tr>\n",
       "    <tr>\n",
       "      <th>...</th>\n",
       "      <td>...</td>\n",
       "      <td>...</td>\n",
       "      <td>...</td>\n",
       "    </tr>\n",
       "    <tr>\n",
       "      <th>107</th>\n",
       "      <td>24</td>\n",
       "      <td>0.150795</td>\n",
       "      <td>2021</td>\n",
       "    </tr>\n",
       "    <tr>\n",
       "      <th>108</th>\n",
       "      <td>25</td>\n",
       "      <td>0.088860</td>\n",
       "      <td>2021</td>\n",
       "    </tr>\n",
       "    <tr>\n",
       "      <th>109</th>\n",
       "      <td>26</td>\n",
       "      <td>-0.025054</td>\n",
       "      <td>2021</td>\n",
       "    </tr>\n",
       "    <tr>\n",
       "      <th>110</th>\n",
       "      <td>27</td>\n",
       "      <td>0.084183</td>\n",
       "      <td>2021</td>\n",
       "    </tr>\n",
       "    <tr>\n",
       "      <th>111</th>\n",
       "      <td>28</td>\n",
       "      <td>0.133119</td>\n",
       "      <td>2021</td>\n",
       "    </tr>\n",
       "  </tbody>\n",
       "</table>\n",
       "<p>112 rows × 3 columns</p>\n",
       "</div>"
      ],
      "text/plain": [
       "     district_num  weighted_sentiment  year\n",
       "0              21            0.000000  2018\n",
       "1               1            0.082516  2018\n",
       "2               2            0.317045  2018\n",
       "3               3            0.123678  2018\n",
       "4               4            0.093259  2018\n",
       "..            ...                 ...   ...\n",
       "107            24            0.150795  2021\n",
       "108            25            0.088860  2021\n",
       "109            26           -0.025054  2021\n",
       "110            27            0.084183  2021\n",
       "111            28            0.133119  2021\n",
       "\n",
       "[112 rows x 3 columns]"
      ]
     },
     "execution_count": 91,
     "metadata": {},
     "output_type": "execute_result"
    }
   ],
   "source": [
    "sentiment_url = 'https://raw.githubusercontent.com/nicolepng/BT4222/main/Data/combined_sentiment.csv' \n",
    "sentiment = pd.read_csv(sentiment_url)\n",
    "sentiment = sentiment[['district_num','hwz_sentiment','year']]\n",
    "sentiment.columns = ['district_num', 'weighted_sentiment', 'year']\n",
    "sentiment"
   ]
  },
  {
   "cell_type": "markdown",
   "metadata": {},
   "source": [
    "## Functions needed to get input"
   ]
  },
  {
   "cell_type": "code",
   "execution_count": 9,
   "metadata": {},
   "outputs": [],
   "source": [
    "# Get district number\n",
    "def get_postal_onemap(place, district_postal):\n",
    "    start_code= \"https://developers.onemap.sg/commonapi/search?returnGeom=Y&getAddrDetails=Y&pageNum=1&searchVal=\"+ str(\"Ang Mo Kio Ave 5\")\n",
    "    s_response = requests.get(start_code)\n",
    "    s_data = json.loads(s_response.text)\n",
    "    postal = None\n",
    "    count = 0\n",
    "    while postal is None:\n",
    "        count += 1\n",
    "        if count == 10:\n",
    "            postal = None\n",
    "            break\n",
    "        for i in range(len(s_data['results'])):\n",
    "            postal = s_data['results'][i]['POSTAL']\n",
    "            try:\n",
    "                postal = int(postal)\n",
    "            except:\n",
    "                continue\n",
    "    for district, sub_dist in district_postal.items():\n",
    "        if str(postal)[:2] in sub_dist:\n",
    "            dist = district\n",
    "    try:\n",
    "        return dist\n",
    "    except:\n",
    "        return -1"
   ]
  },
  {
   "cell_type": "code",
   "execution_count": 18,
   "metadata": {},
   "outputs": [],
   "source": [
    "# get latitude and longitude\n",
    "def get_lat_long(street):\n",
    "    geolocator = Nominatim(user_agent=\"newtestuserbtproj\")\n",
    "    location = geolocator.geocode({\"street\": street, \"country\": \"Singapore\"})\n",
    "    coordinates = [location.latitude, location.longitude]\n",
    "    return coordinates"
   ]
  },
  {
   "cell_type": "code",
   "execution_count": 36,
   "metadata": {},
   "outputs": [],
   "source": [
    "# get number of bus stops\n",
    "# Formula to calculate distance \n",
    "from math import cos, sqrt\n",
    "R = 6371000 #radius of the Earth in m\n",
    "def distance(lon1, lat1, lon2, lat2):\n",
    "    x = (lon2 - lon1) * cos(0.5*(lat2+lat1))\n",
    "    y = (lat2 - lat1)\n",
    "    return R * sqrt( x*x + y*y )\n",
    "\n",
    "def num_of_bus_stops(lat, long):\n",
    "    busStops = bus_stops.to_dict(orient='records')\n",
    "    # threshold of within 1km\n",
    "    numOfStops = []\n",
    "    buslist = list(filter(lambda d: distance(d[\"Longitude\"], d[\"Latitude\"], long, lat) <= 1000, busStops))\n",
    "    return len(buslist)"
   ]
  },
  {
   "cell_type": "code",
   "execution_count": 57,
   "metadata": {},
   "outputs": [],
   "source": [
    "# get num of schools\n",
    "def num_schools(district):\n",
    "    sch_list = ameneties_per_district.loc[ameneties_per_district['district'] == district]['school'].item()\n",
    "    num_sch = sch_list.strip('][').split(',') \n",
    "    if \" SINGAPORE'\" in num_sch:\n",
    "        num_sch.remove(\" SINGAPORE'\")\n",
    "    return len(num_sch)"
   ]
  },
  {
   "cell_type": "code",
   "execution_count": 63,
   "metadata": {},
   "outputs": [],
   "source": [
    "# get num of supermarkets\n",
    "def num_supermarkets(district):\n",
    "    market_list = ameneties_per_district.loc[ameneties_per_district['district'] == district]['supermarkets'].item()\n",
    "    num_market = market_list.strip('][').split(',') \n",
    "    return len(num_market)"
   ]
  },
  {
   "cell_type": "code",
   "execution_count": 64,
   "metadata": {},
   "outputs": [],
   "source": [
    "# get num of hawker\n",
    "def num_hawker(district):\n",
    "    hawker_list = ameneties_per_district.loc[ameneties_per_district['district'] == district]['hawkercentre'].item()\n",
    "    num_hawker = hawker_list.strip('][').split(',') \n",
    "    return len(num_hawker)"
   ]
  },
  {
   "cell_type": "code",
   "execution_count": 101,
   "metadata": {},
   "outputs": [],
   "source": [
    "# get crime number \n",
    "def crime_num(district):\n",
    "    return average_crimes_by_location_v3[average_crimes_by_location_v3.district == district].Number.item() "
   ]
  },
  {
   "cell_type": "code",
   "execution_count": 102,
   "metadata": {},
   "outputs": [],
   "source": [
    "# get sentiment score\n",
    "def sentiment_score(district, year):\n",
    "    return sentiment[(sentiment.district_num == district) & (sentiment.year == year)].weighted_sentiment.item()"
   ]
  },
  {
   "cell_type": "code",
   "execution_count": null,
   "metadata": {},
   "outputs": [],
   "source": [
    "# get floor range\n"
   ]
  },
  {
   "cell_type": "markdown",
   "metadata": {},
   "source": [
    "## Pre-set Variables"
   ]
  },
  {
   "cell_type": "code",
   "execution_count": 13,
   "metadata": {},
   "outputs": [],
   "source": [
    "district_postal = {\n",
    "    \"1\" : [\"01\", \"02\", \"03\", \"04\", \"05\", \"06\"],\n",
    "    \"2\" : [\"07\", \"08\"],\n",
    "    \"3\" : [\"14\", \"15\", \"16\"],\n",
    "    \"4\" : [\"09\", \"10\"],\n",
    "    \"5\" : [\"11\", \"12\", '13'],\n",
    "    \"6\" : [\"17\"],\n",
    "    \"7\" : [\"18\", \"19\"],\n",
    "    \"8\" : [\"20\", \"21\"],\n",
    "    \"9\" : [\"22\", \"23\"],\n",
    "    \"10\" : [\"24\", \"25\", \"26\", \"27\"],\n",
    "    \"11\" : [\"28\", \"29\", \"30\"],\n",
    "    \"12\" : [\"31\", \"32\", \"33\"],\n",
    "    \"13\" : [\"34\", \"35\", \"36\", \"37\"],\n",
    "    \"14\" : [\"38\", \"39\", \"40\", \"41\"],\n",
    "    \"15\" : [\"42\", \"43\", \"44\", \"45\"],\n",
    "    \"16\" : [\"46\", \"47\", \"48\"],\n",
    "    \"17\" : [\"49\", \"50\", \"81\"],\n",
    "    \"18\" : [\"51\", \"52\"],\n",
    "    \"19\" : [\"53\", \"54\", \"55\", \"82\"],\n",
    "    \"20\" : [\"56\", \"57\"],\n",
    "    \"21\" : [\"58\", \"59\"],\n",
    "    \"22\" : [\"60\", \"61\", \"62\", \"63\", \"64\"],\n",
    "    \"23\" : [\"65\", \"66\", \"67\", \"68\"],\n",
    "    \"24\" : [\"69\", \"70\", \"71\"],\n",
    "    \"25\" : [\"72\", \"73\"],\n",
    "    \"26\" : [\"77\", \"78\"],\n",
    "    \"27\" : [\"75\", \"76\"],\n",
    "    \"28\" : [\"79\", \"80\"]\n",
    "}"
   ]
  },
  {
   "cell_type": "code",
   "execution_count": 20,
   "metadata": {},
   "outputs": [],
   "source": [
    "district_mapping = {\n",
    "    \"1\" : [\"RAFFLES PLACE MRT STATION EXIT A\", \"CECIL BUILDING\", \"MARINA BAY SINGAPORE\", \"PEOPLE'S PARK COMPLEX\"],\n",
    "    \"2\" : [\"ANSON ROAD\", \"TANJONG PAGAR MRT STATION EXIT A\"],\n",
    "    \"3\" : [\"QUEENSTOWN MRT STATION EXIT A\", \"TIONG BAHRU MRT STATION EXIT A\"],\n",
    "    \"4\" : [\"TELOK BLANGAH RISE MARKET\", \"HARBOURFRONT MRT STATION EXIT A\"],\n",
    "    \"5\" : [\"PASIR PANJANG MRT STATION EXIT A\", \"CLEMENTI MRT STATION EXIT A\"],\n",
    "    \"6\" : [\"HIGH STREET PLAZA\", \"CALTEX BEACH ROAD\"],\n",
    "    \"7\" : [\"DBS MIDDLE ROAD 210\", \"GOLDEN MILE COMPLEX\"],\n",
    "    \"8\" : [\"LITTLE INDIA MRT STATION EXIT A\"],\n",
    "    \"9\" : [\"ORCHARD MRT STATION EXIT A\", \"THE CAIRNHILL\", \"GREAT WORLD MRT STATION\"],\n",
    "    \"10\" : [\"BUKIT TIMAH ROAD\", \"HOLLAND VILLAGE MRT STATION\", \"TANGLIN MALL\"],\n",
    "    \"11\" : [\"WATTEN ESTATE\", \"NOVENA MRT STATION EXIT A\", \"THOMSON PLAZA\"],\n",
    "    \"12\" : [\"BALESTIER PLAZA\", \"TOA PAYOH MRT STATION EXIT A\", \"SERANGOON MRT STATION EXIT A\"],\n",
    "    \"13\" : [\"MACPHERSON MRT STATION EXIT A\", \"BRADDELL MRT STATION EXIT A\"],\n",
    "    \"14\" : [\"PAYA LEBAR MRT STATION EXIT A\", \"EUNOS MRT STATION EXIT A\"],\n",
    "    \"15\" : [\"TANJONG KATONG GIRLS' SCHOOL\", \"KOON SENG PARK\", \"TANJONG KATONG MRT STATION EXIT A\"],\n",
    "    \"16\" : [\"BEDOK MRT STATION EXIT A\", \"TANAH MERAH MRT STATION EXIT A\", \"SUNGEI BEDOK MRT STATION\", \"KEW DRIVE PLAYGROUND\"],\n",
    "    \"17\" : [\"MARIAM WAY PLAYGROUND\", \"KEMBANGAN MRT STATION EXIT A\"],\n",
    "    \"18\" : [\"TAMPINES MRT STATION EXIT A\", \"PASIR RIS MRT STATIONEXIT A\"],\n",
    "    \"19\" : [\"SERANGOON GARDEN MARKET EXIT A\", \"HOUGANG MRT STATION EXIT A\", \"PUNGGOL MRT STATION EXIT A\"],\n",
    "    \"20\" : [\"BISHAN MRT STATION EXIT A\", \"ANG MO KIO MRT STATION EXIT A\"],\n",
    "    \"21\" : [\"ESSO UPPER BUKIT TIMAH A\", \"CLEMENTI PARK\", \"ULU PANDAN COMMUNITY CLUB\"],\n",
    "    \"22\" : [\"JURONG EAST MRT STATION EXIT A\", \"BOON LAY MRT STATION EXIT A\", \"LAKESIDE MRT STATION EXIT A\", \"CHINESE GARDEN MRT STATION EXIT A\"],\n",
    "    \"23\" : [\"HILLVIEW MRT STATION EXIT A\", \"GERMAN EUROPEAN SCHOOL SINGAPORE\", \"BUKIT PANJANG MRT STATION EXIT A1\", \"CHOA CHU KANG MRT STATION EXIT A\"],\n",
    "    \"24\" : [\"LIM CHU KANG CAMP I\", \"GARDEN VALE @ TENGAH\"],\n",
    "    \"25\" : [\"KRANJI MRT STATION EXIT A\", \"THE WOODGROVE\"],\n",
    "    \"26\" : [\"UPPER THOMSON MRT STATION\", \"SPRINGLEAF GARDEN\"],\n",
    "    \"27\" : [\"YISHUN MRT STATION EXIT A\", \"SEMBAWANG MRT STATION EXIT A\"],\n",
    "    \"28\" : [\"THE SELETAR MALL\"]\n",
    "}"
   ]
  },
  {
   "cell_type": "code",
   "execution_count": 104,
   "metadata": {},
   "outputs": [],
   "source": [
    "replace_floors = {\n",
    "    '01 TO 03' : '01-05',\n",
    "    '04 TO 06' : '01-05',\n",
    "    '07 TO 09' : '06-10',\n",
    "    '10 TO 12' : '11-15',\n",
    "    '13 TO 15' : '11-15',\n",
    "    '16 TO 18' : '16-20',\n",
    "    '19 TO 21' : '16-20',\n",
    "    '22 TO 24' : '21-25',\n",
    "    '25 TO 27' : '26-30',\n",
    "    '28 TO 30' : '26-30',\n",
    "    '31 TO 33' : '31-35',\n",
    "    '34 TO 36' : '31-35',\n",
    "    '37 TO 39' : '36-40',\n",
    "    '40 TO 42' : '41-45',\n",
    "    '43 TO 45' : '41-45',\n",
    "    '46 TO 48' : '46-50',\n",
    "    \n",
    "}"
   ]
  },
  {
   "cell_type": "markdown",
   "metadata": {},
   "source": [
    "## Actual Code"
   ]
  },
  {
   "cell_type": "markdown",
   "metadata": {},
   "source": [
    "district  \n",
    "street             \n",
    "propertyType        \n",
    "remaining_lease   \n",
    "price              \n",
    "school             \n",
    "hawkercentre        \n",
    "supermarkets       \n",
    "Bus Stops Nearby   \n",
    "crime_number        \n",
    "latitude          \n",
    "longitude           \n",
    "floor_area_sqm     \n",
    "floor_range        \n",
    "sentiment\n",
    "Street given, propertyType given, remaining lease given, square feet also given"
   ]
  },
  {
   "cell_type": "code",
   "execution_count": 128,
   "metadata": {},
   "outputs": [
    {
     "name": "stdout",
     "output_type": "stream",
     "text": [
      "Enter Street Name: Jalan Khamis\n",
      "Enter Type of Property: Semi-detached\n",
      "Enter num of years left: 999\n",
      "Area of House (Square Metres): 334.5\n",
      "Enter Floor Range: -\n",
      "Current Year? 2021\n"
     ]
    }
   ],
   "source": [
    "street = input(\"Enter Street Name: \")\n",
    "\n",
    "propertyType = input(\"Enter Type of Property: \")\n",
    "\n",
    "remaining_lease = int(input(\"Enter num of years left: \"))\n",
    "\n",
    "floor_area_sqm = input(\"Area of House (Square Metres): \")\n",
    "\n",
    "floor_range = input(\"Enter Floor Range: \")\n",
    "\n",
    "year = int(input(\"Current Year? \"))"
   ]
  },
  {
   "cell_type": "code",
   "execution_count": 129,
   "metadata": {},
   "outputs": [
    {
     "ename": "AttributeError",
     "evalue": "'float' object has no attribute 'district_num'",
     "output_type": "error",
     "traceback": [
      "\u001b[0;31m---------------------------------------------------------------------------\u001b[0m",
      "\u001b[0;31mAttributeError\u001b[0m                            Traceback (most recent call last)",
      "\u001b[0;32m<ipython-input-129-da5e32d49dbd>\u001b[0m in \u001b[0;36m<module>\u001b[0;34m\u001b[0m\n\u001b[1;32m      9\u001b[0m \u001b[0mbus_stops_nearby\u001b[0m \u001b[0;34m=\u001b[0m \u001b[0mnum_of_bus_stops\u001b[0m\u001b[0;34m(\u001b[0m\u001b[0mlatitude\u001b[0m\u001b[0;34m,\u001b[0m \u001b[0mlongitude\u001b[0m\u001b[0;34m)\u001b[0m\u001b[0;34m\u001b[0m\u001b[0;34m\u001b[0m\u001b[0m\n\u001b[1;32m     10\u001b[0m \u001b[0mcrime_number\u001b[0m \u001b[0;34m=\u001b[0m \u001b[0mcrime_num\u001b[0m\u001b[0;34m(\u001b[0m\u001b[0mint\u001b[0m\u001b[0;34m(\u001b[0m\u001b[0mdistrict\u001b[0m\u001b[0;34m)\u001b[0m\u001b[0;34m)\u001b[0m\u001b[0;34m\u001b[0m\u001b[0;34m\u001b[0m\u001b[0m\n\u001b[0;32m---> 11\u001b[0;31m \u001b[0msentiment\u001b[0m \u001b[0;34m=\u001b[0m \u001b[0msentiment_score\u001b[0m\u001b[0;34m(\u001b[0m\u001b[0mint\u001b[0m\u001b[0;34m(\u001b[0m\u001b[0mdistrict\u001b[0m\u001b[0;34m)\u001b[0m\u001b[0;34m,\u001b[0m \u001b[0myear\u001b[0m\u001b[0;34m)\u001b[0m\u001b[0;34m\u001b[0m\u001b[0;34m\u001b[0m\u001b[0m\n\u001b[0m\u001b[1;32m     12\u001b[0m \u001b[0mfloor_range\u001b[0m \u001b[0;34m=\u001b[0m \u001b[0mreplace_floors\u001b[0m\u001b[0;34m.\u001b[0m\u001b[0mget\u001b[0m\u001b[0;34m(\u001b[0m\u001b[0mfloor_range\u001b[0m\u001b[0;34m)\u001b[0m\u001b[0;34m\u001b[0m\u001b[0;34m\u001b[0m\u001b[0m\n",
      "\u001b[0;32m<ipython-input-102-aa4562a0620f>\u001b[0m in \u001b[0;36msentiment_score\u001b[0;34m(district, year)\u001b[0m\n\u001b[1;32m      1\u001b[0m \u001b[0;31m# get sentiment score\u001b[0m\u001b[0;34m\u001b[0m\u001b[0;34m\u001b[0m\u001b[0;34m\u001b[0m\u001b[0m\n\u001b[1;32m      2\u001b[0m \u001b[0;32mdef\u001b[0m \u001b[0msentiment_score\u001b[0m\u001b[0;34m(\u001b[0m\u001b[0mdistrict\u001b[0m\u001b[0;34m,\u001b[0m \u001b[0myear\u001b[0m\u001b[0;34m)\u001b[0m\u001b[0;34m:\u001b[0m\u001b[0;34m\u001b[0m\u001b[0;34m\u001b[0m\u001b[0m\n\u001b[0;32m----> 3\u001b[0;31m     \u001b[0;32mreturn\u001b[0m \u001b[0msentiment\u001b[0m\u001b[0;34m[\u001b[0m\u001b[0;34m(\u001b[0m\u001b[0msentiment\u001b[0m\u001b[0;34m.\u001b[0m\u001b[0mdistrict_num\u001b[0m \u001b[0;34m==\u001b[0m \u001b[0mdistrict\u001b[0m\u001b[0;34m)\u001b[0m \u001b[0;34m&\u001b[0m \u001b[0;34m(\u001b[0m\u001b[0msentiment\u001b[0m\u001b[0;34m.\u001b[0m\u001b[0myear\u001b[0m \u001b[0;34m==\u001b[0m \u001b[0myear\u001b[0m\u001b[0;34m)\u001b[0m\u001b[0;34m]\u001b[0m\u001b[0;34m.\u001b[0m\u001b[0mweighted_sentiment\u001b[0m\u001b[0;34m.\u001b[0m\u001b[0mitem\u001b[0m\u001b[0;34m(\u001b[0m\u001b[0;34m)\u001b[0m\u001b[0;34m\u001b[0m\u001b[0;34m\u001b[0m\u001b[0m\n\u001b[0m",
      "\u001b[0;31mAttributeError\u001b[0m: 'float' object has no attribute 'district_num'"
     ]
    }
   ],
   "source": [
    "# Get all details \n",
    "district = get_postal_onemap(street, district_postal)\n",
    "coordinates = get_lat_long(street)\n",
    "latitude = coordinates[0]\n",
    "longitude = coordinates[1]\n",
    "school = num_schools(int(district))\n",
    "hawkercentre = num_hawker(int(district))\n",
    "supermarkets = num_supermarkets(int(district))\n",
    "bus_stops_nearby = num_of_bus_stops(latitude, longitude)\n",
    "crime_number = crime_num(int(district))\n",
    "score = sentiment_score(int(district), year)\n",
    "floor_range = replace_floors.get(floor_range)"
   ]
  },
  {
   "cell_type": "code",
   "execution_count": 126,
   "metadata": {},
   "outputs": [],
   "source": [
    "# Create temp dataframe to fit into model\n",
    "temp_column_names = ['district', 'street', 'propertyType', 'remaining_lease',\n",
    "                    'school', 'hawkercentre', 'supermarkets', 'Bus Stops Neaby',\n",
    "                    'crime_number', 'latitude', 'longitude', 'floor_area_sqm', 'floor_range',\n",
    "                    'sentiment']\n",
    "temp = pd.DataFrame(columns = temp_column_names)"
   ]
  },
  {
   "cell_type": "code",
   "execution_count": 130,
   "metadata": {},
   "outputs": [
    {
     "data": {
      "text/plain": [
       "0.08221698556073556"
      ]
     },
     "execution_count": 130,
     "metadata": {},
     "output_type": "execute_result"
    }
   ],
   "source": [
    "sentiment"
   ]
  },
  {
   "cell_type": "code",
   "execution_count": null,
   "metadata": {},
   "outputs": [],
   "source": []
  },
  {
   "cell_type": "code",
   "execution_count": 19,
   "metadata": {},
   "outputs": [
    {
     "data": {
      "text/plain": [
       "[1.3538177, 103.8376954]"
      ]
     },
     "execution_count": 19,
     "metadata": {},
     "output_type": "execute_result"
    }
   ],
   "source": [
    "# get lat and long \n",
    "get_lat_long(\"Jalan Khamis\")"
   ]
  },
  {
   "cell_type": "code",
   "execution_count": 37,
   "metadata": {},
   "outputs": [
    {
     "data": {
      "text/plain": [
       "0"
      ]
     },
     "execution_count": 37,
     "metadata": {},
     "output_type": "execute_result"
    }
   ],
   "source": [
    "# get num of nearby bus stops\n",
    "num_of_bus_stops(1.3538177,103.8376954)"
   ]
  },
  {
   "cell_type": "code",
   "execution_count": 118,
   "metadata": {},
   "outputs": [
    {
     "data": {
      "text/plain": [
       "37"
      ]
     },
     "execution_count": 118,
     "metadata": {},
     "output_type": "execute_result"
    }
   ],
   "source": [
    "district"
   ]
  },
  {
   "cell_type": "code",
   "execution_count": 89,
   "metadata": {},
   "outputs": [
    {
     "data": {
      "text/plain": [
       "35.42857142857143"
      ]
     },
     "execution_count": 89,
     "metadata": {},
     "output_type": "execute_result"
    }
   ],
   "source": [
    "crime(10)"
   ]
  },
  {
   "cell_type": "code",
   "execution_count": null,
   "metadata": {},
   "outputs": [],
   "source": []
  }
 ],
 "metadata": {
  "kernelspec": {
   "display_name": "Python 3",
   "language": "python",
   "name": "python3"
  },
  "language_info": {
   "codemirror_mode": {
    "name": "ipython",
    "version": 3
   },
   "file_extension": ".py",
   "mimetype": "text/x-python",
   "name": "python",
   "nbconvert_exporter": "python",
   "pygments_lexer": "ipython3",
   "version": "3.8.3"
  }
 },
 "nbformat": 4,
 "nbformat_minor": 4
}
