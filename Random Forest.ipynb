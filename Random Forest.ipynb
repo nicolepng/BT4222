{
 "cells": [
  {
   "cell_type": "markdown",
   "metadata": {},
   "source": [
    "### Import Libraries"
   ]
  },
  {
   "cell_type": "code",
   "execution_count": 72,
   "metadata": {},
   "outputs": [],
   "source": [
    "import matplotlib.pyplot as plt\n",
    "import numpy as np\n",
    "import pandas as pd\n",
    "from sklearn import tree, ensemble, model_selection, metrics\n",
    "from sklearn.ensemble import RandomForestRegressor\n",
    "from sklearn.metrics import mean_squared_error, mean_absolute_error, r2_score\n",
    "# from sklearn.model_selection import GridSearchCV\n",
    "from sklearn.model_selection import RandomizedSearchCV\n",
    "from sklearn.preprocessing import LabelEncoder"
   ]
  },
  {
   "cell_type": "markdown",
   "metadata": {},
   "source": [
    "### Import Datasets"
   ]
  },
  {
   "cell_type": "code",
   "execution_count": 82,
   "metadata": {},
   "outputs": [
    {
     "name": "stdout",
     "output_type": "stream",
     "text": [
      "Index(['district', 'street', 'propertyType', 'remaining_lease', 'school',\n",
      "       'hawkercentre', 'supermarkets', 'Bus Stops Nearby', 'crime_number',\n",
      "       'latitude', 'longitude', 'floor_area_sqm', 'floor_range', 'sentiment'],\n",
      "      dtype='object')\n",
      "Index(['district', 'street', 'propertyType', 'remaining_lease', 'school',\n",
      "       'hawkercentre', 'supermarkets', 'Bus Stops Nearby', 'crime_number',\n",
      "       'latitude', 'longitude', 'floor_area_sqm', 'floor_range', 'sentiment'],\n",
      "      dtype='object')\n",
      "Index(['price'], dtype='object')\n",
      "Index(['price'], dtype='object')\n"
     ]
    }
   ],
   "source": [
    "# features\n",
    "x_train = pd.read_csv('training_set.csv')\n",
    "x_test = pd.read_csv('testing_set.csv')\n",
    "\n",
    "# labels\n",
    "y_train = pd.read_csv('training_labels.csv')\n",
    "y_test = pd.read_csv('testing_labels.csv')\n",
    "\n",
    "print(x_train.columns)\n",
    "print(x_test.columns)\n",
    "print(y_train.columns)\n",
    "print(y_test.columns)"
   ]
  },
  {
   "cell_type": "code",
   "execution_count": 89,
   "metadata": {},
   "outputs": [],
   "source": [
    "# temporary until sentiment no longer has null values\n",
    "x_train['sentiment'] = x_train['sentiment'].fillna(0)\n",
    "x_test['sentiment'] = x_test['sentiment'].fillna(0)\n",
    "# x_train['sentiment'].isnull().values.any()"
   ]
  },
  {
   "cell_type": "code",
   "execution_count": 88,
   "metadata": {},
   "outputs": [
    {
     "data": {
      "text/html": [
       "<div>\n",
       "<style scoped>\n",
       "    .dataframe tbody tr th:only-of-type {\n",
       "        vertical-align: middle;\n",
       "    }\n",
       "\n",
       "    .dataframe tbody tr th {\n",
       "        vertical-align: top;\n",
       "    }\n",
       "\n",
       "    .dataframe thead th {\n",
       "        text-align: right;\n",
       "    }\n",
       "</style>\n",
       "<table border=\"1\" class=\"dataframe\">\n",
       "  <thead>\n",
       "    <tr style=\"text-align: right;\">\n",
       "      <th></th>\n",
       "      <th>district</th>\n",
       "      <th>street</th>\n",
       "      <th>propertyType</th>\n",
       "      <th>remaining_lease</th>\n",
       "      <th>school</th>\n",
       "      <th>hawkercentre</th>\n",
       "      <th>supermarkets</th>\n",
       "      <th>Bus Stops Nearby</th>\n",
       "      <th>crime_number</th>\n",
       "      <th>latitude</th>\n",
       "      <th>longitude</th>\n",
       "      <th>floor_area_sqm</th>\n",
       "      <th>floor_range</th>\n",
       "      <th>sentiment</th>\n",
       "    </tr>\n",
       "  </thead>\n",
       "  <tbody>\n",
       "    <tr>\n",
       "      <td>0</td>\n",
       "      <td>20</td>\n",
       "      <td>1487</td>\n",
       "      <td>8</td>\n",
       "      <td>-0.028291</td>\n",
       "      <td>37</td>\n",
       "      <td>11</td>\n",
       "      <td>2</td>\n",
       "      <td>1</td>\n",
       "      <td>122.714286</td>\n",
       "      <td>1.384051</td>\n",
       "      <td>103.900061</td>\n",
       "      <td>0.333809</td>\n",
       "      <td>1</td>\n",
       "      <td>0.056981</td>\n",
       "    </tr>\n",
       "    <tr>\n",
       "      <td>1</td>\n",
       "      <td>21</td>\n",
       "      <td>668</td>\n",
       "      <td>6</td>\n",
       "      <td>0.130119</td>\n",
       "      <td>40</td>\n",
       "      <td>1</td>\n",
       "      <td>2</td>\n",
       "      <td>0</td>\n",
       "      <td>-1.000000</td>\n",
       "      <td>1.358962</td>\n",
       "      <td>103.763673</td>\n",
       "      <td>-0.261162</td>\n",
       "      <td>2</td>\n",
       "      <td>NaN</td>\n",
       "    </tr>\n",
       "  </tbody>\n",
       "</table>\n",
       "</div>"
      ],
      "text/plain": [
       "   district  street  propertyType  remaining_lease  school  hawkercentre  \\\n",
       "0        20    1487             8        -0.028291      37            11   \n",
       "1        21     668             6         0.130119      40             1   \n",
       "\n",
       "   supermarkets  Bus Stops Nearby  crime_number  latitude   longitude  \\\n",
       "0             2                 1    122.714286  1.384051  103.900061   \n",
       "1             2                 0     -1.000000  1.358962  103.763673   \n",
       "\n",
       "   floor_area_sqm  floor_range  sentiment  \n",
       "0        0.333809            1   0.056981  \n",
       "1       -0.261162            2        NaN  "
      ]
     },
     "execution_count": 88,
     "metadata": {},
     "output_type": "execute_result"
    }
   ],
   "source": [
    "x_train.head(2)"
   ]
  },
  {
   "cell_type": "markdown",
   "metadata": {},
   "source": [
    "### Summary of Results\n",
    "*Goal: Low RMSE, Low MAE, R_squared close to 1*\n",
    "\n",
    "Decision Tree\n",
    "- (a) Basic Decision Tree with Default Parameters\n",
    "    - RMSE: 0.2806782357476952\n",
    "    - MAE: 0.04629039317307514\n",
    "    - R-Squared: 0.912337161235727\n",
    "- (b) Decision Tree using Best Estimators from Grid Search\n",
    "    - RMSE: 0.32020141166895727\n",
    "    - MAE: 0.07018170145875972\n",
    "    - R-Squared: 0.8859107990001199        \n",
    "    \n",
    "Random Forest\n",
    "- (a) Basic Random Forest with Default Parameters\n",
    "    - RMSE: 0.16367380664894712\n",
    "    - MAE: 0.04204705728830404\n",
    "    - R-Squared: 0.9701903813340523\n",
    "- (b) Random Forest using Best Estimators from Grid Search\n",
    "    - RMSE: 0.15622200217196733\n",
    "    - MAE: 0.040458029531220296\n",
    "    - R-Squared: 0.9728429586751479\n",
    "    \n",
    "Conclusions:\n",
    "1. Random Forest better performance\n",
    "2. For random forest, using Grid Search helped us in finding better estimators to improve the model slightly\n",
    "3. For decision tree, the model with default parameters surprisingly had better results (dk why?)"
   ]
  },
  {
   "cell_type": "markdown",
   "metadata": {},
   "source": [
    "### Decision Tree"
   ]
  },
  {
   "cell_type": "markdown",
   "metadata": {},
   "source": [
    "#### (a) Basic Decision Tree with Default Parameters"
   ]
  },
  {
   "cell_type": "code",
   "execution_count": 117,
   "metadata": {},
   "outputs": [
    {
     "name": "stdout",
     "output_type": "stream",
     "text": [
      "[ 0.03943235 -0.39462907 -0.30695848 ... -0.41731308 -0.39095059\n",
      " -0.3222855 ]\n",
      "RMSE: 0.2806782357476952\n",
      "MAE: 0.04629039317307514\n",
      "R-Squared: 0.912337161235727\n"
     ]
    }
   ],
   "source": [
    "# train model\n",
    "dt = tree.DecisionTreeRegressor()\n",
    "dt.fit(x_train,y_train)\n",
    "\n",
    "# make predictions on test set\n",
    "y_pred = dt.predict(x_test)\n",
    "print(y_pred)\n",
    "\n",
    "# compute metrics \n",
    "mse = mean_squared_error(y_test,y_pred)\n",
    "rmse = np.sqrt(mse) # scale back\n",
    "mae = mean_absolute_error(y_test,y_pred)\n",
    "r_squared = r2_score(y_test,y_pred)\n",
    "\n",
    "\n",
    "print('RMSE: {}'.format(rmse))\n",
    "print('MAE: {}'.format(mae))\n",
    "print('R-Squared: {}'.format(r_squared))"
   ]
  },
  {
   "cell_type": "markdown",
   "metadata": {},
   "source": [
    "#### (b) Decision Tree using Best Estimators from Grid Search"
   ]
  },
  {
   "cell_type": "code",
   "execution_count": 160,
   "metadata": {},
   "outputs": [
    {
     "name": "stdout",
     "output_type": "stream",
     "text": [
      "Fitting 3 folds for each of 16 candidates, totalling 48 fits\n"
     ]
    },
    {
     "name": "stderr",
     "output_type": "stream",
     "text": [
      "[Parallel(n_jobs=-1)]: Using backend LokyBackend with 4 concurrent workers.\n",
      "[Parallel(n_jobs=-1)]: Done  48 out of  48 | elapsed:    5.4s finished\n"
     ]
    },
    {
     "name": "stdout",
     "output_type": "stream",
     "text": [
      "best score: -0.12369633605268354\n",
      "best parameters:  {'max_leaf_nodes': 800, 'min_samples_split': 20}\n",
      "best estimators:  DecisionTreeRegressor(criterion='mse', max_depth=None, max_features=None,\n",
      "                      max_leaf_nodes=800, min_impurity_decrease=0.0,\n",
      "                      min_impurity_split=None, min_samples_leaf=1,\n",
      "                      min_samples_split=20, min_weight_fraction_leaf=0.0,\n",
      "                      presort=False, random_state=42, splitter='best')\n"
     ]
    }
   ],
   "source": [
    "params = {'max_leaf_nodes': [200,400,600,800], 'min_samples_split': [7,12,15,20]}\n",
    "gsearch_dt = GridSearchCV(tree.DecisionTreeRegressor(random_state=42), \n",
    "                          params, \n",
    "                          scoring = 'neg_mean_squared_error',\n",
    "                          verbose=1, \n",
    "                          cv=3, \n",
    "                          n_jobs=-1)\n",
    "gsearch_dt.fit(x_train, y_train)\n",
    "print('best score:', gsearch_dt.best_score_)\n",
    "print('best parameters: ', gsearch_dt.best_params_)\n",
    "print('best estimators: ', gsearch_dt.best_estimator_)"
   ]
  },
  {
   "cell_type": "code",
   "execution_count": 161,
   "metadata": {},
   "outputs": [
    {
     "name": "stdout",
     "output_type": "stream",
     "text": [
      "[ 0.13546561 -0.39172244 -0.26942208 ... -0.41950762 -0.33568281\n",
      " -0.2747952 ]\n",
      "RMSE: 0.32020141166895727\n",
      "MAE: 0.07018170145875972\n",
      "R-Squared: 0.8859107990001199\n"
     ]
    }
   ],
   "source": [
    "# make predictions on test set\n",
    "y_pred = gsearch_dt.predict(x_test)\n",
    "print(y_pred)\n",
    "\n",
    "# compute metrics \n",
    "mse = mean_squared_error(y_test,y_pred)\n",
    "rmse = np.sqrt(mse) # scale back\n",
    "mae = mean_absolute_error(y_test,y_pred)\n",
    "r_squared = r2_score(y_test,y_pred)\n",
    "\n",
    "\n",
    "print('RMSE: {}'.format(rmse))\n",
    "print('MAE: {}'.format(mae))\n",
    "print('R-Squared: {}'.format(r_squared))\n",
    "\n",
    "# RMSE: 0.3219627489519811\n",
    "# MAE: 0.07401432473228167\n",
    "# R-Squared: 0.8846522021339777"
   ]
  },
  {
   "cell_type": "markdown",
   "metadata": {},
   "source": [
    "### Random Forest"
   ]
  },
  {
   "cell_type": "markdown",
   "metadata": {},
   "source": [
    "#### (a) Basic Random Forest with Default Parameters"
   ]
  },
  {
   "cell_type": "code",
   "execution_count": 105,
   "metadata": {},
   "outputs": [
    {
     "name": "stderr",
     "output_type": "stream",
     "text": [
      "/Users/tohjiaxuan/opt/anaconda3/lib/python3.7/site-packages/sklearn/ensemble/forest.py:245: FutureWarning: The default value of n_estimators will change from 10 in version 0.20 to 100 in 0.22.\n",
      "  \"10 in version 0.20 to 100 in 0.22.\", FutureWarning)\n",
      "/Users/tohjiaxuan/opt/anaconda3/lib/python3.7/site-packages/ipykernel_launcher.py:3: DataConversionWarning: A column-vector y was passed when a 1d array was expected. Please change the shape of y to (n_samples,), for example using ravel().\n",
      "  This is separate from the ipykernel package so we can avoid doing imports until\n"
     ]
    },
    {
     "name": "stdout",
     "output_type": "stream",
     "text": [
      "[ 0.03640324 -0.40529669 -0.29708787 ... -0.41139684 -0.36526249\n",
      " -0.32182569]\n",
      "RMSE: 0.16367380664894712\n",
      "MAE: 0.04204705728830404\n",
      "R-Squared: 0.9701903813340523\n"
     ]
    }
   ],
   "source": [
    "# train model\n",
    "rforest = ensemble.RandomForestRegressor()\n",
    "rforest.fit(x_train,y_train)\n",
    "\n",
    "# make predictions on test set\n",
    "y_pred = rforest.predict(x_test)\n",
    "print(y_pred)\n",
    "\n",
    "# compute metrics \n",
    "mse = mean_squared_error(y_test,y_pred)\n",
    "rmse = np.sqrt(mse) # scale back\n",
    "mae = mean_absolute_error(y_test,y_pred)\n",
    "r_squared = r2_score(y_test,y_pred)\n",
    "\n",
    "\n",
    "print('RMSE: {}'.format(rmse))\n",
    "print('MAE: {}'.format(mae))\n",
    "print('R-Squared: {}'.format(r_squared))"
   ]
  },
  {
   "cell_type": "markdown",
   "metadata": {},
   "source": [
    "#### (b) Random Forest using Best Estimators from Grid Search"
   ]
  },
  {
   "cell_type": "code",
   "execution_count": 103,
   "metadata": {},
   "outputs": [
    {
     "name": "stdout",
     "output_type": "stream",
     "text": [
      "Fitting 3 folds for each of 4 candidates, totalling 12 fits\n"
     ]
    },
    {
     "name": "stderr",
     "output_type": "stream",
     "text": [
      "[Parallel(n_jobs=-1)]: Using backend LokyBackend with 4 concurrent workers.\n",
      "[Parallel(n_jobs=-1)]: Done  12 out of  12 | elapsed:  2.9min finished\n",
      "/Users/tohjiaxuan/opt/anaconda3/lib/python3.7/site-packages/sklearn/model_selection/_search.py:715: DataConversionWarning: A column-vector y was passed when a 1d array was expected. Please change the shape of y to (n_samples,), for example using ravel().\n",
      "  self.best_estimator_.fit(X, y, **fit_params)\n"
     ]
    },
    {
     "name": "stdout",
     "output_type": "stream",
     "text": [
      "best score: -0.0944694264782742\n",
      "best parameters:  {'n_estimators': 100}\n",
      "best estimators:  RandomForestRegressor(bootstrap=True, criterion='mse', max_depth=None,\n",
      "                      max_features='auto', max_leaf_nodes=None,\n",
      "                      min_impurity_decrease=0.0, min_impurity_split=None,\n",
      "                      min_samples_leaf=1, min_samples_split=2,\n",
      "                      min_weight_fraction_leaf=0.0, n_estimators=100,\n",
      "                      n_jobs=None, oob_score=False, random_state=42, verbose=0,\n",
      "                      warm_start=False)\n"
     ]
    }
   ],
   "source": [
    "params = {'n_estimators': [10,50,100,150]}\n",
    "grid_search_cv = GridSearchCV(ensemble.RandomForestRegressor(random_state=42), \n",
    "                              params, \n",
    "                              scoring = 'neg_mean_squared_error', \n",
    "                              verbose=1, \n",
    "                              cv=3,\n",
    "                              n_jobs = -1)\n",
    "grid_search_cv.fit(x_train, y_train)\n",
    "print('best score:', grid_search_cv.best_score_)\n",
    "print('best parameters: ', grid_search_cv.best_params_)\n",
    "print('best estimators: ', grid_search_cv.best_estimator_)"
   ]
  },
  {
   "cell_type": "code",
   "execution_count": 104,
   "metadata": {},
   "outputs": [
    {
     "name": "stdout",
     "output_type": "stream",
     "text": [
      "[ 0.0389028  -0.40613798 -0.29271456 ... -0.41608578 -0.36667258\n",
      " -0.32493317]\n",
      "RMSE: 0.15622200217196733\n",
      "MAE: 0.040458029531220296\n",
      "R-Squared: 0.9728429586751479\n"
     ]
    }
   ],
   "source": [
    "# make predictions on test set\n",
    "y_pred = grid_search_cv.predict(x_test)\n",
    "print(y_pred)\n",
    "\n",
    "# compute metrics \n",
    "mse = mean_squared_error(y_test,y_pred)\n",
    "rmse = np.sqrt(mse) # scale back\n",
    "mae = mean_absolute_error(y_test,y_pred)\n",
    "r_squared = r2_score(y_test,y_pred)\n",
    "\n",
    "\n",
    "print('RMSE: {}'.format(rmse))\n",
    "print('MAE: {}'.format(mae))\n",
    "print('R-Squared: {}'.format(r_squared))"
   ]
  }
 ],
 "metadata": {
  "kernelspec": {
   "display_name": "Python 3",
   "language": "python",
   "name": "python3"
  }
 },
 "nbformat": 4,
 "nbformat_minor": 2
}
