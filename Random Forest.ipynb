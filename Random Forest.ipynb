{
 "cells": [
  {
   "cell_type": "markdown",
   "metadata": {},
   "source": [
    "### Import libraries"
   ]
  },
  {
   "cell_type": "code",
   "execution_count": 1,
   "metadata": {},
   "outputs": [],
   "source": [
    "import matplotlib.pyplot as plt\n",
    "import numpy as np\n",
    "import pandas as pd\n",
    "from sklearn import tree, ensemble, model_selection, metrics\n",
    "from sklearn.ensemble import RandomForestRegressor\n",
    "from sklearn.metrics import mean_squared_error, r2_score"
   ]
  },
  {
   "cell_type": "markdown",
   "metadata": {},
   "source": [
    "### Import data"
   ]
  },
  {
   "cell_type": "code",
   "execution_count": 2,
   "metadata": {},
   "outputs": [
    {
     "data": {
      "text/plain": [
       "Index(['district', 'street', 'propertyType', 'remaining_lease', 'price',\n",
       "       'school', 'hawkercentre', 'supermarkets', 'Bus Stops Nearby',\n",
       "       'crime_number', 'latitude', 'longitude', 'floor_area_sqm',\n",
       "       'floor_range', 'sentiment'],\n",
       "      dtype='object')"
      ]
     },
     "execution_count": 2,
     "metadata": {},
     "output_type": "execute_result"
    }
   ],
   "source": [
    "# df = pd.read_csv('/Users/tohjiaxuan/Desktop/AY20:21 Y3S2/BT4222/Project/FINAL PROJECT/combined.csv')\n",
    "# df.head()\n",
    "\n",
    "df = pd.read_csv('combined.csv')\n",
    "df.head()\n",
    "df.columns"
   ]
  },
  {
   "cell_type": "code",
   "execution_count": 3,
   "metadata": {},
   "outputs": [],
   "source": [
    "# scale price\n",
    "df['price'] = df['price'] / 100000 # scale price"
   ]
  },
  {
   "cell_type": "code",
   "execution_count": 7,
   "metadata": {},
   "outputs": [],
   "source": [
    "# replace na values in column 'crime_number' with -1\n",
    "df['crime_number'] = df['crime_number'].fillna(-1)\n",
    "df['sentiment'] = df['sentiment'].fillna(0)"
   ]
  },
  {
   "cell_type": "markdown",
   "metadata": {},
   "source": [
    "### Version 1: Using ALL variables as features\n",
    "- ['district', 'street', 'propertyType', 'remaining_lease', 'price','school', 'hawkercentre', 'supermarkets', 'Bus Stops Nearby','crime_number', 'latitude', 'longitude', 'floor_area_sqm','floor_range','sentiment']"
   ]
  },
  {
   "cell_type": "markdown",
   "metadata": {},
   "source": [
    "#### (a) One-Hot Encoding"
   ]
  },
  {
   "cell_type": "code",
   "execution_count": 8,
   "metadata": {},
   "outputs": [],
   "source": [
    "features = df.loc[:, df.columns != 'price']\n",
    "x = pd.get_dummies(features)\n",
    "y = df['price']\n",
    "\n",
    "x_train, x_test, y_train, y_test = model_selection.train_test_split(x, y, test_size=0.2, random_state=2019)"
   ]
  },
  {
   "cell_type": "markdown",
   "metadata": {},
   "source": [
    "#### (b) Decision Tree Regressor"
   ]
  },
  {
   "cell_type": "code",
   "execution_count": 9,
   "metadata": {},
   "outputs": [
    {
     "name": "stdout",
     "output_type": "stream",
     "text": [
      "[ 4.4    4.88  33.    ...  3.    21.544  4.6  ]\n",
      "RMSE: 400191.1336473157\n",
      "R-Squared: 0.9363929910719793\n"
     ]
    }
   ],
   "source": [
    "# train model\n",
    "dt = tree.DecisionTreeRegressor()\n",
    "dt.fit(x_train,y_train)\n",
    "\n",
    "# make predictions on test set\n",
    "y_pred = dt.predict(x_test)\n",
    "print(y_pred)\n",
    "\n",
    "# compute metrics \n",
    "mse = mean_squared_error(y_test,y_pred)\n",
    "rmse = np.sqrt(mse)*100000 # scale back\n",
    "r_squared = r2_score(y_test,y_pred)\n",
    "\n",
    "\n",
    "print('RMSE: {}'.format(rmse))\n",
    "print('R-Squared: {}'.format(r_squared))"
   ]
  },
  {
   "cell_type": "markdown",
   "metadata": {},
   "source": [
    "#### (c) Random Forest Regressor"
   ]
  },
  {
   "cell_type": "code",
   "execution_count": 24,
   "metadata": {},
   "outputs": [
    {
     "name": "stdout",
     "output_type": "stream",
     "text": [
      "[ 4.39130203  4.9044     26.77847167 ...  2.96226667 19.683616\n",
      "  4.5270386 ]\n",
      "RMSE: 323792.58764054347\n",
      "R-Squared: 0.9583606584066989\n"
     ]
    }
   ],
   "source": [
    "# train model\n",
    "# max_features=1? from lecture \n",
    "rforest = ensemble.RandomForestRegressor(n_estimators = 100, oob_score = True, random_state = 2019)\n",
    "rforest.fit(x_train, y_train)\n",
    "\n",
    "# make predictions on test set\n",
    "y_pred = rforest.predict(x_test)\n",
    "print(y_pred)\n",
    "\n",
    "# compute metrics \n",
    "mse = mean_squared_error(y_test,y_pred)\n",
    "rmse = np.sqrt(mse)*100000 # scale back\n",
    "r_squared = r2_score(y_test,y_pred)\n",
    "\n",
    "\n",
    "print('RMSE: {}'.format(rmse))\n",
    "print('R-Squared: {}'.format(r_squared))"
   ]
  },
  {
   "cell_type": "code",
   "execution_count": 27,
   "metadata": {},
   "outputs": [
    {
     "name": "stdout",
     "output_type": "stream",
     "text": [
      "[ 4.47224267  4.9724     31.80016143 ...  2.9497328  18.1793328\n",
      "  4.5428    ]\n",
      "RMSE: 464593.0618490013\n",
      "R-Squared: 0.9142734219387728\n"
     ]
    }
   ],
   "source": [
    "# train model\n",
    "rforest = ensemble.RandomForestRegressor(n_estimators = 50, max_features = 1, oob_score = True, random_state = 2019)\n",
    "rforest.fit(x_train, y_train)\n",
    "\n",
    "# make predictions on test set\n",
    "y_pred = rforest.predict(x_test)\n",
    "print(y_pred)\n",
    "\n",
    "# compute metrics \n",
    "mse = mean_squared_error(y_test,y_pred)\n",
    "rmse = np.sqrt(mse)*100000 # scale back\n",
    "r_squared = r2_score(y_test,y_pred)\n",
    "\n",
    "\n",
    "print('RMSE: {}'.format(rmse))\n",
    "print('R-Squared: {}'.format(r_squared))"
   ]
  },
  {
   "cell_type": "markdown",
   "metadata": {},
   "source": [
    "#### Best Performance of Version 1"
   ]
  },
  {
   "cell_type": "code",
   "execution_count": 10,
   "metadata": {},
   "outputs": [
    {
     "name": "stdout",
     "output_type": "stream",
     "text": [
      "[ 4.38421333  4.8928     27.88497333 ...  2.96183333 19.7380592\n",
      "  4.5484    ]\n",
      "RMSE: 315879.81362467987\n",
      "R-Squared: 0.9603709378184906\n"
     ]
    }
   ],
   "source": [
    "# train model\n",
    "rforest = ensemble.RandomForestRegressor(n_estimators = 50, oob_score = True, random_state = 2019)\n",
    "rforest.fit(x_train, y_train)\n",
    "\n",
    "# make predictions on test set\n",
    "y_pred = rforest.predict(x_test)\n",
    "print(y_pred)\n",
    "\n",
    "# compute metrics \n",
    "mse = mean_squared_error(y_test,y_pred)\n",
    "rmse = np.sqrt(mse)*100000 # scale back\n",
    "r_squared = r2_score(y_test,y_pred)\n",
    "\n",
    "\n",
    "print('RMSE: {}'.format(rmse))\n",
    "print('R-Squared: {}'.format(r_squared))"
   ]
  },
  {
   "cell_type": "code",
   "execution_count": 11,
   "metadata": {},
   "outputs": [
    {
     "name": "stderr",
     "output_type": "stream",
     "text": [
      "/Users/tohjiaxuan/opt/anaconda3/lib/python3.7/site-packages/sklearn/ensemble/forest.py:737: UserWarning: Some inputs do not have OOB scores. This probably means too few trees were used to compute any reliable oob estimates.\n",
      "  warn(\"Some inputs do not have OOB scores. \"\n"
     ]
    },
    {
     "name": "stdout",
     "output_type": "stream",
     "text": [
      "[ 4.377       4.904      26.59353333 ...  2.96166667 19.790888\n",
      "  4.6       ]\n",
      "RMSE: 315905.56007362035\n",
      "R-Squared: 0.9603644774550032\n"
     ]
    }
   ],
   "source": [
    "rforest = ensemble.RandomForestRegressor(n_estimators = 10, oob_score = True, random_state = 2019)\n",
    "rforest.fit(x_train, y_train)\n",
    "\n",
    "# make predictions on test set\n",
    "y_pred = rforest.predict(x_test)\n",
    "print(y_pred)\n",
    "\n",
    "# compute metrics \n",
    "mse = mean_squared_error(y_test,y_pred)\n",
    "rmse = np.sqrt(mse)*100000 # scale back\n",
    "r_squared = r2_score(y_test,y_pred)\n",
    "\n",
    "\n",
    "print('RMSE: {}'.format(rmse))\n",
    "print('R-Squared: {}'.format(r_squared))"
   ]
  },
  {
   "cell_type": "markdown",
   "metadata": {},
   "source": [
    "### Version 2: Keep important variables, drop the rest\n",
    "- drop street, remaining lease, hawker centre and crime number\n",
    "- ['district', 'propertyType', 'price', 'school', 'supermarkets','Bus Stops Nearby', 'latitude', 'longitude', 'floor_area_sqm','floor_range','sentiment']"
   ]
  },
  {
   "cell_type": "code",
   "execution_count": 12,
   "metadata": {},
   "outputs": [
    {
     "data": {
      "text/html": [
       "<div>\n",
       "<style scoped>\n",
       "    .dataframe tbody tr th:only-of-type {\n",
       "        vertical-align: middle;\n",
       "    }\n",
       "\n",
       "    .dataframe tbody tr th {\n",
       "        vertical-align: top;\n",
       "    }\n",
       "\n",
       "    .dataframe thead th {\n",
       "        text-align: right;\n",
       "    }\n",
       "</style>\n",
       "<table border=\"1\" class=\"dataframe\">\n",
       "  <thead>\n",
       "    <tr style=\"text-align: right;\">\n",
       "      <th></th>\n",
       "      <th>district</th>\n",
       "      <th>propertyType</th>\n",
       "      <th>price</th>\n",
       "      <th>school</th>\n",
       "      <th>supermarkets</th>\n",
       "      <th>Bus Stops Nearby</th>\n",
       "      <th>latitude</th>\n",
       "      <th>longitude</th>\n",
       "      <th>floor_area_sqm</th>\n",
       "      <th>floor_range</th>\n",
       "      <th>sentiment</th>\n",
       "    </tr>\n",
       "  </thead>\n",
       "  <tbody>\n",
       "    <tr>\n",
       "      <td>0</td>\n",
       "      <td>5</td>\n",
       "      <td>Semi-detached</td>\n",
       "      <td>55.0</td>\n",
       "      <td>['HILLGROVE SECONDARY SCHOOL', 'QUEENSTOWN SEC...</td>\n",
       "      <td>['NTUC FAIRPRICE CO-OPERATIVE LTD', 'COLD STOR...</td>\n",
       "      <td>0</td>\n",
       "      <td>1.282130</td>\n",
       "      <td>103.786879</td>\n",
       "      <td>524.3</td>\n",
       "      <td>-</td>\n",
       "      <td>0.129813</td>\n",
       "    </tr>\n",
       "    <tr>\n",
       "      <td>1</td>\n",
       "      <td>5</td>\n",
       "      <td>Semi-detached</td>\n",
       "      <td>50.0</td>\n",
       "      <td>['HILLGROVE SECONDARY SCHOOL', 'QUEENSTOWN SEC...</td>\n",
       "      <td>['NTUC FAIRPRICE CO-OPERATIVE LTD', 'COLD STOR...</td>\n",
       "      <td>0</td>\n",
       "      <td>1.282130</td>\n",
       "      <td>103.786879</td>\n",
       "      <td>308.0</td>\n",
       "      <td>-</td>\n",
       "      <td>0.064396</td>\n",
       "    </tr>\n",
       "    <tr>\n",
       "      <td>2</td>\n",
       "      <td>5</td>\n",
       "      <td>Semi-detached</td>\n",
       "      <td>47.5</td>\n",
       "      <td>['HILLGROVE SECONDARY SCHOOL', 'QUEENSTOWN SEC...</td>\n",
       "      <td>['NTUC FAIRPRICE CO-OPERATIVE LTD', 'COLD STOR...</td>\n",
       "      <td>0</td>\n",
       "      <td>1.282130</td>\n",
       "      <td>103.786879</td>\n",
       "      <td>314.0</td>\n",
       "      <td>-</td>\n",
       "      <td>0.064396</td>\n",
       "    </tr>\n",
       "    <tr>\n",
       "      <td>3</td>\n",
       "      <td>5</td>\n",
       "      <td>Terrace</td>\n",
       "      <td>26.3</td>\n",
       "      <td>['HILLGROVE SECONDARY SCHOOL', 'QUEENSTOWN SEC...</td>\n",
       "      <td>['NTUC FAIRPRICE CO-OPERATIVE LTD', 'COLD STOR...</td>\n",
       "      <td>2</td>\n",
       "      <td>1.292047</td>\n",
       "      <td>103.768591</td>\n",
       "      <td>159.3</td>\n",
       "      <td>-</td>\n",
       "      <td>0.129813</td>\n",
       "    </tr>\n",
       "    <tr>\n",
       "      <td>4</td>\n",
       "      <td>4</td>\n",
       "      <td>Condominium</td>\n",
       "      <td>28.0</td>\n",
       "      <td>['FAIRFIELD METHODIST SCHOOL (SECONDARY)', 'QU...</td>\n",
       "      <td>['NTUC FAIRPRICE CO-OPERATIVE LTD', 'THE QUALI...</td>\n",
       "      <td>0</td>\n",
       "      <td>1.244208</td>\n",
       "      <td>103.827487</td>\n",
       "      <td>223.0</td>\n",
       "      <td>01-05</td>\n",
       "      <td>0.074654</td>\n",
       "    </tr>\n",
       "  </tbody>\n",
       "</table>\n",
       "</div>"
      ],
      "text/plain": [
       "   district   propertyType  price  \\\n",
       "0         5  Semi-detached   55.0   \n",
       "1         5  Semi-detached   50.0   \n",
       "2         5  Semi-detached   47.5   \n",
       "3         5        Terrace   26.3   \n",
       "4         4    Condominium   28.0   \n",
       "\n",
       "                                              school  \\\n",
       "0  ['HILLGROVE SECONDARY SCHOOL', 'QUEENSTOWN SEC...   \n",
       "1  ['HILLGROVE SECONDARY SCHOOL', 'QUEENSTOWN SEC...   \n",
       "2  ['HILLGROVE SECONDARY SCHOOL', 'QUEENSTOWN SEC...   \n",
       "3  ['HILLGROVE SECONDARY SCHOOL', 'QUEENSTOWN SEC...   \n",
       "4  ['FAIRFIELD METHODIST SCHOOL (SECONDARY)', 'QU...   \n",
       "\n",
       "                                        supermarkets  Bus Stops Nearby  \\\n",
       "0  ['NTUC FAIRPRICE CO-OPERATIVE LTD', 'COLD STOR...                 0   \n",
       "1  ['NTUC FAIRPRICE CO-OPERATIVE LTD', 'COLD STOR...                 0   \n",
       "2  ['NTUC FAIRPRICE CO-OPERATIVE LTD', 'COLD STOR...                 0   \n",
       "3  ['NTUC FAIRPRICE CO-OPERATIVE LTD', 'COLD STOR...                 2   \n",
       "4  ['NTUC FAIRPRICE CO-OPERATIVE LTD', 'THE QUALI...                 0   \n",
       "\n",
       "   latitude   longitude  floor_area_sqm floor_range  sentiment  \n",
       "0  1.282130  103.786879           524.3           -   0.129813  \n",
       "1  1.282130  103.786879           308.0           -   0.064396  \n",
       "2  1.282130  103.786879           314.0           -   0.064396  \n",
       "3  1.292047  103.768591           159.3           -   0.129813  \n",
       "4  1.244208  103.827487           223.0       01-05   0.074654  "
      ]
     },
     "execution_count": 12,
     "metadata": {},
     "output_type": "execute_result"
    }
   ],
   "source": [
    "df_v2 = df.drop(columns=['street','remaining_lease','hawkercentre','crime_number'])\n",
    "df_v2.head()"
   ]
  },
  {
   "cell_type": "code",
   "execution_count": 13,
   "metadata": {},
   "outputs": [
    {
     "data": {
      "text/plain": [
       "Index(['district', 'propertyType', 'price', 'school', 'supermarkets',\n",
       "       'Bus Stops Nearby', 'latitude', 'longitude', 'floor_area_sqm',\n",
       "       'floor_range', 'sentiment'],\n",
       "      dtype='object')"
      ]
     },
     "execution_count": 13,
     "metadata": {},
     "output_type": "execute_result"
    }
   ],
   "source": [
    "df_v2.columns"
   ]
  },
  {
   "cell_type": "markdown",
   "metadata": {},
   "source": [
    "#### (a) One-Hot Encoding"
   ]
  },
  {
   "cell_type": "code",
   "execution_count": 14,
   "metadata": {},
   "outputs": [],
   "source": [
    "features2 = df_v2.loc[:, df_v2.columns != 'price']\n",
    "x2 = pd.get_dummies(features2)\n",
    "y2 = df_v2['price']\n",
    "\n",
    "x2_train, x2_test, y2_train, y2_test = model_selection.train_test_split(x2, y2, test_size=0.2, random_state=2019)"
   ]
  },
  {
   "cell_type": "markdown",
   "metadata": {},
   "source": [
    "#### (b) Decision Tree Regressor"
   ]
  },
  {
   "cell_type": "code",
   "execution_count": 15,
   "metadata": {},
   "outputs": [
    {
     "name": "stdout",
     "output_type": "stream",
     "text": [
      "[ 4.38        4.79       45.765      ...  2.99296    21.544\n",
      "  4.93251368]\n",
      "RMSE: 679435.8762341171\n",
      "R-Squared: 0.8166558746205472\n"
     ]
    }
   ],
   "source": [
    "# train model\n",
    "dt2 = tree.DecisionTreeRegressor()\n",
    "dt2.fit(x2_train,y2_train)\n",
    "\n",
    "# make predictions on test set\n",
    "y2_pred = dt2.predict(x2_test)\n",
    "print(y2_pred)\n",
    "\n",
    "# compute metrics \n",
    "mse = mean_squared_error(y2_test,y2_pred)\n",
    "rmse = np.sqrt(mse)*100000 # scale back\n",
    "r_squared = r2_score(y2_test,y2_pred)\n",
    "\n",
    "\n",
    "print('RMSE: {}'.format(rmse))\n",
    "print('R-Squared: {}'.format(r_squared))"
   ]
  },
  {
   "cell_type": "markdown",
   "metadata": {},
   "source": [
    "#### (c) Random Forest Regressor"
   ]
  },
  {
   "cell_type": "code",
   "execution_count": 25,
   "metadata": {},
   "outputs": [
    {
     "name": "stdout",
     "output_type": "stream",
     "text": [
      "[ 4.34542684  4.82392    43.73329722 ...  2.98915666 19.8719988\n",
      "  4.9384801 ]\n",
      "MSE: 348566.0376505628\n",
      "R-Squared: 0.9517452368978099\n"
     ]
    }
   ],
   "source": [
    "# train model\n",
    "rforest2 = ensemble.RandomForestRegressor(n_estimators = 100, oob_score = True, random_state = 2019)\n",
    "rforest2.fit(x2_train, y2_train)\n",
    "\n",
    "# make predictions on test set\n",
    "y2_pred = rforest2.predict(x2_test)\n",
    "print(y2_pred)\n",
    "\n",
    "# compute metrics \n",
    "mse = mean_squared_error(y2_test,y2_pred)\n",
    "rmse = np.sqrt(mse)*100000 # scale back\n",
    "r_squared = r2_score(y2_test,y2_pred)\n",
    "\n",
    "\n",
    "print('RMSE: {}'.format(rmse))\n",
    "print('R-Squared: {}'.format(r_squared))"
   ]
  },
  {
   "cell_type": "code",
   "execution_count": 28,
   "metadata": {},
   "outputs": [
    {
     "name": "stdout",
     "output_type": "stream",
     "text": [
      "[ 4.47558888  4.7937632  36.04833476 ...  2.99847337 17.7379088\n",
      "  4.95928658]\n",
      "MSE: 411809.8891707914\n",
      "R-Squared: 0.9326459691099857\n"
     ]
    }
   ],
   "source": [
    "# train model\n",
    "rforest2 = ensemble.RandomForestRegressor(n_estimators = 50, max_features = 1, oob_score = True, random_state = 2019)\n",
    "rforest2.fit(x2_train, y2_train)\n",
    "\n",
    "# make predictions on test set\n",
    "y2_pred = rforest2.predict(x2_test)\n",
    "print(y2_pred)\n",
    "\n",
    "# compute metrics \n",
    "mse = mean_squared_error(y2_test,y2_pred)\n",
    "rmse = np.sqrt(mse)*100000 # scale back\n",
    "r_squared = r2_score(y2_test,y2_pred)\n",
    "\n",
    "\n",
    "print('RMSE: {}'.format(rmse))\n",
    "print('R-Squared: {}'.format(r_squared))"
   ]
  },
  {
   "cell_type": "markdown",
   "metadata": {},
   "source": [
    "#### Best Performance of Version 2"
   ]
  },
  {
   "cell_type": "code",
   "execution_count": 18,
   "metadata": {},
   "outputs": [
    {
     "name": "stdout",
     "output_type": "stream",
     "text": [
      "[ 4.34330118  4.83344    43.04468111 ...  2.99367337 19.8255376\n",
      "  4.95928658]\n",
      "MSE: 343927.83448579506\n",
      "R-Squared: 0.9530208992871184\n"
     ]
    }
   ],
   "source": [
    "# train model\n",
    "rforest2 = ensemble.RandomForestRegressor(n_estimators = 50, oob_score = True, random_state = 2019)\n",
    "rforest2.fit(x2_train, y2_train)\n",
    "\n",
    "# make predictions on test set\n",
    "y2_pred = rforest2.predict(x2_test)\n",
    "print(y2_pred)\n",
    "\n",
    "# compute metrics \n",
    "mse = mean_squared_error(y2_test,y2_pred)\n",
    "rmse = np.sqrt(mse)*100000 # scale back\n",
    "r_squared = r2_score(y2_test,y2_pred)\n",
    "\n",
    "\n",
    "print('RMSE: {}'.format(rmse))\n",
    "print('R-Squared: {}'.format(r_squared))"
   ]
  },
  {
   "cell_type": "markdown",
   "metadata": {},
   "source": [
    "### Version 3: Variables Vicki used\n",
    "- ['district', 'propertyType', 'remaining_lease', 'price', 'school','hawkercentre', 'supermarkets', 'Bus Stops Nearby', 'crime_number','latitude', 'longitude', 'floor_area_sqm', 'floor_range']"
   ]
  },
  {
   "cell_type": "code",
   "execution_count": 19,
   "metadata": {},
   "outputs": [
    {
     "data": {
      "text/html": [
       "<div>\n",
       "<style scoped>\n",
       "    .dataframe tbody tr th:only-of-type {\n",
       "        vertical-align: middle;\n",
       "    }\n",
       "\n",
       "    .dataframe tbody tr th {\n",
       "        vertical-align: top;\n",
       "    }\n",
       "\n",
       "    .dataframe thead th {\n",
       "        text-align: right;\n",
       "    }\n",
       "</style>\n",
       "<table border=\"1\" class=\"dataframe\">\n",
       "  <thead>\n",
       "    <tr style=\"text-align: right;\">\n",
       "      <th></th>\n",
       "      <th>district</th>\n",
       "      <th>propertyType</th>\n",
       "      <th>remaining_lease</th>\n",
       "      <th>price</th>\n",
       "      <th>school</th>\n",
       "      <th>hawkercentre</th>\n",
       "      <th>supermarkets</th>\n",
       "      <th>Bus Stops Nearby</th>\n",
       "      <th>crime_number</th>\n",
       "      <th>latitude</th>\n",
       "      <th>longitude</th>\n",
       "      <th>floor_area_sqm</th>\n",
       "      <th>floor_range</th>\n",
       "    </tr>\n",
       "  </thead>\n",
       "  <tbody>\n",
       "    <tr>\n",
       "      <td>0</td>\n",
       "      <td>5</td>\n",
       "      <td>Semi-detached</td>\n",
       "      <td>999.00</td>\n",
       "      <td>55.0</td>\n",
       "      <td>['HILLGROVE SECONDARY SCHOOL', 'QUEENSTOWN SEC...</td>\n",
       "      <td>['Pasir Panjang Food Centre', 'Clementi West S...</td>\n",
       "      <td>['NTUC FAIRPRICE CO-OPERATIVE LTD', 'COLD STOR...</td>\n",
       "      <td>0</td>\n",
       "      <td>-1.0</td>\n",
       "      <td>1.282130</td>\n",
       "      <td>103.786879</td>\n",
       "      <td>524.3</td>\n",
       "      <td>-</td>\n",
       "    </tr>\n",
       "    <tr>\n",
       "      <td>1</td>\n",
       "      <td>5</td>\n",
       "      <td>Semi-detached</td>\n",
       "      <td>999.00</td>\n",
       "      <td>50.0</td>\n",
       "      <td>['HILLGROVE SECONDARY SCHOOL', 'QUEENSTOWN SEC...</td>\n",
       "      <td>['Pasir Panjang Food Centre', 'Clementi West S...</td>\n",
       "      <td>['NTUC FAIRPRICE CO-OPERATIVE LTD', 'COLD STOR...</td>\n",
       "      <td>0</td>\n",
       "      <td>-1.0</td>\n",
       "      <td>1.282130</td>\n",
       "      <td>103.786879</td>\n",
       "      <td>308.0</td>\n",
       "      <td>-</td>\n",
       "    </tr>\n",
       "    <tr>\n",
       "      <td>2</td>\n",
       "      <td>5</td>\n",
       "      <td>Semi-detached</td>\n",
       "      <td>999.00</td>\n",
       "      <td>47.5</td>\n",
       "      <td>['HILLGROVE SECONDARY SCHOOL', 'QUEENSTOWN SEC...</td>\n",
       "      <td>['Pasir Panjang Food Centre', 'Clementi West S...</td>\n",
       "      <td>['NTUC FAIRPRICE CO-OPERATIVE LTD', 'COLD STOR...</td>\n",
       "      <td>0</td>\n",
       "      <td>-1.0</td>\n",
       "      <td>1.282130</td>\n",
       "      <td>103.786879</td>\n",
       "      <td>314.0</td>\n",
       "      <td>-</td>\n",
       "    </tr>\n",
       "    <tr>\n",
       "      <td>3</td>\n",
       "      <td>5</td>\n",
       "      <td>Terrace</td>\n",
       "      <td>999.00</td>\n",
       "      <td>26.3</td>\n",
       "      <td>['HILLGROVE SECONDARY SCHOOL', 'QUEENSTOWN SEC...</td>\n",
       "      <td>['Pasir Panjang Food Centre', 'Clementi West S...</td>\n",
       "      <td>['NTUC FAIRPRICE CO-OPERATIVE LTD', 'COLD STOR...</td>\n",
       "      <td>2</td>\n",
       "      <td>-1.0</td>\n",
       "      <td>1.292047</td>\n",
       "      <td>103.768591</td>\n",
       "      <td>159.3</td>\n",
       "      <td>-</td>\n",
       "    </tr>\n",
       "    <tr>\n",
       "      <td>4</td>\n",
       "      <td>4</td>\n",
       "      <td>Condominium</td>\n",
       "      <td>84.92</td>\n",
       "      <td>28.0</td>\n",
       "      <td>['FAIRFIELD METHODIST SCHOOL (SECONDARY)', 'QU...</td>\n",
       "      <td>['Telok Blangah Drive Blk 82 (Telok Blangah Ma...</td>\n",
       "      <td>['NTUC FAIRPRICE CO-OPERATIVE LTD', 'THE QUALI...</td>\n",
       "      <td>0</td>\n",
       "      <td>-1.0</td>\n",
       "      <td>1.244208</td>\n",
       "      <td>103.827487</td>\n",
       "      <td>223.0</td>\n",
       "      <td>01-05</td>\n",
       "    </tr>\n",
       "  </tbody>\n",
       "</table>\n",
       "</div>"
      ],
      "text/plain": [
       "   district   propertyType  remaining_lease  price  \\\n",
       "0         5  Semi-detached           999.00   55.0   \n",
       "1         5  Semi-detached           999.00   50.0   \n",
       "2         5  Semi-detached           999.00   47.5   \n",
       "3         5        Terrace           999.00   26.3   \n",
       "4         4    Condominium            84.92   28.0   \n",
       "\n",
       "                                              school  \\\n",
       "0  ['HILLGROVE SECONDARY SCHOOL', 'QUEENSTOWN SEC...   \n",
       "1  ['HILLGROVE SECONDARY SCHOOL', 'QUEENSTOWN SEC...   \n",
       "2  ['HILLGROVE SECONDARY SCHOOL', 'QUEENSTOWN SEC...   \n",
       "3  ['HILLGROVE SECONDARY SCHOOL', 'QUEENSTOWN SEC...   \n",
       "4  ['FAIRFIELD METHODIST SCHOOL (SECONDARY)', 'QU...   \n",
       "\n",
       "                                        hawkercentre  \\\n",
       "0  ['Pasir Panjang Food Centre', 'Clementi West S...   \n",
       "1  ['Pasir Panjang Food Centre', 'Clementi West S...   \n",
       "2  ['Pasir Panjang Food Centre', 'Clementi West S...   \n",
       "3  ['Pasir Panjang Food Centre', 'Clementi West S...   \n",
       "4  ['Telok Blangah Drive Blk 82 (Telok Blangah Ma...   \n",
       "\n",
       "                                        supermarkets  Bus Stops Nearby  \\\n",
       "0  ['NTUC FAIRPRICE CO-OPERATIVE LTD', 'COLD STOR...                 0   \n",
       "1  ['NTUC FAIRPRICE CO-OPERATIVE LTD', 'COLD STOR...                 0   \n",
       "2  ['NTUC FAIRPRICE CO-OPERATIVE LTD', 'COLD STOR...                 0   \n",
       "3  ['NTUC FAIRPRICE CO-OPERATIVE LTD', 'COLD STOR...                 2   \n",
       "4  ['NTUC FAIRPRICE CO-OPERATIVE LTD', 'THE QUALI...                 0   \n",
       "\n",
       "   crime_number  latitude   longitude  floor_area_sqm floor_range  \n",
       "0          -1.0  1.282130  103.786879           524.3           -  \n",
       "1          -1.0  1.282130  103.786879           308.0           -  \n",
       "2          -1.0  1.282130  103.786879           314.0           -  \n",
       "3          -1.0  1.292047  103.768591           159.3           -  \n",
       "4          -1.0  1.244208  103.827487           223.0       01-05  "
      ]
     },
     "execution_count": 19,
     "metadata": {},
     "output_type": "execute_result"
    }
   ],
   "source": [
    "df_v3 = df.drop(columns=['street','sentiment'])\n",
    "df_v3.head()"
   ]
  },
  {
   "cell_type": "code",
   "execution_count": 20,
   "metadata": {},
   "outputs": [
    {
     "data": {
      "text/plain": [
       "Index(['district', 'propertyType', 'remaining_lease', 'price', 'school',\n",
       "       'hawkercentre', 'supermarkets', 'Bus Stops Nearby', 'crime_number',\n",
       "       'latitude', 'longitude', 'floor_area_sqm', 'floor_range'],\n",
       "      dtype='object')"
      ]
     },
     "execution_count": 20,
     "metadata": {},
     "output_type": "execute_result"
    }
   ],
   "source": [
    "df_v3.columns"
   ]
  },
  {
   "cell_type": "markdown",
   "metadata": {},
   "source": [
    "#### (a) One-Hot Encoding"
   ]
  },
  {
   "cell_type": "code",
   "execution_count": 21,
   "metadata": {},
   "outputs": [],
   "source": [
    "features3 = df_v3.loc[:, df_v3.columns != 'price']\n",
    "x3 = pd.get_dummies(features3)\n",
    "y3 = df_v3['price']\n",
    "\n",
    "x3_train, x3_test, y3_train, y3_test = model_selection.train_test_split(x3, y3, test_size=0.2, random_state=2019)"
   ]
  },
  {
   "cell_type": "markdown",
   "metadata": {},
   "source": [
    "#### (b) Decision Tree Regressor"
   ]
  },
  {
   "cell_type": "code",
   "execution_count": 22,
   "metadata": {},
   "outputs": [
    {
     "name": "stdout",
     "output_type": "stream",
     "text": [
      "[ 4.38   5.05  17.425 ...  3.    18.     4.6  ]\n",
      "RMSE: 664326.0905462931\n",
      "R-Squared: 0.8247198779435705\n"
     ]
    }
   ],
   "source": [
    "# train model\n",
    "dt3 = tree.DecisionTreeRegressor()\n",
    "dt3.fit(x3_train,y3_train)\n",
    "\n",
    "# make predictions on test set\n",
    "y3_pred = dt3.predict(x3_test)\n",
    "print(y3_pred)\n",
    "\n",
    "# compute metrics \n",
    "mse = mean_squared_error(y3_test,y3_pred)\n",
    "rmse = np.sqrt(mse)*100000 # scale back\n",
    "r_squared = r2_score(y3_test,y3_pred)\n",
    "\n",
    "\n",
    "print('RMSE: {}'.format(rmse))\n",
    "print('R-Squared: {}'.format(r_squared))"
   ]
  },
  {
   "cell_type": "markdown",
   "metadata": {},
   "source": [
    "#### (c) Random Forest Regressor"
   ]
  },
  {
   "cell_type": "code",
   "execution_count": 26,
   "metadata": {},
   "outputs": [
    {
     "name": "stdout",
     "output_type": "stream",
     "text": [
      "[ 4.39182903  4.8936     23.53893667 ...  2.9691     19.6756696\n",
      "  4.71787466]\n",
      "MSE: 315411.1557761954\n",
      "R-Squared: 0.9604884425947657\n"
     ]
    }
   ],
   "source": [
    "# train model\n",
    "rforest3 = ensemble.RandomForestRegressor(n_estimators = 100, oob_score = True, random_state = 2019)\n",
    "rforest3.fit(x3_train, y3_train)\n",
    "\n",
    "# make predictions on test set\n",
    "y3_pred = rforest3.predict(x3_test)\n",
    "print(y3_pred)\n",
    "\n",
    "# compute metrics \n",
    "mse = mean_squared_error(y3_test,y3_pred)\n",
    "rmse = np.sqrt(mse)*100000 # scale back\n",
    "r_squared = r2_score(y3_test,y3_pred)\n",
    "\n",
    "\n",
    "print('RMSE: {}'.format(rmse))\n",
    "print('R-Squared: {}'.format(r_squared))"
   ]
  },
  {
   "cell_type": "code",
   "execution_count": 29,
   "metadata": {},
   "outputs": [
    {
     "name": "stdout",
     "output_type": "stream",
     "text": [
      "[ 4.78177322  4.9558     28.39278667 ...  2.9735776  17.8267456\n",
      "  4.65455121]\n",
      "MSE: 382307.16001179384\n",
      "R-Squared: 0.9419509773325448\n"
     ]
    }
   ],
   "source": [
    "# train model\n",
    "rforest3 = ensemble.RandomForestRegressor(n_estimators = 50, max_features = 1, oob_score = True, random_state = 2019)\n",
    "rforest3.fit(x3_train, y3_train)\n",
    "\n",
    "# make predictions on test set\n",
    "y3_pred = rforest3.predict(x3_test)\n",
    "print(y3_pred)\n",
    "\n",
    "# compute metrics \n",
    "mse = mean_squared_error(y3_test,y3_pred)\n",
    "rmse = np.sqrt(mse)*100000 # scale back\n",
    "r_squared = r2_score(y3_test,y3_pred)\n",
    "\n",
    "\n",
    "print('RMSE: {}'.format(rmse))\n",
    "print('R-Squared: {}'.format(r_squared))"
   ]
  },
  {
   "cell_type": "markdown",
   "metadata": {},
   "source": [
    "#### Best Performance of Version 3 and Best Performance overall"
   ]
  },
  {
   "cell_type": "code",
   "execution_count": 23,
   "metadata": {},
   "outputs": [
    {
     "name": "stdout",
     "output_type": "stream",
     "text": [
      "[ 4.3904776   4.9012     23.91300667 ...  2.9688     19.8086816\n",
      "  4.66287881]\n",
      "MSE: 308166.85234000505\n",
      "R-Squared: 0.9622825873178068\n"
     ]
    }
   ],
   "source": [
    "# train model\n",
    "rforest3 = ensemble.RandomForestRegressor(n_estimators = 50, oob_score = True, random_state = 2019)\n",
    "rforest3.fit(x3_train, y3_train)\n",
    "\n",
    "# make predictions on test set\n",
    "y3_pred = rforest3.predict(x3_test)\n",
    "print(y3_pred)\n",
    "\n",
    "# compute metrics \n",
    "mse = mean_squared_error(y3_test,y3_pred)\n",
    "rmse = np.sqrt(mse)*100000 # scale back\n",
    "r_squared = r2_score(y3_test,y3_pred)\n",
    "\n",
    "\n",
    "print('RMSE: {}'.format(rmse))\n",
    "print('R-Squared: {}'.format(r_squared))"
   ]
  },
  {
   "cell_type": "code",
   "execution_count": null,
   "metadata": {},
   "outputs": [],
   "source": []
  },
  {
   "cell_type": "code",
   "execution_count": null,
   "metadata": {},
   "outputs": [],
   "source": []
  }
 ],
 "metadata": {
  "kernelspec": {
   "display_name": "Python 3",
   "language": "python",
   "name": "python3"
  },
  "language_info": {
   "codemirror_mode": {
    "name": "ipython",
    "version": 3
   },
   "file_extension": ".py",
   "mimetype": "text/x-python",
   "name": "python",
   "nbconvert_exporter": "python",
   "pygments_lexer": "ipython3",
   "version": "3.7.4"
  }
 },
 "nbformat": 4,
 "nbformat_minor": 2
}
