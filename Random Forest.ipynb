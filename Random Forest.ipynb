{
 "cells": [
  {
   "cell_type": "markdown",
   "metadata": {},
   "source": [
    "### Import Libraries"
   ]
  },
  {
   "cell_type": "code",
   "execution_count": 1,
   "metadata": {},
   "outputs": [],
   "source": [
    "import matplotlib.pyplot as plt\n",
    "import numpy as np\n",
    "import pandas as pd\n",
    "from sklearn import tree, ensemble, model_selection, metrics\n",
    "from sklearn.ensemble import RandomForestRegressor\n",
    "from sklearn.metrics import mean_squared_error, mean_absolute_error, r2_score\n",
    "from sklearn.model_selection import GridSearchCV\n",
    "from sklearn.preprocessing import LabelEncoder"
   ]
  },
  {
   "cell_type": "markdown",
   "metadata": {},
   "source": [
    "### Import Datasets"
   ]
  },
  {
   "cell_type": "code",
   "execution_count": 2,
   "metadata": {},
   "outputs": [
    {
     "name": "stdout",
     "output_type": "stream",
     "text": [
      "Index(['district', 'street', 'propertyType', 'remaining_lease', 'school',\n",
      "       'hawkercentre', 'supermarkets', 'Bus Stops Nearby', 'crime_number',\n",
      "       'latitude', 'longitude', 'floor_area_sqm', 'floor_range', 'sentiment'],\n",
      "      dtype='object')\n",
      "Index(['district', 'street', 'propertyType', 'remaining_lease', 'school',\n",
      "       'hawkercentre', 'supermarkets', 'Bus Stops Nearby', 'crime_number',\n",
      "       'latitude', 'longitude', 'floor_area_sqm', 'floor_range', 'sentiment'],\n",
      "      dtype='object')\n",
      "Index(['price'], dtype='object')\n",
      "Index(['price'], dtype='object')\n"
     ]
    }
   ],
   "source": [
    "# features\n",
    "x_train = pd.read_csv('training_set.csv')\n",
    "x_test = pd.read_csv('testing_set.csv')\n",
    "\n",
    "# labels\n",
    "y_train = pd.read_csv('training_labels.csv')\n",
    "y_test = pd.read_csv('testing_labels.csv')\n",
    "\n",
    "print(x_train.columns)\n",
    "print(x_test.columns)\n",
    "print(y_train.columns)\n",
    "print(y_test.columns)"
   ]
  },
  {
   "cell_type": "code",
   "execution_count": 3,
   "metadata": {},
   "outputs": [
    {
     "data": {
      "text/plain": [
       "False"
      ]
     },
     "execution_count": 3,
     "metadata": {},
     "output_type": "execute_result"
    }
   ],
   "source": [
    "x_train['sentiment'].isnull().values.any()"
   ]
  },
  {
   "cell_type": "code",
   "execution_count": 4,
   "metadata": {},
   "outputs": [
    {
     "data": {
      "text/html": [
       "<div>\n",
       "<style scoped>\n",
       "    .dataframe tbody tr th:only-of-type {\n",
       "        vertical-align: middle;\n",
       "    }\n",
       "\n",
       "    .dataframe tbody tr th {\n",
       "        vertical-align: top;\n",
       "    }\n",
       "\n",
       "    .dataframe thead th {\n",
       "        text-align: right;\n",
       "    }\n",
       "</style>\n",
       "<table border=\"1\" class=\"dataframe\">\n",
       "  <thead>\n",
       "    <tr style=\"text-align: right;\">\n",
       "      <th></th>\n",
       "      <th>district</th>\n",
       "      <th>street</th>\n",
       "      <th>propertyType</th>\n",
       "      <th>remaining_lease</th>\n",
       "      <th>school</th>\n",
       "      <th>hawkercentre</th>\n",
       "      <th>supermarkets</th>\n",
       "      <th>Bus Stops Nearby</th>\n",
       "      <th>crime_number</th>\n",
       "      <th>latitude</th>\n",
       "      <th>longitude</th>\n",
       "      <th>floor_area_sqm</th>\n",
       "      <th>floor_range</th>\n",
       "      <th>sentiment</th>\n",
       "    </tr>\n",
       "  </thead>\n",
       "  <tbody>\n",
       "    <tr>\n",
       "      <td>0</td>\n",
       "      <td>20</td>\n",
       "      <td>1487</td>\n",
       "      <td>8</td>\n",
       "      <td>-0.028291</td>\n",
       "      <td>37</td>\n",
       "      <td>11</td>\n",
       "      <td>5</td>\n",
       "      <td>1</td>\n",
       "      <td>122.714286</td>\n",
       "      <td>1.384051</td>\n",
       "      <td>103.900061</td>\n",
       "      <td>0.333809</td>\n",
       "      <td>1</td>\n",
       "      <td>0.056981</td>\n",
       "    </tr>\n",
       "    <tr>\n",
       "      <td>1</td>\n",
       "      <td>21</td>\n",
       "      <td>668</td>\n",
       "      <td>6</td>\n",
       "      <td>0.130119</td>\n",
       "      <td>40</td>\n",
       "      <td>1</td>\n",
       "      <td>8</td>\n",
       "      <td>0</td>\n",
       "      <td>-1.000000</td>\n",
       "      <td>1.358962</td>\n",
       "      <td>103.763673</td>\n",
       "      <td>-0.261162</td>\n",
       "      <td>2</td>\n",
       "      <td>0.145982</td>\n",
       "    </tr>\n",
       "  </tbody>\n",
       "</table>\n",
       "</div>"
      ],
      "text/plain": [
       "   district  street  propertyType  remaining_lease  school  hawkercentre  \\\n",
       "0        20    1487             8        -0.028291      37            11   \n",
       "1        21     668             6         0.130119      40             1   \n",
       "\n",
       "   supermarkets  Bus Stops Nearby  crime_number  latitude   longitude  \\\n",
       "0             5                 1    122.714286  1.384051  103.900061   \n",
       "1             8                 0     -1.000000  1.358962  103.763673   \n",
       "\n",
       "   floor_area_sqm  floor_range  sentiment  \n",
       "0        0.333809            1   0.056981  \n",
       "1       -0.261162            2   0.145982  "
      ]
     },
     "execution_count": 4,
     "metadata": {},
     "output_type": "execute_result"
    }
   ],
   "source": [
    "x_train.head(2)"
   ]
  },
  {
   "cell_type": "markdown",
   "metadata": {},
   "source": [
    "### Summary of Results\n",
    "*Goal: Low RMSE, Low MAE, R2 close to 1, High Adjusted R2*\n",
    "    \n",
    "Conclusions:\n",
    "1. Random Forest better performance\n",
    "2. For random forest, using Grid Search helped us in finding better estimators to improve the model slightly\n",
    "3. For decision tree, using Grid Search did not help us to find better estimators (dk why? and the adjusted r2 for the model w grid search is negaative? huh? confused)"
   ]
  },
  {
   "cell_type": "markdown",
   "metadata": {},
   "source": [
    "### Decision Tree"
   ]
  },
  {
   "cell_type": "markdown",
   "metadata": {},
   "source": [
    "#### (a) Basic Decision Tree with Default Parameters"
   ]
  },
  {
   "cell_type": "code",
   "execution_count": 22,
   "metadata": {},
   "outputs": [
    {
     "name": "stdout",
     "output_type": "stream",
     "text": [
      "[ 0.03943235 -0.41731308 -0.28243523 ... -0.41731308 -0.39095059\n",
      " -0.3222855 ]\n",
      "training mse: 0.000210427893660912, testing mse: 0.09248720539371927\n",
      "training rmse: 0.01450613296715951, testing rmse: 0.30411709158434236\n",
      "training mae: 0.0022709845518565914, testing mae: 0.0475168308843605\n",
      "training R2: 0.9997895703431492, testing R2: 0.8970847552813916\n",
      "training adjusted R2: 0.9997895456553882, testing adjusted R2: 0.8969759818081877\n"
     ]
    }
   ],
   "source": [
    "# train model\n",
    "dt = tree.DecisionTreeRegressor()\n",
    "dt.fit(x_train,y_train)\n",
    "\n",
    "# make predictions on test set\n",
    "y_pred_train = dt.predict(x_train)\n",
    "y_pred = dt.predict(x_test)\n",
    "print(y_pred)\n",
    "\n",
    "# compute metrics \n",
    "train_mse = mean_squared_error(y_train,y_pred_train)\n",
    "test_mse = mean_squared_error(y_test,y_pred)\n",
    "\n",
    "train_mae = mean_absolute_error(y_train,y_pred_train)\n",
    "test_mae = mean_absolute_error(y_test,y_pred)\n",
    "\n",
    "train_r_squared = r2_score(y_train,y_pred_train)\n",
    "test_r_squared = r2_score(y_test,y_pred)\n",
    "\n",
    "train_adj_r_squared = 1 - (1-dt.score(x_train, y_train))*(len(y_train)-1)/(len(y_train)-x_train.shape[1]-1)\n",
    "test_adj_r_squared = 1 - (1-dt.score(x_test, y_test))*(len(y_test)-1)/(len(y_test)-x_test.shape[1]-1)\n",
    "\n",
    "print(\"training mse: {}, testing mse: {}\".format(train_mse, test_mse))\n",
    "print(\"training rmse: {}, testing rmse: {}\".format(np.sqrt(train_mse), np.sqrt(test_mse)))\n",
    "print(\"training mae: {}, testing mae: {}\".format(train_mae, test_mae))\n",
    "print(\"training R2: {}, testing R2: {}\".format(train_r_squared, test_r_squared))\n",
    "# print(\"training R2: {}, testing R2: {}\".format(dt.score(x_train, y_train), dt.score(x_test, y_test)))\n",
    "print(\"training adjusted R2: {}, testing adjusted R2: {}\".format(train_adj_r_squared, test_adj_r_squared))"
   ]
  },
  {
   "cell_type": "markdown",
   "metadata": {},
   "source": [
    "#### (b) Decision Tree using Best Estimators from Grid Search\n",
    "- did 2 tests to kinda see which one better"
   ]
  },
  {
   "cell_type": "code",
   "execution_count": null,
   "metadata": {},
   "outputs": [],
   "source": [
    "# test 1: best parameter is 'max_leaf_nodes': [200,400,600,800], 'min_samples_split': [7,12,15,20]"
   ]
  },
  {
   "cell_type": "code",
   "execution_count": 23,
   "metadata": {},
   "outputs": [
    {
     "name": "stdout",
     "output_type": "stream",
     "text": [
      "Fitting 3 folds for each of 16 candidates, totalling 48 fits\n"
     ]
    },
    {
     "name": "stderr",
     "output_type": "stream",
     "text": [
      "[Parallel(n_jobs=-1)]: Using backend LokyBackend with 4 concurrent workers.\n",
      "[Parallel(n_jobs=-1)]: Done  48 out of  48 | elapsed:    9.6s finished\n"
     ]
    },
    {
     "name": "stdout",
     "output_type": "stream",
     "text": [
      "best score: -0.12483695561164763\n",
      "best parameters:  {'max_leaf_nodes': 800, 'min_samples_split': 15}\n",
      "best estimators:  DecisionTreeRegressor(criterion='mse', max_depth=None, max_features=None,\n",
      "                      max_leaf_nodes=800, min_impurity_decrease=0.0,\n",
      "                      min_impurity_split=None, min_samples_leaf=1,\n",
      "                      min_samples_split=15, min_weight_fraction_leaf=0.0,\n",
      "                      presort=False, random_state=42, splitter='best')\n"
     ]
    }
   ],
   "source": [
    "params = {'max_leaf_nodes': [200,400,600,800], 'min_samples_split': [7,12,15,20]}\n",
    "gsearch_dt = GridSearchCV(tree.DecisionTreeRegressor(random_state=42), \n",
    "                          params, \n",
    "                          scoring = 'neg_mean_squared_error',\n",
    "                          verbose=1, \n",
    "                          cv=3, \n",
    "                          n_jobs=-1)\n",
    "gsearch_dt.fit(x_train, y_train)\n",
    "print('best score:', gsearch_dt.best_score_)\n",
    "print('best parameters: ', gsearch_dt.best_params_)\n",
    "print('best estimators: ', gsearch_dt.best_estimator_)"
   ]
  },
  {
   "cell_type": "code",
   "execution_count": 24,
   "metadata": {},
   "outputs": [
    {
     "name": "stdout",
     "output_type": "stream",
     "text": [
      "[ 0.08558463 -0.39172244 -0.30130996 ... -0.41335421 -0.32597447\n",
      " -0.2747952 ]\n",
      "training mse: 0.03533715262426555, testing mse: 0.10065165780937843\n",
      "training rmse: 0.18798178801220494, testing rmse: 0.317256454322648\n",
      "training mae: 0.058820399567829966, testing mae: 0.06981117871536002\n",
      "training R2: 0.9646625512832923, testing R2: 0.8879997514176241\n",
      "training adjusted R2: -0.03545861913453319, testing adjusted R2: -0.10181496169049953\n"
     ]
    }
   ],
   "source": [
    "# make predictions on test set\n",
    "y_pred_train = gsearch_dt.predict(x_train)\n",
    "y_pred = gsearch_dt.predict(x_test)\n",
    "print(y_pred)\n",
    "\n",
    "# compute metrics \n",
    "train_mse = mean_squared_error(y_train,y_pred_train)\n",
    "test_mse = mean_squared_error(y_test,y_pred)\n",
    "\n",
    "train_mae = mean_absolute_error(y_train,y_pred_train)\n",
    "test_mae = mean_absolute_error(y_test,y_pred)\n",
    "\n",
    "train_r_squared = r2_score(y_train,y_pred_train)\n",
    "test_r_squared = r2_score(y_test,y_pred)\n",
    "\n",
    "train_adj_r_squared = 1 - (1-gsearch_dt.score(x_train, y_train))*(len(y_train)-1)/(len(y_train)-x_train.shape[1]-1)\n",
    "test_adj_r_squared = 1 - (1-gsearch_dt.score(x_test, y_test))*(len(y_test)-1)/(len(y_test)-x_test.shape[1]-1)\n",
    "\n",
    "print(\"training mse: {}, testing mse: {}\".format(train_mse, test_mse))\n",
    "print(\"training rmse: {}, testing rmse: {}\".format(np.sqrt(train_mse), np.sqrt(test_mse)))\n",
    "print(\"training mae: {}, testing mae: {}\".format(train_mae, test_mae))\n",
    "print(\"training R2: {}, testing R2: {}\".format(train_r_squared, test_r_squared))\n",
    "# print(\"training R2: {}, testing R2: {}\".format(dt.score(x_train, y_train), dt.score(x_test, y_test)))\n",
    "print(\"training adjusted R2: {}, testing adjusted R2: {}\".format(train_adj_r_squared, test_adj_r_squared))"
   ]
  },
  {
   "cell_type": "code",
   "execution_count": null,
   "metadata": {},
   "outputs": [],
   "source": [
    "# test 2: best parameter is 'min_samples_split': [7,12,15,20,25]"
   ]
  },
  {
   "cell_type": "code",
   "execution_count": 50,
   "metadata": {},
   "outputs": [
    {
     "name": "stdout",
     "output_type": "stream",
     "text": [
      "Fitting 3 folds for each of 5 candidates, totalling 15 fits\n"
     ]
    },
    {
     "name": "stderr",
     "output_type": "stream",
     "text": [
      "[Parallel(n_jobs=-1)]: Using backend LokyBackend with 4 concurrent workers.\n",
      "[Parallel(n_jobs=-1)]: Done  15 out of  15 | elapsed:    3.5s finished\n"
     ]
    },
    {
     "name": "stdout",
     "output_type": "stream",
     "text": [
      "best score: -0.12315555277827599\n",
      "best parameters:  {'min_samples_split': 15}\n",
      "best estimators:  DecisionTreeRegressor(criterion='mse', max_depth=None, max_features=None,\n",
      "                      max_leaf_nodes=None, min_impurity_decrease=0.0,\n",
      "                      min_impurity_split=None, min_samples_leaf=1,\n",
      "                      min_samples_split=15, min_weight_fraction_leaf=0.0,\n",
      "                      presort=False, random_state=42, splitter='best')\n"
     ]
    }
   ],
   "source": [
    "params = {'min_samples_split': [7,12,15,20,25]}\n",
    "gsearch_dt = GridSearchCV(tree.DecisionTreeRegressor(random_state=42), \n",
    "                          params, \n",
    "                          scoring = 'neg_mean_squared_error',\n",
    "                          verbose=1, \n",
    "                          cv=3, \n",
    "                          n_jobs=-1)\n",
    "gsearch_dt.fit(x_train, y_train)\n",
    "print('best score:', gsearch_dt.best_score_)\n",
    "print('best parameters: ', gsearch_dt.best_params_)\n",
    "print('best estimators: ', gsearch_dt.best_estimator_)"
   ]
  },
  {
   "cell_type": "code",
   "execution_count": 51,
   "metadata": {},
   "outputs": [
    {
     "name": "stdout",
     "output_type": "stream",
     "text": [
      "[ 0.03902363 -0.40732231 -0.27630442 ... -0.42735228 -0.35060985\n",
      " -0.32874966]\n",
      "training mse: 0.030235875068050224, testing mse: 0.098731964339167\n",
      "training rmse: 0.17388466024365182, testing rmse: 0.3142164291362993\n",
      "training mae: 0.03097720331422784, testing mae: 0.051264393354935614\n",
      "training R2: 0.9697638715834644, testing R2: 0.8901358925457995\n",
      "training adjusted R2: -0.0303567430927123, testing adjusted R2: -0.09989323925240501\n"
     ]
    }
   ],
   "source": [
    "# make predictions on test set\n",
    "y_pred_train = gsearch_dt.predict(x_train)\n",
    "y_pred = gsearch_dt.predict(x_test)\n",
    "print(y_pred)\n",
    "\n",
    "# compute metrics \n",
    "train_mse = mean_squared_error(y_train,y_pred_train)\n",
    "test_mse = mean_squared_error(y_test,y_pred)\n",
    "\n",
    "train_mae = mean_absolute_error(y_train,y_pred_train)\n",
    "test_mae = mean_absolute_error(y_test,y_pred)\n",
    "\n",
    "train_r_squared = r2_score(y_train,y_pred_train)\n",
    "test_r_squared = r2_score(y_test,y_pred)\n",
    "\n",
    "train_adj_r_squared = 1 - (1-gsearch_dt.score(x_train, y_train))*(len(y_train)-1)/(len(y_train)-x_train.shape[1]-1)\n",
    "test_adj_r_squared = 1 - (1-gsearch_dt.score(x_test, y_test))*(len(y_test)-1)/(len(y_test)-x_test.shape[1]-1)\n",
    "\n",
    "print(\"training mse: {}, testing mse: {}\".format(train_mse, test_mse))\n",
    "print(\"training rmse: {}, testing rmse: {}\".format(np.sqrt(train_mse), np.sqrt(test_mse)))\n",
    "print(\"training mae: {}, testing mae: {}\".format(train_mae, test_mae))\n",
    "print(\"training R2: {}, testing R2: {}\".format(train_r_squared, test_r_squared))\n",
    "# print(\"training R2: {}, testing R2: {}\".format(dt.score(x_train, y_train), dt.score(x_test, y_test)))\n",
    "print(\"training adjusted R2: {}, testing adjusted R2: {}\".format(train_adj_r_squared, test_adj_r_squared))"
   ]
  },
  {
   "cell_type": "markdown",
   "metadata": {},
   "source": [
    "### Random Forest"
   ]
  },
  {
   "cell_type": "markdown",
   "metadata": {},
   "source": [
    "#### (a) Basic Random Forest with Default Parameters"
   ]
  },
  {
   "cell_type": "code",
   "execution_count": 26,
   "metadata": {},
   "outputs": [
    {
     "name": "stderr",
     "output_type": "stream",
     "text": [
      "/Users/tohjiaxuan/opt/anaconda3/lib/python3.7/site-packages/sklearn/ensemble/forest.py:245: FutureWarning: The default value of n_estimators will change from 10 in version 0.20 to 100 in 0.22.\n",
      "  \"10 in version 0.20 to 100 in 0.22.\", FutureWarning)\n",
      "/Users/tohjiaxuan/opt/anaconda3/lib/python3.7/site-packages/ipykernel_launcher.py:3: DataConversionWarning: A column-vector y was passed when a 1d array was expected. Please change the shape of y to (n_samples,), for example using ravel().\n",
      "  This is separate from the ipykernel package so we can avoid doing imports until\n"
     ]
    },
    {
     "name": "stdout",
     "output_type": "stream",
     "text": [
      "[ 0.02381693 -0.41565776 -0.27891001 ... -0.41209627 -0.37433609\n",
      " -0.32427802]\n",
      "training mse: 0.011152928699356936, testing mse: 0.024893452380533972\n",
      "training rmse: 0.105607427292577, testing rmse: 0.15777659009033618\n",
      "training mae: 0.01782281764477664, testing mae: 0.04141840750825651\n",
      "training R2: 0.9888469778494833, testing R2: 0.972299782086316\n",
      "training adjusted R2: 0.9888456693687858, testing adjusted R2: 0.9722705050932017\n"
     ]
    }
   ],
   "source": [
    "# train model\n",
    "rforest = ensemble.RandomForestRegressor()\n",
    "rforest.fit(x_train,y_train)\n",
    "\n",
    "# make predictions on test set\n",
    "y_pred_train = rforest.predict(x_train)\n",
    "y_pred = rforest.predict(x_test)\n",
    "print(y_pred)\n",
    "\n",
    "# compute metrics \n",
    "train_mse = mean_squared_error(y_train,y_pred_train)\n",
    "test_mse = mean_squared_error(y_test,y_pred)\n",
    "\n",
    "train_mae = mean_absolute_error(y_train,y_pred_train)\n",
    "test_mae = mean_absolute_error(y_test,y_pred)\n",
    "\n",
    "train_r_squared = r2_score(y_train,y_pred_train)\n",
    "test_r_squared = r2_score(y_test,y_pred)\n",
    "\n",
    "train_adj_r_squared = 1 - (1-rforest.score(x_train, y_train))*(len(y_train)-1)/(len(y_train)-x_train.shape[1]-1)\n",
    "test_adj_r_squared = 1 - (1-rforest.score(x_test, y_test))*(len(y_test)-1)/(len(y_test)-x_test.shape[1]-1)\n",
    "\n",
    "print(\"training mse: {}, testing mse: {}\".format(train_mse, test_mse))\n",
    "print(\"training rmse: {}, testing rmse: {}\".format(np.sqrt(train_mse), np.sqrt(test_mse)))\n",
    "print(\"training mae: {}, testing mae: {}\".format(train_mae, test_mae))\n",
    "print(\"training R2: {}, testing R2: {}\".format(train_r_squared, test_r_squared))\n",
    "# print(\"training R2: {}, testing R2: {}\".format(dt.score(x_train, y_train), dt.score(x_test, y_test)))\n",
    "print(\"training adjusted R2: {}, testing adjusted R2: {}\".format(train_adj_r_squared, test_adj_r_squared))"
   ]
  },
  {
   "cell_type": "markdown",
   "metadata": {},
   "source": [
    "#### (b) Random Forest using Best Estimators from Grid Search\n",
    "- did 2 tests to kinda see which one better"
   ]
  },
  {
   "cell_type": "code",
   "execution_count": null,
   "metadata": {},
   "outputs": [],
   "source": [
    "# test 1: best parameter is 150"
   ]
  },
  {
   "cell_type": "code",
   "execution_count": 34,
   "metadata": {},
   "outputs": [
    {
     "name": "stdout",
     "output_type": "stream",
     "text": [
      "Fitting 3 folds for each of 4 candidates, totalling 12 fits\n"
     ]
    },
    {
     "name": "stderr",
     "output_type": "stream",
     "text": [
      "[Parallel(n_jobs=-1)]: Using backend LokyBackend with 4 concurrent workers.\n",
      "[Parallel(n_jobs=-1)]: Done  12 out of  12 | elapsed:  7.3min finished\n",
      "/Users/tohjiaxuan/opt/anaconda3/lib/python3.7/site-packages/sklearn/model_selection/_search.py:715: DataConversionWarning: A column-vector y was passed when a 1d array was expected. Please change the shape of y to (n_samples,), for example using ravel().\n",
      "  self.best_estimator_.fit(X, y, **fit_params)\n"
     ]
    },
    {
     "name": "stdout",
     "output_type": "stream",
     "text": [
      "best score: -0.09410105417199768\n",
      "best parameters:  {'n_estimators': 150}\n",
      "best estimators:  RandomForestRegressor(bootstrap=True, criterion='mse', max_depth=None,\n",
      "                      max_features='auto', max_leaf_nodes=None,\n",
      "                      min_impurity_decrease=0.0, min_impurity_split=None,\n",
      "                      min_samples_leaf=1, min_samples_split=2,\n",
      "                      min_weight_fraction_leaf=0.0, n_estimators=150,\n",
      "                      n_jobs=None, oob_score=False, random_state=42, verbose=0,\n",
      "                      warm_start=False)\n"
     ]
    }
   ],
   "source": [
    "params = {'n_estimators': [10,50,100,150]}\n",
    "grid_search_cv = GridSearchCV(ensemble.RandomForestRegressor(random_state=42), \n",
    "                              params, \n",
    "                              scoring = 'neg_mean_squared_error', \n",
    "                              verbose=1, \n",
    "                              cv=3,\n",
    "                              n_jobs = -1)\n",
    "grid_search_cv.fit(x_train, y_train)\n",
    "print('best score:', grid_search_cv.best_score_)\n",
    "print('best parameters: ', grid_search_cv.best_params_)\n",
    "print('best estimators: ', grid_search_cv.best_estimator_)"
   ]
  },
  {
   "cell_type": "code",
   "execution_count": 29,
   "metadata": {},
   "outputs": [
    {
     "name": "stdout",
     "output_type": "stream",
     "text": [
      "[ 0.0331047  -0.40677919 -0.29221728 ... -0.41793323 -0.37364581\n",
      " -0.32498965]\n",
      "training mse: 0.010984088796300234, testing mse: 0.024537196035757096\n",
      "training rmse: 0.10480500367969191, testing rmse: 0.15664353173928727\n",
      "training mae: 0.016236141953189658, testing mae: 0.04030446956584716\n",
      "training R2: 0.9890158191672612, testing R2: 0.9726962067458047\n",
      "training adjusted R2: -0.011102698187348103, testing adjusted R2: -0.02562005280342272\n"
     ]
    }
   ],
   "source": [
    "# make predictions on test set\n",
    "y_pred_train = grid_search_cv.predict(x_train)\n",
    "y_pred = grid_search_cv.predict(x_test)\n",
    "print(y_pred)\n",
    "\n",
    "# compute metrics \n",
    "train_mse = mean_squared_error(y_train,y_pred_train)\n",
    "test_mse = mean_squared_error(y_test,y_pred)\n",
    "\n",
    "train_mae = mean_absolute_error(y_train,y_pred_train)\n",
    "test_mae = mean_absolute_error(y_test,y_pred)\n",
    "\n",
    "train_r_squared = r2_score(y_train,y_pred_train)\n",
    "test_r_squared = r2_score(y_test,y_pred)\n",
    "\n",
    "train_adj_r_squared = 1 - (1-grid_search_cv.score(x_train, y_train))*(len(y_train)-1)/(len(y_train)-x_train.shape[1]-1)\n",
    "test_adj_r_squared = 1 - (1-grid_search_cv.score(x_test, y_test))*(len(y_test)-1)/(len(y_test)-x_test.shape[1]-1)\n",
    "\n",
    "print(\"training mse: {}, testing mse: {}\".format(train_mse, test_mse))\n",
    "print(\"training rmse: {}, testing rmse: {}\".format(np.sqrt(train_mse), np.sqrt(test_mse)))\n",
    "print(\"training mae: {}, testing mae: {}\".format(train_mae, test_mae))\n",
    "print(\"training R2: {}, testing R2: {}\".format(train_r_squared, test_r_squared))\n",
    "# print(\"training R2: {}, testing R2: {}\".format(dt.score(x_train, y_train), dt.score(x_test, y_test)))\n",
    "print(\"training adjusted R2: {}, testing adjusted R2: {}\".format(train_adj_r_squared, test_adj_r_squared))"
   ]
  },
  {
   "cell_type": "code",
   "execution_count": null,
   "metadata": {},
   "outputs": [],
   "source": [
    "# test 2: best parameter is 150"
   ]
  },
  {
   "cell_type": "code",
   "execution_count": null,
   "metadata": {},
   "outputs": [],
   "source": [
    "params = {'n_estimators': [100,150,200,250]}\n",
    "grid_search_cv = GridSearchCV(ensemble.RandomForestRegressor(random_state=42), \n",
    "                              params, \n",
    "                              scoring = 'neg_mean_squared_error', \n",
    "                              verbose=1, \n",
    "                              cv=3,\n",
    "                              n_jobs = -1)\n",
    "grid_search_cv.fit(x_train, y_train)\n",
    "print('best score:', grid_search_cv.best_score_)\n",
    "print('best parameters: ', grid_search_cv.best_params_)\n",
    "print('best estimators: ', grid_search_cv.best_estimator_)"
   ]
  },
  {
   "cell_type": "code",
   "execution_count": 35,
   "metadata": {},
   "outputs": [
    {
     "name": "stdout",
     "output_type": "stream",
     "text": [
      "[ 0.0331047  -0.40677919 -0.29221728 ... -0.41793323 -0.37364581\n",
      " -0.32498965]\n",
      "training mse: 0.010984088796300234, testing mse: 0.024537196035757096\n",
      "training rmse: 0.10480500367969191, testing rmse: 0.15664353173928727\n",
      "training mae: 0.016236141953189658, testing mae: 0.04030446956584716\n",
      "training R2: 0.9890158191672612, testing R2: 0.9726962067458047\n",
      "training adjusted R2: -0.011102698187348103, testing adjusted R2: -0.02562005280342272\n"
     ]
    }
   ],
   "source": [
    "# make predictions on test set\n",
    "y_pred_train = grid_search_cv.predict(x_train)\n",
    "y_pred = grid_search_cv.predict(x_test)\n",
    "print(y_pred)\n",
    "\n",
    "# compute metrics \n",
    "train_mse = mean_squared_error(y_train,y_pred_train)\n",
    "test_mse = mean_squared_error(y_test,y_pred)\n",
    "\n",
    "train_mae = mean_absolute_error(y_train,y_pred_train)\n",
    "test_mae = mean_absolute_error(y_test,y_pred)\n",
    "\n",
    "train_r_squared = r2_score(y_train,y_pred_train)\n",
    "test_r_squared = r2_score(y_test,y_pred)\n",
    "\n",
    "train_adj_r_squared = 1 - (1-grid_search_cv.score(x_train, y_train))*(len(y_train)-1)/(len(y_train)-x_train.shape[1]-1)\n",
    "test_adj_r_squared = 1 - (1-grid_search_cv.score(x_test, y_test))*(len(y_test)-1)/(len(y_test)-x_test.shape[1]-1)\n",
    "\n",
    "print(\"training mse: {}, testing mse: {}\".format(train_mse, test_mse))\n",
    "print(\"training rmse: {}, testing rmse: {}\".format(np.sqrt(train_mse), np.sqrt(test_mse)))\n",
    "print(\"training mae: {}, testing mae: {}\".format(train_mae, test_mae))\n",
    "print(\"training R2: {}, testing R2: {}\".format(train_r_squared, test_r_squared))\n",
    "# print(\"training R2: {}, testing R2: {}\".format(dt.score(x_train, y_train), dt.score(x_test, y_test)))\n",
    "print(\"training adjusted R2: {}, testing adjusted R2: {}\".format(train_adj_r_squared, test_adj_r_squared))"
   ]
  },
  {
   "cell_type": "code",
   "execution_count": null,
   "metadata": {},
   "outputs": [],
   "source": []
  }
 ],
 "metadata": {
  "kernelspec": {
   "display_name": "Python 3",
   "language": "python",
   "name": "python3"
  },
  "language_info": {
   "codemirror_mode": {
    "name": "ipython",
    "version": 3
   },
   "file_extension": ".py",
   "mimetype": "text/x-python",
   "name": "python",
   "nbconvert_exporter": "python",
   "pygments_lexer": "ipython3",
   "version": "3.7.4"
  }
 },
 "nbformat": 4,
 "nbformat_minor": 2
}
