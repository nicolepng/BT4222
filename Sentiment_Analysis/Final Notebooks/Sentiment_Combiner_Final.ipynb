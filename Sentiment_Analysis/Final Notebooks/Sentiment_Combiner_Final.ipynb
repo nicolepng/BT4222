{
  "nbformat": 4,
  "nbformat_minor": 0,
  "metadata": {
    "colab": {
      "name": "Sentiment_Combiner_Final.ipynb",
      "provenance": [],
      "collapsed_sections": []
    },
    "kernelspec": {
      "name": "python3",
      "display_name": "Python 3"
    },
    "language_info": {
      "name": "python"
    }
  },
  "cells": [
    {
      "cell_type": "markdown",
      "metadata": {
        "id": "npSF3k1f9sH2"
      },
      "source": [
        "Importing Relevant Packages"
      ]
    },
    {
      "cell_type": "code",
      "metadata": {
        "id": "ig-LeEfR0Inj"
      },
      "source": [
        "import pandas as pd\n",
        "from datetime import datetime\n",
        "import numpy as np\n",
        "import os\n",
        "from matplotlib import pyplot as plt\n",
        "import seaborn as sns"
      ],
      "execution_count": 2,
      "outputs": []
    },
    {
      "cell_type": "markdown",
      "metadata": {
        "id": "dCQPT2ee7Y-n"
      },
      "source": [
        "Preparing Hwz Sentiment csv to be merged"
      ]
    },
    {
      "cell_type": "code",
      "metadata": {
        "colab": {
          "base_uri": "https://localhost:8080/",
          "height": 203
        },
        "id": "HO5M4ny27fTg",
        "outputId": "4e146bd4-37e7-4469-eb15-a57f707d86fe"
      },
      "source": [
        "hwz_sentiment = pd.read_csv('/content/drive/MyDrive/BT4222 WEISHENG/Generated csv/hwz/hwz_vader_sentiment.csv')\n",
        "hwz_sentiment.columns = ['district_num', 'hwz_compound_sentiment','hwz_comment_count','year']\n",
        "hwz_sentiment.head()"
      ],
      "execution_count": 7,
      "outputs": [
        {
          "output_type": "execute_result",
          "data": {
            "text/html": [
              "<div>\n",
              "<style scoped>\n",
              "    .dataframe tbody tr th:only-of-type {\n",
              "        vertical-align: middle;\n",
              "    }\n",
              "\n",
              "    .dataframe tbody tr th {\n",
              "        vertical-align: top;\n",
              "    }\n",
              "\n",
              "    .dataframe thead th {\n",
              "        text-align: right;\n",
              "    }\n",
              "</style>\n",
              "<table border=\"1\" class=\"dataframe\">\n",
              "  <thead>\n",
              "    <tr style=\"text-align: right;\">\n",
              "      <th></th>\n",
              "      <th>district_num</th>\n",
              "      <th>hwz_compound_sentiment</th>\n",
              "      <th>hwz_comment_count</th>\n",
              "      <th>year</th>\n",
              "    </tr>\n",
              "  </thead>\n",
              "  <tbody>\n",
              "    <tr>\n",
              "      <th>0</th>\n",
              "      <td>1</td>\n",
              "      <td>0.560225</td>\n",
              "      <td>8</td>\n",
              "      <td>2018</td>\n",
              "    </tr>\n",
              "    <tr>\n",
              "      <th>1</th>\n",
              "      <td>2</td>\n",
              "      <td>0.686600</td>\n",
              "      <td>1</td>\n",
              "      <td>2018</td>\n",
              "    </tr>\n",
              "    <tr>\n",
              "      <th>2</th>\n",
              "      <td>3</td>\n",
              "      <td>0.498136</td>\n",
              "      <td>39</td>\n",
              "      <td>2018</td>\n",
              "    </tr>\n",
              "    <tr>\n",
              "      <th>3</th>\n",
              "      <td>4</td>\n",
              "      <td>0.504483</td>\n",
              "      <td>29</td>\n",
              "      <td>2018</td>\n",
              "    </tr>\n",
              "    <tr>\n",
              "      <th>4</th>\n",
              "      <td>5</td>\n",
              "      <td>0.377705</td>\n",
              "      <td>61</td>\n",
              "      <td>2018</td>\n",
              "    </tr>\n",
              "  </tbody>\n",
              "</table>\n",
              "</div>"
            ],
            "text/plain": [
              "   district_num  hwz_compound_sentiment  hwz_comment_count  year\n",
              "0             1                0.560225                  8  2018\n",
              "1             2                0.686600                  1  2018\n",
              "2             3                0.498136                 39  2018\n",
              "3             4                0.504483                 29  2018\n",
              "4             5                0.377705                 61  2018"
            ]
          },
          "metadata": {
            "tags": []
          },
          "execution_count": 7
        }
      ]
    },
    {
      "cell_type": "code",
      "metadata": {
        "colab": {
          "base_uri": "https://localhost:8080/"
        },
        "id": "P0L1JWzW70-S",
        "outputId": "2cb2a3c2-a69f-4998-ddc5-8c5494d39a51"
      },
      "source": [
        "hwz_sentiment.shape"
      ],
      "execution_count": null,
      "outputs": [
        {
          "output_type": "execute_result",
          "data": {
            "text/plain": [
              "(111, 4)"
            ]
          },
          "metadata": {
            "tags": []
          },
          "execution_count": 20
        }
      ]
    },
    {
      "cell_type": "code",
      "metadata": {
        "colab": {
          "base_uri": "https://localhost:8080/"
        },
        "id": "bRhgD6bX71Bk",
        "outputId": "db4133b5-9fd2-45ed-a2c0-c3e010bd151c"
      },
      "source": [
        "hwz_sentiment.groupby('district_num')['year'].nunique().sort_values(ascending=False)"
      ],
      "execution_count": null,
      "outputs": [
        {
          "output_type": "execute_result",
          "data": {
            "text/plain": [
              "district_num\n",
              "28    4\n",
              "27    4\n",
              "2     4\n",
              "3     4\n",
              "4     4\n",
              "5     4\n",
              "6     4\n",
              "7     4\n",
              "8     4\n",
              "9     4\n",
              "10    4\n",
              "11    4\n",
              "12    4\n",
              "13    4\n",
              "14    4\n",
              "15    4\n",
              "16    4\n",
              "17    4\n",
              "18    4\n",
              "19    4\n",
              "20    4\n",
              "22    4\n",
              "23    4\n",
              "24    4\n",
              "25    4\n",
              "26    4\n",
              "1     4\n",
              "21    3\n",
              "Name: year, dtype: int64"
            ]
          },
          "metadata": {
            "tags": []
          },
          "execution_count": 21
        }
      ]
    },
    {
      "cell_type": "code",
      "metadata": {
        "id": "Fk1U9rnf71Er"
      },
      "source": [
        "hwz_sentiment = pd.DataFrame(np.array([[21, 0, 0, 2018]]), columns=['district_num','hwz_compound_sentiment','hwz_comment_count', 'year']).append(hwz_sentiment, ignore_index=True)"
      ],
      "execution_count": null,
      "outputs": []
    },
    {
      "cell_type": "code",
      "metadata": {
        "colab": {
          "base_uri": "https://localhost:8080/",
          "height": 79
        },
        "id": "jFWUh9el71GY",
        "outputId": "2bd30b2a-dd58-438c-d642-ebb5bc6d5a29"
      },
      "source": [
        "a = hwz_sentiment.loc[hwz_sentiment['hwz_compound_sentiment'] == 0]\n",
        "a"
      ],
      "execution_count": null,
      "outputs": [
        {
          "output_type": "execute_result",
          "data": {
            "text/html": [
              "<div>\n",
              "<style scoped>\n",
              "    .dataframe tbody tr th:only-of-type {\n",
              "        vertical-align: middle;\n",
              "    }\n",
              "\n",
              "    .dataframe tbody tr th {\n",
              "        vertical-align: top;\n",
              "    }\n",
              "\n",
              "    .dataframe thead th {\n",
              "        text-align: right;\n",
              "    }\n",
              "</style>\n",
              "<table border=\"1\" class=\"dataframe\">\n",
              "  <thead>\n",
              "    <tr style=\"text-align: right;\">\n",
              "      <th></th>\n",
              "      <th>district_num</th>\n",
              "      <th>hwz_compound_sentiment</th>\n",
              "      <th>hwz_comment_count</th>\n",
              "      <th>year</th>\n",
              "    </tr>\n",
              "  </thead>\n",
              "  <tbody>\n",
              "    <tr>\n",
              "      <th>0</th>\n",
              "      <td>21</td>\n",
              "      <td>0.0</td>\n",
              "      <td>0</td>\n",
              "      <td>2018</td>\n",
              "    </tr>\n",
              "  </tbody>\n",
              "</table>\n",
              "</div>"
            ],
            "text/plain": [
              "   district_num  hwz_compound_sentiment  hwz_comment_count  year\n",
              "0            21                     0.0                  0  2018"
            ]
          },
          "metadata": {
            "tags": []
          },
          "execution_count": 24
        }
      ]
    },
    {
      "cell_type": "code",
      "metadata": {
        "colab": {
          "base_uri": "https://localhost:8080/"
        },
        "id": "weJxu0Cz71Iy",
        "outputId": "520bc5c8-ad8c-42a0-9c88-599031c185d9"
      },
      "source": [
        "hwz_sentiment.groupby('district_num')['year'].nunique().sort_values(ascending=False)"
      ],
      "execution_count": null,
      "outputs": [
        {
          "output_type": "execute_result",
          "data": {
            "text/plain": [
              "district_num\n",
              "28    4\n",
              "27    4\n",
              "2     4\n",
              "3     4\n",
              "4     4\n",
              "5     4\n",
              "6     4\n",
              "7     4\n",
              "8     4\n",
              "9     4\n",
              "10    4\n",
              "11    4\n",
              "12    4\n",
              "13    4\n",
              "14    4\n",
              "15    4\n",
              "16    4\n",
              "17    4\n",
              "18    4\n",
              "19    4\n",
              "20    4\n",
              "21    4\n",
              "22    4\n",
              "23    4\n",
              "24    4\n",
              "25    4\n",
              "26    4\n",
              "1     4\n",
              "Name: year, dtype: int64"
            ]
          },
          "metadata": {
            "tags": []
          },
          "execution_count": 25
        }
      ]
    },
    {
      "cell_type": "code",
      "metadata": {
        "id": "J8TtKEGk8Fsp"
      },
      "source": [
        "hwz_sentiment = pd.DataFrame(np.array([[21, 0, 0, 2018]]), columns=['district_num','hwz_compound_sentiment','hwz_comment_count', 'year']).append(hwz_sentiment, ignore_index=True)"
      ],
      "execution_count": null,
      "outputs": []
    },
    {
      "cell_type": "code",
      "metadata": {
        "id": "O8rTFT858FvE"
      },
      "source": [
        "hwz_sentiment.to_csv(\"hwz_vader_filled_sentiment.csv\", encoding='utf-8', index=False)"
      ],
      "execution_count": null,
      "outputs": []
    },
    {
      "cell_type": "code",
      "metadata": {
        "id": "VCGQx1YPya7C"
      },
      "source": [
        "hwz_vader_filled_sentiment = pd.read_csv('/content/drive/MyDrive/BT4222 WEISHENG/Generated csv/hwz/hwz_vader_sentiment.csv')"
      ],
      "execution_count": 3,
      "outputs": []
    },
    {
      "cell_type": "code",
      "metadata": {
        "colab": {
          "base_uri": "https://localhost:8080/",
          "height": 357
        },
        "id": "H4kSLbmVy2YJ",
        "outputId": "08bd1378-9d8f-48b0-cdcd-eaf130ec7e6f"
      },
      "source": [
        "hwz_vader_filled_sentiment.head(10)"
      ],
      "execution_count": 4,
      "outputs": [
        {
          "output_type": "execute_result",
          "data": {
            "text/html": [
              "<div>\n",
              "<style scoped>\n",
              "    .dataframe tbody tr th:only-of-type {\n",
              "        vertical-align: middle;\n",
              "    }\n",
              "\n",
              "    .dataframe tbody tr th {\n",
              "        vertical-align: top;\n",
              "    }\n",
              "\n",
              "    .dataframe thead th {\n",
              "        text-align: right;\n",
              "    }\n",
              "</style>\n",
              "<table border=\"1\" class=\"dataframe\">\n",
              "  <thead>\n",
              "    <tr style=\"text-align: right;\">\n",
              "      <th></th>\n",
              "      <th>district_num</th>\n",
              "      <th>compound_sentiment</th>\n",
              "      <th>comment_count</th>\n",
              "      <th>year</th>\n",
              "    </tr>\n",
              "  </thead>\n",
              "  <tbody>\n",
              "    <tr>\n",
              "      <th>0</th>\n",
              "      <td>1</td>\n",
              "      <td>0.560225</td>\n",
              "      <td>8</td>\n",
              "      <td>2018</td>\n",
              "    </tr>\n",
              "    <tr>\n",
              "      <th>1</th>\n",
              "      <td>2</td>\n",
              "      <td>0.686600</td>\n",
              "      <td>1</td>\n",
              "      <td>2018</td>\n",
              "    </tr>\n",
              "    <tr>\n",
              "      <th>2</th>\n",
              "      <td>3</td>\n",
              "      <td>0.498136</td>\n",
              "      <td>39</td>\n",
              "      <td>2018</td>\n",
              "    </tr>\n",
              "    <tr>\n",
              "      <th>3</th>\n",
              "      <td>4</td>\n",
              "      <td>0.504483</td>\n",
              "      <td>29</td>\n",
              "      <td>2018</td>\n",
              "    </tr>\n",
              "    <tr>\n",
              "      <th>4</th>\n",
              "      <td>5</td>\n",
              "      <td>0.377705</td>\n",
              "      <td>61</td>\n",
              "      <td>2018</td>\n",
              "    </tr>\n",
              "    <tr>\n",
              "      <th>5</th>\n",
              "      <td>6</td>\n",
              "      <td>0.939200</td>\n",
              "      <td>1</td>\n",
              "      <td>2018</td>\n",
              "    </tr>\n",
              "    <tr>\n",
              "      <th>6</th>\n",
              "      <td>7</td>\n",
              "      <td>0.232909</td>\n",
              "      <td>11</td>\n",
              "      <td>2018</td>\n",
              "    </tr>\n",
              "    <tr>\n",
              "      <th>7</th>\n",
              "      <td>8</td>\n",
              "      <td>0.527200</td>\n",
              "      <td>6</td>\n",
              "      <td>2018</td>\n",
              "    </tr>\n",
              "    <tr>\n",
              "      <th>8</th>\n",
              "      <td>9</td>\n",
              "      <td>-0.000870</td>\n",
              "      <td>10</td>\n",
              "      <td>2018</td>\n",
              "    </tr>\n",
              "    <tr>\n",
              "      <th>9</th>\n",
              "      <td>10</td>\n",
              "      <td>0.558144</td>\n",
              "      <td>16</td>\n",
              "      <td>2018</td>\n",
              "    </tr>\n",
              "  </tbody>\n",
              "</table>\n",
              "</div>"
            ],
            "text/plain": [
              "   district_num  compound_sentiment  comment_count  year\n",
              "0             1            0.560225              8  2018\n",
              "1             2            0.686600              1  2018\n",
              "2             3            0.498136             39  2018\n",
              "3             4            0.504483             29  2018\n",
              "4             5            0.377705             61  2018\n",
              "5             6            0.939200              1  2018\n",
              "6             7            0.232909             11  2018\n",
              "7             8            0.527200              6  2018\n",
              "8             9           -0.000870             10  2018\n",
              "9            10            0.558144             16  2018"
            ]
          },
          "metadata": {
            "tags": []
          },
          "execution_count": 4
        }
      ]
    },
    {
      "cell_type": "code",
      "metadata": {
        "colab": {
          "base_uri": "https://localhost:8080/"
        },
        "id": "AkLvhJ17zOo3",
        "outputId": "b679dfe3-fd03-4896-af6b-49b79082af04"
      },
      "source": [
        "hwz_sum = hwz_vader_filled_sentiment.groupby(['district_num'],as_index=False).agg({'comment_count' : 'sum'})\n",
        "print(type(hwz_sum))"
      ],
      "execution_count": 5,
      "outputs": [
        {
          "output_type": "stream",
          "text": [
            "<class 'pandas.core.frame.DataFrame'>\n"
          ],
          "name": "stdout"
        }
      ]
    },
    {
      "cell_type": "code",
      "metadata": {
        "colab": {
          "base_uri": "https://localhost:8080/",
          "height": 630
        },
        "id": "TXxNRI1Vy2fv",
        "outputId": "53c9f79f-c8eb-4d6c-c6df-e0a3472c4b6b"
      },
      "source": [
        "import matplotlib.pyplot as plt\n",
        "ax = hwz_sum[['comment_count']].plot(kind='bar', title =\"V comp\", figsize=(15, 10), legend=True, fontsize=12)\n",
        "ax.set_xlabel(\"District\", fontsize=12)\n",
        "ax.set_ylabel(\"Number of Post\", fontsize=12)\n",
        "plt.show()"
      ],
      "execution_count": 6,
      "outputs": [
        {
          "output_type": "display_data",
          "data": {
            "image/png": "[encoded data removed]",
            "text/plain": [
              "<Figure size 1080x720 with 1 Axes>"
            ]
          },
          "metadata": {
            "tags": [],
            "needs_background": "light"
          }
        }
      ]
    },
    {
      "cell_type": "code",
      "metadata": {
        "colab": {
          "base_uri": "https://localhost:8080/",
          "height": 622
        },
        "id": "F7ZoJD1N7aTZ",
        "outputId": "bf860650-026b-4350-c7ad-e06af189fc97"
      },
      "source": [
        "import pandas as pd\n",
        "import seaborn as sns\n",
        "import matplotlib.pyplot as plt\n",
        "\n",
        "\n",
        "f, ax = plt.subplots(figsize=(10, 10))\n",
        "plot = sns.barplot(x=\"comment_count\", y=\"district_num\", data= hwz_sum,\n",
        "            label=\"Total\", orient = 'h')\n",
        "plot.set_title(\"Number of Posts for each District in Hwz\")\n",
        "\n",
        "def show_values_on_bars(axs, h_v=\"v\", space=0.4):\n",
        "    def _show_on_single_plot(ax):\n",
        "        if h_v == \"v\":\n",
        "            for p in ax.patches:\n",
        "                _x = p.get_x() + p.get_width() / 2\n",
        "                _y = p.get_y() + p.get_height()\n",
        "                value = int(p.get_height())\n",
        "                ax.text(_x, _y, value, ha=\"center\") \n",
        "        elif h_v == \"h\":\n",
        "            for p in ax.patches:\n",
        "                _x = p.get_x() + p.get_width() + float(space)\n",
        "                _y = p.get_y() + p.get_height()\n",
        "                value = int(p.get_width())\n",
        "                ax.text(_x, _y, value, ha=\"left\")\n",
        "\n",
        "    if isinstance(axs, np.ndarray):\n",
        "        for idx, ax in np.ndenumerate(axs):\n",
        "            _show_on_single_plot(ax)\n",
        "    else:\n",
        "        _show_on_single_plot(axs)\n",
        "\n",
        "show_values_on_bars(plot, \"h\", 0.2)"
      ],
      "execution_count": 64,
      "outputs": [
        {
          "output_type": "display_data",
          "data": {
            "image/png": "[encoded data removed]",
            "text/plain": [
              "<Figure size 720x720 with 1 Axes>"
            ]
          },
          "metadata": {
            "tags": []
          }
        }
      ]
    },
    {
      "cell_type": "markdown",
      "metadata": {
        "id": "tweS_aviC3rY"
      },
      "source": [
        "Reddit"
      ]
    },
    {
      "cell_type": "code",
      "metadata": {
        "colab": {
          "base_uri": "https://localhost:8080/",
          "height": 202
        },
        "id": "mqbdEjdd8F0s",
        "outputId": "36fd9864-fa45-4e25-d08d-e403a3dc23d1"
      },
      "source": [
        "reddit_sentiment = pd.read_csv('/content/drive/MyDrive/BT4222 WEISHENG/Generated csv/reddit/reddit_vader_sentiment.csv')\n",
        "reddit_sentiment.columns = ['district_num', 'reddit_vader_sentiment', 'reddit_comment_count','year']\n",
        "reddit_sentiment.head()"
      ],
      "execution_count": null,
      "outputs": [
        {
          "output_type": "execute_result",
          "data": {
            "text/html": [
              "<div>\n",
              "<style scoped>\n",
              "    .dataframe tbody tr th:only-of-type {\n",
              "        vertical-align: middle;\n",
              "    }\n",
              "\n",
              "    .dataframe tbody tr th {\n",
              "        vertical-align: top;\n",
              "    }\n",
              "\n",
              "    .dataframe thead th {\n",
              "        text-align: right;\n",
              "    }\n",
              "</style>\n",
              "<table border=\"1\" class=\"dataframe\">\n",
              "  <thead>\n",
              "    <tr style=\"text-align: right;\">\n",
              "      <th></th>\n",
              "      <th>district_num</th>\n",
              "      <th>reddit_vader_sentiment</th>\n",
              "      <th>reddit_comment_count</th>\n",
              "      <th>year</th>\n",
              "    </tr>\n",
              "  </thead>\n",
              "  <tbody>\n",
              "    <tr>\n",
              "      <th>0</th>\n",
              "      <td>1</td>\n",
              "      <td>0.128370</td>\n",
              "      <td>680</td>\n",
              "      <td>2018</td>\n",
              "    </tr>\n",
              "    <tr>\n",
              "      <th>1</th>\n",
              "      <td>2</td>\n",
              "      <td>0.143278</td>\n",
              "      <td>23</td>\n",
              "      <td>2018</td>\n",
              "    </tr>\n",
              "    <tr>\n",
              "      <th>2</th>\n",
              "      <td>3</td>\n",
              "      <td>0.032144</td>\n",
              "      <td>579</td>\n",
              "      <td>2018</td>\n",
              "    </tr>\n",
              "    <tr>\n",
              "      <th>3</th>\n",
              "      <td>4</td>\n",
              "      <td>0.044297</td>\n",
              "      <td>821</td>\n",
              "      <td>2018</td>\n",
              "    </tr>\n",
              "    <tr>\n",
              "      <th>4</th>\n",
              "      <td>5</td>\n",
              "      <td>0.044781</td>\n",
              "      <td>197</td>\n",
              "      <td>2018</td>\n",
              "    </tr>\n",
              "  </tbody>\n",
              "</table>\n",
              "</div>"
            ],
            "text/plain": [
              "   district_num  reddit_vader_sentiment  reddit_comment_count  year\n",
              "0             1                0.128370                   680  2018\n",
              "1             2                0.143278                    23  2018\n",
              "2             3                0.032144                   579  2018\n",
              "3             4                0.044297                   821  2018\n",
              "4             5                0.044781                   197  2018"
            ]
          },
          "metadata": {
            "tags": []
          },
          "execution_count": 30
        }
      ]
    },
    {
      "cell_type": "code",
      "metadata": {
        "colab": {
          "base_uri": "https://localhost:8080/"
        },
        "id": "IdGaKJAk9U7k",
        "outputId": "de90d161-0693-469b-ed62-55c2fe89cdcb"
      },
      "source": [
        "reddit_sentiment.groupby('district_num')['year'].nunique().sort_values(ascending=False)\n",
        "insert_row =[[11, 0, 0, 2019], [26, 0, 0, 2021],[7, 0, 0, 2018],[7, 0, 0, 2019],[7, 0, 0, 2020],[7, 0, 0, 2021] ]\n",
        "reddit_sentiment = pd.DataFrame(np.array(insert_row), columns=['district_num','reddit_vader_sentiment','reddit_comment_count', 'year']).append(reddit_sentiment, ignore_index=True)\n",
        "reddit_sentiment.groupby('district_num')['year'].nunique().sort_values(ascending=False)\n"
      ],
      "execution_count": null,
      "outputs": [
        {
          "output_type": "execute_result",
          "data": {
            "text/plain": [
              "district_num\n",
              "28    4\n",
              "27    4\n",
              "2     4\n",
              "3     4\n",
              "4     4\n",
              "5     4\n",
              "6     4\n",
              "7     4\n",
              "8     4\n",
              "9     4\n",
              "10    4\n",
              "11    4\n",
              "12    4\n",
              "13    4\n",
              "14    4\n",
              "15    4\n",
              "16    4\n",
              "17    4\n",
              "18    4\n",
              "19    4\n",
              "20    4\n",
              "21    4\n",
              "22    4\n",
              "23    4\n",
              "24    4\n",
              "25    4\n",
              "26    4\n",
              "1     4\n",
              "Name: year, dtype: int64"
            ]
          },
          "metadata": {
            "tags": []
          },
          "execution_count": 31
        }
      ]
    },
    {
      "cell_type": "code",
      "metadata": {
        "id": "qLjzt1649U-P"
      },
      "source": [
        "reddit_sentiment.to_csv(\"reddit_vader_sentiment_filled.csv\", encoding='utf-8', index=False)"
      ],
      "execution_count": null,
      "outputs": []
    },
    {
      "cell_type": "code",
      "metadata": {
        "id": "qQ34cxBDCTfh"
      },
      "source": [
        "reddit_vader_sentiment_filled = pd.read_csv('/content/drive/MyDrive/BT4222 WEISHENG/Generated csv/reddit/reddit_vader_sentiment_filled.csv')"
      ],
      "execution_count": 7,
      "outputs": []
    },
    {
      "cell_type": "code",
      "metadata": {
        "colab": {
          "base_uri": "https://localhost:8080/",
          "height": 203
        },
        "id": "ejttDUMAFOpM",
        "outputId": "0de70529-eb7c-4ac8-83c7-fa7bca88956f"
      },
      "source": [
        "reddit_vader_sentiment_filled.head()"
      ],
      "execution_count": 8,
      "outputs": [
        {
          "output_type": "execute_result",
          "data": {
            "text/html": [
              "<div>\n",
              "<style scoped>\n",
              "    .dataframe tbody tr th:only-of-type {\n",
              "        vertical-align: middle;\n",
              "    }\n",
              "\n",
              "    .dataframe tbody tr th {\n",
              "        vertical-align: top;\n",
              "    }\n",
              "\n",
              "    .dataframe thead th {\n",
              "        text-align: right;\n",
              "    }\n",
              "</style>\n",
              "<table border=\"1\" class=\"dataframe\">\n",
              "  <thead>\n",
              "    <tr style=\"text-align: right;\">\n",
              "      <th></th>\n",
              "      <th>district_num</th>\n",
              "      <th>reddit_vader_sentiment</th>\n",
              "      <th>reddit_comment_count</th>\n",
              "      <th>year</th>\n",
              "    </tr>\n",
              "  </thead>\n",
              "  <tbody>\n",
              "    <tr>\n",
              "      <th>0</th>\n",
              "      <td>11</td>\n",
              "      <td>0.0</td>\n",
              "      <td>0</td>\n",
              "      <td>2019</td>\n",
              "    </tr>\n",
              "    <tr>\n",
              "      <th>1</th>\n",
              "      <td>26</td>\n",
              "      <td>0.0</td>\n",
              "      <td>0</td>\n",
              "      <td>2021</td>\n",
              "    </tr>\n",
              "    <tr>\n",
              "      <th>2</th>\n",
              "      <td>7</td>\n",
              "      <td>0.0</td>\n",
              "      <td>0</td>\n",
              "      <td>2018</td>\n",
              "    </tr>\n",
              "    <tr>\n",
              "      <th>3</th>\n",
              "      <td>7</td>\n",
              "      <td>0.0</td>\n",
              "      <td>0</td>\n",
              "      <td>2019</td>\n",
              "    </tr>\n",
              "    <tr>\n",
              "      <th>4</th>\n",
              "      <td>7</td>\n",
              "      <td>0.0</td>\n",
              "      <td>0</td>\n",
              "      <td>2020</td>\n",
              "    </tr>\n",
              "  </tbody>\n",
              "</table>\n",
              "</div>"
            ],
            "text/plain": [
              "   district_num  reddit_vader_sentiment  reddit_comment_count  year\n",
              "0            11                     0.0                     0  2019\n",
              "1            26                     0.0                     0  2021\n",
              "2             7                     0.0                     0  2018\n",
              "3             7                     0.0                     0  2019\n",
              "4             7                     0.0                     0  2020"
            ]
          },
          "metadata": {
            "tags": []
          },
          "execution_count": 8
        }
      ]
    },
    {
      "cell_type": "code",
      "metadata": {
        "id": "haGEVOz2CYWq"
      },
      "source": [
        "reddit_sum = reddit_vader_sentiment_filled.groupby(['district_num'],as_index=False).agg({'reddit_comment_count' : 'sum'})"
      ],
      "execution_count": 9,
      "outputs": []
    },
    {
      "cell_type": "code",
      "metadata": {
        "colab": {
          "base_uri": "https://localhost:8080/",
          "height": 606
        },
        "id": "YzDv1BzfEBWo",
        "outputId": "b909b10f-9aa7-49e6-f300-23af87a92e50"
      },
      "source": [
        "from matplotlib.pyplot import figure\n",
        "merge = pd.merge(hwz_sum, reddit_sum, on='district_num')\n",
        "\n",
        "\n",
        "merge.plot.bar(x='district_num', figsize=(20,10))\n",
        "plt.xticks(rotation=0)\n",
        "plt.legend(bbox_to_anchor=(1.05, 1), loc='upper left')\n",
        "plt.show()"
      ],
      "execution_count": 10,
      "outputs": [
        {
          "output_type": "display_data",
          "data": {
            "image/png": "[encoded data removed]",
            "text/plain": [
              "<Figure size 1440x720 with 1 Axes>"
            ]
          },
          "metadata": {
            "tags": [],
            "needs_background": "light"
          }
        }
      ]
    },
    {
      "cell_type": "code",
      "metadata": {
        "colab": {
          "base_uri": "https://localhost:8080/",
          "height": 707
        },
        "id": "ZzeCBaofGsOi",
        "outputId": "966ef04e-0600-414e-81a8-d0cc4fc5ef12"
      },
      "source": [
        "import matplotlib\n",
        "import matplotlib.pyplot as plt\n",
        "import numpy as np\n",
        "\n",
        "\n",
        "labels = merge['district_num'].to_list()\n",
        "reddit = merge['reddit_comment_count'].to_list()\n",
        "hwz = merge['comment_count'].to_list()\n",
        "\n",
        "x = np.arange(len(labels))  # the label locations\n",
        "width = 0.4  # the width of the bars\n",
        "\n",
        "fig, ax = plt.subplots(figsize=(15, 7), dpi=100)\n",
        "rects1 = ax.bar(x - width/2, reddit, width, label='Reddit')\n",
        "rects2 = ax.bar(x + width/2, hwz, width, label='Hwz')\n",
        "\n",
        "# Add some text for labels, title and custom x-axis tick labels, etc.\n",
        "ax.set_ylabel('Number of Posts')\n",
        "ax.set_title('Number of Posts for each District')\n",
        "ax.set_xticks(x)\n",
        "ax.set_xticklabels(labels)\n",
        "ax.legend()\n",
        "ax.margins(x=0.01)\n",
        "\n",
        "def autolabel(rects):\n",
        "    \"\"\"Attach a text label above each bar in *rects*, displaying its height.\"\"\"\n",
        "    for rect in rects:\n",
        "        height = rect.get_height()\n",
        "        ax.annotate('{}'.format(height),\n",
        "                    xy=(rect.get_x() + rect.get_width() / 2, height),\n",
        "                    xytext=(0, 3),  # 3 points vertical offset\n",
        "                    textcoords=\"offset points\",\n",
        "                    ha='center', va='bottom')\n",
        "\n",
        "\n",
        "autolabel(rects1)\n",
        "autolabel(rects2)\n",
        "\n",
        "fig.tight_layout()\n",
        "\n",
        "plt.show()"
      ],
      "execution_count": 21,
      "outputs": [
        {
          "output_type": "display_data",
          "data": {
            "image/png": "[encoded data removed]",
            "text/plain": [
              "<Figure size 1500x700 with 1 Axes>"
            ]
          },
          "metadata": {
            "tags": [],
            "needs_background": "light"
          }
        }
      ]
    },
    {
      "cell_type": "code",
      "metadata": {
        "colab": {
          "base_uri": "https://localhost:8080/",
          "height": 630
        },
        "id": "QmCOLCdyCYZ1",
        "outputId": "716aa226-238b-4719-f1da-d1af04103777"
      },
      "source": [
        "import matplotlib.pyplot as plt\n",
        "ax = reddit_sum[['comment_count']].plot(kind='bar', title =\"V comp\", figsize=(15, 10), legend=True, fontsize=12)\n",
        "ax.set_xlabel(\"District\", fontsize=12)\n",
        "ax.set_ylabel(\"Number of Post\", fontsize=12)\n",
        "plt.show()"
      ],
      "execution_count": 70,
      "outputs": [
        {
          "output_type": "display_data",
          "data": {
            "image/png": "[encoded data removed]",
            "text/plain": [
              "<Figure size 1080x720 with 1 Axes>"
            ]
          },
          "metadata": {
            "tags": []
          }
        }
      ]
    },
    {
      "cell_type": "code",
      "metadata": {
        "id": "uVxeq7GvCYca"
      },
      "source": [
        "import pandas as pd\n",
        "import seaborn as sns\n",
        "import matplotlib.pyplot as plt\n",
        "\n",
        "\n",
        "f, ax = plt.subplots(figsize=(10, 10))\n",
        "plot = sns.barplot(x=\"comment_count\", y=\"district_num\", data= hwz_sum,\n",
        "            label=\"Total\", orient = 'h')\n",
        "plot.set_title(\"Number of Posts for each District in Hwz\")\n",
        "\n",
        "def show_values_on_bars(axs, h_v=\"v\", space=0.4):\n",
        "    def _show_on_single_plot(ax):\n",
        "        if h_v == \"v\":\n",
        "            for p in ax.patches:\n",
        "                _x = p.get_x() + p.get_width() / 2\n",
        "                _y = p.get_y() + p.get_height()\n",
        "                value = int(p.get_height())\n",
        "                ax.text(_x, _y, value, ha=\"center\") \n",
        "        elif h_v == \"h\":\n",
        "            for p in ax.patches:\n",
        "                _x = p.get_x() + p.get_width() + float(space)\n",
        "                _y = p.get_y() + p.get_height()\n",
        "                value = int(p.get_width())\n",
        "                ax.text(_x, _y, value, ha=\"left\")\n",
        "\n",
        "    if isinstance(axs, np.ndarray):\n",
        "        for idx, ax in np.ndenumerate(axs):\n",
        "            _show_on_single_plot(ax)\n",
        "    else:\n",
        "        _show_on_single_plot(axs)\n",
        "\n",
        "show_values_on_bars(plot, \"h\", 0.2)"
      ],
      "execution_count": null,
      "outputs": []
    },
    {
      "cell_type": "code",
      "metadata": {
        "id": "hkVwUeZFCYe0"
      },
      "source": [
        ""
      ],
      "execution_count": null,
      "outputs": []
    },
    {
      "cell_type": "code",
      "metadata": {
        "id": "7uCeQhvtCYiK"
      },
      "source": [
        ""
      ],
      "execution_count": null,
      "outputs": []
    },
    {
      "cell_type": "markdown",
      "metadata": {
        "id": "a0jv5NJdCUN1"
      },
      "source": [
        "Combining sentiment score from hwz and Reddit"
      ]
    },
    {
      "cell_type": "code",
      "metadata": {
        "colab": {
          "base_uri": "https://localhost:8080/",
          "height": 222
        },
        "id": "TiYBnWEn9tot",
        "outputId": "762326de-2050-4f62-b0a5-e8e75594e8c1"
      },
      "source": [
        "combined_sentiment = hwz_sentiment.merge(reddit_sentiment, on=['district_num','year'], how='left')\n",
        "combined_sentiment['total_count'] = combined_sentiment['hwz_comment_count'] + combined_sentiment['reddit_comment_count']\n",
        "combined_sentiment.head()"
      ],
      "execution_count": null,
      "outputs": [
        {
          "output_type": "execute_result",
          "data": {
            "text/html": [
              "<div>\n",
              "<style scoped>\n",
              "    .dataframe tbody tr th:only-of-type {\n",
              "        vertical-align: middle;\n",
              "    }\n",
              "\n",
              "    .dataframe tbody tr th {\n",
              "        vertical-align: top;\n",
              "    }\n",
              "\n",
              "    .dataframe thead th {\n",
              "        text-align: right;\n",
              "    }\n",
              "</style>\n",
              "<table border=\"1\" class=\"dataframe\">\n",
              "  <thead>\n",
              "    <tr style=\"text-align: right;\">\n",
              "      <th></th>\n",
              "      <th>district_num</th>\n",
              "      <th>hwz_compound_sentiment</th>\n",
              "      <th>hwz_comment_count</th>\n",
              "      <th>year</th>\n",
              "      <th>reddit_vader_sentiment</th>\n",
              "      <th>reddit_comment_count</th>\n",
              "      <th>total_count</th>\n",
              "    </tr>\n",
              "  </thead>\n",
              "  <tbody>\n",
              "    <tr>\n",
              "      <th>0</th>\n",
              "      <td>21</td>\n",
              "      <td>0.000000</td>\n",
              "      <td>0</td>\n",
              "      <td>2018</td>\n",
              "      <td>0.181969</td>\n",
              "      <td>16</td>\n",
              "      <td>16</td>\n",
              "    </tr>\n",
              "    <tr>\n",
              "      <th>1</th>\n",
              "      <td>1</td>\n",
              "      <td>0.560225</td>\n",
              "      <td>8</td>\n",
              "      <td>2018</td>\n",
              "      <td>0.128370</td>\n",
              "      <td>680</td>\n",
              "      <td>688</td>\n",
              "    </tr>\n",
              "    <tr>\n",
              "      <th>2</th>\n",
              "      <td>2</td>\n",
              "      <td>0.686600</td>\n",
              "      <td>1</td>\n",
              "      <td>2018</td>\n",
              "      <td>0.143278</td>\n",
              "      <td>23</td>\n",
              "      <td>24</td>\n",
              "    </tr>\n",
              "    <tr>\n",
              "      <th>3</th>\n",
              "      <td>3</td>\n",
              "      <td>0.498136</td>\n",
              "      <td>39</td>\n",
              "      <td>2018</td>\n",
              "      <td>0.032144</td>\n",
              "      <td>579</td>\n",
              "      <td>618</td>\n",
              "    </tr>\n",
              "    <tr>\n",
              "      <th>4</th>\n",
              "      <td>4</td>\n",
              "      <td>0.504483</td>\n",
              "      <td>29</td>\n",
              "      <td>2018</td>\n",
              "      <td>0.044297</td>\n",
              "      <td>821</td>\n",
              "      <td>850</td>\n",
              "    </tr>\n",
              "  </tbody>\n",
              "</table>\n",
              "</div>"
            ],
            "text/plain": [
              "   district_num  hwz_compound_sentiment  ...  reddit_comment_count  total_count\n",
              "0            21                0.000000  ...                    16           16\n",
              "1             1                0.560225  ...                   680          688\n",
              "2             2                0.686600  ...                    23           24\n",
              "3             3                0.498136  ...                   579          618\n",
              "4             4                0.504483  ...                   821          850\n",
              "\n",
              "[5 rows x 7 columns]"
            ]
          },
          "metadata": {
            "tags": []
          },
          "execution_count": 33
        }
      ]
    },
    {
      "cell_type": "code",
      "metadata": {
        "colab": {
          "base_uri": "https://localhost:8080/",
          "height": 222
        },
        "id": "iB-__oII9us-",
        "outputId": "a9d8fa4e-2ea3-479b-c34d-c511fcdc3515"
      },
      "source": [
        "combined_sentiment['weighted_sentiment'] = (combined_sentiment['hwz_compound_sentiment'] * (combined_sentiment['hwz_comment_count']/combined_sentiment['total_count'])) + (combined_sentiment['reddit_vader_sentiment'] * (combined_sentiment['reddit_comment_count']/combined_sentiment['total_count']))\n",
        "combined_sentiment.head()"
      ],
      "execution_count": null,
      "outputs": [
        {
          "output_type": "execute_result",
          "data": {
            "text/html": [
              "<div>\n",
              "<style scoped>\n",
              "    .dataframe tbody tr th:only-of-type {\n",
              "        vertical-align: middle;\n",
              "    }\n",
              "\n",
              "    .dataframe tbody tr th {\n",
              "        vertical-align: top;\n",
              "    }\n",
              "\n",
              "    .dataframe thead th {\n",
              "        text-align: right;\n",
              "    }\n",
              "</style>\n",
              "<table border=\"1\" class=\"dataframe\">\n",
              "  <thead>\n",
              "    <tr style=\"text-align: right;\">\n",
              "      <th></th>\n",
              "      <th>district_num</th>\n",
              "      <th>hwz_compound_sentiment</th>\n",
              "      <th>hwz_comment_count</th>\n",
              "      <th>year</th>\n",
              "      <th>reddit_vader_sentiment</th>\n",
              "      <th>reddit_comment_count</th>\n",
              "      <th>total_count</th>\n",
              "      <th>weighted_sentiment</th>\n",
              "    </tr>\n",
              "  </thead>\n",
              "  <tbody>\n",
              "    <tr>\n",
              "      <th>0</th>\n",
              "      <td>21</td>\n",
              "      <td>0.000000</td>\n",
              "      <td>0</td>\n",
              "      <td>2018</td>\n",
              "      <td>0.181969</td>\n",
              "      <td>16</td>\n",
              "      <td>16</td>\n",
              "      <td>0.181969</td>\n",
              "    </tr>\n",
              "    <tr>\n",
              "      <th>1</th>\n",
              "      <td>1</td>\n",
              "      <td>0.560225</td>\n",
              "      <td>8</td>\n",
              "      <td>2018</td>\n",
              "      <td>0.128370</td>\n",
              "      <td>680</td>\n",
              "      <td>688</td>\n",
              "      <td>0.133391</td>\n",
              "    </tr>\n",
              "    <tr>\n",
              "      <th>2</th>\n",
              "      <td>2</td>\n",
              "      <td>0.686600</td>\n",
              "      <td>1</td>\n",
              "      <td>2018</td>\n",
              "      <td>0.143278</td>\n",
              "      <td>23</td>\n",
              "      <td>24</td>\n",
              "      <td>0.165917</td>\n",
              "    </tr>\n",
              "    <tr>\n",
              "      <th>3</th>\n",
              "      <td>3</td>\n",
              "      <td>0.498136</td>\n",
              "      <td>39</td>\n",
              "      <td>2018</td>\n",
              "      <td>0.032144</td>\n",
              "      <td>579</td>\n",
              "      <td>618</td>\n",
              "      <td>0.061551</td>\n",
              "    </tr>\n",
              "    <tr>\n",
              "      <th>4</th>\n",
              "      <td>4</td>\n",
              "      <td>0.504483</td>\n",
              "      <td>29</td>\n",
              "      <td>2018</td>\n",
              "      <td>0.044297</td>\n",
              "      <td>821</td>\n",
              "      <td>850</td>\n",
              "      <td>0.059997</td>\n",
              "    </tr>\n",
              "  </tbody>\n",
              "</table>\n",
              "</div>"
            ],
            "text/plain": [
              "   district_num  hwz_compound_sentiment  ...  total_count  weighted_sentiment\n",
              "0            21                0.000000  ...           16            0.181969\n",
              "1             1                0.560225  ...          688            0.133391\n",
              "2             2                0.686600  ...           24            0.165917\n",
              "3             3                0.498136  ...          618            0.061551\n",
              "4             4                0.504483  ...          850            0.059997\n",
              "\n",
              "[5 rows x 8 columns]"
            ]
          },
          "metadata": {
            "tags": []
          },
          "execution_count": 34
        }
      ]
    },
    {
      "cell_type": "code",
      "metadata": {
        "id": "yPCEkvVP9VAV"
      },
      "source": [
        "combined_sentiment.to_csv(\"combined_vader_sentiment.csv\", encoding='utf-8', index=False)"
      ],
      "execution_count": null,
      "outputs": []
    },
    {
      "cell_type": "code",
      "metadata": {
        "id": "mbJpA1VpA6j5"
      },
      "source": [
        "combined_sentiment = pd.read_csv('/content/drive/MyDrive/BT4222 WEISHENG/Generated csv/Final Sentiment Analysis CSV/vader sentiment analysis/combined_vader_sentiment.csv')"
      ],
      "execution_count": 3,
      "outputs": []
    },
    {
      "cell_type": "code",
      "metadata": {
        "colab": {
          "base_uri": "https://localhost:8080/",
          "height": 417
        },
        "id": "t3clUnIMx5hi",
        "outputId": "b52fd879-17ab-40b0-ba30-27df51725e58"
      },
      "source": [
        "combined_sentiment"
      ],
      "execution_count": 4,
      "outputs": [
        {
          "output_type": "execute_result",
          "data": {
            "text/html": [
              "<div>\n",
              "<style scoped>\n",
              "    .dataframe tbody tr th:only-of-type {\n",
              "        vertical-align: middle;\n",
              "    }\n",
              "\n",
              "    .dataframe tbody tr th {\n",
              "        vertical-align: top;\n",
              "    }\n",
              "\n",
              "    .dataframe thead th {\n",
              "        text-align: right;\n",
              "    }\n",
              "</style>\n",
              "<table border=\"1\" class=\"dataframe\">\n",
              "  <thead>\n",
              "    <tr style=\"text-align: right;\">\n",
              "      <th></th>\n",
              "      <th>district_num</th>\n",
              "      <th>hwz_compound_sentiment</th>\n",
              "      <th>hwz_comment_count</th>\n",
              "      <th>year</th>\n",
              "      <th>reddit_vader_sentiment</th>\n",
              "      <th>reddit_comment_count</th>\n",
              "      <th>total_count</th>\n",
              "      <th>weighted_sentiment</th>\n",
              "    </tr>\n",
              "  </thead>\n",
              "  <tbody>\n",
              "    <tr>\n",
              "      <th>0</th>\n",
              "      <td>21</td>\n",
              "      <td>0.000000</td>\n",
              "      <td>0</td>\n",
              "      <td>2018</td>\n",
              "      <td>0.181969</td>\n",
              "      <td>16</td>\n",
              "      <td>16</td>\n",
              "      <td>0.181969</td>\n",
              "    </tr>\n",
              "    <tr>\n",
              "      <th>1</th>\n",
              "      <td>1</td>\n",
              "      <td>0.560225</td>\n",
              "      <td>8</td>\n",
              "      <td>2018</td>\n",
              "      <td>0.128370</td>\n",
              "      <td>680</td>\n",
              "      <td>688</td>\n",
              "      <td>0.133391</td>\n",
              "    </tr>\n",
              "    <tr>\n",
              "      <th>2</th>\n",
              "      <td>2</td>\n",
              "      <td>0.686600</td>\n",
              "      <td>1</td>\n",
              "      <td>2018</td>\n",
              "      <td>0.143278</td>\n",
              "      <td>23</td>\n",
              "      <td>24</td>\n",
              "      <td>0.165917</td>\n",
              "    </tr>\n",
              "    <tr>\n",
              "      <th>3</th>\n",
              "      <td>3</td>\n",
              "      <td>0.498136</td>\n",
              "      <td>39</td>\n",
              "      <td>2018</td>\n",
              "      <td>0.032144</td>\n",
              "      <td>579</td>\n",
              "      <td>618</td>\n",
              "      <td>0.061551</td>\n",
              "    </tr>\n",
              "    <tr>\n",
              "      <th>4</th>\n",
              "      <td>4</td>\n",
              "      <td>0.504483</td>\n",
              "      <td>29</td>\n",
              "      <td>2018</td>\n",
              "      <td>0.044297</td>\n",
              "      <td>821</td>\n",
              "      <td>850</td>\n",
              "      <td>0.059997</td>\n",
              "    </tr>\n",
              "    <tr>\n",
              "      <th>...</th>\n",
              "      <td>...</td>\n",
              "      <td>...</td>\n",
              "      <td>...</td>\n",
              "      <td>...</td>\n",
              "      <td>...</td>\n",
              "      <td>...</td>\n",
              "      <td>...</td>\n",
              "      <td>...</td>\n",
              "    </tr>\n",
              "    <tr>\n",
              "      <th>107</th>\n",
              "      <td>24</td>\n",
              "      <td>0.416686</td>\n",
              "      <td>21</td>\n",
              "      <td>2021</td>\n",
              "      <td>0.039902</td>\n",
              "      <td>645</td>\n",
              "      <td>666</td>\n",
              "      <td>0.051782</td>\n",
              "    </tr>\n",
              "    <tr>\n",
              "      <th>108</th>\n",
              "      <td>25</td>\n",
              "      <td>0.384271</td>\n",
              "      <td>35</td>\n",
              "      <td>2021</td>\n",
              "      <td>0.034661</td>\n",
              "      <td>241</td>\n",
              "      <td>276</td>\n",
              "      <td>0.078996</td>\n",
              "    </tr>\n",
              "    <tr>\n",
              "      <th>109</th>\n",
              "      <td>26</td>\n",
              "      <td>0.822100</td>\n",
              "      <td>1</td>\n",
              "      <td>2021</td>\n",
              "      <td>0.000000</td>\n",
              "      <td>0</td>\n",
              "      <td>1</td>\n",
              "      <td>0.822100</td>\n",
              "    </tr>\n",
              "    <tr>\n",
              "      <th>110</th>\n",
              "      <td>27</td>\n",
              "      <td>0.258462</td>\n",
              "      <td>45</td>\n",
              "      <td>2021</td>\n",
              "      <td>0.080309</td>\n",
              "      <td>323</td>\n",
              "      <td>368</td>\n",
              "      <td>0.102094</td>\n",
              "    </tr>\n",
              "    <tr>\n",
              "      <th>111</th>\n",
              "      <td>28</td>\n",
              "      <td>0.403282</td>\n",
              "      <td>11</td>\n",
              "      <td>2021</td>\n",
              "      <td>0.067700</td>\n",
              "      <td>38</td>\n",
              "      <td>49</td>\n",
              "      <td>0.143035</td>\n",
              "    </tr>\n",
              "  </tbody>\n",
              "</table>\n",
              "<p>112 rows × 8 columns</p>\n",
              "</div>"
            ],
            "text/plain": [
              "     district_num  hwz_compound_sentiment  ...  total_count  weighted_sentiment\n",
              "0              21                0.000000  ...           16            0.181969\n",
              "1               1                0.560225  ...          688            0.133391\n",
              "2               2                0.686600  ...           24            0.165917\n",
              "3               3                0.498136  ...          618            0.061551\n",
              "4               4                0.504483  ...          850            0.059997\n",
              "..            ...                     ...  ...          ...                 ...\n",
              "107            24                0.416686  ...          666            0.051782\n",
              "108            25                0.384271  ...          276            0.078996\n",
              "109            26                0.822100  ...            1            0.822100\n",
              "110            27                0.258462  ...          368            0.102094\n",
              "111            28                0.403282  ...           49            0.143035\n",
              "\n",
              "[112 rows x 8 columns]"
            ]
          },
          "metadata": {
            "tags": []
          },
          "execution_count": 4
        }
      ]
    },
    {
      "cell_type": "code",
      "metadata": {
        "colab": {
          "base_uri": "https://localhost:8080/",
          "height": 417
        },
        "id": "TeT-oMcByDHX",
        "outputId": "009f832e-58aa-4500-f7ee-46573f9bf14b"
      },
      "source": [
        "combined_sentiment.sort_values(\"total_count\", ascending = False)[[\"district_num\", \"total_count\"]]"
      ],
      "execution_count": 6,
      "outputs": [
        {
          "output_type": "execute_result",
          "data": {
            "text/html": [
              "<div>\n",
              "<style scoped>\n",
              "    .dataframe tbody tr th:only-of-type {\n",
              "        vertical-align: middle;\n",
              "    }\n",
              "\n",
              "    .dataframe tbody tr th {\n",
              "        vertical-align: top;\n",
              "    }\n",
              "\n",
              "    .dataframe thead th {\n",
              "        text-align: right;\n",
              "    }\n",
              "</style>\n",
              "<table border=\"1\" class=\"dataframe\">\n",
              "  <thead>\n",
              "    <tr style=\"text-align: right;\">\n",
              "      <th></th>\n",
              "      <th>district_num</th>\n",
              "      <th>total_count</th>\n",
              "    </tr>\n",
              "  </thead>\n",
              "  <tbody>\n",
              "    <tr>\n",
              "      <th>74</th>\n",
              "      <td>19</td>\n",
              "      <td>6550</td>\n",
              "    </tr>\n",
              "    <tr>\n",
              "      <th>77</th>\n",
              "      <td>22</td>\n",
              "      <td>3367</td>\n",
              "    </tr>\n",
              "    <tr>\n",
              "      <th>73</th>\n",
              "      <td>18</td>\n",
              "      <td>3136</td>\n",
              "    </tr>\n",
              "    <tr>\n",
              "      <th>75</th>\n",
              "      <td>20</td>\n",
              "      <td>2851</td>\n",
              "    </tr>\n",
              "    <tr>\n",
              "      <th>85</th>\n",
              "      <td>2</td>\n",
              "      <td>2421</td>\n",
              "    </tr>\n",
              "    <tr>\n",
              "      <th>...</th>\n",
              "      <td>...</td>\n",
              "      <td>...</td>\n",
              "    </tr>\n",
              "    <tr>\n",
              "      <th>104</th>\n",
              "      <td>21</td>\n",
              "      <td>16</td>\n",
              "    </tr>\n",
              "    <tr>\n",
              "      <th>0</th>\n",
              "      <td>21</td>\n",
              "      <td>16</td>\n",
              "    </tr>\n",
              "    <tr>\n",
              "      <th>34</th>\n",
              "      <td>7</td>\n",
              "      <td>12</td>\n",
              "    </tr>\n",
              "    <tr>\n",
              "      <th>7</th>\n",
              "      <td>7</td>\n",
              "      <td>11</td>\n",
              "    </tr>\n",
              "    <tr>\n",
              "      <th>109</th>\n",
              "      <td>26</td>\n",
              "      <td>1</td>\n",
              "    </tr>\n",
              "  </tbody>\n",
              "</table>\n",
              "<p>112 rows × 2 columns</p>\n",
              "</div>"
            ],
            "text/plain": [
              "     district_num  total_count\n",
              "74             19         6550\n",
              "77             22         3367\n",
              "73             18         3136\n",
              "75             20         2851\n",
              "85              2         2421\n",
              "..            ...          ...\n",
              "104            21           16\n",
              "0              21           16\n",
              "34              7           12\n",
              "7               7           11\n",
              "109            26            1\n",
              "\n",
              "[112 rows x 2 columns]"
            ]
          },
          "metadata": {
            "tags": []
          },
          "execution_count": 6
        }
      ]
    },
    {
      "cell_type": "code",
      "metadata": {
        "id": "w8BRdwgU9gQ9",
        "colab": {
          "base_uri": "https://localhost:8080/",
          "height": 357
        },
        "outputId": "fb863e6b-a260-4dad-8c54-d87a33e41a03"
      },
      "source": [
        "# District with highest reviews count\n",
        "combined_sentiment.sort_values(\"total_count\", ascending = False)[[\"district_num\", \"total_count\"]].head(10)"
      ],
      "execution_count": 5,
      "outputs": [
        {
          "output_type": "execute_result",
          "data": {
            "text/html": [
              "<div>\n",
              "<style scoped>\n",
              "    .dataframe tbody tr th:only-of-type {\n",
              "        vertical-align: middle;\n",
              "    }\n",
              "\n",
              "    .dataframe tbody tr th {\n",
              "        vertical-align: top;\n",
              "    }\n",
              "\n",
              "    .dataframe thead th {\n",
              "        text-align: right;\n",
              "    }\n",
              "</style>\n",
              "<table border=\"1\" class=\"dataframe\">\n",
              "  <thead>\n",
              "    <tr style=\"text-align: right;\">\n",
              "      <th></th>\n",
              "      <th>district_num</th>\n",
              "      <th>total_count</th>\n",
              "    </tr>\n",
              "  </thead>\n",
              "  <tbody>\n",
              "    <tr>\n",
              "      <th>74</th>\n",
              "      <td>19</td>\n",
              "      <td>6550</td>\n",
              "    </tr>\n",
              "    <tr>\n",
              "      <th>77</th>\n",
              "      <td>22</td>\n",
              "      <td>3367</td>\n",
              "    </tr>\n",
              "    <tr>\n",
              "      <th>73</th>\n",
              "      <td>18</td>\n",
              "      <td>3136</td>\n",
              "    </tr>\n",
              "    <tr>\n",
              "      <th>75</th>\n",
              "      <td>20</td>\n",
              "      <td>2851</td>\n",
              "    </tr>\n",
              "    <tr>\n",
              "      <th>85</th>\n",
              "      <td>2</td>\n",
              "      <td>2421</td>\n",
              "    </tr>\n",
              "    <tr>\n",
              "      <th>56</th>\n",
              "      <td>1</td>\n",
              "      <td>2378</td>\n",
              "    </tr>\n",
              "    <tr>\n",
              "      <th>69</th>\n",
              "      <td>14</td>\n",
              "      <td>2306</td>\n",
              "    </tr>\n",
              "    <tr>\n",
              "      <th>72</th>\n",
              "      <td>17</td>\n",
              "      <td>2184</td>\n",
              "    </tr>\n",
              "    <tr>\n",
              "      <th>82</th>\n",
              "      <td>27</td>\n",
              "      <td>1985</td>\n",
              "    </tr>\n",
              "    <tr>\n",
              "      <th>45</th>\n",
              "      <td>18</td>\n",
              "      <td>1862</td>\n",
              "    </tr>\n",
              "  </tbody>\n",
              "</table>\n",
              "</div>"
            ],
            "text/plain": [
              "    district_num  total_count\n",
              "74            19         6550\n",
              "77            22         3367\n",
              "73            18         3136\n",
              "75            20         2851\n",
              "85             2         2421\n",
              "56             1         2378\n",
              "69            14         2306\n",
              "72            17         2184\n",
              "82            27         1985\n",
              "45            18         1862"
            ]
          },
          "metadata": {
            "tags": []
          },
          "execution_count": 5
        }
      ]
    },
    {
      "cell_type": "code",
      "metadata": {
        "colab": {
          "base_uri": "https://localhost:8080/",
          "height": 203
        },
        "id": "5y9qWioGjEKw",
        "outputId": "7871a826-3581-4a49-8ee6-996ed50e2dd7"
      },
      "source": [
        "total_count_per_district = combined_sentiment[['district_num','year','total_count']]\n",
        "total_count_per_district.head()"
      ],
      "execution_count": 50,
      "outputs": [
        {
          "output_type": "execute_result",
          "data": {
            "text/html": [
              "<div>\n",
              "<style scoped>\n",
              "    .dataframe tbody tr th:only-of-type {\n",
              "        vertical-align: middle;\n",
              "    }\n",
              "\n",
              "    .dataframe tbody tr th {\n",
              "        vertical-align: top;\n",
              "    }\n",
              "\n",
              "    .dataframe thead th {\n",
              "        text-align: right;\n",
              "    }\n",
              "</style>\n",
              "<table border=\"1\" class=\"dataframe\">\n",
              "  <thead>\n",
              "    <tr style=\"text-align: right;\">\n",
              "      <th></th>\n",
              "      <th>district_num</th>\n",
              "      <th>year</th>\n",
              "      <th>total_count</th>\n",
              "    </tr>\n",
              "  </thead>\n",
              "  <tbody>\n",
              "    <tr>\n",
              "      <th>0</th>\n",
              "      <td>21</td>\n",
              "      <td>2018</td>\n",
              "      <td>16</td>\n",
              "    </tr>\n",
              "    <tr>\n",
              "      <th>1</th>\n",
              "      <td>1</td>\n",
              "      <td>2018</td>\n",
              "      <td>688</td>\n",
              "    </tr>\n",
              "    <tr>\n",
              "      <th>2</th>\n",
              "      <td>2</td>\n",
              "      <td>2018</td>\n",
              "      <td>24</td>\n",
              "    </tr>\n",
              "    <tr>\n",
              "      <th>3</th>\n",
              "      <td>3</td>\n",
              "      <td>2018</td>\n",
              "      <td>618</td>\n",
              "    </tr>\n",
              "    <tr>\n",
              "      <th>4</th>\n",
              "      <td>4</td>\n",
              "      <td>2018</td>\n",
              "      <td>850</td>\n",
              "    </tr>\n",
              "  </tbody>\n",
              "</table>\n",
              "</div>"
            ],
            "text/plain": [
              "   district_num  year  total_count\n",
              "0            21  2018           16\n",
              "1             1  2018          688\n",
              "2             2  2018           24\n",
              "3             3  2018          618\n",
              "4             4  2018          850"
            ]
          },
          "metadata": {
            "tags": []
          },
          "execution_count": 50
        }
      ]
    },
    {
      "cell_type": "code",
      "metadata": {
        "colab": {
          "base_uri": "https://localhost:8080/",
          "height": 1000
        },
        "id": "tPtqykgUK9GZ",
        "outputId": "504c09e4-b31d-4c33-b380-8ba0cbf2b9fb"
      },
      "source": [
        "total_count_per_district = combined_sentiment[['district_num','year','total_count']]\n",
        "total_count_per_district.groupby(\"year\").plot(x = \"district_num\", y = \"total_count\", kind = \"bar\")\n",
        "plt.show()"
      ],
      "execution_count": 48,
      "outputs": [
        {
          "output_type": "display_data",
          "data": {
            "image/png": "[encoded data removed]",
            "text/plain": [
              "<Figure size 432x288 with 1 Axes>"
            ]
          },
          "metadata": {
            "tags": [],
            "needs_background": "light"
          }
        },
        {
          "output_type": "display_data",
          "data": {
            "image/png": "[encoded data removed]",
            "text/plain": [
              "<Figure size 432x288 with 1 Axes>"
            ]
          },
          "metadata": {
            "tags": [],
            "needs_background": "light"
          }
        },
        {
          "output_type": "display_data",
          "data": {
            "image/png": "[encoded data removed]",
            "text/plain": [
              "<Figure size 432x288 with 1 Axes>"
            ]
          },
          "metadata": {
            "tags": [],
            "needs_background": "light"
          }
        },
        {
          "output_type": "display_data",
          "data": {
            "image/png": "[encoded data removed]",
            "text/plain": [
              "<Figure size 432x288 with 1 Axes>"
            ]
          },
          "metadata": {
            "tags": [],
            "needs_background": "light"
          }
        }
      ]
    },
    {
      "cell_type": "code",
      "metadata": {
        "id": "H7z1PqvS9gTk"
      },
      "source": [
        "trends_3_district = combined_sentiment.loc[combined_sentiment['district_num'].isin([3,15,22])]\n",
        "trends_3_district"
      ],
      "execution_count": null,
      "outputs": []
    },
    {
      "cell_type": "code",
      "metadata": {
        "id": "kfxbg3gA9mkR"
      },
      "source": [
        "fig, ax = plt.subplots(figsize=(20, 10))\n",
        "plt.rcParams[\"figure.figsize\"] = (20,10)\n",
        "ax.set_ylim(-1,1)\n",
        "\n",
        "for i in trends_3_district.district_num.unique():\n",
        "    trends_3_district[trends_3_district['district_num']==i].plot.line(x='year', y='weighted_sentiment', ax=ax, label='id = %s'%i)\n",
        "plt.xticks(np.unique(trends_3_district.year),rotation=45)    \n",
        "print(\"\")"
      ],
      "execution_count": null,
      "outputs": []
    },
    {
      "cell_type": "code",
      "metadata": {
        "id": "o2mRDF0H9kaM"
      },
      "source": [
        "fig, ax = plt.subplots(figsize=(20, 10))\n",
        "plt.rcParams[\"figure.figsize\"] = (20,10)\n",
        "# ax.set_ylim(-1,1)\n",
        "\n",
        "for i in trends_3_district.district_num.unique():\n",
        "    trends_3_district[trends_3_district['district_num']==i].plot.line(x='year', y='weighted_sentiment', ax=ax, label='id = %s'%i)\n",
        "plt.xticks(np.unique(trends_3_district.year),rotation=45)    \n",
        "print(\"\")"
      ],
      "execution_count": null,
      "outputs": []
    },
    {
      "cell_type": "code",
      "metadata": {
        "id": "YRqvNZOW9i1R"
      },
      "source": [
        "fig, ax = plt.subplots(figsize=(20, 10))\n",
        "plt.rcParams[\"figure.figsize\"] = (20,10)\n",
        "ax.set_ylim(-1,1)\n",
        "for i in combined_sentiment.district_num.unique():\n",
        "    combined_sentiment[combined_sentiment['district_num']==i].plot.line(x='year', y='weighted_sentiment', ax=ax, label='id = %s'%i)\n",
        "plt.xticks(np.unique(combined_sentiment.year),rotation=45)    \n",
        "plt.legend(loc='center left', bbox_to_anchor=(1.0, 0.5))\n",
        "print(\"\")"
      ],
      "execution_count": null,
      "outputs": []
    },
    {
      "cell_type": "code",
      "metadata": {
        "id": "04uy9V0x9gWu"
      },
      "source": [
        "fig, ax = plt.subplots(figsize=(20, 10))\n",
        "plt.rcParams[\"figure.figsize\"] = (20,10)\n",
        "# ax.set_ylim(-1,1)\n",
        "for i in combined_sentiment.district_num.unique():\n",
        "    combined_sentiment[combined_sentiment['district_num']==i].plot.line(x='year', y='weighted_sentiment', ax=ax, label='id = %s'%i)\n",
        "plt.xticks(np.unique(combined_sentiment.year),rotation=45)    \n",
        "plt.legend(loc='center left', bbox_to_anchor=(1.0, 0.5))\n",
        "print(\"\")"
      ],
      "execution_count": null,
      "outputs": []
    },
    {
      "cell_type": "markdown",
      "metadata": {
        "id": "_3mxsjMU7bjh"
      },
      "source": [
        "USING SENTIMENT SCORE FROM TEXTBLOB"
      ]
    },
    {
      "cell_type": "code",
      "metadata": {
        "colab": {
          "base_uri": "https://localhost:8080/",
          "height": 202
        },
        "id": "hQS5i-Bh03Vp",
        "outputId": "ea25fff5-e91d-4c51-9f54-173334360118"
      },
      "source": [
        "hwz_sentiment = pd.read_csv('/content/hwz_sentiment.csv')\n",
        "hwz_sentiment.columns = ['district_num', 'hwz_sentiment','hwz_comment_count','year']\n",
        "hwz_sentiment.head()"
      ],
      "execution_count": null,
      "outputs": [
        {
          "output_type": "execute_result",
          "data": {
            "text/html": [
              "<div>\n",
              "<style scoped>\n",
              "    .dataframe tbody tr th:only-of-type {\n",
              "        vertical-align: middle;\n",
              "    }\n",
              "\n",
              "    .dataframe tbody tr th {\n",
              "        vertical-align: top;\n",
              "    }\n",
              "\n",
              "    .dataframe thead th {\n",
              "        text-align: right;\n",
              "    }\n",
              "</style>\n",
              "<table border=\"1\" class=\"dataframe\">\n",
              "  <thead>\n",
              "    <tr style=\"text-align: right;\">\n",
              "      <th></th>\n",
              "      <th>district_num</th>\n",
              "      <th>hwz_sentiment</th>\n",
              "      <th>hwz_comment_count</th>\n",
              "      <th>year</th>\n",
              "    </tr>\n",
              "  </thead>\n",
              "  <tbody>\n",
              "    <tr>\n",
              "      <th>0</th>\n",
              "      <td>1</td>\n",
              "      <td>0.082516</td>\n",
              "      <td>8</td>\n",
              "      <td>2018</td>\n",
              "    </tr>\n",
              "    <tr>\n",
              "      <th>1</th>\n",
              "      <td>2</td>\n",
              "      <td>0.317045</td>\n",
              "      <td>1</td>\n",
              "      <td>2018</td>\n",
              "    </tr>\n",
              "    <tr>\n",
              "      <th>2</th>\n",
              "      <td>3</td>\n",
              "      <td>0.123678</td>\n",
              "      <td>39</td>\n",
              "      <td>2018</td>\n",
              "    </tr>\n",
              "    <tr>\n",
              "      <th>3</th>\n",
              "      <td>4</td>\n",
              "      <td>0.093259</td>\n",
              "      <td>30</td>\n",
              "      <td>2018</td>\n",
              "    </tr>\n",
              "    <tr>\n",
              "      <th>4</th>\n",
              "      <td>5</td>\n",
              "      <td>0.122456</td>\n",
              "      <td>61</td>\n",
              "      <td>2018</td>\n",
              "    </tr>\n",
              "  </tbody>\n",
              "</table>\n",
              "</div>"
            ],
            "text/plain": [
              "   district_num  hwz_sentiment  hwz_comment_count  year\n",
              "0             1       0.082516                  8  2018\n",
              "1             2       0.317045                  1  2018\n",
              "2             3       0.123678                 39  2018\n",
              "3             4       0.093259                 30  2018\n",
              "4             5       0.122456                 61  2018"
            ]
          },
          "metadata": {
            "tags": []
          },
          "execution_count": 43
        }
      ]
    },
    {
      "cell_type": "code",
      "metadata": {
        "colab": {
          "base_uri": "https://localhost:8080/"
        },
        "id": "flFfDuKqnvNR",
        "outputId": "072343ba-c166-478d-82b3-707928e1197a"
      },
      "source": [
        "hwz_sentiment.shape"
      ],
      "execution_count": null,
      "outputs": [
        {
          "output_type": "execute_result",
          "data": {
            "text/plain": [
              "(111, 4)"
            ]
          },
          "metadata": {
            "tags": []
          },
          "execution_count": 44
        }
      ]
    },
    {
      "cell_type": "code",
      "metadata": {
        "colab": {
          "base_uri": "https://localhost:8080/"
        },
        "id": "ekT-bO3sn7W_",
        "outputId": "feb5953e-9b66-428e-de27-548ed26594bd"
      },
      "source": [
        "hwz_sentiment.dtypes"
      ],
      "execution_count": null,
      "outputs": [
        {
          "output_type": "execute_result",
          "data": {
            "text/plain": [
              "district_num           int64\n",
              "hwz_sentiment        float64\n",
              "hwz_comment_count      int64\n",
              "year                   int64\n",
              "dtype: object"
            ]
          },
          "metadata": {
            "tags": []
          },
          "execution_count": 45
        }
      ]
    },
    {
      "cell_type": "code",
      "metadata": {
        "colab": {
          "base_uri": "https://localhost:8080/"
        },
        "id": "rh_lujcsmVJE",
        "outputId": "1d87934d-acb9-43aa-fa9f-ee7d44a35960"
      },
      "source": [
        "hwz_sentiment.groupby('district_num')['year'].nunique().sort_values(ascending=False)"
      ],
      "execution_count": null,
      "outputs": [
        {
          "output_type": "execute_result",
          "data": {
            "text/plain": [
              "district_num\n",
              "28    4\n",
              "27    4\n",
              "2     4\n",
              "3     4\n",
              "4     4\n",
              "5     4\n",
              "6     4\n",
              "7     4\n",
              "8     4\n",
              "9     4\n",
              "10    4\n",
              "11    4\n",
              "12    4\n",
              "13    4\n",
              "14    4\n",
              "15    4\n",
              "16    4\n",
              "17    4\n",
              "18    4\n",
              "19    4\n",
              "20    4\n",
              "22    4\n",
              "23    4\n",
              "24    4\n",
              "25    4\n",
              "26    4\n",
              "1     4\n",
              "21    3\n",
              "Name: year, dtype: int64"
            ]
          },
          "metadata": {
            "tags": []
          },
          "execution_count": 46
        }
      ]
    },
    {
      "cell_type": "code",
      "metadata": {
        "id": "6C-SsjlEpj5p"
      },
      "source": [
        "hwz_sentiment = pd.DataFrame(np.array([[21, 0, 0, 2018]]), columns=['district_num','hwz_sentiment','hwz_comment_count', 'year']).append(hwz_sentiment, ignore_index=True)"
      ],
      "execution_count": null,
      "outputs": []
    },
    {
      "cell_type": "code",
      "metadata": {
        "colab": {
          "base_uri": "https://localhost:8080/",
          "height": 79
        },
        "id": "QkUII6SXqLP0",
        "outputId": "9ac45a9b-7c1b-4837-e69d-035301eb7a4d"
      },
      "source": [
        "a = hwz_sentiment.loc[hwz_sentiment['hwz_sentiment'] == 0]\n",
        "a"
      ],
      "execution_count": null,
      "outputs": [
        {
          "output_type": "execute_result",
          "data": {
            "text/html": [
              "<div>\n",
              "<style scoped>\n",
              "    .dataframe tbody tr th:only-of-type {\n",
              "        vertical-align: middle;\n",
              "    }\n",
              "\n",
              "    .dataframe tbody tr th {\n",
              "        vertical-align: top;\n",
              "    }\n",
              "\n",
              "    .dataframe thead th {\n",
              "        text-align: right;\n",
              "    }\n",
              "</style>\n",
              "<table border=\"1\" class=\"dataframe\">\n",
              "  <thead>\n",
              "    <tr style=\"text-align: right;\">\n",
              "      <th></th>\n",
              "      <th>district_num</th>\n",
              "      <th>hwz_sentiment</th>\n",
              "      <th>hwz_comment_count</th>\n",
              "      <th>year</th>\n",
              "    </tr>\n",
              "  </thead>\n",
              "  <tbody>\n",
              "    <tr>\n",
              "      <th>0</th>\n",
              "      <td>21</td>\n",
              "      <td>0.0</td>\n",
              "      <td>0</td>\n",
              "      <td>2018</td>\n",
              "    </tr>\n",
              "  </tbody>\n",
              "</table>\n",
              "</div>"
            ],
            "text/plain": [
              "   district_num  hwz_sentiment  hwz_comment_count  year\n",
              "0            21            0.0                  0  2018"
            ]
          },
          "metadata": {
            "tags": []
          },
          "execution_count": 48
        }
      ]
    },
    {
      "cell_type": "code",
      "metadata": {
        "colab": {
          "base_uri": "https://localhost:8080/"
        },
        "id": "TxoByYqHp9i-",
        "outputId": "e678a8cb-12ec-4c18-aacd-f33d5e585322"
      },
      "source": [
        "hwz_sentiment.groupby('district_num')['year'].nunique().sort_values(ascending=False)"
      ],
      "execution_count": null,
      "outputs": [
        {
          "output_type": "execute_result",
          "data": {
            "text/plain": [
              "district_num\n",
              "28    4\n",
              "27    4\n",
              "2     4\n",
              "3     4\n",
              "4     4\n",
              "5     4\n",
              "6     4\n",
              "7     4\n",
              "8     4\n",
              "9     4\n",
              "10    4\n",
              "11    4\n",
              "12    4\n",
              "13    4\n",
              "14    4\n",
              "15    4\n",
              "16    4\n",
              "17    4\n",
              "18    4\n",
              "19    4\n",
              "20    4\n",
              "21    4\n",
              "22    4\n",
              "23    4\n",
              "24    4\n",
              "25    4\n",
              "26    4\n",
              "1     4\n",
              "Name: year, dtype: int64"
            ]
          },
          "metadata": {
            "tags": []
          },
          "execution_count": 49
        }
      ]
    },
    {
      "cell_type": "code",
      "metadata": {
        "id": "S1eBKjPWu4hO"
      },
      "source": [
        "hwz_sentiment.to_csv(\"hwz_sentiment.csv\", encoding='utf-8', index=False)"
      ],
      "execution_count": null,
      "outputs": []
    },
    {
      "cell_type": "code",
      "metadata": {
        "colab": {
          "base_uri": "https://localhost:8080/",
          "height": 202
        },
        "id": "3DtN262r1M5q",
        "outputId": "38409487-7d6d-47f1-ace6-e90857fb3abe"
      },
      "source": [
        "reddit_sentiment = pd.read_csv('/content/reddit_sentiment.csv')\n",
        "reddit_sentiment.columns = ['district_num', 'reddit_sentiment', 'reddit_comment_count','year']\n",
        "reddit_sentiment.head()"
      ],
      "execution_count": null,
      "outputs": [
        {
          "output_type": "execute_result",
          "data": {
            "text/html": [
              "<div>\n",
              "<style scoped>\n",
              "    .dataframe tbody tr th:only-of-type {\n",
              "        vertical-align: middle;\n",
              "    }\n",
              "\n",
              "    .dataframe tbody tr th {\n",
              "        vertical-align: top;\n",
              "    }\n",
              "\n",
              "    .dataframe thead th {\n",
              "        text-align: right;\n",
              "    }\n",
              "</style>\n",
              "<table border=\"1\" class=\"dataframe\">\n",
              "  <thead>\n",
              "    <tr style=\"text-align: right;\">\n",
              "      <th></th>\n",
              "      <th>district_num</th>\n",
              "      <th>reddit_sentiment</th>\n",
              "      <th>reddit_comment_count</th>\n",
              "      <th>year</th>\n",
              "    </tr>\n",
              "  </thead>\n",
              "  <tbody>\n",
              "    <tr>\n",
              "      <th>0</th>\n",
              "      <td>1</td>\n",
              "      <td>0.079938</td>\n",
              "      <td>676</td>\n",
              "      <td>2018</td>\n",
              "    </tr>\n",
              "    <tr>\n",
              "      <th>1</th>\n",
              "      <td>2</td>\n",
              "      <td>0.087518</td>\n",
              "      <td>23</td>\n",
              "      <td>2018</td>\n",
              "    </tr>\n",
              "    <tr>\n",
              "      <th>2</th>\n",
              "      <td>3</td>\n",
              "      <td>0.055071</td>\n",
              "      <td>571</td>\n",
              "      <td>2018</td>\n",
              "    </tr>\n",
              "    <tr>\n",
              "      <th>3</th>\n",
              "      <td>4</td>\n",
              "      <td>0.051841</td>\n",
              "      <td>813</td>\n",
              "      <td>2018</td>\n",
              "    </tr>\n",
              "    <tr>\n",
              "      <th>4</th>\n",
              "      <td>5</td>\n",
              "      <td>0.046327</td>\n",
              "      <td>196</td>\n",
              "      <td>2018</td>\n",
              "    </tr>\n",
              "  </tbody>\n",
              "</table>\n",
              "</div>"
            ],
            "text/plain": [
              "   district_num  reddit_sentiment  reddit_comment_count  year\n",
              "0             1          0.079938                   676  2018\n",
              "1             2          0.087518                    23  2018\n",
              "2             3          0.055071                   571  2018\n",
              "3             4          0.051841                   813  2018\n",
              "4             5          0.046327                   196  2018"
            ]
          },
          "metadata": {
            "tags": []
          },
          "execution_count": 61
        }
      ]
    },
    {
      "cell_type": "code",
      "metadata": {
        "colab": {
          "base_uri": "https://localhost:8080/"
        },
        "id": "MF_fRDp6q2rM",
        "outputId": "7b7b0d15-e672-470c-82cd-5ec59d5361e0"
      },
      "source": [
        "reddit_sentiment.groupby('district_num')['year'].nunique().sort_values(ascending=False)"
      ],
      "execution_count": null,
      "outputs": [
        {
          "output_type": "execute_result",
          "data": {
            "text/plain": [
              "district_num\n",
              "28    4\n",
              "27    4\n",
              "2     4\n",
              "3     4\n",
              "4     4\n",
              "5     4\n",
              "6     4\n",
              "8     4\n",
              "9     4\n",
              "10    4\n",
              "12    4\n",
              "13    4\n",
              "14    4\n",
              "15    4\n",
              "16    4\n",
              "17    4\n",
              "18    4\n",
              "19    4\n",
              "20    4\n",
              "21    4\n",
              "22    4\n",
              "23    4\n",
              "24    4\n",
              "25    4\n",
              "1     4\n",
              "11    3\n",
              "26    3\n",
              "Name: year, dtype: int64"
            ]
          },
          "metadata": {
            "tags": []
          },
          "execution_count": 62
        }
      ]
    },
    {
      "cell_type": "code",
      "metadata": {
        "id": "ZphUac33t7al"
      },
      "source": [
        "insert_row =[[11, 0, 0, 2019], [26, 0, 0, 2021],[7, 0, 0, 2018],[7, 0, 0, 2019],[7, 0, 0, 2020],[7, 0, 0, 2021] ]"
      ],
      "execution_count": null,
      "outputs": []
    },
    {
      "cell_type": "code",
      "metadata": {
        "id": "RvUfQYxDr9bB"
      },
      "source": [
        "reddit_sentiment = pd.DataFrame(np.array(insert_row), columns=['district_num','reddit_sentiment','reddit_comment_count', 'year']).append(reddit_sentiment, ignore_index=True)"
      ],
      "execution_count": null,
      "outputs": []
    },
    {
      "cell_type": "code",
      "metadata": {
        "colab": {
          "base_uri": "https://localhost:8080/"
        },
        "id": "6EB8NZSirZSZ",
        "outputId": "b6149800-7f1a-4246-f017-cf1aeffcaa00"
      },
      "source": [
        "reddit_sentiment.groupby('district_num')['year'].nunique().sort_values(ascending=False)"
      ],
      "execution_count": null,
      "outputs": [
        {
          "output_type": "execute_result",
          "data": {
            "text/plain": [
              "district_num\n",
              "28    4\n",
              "27    4\n",
              "2     4\n",
              "3     4\n",
              "4     4\n",
              "5     4\n",
              "6     4\n",
              "7     4\n",
              "8     4\n",
              "9     4\n",
              "10    4\n",
              "11    4\n",
              "12    4\n",
              "13    4\n",
              "14    4\n",
              "15    4\n",
              "16    4\n",
              "17    4\n",
              "18    4\n",
              "19    4\n",
              "20    4\n",
              "21    4\n",
              "22    4\n",
              "23    4\n",
              "24    4\n",
              "25    4\n",
              "26    4\n",
              "1     4\n",
              "Name: year, dtype: int64"
            ]
          },
          "metadata": {
            "tags": []
          },
          "execution_count": 65
        }
      ]
    },
    {
      "cell_type": "code",
      "metadata": {
        "id": "cytWyq2qun4p"
      },
      "source": [
        "reddit_sentiment.to_csv(\"reddit_sentiment.csv\", encoding='utf-8', index=False)"
      ],
      "execution_count": null,
      "outputs": []
    },
    {
      "cell_type": "code",
      "metadata": {
        "id": "or79nPFz1VLS"
      },
      "source": [
        "combined_sentiment = hwz_sentiment.merge(reddit_sentiment, on=['district_num','year'], how='left')"
      ],
      "execution_count": null,
      "outputs": []
    },
    {
      "cell_type": "code",
      "metadata": {
        "id": "l1BVNg4x3A5C"
      },
      "source": [
        "combined_sentiment['total_count'] = combined_sentiment['hwz_comment_count'] + combined_sentiment['reddit_comment_count']"
      ],
      "execution_count": null,
      "outputs": []
    },
    {
      "cell_type": "code",
      "metadata": {
        "colab": {
          "base_uri": "https://localhost:8080/",
          "height": 202
        },
        "id": "2sgz6asD3IF6",
        "outputId": "7249366b-ed6d-4128-943d-d6ef999e4701"
      },
      "source": [
        "combined_sentiment.head()"
      ],
      "execution_count": null,
      "outputs": [
        {
          "output_type": "execute_result",
          "data": {
            "text/html": [
              "<div>\n",
              "<style scoped>\n",
              "    .dataframe tbody tr th:only-of-type {\n",
              "        vertical-align: middle;\n",
              "    }\n",
              "\n",
              "    .dataframe tbody tr th {\n",
              "        vertical-align: top;\n",
              "    }\n",
              "\n",
              "    .dataframe thead th {\n",
              "        text-align: right;\n",
              "    }\n",
              "</style>\n",
              "<table border=\"1\" class=\"dataframe\">\n",
              "  <thead>\n",
              "    <tr style=\"text-align: right;\">\n",
              "      <th></th>\n",
              "      <th>district_num</th>\n",
              "      <th>hwz_sentiment</th>\n",
              "      <th>hwz_comment_count</th>\n",
              "      <th>year</th>\n",
              "      <th>reddit_sentiment</th>\n",
              "      <th>reddit_comment_count</th>\n",
              "      <th>total_count</th>\n",
              "    </tr>\n",
              "  </thead>\n",
              "  <tbody>\n",
              "    <tr>\n",
              "      <th>0</th>\n",
              "      <td>21</td>\n",
              "      <td>0.000000</td>\n",
              "      <td>0</td>\n",
              "      <td>2018</td>\n",
              "      <td>0.145982</td>\n",
              "      <td>14</td>\n",
              "      <td>14</td>\n",
              "    </tr>\n",
              "    <tr>\n",
              "      <th>1</th>\n",
              "      <td>1</td>\n",
              "      <td>0.082516</td>\n",
              "      <td>8</td>\n",
              "      <td>2018</td>\n",
              "      <td>0.079938</td>\n",
              "      <td>676</td>\n",
              "      <td>684</td>\n",
              "    </tr>\n",
              "    <tr>\n",
              "      <th>2</th>\n",
              "      <td>2</td>\n",
              "      <td>0.317045</td>\n",
              "      <td>1</td>\n",
              "      <td>2018</td>\n",
              "      <td>0.087518</td>\n",
              "      <td>23</td>\n",
              "      <td>24</td>\n",
              "    </tr>\n",
              "    <tr>\n",
              "      <th>3</th>\n",
              "      <td>3</td>\n",
              "      <td>0.123678</td>\n",
              "      <td>39</td>\n",
              "      <td>2018</td>\n",
              "      <td>0.055071</td>\n",
              "      <td>571</td>\n",
              "      <td>610</td>\n",
              "    </tr>\n",
              "    <tr>\n",
              "      <th>4</th>\n",
              "      <td>4</td>\n",
              "      <td>0.093259</td>\n",
              "      <td>30</td>\n",
              "      <td>2018</td>\n",
              "      <td>0.051841</td>\n",
              "      <td>813</td>\n",
              "      <td>843</td>\n",
              "    </tr>\n",
              "  </tbody>\n",
              "</table>\n",
              "</div>"
            ],
            "text/plain": [
              "   district_num  hwz_sentiment  ...  reddit_comment_count  total_count\n",
              "0            21       0.000000  ...                    14           14\n",
              "1             1       0.082516  ...                   676          684\n",
              "2             2       0.317045  ...                    23           24\n",
              "3             3       0.123678  ...                   571          610\n",
              "4             4       0.093259  ...                   813          843\n",
              "\n",
              "[5 rows x 7 columns]"
            ]
          },
          "metadata": {
            "tags": []
          },
          "execution_count": 68
        }
      ]
    },
    {
      "cell_type": "code",
      "metadata": {
        "id": "KO4ouGHH2uMV"
      },
      "source": [
        "combined_sentiment['weighted_sentiment'] = (combined_sentiment['hwz_sentiment'] * (combined_sentiment['hwz_comment_count']/combined_sentiment['total_count'])) + (combined_sentiment['reddit_sentiment'] * (combined_sentiment['reddit_comment_count']/combined_sentiment['total_count']))"
      ],
      "execution_count": null,
      "outputs": []
    },
    {
      "cell_type": "code",
      "metadata": {
        "colab": {
          "base_uri": "https://localhost:8080/",
          "height": 222
        },
        "id": "bssN5Nrj3jPq",
        "outputId": "f35c384c-ab02-4896-fd67-698abdb8f419"
      },
      "source": [
        "combined_sentiment.head()"
      ],
      "execution_count": null,
      "outputs": [
        {
          "output_type": "execute_result",
          "data": {
            "text/html": [
              "<div>\n",
              "<style scoped>\n",
              "    .dataframe tbody tr th:only-of-type {\n",
              "        vertical-align: middle;\n",
              "    }\n",
              "\n",
              "    .dataframe tbody tr th {\n",
              "        vertical-align: top;\n",
              "    }\n",
              "\n",
              "    .dataframe thead th {\n",
              "        text-align: right;\n",
              "    }\n",
              "</style>\n",
              "<table border=\"1\" class=\"dataframe\">\n",
              "  <thead>\n",
              "    <tr style=\"text-align: right;\">\n",
              "      <th></th>\n",
              "      <th>district_num</th>\n",
              "      <th>hwz_sentiment</th>\n",
              "      <th>hwz_comment_count</th>\n",
              "      <th>year</th>\n",
              "      <th>reddit_sentiment</th>\n",
              "      <th>reddit_comment_count</th>\n",
              "      <th>total_count</th>\n",
              "      <th>weighted_sentiment</th>\n",
              "    </tr>\n",
              "  </thead>\n",
              "  <tbody>\n",
              "    <tr>\n",
              "      <th>0</th>\n",
              "      <td>21</td>\n",
              "      <td>0.000000</td>\n",
              "      <td>0</td>\n",
              "      <td>2018</td>\n",
              "      <td>0.145982</td>\n",
              "      <td>14</td>\n",
              "      <td>14</td>\n",
              "      <td>0.145982</td>\n",
              "    </tr>\n",
              "    <tr>\n",
              "      <th>1</th>\n",
              "      <td>1</td>\n",
              "      <td>0.082516</td>\n",
              "      <td>8</td>\n",
              "      <td>2018</td>\n",
              "      <td>0.079938</td>\n",
              "      <td>676</td>\n",
              "      <td>684</td>\n",
              "      <td>0.079968</td>\n",
              "    </tr>\n",
              "    <tr>\n",
              "      <th>2</th>\n",
              "      <td>2</td>\n",
              "      <td>0.317045</td>\n",
              "      <td>1</td>\n",
              "      <td>2018</td>\n",
              "      <td>0.087518</td>\n",
              "      <td>23</td>\n",
              "      <td>24</td>\n",
              "      <td>0.097082</td>\n",
              "    </tr>\n",
              "    <tr>\n",
              "      <th>3</th>\n",
              "      <td>3</td>\n",
              "      <td>0.123678</td>\n",
              "      <td>39</td>\n",
              "      <td>2018</td>\n",
              "      <td>0.055071</td>\n",
              "      <td>571</td>\n",
              "      <td>610</td>\n",
              "      <td>0.059457</td>\n",
              "    </tr>\n",
              "    <tr>\n",
              "      <th>4</th>\n",
              "      <td>4</td>\n",
              "      <td>0.093259</td>\n",
              "      <td>30</td>\n",
              "      <td>2018</td>\n",
              "      <td>0.051841</td>\n",
              "      <td>813</td>\n",
              "      <td>843</td>\n",
              "      <td>0.053315</td>\n",
              "    </tr>\n",
              "  </tbody>\n",
              "</table>\n",
              "</div>"
            ],
            "text/plain": [
              "   district_num  hwz_sentiment  ...  total_count  weighted_sentiment\n",
              "0            21       0.000000  ...           14            0.145982\n",
              "1             1       0.082516  ...          684            0.079968\n",
              "2             2       0.317045  ...           24            0.097082\n",
              "3             3       0.123678  ...          610            0.059457\n",
              "4             4       0.093259  ...          843            0.053315\n",
              "\n",
              "[5 rows x 8 columns]"
            ]
          },
          "metadata": {
            "tags": []
          },
          "execution_count": 70
        }
      ]
    },
    {
      "cell_type": "code",
      "metadata": {
        "id": "khZ6Jp8d5Tl2"
      },
      "source": [
        "combined_sentiment.to_csv(\"combined_sentiment.csv\", encoding='utf-8', index=False)"
      ],
      "execution_count": null,
      "outputs": []
    },
    {
      "cell_type": "code",
      "metadata": {
        "id": "10qVXDQp-iyo"
      },
      "source": [
        "combined_sentiment = pd.read_csv('/content/drive/MyDrive/BT4222 WEISHENG/Generated csv/combined_sentiment.csv')"
      ],
      "execution_count": null,
      "outputs": []
    },
    {
      "cell_type": "code",
      "metadata": {
        "colab": {
          "base_uri": "https://localhost:8080/",
          "height": 357
        },
        "id": "ud4UU7FG_bGv",
        "outputId": "5474e982-4fac-4f44-b3bf-445beb8d69f8"
      },
      "source": [
        "# District with highest reviews count\n",
        "combined_sentiment.sort_values(\"total_count\", ascending = False)[[\"district_num\", \"total_count\"]].head(10)"
      ],
      "execution_count": null,
      "outputs": [
        {
          "output_type": "execute_result",
          "data": {
            "text/html": [
              "<div>\n",
              "<style scoped>\n",
              "    .dataframe tbody tr th:only-of-type {\n",
              "        vertical-align: middle;\n",
              "    }\n",
              "\n",
              "    .dataframe tbody tr th {\n",
              "        vertical-align: top;\n",
              "    }\n",
              "\n",
              "    .dataframe thead th {\n",
              "        text-align: right;\n",
              "    }\n",
              "</style>\n",
              "<table border=\"1\" class=\"dataframe\">\n",
              "  <thead>\n",
              "    <tr style=\"text-align: right;\">\n",
              "      <th></th>\n",
              "      <th>district_num</th>\n",
              "      <th>total_count</th>\n",
              "    </tr>\n",
              "  </thead>\n",
              "  <tbody>\n",
              "    <tr>\n",
              "      <th>74</th>\n",
              "      <td>19</td>\n",
              "      <td>6529</td>\n",
              "    </tr>\n",
              "    <tr>\n",
              "      <th>77</th>\n",
              "      <td>22</td>\n",
              "      <td>3346</td>\n",
              "    </tr>\n",
              "    <tr>\n",
              "      <th>73</th>\n",
              "      <td>18</td>\n",
              "      <td>2959</td>\n",
              "    </tr>\n",
              "    <tr>\n",
              "      <th>75</th>\n",
              "      <td>20</td>\n",
              "      <td>2841</td>\n",
              "    </tr>\n",
              "    <tr>\n",
              "      <th>85</th>\n",
              "      <td>2</td>\n",
              "      <td>2407</td>\n",
              "    </tr>\n",
              "    <tr>\n",
              "      <th>56</th>\n",
              "      <td>1</td>\n",
              "      <td>2360</td>\n",
              "    </tr>\n",
              "    <tr>\n",
              "      <th>69</th>\n",
              "      <td>14</td>\n",
              "      <td>2318</td>\n",
              "    </tr>\n",
              "    <tr>\n",
              "      <th>72</th>\n",
              "      <td>17</td>\n",
              "      <td>2117</td>\n",
              "    </tr>\n",
              "    <tr>\n",
              "      <th>82</th>\n",
              "      <td>27</td>\n",
              "      <td>1976</td>\n",
              "    </tr>\n",
              "    <tr>\n",
              "      <th>58</th>\n",
              "      <td>3</td>\n",
              "      <td>1821</td>\n",
              "    </tr>\n",
              "  </tbody>\n",
              "</table>\n",
              "</div>"
            ],
            "text/plain": [
              "    district_num  total_count\n",
              "74            19         6529\n",
              "77            22         3346\n",
              "73            18         2959\n",
              "75            20         2841\n",
              "85             2         2407\n",
              "56             1         2360\n",
              "69            14         2318\n",
              "72            17         2117\n",
              "82            27         1976\n",
              "58             3         1821"
            ]
          },
          "metadata": {
            "tags": []
          },
          "execution_count": 8
        }
      ]
    },
    {
      "cell_type": "code",
      "metadata": {
        "colab": {
          "base_uri": "https://localhost:8080/",
          "height": 357
        },
        "id": "Bc5t6eFE_rUz",
        "outputId": "27717919-2ba5-4d32-d260-fd32bb422fb8"
      },
      "source": [
        "# District with lowest reviews count\n",
        "combined_sentiment.sort_values(\"total_count\", ascending = True)[[\"district_num\", \"total_count\"]].head(10)"
      ],
      "execution_count": null,
      "outputs": [
        {
          "output_type": "execute_result",
          "data": {
            "text/html": [
              "<div>\n",
              "<style scoped>\n",
              "    .dataframe tbody tr th:only-of-type {\n",
              "        vertical-align: middle;\n",
              "    }\n",
              "\n",
              "    .dataframe tbody tr th {\n",
              "        vertical-align: top;\n",
              "    }\n",
              "\n",
              "    .dataframe thead th {\n",
              "        text-align: right;\n",
              "    }\n",
              "</style>\n",
              "<table border=\"1\" class=\"dataframe\">\n",
              "  <thead>\n",
              "    <tr style=\"text-align: right;\">\n",
              "      <th></th>\n",
              "      <th>district_num</th>\n",
              "      <th>total_count</th>\n",
              "    </tr>\n",
              "  </thead>\n",
              "  <tbody>\n",
              "    <tr>\n",
              "      <th>109</th>\n",
              "      <td>26</td>\n",
              "      <td>1</td>\n",
              "    </tr>\n",
              "    <tr>\n",
              "      <th>7</th>\n",
              "      <td>7</td>\n",
              "      <td>6</td>\n",
              "    </tr>\n",
              "    <tr>\n",
              "      <th>34</th>\n",
              "      <td>7</td>\n",
              "      <td>12</td>\n",
              "    </tr>\n",
              "    <tr>\n",
              "      <th>0</th>\n",
              "      <td>21</td>\n",
              "      <td>14</td>\n",
              "    </tr>\n",
              "    <tr>\n",
              "      <th>104</th>\n",
              "      <td>21</td>\n",
              "      <td>17</td>\n",
              "    </tr>\n",
              "    <tr>\n",
              "      <th>11</th>\n",
              "      <td>11</td>\n",
              "      <td>20</td>\n",
              "    </tr>\n",
              "    <tr>\n",
              "      <th>2</th>\n",
              "      <td>2</td>\n",
              "      <td>24</td>\n",
              "    </tr>\n",
              "    <tr>\n",
              "      <th>53</th>\n",
              "      <td>26</td>\n",
              "      <td>39</td>\n",
              "    </tr>\n",
              "    <tr>\n",
              "      <th>89</th>\n",
              "      <td>6</td>\n",
              "      <td>44</td>\n",
              "    </tr>\n",
              "    <tr>\n",
              "      <th>111</th>\n",
              "      <td>28</td>\n",
              "      <td>49</td>\n",
              "    </tr>\n",
              "  </tbody>\n",
              "</table>\n",
              "</div>"
            ],
            "text/plain": [
              "     district_num  total_count\n",
              "109            26            1\n",
              "7               7            6\n",
              "34              7           12\n",
              "0              21           14\n",
              "104            21           17\n",
              "11             11           20\n",
              "2               2           24\n",
              "53             26           39\n",
              "89              6           44\n",
              "111            28           49"
            ]
          },
          "metadata": {
            "tags": []
          },
          "execution_count": 7
        }
      ]
    },
    {
      "cell_type": "code",
      "metadata": {
        "colab": {
          "base_uri": "https://localhost:8080/",
          "height": 419
        },
        "id": "EVoZHsOG-7Si",
        "outputId": "1e6e6dc8-b0f0-4527-c0f3-6d9b258ba129"
      },
      "source": [
        "trends_3_district = combined_sentiment.loc[combined_sentiment['district_num'].isin([3,15,22])]\n",
        "trends_3_district"
      ],
      "execution_count": null,
      "outputs": [
        {
          "output_type": "execute_result",
          "data": {
            "text/html": [
              "<div>\n",
              "<style scoped>\n",
              "    .dataframe tbody tr th:only-of-type {\n",
              "        vertical-align: middle;\n",
              "    }\n",
              "\n",
              "    .dataframe tbody tr th {\n",
              "        vertical-align: top;\n",
              "    }\n",
              "\n",
              "    .dataframe thead th {\n",
              "        text-align: right;\n",
              "    }\n",
              "</style>\n",
              "<table border=\"1\" class=\"dataframe\">\n",
              "  <thead>\n",
              "    <tr style=\"text-align: right;\">\n",
              "      <th></th>\n",
              "      <th>district_num</th>\n",
              "      <th>hwz_sentiment</th>\n",
              "      <th>hwz_comment_count</th>\n",
              "      <th>year</th>\n",
              "      <th>reddit_sentiment</th>\n",
              "      <th>reddit_comment_count</th>\n",
              "      <th>total_count</th>\n",
              "      <th>weighted_sentiment</th>\n",
              "    </tr>\n",
              "  </thead>\n",
              "  <tbody>\n",
              "    <tr>\n",
              "      <th>3</th>\n",
              "      <td>3</td>\n",
              "      <td>0.123678</td>\n",
              "      <td>39</td>\n",
              "      <td>2018</td>\n",
              "      <td>0.055071</td>\n",
              "      <td>571</td>\n",
              "      <td>610</td>\n",
              "      <td>0.059457</td>\n",
              "    </tr>\n",
              "    <tr>\n",
              "      <th>15</th>\n",
              "      <td>15</td>\n",
              "      <td>-0.039881</td>\n",
              "      <td>5</td>\n",
              "      <td>2018</td>\n",
              "      <td>0.063583</td>\n",
              "      <td>125</td>\n",
              "      <td>130</td>\n",
              "      <td>0.059604</td>\n",
              "    </tr>\n",
              "    <tr>\n",
              "      <th>21</th>\n",
              "      <td>22</td>\n",
              "      <td>0.101938</td>\n",
              "      <td>69</td>\n",
              "      <td>2018</td>\n",
              "      <td>0.074747</td>\n",
              "      <td>1076</td>\n",
              "      <td>1145</td>\n",
              "      <td>0.076385</td>\n",
              "    </tr>\n",
              "    <tr>\n",
              "      <th>30</th>\n",
              "      <td>3</td>\n",
              "      <td>0.205471</td>\n",
              "      <td>36</td>\n",
              "      <td>2019</td>\n",
              "      <td>0.084408</td>\n",
              "      <td>913</td>\n",
              "      <td>949</td>\n",
              "      <td>0.089000</td>\n",
              "    </tr>\n",
              "    <tr>\n",
              "      <th>42</th>\n",
              "      <td>15</td>\n",
              "      <td>0.129111</td>\n",
              "      <td>49</td>\n",
              "      <td>2019</td>\n",
              "      <td>0.039470</td>\n",
              "      <td>281</td>\n",
              "      <td>330</td>\n",
              "      <td>0.052780</td>\n",
              "    </tr>\n",
              "    <tr>\n",
              "      <th>49</th>\n",
              "      <td>22</td>\n",
              "      <td>0.101389</td>\n",
              "      <td>60</td>\n",
              "      <td>2019</td>\n",
              "      <td>0.084081</td>\n",
              "      <td>1335</td>\n",
              "      <td>1395</td>\n",
              "      <td>0.084826</td>\n",
              "    </tr>\n",
              "    <tr>\n",
              "      <th>58</th>\n",
              "      <td>3</td>\n",
              "      <td>0.138892</td>\n",
              "      <td>209</td>\n",
              "      <td>2020</td>\n",
              "      <td>0.085211</td>\n",
              "      <td>1612</td>\n",
              "      <td>1821</td>\n",
              "      <td>0.091372</td>\n",
              "    </tr>\n",
              "    <tr>\n",
              "      <th>70</th>\n",
              "      <td>15</td>\n",
              "      <td>0.130925</td>\n",
              "      <td>139</td>\n",
              "      <td>2020</td>\n",
              "      <td>0.121767</td>\n",
              "      <td>316</td>\n",
              "      <td>455</td>\n",
              "      <td>0.124565</td>\n",
              "    </tr>\n",
              "    <tr>\n",
              "      <th>77</th>\n",
              "      <td>22</td>\n",
              "      <td>0.108888</td>\n",
              "      <td>242</td>\n",
              "      <td>2020</td>\n",
              "      <td>0.056494</td>\n",
              "      <td>3104</td>\n",
              "      <td>3346</td>\n",
              "      <td>0.060284</td>\n",
              "    </tr>\n",
              "    <tr>\n",
              "      <th>86</th>\n",
              "      <td>3</td>\n",
              "      <td>0.134385</td>\n",
              "      <td>54</td>\n",
              "      <td>2021</td>\n",
              "      <td>0.113866</td>\n",
              "      <td>403</td>\n",
              "      <td>457</td>\n",
              "      <td>0.116291</td>\n",
              "    </tr>\n",
              "    <tr>\n",
              "      <th>98</th>\n",
              "      <td>15</td>\n",
              "      <td>0.123035</td>\n",
              "      <td>14</td>\n",
              "      <td>2021</td>\n",
              "      <td>0.049513</td>\n",
              "      <td>67</td>\n",
              "      <td>81</td>\n",
              "      <td>0.062220</td>\n",
              "    </tr>\n",
              "    <tr>\n",
              "      <th>105</th>\n",
              "      <td>22</td>\n",
              "      <td>0.127338</td>\n",
              "      <td>43</td>\n",
              "      <td>2021</td>\n",
              "      <td>0.065342</td>\n",
              "      <td>823</td>\n",
              "      <td>866</td>\n",
              "      <td>0.068421</td>\n",
              "    </tr>\n",
              "  </tbody>\n",
              "</table>\n",
              "</div>"
            ],
            "text/plain": [
              "     district_num  hwz_sentiment  ...  total_count  weighted_sentiment\n",
              "3               3       0.123678  ...          610            0.059457\n",
              "15             15      -0.039881  ...          130            0.059604\n",
              "21             22       0.101938  ...         1145            0.076385\n",
              "30              3       0.205471  ...          949            0.089000\n",
              "42             15       0.129111  ...          330            0.052780\n",
              "49             22       0.101389  ...         1395            0.084826\n",
              "58              3       0.138892  ...         1821            0.091372\n",
              "70             15       0.130925  ...          455            0.124565\n",
              "77             22       0.108888  ...         3346            0.060284\n",
              "86              3       0.134385  ...          457            0.116291\n",
              "98             15       0.123035  ...           81            0.062220\n",
              "105            22       0.127338  ...          866            0.068421\n",
              "\n",
              "[12 rows x 8 columns]"
            ]
          },
          "metadata": {
            "tags": []
          },
          "execution_count": 3
        }
      ]
    },
    {
      "cell_type": "code",
      "metadata": {
        "colab": {
          "base_uri": "https://localhost:8080/",
          "height": 642
        },
        "id": "JTOzMRE8-7Uz",
        "outputId": "ca7a3f4b-365a-42f8-c4cd-7dc54770f5f2"
      },
      "source": [
        "fig, ax = plt.subplots(figsize=(20, 10))\n",
        "plt.rcParams[\"figure.figsize\"] = (20,10)\n",
        "ax.set_ylim(-1,1)\n",
        "\n",
        "for i in trends_3_district.district_num.unique():\n",
        "    trends_3_district[trends_3_district['district_num']==i].plot.line(x='year', y='weighted_sentiment', ax=ax, label='id = %s'%i)\n",
        "plt.xticks(np.unique(trends_3_district.year),rotation=45)    \n",
        "print(\"\")"
      ],
      "execution_count": null,
      "outputs": [
        {
          "output_type": "stream",
          "text": [
            "\n"
          ],
          "name": "stdout"
        },
        {
          "output_type": "display_data",
          "data": {
            "image/png": "[encoded data removed]",
            "text/plain": [
              "<Figure size 1440x720 with 1 Axes>"
            ]
          },
          "metadata": {
            "tags": [],
            "needs_background": "light"
          }
        }
      ]
    },
    {
      "cell_type": "code",
      "metadata": {
        "colab": {
          "base_uri": "https://localhost:8080/",
          "height": 638
        },
        "id": "bx-hsjMYAd4f",
        "outputId": "05997d69-eea1-4643-842f-945c958e4342"
      },
      "source": [
        "fig, ax = plt.subplots(figsize=(20, 10))\n",
        "plt.rcParams[\"figure.figsize\"] = (20,10)\n",
        "# ax.set_ylim(-1,1)\n",
        "\n",
        "for i in trends_3_district.district_num.unique():\n",
        "    trends_3_district[trends_3_district['district_num']==i].plot.line(x='year', y='weighted_sentiment', ax=ax, label='id = %s'%i)\n",
        "plt.xticks(np.unique(trends_3_district.year),rotation=45)    \n",
        "print(\"\")"
      ],
      "execution_count": null,
      "outputs": [
        {
          "output_type": "stream",
          "text": [
            "\n"
          ],
          "name": "stdout"
        },
        {
          "output_type": "display_data",
          "data": {
            "image/png": "[encoded data removed]",
            "text/plain": [
              "<Figure size 1440x720 with 1 Axes>"
            ]
          },
          "metadata": {
            "tags": [],
            "needs_background": "light"
          }
        }
      ]
    },
    {
      "cell_type": "code",
      "metadata": {
        "colab": {
          "base_uri": "https://localhost:8080/",
          "height": 642
        },
        "id": "SMbRkKjPALqZ",
        "outputId": "01e49527-973f-431b-b361-b4fdefd5baf6"
      },
      "source": [
        "fig, ax = plt.subplots(figsize=(20, 10))\n",
        "plt.rcParams[\"figure.figsize\"] = (20,10)\n",
        "ax.set_ylim(-1,1)\n",
        "for i in combined_sentiment.district_num.unique():\n",
        "    combined_sentiment[combined_sentiment['district_num']==i].plot.line(x='year', y='weighted_sentiment', ax=ax, label='id = %s'%i)\n",
        "plt.xticks(np.unique(combined_sentiment.year),rotation=45)    \n",
        "plt.legend(loc='center left', bbox_to_anchor=(1.0, 0.5))\n",
        "print(\"\")"
      ],
      "execution_count": null,
      "outputs": [
        {
          "output_type": "stream",
          "text": [
            "\n"
          ],
          "name": "stdout"
        },
        {
          "output_type": "display_data",
          "data": {
            "image/png": "[encoded data removed]",
            "text/plain": [
              "<Figure size 1440x720 with 1 Axes>"
            ]
          },
          "metadata": {
            "tags": [],
            "needs_background": "light"
          }
        }
      ]
    },
    {
      "cell_type": "code",
      "metadata": {
        "colab": {
          "base_uri": "https://localhost:8080/",
          "height": 638
        },
        "id": "FFYvLRkrAZDk",
        "outputId": "5819c154-d009-42f0-ae3d-f30206f3be32"
      },
      "source": [
        "fig, ax = plt.subplots(figsize=(20, 10))\n",
        "plt.rcParams[\"figure.figsize\"] = (20,10)\n",
        "# ax.set_ylim(-1,1)\n",
        "for i in combined_sentiment.district_num.unique():\n",
        "    combined_sentiment[combined_sentiment['district_num']==i].plot.line(x='year', y='weighted_sentiment', ax=ax, label='id = %s'%i)\n",
        "plt.xticks(np.unique(combined_sentiment.year),rotation=45)    \n",
        "plt.legend(loc='center left', bbox_to_anchor=(1.0, 0.5))\n",
        "print(\"\")"
      ],
      "execution_count": null,
      "outputs": [
        {
          "output_type": "stream",
          "text": [
            "\n"
          ],
          "name": "stdout"
        },
        {
          "output_type": "display_data",
          "data": {
            "image/png": "[encoded data removed]",
            "text/plain": [
              "<Figure size 1440x720 with 1 Axes>"
            ]
          },
          "metadata": {
            "tags": [],
            "needs_background": "light"
          }
        }
      ]
    },
    {
      "cell_type": "code",
      "metadata": {
        "id": "_-SmprP4AaWL"
      },
      "source": [
        ""
      ],
      "execution_count": null,
      "outputs": []
    }
  ]
}